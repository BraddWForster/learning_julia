{
 "cells": [
  {
   "cell_type": "markdown",
   "id": "46bed14d-902b-4e6e-aabc-c0c51975a893",
   "metadata": {},
   "source": [
    "# Lesson 7\n",
    "## General purpose packages\n",
    "\n",
    "Here are a few libraries that are particularly useful for quantitative economics."
   ]
  },
  {
   "cell_type": "code",
   "execution_count": 2,
   "id": "054014a8-0f57-49c1-900f-c2863db502f3",
   "metadata": {},
   "outputs": [],
   "source": [
    "using LinearAlgebra, Statistics\n",
    "using QuadGK, FastGaussQuadrature, Distributions, Expectations\n",
    "using Interpolations, Plots, ProgressMeter"
   ]
  },
  {
   "cell_type": "markdown",
   "id": "074b29f3-bfc9-44d6-9224-4c1fc28448d9",
   "metadata": {},
   "source": [
    "### Numerical integration\n",
    "#### Adaptive quadrature"
   ]
  },
  {
   "cell_type": "code",
   "execution_count": 8,
   "id": "422e0bd8-4139-46e1-b050-b026dd6da137",
   "metadata": {},
   "outputs": [
    {
     "name": "stdout",
     "output_type": "stream",
     "text": [
      "(val, tol) = quadgk(cos, -2π, 2π) = (-1.8403051655192592e-17, 1.0683776742236108e-23)\n"
     ]
    }
   ],
   "source": [
    "using QuadGK\n",
    "\n",
    "@show val, tol = quadgk(cos, -2π, 2π); # adaptive Gauss-Kronrod integration technique"
   ]
  },
  {
   "cell_type": "markdown",
   "id": "6386c3d3-415e-493f-8417-d3afcac3df25",
   "metadata": {},
   "source": [
    "#### Gausian quadrature"
   ]
  },
  {
   "cell_type": "code",
   "execution_count": 11,
   "id": "5a952a75-9ac6-4c77-930f-35128adb96ac",
   "metadata": {},
   "outputs": [
    {
     "name": "stdout",
     "output_type": "stream",
     "text": [
      "w ⋅ f.(x) = 0.6666666666666667\n"
     ]
    }
   ],
   "source": [
    "using FastGaussQuadrature\n",
    "x, w = gausslegendre(100_000);  # find 100,000 nodes\n",
    "\n",
    "# integrates f(x) = x^2 from -1 to 1\n",
    "f(x) = x^2\n",
    "@show w ⋅ f.(x);  # calculates the integral"
   ]
  },
  {
   "cell_type": "markdown",
   "id": "2212f516-0be1-4167-9e16-cb88a09cce65",
   "metadata": {},
   "source": [
    "#### Expectations\n",
    "If the calculations of the numerical integral is simply for calculating the mathmatical expectations of a distribution."
   ]
  },
  {
   "cell_type": "code",
   "execution_count": 15,
   "id": "799e633b-f859-408f-a316-8a1b87db9eff",
   "metadata": {},
   "outputs": [
    {
     "name": "stdout",
     "output_type": "stream",
     "text": [
      "E(f) = -5.028942338420413e-18\n"
     ]
    },
    {
     "data": {
      "text/plain": [
       "true"
      ]
     },
     "execution_count": 15,
     "metadata": {},
     "output_type": "execute_result"
    }
   ],
   "source": [
    "using Distributions, Expectations\n",
    "dist = Normal()\n",
    "E = expectation(dist)\n",
    "f(x) = x\n",
    "@show E(f) #i.e. identity\n",
    "\n",
    "# Or using as a linear operator\n",
    "f(x) = x^2\n",
    "x = nodes(E)\n",
    "w = weights(E)\n",
    "E * f.(x) == f.(x) ⋅ w"
   ]
  },
  {
   "cell_type": "markdown",
   "id": "03747741-e488-47b5-be9e-7a69cee29725",
   "metadata": {},
   "source": [
    "#### Interpolations\n",
    "In economics, we often want to interpolate discrete data (e.g., build continuous functions that join discrete sequences of points).\n",
    "##### Univariate with a regular grid"
   ]
  },
  {
   "cell_type": "code",
   "execution_count": 22,
   "id": "f22551c8-29c7-4ae8-909f-37141643dfcb",
   "metadata": {},
   "outputs": [
    {
     "data": {
      "text/plain": [
       "7"
      ]
     },
     "execution_count": 22,
     "metadata": {},
     "output_type": "execute_result"
    }
   ],
   "source": [
    "using Interpolations, Plots\n",
    "x = -7:7\n",
    "# not finished"
   ]
  },
  {
   "cell_type": "code",
   "execution_count": null,
   "id": "56178993-3220-48c7-837e-58df959f8f21",
   "metadata": {},
   "outputs": [],
   "source": []
  }
 ],
 "metadata": {
  "kernelspec": {
   "display_name": "Julia 1.10.4",
   "language": "julia",
   "name": "julia-1.10"
  },
  "language_info": {
   "file_extension": ".jl",
   "mimetype": "application/julia",
   "name": "julia",
   "version": "1.10.4"
  }
 },
 "nbformat": 4,
 "nbformat_minor": 5
}
