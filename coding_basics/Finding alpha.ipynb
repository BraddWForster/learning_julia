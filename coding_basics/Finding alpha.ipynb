{
 "cells": [
  {
   "cell_type": "code",
   "execution_count": 5,
   "id": "d44dc14d-309f-44e2-bdd9-2f8e03fc12f5",
   "metadata": {},
   "outputs": [],
   "source": [
    "## Loading in the packages\n",
    "using LinearAlgebra, Statistics, Distributions, Plots, LaTeXStrings"
   ]
  },
  {
   "cell_type": "code",
   "execution_count": 70,
   "id": "1b281f42-257b-47e2-8a21-c714ab99b18e",
   "metadata": {},
   "outputs": [
    {
     "data": {
      "text/plain": [
       "solve_alpha (generic function with 1 method)"
      ]
     },
     "execution_count": 70,
     "metadata": {},
     "output_type": "execute_result"
    }
   ],
   "source": [
    "function solve_alpha(N, Goal, Step, Tolerance, Max)\n",
    "    α_old = 0.5\n",
    "    Y = zeros(N)\n",
    "    iter = 1\n",
    "    diff = Inf\n",
    "    Share = 0.0\n",
    "    \n",
    "    while diff > Tolerance && iter <= Max\n",
    "        α = α_old + Step\n",
    "        \n",
    "        Y = rand(Pareto(α), N)\n",
    "        \n",
    "        Y = sort(Y, rev=true)\n",
    "        \n",
    "        Share = sum(Y[1:3]) / sum(Y)\n",
    "\n",
    "        diff = abs(Share - Goal)\n",
    "        \n",
    "        α_old = α\n",
    "        \n",
    "        iter += 1  # Use integer for iteration counting\n",
    "    end\n",
    "    \n",
    "    return (α_old, diff, iter, Share)\n",
    "end"
   ]
  },
  {
   "cell_type": "code",
   "execution_count": 73,
   "id": "54da1f31-3b34-464e-adac-2fad0fc280d5",
   "metadata": {},
   "outputs": [
    {
     "ename": "LoadError",
     "evalue": "UndefVarError: `α_old` not defined",
     "output_type": "error",
     "traceback": [
      "UndefVarError: `α_old` not defined",
      ""
     ]
    }
   ],
   "source": [
    "solve_alpha(1000000,0.55, 0.00001,0.0001,1000000)\n",
    "α_old"
   ]
  },
  {
   "cell_type": "code",
   "execution_count": null,
   "id": "6d12d5fd-adda-4975-be19-b4b73fb4ec2c",
   "metadata": {},
   "outputs": [],
   "source": []
  }
 ],
 "metadata": {
  "kernelspec": {
   "display_name": "Julia 1.10.4",
   "language": "julia",
   "name": "julia-1.10"
  },
  "language_info": {
   "file_extension": ".jl",
   "mimetype": "application/julia",
   "name": "julia",
   "version": "1.10.4"
  }
 },
 "nbformat": 4,
 "nbformat_minor": 5
}
