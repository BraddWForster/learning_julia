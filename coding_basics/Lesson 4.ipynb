{
 "cells": [
  {
   "cell_type": "code",
   "execution_count": 2,
   "id": "634c51a8-2e43-42fb-93e9-2b3e876130ba",
   "metadata": {},
   "outputs": [],
   "source": [
    "using LinearAlgebra, Statistics"
   ]
  },
  {
   "cell_type": "code",
   "execution_count": 2,
   "id": "2f4ea833-38cb-4167-9c10-e6457a940ff3",
   "metadata": {},
   "outputs": [
    {
     "data": {
      "text/plain": [
       "3-element Vector{Int64}:\n",
       " 10\n",
       " 20\n",
       " 30"
      ]
     },
     "execution_count": 2,
     "metadata": {},
     "output_type": "execute_result"
    }
   ],
   "source": [
    "a = [10, 20, 30]"
   ]
  },
  {
   "cell_type": "code",
   "execution_count": 3,
   "id": "7367c1c0-155d-43d6-bc71-50511ce2d717",
   "metadata": {},
   "outputs": [
    {
     "data": {
      "text/plain": [
       "3-element Vector{Float64}:\n",
       " 1.0\n",
       " 2.0\n",
       " 3.0"
      ]
     },
     "execution_count": 3,
     "metadata": {},
     "output_type": "execute_result"
    }
   ],
   "source": [
    "a = [1.0, 2.0, 3.0]"
   ]
  },
  {
   "cell_type": "code",
   "execution_count": 8,
   "id": "380b2941-2c31-434f-a09c-e65050434cc0",
   "metadata": {},
   "outputs": [
    {
     "data": {
      "text/plain": [
       "Vector{Float64}\u001b[90m (alias for \u001b[39m\u001b[90mArray{Float64, 1}\u001b[39m\u001b[90m)\u001b[39m"
      ]
     },
     "execution_count": 8,
     "metadata": {},
     "output_type": "execute_result"
    }
   ],
   "source": [
    "typeof(randn(100))"
   ]
  },
  {
   "cell_type": "code",
   "execution_count": 9,
   "id": "b062a557-fa66-4d22-afd3-51899426569a",
   "metadata": {},
   "outputs": [
    {
     "data": {
      "text/plain": [
       "1"
      ]
     },
     "execution_count": 9,
     "metadata": {},
     "output_type": "execute_result"
    }
   ],
   "source": [
    "ndims(a)"
   ]
  },
  {
   "cell_type": "code",
   "execution_count": 10,
   "id": "afe47b72-cbe8-4bf0-aae3-5c1a9685533a",
   "metadata": {},
   "outputs": [
    {
     "data": {
      "text/plain": [
       "(3,)"
      ]
     },
     "execution_count": 10,
     "metadata": {},
     "output_type": "execute_result"
    }
   ],
   "source": [
    "size(a)"
   ]
  },
  {
   "cell_type": "code",
   "execution_count": 12,
   "id": "eaa19609-4893-44e9-83b3-6a505ef12cf3",
   "metadata": {},
   "outputs": [
    {
     "data": {
      "text/plain": [
       "true"
      ]
     },
     "execution_count": 12,
     "metadata": {},
     "output_type": "execute_result"
    }
   ],
   "source": [
    "[1, 2, 3] == [1; 2; 3] ## both column vectors"
   ]
  },
  {
   "cell_type": "code",
   "execution_count": 13,
   "id": "02e31558-d022-4c89-9974-a72540575187",
   "metadata": {},
   "outputs": [
    {
     "data": {
      "text/plain": [
       "1×3 Matrix{Int64}:\n",
       " 1  2  3"
      ]
     },
     "execution_count": 13,
     "metadata": {},
     "output_type": "execute_result"
    }
   ],
   "source": [
    "[1 2 3]"
   ]
  },
  {
   "cell_type": "code",
   "execution_count": 17,
   "id": "fe46d07d-f6bb-412d-b0f1-da08f034089e",
   "metadata": {},
   "outputs": [
    {
     "data": {
      "text/plain": [
       "1-element Vector{Int64}:\n",
       " 14"
      ]
     },
     "execution_count": 17,
     "metadata": {},
     "output_type": "execute_result"
    }
   ],
   "source": [
    "[1 2 3] * [1, 2, 3] ## some matrix algebra"
   ]
  },
  {
   "cell_type": "code",
   "execution_count": 18,
   "id": "f3d66f48-eba8-4b4b-845f-951cdd8fe9c5",
   "metadata": {},
   "outputs": [
    {
     "data": {
      "text/plain": [
       "3-element Vector{Float64}:\n",
       " 0.0\n",
       " 0.0\n",
       " 0.0"
      ]
     },
     "execution_count": 18,
     "metadata": {},
     "output_type": "execute_result"
    }
   ],
   "source": [
    "zeros(3)"
   ]
  },
  {
   "cell_type": "code",
   "execution_count": 20,
   "id": "74b80e0f-7070-4038-bff7-bd97ea0a907b",
   "metadata": {},
   "outputs": [
    {
     "data": {
      "text/plain": [
       "2×2 Matrix{Float64}:\n",
       " 0.0  0.0\n",
       " 0.0  0.0"
      ]
     },
     "execution_count": 20,
     "metadata": {},
     "output_type": "execute_result"
    }
   ],
   "source": [
    "zeros(2,2) ## The zeros command can make a matrix"
   ]
  },
  {
   "cell_type": "code",
   "execution_count": 22,
   "id": "859a385f-1d1c-43c7-897e-51394d062b55",
   "metadata": {},
   "outputs": [
    {
     "data": {
      "text/plain": [
       "2×2 Matrix{Float64}:\n",
       " 5.0  5.0\n",
       " 5.0  5.0"
      ]
     },
     "execution_count": 22,
     "metadata": {},
     "output_type": "execute_result"
    }
   ],
   "source": [
    "fill(5.0, 2, 2) ## to make an array filled with a single value (5.0 in this case)"
   ]
  },
  {
   "cell_type": "code",
   "execution_count": 24,
   "id": "cb960d69-2092-454d-9553-07723898837a",
   "metadata": {},
   "outputs": [
    {
     "data": {
      "text/plain": [
       "2×2 Matrix{Float64}:\n",
       " 6.36599e-314  0.0\n",
       " 4.24399e-314  6.95293e-310"
      ]
     },
     "execution_count": 24,
     "metadata": {},
     "output_type": "execute_result"
    }
   ],
   "source": [
    "x = Array{Float64}(undef, 2, 2) ## you can create an empty array using the 'Array' constructor"
   ]
  },
  {
   "cell_type": "code",
   "execution_count": 3,
   "id": "65707eff-25ed-4a93-979b-81a136bb3482",
   "metadata": {},
   "outputs": [
    {
     "data": {
      "text/plain": [
       "2×2 Matrix{Int64}:\n",
       " 0  0\n",
       " 0  0"
      ]
     },
     "execution_count": 3,
     "metadata": {},
     "output_type": "execute_result"
    }
   ],
   "source": [
    "fill(0,2,2) ## Intuitively its a 2 by 2 matrix"
   ]
  },
  {
   "cell_type": "code",
   "execution_count": 7,
   "id": "1d08d810-ee82-41e8-a582-459518bb43c4",
   "metadata": {},
   "outputs": [
    {
     "data": {
      "text/plain": [
       "2×2 Matrix{Bool}:\n",
       " 0  0\n",
       " 0  0"
      ]
     },
     "execution_count": 7,
     "metadata": {},
     "output_type": "execute_result"
    }
   ],
   "source": [
    "fill(false, 2, 2) ## can fill the matrix with boolean (false is 0)"
   ]
  },
  {
   "cell_type": "code",
   "execution_count": 18,
   "id": "49617f17-f047-481d-ad73-0da2c0cb38ab",
   "metadata": {},
   "outputs": [
    {
     "data": {
      "text/plain": [
       "2"
      ]
     },
     "execution_count": 18,
     "metadata": {},
     "output_type": "execute_result"
    }
   ],
   "source": [
    "x = [1, 2, 3] \n",
    "y = x ## y = x simply creates a new named binding called y which refers to whatever x currently binds to.\n",
    "y[2]"
   ]
  },
  {
   "cell_type": "code",
   "execution_count": 21,
   "id": "40a8cc4b-4006-4e6d-a2b5-90db699e34fb",
   "metadata": {},
   "outputs": [
    {
     "data": {
      "text/plain": [
       "3-element Vector{Int64}:\n",
       " 1\n",
       " 2\n",
       " 3"
      ]
     },
     "execution_count": 21,
     "metadata": {},
     "output_type": "execute_result"
    }
   ],
   "source": [
    "## To copy the data you need to be more explicit.\n",
    "##\n",
    "x = [1, 2, 3]\n",
    "y = copy(x)\n",
    "y[1]\n",
    "x"
   ]
  },
  {
   "cell_type": "code",
   "execution_count": 24,
   "id": "48bcff15-92c7-4e61-a0c4-63684533d749",
   "metadata": {},
   "outputs": [
    {
     "name": "stdout",
     "output_type": "stream",
     "text": [
      "x = [1, 2, 3]\n"
     ]
    },
    {
     "data": {
      "text/plain": [
       "3-element Vector{Int64}:\n",
       " 1\n",
       " 2\n",
       " 3"
      ]
     },
     "execution_count": 24,
     "metadata": {},
     "output_type": "execute_result"
    }
   ],
   "source": [
    "x = [1, 2, 3]\n",
    "y = similar(x)\n",
    "@show x"
   ]
  },
  {
   "cell_type": "code",
   "execution_count": 25,
   "id": "9095fa89-207a-4f77-a39a-9d97b6a23f2b",
   "metadata": {},
   "outputs": [
    {
     "data": {
      "text/plain": [
       "4-element Vector{Int64}:\n",
       "             1\n",
       "             3\n",
       " 1749299514192\n",
       " 1749299514256"
      ]
     },
     "execution_count": 25,
     "metadata": {},
     "output_type": "execute_result"
    }
   ],
   "source": [
    "x = [1, 2, 3]\n",
    "y = similar(x, 4) ## make a vector of length 4"
   ]
  },
  {
   "cell_type": "code",
   "execution_count": 26,
   "id": "16bec1bd-9572-4292-8277-0a5ac94176c6",
   "metadata": {},
   "outputs": [
    {
     "data": {
      "text/plain": [
       "2×2 Matrix{Int64}:\n",
       "         285212672  1099511628033\n",
       " 72339073326448640  1749244379144"
      ]
     },
     "execution_count": 26,
     "metadata": {},
     "output_type": "execute_result"
    }
   ],
   "source": [
    "x = [1, 2, 3]\n",
    "y = similar(x, 2, 2)"
   ]
  },
  {
   "cell_type": "code",
   "execution_count": 27,
   "id": "a0a25888-4a1b-47e7-be45-9459afd2aa53",
   "metadata": {},
   "outputs": [
    {
     "data": {
      "text/plain": [
       "4-element Vector{Int64}:\n",
       " 10\n",
       " 20\n",
       " 30\n",
       " 40"
      ]
     },
     "execution_count": 27,
     "metadata": {},
     "output_type": "execute_result"
    }
   ],
   "source": [
    "a = [10, 20, 30, 40]"
   ]
  },
  {
   "cell_type": "code",
   "execution_count": 28,
   "id": "7b05582a-07b6-472c-8b80-cda57395546c",
   "metadata": {},
   "outputs": [
    {
     "data": {
      "text/plain": [
       "1"
      ]
     },
     "execution_count": 28,
     "metadata": {},
     "output_type": "execute_result"
    }
   ],
   "source": [
    "ndims(a)"
   ]
  },
  {
   "cell_type": "code",
   "execution_count": null,
   "id": "5d4d6c6f-5f03-458e-b65a-24b41be577ba",
   "metadata": {},
   "outputs": [],
   "source": []
  }
 ],
 "metadata": {
  "kernelspec": {
   "display_name": "Julia 1.10.4",
   "language": "julia",
   "name": "julia-1.10"
  },
  "language_info": {
   "file_extension": ".jl",
   "mimetype": "application/julia",
   "name": "julia",
   "version": "1.10.4"
  }
 },
 "nbformat": 4,
 "nbformat_minor": 5
}
