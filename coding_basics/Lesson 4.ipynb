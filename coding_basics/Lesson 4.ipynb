{
 "cells": [
  {
   "cell_type": "code",
   "execution_count": 1,
   "id": "634c51a8-2e43-42fb-93e9-2b3e876130ba",
   "metadata": {},
   "outputs": [],
   "source": [
    "using LinearAlgebra, Statistics"
   ]
  },
  {
   "cell_type": "code",
   "execution_count": 2,
   "id": "2f4ea833-38cb-4167-9c10-e6457a940ff3",
   "metadata": {},
   "outputs": [
    {
     "data": {
      "text/plain": [
       "3-element Vector{Int64}:\n",
       " 10\n",
       " 20\n",
       " 30"
      ]
     },
     "execution_count": 2,
     "metadata": {},
     "output_type": "execute_result"
    }
   ],
   "source": [
    "a = [10, 20, 30]"
   ]
  },
  {
   "cell_type": "code",
   "execution_count": 3,
   "id": "7367c1c0-155d-43d6-bc71-50511ce2d717",
   "metadata": {},
   "outputs": [
    {
     "data": {
      "text/plain": [
       "3-element Vector{Float64}:\n",
       " 1.0\n",
       " 2.0\n",
       " 3.0"
      ]
     },
     "execution_count": 3,
     "metadata": {},
     "output_type": "execute_result"
    }
   ],
   "source": [
    "a = [1.0, 2.0, 3.0]"
   ]
  },
  {
   "cell_type": "code",
   "execution_count": 4,
   "id": "380b2941-2c31-434f-a09c-e65050434cc0",
   "metadata": {},
   "outputs": [
    {
     "data": {
      "text/plain": [
       "Vector{Float64}\u001b[90m (alias for \u001b[39m\u001b[90mArray{Float64, 1}\u001b[39m\u001b[90m)\u001b[39m"
      ]
     },
     "execution_count": 4,
     "metadata": {},
     "output_type": "execute_result"
    }
   ],
   "source": [
    "typeof(randn(100))"
   ]
  },
  {
   "cell_type": "code",
   "execution_count": 5,
   "id": "b062a557-fa66-4d22-afd3-51899426569a",
   "metadata": {},
   "outputs": [
    {
     "data": {
      "text/plain": [
       "1"
      ]
     },
     "execution_count": 5,
     "metadata": {},
     "output_type": "execute_result"
    }
   ],
   "source": [
    "ndims(a)"
   ]
  },
  {
   "cell_type": "code",
   "execution_count": 6,
   "id": "afe47b72-cbe8-4bf0-aae3-5c1a9685533a",
   "metadata": {},
   "outputs": [
    {
     "data": {
      "text/plain": [
       "(3,)"
      ]
     },
     "execution_count": 6,
     "metadata": {},
     "output_type": "execute_result"
    }
   ],
   "source": [
    "size(a)"
   ]
  },
  {
   "cell_type": "code",
   "execution_count": 7,
   "id": "eaa19609-4893-44e9-83b3-6a505ef12cf3",
   "metadata": {},
   "outputs": [
    {
     "data": {
      "text/plain": [
       "true"
      ]
     },
     "execution_count": 7,
     "metadata": {},
     "output_type": "execute_result"
    }
   ],
   "source": [
    "[1, 2, 3] == [1; 2; 3] ## both column vectors"
   ]
  },
  {
   "cell_type": "code",
   "execution_count": 8,
   "id": "02e31558-d022-4c89-9974-a72540575187",
   "metadata": {},
   "outputs": [
    {
     "data": {
      "text/plain": [
       "1×3 Matrix{Int64}:\n",
       " 1  2  3"
      ]
     },
     "execution_count": 8,
     "metadata": {},
     "output_type": "execute_result"
    }
   ],
   "source": [
    "[1 2 3]"
   ]
  },
  {
   "cell_type": "code",
   "execution_count": 9,
   "id": "fe46d07d-f6bb-412d-b0f1-da08f034089e",
   "metadata": {},
   "outputs": [
    {
     "data": {
      "text/plain": [
       "1-element Vector{Int64}:\n",
       " 14"
      ]
     },
     "execution_count": 9,
     "metadata": {},
     "output_type": "execute_result"
    }
   ],
   "source": [
    "[1 2 3] * [1, 2, 3] ## some matrix algebra"
   ]
  },
  {
   "cell_type": "code",
   "execution_count": 10,
   "id": "f3d66f48-eba8-4b4b-845f-951cdd8fe9c5",
   "metadata": {},
   "outputs": [
    {
     "data": {
      "text/plain": [
       "3-element Vector{Float64}:\n",
       " 0.0\n",
       " 0.0\n",
       " 0.0"
      ]
     },
     "execution_count": 10,
     "metadata": {},
     "output_type": "execute_result"
    }
   ],
   "source": [
    "zeros(3)"
   ]
  },
  {
   "cell_type": "code",
   "execution_count": 11,
   "id": "74b80e0f-7070-4038-bff7-bd97ea0a907b",
   "metadata": {},
   "outputs": [
    {
     "data": {
      "text/plain": [
       "2×2 Matrix{Float64}:\n",
       " 0.0  0.0\n",
       " 0.0  0.0"
      ]
     },
     "execution_count": 11,
     "metadata": {},
     "output_type": "execute_result"
    }
   ],
   "source": [
    "zeros(2,2) ## The zeros command can make a matrix"
   ]
  },
  {
   "cell_type": "code",
   "execution_count": 12,
   "id": "859a385f-1d1c-43c7-897e-51394d062b55",
   "metadata": {},
   "outputs": [
    {
     "data": {
      "text/plain": [
       "2×2 Matrix{Float64}:\n",
       " 5.0  5.0\n",
       " 5.0  5.0"
      ]
     },
     "execution_count": 12,
     "metadata": {},
     "output_type": "execute_result"
    }
   ],
   "source": [
    "fill(5.0, 2, 2) ## to make an array filled with a single value (5.0 in this case)"
   ]
  },
  {
   "cell_type": "code",
   "execution_count": 13,
   "id": "cb960d69-2092-454d-9553-07723898837a",
   "metadata": {},
   "outputs": [
    {
     "data": {
      "text/plain": [
       "2×2 Matrix{Float64}:\n",
       " 5.06e-321     5.43231e-312\n",
       " 7.74682e-304  9.89915e-312"
      ]
     },
     "execution_count": 13,
     "metadata": {},
     "output_type": "execute_result"
    }
   ],
   "source": [
    "x = Array{Float64}(undef, 2, 2) ## you can create an empty array using the 'Array' constructor"
   ]
  },
  {
   "cell_type": "code",
   "execution_count": 14,
   "id": "65707eff-25ed-4a93-979b-81a136bb3482",
   "metadata": {},
   "outputs": [
    {
     "data": {
      "text/plain": [
       "2×2 Matrix{Int64}:\n",
       " 0  0\n",
       " 0  0"
      ]
     },
     "execution_count": 14,
     "metadata": {},
     "output_type": "execute_result"
    }
   ],
   "source": [
    "fill(0,2,2) ## Intuitively its a 2 by 2 matrix"
   ]
  },
  {
   "cell_type": "code",
   "execution_count": 15,
   "id": "1d08d810-ee82-41e8-a582-459518bb43c4",
   "metadata": {},
   "outputs": [
    {
     "data": {
      "text/plain": [
       "2×2 Matrix{Bool}:\n",
       " 0  0\n",
       " 0  0"
      ]
     },
     "execution_count": 15,
     "metadata": {},
     "output_type": "execute_result"
    }
   ],
   "source": [
    "fill(false, 2, 2) ## can fill the matrix with boolean (false is 0)"
   ]
  },
  {
   "cell_type": "code",
   "execution_count": 16,
   "id": "49617f17-f047-481d-ad73-0da2c0cb38ab",
   "metadata": {},
   "outputs": [
    {
     "data": {
      "text/plain": [
       "2"
      ]
     },
     "execution_count": 16,
     "metadata": {},
     "output_type": "execute_result"
    }
   ],
   "source": [
    "x = [1, 2, 3] \n",
    "y = x ## y = x simply creates a new named binding called y which refers to whatever x currently binds to.\n",
    "y[2]"
   ]
  },
  {
   "cell_type": "code",
   "execution_count": 17,
   "id": "40a8cc4b-4006-4e6d-a2b5-90db699e34fb",
   "metadata": {},
   "outputs": [
    {
     "data": {
      "text/plain": [
       "3-element Vector{Int64}:\n",
       " 1\n",
       " 2\n",
       " 3"
      ]
     },
     "execution_count": 17,
     "metadata": {},
     "output_type": "execute_result"
    }
   ],
   "source": [
    "## To copy the data you need to be more explicit.\n",
    "##\n",
    "x = [1, 2, 3]\n",
    "y = copy(x)\n",
    "y[1]\n",
    "x"
   ]
  },
  {
   "cell_type": "code",
   "execution_count": 18,
   "id": "48bcff15-92c7-4e61-a0c4-63684533d749",
   "metadata": {},
   "outputs": [
    {
     "name": "stdout",
     "output_type": "stream",
     "text": [
      "x = [1, 2, 3]\n"
     ]
    },
    {
     "data": {
      "text/plain": [
       "3-element Vector{Int64}:\n",
       " 1\n",
       " 2\n",
       " 3"
      ]
     },
     "execution_count": 18,
     "metadata": {},
     "output_type": "execute_result"
    }
   ],
   "source": [
    "x = [1, 2, 3]\n",
    "y = similar(x)\n",
    "@show x"
   ]
  },
  {
   "cell_type": "code",
   "execution_count": 19,
   "id": "9095fa89-207a-4f77-a39a-9d97b6a23f2b",
   "metadata": {},
   "outputs": [
    {
     "data": {
      "text/plain": [
       "4-element Vector{Int64}:\n",
       " 140726398272480\n",
       " 140726414857664\n",
       " 140726414857664\n",
       " 140726414857664"
      ]
     },
     "execution_count": 19,
     "metadata": {},
     "output_type": "execute_result"
    }
   ],
   "source": [
    "x = [1, 2, 3]\n",
    "y = similar(x, 4) ## make a vector of length 4"
   ]
  },
  {
   "cell_type": "code",
   "execution_count": 20,
   "id": "16bec1bd-9572-4292-8277-0a5ac94176c6",
   "metadata": {},
   "outputs": [
    {
     "data": {
      "text/plain": [
       "2×2 Matrix{Int64}:\n",
       " 4                0\n",
       " 0  140724603453440"
      ]
     },
     "execution_count": 20,
     "metadata": {},
     "output_type": "execute_result"
    }
   ],
   "source": [
    "x = [1, 2, 3]\n",
    "y = similar(x, 2, 2)"
   ]
  },
  {
   "cell_type": "code",
   "execution_count": 21,
   "id": "a0a25888-4a1b-47e7-be45-9459afd2aa53",
   "metadata": {},
   "outputs": [
    {
     "data": {
      "text/plain": [
       "4-element Vector{Int64}:\n",
       " 10\n",
       " 20\n",
       " 30\n",
       " 40"
      ]
     },
     "execution_count": 21,
     "metadata": {},
     "output_type": "execute_result"
    }
   ],
   "source": [
    "a = [10, 20, 30, 40]"
   ]
  },
  {
   "cell_type": "code",
   "execution_count": 22,
   "id": "7b05582a-07b6-472c-8b80-cda57395546c",
   "metadata": {},
   "outputs": [
    {
     "data": {
      "text/plain": [
       "1"
      ]
     },
     "execution_count": 22,
     "metadata": {},
     "output_type": "execute_result"
    }
   ],
   "source": [
    "ndims(a)"
   ]
  },
  {
   "cell_type": "code",
   "execution_count": 23,
   "id": "5d4d6c6f-5f03-458e-b65a-24b41be577ba",
   "metadata": {},
   "outputs": [
    {
     "data": {
      "text/plain": [
       "2×2 Matrix{Int64}:\n",
       " 10  20\n",
       " 30  40"
      ]
     },
     "execution_count": 23,
     "metadata": {},
     "output_type": "execute_result"
    }
   ],
   "source": [
    "a = [10 20; 30 40]"
   ]
  },
  {
   "cell_type": "code",
   "execution_count": 24,
   "id": "57e83724-d4a1-492b-9027-65beae5aef5a",
   "metadata": {},
   "outputs": [
    {
     "data": {
      "text/plain": [
       "4-element Vector{Int64}:\n",
       " 10\n",
       " 20\n",
       " 30\n",
       " 40"
      ]
     },
     "execution_count": 24,
     "metadata": {},
     "output_type": "execute_result"
    }
   ],
   "source": [
    "a = [10; 20; 30; 40]"
   ]
  },
  {
   "cell_type": "code",
   "execution_count": 25,
   "id": "69c61aa7-2701-401d-b2b7-bb6986dd4eef",
   "metadata": {},
   "outputs": [
    {
     "data": {
      "text/plain": [
       "1"
      ]
     },
     "execution_count": 25,
     "metadata": {},
     "output_type": "execute_result"
    }
   ],
   "source": [
    "ndims(a)"
   ]
  },
  {
   "cell_type": "code",
   "execution_count": 26,
   "id": "21cceb23-01a2-4d24-8d80-5de5d8504960",
   "metadata": {},
   "outputs": [
    {
     "data": {
      "text/plain": [
       "2×2 adjoint(::Matrix{Int64}) with eltype Int64:\n",
       " 10  30\n",
       " 20  40"
      ]
     },
     "execution_count": 26,
     "metadata": {},
     "output_type": "execute_result"
    }
   ],
   "source": [
    "a = [10 20; 30 40]'"
   ]
  },
  {
   "cell_type": "code",
   "execution_count": 27,
   "id": "536ff1b6-0316-457a-8dd8-471cf61d0d48",
   "metadata": {},
   "outputs": [
    {
     "data": {
      "text/plain": [
       "2"
      ]
     },
     "execution_count": 27,
     "metadata": {},
     "output_type": "execute_result"
    }
   ],
   "source": [
    "ndims(a)"
   ]
  },
  {
   "cell_type": "code",
   "execution_count": 28,
   "id": "44873845-8cac-4347-af57-b3a0219fa479",
   "metadata": {},
   "outputs": [
    {
     "data": {
      "text/plain": [
       "Adjoint{Int64, Matrix{Int64}}"
      ]
     },
     "execution_count": 28,
     "metadata": {},
     "output_type": "execute_result"
    }
   ],
   "source": [
    "typeof(a)"
   ]
  },
  {
   "cell_type": "code",
   "execution_count": 29,
   "id": "14aa129b-8b27-44c7-b708-d0a5502c5432",
   "metadata": {},
   "outputs": [
    {
     "data": {
      "text/plain": [
       "2-element Vector{Int64}:\n",
       " 1\n",
       " 2"
      ]
     },
     "execution_count": 29,
     "metadata": {},
     "output_type": "execute_result"
    }
   ],
   "source": [
    "[1; 2]"
   ]
  },
  {
   "cell_type": "code",
   "execution_count": 30,
   "id": "eefb41df-949e-4ebc-aeea-9db8e2e685ed",
   "metadata": {},
   "outputs": [
    {
     "data": {
      "text/plain": [
       "2×1 Matrix{Int64}:\n",
       " 1\n",
       " 2"
      ]
     },
     "execution_count": 30,
     "metadata": {},
     "output_type": "execute_result"
    }
   ],
   "source": [
    "[1; 2;;]"
   ]
  },
  {
   "cell_type": "code",
   "execution_count": 31,
   "id": "6671b3a9-1400-459a-8869-e29013129db7",
   "metadata": {},
   "outputs": [
    {
     "data": {
      "text/plain": [
       "2×1×1 Array{Int64, 3}:\n",
       "[:, :, 1] =\n",
       " 1\n",
       " 2"
      ]
     },
     "execution_count": 31,
     "metadata": {},
     "output_type": "execute_result"
    }
   ],
   "source": [
    "[1; 2;;;]"
   ]
  },
  {
   "cell_type": "code",
   "execution_count": 32,
   "id": "5c637b5e-292e-477d-b6e7-45252ef6687c",
   "metadata": {},
   "outputs": [
    {
     "data": {
      "text/plain": [
       "1×1 Matrix{Int64}:\n",
       " 1"
      ]
     },
     "execution_count": 32,
     "metadata": {},
     "output_type": "execute_result"
    }
   ],
   "source": [
    "[1;;]"
   ]
  },
  {
   "cell_type": "code",
   "execution_count": 33,
   "id": "9cd1e239-88f1-4ae1-a29c-bb08e9c27a15",
   "metadata": {},
   "outputs": [
    {
     "data": {
      "text/plain": [
       "2×2×1 Array{Int64, 3}:\n",
       "[:, :, 1] =\n",
       " 1  2\n",
       " 3  4"
      ]
     },
     "execution_count": 33,
     "metadata": {},
     "output_type": "execute_result"
    }
   ],
   "source": [
    "[1 2; 3 4;;;]"
   ]
  },
  {
   "cell_type": "code",
   "execution_count": 34,
   "id": "07fe3421-6381-4fc7-992c-3041821465ec",
   "metadata": {},
   "outputs": [
    {
     "data": {
      "text/plain": [
       "30"
      ]
     },
     "execution_count": 34,
     "metadata": {},
     "output_type": "execute_result"
    }
   ],
   "source": [
    "a = [10 20 30 40]\n",
    "a[end - 1]"
   ]
  },
  {
   "cell_type": "code",
   "execution_count": 35,
   "id": "8afec64f-7a84-40b1-8f7a-d49bfb26ea51",
   "metadata": {},
   "outputs": [
    {
     "data": {
      "text/plain": [
       "2×2 Matrix{Float64}:\n",
       " 0.170338  0.183053\n",
       " 0.918334  0.259887"
      ]
     },
     "execution_count": 35,
     "metadata": {},
     "output_type": "execute_result"
    }
   ],
   "source": [
    "a = rand(2,2)"
   ]
  },
  {
   "cell_type": "code",
   "execution_count": 36,
   "id": "80baac4e-b0ab-4d92-bbc6-5d313ee83d2e",
   "metadata": {},
   "outputs": [
    {
     "data": {
      "text/plain": [
       "0.17033764470775437"
      ]
     },
     "execution_count": 36,
     "metadata": {},
     "output_type": "execute_result"
    }
   ],
   "source": [
    "a[1,1]"
   ]
  },
  {
   "cell_type": "code",
   "execution_count": 37,
   "id": "a5c17b1f-f277-4c2a-8e02-cdb5c1650c78",
   "metadata": {},
   "outputs": [
    {
     "data": {
      "text/plain": [
       "2-element Vector{Float64}:\n",
       " 0.17033764470775437\n",
       " 0.18305287394217806"
      ]
     },
     "execution_count": 37,
     "metadata": {},
     "output_type": "execute_result"
    }
   ],
   "source": [
    "a[1,:]"
   ]
  },
  {
   "cell_type": "code",
   "execution_count": 38,
   "id": "963bc2a3-6461-41e3-b51d-ada4bb3d03cd",
   "metadata": {},
   "outputs": [
    {
     "data": {
      "text/plain": [
       "2-element Vector{Float64}:\n",
       " 0.2974954921266387\n",
       " 0.9896629128546989"
      ]
     },
     "execution_count": 38,
     "metadata": {},
     "output_type": "execute_result"
    }
   ],
   "source": [
    "a = rand(2,2)\n",
    "b = [true false; false true]\n",
    "a[b]"
   ]
  },
  {
   "cell_type": "code",
   "execution_count": 39,
   "id": "d0da3020-653f-442b-9810-f85d03ec7397",
   "metadata": {},
   "outputs": [
    {
     "data": {
      "text/plain": [
       "4-element Vector{Float64}:\n",
       " 0.0\n",
       " 0.0\n",
       " 0.0\n",
       " 0.0"
      ]
     },
     "execution_count": 39,
     "metadata": {},
     "output_type": "execute_result"
    }
   ],
   "source": [
    "a = zeros(4)"
   ]
  },
  {
   "cell_type": "code",
   "execution_count": 40,
   "id": "b3c07ca9-6374-4a39-afa0-b625e27f45da",
   "metadata": {},
   "outputs": [
    {
     "data": {
      "text/plain": [
       "3-element view(::Vector{Float64}, 2:4) with eltype Float64:\n",
       " 42.0\n",
       " 42.0\n",
       " 42.0"
      ]
     },
     "execution_count": 40,
     "metadata": {},
     "output_type": "execute_result"
    }
   ],
   "source": [
    "a[2:end] .= 42"
   ]
  },
  {
   "cell_type": "code",
   "execution_count": 41,
   "id": "e8666353-6bc3-40dc-9b47-3f8747edc888",
   "metadata": {},
   "outputs": [
    {
     "data": {
      "text/plain": [
       "4-element Vector{Float64}:\n",
       "  0.0\n",
       " 42.0\n",
       " 42.0\n",
       " 42.0"
      ]
     },
     "execution_count": 41,
     "metadata": {},
     "output_type": "execute_result"
    }
   ],
   "source": [
    "a"
   ]
  },
  {
   "cell_type": "code",
   "execution_count": 42,
   "id": "66246675-4060-493c-ad4a-b1029ab44051",
   "metadata": {},
   "outputs": [
    {
     "name": "stdout",
     "output_type": "stream",
     "text": [
      "b = [2, 4]\n"
     ]
    },
    {
     "data": {
      "text/plain": [
       "2×2 Matrix{Int64}:\n",
       " 1  4\n",
       " 3  5"
      ]
     },
     "execution_count": 42,
     "metadata": {},
     "output_type": "execute_result"
    }
   ],
   "source": [
    "a = [1 2; 3 4]\n",
    "b = a[:, 2]\n",
    "@show b\n",
    "a[:, 2] = [4, 5]\n",
    "a"
   ]
  },
  {
   "cell_type": "code",
   "execution_count": 43,
   "id": "86b96531-228c-4548-93aa-1785210c912b",
   "metadata": {},
   "outputs": [
    {
     "data": {
      "text/plain": [
       "2×2 Matrix{Int64}:\n",
       " 1  2\n",
       " 3  4"
      ]
     },
     "execution_count": 43,
     "metadata": {},
     "output_type": "execute_result"
    }
   ],
   "source": [
    "a = [1 2; 3 4]"
   ]
  },
  {
   "cell_type": "code",
   "execution_count": 44,
   "id": "f3b25a79-33d2-48a4-820c-db3a807405a8",
   "metadata": {},
   "outputs": [
    {
     "data": {
      "text/plain": [
       "2-element Vector{Int64}:\n",
       " 1\n",
       " 3"
      ]
     },
     "execution_count": 44,
     "metadata": {},
     "output_type": "execute_result"
    }
   ],
   "source": [
    "b = a[:, 1]"
   ]
  },
  {
   "cell_type": "code",
   "execution_count": 45,
   "id": "1ca905e4-e326-4ddc-9e2e-a1eb95b9d173",
   "metadata": {},
   "outputs": [
    {
     "data": {
      "text/plain": [
       "2-element view(::Matrix{Int64}, :, 2) with eltype Int64:\n",
       " 2\n",
       " 4"
      ]
     },
     "execution_count": 45,
     "metadata": {},
     "output_type": "execute_result"
    }
   ],
   "source": [
    "@views b = a[:, 2]"
   ]
  },
  {
   "cell_type": "code",
   "execution_count": 46,
   "id": "9b6220d1-02d5-469b-a6cb-bb903eec91f2",
   "metadata": {},
   "outputs": [
    {
     "data": {
      "text/plain": [
       "true"
      ]
     },
     "execution_count": 46,
     "metadata": {},
     "output_type": "execute_result"
    }
   ],
   "source": [
    "view(a, :, 2) == b"
   ]
  },
  {
   "cell_type": "code",
   "execution_count": 47,
   "id": "30c808bf-0d5c-4faa-bfe0-0dd02a9f5683",
   "metadata": {},
   "outputs": [
    {
     "data": {
      "text/plain": [
       "2×2 Matrix{Int64}:\n",
       " 1  2\n",
       " 3  4"
      ]
     },
     "execution_count": 47,
     "metadata": {},
     "output_type": "execute_result"
    }
   ],
   "source": [
    "a = [1 2; 3 4]"
   ]
  },
  {
   "cell_type": "code",
   "execution_count": 48,
   "id": "97fcdb3c-0735-4aa7-8ff0-7f7550a575e6",
   "metadata": {},
   "outputs": [
    {
     "data": {
      "text/plain": [
       "2-element Vector{Int64}:\n",
       " 2\n",
       " 4"
      ]
     },
     "execution_count": 48,
     "metadata": {},
     "output_type": "execute_result"
    }
   ],
   "source": [
    "b_slice = a[:, 2]"
   ]
  },
  {
   "cell_type": "code",
   "execution_count": 49,
   "id": "5c54d2d4-34c6-4091-8ad9-17cdab12a103",
   "metadata": {},
   "outputs": [
    {
     "data": {
      "text/plain": [
       "Vector{Int64}\u001b[90m (alias for \u001b[39m\u001b[90mArray{Int64, 1}\u001b[39m\u001b[90m)\u001b[39m"
      ]
     },
     "execution_count": 49,
     "metadata": {},
     "output_type": "execute_result"
    }
   ],
   "source": [
    "typeof(b_slice)"
   ]
  },
  {
   "cell_type": "code",
   "execution_count": 50,
   "id": "2f69538d-7aee-4ff5-8279-1eda35fbcea1",
   "metadata": {},
   "outputs": [
    {
     "data": {
      "text/plain": [
       "Matrix{Int64}\u001b[90m (alias for \u001b[39m\u001b[90mArray{Int64, 2}\u001b[39m\u001b[90m)\u001b[39m"
      ]
     },
     "execution_count": 50,
     "metadata": {},
     "output_type": "execute_result"
    }
   ],
   "source": [
    "typeof(a)"
   ]
  },
  {
   "cell_type": "code",
   "execution_count": 51,
   "id": "c7fea77f-eb7c-41a0-98cd-bd6c13fa9c00",
   "metadata": {},
   "outputs": [
    {
     "data": {
      "text/plain": [
       "2-element view(::Matrix{Int64}, :, 2) with eltype Int64:\n",
       " 2\n",
       " 4"
      ]
     },
     "execution_count": 51,
     "metadata": {},
     "output_type": "execute_result"
    }
   ],
   "source": [
    "@views b =  a[:, 2]"
   ]
  },
  {
   "cell_type": "code",
   "execution_count": 52,
   "id": "fa62d112-502e-47b6-b31c-610d47149abc",
   "metadata": {},
   "outputs": [
    {
     "data": {
      "text/plain": [
       "SubArray{Int64, 1, Matrix{Int64}, Tuple{Base.Slice{Base.OneTo{Int64}}, Int64}, true}"
      ]
     },
     "execution_count": 52,
     "metadata": {},
     "output_type": "execute_result"
    }
   ],
   "source": [
    "typeof(b)"
   ]
  },
  {
   "cell_type": "code",
   "execution_count": 53,
   "id": "69ae5a08-5ed7-42f0-9f57-f80a9cd5c768",
   "metadata": {},
   "outputs": [
    {
     "data": {
      "text/plain": [
       "2×2 Matrix{Int64}:\n",
       " 1  2\n",
       " 3  4"
      ]
     },
     "execution_count": 53,
     "metadata": {},
     "output_type": "execute_result"
    }
   ],
   "source": [
    "a = [1 2; 3 4]"
   ]
  },
  {
   "cell_type": "code",
   "execution_count": 54,
   "id": "dfbcd3ff-1414-42c0-a5be-70b41bb88b35",
   "metadata": {},
   "outputs": [
    {
     "data": {
      "text/plain": [
       "2×2 adjoint(::Matrix{Int64}) with eltype Int64:\n",
       " 1  3\n",
       " 2  4"
      ]
     },
     "execution_count": 54,
     "metadata": {},
     "output_type": "execute_result"
    }
   ],
   "source": [
    "b = a'"
   ]
  },
  {
   "cell_type": "code",
   "execution_count": 55,
   "id": "c15989ef-cb19-426d-9141-f0071c8e8ca0",
   "metadata": {},
   "outputs": [
    {
     "data": {
      "text/plain": [
       "Adjoint{Int64, Matrix{Int64}}"
      ]
     },
     "execution_count": 55,
     "metadata": {},
     "output_type": "execute_result"
    }
   ],
   "source": [
    "typeof(b)"
   ]
  },
  {
   "cell_type": "code",
   "execution_count": 56,
   "id": "c0c02b41-e2c6-403c-afa4-274786d47ffa",
   "metadata": {},
   "outputs": [
    {
     "data": {
      "text/plain": [
       "true"
      ]
     },
     "execution_count": 56,
     "metadata": {},
     "output_type": "execute_result"
    }
   ],
   "source": [
    "a = [1 2; 3 4]\n",
    "b = a'\n",
    "c = Matrix(b)\n",
    "d = collect(b)\n",
    "c == d"
   ]
  },
  {
   "cell_type": "code",
   "execution_count": 57,
   "id": "f4ffbe7a-a727-4466-bcdc-5701fbd3d540",
   "metadata": {},
   "outputs": [
    {
     "data": {
      "text/plain": [
       "2×2 Diagonal{Int64, Vector{Int64}}:\n",
       " 1  ⋅\n",
       " ⋅  4"
      ]
     },
     "execution_count": 57,
     "metadata": {},
     "output_type": "execute_result"
    }
   ],
   "source": [
    "d = [1.0 2.0]\n",
    "\n",
    "a = Diagonal(b)"
   ]
  },
  {
   "cell_type": "code",
   "execution_count": 58,
   "id": "dcfe3455-1cde-4289-b2ed-1eb5175f100b",
   "metadata": {},
   "outputs": [
    {
     "name": "stdout",
     "output_type": "stream",
     "text": [
      "2a = [2 0; 0 8]\n"
     ]
    },
    {
     "data": {
      "text/plain": [
       "2×2 Diagonal{Int64, Vector{Int64}}:\n",
       " 2  ⋅\n",
       " ⋅  8"
      ]
     },
     "execution_count": 58,
     "metadata": {},
     "output_type": "execute_result"
    }
   ],
   "source": [
    "@show 2a"
   ]
  },
  {
   "cell_type": "code",
   "execution_count": 59,
   "id": "b8b3240b-c0aa-4dd5-bd4a-18214dc00e6a",
   "metadata": {},
   "outputs": [
    {
     "data": {
      "text/plain": [
       "2×2 Matrix{Float64}:\n",
       " 0.839456  0.879779\n",
       " 0.528639  0.433494"
      ]
     },
     "execution_count": 59,
     "metadata": {},
     "output_type": "execute_result"
    }
   ],
   "source": [
    "b = rand(2, 2)"
   ]
  },
  {
   "cell_type": "code",
   "execution_count": 60,
   "id": "d9acec79-07c4-4914-9401-acb215c65b67",
   "metadata": {},
   "outputs": [
    {
     "name": "stdout",
     "output_type": "stream",
     "text": [
      "b * a = [0.8394564232718079 3.519117630504357; 0.5286391118955891 1.7339761670927385]\n"
     ]
    },
    {
     "data": {
      "text/plain": [
       "2×2 Matrix{Float64}:\n",
       " 0.839456  3.51912\n",
       " 0.528639  1.73398"
      ]
     },
     "execution_count": 60,
     "metadata": {},
     "output_type": "execute_result"
    }
   ],
   "source": [
    "@show b * a"
   ]
  },
  {
   "cell_type": "code",
   "execution_count": 61,
   "id": "1e3aeffa-259c-46e8-8bf2-8f0fc00ea11d",
   "metadata": {},
   "outputs": [
    {
     "data": {
      "text/plain": [
       "2×2 Matrix{Float64}:\n",
       " 0.0  2.0\n",
       " 3.0  3.0"
      ]
     },
     "execution_count": 61,
     "metadata": {},
     "output_type": "execute_result"
    }
   ],
   "source": [
    "b = [1.0 2.0; 3.0 4.0]\n",
    "b - Diagonal([1.0, 1.0])"
   ]
  },
  {
   "cell_type": "code",
   "execution_count": 62,
   "id": "df00ec99-2177-4173-bec1-9e922770716a",
   "metadata": {},
   "outputs": [
    {
     "data": {
      "text/plain": [
       "2×2 Matrix{Float64}:\n",
       " 0.0  2.0\n",
       " 3.0  3.0"
      ]
     },
     "execution_count": 62,
     "metadata": {},
     "output_type": "execute_result"
    }
   ],
   "source": [
    "b = [1.0 2.0; 3.0 4.0]\n",
    "b - I ## I is an identity matrix"
   ]
  },
  {
   "cell_type": "code",
   "execution_count": 63,
   "id": "d2514c78-8ec9-4a7c-8867-d80f43f5727c",
   "metadata": {},
   "outputs": [
    {
     "data": {
      "text/plain": [
       "UniformScaling{Bool}"
      ]
     },
     "execution_count": 63,
     "metadata": {},
     "output_type": "execute_result"
    }
   ],
   "source": [
    "typeof(I)"
   ]
  },
  {
   "cell_type": "code",
   "execution_count": 64,
   "id": "398fd562-9cf5-4f25-8577-a650ce8b5719",
   "metadata": {},
   "outputs": [
    {
     "name": "stdout",
     "output_type": "stream",
     "text": [
      "(x, y, z) = ([1, 2, 3], [2, 3, 4], [2, 3, 4])\n"
     ]
    }
   ],
   "source": [
    "x = [1, 2, 3]\n",
    "y = x ## name y is bound to whatever x is bound to \n",
    "z = [2, 3, 4]\n",
    "y = z ## only changes the binding not the value\n",
    "@show (x, y, z);"
   ]
  },
  {
   "cell_type": "code",
   "execution_count": 65,
   "id": "35242521-f022-4ea9-815f-253855e8477c",
   "metadata": {},
   "outputs": [
    {
     "name": "stdout",
     "output_type": "stream",
     "text": [
      "(x, y, z) = ([2, 3, 4], [2, 3, 4], [2, 3, 4])\n"
     ]
    },
    {
     "data": {
      "text/plain": [
       "([2, 3, 4], [2, 3, 4], [2, 3, 4])"
      ]
     },
     "execution_count": 65,
     "metadata": {},
     "output_type": "execute_result"
    }
   ],
   "source": [
    "x = [1, 2, 3]\n",
    "y = x\n",
    "z = [2, 3, 4]\n",
    "y .= z\n",
    "@show (x, y, z)"
   ]
  },
  {
   "cell_type": "code",
   "execution_count": 66,
   "id": "b8358aea-d205-49e0-b30b-58afb4b9e171",
   "metadata": {},
   "outputs": [
    {
     "data": {
      "text/plain": [
       "2-element Vector{Int64}:\n",
       "  5\n",
       " 11"
      ]
     },
     "execution_count": 66,
     "metadata": {},
     "output_type": "execute_result"
    }
   ],
   "source": [
    "function f(x)\n",
    "    return [1 2; 3 4] * x ## matrix * column vector\n",
    "end\n",
    "\n",
    "val = [1, 2]\n",
    "f(val)"
   ]
  },
  {
   "cell_type": "code",
   "execution_count": 67,
   "id": "b85de427-e624-4e7d-9b5c-db68b60d63d1",
   "metadata": {},
   "outputs": [
    {
     "data": {
      "text/plain": [
       "2-element Vector{Int64}:\n",
       "  5\n",
       " 11"
      ]
     },
     "execution_count": 67,
     "metadata": {},
     "output_type": "execute_result"
    }
   ],
   "source": [
    "function f(x)\n",
    "    return [1 2; 3 4] * x\n",
    "end\n",
    "\n",
    "val = [1, 2]\n",
    "y = similar(val)\n",
    "\n",
    "function f!(out, x)\n",
    "    out .= [1 2; 3 4] * x\n",
    "end\n",
    "\n",
    "f!(y, val)\n",
    "y"
   ]
  },
  {
   "cell_type": "code",
   "execution_count": 68,
   "id": "682e8355-07d0-4de4-9a78-8a052399fd8f",
   "metadata": {},
   "outputs": [
    {
     "data": {
      "text/plain": [
       "3-element Vector{Int64}:\n",
       " 1\n",
       " 2\n",
       " 3"
      ]
     },
     "execution_count": 68,
     "metadata": {},
     "output_type": "execute_result"
    }
   ],
   "source": [
    "x = [1, 2, 3]"
   ]
  },
  {
   "cell_type": "code",
   "execution_count": 69,
   "id": "03b47a2c-d879-47b1-9f04-a8ec189d143d",
   "metadata": {},
   "outputs": [
    {
     "data": {
      "text/plain": [
       "2-element Vector{Int64}:\n",
       "  5\n",
       " 11"
      ]
     },
     "execution_count": 69,
     "metadata": {},
     "output_type": "execute_result"
    }
   ],
   "source": [
    "function f(x)\n",
    "    return [1 2; 3 4] * x\n",
    "end\n",
    "\n",
    "val = [1, 2]\n",
    "y = similar(val)\n",
    "\n",
    "function f!(out, x)\n",
    "    out .= [1 2; 3 4] * x\n",
    "end\n",
    "\n",
    "f!(y, val)"
   ]
  },
  {
   "cell_type": "code",
   "execution_count": 70,
   "id": "06e7e557-eee8-43b5-b299-d184cdfd9d76",
   "metadata": {},
   "outputs": [
    {
     "data": {
      "text/plain": [
       "1×2 Matrix{Int64}:\n",
       " 1  2"
      ]
     },
     "execution_count": 70,
     "metadata": {},
     "output_type": "execute_result"
    }
   ],
   "source": [
    "y = [1 2]"
   ]
  },
  {
   "cell_type": "code",
   "execution_count": 71,
   "id": "ffb5b8c2-3774-4113-ad7c-cfe01b2aae3f",
   "metadata": {},
   "outputs": [
    {
     "data": {
      "text/plain": [
       "3"
      ]
     },
     "execution_count": 71,
     "metadata": {},
     "output_type": "execute_result"
    }
   ],
   "source": [
    "y .-= 2\n",
    "\n",
    "x = 5\n",
    "\n",
    "x = x - 2"
   ]
  },
  {
   "cell_type": "code",
   "execution_count": 72,
   "id": "d51bd98a-ba3e-45f1-bbee-fa07a7d1171e",
   "metadata": {},
   "outputs": [
    {
     "name": "stdout",
     "output_type": "stream",
     "text": [
      "x = 2\n"
     ]
    },
    {
     "data": {
      "text/plain": [
       "2"
      ]
     },
     "execution_count": 72,
     "metadata": {},
     "output_type": "execute_result"
    }
   ],
   "source": [
    "x = 2\n",
    "\n",
    "function f(x)\n",
    "    x = 3\n",
    "end\n",
    "\n",
    "f(x)\n",
    "@show x"
   ]
  },
  {
   "cell_type": "code",
   "execution_count": 73,
   "id": "979a7336-da16-445a-a499-722af7b80bee",
   "metadata": {},
   "outputs": [
    {
     "name": "stdout",
     "output_type": "stream",
     "text": [
      "xdynamic = [1, 2]\n",
      "g(xdynamic) = \"Success!\"\n",
      "xdynamic = [2, 4]\n"
     ]
    }
   ],
   "source": [
    "using StaticArrays\n",
    "\n",
    "xdynamic = [1, 2]\n",
    "xstatic = @SVector [1, 2] # turns it to a highly optimised static vector\n",
    "\n",
    "f(x) = 2x\n",
    "\n",
    "# in place version\n",
    "function g(x)\n",
    "    x .= 2x\n",
    "    return \"Success!\"\n",
    "end\n",
    "\n",
    "@show xdynamic\n",
    "@show g(xdynamic)\n",
    "@show xdynamic;"
   ]
  },
  {
   "cell_type": "code",
   "execution_count": 74,
   "id": "fc766866-1b6a-4d8c-9217-2588550a9082",
   "metadata": {},
   "outputs": [
    {
     "name": "stdout",
     "output_type": "stream",
     "text": [
      "a = [-1, 0, 1]\n",
      "length(a) = 3\n",
      "sum(a) = 0\n",
      "mean(a) = 0.0\n",
      "std(a) = 1.0\n",
      "var(a) = 1.0\n",
      "minimum(a) = -1\n",
      "maximum(a) = 1\n",
      "extrema(a) = (-1, 1)\n"
     ]
    },
    {
     "data": {
      "text/plain": [
       "(-1, 1)"
      ]
     },
     "execution_count": 74,
     "metadata": {},
     "output_type": "execute_result"
    }
   ],
   "source": [
    "## Operations and arrays\n",
    "\n",
    "a = [-1, 0, 1]\n",
    "@show a\n",
    "@show length(a)\n",
    "@show sum(a)\n",
    "@show mean(a)\n",
    "@show std(a)\n",
    "@show var(a)\n",
    "@show minimum(a)\n",
    "@show maximum(a)\n",
    "@show extrema(a)"
   ]
  },
  {
   "cell_type": "code",
   "execution_count": 75,
   "id": "4cd788b0-3999-4880-a665-7898568b8afb",
   "metadata": {},
   "outputs": [
    {
     "name": "stdout",
     "output_type": "stream",
     "text": [
      "b = [1, 0, -1]\n"
     ]
    },
    {
     "data": {
      "text/plain": [
       "3-element Vector{Int64}:\n",
       "  1\n",
       "  0\n",
       " -1"
      ]
     },
     "execution_count": 75,
     "metadata": {},
     "output_type": "execute_result"
    }
   ],
   "source": [
    "## To sort an array\n",
    "b = sort(a, rev = true)\n",
    "@show b\n",
    "\n",
    "b = sort!(a, rev = true)"
   ]
  },
  {
   "cell_type": "code",
   "execution_count": 76,
   "id": "4d62a4b4-ca32-40fe-b06b-77780764b546",
   "metadata": {},
   "outputs": [
    {
     "data": {
      "text/plain": [
       "true"
      ]
     },
     "execution_count": 76,
     "metadata": {},
     "output_type": "execute_result"
    }
   ],
   "source": [
    "## test if a and b are equal after you reverse it\n",
    "a == b"
   ]
  },
  {
   "cell_type": "code",
   "execution_count": 77,
   "id": "c4acea5a-6410-4bd9-8639-8c8cf53a4c36",
   "metadata": {},
   "outputs": [
    {
     "data": {
      "text/plain": [
       "true"
      ]
     },
     "execution_count": 77,
     "metadata": {},
     "output_type": "execute_result"
    }
   ],
   "source": [
    "## test if a and b are identical (i.e. share the same memory)\n",
    "a === b"
   ]
  },
  {
   "cell_type": "code",
   "execution_count": 78,
   "id": "5a9c9178-9570-4b5c-acf2-095cd359e70f",
   "metadata": {},
   "outputs": [
    {
     "name": "stdout",
     "output_type": "stream",
     "text": [
      "a = [1.0 1.0]\n",
      "b = [1.0 1.0; 1.0 1.0]\n",
      "c = [2.0 2.0]\n"
     ]
    },
    {
     "data": {
      "text/plain": [
       "2×1 Matrix{Float64}:\n",
       " 2.0\n",
       " 2.0"
      ]
     },
     "execution_count": 78,
     "metadata": {},
     "output_type": "execute_result"
    }
   ],
   "source": [
    "## Matrix algebra\n",
    "a = ones(1, 2)\n",
    "b = ones(2, 2)\n",
    "@show a\n",
    "@show b\n",
    "\n",
    "c = a * b\n",
    "d = b * a'\n",
    "@show c\n",
    "d"
   ]
  },
  {
   "cell_type": "code",
   "execution_count": 79,
   "id": "ca3a4a93-547f-4184-a814-fab1d29263b1",
   "metadata": {},
   "outputs": [
    {
     "data": {
      "text/plain": [
       "2×2 Matrix{Float64}:\n",
       " -1.0  -1.0\n",
       "  1.0   1.0"
      ]
     },
     "execution_count": 79,
     "metadata": {},
     "output_type": "execute_result"
    }
   ],
   "source": [
    "## Solve the linear system AX = B for X use A/B\n",
    "A = [1 2; 2 3]\n",
    "B = ones(2,2)\n",
    "\n",
    "A\\B\n",
    "\n",
    "inv(A) * B"
   ]
  },
  {
   "cell_type": "code",
   "execution_count": 80,
   "id": "69b46d49-6cb7-4cb5-b378-0115f9434de1",
   "metadata": {},
   "outputs": [
    {
     "data": {
      "text/plain": [
       "2.0"
      ]
     },
     "execution_count": 80,
     "metadata": {},
     "output_type": "execute_result"
    }
   ],
   "source": [
    "ones(2)' * ones(2)"
   ]
  },
  {
   "cell_type": "code",
   "execution_count": 81,
   "id": "7dfc7cc7-f8c2-446f-a327-29ba191c6b67",
   "metadata": {},
   "outputs": [
    {
     "name": "stdout",
     "output_type": "stream",
     "text": [
      "dot((ones(2))', ones(2)) = 2.0\n",
      "ones(2) ⋅ ones(2) = 2.0\n"
     ]
    },
    {
     "data": {
      "text/plain": [
       "2.0"
      ]
     },
     "execution_count": 81,
     "metadata": {},
     "output_type": "execute_result"
    }
   ],
   "source": [
    "@show dot(ones(2)', ones(2))\n",
    "@show ones(2) ⋅ ones(2)"
   ]
  },
  {
   "cell_type": "code",
   "execution_count": 82,
   "id": "a1f7e0b4-b99e-4460-9803-8d7f6be87b87",
   "metadata": {},
   "outputs": [
    {
     "data": {
      "text/plain": [
       "2×2 Matrix{Float64}:\n",
       " 1.0  1.0\n",
       " 1.0  1.0"
      ]
     },
     "execution_count": 82,
     "metadata": {},
     "output_type": "execute_result"
    }
   ],
   "source": [
    "## Elementwise operations\n",
    "## if you want to multiply every element in of matrix A with its corresponding element in B then you can use \".*\"\n",
    "A = ones(2,2)\n",
    "B = ones(2, 2)\n",
    "A.*B"
   ]
  },
  {
   "cell_type": "code",
   "execution_count": 83,
   "id": "8f19ff40-d240-4b81-b254-81ee077e72e5",
   "metadata": {},
   "outputs": [
    {
     "data": {
      "text/plain": [
       "2×2 Matrix{Float64}:\n",
       " 1.0  1.0\n",
       " 1.0  1.0"
      ]
     },
     "execution_count": 83,
     "metadata": {},
     "output_type": "execute_result"
    }
   ],
   "source": [
    "## same with squaring a result\n",
    "A.^2"
   ]
  },
  {
   "cell_type": "code",
   "execution_count": 84,
   "id": "03207e13-5f32-49c7-b360-4889f0f227c3",
   "metadata": {},
   "outputs": [
    {
     "name": "stdout",
     "output_type": "stream",
     "text": [
      "ones(2, 2) + ones(2, 2) = [2.0 2.0; 2.0 2.0]\n",
      "ones(2, 2) - ones(2, 2) = [0.0 0.0; 0.0 0.0]\n"
     ]
    },
    {
     "data": {
      "text/plain": [
       "2×2 Matrix{Int64}:\n",
       " 3  3\n",
       " 6  6"
      ]
     },
     "execution_count": 84,
     "metadata": {},
     "output_type": "execute_result"
    }
   ],
   "source": [
    "## there are operations that are mathematically valid without broadcasting, so you don't need \".\"\n",
    "@show ones(2,2) + ones(2,2)\n",
    "@show ones(2,2) - ones(2,2);\n",
    "\n",
    "A = [1 1; 2 2]\n",
    "3A"
   ]
  },
  {
   "cell_type": "code",
   "execution_count": 85,
   "id": "2a739c52-31c7-4a41-bfbc-e6ba46cdfee8",
   "metadata": {},
   "outputs": [
    {
     "data": {
      "text/plain": [
       "2×2 Matrix{Int64}:\n",
       " 4  5\n",
       " 6  7"
      ]
     },
     "execution_count": 85,
     "metadata": {},
     "output_type": "execute_result"
    }
   ],
   "source": [
    "## However, scalar addition requires a broadcast\n",
    "A = [1 2; 3 4]\n",
    "3 .+ A"
   ]
  },
  {
   "cell_type": "code",
   "execution_count": 86,
   "id": "11b22c78-7734-4f98-b657-af4498560ee3",
   "metadata": {},
   "outputs": [
    {
     "data": {
      "text/plain": [
       "3-element BitVector:\n",
       " 0\n",
       " 0\n",
       " 1"
      ]
     },
     "execution_count": 86,
     "metadata": {},
     "output_type": "execute_result"
    }
   ],
   "source": [
    "## Elementwise comparisons\n",
    "a = [20, 30, 40]\n",
    "b = [-100, 0, 100]\n",
    "b .> a\n",
    "b.==a\n",
    "b .> 1\n"
   ]
  },
  {
   "cell_type": "code",
   "execution_count": 87,
   "id": "ae5c8bbd-a253-4d58-b3ed-358f79110f0f",
   "metadata": {},
   "outputs": [
    {
     "data": {
      "text/plain": [
       "4-element Vector{Float64}:\n",
       " 0.7133349164393173\n",
       " 0.8227257612770915\n",
       " 0.808893886971032\n",
       " 0.09764291268373071"
      ]
     },
     "execution_count": 87,
     "metadata": {},
     "output_type": "execute_result"
    }
   ],
   "source": [
    "## Conditional extraction\n",
    "a = rand(4)"
   ]
  },
  {
   "cell_type": "code",
   "execution_count": 88,
   "id": "a3751b55-3836-4571-bb26-61341c698901",
   "metadata": {},
   "outputs": [
    {
     "name": "stdout",
     "output_type": "stream",
     "text": [
      "a[a .> 0] = [0.7133349164393173, 0.8227257612770915, 0.808893886971032, 0.09764291268373071]\n"
     ]
    },
    {
     "data": {
      "text/plain": [
       "4-element Vector{Float64}:\n",
       " 0.7133349164393173\n",
       " 0.8227257612770915\n",
       " 0.808893886971032\n",
       " 0.09764291268373071"
      ]
     },
     "execution_count": 88,
     "metadata": {},
     "output_type": "execute_result"
    }
   ],
   "source": [
    "@show a[a .> 0]"
   ]
  },
  {
   "cell_type": "code",
   "execution_count": 89,
   "id": "870cd3fe-1d62-4524-a91c-0b09b1e784b1",
   "metadata": {},
   "outputs": [
    {
     "data": {
      "text/plain": [
       "2×2 Matrix{Int64}:\n",
       " 10  30\n",
       " 20  40"
      ]
     },
     "execution_count": 89,
     "metadata": {},
     "output_type": "execute_result"
    }
   ],
   "source": [
    "## Changing dimensions\n",
    "a = [1,2,3,4]\n",
    "a = a*10\n",
    "b = reshape(a, 2,2)"
   ]
  },
  {
   "cell_type": "code",
   "execution_count": 90,
   "id": "3be018f9-00dd-4bb1-8c4f-332ad317fdbc",
   "metadata": {},
   "outputs": [
    {
     "data": {
      "text/plain": [
       "30"
      ]
     },
     "execution_count": 90,
     "metadata": {},
     "output_type": "execute_result"
    }
   ],
   "source": [
    "b[1, 2]"
   ]
  },
  {
   "cell_type": "code",
   "execution_count": 91,
   "id": "65ed6272-b5cd-4f0b-8195-17afcb70cd07",
   "metadata": {},
   "outputs": [
    {
     "data": {
      "text/plain": [
       "1×4 Matrix{Int64}:\n",
       " 1  2  3  4"
      ]
     },
     "execution_count": 91,
     "metadata": {},
     "output_type": "execute_result"
    }
   ],
   "source": [
    "## Drop an array along one dimension\n",
    "a = [1 2 3 4]"
   ]
  },
  {
   "cell_type": "code",
   "execution_count": 92,
   "id": "e9fb28b0-9e80-4bc7-bf77-56820108f996",
   "metadata": {},
   "outputs": [
    {
     "data": {
      "text/plain": [
       "4-element Vector{Int64}:\n",
       " 1\n",
       " 2\n",
       " 3\n",
       " 4"
      ]
     },
     "execution_count": 92,
     "metadata": {},
     "output_type": "execute_result"
    }
   ],
   "source": [
    "dropdims(a, dims = 1)"
   ]
  },
  {
   "cell_type": "code",
   "execution_count": 93,
   "id": "e47e69b8-a11e-4919-adce-a93af3156d1e",
   "metadata": {},
   "outputs": [
    {
     "data": {
      "text/plain": [
       "4-element Vector{Float64}:\n",
       " 0.0\n",
       " 0.6931471805599453\n",
       " 1.0986122886681098\n",
       " 1.3862943611198906"
      ]
     },
     "execution_count": 93,
     "metadata": {},
     "output_type": "execute_result"
    }
   ],
   "source": [
    "## Broadcastig functions\n",
    "log(1.0)\n",
    "log.(1:4)\n",
    "[log(x) for x in 1:4]"
   ]
  },
  {
   "cell_type": "code",
   "execution_count": 94,
   "id": "a63fbcdc-6b21-4df7-b08c-f3fe4f38b7e1",
   "metadata": {},
   "outputs": [
    {
     "data": {
      "text/plain": [
       "2×2 Matrix{Int64}:\n",
       " 1  2\n",
       " 4  3"
      ]
     },
     "execution_count": 94,
     "metadata": {},
     "output_type": "execute_result"
    }
   ],
   "source": [
    "## Linear algebra\n",
    "A = [1 2; 4 3]"
   ]
  },
  {
   "cell_type": "code",
   "execution_count": 95,
   "id": "8b6ebec8-71cd-4532-a34f-88286960b9fe",
   "metadata": {},
   "outputs": [
    {
     "data": {
      "text/plain": [
       "-5.0"
      ]
     },
     "execution_count": 95,
     "metadata": {},
     "output_type": "execute_result"
    }
   ],
   "source": [
    "det(A)"
   ]
  },
  {
   "cell_type": "code",
   "execution_count": 96,
   "id": "a888bcf9-9d2a-4229-b4fb-4e0f87ae928f",
   "metadata": {},
   "outputs": [
    {
     "data": {
      "text/plain": [
       "4"
      ]
     },
     "execution_count": 96,
     "metadata": {},
     "output_type": "execute_result"
    }
   ],
   "source": [
    "tr(A) ## trace of matix which takes the sum of the diagonal values of the matrix"
   ]
  },
  {
   "cell_type": "code",
   "execution_count": 97,
   "id": "7e72348d-7e8d-458a-80b8-4661a1a3d84d",
   "metadata": {},
   "outputs": [
    {
     "data": {
      "text/plain": [
       "2-element Vector{Float64}:\n",
       " -1.0\n",
       "  5.0"
      ]
     },
     "execution_count": 97,
     "metadata": {},
     "output_type": "execute_result"
    }
   ],
   "source": [
    "eigvals(A)"
   ]
  },
  {
   "cell_type": "code",
   "execution_count": 98,
   "id": "e8494b71-28ad-4abc-a828-00dadba677e8",
   "metadata": {},
   "outputs": [
    {
     "data": {
      "text/plain": [
       "2×2 Matrix{Int64}:\n",
       " 1  2\n",
       " 3  4"
      ]
     },
     "execution_count": 98,
     "metadata": {},
     "output_type": "execute_result"
    }
   ],
   "source": [
    "A = [1 2; 3 4]"
   ]
  },
  {
   "cell_type": "code",
   "execution_count": 99,
   "id": "f4127373-6c52-480a-a12e-9485b32f45f0",
   "metadata": {},
   "outputs": [
    {
     "data": {
      "text/plain": [
       "2×2 Matrix{Float64}:\n",
       " 1.0  1.0\n",
       " 1.0  1.0"
      ]
     },
     "execution_count": 99,
     "metadata": {},
     "output_type": "execute_result"
    }
   ],
   "source": [
    "B = ones(2,2)"
   ]
  },
  {
   "cell_type": "code",
   "execution_count": 100,
   "id": "8301bec2-489d-4f59-97cb-1d6d2f177f16",
   "metadata": {},
   "outputs": [
    {
     "data": {
      "text/plain": [
       "2-element Vector{Int64}:\n",
       " 1\n",
       " 3"
      ]
     },
     "execution_count": 100,
     "metadata": {},
     "output_type": "execute_result"
    }
   ],
   "source": [
    "a = [1,3]"
   ]
  },
  {
   "cell_type": "code",
   "execution_count": 101,
   "id": "cabccd89-2a25-41f0-9a94-1bc9ed93a50e",
   "metadata": {},
   "outputs": [
    {
     "data": {
      "text/plain": [
       "2-element Vector{Int64}:\n",
       " 3\n",
       " 4"
      ]
     },
     "execution_count": 101,
     "metadata": {},
     "output_type": "execute_result"
    }
   ],
   "source": [
    "b = [3, 4]"
   ]
  },
  {
   "cell_type": "code",
   "execution_count": 102,
   "id": "01826f02-a6d2-44d3-86b4-a0a17ff048fd",
   "metadata": {},
   "outputs": [
    {
     "data": {
      "text/plain": [
       "10-element Vector{Int64}:\n",
       "  1\n",
       "  2\n",
       "  3\n",
       "  4\n",
       "  5\n",
       "  6\n",
       "  7\n",
       "  8\n",
       "  9\n",
       " 10"
      ]
     },
     "execution_count": 102,
     "metadata": {},
     "output_type": "execute_result"
    }
   ],
   "source": [
    "c = [1,2,3,4,5,6,7,8,9,10]"
   ]
  },
  {
   "cell_type": "code",
   "execution_count": 103,
   "id": "b10de390-a222-4b98-b93d-25b8067f0054",
   "metadata": {},
   "outputs": [
    {
     "data": {
      "text/plain": [
       "385"
      ]
     },
     "execution_count": 103,
     "metadata": {},
     "output_type": "execute_result"
    }
   ],
   "source": [
    "c'*c"
   ]
  },
  {
   "cell_type": "code",
   "execution_count": 104,
   "id": "e3858ed7-2865-4a95-a11f-70f04e163666",
   "metadata": {},
   "outputs": [
    {
     "data": {
      "text/plain": [
       "3×3 Matrix{Int64}:\n",
       " 1  2  3\n",
       " 4  5  6\n",
       " 7  8  9"
      ]
     },
     "execution_count": 104,
     "metadata": {},
     "output_type": "execute_result"
    }
   ],
   "source": [
    "A = [1 2 3;4 5 6; 7 8 9]"
   ]
  },
  {
   "cell_type": "code",
   "execution_count": 105,
   "id": "8d4bb3ab-cf46-4860-a1ab-b3c972483c1b",
   "metadata": {},
   "outputs": [
    {
     "data": {
      "text/plain": [
       "3×3 adjoint(::Matrix{Int64}) with eltype Int64:\n",
       " 1  4  7\n",
       " 2  5  8\n",
       " 3  6  9"
      ]
     },
     "execution_count": 105,
     "metadata": {},
     "output_type": "execute_result"
    }
   ],
   "source": [
    "A'"
   ]
  },
  {
   "cell_type": "code",
   "execution_count": 106,
   "id": "2b05a843-2c7c-4460-9170-e5d9e97f1542",
   "metadata": {},
   "outputs": [
    {
     "data": {
      "text/plain": [
       "1:10"
      ]
     },
     "execution_count": 106,
     "metadata": {},
     "output_type": "execute_result"
    }
   ],
   "source": [
    "a = 1:10"
   ]
  },
  {
   "cell_type": "code",
   "execution_count": 107,
   "id": "25b09e1d-299a-4ead-8afa-27fdedf697e0",
   "metadata": {},
   "outputs": [
    {
     "name": "stdout",
     "output_type": "stream",
     "text": [
      "Vector(a) = [1, 2, 3, 4, 5, 6, 7, 8, 9, 10]\n"
     ]
    },
    {
     "data": {
      "text/plain": [
       "10-element Vector{Int64}:\n",
       "  1\n",
       "  2\n",
       "  3\n",
       "  4\n",
       "  5\n",
       "  6\n",
       "  7\n",
       "  8\n",
       "  9\n",
       " 10"
      ]
     },
     "execution_count": 107,
     "metadata": {},
     "output_type": "execute_result"
    }
   ],
   "source": [
    "@show Vector(a)"
   ]
  },
  {
   "cell_type": "code",
   "execution_count": 108,
   "id": "7746f3bc-7332-4d59-ad48-b53d173d8977",
   "metadata": {},
   "outputs": [
    {
     "data": {
      "text/plain": [
       "10×10 Diagonal{Int64, UnitRange{Int64}}:\n",
       " 1  ⋅  ⋅  ⋅  ⋅  ⋅  ⋅  ⋅  ⋅   ⋅\n",
       " ⋅  2  ⋅  ⋅  ⋅  ⋅  ⋅  ⋅  ⋅   ⋅\n",
       " ⋅  ⋅  3  ⋅  ⋅  ⋅  ⋅  ⋅  ⋅   ⋅\n",
       " ⋅  ⋅  ⋅  4  ⋅  ⋅  ⋅  ⋅  ⋅   ⋅\n",
       " ⋅  ⋅  ⋅  ⋅  5  ⋅  ⋅  ⋅  ⋅   ⋅\n",
       " ⋅  ⋅  ⋅  ⋅  ⋅  6  ⋅  ⋅  ⋅   ⋅\n",
       " ⋅  ⋅  ⋅  ⋅  ⋅  ⋅  7  ⋅  ⋅   ⋅\n",
       " ⋅  ⋅  ⋅  ⋅  ⋅  ⋅  ⋅  8  ⋅   ⋅\n",
       " ⋅  ⋅  ⋅  ⋅  ⋅  ⋅  ⋅  ⋅  9   ⋅\n",
       " ⋅  ⋅  ⋅  ⋅  ⋅  ⋅  ⋅  ⋅  ⋅  10"
      ]
     },
     "execution_count": 108,
     "metadata": {},
     "output_type": "execute_result"
    }
   ],
   "source": [
    "b = Diagonal(a)"
   ]
  },
  {
   "cell_type": "code",
   "execution_count": 109,
   "id": "b5d06428-1f63-4a51-9fef-abf7da1a8536",
   "metadata": {},
   "outputs": [
    {
     "data": {
      "text/plain": [
       "10-element Vector{Int64}:\n",
       "   1\n",
       "   4\n",
       "   9\n",
       "  16\n",
       "  25\n",
       "  36\n",
       "  49\n",
       "  64\n",
       "  81\n",
       " 100"
      ]
     },
     "execution_count": 109,
     "metadata": {},
     "output_type": "execute_result"
    }
   ],
   "source": [
    "b*a"
   ]
  },
  {
   "cell_type": "code",
   "execution_count": 110,
   "id": "dcd9334b-9a47-4eb0-8cd5-6b1ae61c266f",
   "metadata": {},
   "outputs": [
    {
     "data": {
      "text/plain": [
       "3×3 Diagonal{Float64, Vector{Float64}}:\n",
       " 1.0   ⋅    ⋅ \n",
       "  ⋅   2.0   ⋅ \n",
       "  ⋅    ⋅   3.0"
      ]
     },
     "execution_count": 110,
     "metadata": {},
     "output_type": "execute_result"
    }
   ],
   "source": [
    "b = Diagonal([1.0, 2.0, 3.0])"
   ]
  },
  {
   "cell_type": "code",
   "execution_count": 111,
   "id": "da565568-4e66-4848-92ef-49dd6bedfa1a",
   "metadata": {},
   "outputs": [
    {
     "data": {
      "text/plain": [
       "10:12"
      ]
     },
     "execution_count": 111,
     "metadata": {},
     "output_type": "execute_result"
    }
   ],
   "source": [
    "a = 10:12"
   ]
  },
  {
   "cell_type": "code",
   "execution_count": 112,
   "id": "74272b40-4ca2-491b-94d0-50b8297918f3",
   "metadata": {},
   "outputs": [
    {
     "data": {
      "text/plain": [
       "3-element Vector{Float64}:\n",
       " 10.0\n",
       " 22.0\n",
       " 36.0"
      ]
     },
     "execution_count": 112,
     "metadata": {},
     "output_type": "execute_result"
    }
   ],
   "source": [
    "b * a"
   ]
  },
  {
   "cell_type": "code",
   "execution_count": 113,
   "id": "9840c01e-1390-453a-b054-d49902c1ffa5",
   "metadata": {},
   "outputs": [
    {
     "data": {
      "text/plain": [
       "3-element Vector{Float64}:\n",
       "  9.0\n",
       " 20.0\n",
       " 33.0"
      ]
     },
     "execution_count": 113,
     "metadata": {},
     "output_type": "execute_result"
    }
   ],
   "source": [
    "b * a - [1.0, 2.0, 3.0]"
   ]
  },
  {
   "cell_type": "code",
   "execution_count": 114,
   "id": "2a2f3bf2-dfe6-4de8-8f75-be212eb8f943",
   "metadata": {},
   "outputs": [
    {
     "data": {
      "text/plain": [
       "0.0:0.1:1.0"
      ]
     },
     "execution_count": 114,
     "metadata": {},
     "output_type": "execute_result"
    }
   ],
   "source": [
    "a = 0.0:0.1:1.0"
   ]
  },
  {
   "cell_type": "code",
   "execution_count": 115,
   "id": "3854ce1e-717a-452d-8d4e-9ca6c5e9b305",
   "metadata": {},
   "outputs": [
    {
     "data": {
      "text/plain": [
       "0.01:0.1:1.01"
      ]
     },
     "execution_count": 115,
     "metadata": {},
     "output_type": "execute_result"
    }
   ],
   "source": [
    "a .+ 0.01"
   ]
  },
  {
   "cell_type": "code",
   "execution_count": 116,
   "id": "75620929-e09a-4b7f-a44b-46800f67df07",
   "metadata": {},
   "outputs": [
    {
     "data": {
      "text/plain": [
       "0.0:0.15:0.9"
      ]
     },
     "execution_count": 116,
     "metadata": {},
     "output_type": "execute_result"
    }
   ],
   "source": [
    "maxval = 1.0\n",
    "minval = 0.0\n",
    "stepsize = 0.15\n",
    "a = minval:stepsize:maxval"
   ]
  },
  {
   "cell_type": "code",
   "execution_count": 117,
   "id": "7cca6c10-8ff4-451e-871d-7591364cfe93",
   "metadata": {},
   "outputs": [
    {
     "data": {
      "text/plain": [
       "false"
      ]
     },
     "execution_count": 117,
     "metadata": {},
     "output_type": "execute_result"
    }
   ],
   "source": [
    "maximum(a) == maxval"
   ]
  },
  {
   "cell_type": "code",
   "execution_count": 118,
   "id": "3cdd281b-d0ad-4def-b2b9-45c270a8bbb8",
   "metadata": {},
   "outputs": [
    {
     "data": {
      "text/plain": [
       "(1.0, \"apple\")"
      ]
     },
     "execution_count": 118,
     "metadata": {},
     "output_type": "execute_result"
    }
   ],
   "source": [
    "t = (1.0, \"apple\")"
   ]
  },
  {
   "cell_type": "code",
   "execution_count": 119,
   "id": "d229852c-7a93-4375-8c44-6ac7bb35e5b2",
   "metadata": {},
   "outputs": [
    {
     "data": {
      "text/plain": [
       "1.0"
      ]
     },
     "execution_count": 119,
     "metadata": {},
     "output_type": "execute_result"
    }
   ],
   "source": [
    "t[1]"
   ]
  },
  {
   "cell_type": "code",
   "execution_count": 120,
   "id": "a27aaf92-9ade-440d-b765-dabed86e6d46",
   "metadata": {},
   "outputs": [
    {
     "data": {
      "text/plain": [
       "\"apple\""
      ]
     },
     "execution_count": 120,
     "metadata": {},
     "output_type": "execute_result"
    }
   ],
   "source": [
    "t[2]"
   ]
  },
  {
   "cell_type": "code",
   "execution_count": 121,
   "id": "2b10c00b-273c-4739-8e7d-f86df35a8f65",
   "metadata": {},
   "outputs": [
    {
     "data": {
      "text/plain": [
       "(1.0, \"apple\")"
      ]
     },
     "execution_count": 121,
     "metadata": {},
     "output_type": "execute_result"
    }
   ],
   "source": [
    "a, b = t"
   ]
  },
  {
   "cell_type": "code",
   "execution_count": 122,
   "id": "094b4d7b-a118-4815-8429-079d85cb5a33",
   "metadata": {},
   "outputs": [
    {
     "name": "stdout",
     "output_type": "stream",
     "text": [
      "a = 1.0 and b = apple\n"
     ]
    }
   ],
   "source": [
    "println(\"a = $a and b = $b\")"
   ]
  },
  {
   "cell_type": "code",
   "execution_count": 123,
   "id": "14a81889-956d-48b7-a856-0a23c4079460",
   "metadata": {},
   "outputs": [
    {
     "data": {
      "text/plain": [
       "(val1 = 1.0, val2 = \"test\")"
      ]
     },
     "execution_count": 123,
     "metadata": {},
     "output_type": "execute_result"
    }
   ],
   "source": [
    "t = (; val1 = 1.0, val2 = \"test\")"
   ]
  },
  {
   "cell_type": "code",
   "execution_count": 124,
   "id": "c65c665a-bcfc-43cc-b256-0b8000ae892a",
   "metadata": {},
   "outputs": [
    {
     "name": "stdout",
     "output_type": "stream",
     "text": [
      "a = 1.0 and b= test\n"
     ]
    }
   ],
   "source": [
    "println(\"a = $(t.val1) and b= $(t.val2)\")"
   ]
  },
  {
   "cell_type": "code",
   "execution_count": 125,
   "id": "e339885d-52b9-4363-bcd4-e985e02fadd6",
   "metadata": {},
   "outputs": [
    {
     "name": "stdout",
     "output_type": "stream",
     "text": [
      "a = 1.0 and b = test\n"
     ]
    }
   ],
   "source": [
    "(; val1, val2) = t\n",
    "println(\"a = $val1 and b = $val2\")"
   ]
  },
  {
   "cell_type": "code",
   "execution_count": 126,
   "id": "b65b991d-f084-407d-908b-fe06885b86b4",
   "metadata": {},
   "outputs": [
    {
     "data": {
      "text/plain": [
       "(val3 = 4, val4 = \"test!!\")"
      ]
     },
     "execution_count": 126,
     "metadata": {},
     "output_type": "execute_result"
    }
   ],
   "source": [
    "t2 = (;val3 = 4, val4 = \"test!!\")"
   ]
  },
  {
   "cell_type": "code",
   "execution_count": 127,
   "id": "290bf915-4b9a-4d03-be56-f8b368b2bb89",
   "metadata": {},
   "outputs": [
    {
     "data": {
      "text/plain": [
       "(val1 = 1.0, val2 = \"test\", val3 = 4, val4 = \"test!!\")"
      ]
     },
     "execution_count": 127,
     "metadata": {},
     "output_type": "execute_result"
    }
   ],
   "source": [
    "t3 = merge(t, t2)"
   ]
  },
  {
   "cell_type": "code",
   "execution_count": 128,
   "id": "d24e45c7-598b-43e3-8321-f06ddab45bcc",
   "metadata": {},
   "outputs": [
    {
     "data": {
      "text/plain": [
       "2.1"
      ]
     },
     "execution_count": 128,
     "metadata": {},
     "output_type": "execute_result"
    }
   ],
   "source": [
    "function f(parameters)\n",
    "    alpha, beta = parameters.alpha, parameters.beta\n",
    "    return alpha + beta\n",
    "end\n",
    "\n",
    "parameters = (; alpha = 0.1, beta = 2.0)\n",
    "f(parameters)"
   ]
  },
  {
   "cell_type": "code",
   "execution_count": 129,
   "id": "79a49aa4-e43e-42c4-8eca-6c4cc694d615",
   "metadata": {},
   "outputs": [
    {
     "data": {
      "text/plain": [
       "3.7"
      ]
     },
     "execution_count": 129,
     "metadata": {},
     "output_type": "execute_result"
    }
   ],
   "source": [
    "function f(parameters)\n",
    "    (; alpha, beta) = parameters\n",
    "    return alpha + beta\n",
    "end\n",
    "parameters = (; alpha = 1.5, beta = 2.2)\n",
    "\n",
    "f(parameters)"
   ]
  },
  {
   "cell_type": "code",
   "execution_count": 130,
   "id": "24d53b4b-294d-45fc-a49d-cfe00c2e87c0",
   "metadata": {},
   "outputs": [
    {
     "name": "stdout",
     "output_type": "stream",
     "text": [
      "param_gen() = 1.2\n",
      "param_gen(alpha = 0.2) = 0.4\n"
     ]
    },
    {
     "data": {
      "text/plain": [
       "0.4"
      ]
     },
     "execution_count": 130,
     "metadata": {},
     "output_type": "execute_result"
    }
   ],
   "source": [
    "function param_gen(; alpha = 1.0, beta = 0.2)\n",
    "    return alpha + beta\n",
    "end\n",
    "\n",
    "@show param_gen()\n",
    "@show param_gen(alpha = 0.2)"
   ]
  },
  {
   "cell_type": "code",
   "execution_count": 131,
   "id": "230200cf-22a9-4bf4-8f00-4da26d25c4d1",
   "metadata": {},
   "outputs": [
    {
     "data": {
      "text/plain": [
       "Nothing"
      ]
     },
     "execution_count": 131,
     "metadata": {},
     "output_type": "execute_result"
    }
   ],
   "source": [
    "## Nothing\n",
    "typeof(nothing)"
   ]
  },
  {
   "cell_type": "code",
   "execution_count": 132,
   "id": "eb342150-dcb3-4a13-8dfa-5c585f80f45e",
   "metadata": {},
   "outputs": [
    {
     "data": {
      "text/plain": [
       "Missing"
      ]
     },
     "execution_count": 132,
     "metadata": {},
     "output_type": "execute_result"
    }
   ],
   "source": [
    "## Missing\n",
    "typeof(missing)"
   ]
  },
  {
   "cell_type": "code",
   "execution_count": 133,
   "id": "89a8f0f9-5d0e-4043-8ccc-76a2af6daeac",
   "metadata": {},
   "outputs": [
    {
     "name": "stdout",
     "output_type": "stream",
     "text": [
      "x = 1.0\n",
      "f(1.0) = 1.0\n",
      "x was not set\n",
      "f(-1.0) = nothing\n"
     ]
    }
   ],
   "source": [
    "function f(y)\n",
    "    x = nothing\n",
    "    if y > 0.0\n",
    "        # calculations to set 'x'\n",
    "        x = y\n",
    "    end\n",
    "\n",
    "    # later can check 'x'\n",
    "    if isnothing(x)\n",
    "        println(\"x was not set\")\n",
    "    else\n",
    "        println(\"x = $x\")\n",
    "    end\n",
    "    x\n",
    "end\n",
    "\n",
    "@show f(1.0)\n",
    "@show f(-1.0)"
   ]
  },
  {
   "cell_type": "code",
   "execution_count": 134,
   "id": "e09c6290-053d-4b49-b27e-0aae5441a5a0",
   "metadata": {},
   "outputs": [
    {
     "name": "stdout",
     "output_type": "stream",
     "text": [
      "function f(-1.0) failed\n"
     ]
    }
   ],
   "source": [
    "function f(x)\n",
    "    if x > 0.0\n",
    "        return sqrt(x)\n",
    "    else\n",
    "        return nothing\n",
    "    end\n",
    "end\n",
    "\n",
    "x1 = 1.0\n",
    "x2 = -1.0\n",
    "\n",
    "y1 = f(x1)\n",
    "y2 = f(x2)\n",
    "\n",
    "if isnothing(y1)\n",
    "    println(\"function f($x2) is successful\")\n",
    "else\n",
    "    println(\"function f($x2) failed\")\n",
    "end"
   ]
  },
  {
   "cell_type": "code",
   "execution_count": 135,
   "id": "129fd749-8253-4f2a-a40e-211bd24334d3",
   "metadata": {},
   "outputs": [],
   "source": [
    "function f(x)\n",
    "    x > 0.0 ? sqrt(x) : nothing\n",
    "\n",
    "end\n",
    "\n",
    "f(-1.0)"
   ]
  },
  {
   "cell_type": "code",
   "execution_count": 136,
   "id": "2d0e72ac-2fd3-489f-b53e-7d8d1a6e7884",
   "metadata": {},
   "outputs": [
    {
     "data": {
      "text/plain": [
       "2-element Vector{Union{Nothing, Float64}}:\n",
       " 1.0\n",
       "  nothing"
      ]
     },
     "execution_count": 136,
     "metadata": {},
     "output_type": "execute_result"
    }
   ],
   "source": [
    "x = [1.0, nothing]"
   ]
  },
  {
   "cell_type": "code",
   "execution_count": 137,
   "id": "7b7d84dc-8136-4830-bdde-66e51a10c019",
   "metadata": {},
   "outputs": [
    {
     "data": {
      "text/plain": [
       "4-element Vector{Union{Nothing, Float64}}:\n",
       " 0.31622776601683794\n",
       "  nothing\n",
       " 1.4142135623730951\n",
       "  nothing"
      ]
     },
     "execution_count": 137,
     "metadata": {},
     "output_type": "execute_result"
    }
   ],
   "source": [
    "x = [0.1, -1.0, 2.0, -2.0]\n",
    "y = f.(x)"
   ]
  },
  {
   "cell_type": "code",
   "execution_count": 138,
   "id": "ea0b4599-83e8-4cfe-9056-fbb488331e07",
   "metadata": {},
   "outputs": [
    {
     "data": {
      "text/plain": [
       "1.0"
      ]
     },
     "execution_count": 138,
     "metadata": {},
     "output_type": "execute_result"
    }
   ],
   "source": [
    "function f(x)\n",
    "    @assert x > 0.0\n",
    "    sqrt(x)\n",
    "end\n",
    "\n",
    "f(1.0)"
   ]
  },
  {
   "cell_type": "code",
   "execution_count": 139,
   "id": "d15d3c94-55ff-40d9-a0cd-82d887c1291e",
   "metadata": {},
   "outputs": [
    {
     "name": "stdout",
     "output_type": "stream",
     "text": [
      "No y is given with 1.0\n"
     ]
    }
   ],
   "source": [
    "function f(x; y = nothing)\n",
    "    if isnothing(y)\n",
    "        println(\"No y is given with $x\")\n",
    "    else\n",
    "        println(\"y = $y with $x\")\n",
    "    end\n",
    "end\n",
    "\n",
    "f(1.0)\n",
    "    "
   ]
  },
  {
   "cell_type": "code",
   "execution_count": 140,
   "id": "34bc53eb-c0e9-453f-85b6-134768dfc759",
   "metadata": {},
   "outputs": [
    {
     "name": "stdout",
     "output_type": "stream",
     "text": [
      "y = 2.0 with 1.0\n"
     ]
    }
   ],
   "source": [
    "f(1.0, y = 2.0)"
   ]
  },
  {
   "cell_type": "code",
   "execution_count": 141,
   "id": "0a9a897a-0948-4ff4-adcb-7fb470c74070",
   "metadata": {},
   "outputs": [
    {
     "data": {
      "text/plain": [
       "0.1"
      ]
     },
     "execution_count": 141,
     "metadata": {},
     "output_type": "execute_result"
    }
   ],
   "source": [
    "function f(x)\n",
    "    if x > 0.0\n",
    "        return x\n",
    "    else\n",
    "        return NaN\n",
    "    end\n",
    "end\n",
    "\n",
    "f(0.1)"
   ]
  },
  {
   "cell_type": "code",
   "execution_count": 142,
   "id": "61f1bcf1-fe05-405f-a4df-73da187a5804",
   "metadata": {},
   "outputs": [
    {
     "data": {
      "text/plain": [
       "NaN"
      ]
     },
     "execution_count": 142,
     "metadata": {},
     "output_type": "execute_result"
    }
   ],
   "source": [
    "f(-0.1)"
   ]
  },
  {
   "cell_type": "code",
   "execution_count": 143,
   "id": "5d429628-28bd-4a48-a442-3f60623883e8",
   "metadata": {},
   "outputs": [
    {
     "data": {
      "text/plain": [
       "Float64"
      ]
     },
     "execution_count": 143,
     "metadata": {},
     "output_type": "execute_result"
    }
   ],
   "source": [
    "typeof(f(0.2))"
   ]
  },
  {
   "cell_type": "code",
   "execution_count": 144,
   "id": "83b70c6e-8f18-4a9b-91e5-99b68aa3cc6f",
   "metadata": {},
   "outputs": [
    {
     "data": {
      "text/plain": [
       "false"
      ]
     },
     "execution_count": 144,
     "metadata": {},
     "output_type": "execute_result"
    }
   ],
   "source": [
    "f(-0.1)==NaN "
   ]
  },
  {
   "cell_type": "code",
   "execution_count": 145,
   "id": "d9074858-795f-4954-b675-d6aba3c477a0",
   "metadata": {},
   "outputs": [
    {
     "data": {
      "text/plain": [
       "DomainError(-1.0, \"sqrt was called with a negative real argument but will only return a complex result if called with a complex argument. Try sqrt(Complex(x)).\")"
      ]
     },
     "execution_count": 145,
     "metadata": {},
     "output_type": "execute_result"
    }
   ],
   "source": [
    "try\n",
    "    sqrt(-1)\n",
    "catch err\n",
    "    err\n",
    "end"
   ]
  },
  {
   "cell_type": "code",
   "execution_count": 146,
   "id": "db3f4dd8-5f34-4495-a008-87e6cbeb8371",
   "metadata": {},
   "outputs": [
    {
     "ename": "LoadError",
     "evalue": "DomainError with -1.0:\nsqrt was called with a negative real argument but will only return a complex result if called with a complex argument. Try sqrt(Complex(x)).",
     "output_type": "error",
     "traceback": [
      "DomainError with -1.0:\nsqrt was called with a negative real argument but will only return a complex result if called with a complex argument. Try sqrt(Complex(x)).",
      "",
      "Stacktrace:",
      " [1] throw_complex_domainerror(f::Symbol, x::Float64)",
      "   @ Base.Math .\\math.jl:33",
      " [2] sqrt",
      "   @ .\\math.jl:686 [inlined]",
      " [3] sqrt(x::Int64)",
      "   @ Base.Math .\\math.jl:1578",
      " [4] top-level scope",
      "   @ In[146]:1"
     ]
    }
   ],
   "source": [
    "sqrt(-1)"
   ]
  },
  {
   "cell_type": "code",
   "execution_count": 147,
   "id": "93770267-08c8-4d56-8b04-1ce4eb893917",
   "metadata": {},
   "outputs": [
    {
     "data": {
      "text/plain": [
       "InexactError(:Int64, Int64, 3.14)"
      ]
     },
     "execution_count": 147,
     "metadata": {},
     "output_type": "execute_result"
    }
   ],
   "source": [
    "try \n",
    "    convert(Int64, 3.14)\n",
    "catch err\n",
    "    err\n",
    "end\n"
   ]
  },
  {
   "cell_type": "code",
   "execution_count": 148,
   "id": "fad8234d-d49a-408f-a913-ac244d2d280c",
   "metadata": {},
   "outputs": [
    {
     "data": {
      "text/plain": [
       "1.0"
      ]
     },
     "execution_count": 148,
     "metadata": {},
     "output_type": "execute_result"
    }
   ],
   "source": [
    "function f(x)\n",
    "    try \n",
    "        sqrt(x)\n",
    "    catch err\n",
    "        sqrt(complex(x,0))\n",
    "    end\n",
    "end\n",
    "\n",
    "f(1.0)"
   ]
  },
  {
   "cell_type": "code",
   "execution_count": 149,
   "id": "c9ed5aa7-48ef-4857-901a-235a8ef908d0",
   "metadata": {},
   "outputs": [
    {
     "data": {
      "text/plain": [
       "0.0 + 1.0im"
      ]
     },
     "execution_count": 149,
     "metadata": {},
     "output_type": "execute_result"
    }
   ],
   "source": [
    "f(-1)"
   ]
  },
  {
   "cell_type": "code",
   "execution_count": 150,
   "id": "1331f429-28ce-4972-9bef-97e1aa6a8e4a",
   "metadata": {},
   "outputs": [
    {
     "data": {
      "text/plain": [
       "6-element Vector{Union{Missing, Float64}}:\n",
       " 1.0\n",
       "  missing\n",
       " 2.0\n",
       "  missing\n",
       "  missing\n",
       " 5.0"
      ]
     },
     "execution_count": 150,
     "metadata": {},
     "output_type": "execute_result"
    }
   ],
   "source": [
    "x = [1.0, missing, 2.0, missing, missing, 5.0]"
   ]
  },
  {
   "cell_type": "code",
   "execution_count": 151,
   "id": "ace28086-4e29-4058-bf17-43d95b898873",
   "metadata": {},
   "outputs": [
    {
     "data": {
      "text/plain": [
       "f (generic function with 1 method)"
      ]
     },
     "execution_count": 151,
     "metadata": {},
     "output_type": "execute_result"
    }
   ],
   "source": [
    "f(x) = x^2"
   ]
  },
  {
   "cell_type": "code",
   "execution_count": 152,
   "id": "b2969596-84fe-4ad2-99d0-ee16ddfbfc61",
   "metadata": {},
   "outputs": [
    {
     "ename": "LoadError",
     "evalue": "MethodError: no method matching ^(::Vector{Union{Missing, Float64}}, ::Int64)\n\n\u001b[0mClosest candidates are:\n\u001b[0m  ^(\u001b[91m::Irrational{:ℯ}\u001b[39m, ::Integer)\n\u001b[0m\u001b[90m   @\u001b[39m \u001b[90mBase\u001b[39m \u001b[90m\u001b[4mmathconstants.jl:119\u001b[24m\u001b[39m\n\u001b[0m  ^(\u001b[91m::BigFloat\u001b[39m, ::Integer)\n\u001b[0m\u001b[90m   @\u001b[39m \u001b[90mBase\u001b[39m \u001b[90m\u001b[4mmpfr.jl:670\u001b[24m\u001b[39m\n\u001b[0m  ^(\u001b[91m::Float64\u001b[39m, ::Integer)\n\u001b[0m\u001b[90m   @\u001b[39m \u001b[90mBase\u001b[39m \u001b[90m\u001b[4mmath.jl:1246\u001b[24m\u001b[39m\n\u001b[0m  ...\n",
     "output_type": "error",
     "traceback": [
      "MethodError: no method matching ^(::Vector{Union{Missing, Float64}}, ::Int64)\n\n\u001b[0mClosest candidates are:\n\u001b[0m  ^(\u001b[91m::Irrational{:ℯ}\u001b[39m, ::Integer)\n\u001b[0m\u001b[90m   @\u001b[39m \u001b[90mBase\u001b[39m \u001b[90m\u001b[4mmathconstants.jl:119\u001b[24m\u001b[39m\n\u001b[0m  ^(\u001b[91m::BigFloat\u001b[39m, ::Integer)\n\u001b[0m\u001b[90m   @\u001b[39m \u001b[90mBase\u001b[39m \u001b[90m\u001b[4mmpfr.jl:670\u001b[24m\u001b[39m\n\u001b[0m  ^(\u001b[91m::Float64\u001b[39m, ::Integer)\n\u001b[0m\u001b[90m   @\u001b[39m \u001b[90mBase\u001b[39m \u001b[90m\u001b[4mmath.jl:1246\u001b[24m\u001b[39m\n\u001b[0m  ...\n",
      "",
      "Stacktrace:",
      " [1] literal_pow",
      "   @ .\\intfuncs.jl:351 [inlined]",
      " [2] f(x::Vector{Union{Missing, Float64}})",
      "   @ Main .\\In[151]:1",
      " [3] top-level scope",
      "   @ In[152]:1"
     ]
    }
   ],
   "source": [
    "f(x)"
   ]
  },
  {
   "cell_type": "code",
   "execution_count": 153,
   "id": "6f52c27f-cfcd-4b71-9b19-22e4162e0f38",
   "metadata": {},
   "outputs": [
    {
     "name": "stdout",
     "output_type": "stream",
     "text": [
      "missing + 1 = missing\n"
     ]
    },
    {
     "data": {
      "text/plain": [
       "missing"
      ]
     },
     "execution_count": 153,
     "metadata": {},
     "output_type": "execute_result"
    }
   ],
   "source": [
    "@show missing + 1"
   ]
  },
  {
   "cell_type": "code",
   "execution_count": 154,
   "id": "958fa2ee-1e0a-4aa2-ac47-3cefe57da4f1",
   "metadata": {},
   "outputs": [
    {
     "name": "stdout",
     "output_type": "stream",
     "text": [
      "missing * 2 = missing\n"
     ]
    },
    {
     "data": {
      "text/plain": [
       "missing"
      ]
     },
     "execution_count": 154,
     "metadata": {},
     "output_type": "execute_result"
    }
   ],
   "source": [
    "@show missing*2"
   ]
  },
  {
   "cell_type": "code",
   "execution_count": 155,
   "id": "d6b5f253-957c-4c2f-8cc9-adb2f3fef399",
   "metadata": {},
   "outputs": [
    {
     "name": "stdout",
     "output_type": "stream",
     "text": [
      "f(missing) = missing\n"
     ]
    },
    {
     "data": {
      "text/plain": [
       "missing"
      ]
     },
     "execution_count": 155,
     "metadata": {},
     "output_type": "execute_result"
    }
   ],
   "source": [
    "@show f(missing)"
   ]
  },
  {
   "cell_type": "code",
   "execution_count": 156,
   "id": "0522ddc2-8ccd-40a4-b92b-419708254dca",
   "metadata": {},
   "outputs": [
    {
     "name": "stdout",
     "output_type": "stream",
     "text": [
      "f(1) = 1\n"
     ]
    },
    {
     "data": {
      "text/plain": [
       "1"
      ]
     },
     "execution_count": 156,
     "metadata": {},
     "output_type": "execute_result"
    }
   ],
   "source": [
    "@show f(1)"
   ]
  },
  {
   "cell_type": "code",
   "execution_count": 157,
   "id": "b609dc33-d4ed-4430-9f95-4ce9b78dbe73",
   "metadata": {},
   "outputs": [
    {
     "name": "stdout",
     "output_type": "stream",
     "text": [
      "mean(x) = missing\n"
     ]
    },
    {
     "data": {
      "text/plain": [
       "missing"
      ]
     },
     "execution_count": 157,
     "metadata": {},
     "output_type": "execute_result"
    }
   ],
   "source": [
    "@show mean(x)"
   ]
  },
  {
   "cell_type": "code",
   "execution_count": 158,
   "id": "a62d6d0c-3d50-4f04-9252-302d24ad258d",
   "metadata": {},
   "outputs": [
    {
     "data": {
      "text/plain": [
       "missing"
      ]
     },
     "execution_count": 158,
     "metadata": {},
     "output_type": "execute_result"
    }
   ],
   "source": [
    "x = missing"
   ]
  },
  {
   "cell_type": "code",
   "execution_count": 159,
   "id": "56259f24-f9fa-4682-859a-e01c70c68af5",
   "metadata": {},
   "outputs": [
    {
     "data": {
      "text/plain": [
       "missing"
      ]
     },
     "execution_count": 159,
     "metadata": {},
     "output_type": "execute_result"
    }
   ],
   "source": [
    "x == missing"
   ]
  },
  {
   "cell_type": "code",
   "execution_count": 160,
   "id": "97f3ebac-9fbf-4dd3-bd82-77374cccab3b",
   "metadata": {},
   "outputs": [
    {
     "data": {
      "text/plain": [
       "true"
      ]
     },
     "execution_count": 160,
     "metadata": {},
     "output_type": "execute_result"
    }
   ],
   "source": [
    "x === missing"
   ]
  },
  {
   "cell_type": "code",
   "execution_count": 161,
   "id": "6c3b910c-f31a-4d56-8619-88ca32371fe7",
   "metadata": {},
   "outputs": [
    {
     "data": {
      "text/plain": [
       "true"
      ]
     },
     "execution_count": 161,
     "metadata": {},
     "output_type": "execute_result"
    }
   ],
   "source": [
    "ismissing(missing)"
   ]
  },
  {
   "cell_type": "code",
   "execution_count": 162,
   "id": "5424348e-c5e8-4333-837d-536ac0e82335",
   "metadata": {},
   "outputs": [
    {
     "data": {
      "text/plain": [
       "5-element Vector{Union{Missing, Float64}}:\n",
       " 1.0\n",
       "  missing\n",
       " 3.0\n",
       " 4.0\n",
       "  missing"
      ]
     },
     "execution_count": 162,
     "metadata": {},
     "output_type": "execute_result"
    }
   ],
   "source": [
    "x = [1.0, missing, 3.0, 4.0, missing]"
   ]
  },
  {
   "cell_type": "code",
   "execution_count": 163,
   "id": "3e7c74cb-821f-4162-a082-0e90eca77db2",
   "metadata": {},
   "outputs": [
    {
     "data": {
      "text/plain": [
       "5-element Vector{Float64}:\n",
       " 1.0\n",
       " 0.0\n",
       " 3.0\n",
       " 4.0\n",
       " 0.0"
      ]
     },
     "execution_count": 163,
     "metadata": {},
     "output_type": "execute_result"
    }
   ],
   "source": [
    "coalesce.(x, 0.0)"
   ]
  },
  {
   "cell_type": "code",
   "execution_count": 181,
   "id": "4d552300-1039-4561-b7cf-08940d589407",
   "metadata": {},
   "outputs": [
    {
     "name": "stdout",
     "output_type": "stream",
     "text": [
      "Convergence occured after 50 iterations\n",
      "Asymptotic variance matrix S:\n",
      "[0.6712283007263011 0.6334755235498987; 0.6334755235498988 0.858873651268526]\n"
     ]
    }
   ],
   "source": [
    "## Exercise 1\n",
    "A = [0.8 -0.2; -0.1 0.7]\n",
    "Σ = [0.5 0.4; 0.4 0.6]\n",
    "\n",
    "## Initialise your covariance matrix, S_0\n",
    "S_0 = zeros(2,2)\n",
    "\n",
    "## Define tolerance for convergence\n",
    "tol = 1e-6\n",
    "\n",
    "## Define Q matrix\n",
    "Q = Σ * Σ'\n",
    "\n",
    "## Maximum number of iterations\n",
    "max_iters = 1000\n",
    "\n",
    "## Iterative process to find unconditional variance of stochastic difference equation\n",
    "function find_asymptotic_variance(A, Σ, S_0, tol, max_iters)\n",
    "    S_previous = S_0\n",
    "    for i in 1:max_iters\n",
    "    S_next = A * S_previous * A' + Σ * Σ'\n",
    "    if norm(S_next - S_previous) < tol\n",
    "        println(\"Convergence occured after $i iterations\")\n",
    "        return S_next\n",
    "    end\n",
    "    S_previous = S_next\n",
    "    end\n",
    "println(\"Reached max number of iterations without convergence ($max_iters)\")\n",
    "return S_previous\n",
    "end\n",
    "\n",
    "# Call the function to find the asymptotic variance matrix S\n",
    "S = find_asymptotic_variance(A, Σ, S_0, tol, max_iters)\n",
    "\n",
    "# Print the result\n",
    "println(\"Asymptotic variance matrix S:\")\n",
    "println(S)"
   ]
  },
  {
   "cell_type": "code",
   "execution_count": 182,
   "id": "ebab989d-7716-4dfe-9275-90355a33110e",
   "metadata": {},
   "outputs": [],
   "source": [
    "using QuantEcon"
   ]
  },
  {
   "cell_type": "code",
   "execution_count": 183,
   "id": "1bd45c08-90e7-4723-ba6a-d1fa5d79a430",
   "metadata": {},
   "outputs": [
    {
     "data": {
      "text/plain": [
       "2×2 Matrix{Float64}:\n",
       " 0.671231  0.633474\n",
       " 0.633474  0.858874"
      ]
     },
     "execution_count": 183,
     "metadata": {},
     "output_type": "execute_result"
    }
   ],
   "source": [
    "solve_discrete_lyapunov(A, Σ * Σ')"
   ]
  },
  {
   "cell_type": "code",
   "execution_count": 184,
   "id": "7f31a505-b605-475b-b75a-016758632f6f",
   "metadata": {},
   "outputs": [
    {
     "data": {
      "text/plain": [
       "3.883245447999784e-6"
      ]
     },
     "execution_count": 184,
     "metadata": {},
     "output_type": "execute_result"
    }
   ],
   "source": [
    "norm(S - solve_discrete_lyapunov(A, Σ * Σ'))"
   ]
  },
  {
   "cell_type": "code",
   "execution_count": 185,
   "id": "4ce5df62-76d2-467a-853d-34bf947f45e1",
   "metadata": {},
   "outputs": [],
   "source": [
    "## Exercise 2\n",
    "using Distributions"
   ]
  },
  {
   "cell_type": "code",
   "execution_count": 291,
   "id": "599ff9b5-95a9-48a0-aabf-122c5986a31f",
   "metadata": {},
   "outputs": [],
   "source": [
    "## Parameters\n",
    "T = 150\n",
    "μ = 0\n",
    "std_dev = 1\n",
    "dist = Normal(μ, std_dev)\n",
    "θ = [0.8; 0.9; 0.98]\n",
    "n = size(θ,1)\n",
    "γ = ones(n)\n",
    "σ = 1\n",
    "y = zeros(n, T+1)\n",
    "\n",
    "## Initialise\n",
    "y_init = γ + σ * Vector(rand(dist, 3))\n",
    "\n",
    "y[:,1] = y_init\n",
    "\n",
    "for t in 1:T\n",
    "    y[:,t+1] = γ + θ .* y[:,t] + σ\t* Vector(rand(dist, 3))\n",
    "end\n"
   ]
  },
  {
   "cell_type": "code",
   "execution_count": 292,
   "id": "b11db2d2-a31f-4ea6-84eb-c91764262343",
   "metadata": {},
   "outputs": [
    {
     "data": {
      "image/png": "[encoded data removed]",
      "image/svg+xml": [
       "<?xml version=\"1.0\" encoding=\"utf-8\"?>\n",
       "<svg xmlns=\"http://www.w3.org/2000/svg\" xmlns:xlink=\"http://www.w3.org/1999/xlink\" width=\"600\" height=\"400\" viewBox=\"0 0 2400 1600\">\n",
       "<defs>\n",
       "  <clipPath id=\"clip120\">\n",
       "    <rect x=\"0\" y=\"0\" width=\"2400\" height=\"1600\"/>\n",
       "  </clipPath>\n",
       "</defs>\n",
       "<path clip-path=\"url(#clip120)\" d=\"M0 1600 L2400 1600 L2400 0 L0 0  Z\" fill=\"#ffffff\" fill-rule=\"evenodd\" fill-opacity=\"1\"/>\n",
       "<defs>\n",
       "  <clipPath id=\"clip121\">\n",
       "    <rect x=\"480\" y=\"0\" width=\"1681\" height=\"1600\"/>\n",
       "  </clipPath>\n",
       "</defs>\n",
       "<path clip-path=\"url(#clip120)\" d=\"M141.853 1486.45 L2352.76 1486.45 L2352.76 47.2441 L141.853 47.2441  Z\" fill=\"#ffffff\" fill-rule=\"evenodd\" fill-opacity=\"1\"/>\n",
       "<defs>\n",
       "  <clipPath id=\"clip122\">\n",
       "    <rect x=\"141\" y=\"47\" width=\"2212\" height=\"1440\"/>\n",
       "  </clipPath>\n",
       "</defs>\n",
       "<polyline clip-path=\"url(#clip122)\" style=\"stroke:#000000; stroke-linecap:round; stroke-linejoin:round; stroke-width:2; stroke-opacity:0.1; fill:none\" points=\"190.521,1486.45 190.521,47.2441 \"/>\n",
       "<polyline clip-path=\"url(#clip122)\" style=\"stroke:#000000; stroke-linecap:round; stroke-linejoin:round; stroke-width:2; stroke-opacity:0.1; fill:none\" points=\"885.773,1486.45 885.773,47.2441 \"/>\n",
       "<polyline clip-path=\"url(#clip122)\" style=\"stroke:#000000; stroke-linecap:round; stroke-linejoin:round; stroke-width:2; stroke-opacity:0.1; fill:none\" points=\"1581.03,1486.45 1581.03,47.2441 \"/>\n",
       "<polyline clip-path=\"url(#clip122)\" style=\"stroke:#000000; stroke-linecap:round; stroke-linejoin:round; stroke-width:2; stroke-opacity:0.1; fill:none\" points=\"2276.28,1486.45 2276.28,47.2441 \"/>\n",
       "<polyline clip-path=\"url(#clip120)\" style=\"stroke:#000000; stroke-linecap:round; stroke-linejoin:round; stroke-width:4; stroke-opacity:1; fill:none\" points=\"141.853,1486.45 2352.76,1486.45 \"/>\n",
       "<polyline clip-path=\"url(#clip120)\" style=\"stroke:#000000; stroke-linecap:round; stroke-linejoin:round; stroke-width:4; stroke-opacity:1; fill:none\" points=\"190.521,1486.45 190.521,1467.55 \"/>\n",
       "<polyline clip-path=\"url(#clip120)\" style=\"stroke:#000000; stroke-linecap:round; stroke-linejoin:round; stroke-width:4; stroke-opacity:1; fill:none\" points=\"885.773,1486.45 885.773,1467.55 \"/>\n",
       "<polyline clip-path=\"url(#clip120)\" style=\"stroke:#000000; stroke-linecap:round; stroke-linejoin:round; stroke-width:4; stroke-opacity:1; fill:none\" points=\"1581.03,1486.45 1581.03,1467.55 \"/>\n",
       "<polyline clip-path=\"url(#clip120)\" style=\"stroke:#000000; stroke-linecap:round; stroke-linejoin:round; stroke-width:4; stroke-opacity:1; fill:none\" points=\"2276.28,1486.45 2276.28,1467.55 \"/>\n",
       "<path clip-path=\"url(#clip120)\" d=\"M190.521 1517.37 Q186.91 1517.37 185.081 1520.93 Q183.275 1524.47 183.275 1531.6 Q183.275 1538.71 185.081 1542.27 Q186.91 1545.82 190.521 1545.82 Q194.155 1545.82 195.96 1542.27 Q197.789 1538.71 197.789 1531.6 Q197.789 1524.47 195.96 1520.93 Q194.155 1517.37 190.521 1517.37 M190.521 1513.66 Q196.331 1513.66 199.386 1518.27 Q202.465 1522.85 202.465 1531.6 Q202.465 1540.33 199.386 1544.94 Q196.331 1549.52 190.521 1549.52 Q184.71 1549.52 181.632 1544.94 Q178.576 1540.33 178.576 1531.6 Q178.576 1522.85 181.632 1518.27 Q184.71 1513.66 190.521 1513.66 Z\" fill=\"#000000\" fill-rule=\"nonzero\" fill-opacity=\"1\" /><path clip-path=\"url(#clip120)\" d=\"M860.472 1514.29 L878.829 1514.29 L878.829 1518.22 L864.755 1518.22 L864.755 1526.7 Q865.773 1526.35 866.792 1526.19 Q867.81 1526 868.829 1526 Q874.616 1526 877.995 1529.17 Q881.375 1532.34 881.375 1537.76 Q881.375 1543.34 877.903 1546.44 Q874.431 1549.52 868.111 1549.52 Q865.935 1549.52 863.667 1549.15 Q861.421 1548.78 859.014 1548.04 L859.014 1543.34 Q861.097 1544.47 863.32 1545.03 Q865.542 1545.58 868.019 1545.58 Q872.023 1545.58 874.361 1543.48 Q876.699 1541.37 876.699 1537.76 Q876.699 1534.15 874.361 1532.04 Q872.023 1529.94 868.019 1529.94 Q866.144 1529.94 864.269 1530.35 Q862.417 1530.77 860.472 1531.65 L860.472 1514.29 Z\" fill=\"#000000\" fill-rule=\"nonzero\" fill-opacity=\"1\" /><path clip-path=\"url(#clip120)\" d=\"M900.588 1517.37 Q896.977 1517.37 895.148 1520.93 Q893.343 1524.47 893.343 1531.6 Q893.343 1538.71 895.148 1542.27 Q896.977 1545.82 900.588 1545.82 Q904.222 1545.82 906.028 1542.27 Q907.856 1538.71 907.856 1531.6 Q907.856 1524.47 906.028 1520.93 Q904.222 1517.37 900.588 1517.37 M900.588 1513.66 Q906.398 1513.66 909.454 1518.27 Q912.532 1522.85 912.532 1531.6 Q912.532 1540.33 909.454 1544.94 Q906.398 1549.52 900.588 1549.52 Q894.778 1549.52 891.699 1544.94 Q888.643 1540.33 888.643 1531.6 Q888.643 1522.85 891.699 1518.27 Q894.778 1513.66 900.588 1513.66 Z\" fill=\"#000000\" fill-rule=\"nonzero\" fill-opacity=\"1\" /><path clip-path=\"url(#clip120)\" d=\"M1540.63 1544.91 L1548.27 1544.91 L1548.27 1518.55 L1539.96 1520.21 L1539.96 1515.95 L1548.22 1514.29 L1552.9 1514.29 L1552.9 1544.91 L1560.54 1544.91 L1560.54 1548.85 L1540.63 1548.85 L1540.63 1544.91 Z\" fill=\"#000000\" fill-rule=\"nonzero\" fill-opacity=\"1\" /><path clip-path=\"url(#clip120)\" d=\"M1579.98 1517.37 Q1576.37 1517.37 1574.54 1520.93 Q1572.74 1524.47 1572.74 1531.6 Q1572.74 1538.71 1574.54 1542.27 Q1576.37 1545.82 1579.98 1545.82 Q1583.62 1545.82 1585.42 1542.27 Q1587.25 1538.71 1587.25 1531.6 Q1587.25 1524.47 1585.42 1520.93 Q1583.62 1517.37 1579.98 1517.37 M1579.98 1513.66 Q1585.79 1513.66 1588.85 1518.27 Q1591.93 1522.85 1591.93 1531.6 Q1591.93 1540.33 1588.85 1544.94 Q1585.79 1549.52 1579.98 1549.52 Q1574.17 1549.52 1571.1 1544.94 Q1568.04 1540.33 1568.04 1531.6 Q1568.04 1522.85 1571.1 1518.27 Q1574.17 1513.66 1579.98 1513.66 Z\" fill=\"#000000\" fill-rule=\"nonzero\" fill-opacity=\"1\" /><path clip-path=\"url(#clip120)\" d=\"M1610.15 1517.37 Q1606.53 1517.37 1604.71 1520.93 Q1602.9 1524.47 1602.9 1531.6 Q1602.9 1538.71 1604.71 1542.27 Q1606.53 1545.82 1610.15 1545.82 Q1613.78 1545.82 1615.59 1542.27 Q1617.41 1538.71 1617.41 1531.6 Q1617.41 1524.47 1615.59 1520.93 Q1613.78 1517.37 1610.15 1517.37 M1610.15 1513.66 Q1615.96 1513.66 1619.01 1518.27 Q1622.09 1522.85 1622.09 1531.6 Q1622.09 1540.33 1619.01 1544.94 Q1615.96 1549.52 1610.15 1549.52 Q1604.34 1549.52 1601.26 1544.94 Q1598.2 1540.33 1598.2 1531.6 Q1598.2 1522.85 1601.26 1518.27 Q1604.34 1513.66 1610.15 1513.66 Z\" fill=\"#000000\" fill-rule=\"nonzero\" fill-opacity=\"1\" /><path clip-path=\"url(#clip120)\" d=\"M2235.88 1544.91 L2243.52 1544.91 L2243.52 1518.55 L2235.21 1520.21 L2235.21 1515.95 L2243.48 1514.29 L2248.15 1514.29 L2248.15 1544.91 L2255.79 1544.91 L2255.79 1548.85 L2235.88 1548.85 L2235.88 1544.91 Z\" fill=\"#000000\" fill-rule=\"nonzero\" fill-opacity=\"1\" /><path clip-path=\"url(#clip120)\" d=\"M2265.28 1514.29 L2283.64 1514.29 L2283.64 1518.22 L2269.57 1518.22 L2269.57 1526.7 Q2270.58 1526.35 2271.6 1526.19 Q2272.62 1526 2273.64 1526 Q2279.43 1526 2282.81 1529.17 Q2286.19 1532.34 2286.19 1537.76 Q2286.19 1543.34 2282.71 1546.44 Q2279.24 1549.52 2272.92 1549.52 Q2270.75 1549.52 2268.48 1549.15 Q2266.23 1548.78 2263.82 1548.04 L2263.82 1543.34 Q2265.91 1544.47 2268.13 1545.03 Q2270.35 1545.58 2272.83 1545.58 Q2276.83 1545.58 2279.17 1543.48 Q2281.51 1541.37 2281.51 1537.76 Q2281.51 1534.15 2279.17 1532.04 Q2276.83 1529.94 2272.83 1529.94 Q2270.95 1529.94 2269.08 1530.35 Q2267.23 1530.77 2265.28 1531.65 L2265.28 1514.29 Z\" fill=\"#000000\" fill-rule=\"nonzero\" fill-opacity=\"1\" /><path clip-path=\"url(#clip120)\" d=\"M2305.4 1517.37 Q2301.79 1517.37 2299.96 1520.93 Q2298.15 1524.47 2298.15 1531.6 Q2298.15 1538.71 2299.96 1542.27 Q2301.79 1545.82 2305.4 1545.82 Q2309.03 1545.82 2310.84 1542.27 Q2312.67 1538.71 2312.67 1531.6 Q2312.67 1524.47 2310.84 1520.93 Q2309.03 1517.37 2305.4 1517.37 M2305.4 1513.66 Q2311.21 1513.66 2314.26 1518.27 Q2317.34 1522.85 2317.34 1531.6 Q2317.34 1540.33 2314.26 1544.94 Q2311.21 1549.52 2305.4 1549.52 Q2299.59 1549.52 2296.51 1544.94 Q2293.45 1540.33 2293.45 1531.6 Q2293.45 1522.85 2296.51 1518.27 Q2299.59 1513.66 2305.4 1513.66 Z\" fill=\"#000000\" fill-rule=\"nonzero\" fill-opacity=\"1\" /><polyline clip-path=\"url(#clip122)\" style=\"stroke:#000000; stroke-linecap:round; stroke-linejoin:round; stroke-width:2; stroke-opacity:0.1; fill:none\" points=\"141.853,1429.69 2352.76,1429.69 \"/>\n",
       "<polyline clip-path=\"url(#clip122)\" style=\"stroke:#000000; stroke-linecap:round; stroke-linejoin:round; stroke-width:2; stroke-opacity:0.1; fill:none\" points=\"141.853,1174.25 2352.76,1174.25 \"/>\n",
       "<polyline clip-path=\"url(#clip122)\" style=\"stroke:#000000; stroke-linecap:round; stroke-linejoin:round; stroke-width:2; stroke-opacity:0.1; fill:none\" points=\"141.853,918.813 2352.76,918.813 \"/>\n",
       "<polyline clip-path=\"url(#clip122)\" style=\"stroke:#000000; stroke-linecap:round; stroke-linejoin:round; stroke-width:2; stroke-opacity:0.1; fill:none\" points=\"141.853,663.376 2352.76,663.376 \"/>\n",
       "<polyline clip-path=\"url(#clip122)\" style=\"stroke:#000000; stroke-linecap:round; stroke-linejoin:round; stroke-width:2; stroke-opacity:0.1; fill:none\" points=\"141.853,407.939 2352.76,407.939 \"/>\n",
       "<polyline clip-path=\"url(#clip122)\" style=\"stroke:#000000; stroke-linecap:round; stroke-linejoin:round; stroke-width:2; stroke-opacity:0.1; fill:none\" points=\"141.853,152.502 2352.76,152.502 \"/>\n",
       "<polyline clip-path=\"url(#clip120)\" style=\"stroke:#000000; stroke-linecap:round; stroke-linejoin:round; stroke-width:4; stroke-opacity:1; fill:none\" points=\"141.853,1486.45 141.853,47.2441 \"/>\n",
       "<polyline clip-path=\"url(#clip120)\" style=\"stroke:#000000; stroke-linecap:round; stroke-linejoin:round; stroke-width:4; stroke-opacity:1; fill:none\" points=\"141.853,1429.69 160.751,1429.69 \"/>\n",
       "<polyline clip-path=\"url(#clip120)\" style=\"stroke:#000000; stroke-linecap:round; stroke-linejoin:round; stroke-width:4; stroke-opacity:1; fill:none\" points=\"141.853,1174.25 160.751,1174.25 \"/>\n",
       "<polyline clip-path=\"url(#clip120)\" style=\"stroke:#000000; stroke-linecap:round; stroke-linejoin:round; stroke-width:4; stroke-opacity:1; fill:none\" points=\"141.853,918.813 160.751,918.813 \"/>\n",
       "<polyline clip-path=\"url(#clip120)\" style=\"stroke:#000000; stroke-linecap:round; stroke-linejoin:round; stroke-width:4; stroke-opacity:1; fill:none\" points=\"141.853,663.376 160.751,663.376 \"/>\n",
       "<polyline clip-path=\"url(#clip120)\" style=\"stroke:#000000; stroke-linecap:round; stroke-linejoin:round; stroke-width:4; stroke-opacity:1; fill:none\" points=\"141.853,407.939 160.751,407.939 \"/>\n",
       "<polyline clip-path=\"url(#clip120)\" style=\"stroke:#000000; stroke-linecap:round; stroke-linejoin:round; stroke-width:4; stroke-opacity:1; fill:none\" points=\"141.853,152.502 160.751,152.502 \"/>\n",
       "<path clip-path=\"url(#clip120)\" d=\"M93.9086 1415.49 Q90.2975 1415.49 88.4688 1419.05 Q86.6632 1422.59 86.6632 1429.72 Q86.6632 1436.83 88.4688 1440.39 Q90.2975 1443.93 93.9086 1443.93 Q97.5428 1443.93 99.3483 1440.39 Q101.177 1436.83 101.177 1429.72 Q101.177 1422.59 99.3483 1419.05 Q97.5428 1415.49 93.9086 1415.49 M93.9086 1411.78 Q99.7187 1411.78 102.774 1416.39 Q105.853 1420.97 105.853 1429.72 Q105.853 1438.45 102.774 1443.05 Q99.7187 1447.64 93.9086 1447.64 Q88.0984 1447.64 85.0197 1443.05 Q81.9642 1438.45 81.9642 1429.72 Q81.9642 1420.97 85.0197 1416.39 Q88.0984 1411.78 93.9086 1411.78 Z\" fill=\"#000000\" fill-rule=\"nonzero\" fill-opacity=\"1\" /><path clip-path=\"url(#clip120)\" d=\"M54.5569 1187.59 L62.1958 1187.59 L62.1958 1161.23 L53.8856 1162.9 L53.8856 1158.64 L62.1495 1156.97 L66.8254 1156.97 L66.8254 1187.59 L74.4642 1187.59 L74.4642 1191.53 L54.5569 1191.53 L54.5569 1187.59 Z\" fill=\"#000000\" fill-rule=\"nonzero\" fill-opacity=\"1\" /><path clip-path=\"url(#clip120)\" d=\"M93.9086 1160.05 Q90.2975 1160.05 88.4688 1163.61 Q86.6632 1167.15 86.6632 1174.28 Q86.6632 1181.39 88.4688 1184.96 Q90.2975 1188.5 93.9086 1188.5 Q97.5428 1188.5 99.3483 1184.96 Q101.177 1181.39 101.177 1174.28 Q101.177 1167.15 99.3483 1163.61 Q97.5428 1160.05 93.9086 1160.05 M93.9086 1156.34 Q99.7187 1156.34 102.774 1160.95 Q105.853 1165.53 105.853 1174.28 Q105.853 1183.01 102.774 1187.62 Q99.7187 1192.2 93.9086 1192.2 Q88.0984 1192.2 85.0197 1187.62 Q81.9642 1183.01 81.9642 1174.28 Q81.9642 1165.53 85.0197 1160.95 Q88.0984 1156.34 93.9086 1156.34 Z\" fill=\"#000000\" fill-rule=\"nonzero\" fill-opacity=\"1\" /><path clip-path=\"url(#clip120)\" d=\"M57.7745 932.158 L74.0939 932.158 L74.0939 936.093 L52.1495 936.093 L52.1495 932.158 Q54.8115 929.403 59.3949 924.773 Q64.0013 920.121 65.1819 918.778 Q67.4272 916.255 68.3068 914.519 Q69.2096 912.76 69.2096 911.07 Q69.2096 908.315 67.2652 906.579 Q65.3439 904.843 62.2421 904.843 Q60.043 904.843 57.5893 905.607 Q55.1588 906.371 52.381 907.922 L52.381 903.199 Q55.2051 902.065 57.6588 901.486 Q60.1124 900.908 62.1495 900.908 Q67.5198 900.908 70.7142 903.593 Q73.9087 906.278 73.9087 910.769 Q73.9087 912.898 73.0985 914.82 Q72.3115 916.718 70.205 919.31 Q69.6263 919.982 66.5245 923.199 Q63.4226 926.394 57.7745 932.158 Z\" fill=\"#000000\" fill-rule=\"nonzero\" fill-opacity=\"1\" /><path clip-path=\"url(#clip120)\" d=\"M93.9086 904.611 Q90.2975 904.611 88.4688 908.176 Q86.6632 911.718 86.6632 918.847 Q86.6632 925.954 88.4688 929.519 Q90.2975 933.06 93.9086 933.06 Q97.5428 933.06 99.3483 929.519 Q101.177 925.954 101.177 918.847 Q101.177 911.718 99.3483 908.176 Q97.5428 904.611 93.9086 904.611 M93.9086 900.908 Q99.7187 900.908 102.774 905.514 Q105.853 910.098 105.853 918.847 Q105.853 927.574 102.774 932.181 Q99.7187 936.764 93.9086 936.764 Q88.0984 936.764 85.0197 932.181 Q81.9642 927.574 81.9642 918.847 Q81.9642 910.098 85.0197 905.514 Q88.0984 900.908 93.9086 900.908 Z\" fill=\"#000000\" fill-rule=\"nonzero\" fill-opacity=\"1\" /><path clip-path=\"url(#clip120)\" d=\"M67.9133 662.022 Q71.2698 662.739 73.1448 665.008 Q75.0429 667.276 75.0429 670.61 Q75.0429 675.725 71.5244 678.526 Q68.0059 681.327 61.5245 681.327 Q59.3486 681.327 57.0338 680.887 Q54.7421 680.471 52.2884 679.614 L52.2884 675.1 Q54.2328 676.235 56.5477 676.813 Q58.8625 677.392 61.3856 677.392 Q65.7837 677.392 68.0754 675.656 Q70.3902 673.92 70.3902 670.61 Q70.3902 667.554 68.2374 665.841 Q66.1078 664.105 62.2884 664.105 L58.2606 664.105 L58.2606 660.262 L62.4735 660.262 Q65.9226 660.262 67.7513 658.897 Q69.58 657.508 69.58 654.915 Q69.58 652.253 67.6819 650.841 Q65.8069 649.406 62.2884 649.406 Q60.3671 649.406 58.168 649.823 Q55.969 650.239 53.3301 651.119 L53.3301 646.952 Q55.9921 646.212 58.3069 645.841 Q60.6449 645.471 62.705 645.471 Q68.0291 645.471 71.1309 647.901 Q74.2327 650.309 74.2327 654.429 Q74.2327 657.3 72.5892 659.29 Q70.9457 661.258 67.9133 662.022 Z\" fill=\"#000000\" fill-rule=\"nonzero\" fill-opacity=\"1\" /><path clip-path=\"url(#clip120)\" d=\"M93.9086 649.175 Q90.2975 649.175 88.4688 652.739 Q86.6632 656.281 86.6632 663.411 Q86.6632 670.517 88.4688 674.082 Q90.2975 677.623 93.9086 677.623 Q97.5428 677.623 99.3483 674.082 Q101.177 670.517 101.177 663.411 Q101.177 656.281 99.3483 652.739 Q97.5428 649.175 93.9086 649.175 M93.9086 645.471 Q99.7187 645.471 102.774 650.077 Q105.853 654.661 105.853 663.411 Q105.853 672.137 102.774 676.744 Q99.7187 681.327 93.9086 681.327 Q88.0984 681.327 85.0197 676.744 Q81.9642 672.137 81.9642 663.411 Q81.9642 654.661 85.0197 650.077 Q88.0984 645.471 93.9086 645.471 Z\" fill=\"#000000\" fill-rule=\"nonzero\" fill-opacity=\"1\" /><path clip-path=\"url(#clip120)\" d=\"M66.5939 394.733 L54.7884 413.182 L66.5939 413.182 L66.5939 394.733 M65.367 390.659 L71.2466 390.659 L71.2466 413.182 L76.1772 413.182 L76.1772 417.071 L71.2466 417.071 L71.2466 425.219 L66.5939 425.219 L66.5939 417.071 L50.9921 417.071 L50.9921 412.557 L65.367 390.659 Z\" fill=\"#000000\" fill-rule=\"nonzero\" fill-opacity=\"1\" /><path clip-path=\"url(#clip120)\" d=\"M93.9086 393.738 Q90.2975 393.738 88.4688 397.303 Q86.6632 400.844 86.6632 407.974 Q86.6632 415.08 88.4688 418.645 Q90.2975 422.187 93.9086 422.187 Q97.5428 422.187 99.3483 418.645 Q101.177 415.08 101.177 407.974 Q101.177 400.844 99.3483 397.303 Q97.5428 393.738 93.9086 393.738 M93.9086 390.034 Q99.7187 390.034 102.774 394.64 Q105.853 399.224 105.853 407.974 Q105.853 416.701 102.774 421.307 Q99.7187 425.89 93.9086 425.89 Q88.0984 425.89 85.0197 421.307 Q81.9642 416.701 81.9642 407.974 Q81.9642 399.224 85.0197 394.64 Q88.0984 390.034 93.9086 390.034 Z\" fill=\"#000000\" fill-rule=\"nonzero\" fill-opacity=\"1\" /><path clip-path=\"url(#clip120)\" d=\"M53.793 135.222 L72.1494 135.222 L72.1494 139.157 L58.0754 139.157 L58.0754 147.63 Q59.0939 147.282 60.1124 147.12 Q61.131 146.935 62.1495 146.935 Q67.9365 146.935 71.3161 150.106 Q74.6957 153.278 74.6957 158.694 Q74.6957 164.273 71.2235 167.375 Q67.7513 170.453 61.4319 170.453 Q59.256 170.453 56.9875 170.083 Q54.7421 169.713 52.3347 168.972 L52.3347 164.273 Q54.418 165.407 56.6402 165.963 Q58.8625 166.518 61.3393 166.518 Q65.3439 166.518 67.6819 164.412 Q70.0198 162.305 70.0198 158.694 Q70.0198 155.083 67.6819 152.977 Q65.3439 150.87 61.3393 150.87 Q59.4643 150.87 57.5893 151.287 Q55.7375 151.704 53.793 152.583 L53.793 135.222 Z\" fill=\"#000000\" fill-rule=\"nonzero\" fill-opacity=\"1\" /><path clip-path=\"url(#clip120)\" d=\"M93.9086 138.301 Q90.2975 138.301 88.4688 141.866 Q86.6632 145.407 86.6632 152.537 Q86.6632 159.643 88.4688 163.208 Q90.2975 166.75 93.9086 166.75 Q97.5428 166.75 99.3483 163.208 Q101.177 159.643 101.177 152.537 Q101.177 145.407 99.3483 141.866 Q97.5428 138.301 93.9086 138.301 M93.9086 134.597 Q99.7187 134.597 102.774 139.204 Q105.853 143.787 105.853 152.537 Q105.853 161.264 102.774 165.87 Q99.7187 170.453 93.9086 170.453 Q88.0984 170.453 85.0197 165.87 Q81.9642 161.264 81.9642 152.537 Q81.9642 143.787 85.0197 139.204 Q88.0984 134.597 93.9086 134.597 Z\" fill=\"#000000\" fill-rule=\"nonzero\" fill-opacity=\"1\" /><polyline clip-path=\"url(#clip122)\" style=\"stroke:#009af9; stroke-linecap:round; stroke-linejoin:round; stroke-width:4; stroke-opacity:1; fill:none\" points=\"204.426,1445.72 218.331,1391.8 232.236,1350.12 246.141,1368.34 260.046,1370.57 273.951,1336.94 287.856,1344.58 301.761,1359.36 315.666,1349.56 329.571,1321.31 343.476,1398.83 357.381,1342.33 371.286,1306.75 385.191,1319.14 399.096,1327.74 413.001,1353.83 426.906,1304.77 440.812,1341.1 454.717,1277.44 468.622,1292.69 482.527,1282.58 496.432,1269.42 510.337,1289.65 524.242,1281.65 538.147,1324.12 552.052,1355.85 565.957,1333.08 579.862,1343.84 593.767,1360.85 607.672,1339.87 621.577,1328.73 635.482,1322.78 649.387,1332.86 663.292,1357.39 677.197,1366.87 691.102,1357.39 705.007,1318.51 718.913,1314.08 732.818,1343.45 746.723,1333.96 760.628,1321.92 774.533,1318.65 788.438,1321.06 802.343,1300.99 816.248,1313.62 830.153,1301.32 844.058,1287.05 857.963,1304.97 871.868,1302.3 885.773,1294.36 899.678,1303.41 913.583,1274.87 927.488,1286.57 941.393,1278.41 955.298,1259.58 969.203,1255.79 983.108,1220.82 997.014,1284.91 1010.92,1305.2 1024.82,1293.81 1038.73,1310.39 1052.63,1325.41 1066.54,1344.54 1080.44,1346.57 1094.35,1277.39 1108.25,1243.43 1122.16,1256.65 1136.06,1257.13 1149.97,1238.72 1163.87,1233.05 1177.78,1213.01 1191.68,1254 1205.59,1243.18 1219.49,1218.05 1233.4,1194.05 1247.3,1234.9 1261.21,1248.84 1275.11,1240.04 1289.02,1254.69 1302.92,1267.35 1316.83,1295.87 1330.73,1324.08 1344.64,1318.75 1358.54,1322.06 1372.45,1273.45 1386.35,1306.25 1400.26,1276.85 1414.17,1290.37 1428.07,1316.6 1441.98,1237.64 1455.88,1263.65 1469.79,1275.19 1483.69,1265.2 1497.6,1287.84 1511.5,1265.8 1525.41,1293.07 1539.31,1325.92 1553.22,1326.39 1567.12,1347.84 1581.03,1365.61 1594.93,1370.4 1608.84,1322.18 1622.74,1310.51 1636.65,1313.33 1650.55,1312.09 1664.46,1326.25 1678.36,1266.14 1692.27,1256.06 1706.17,1243.65 1720.08,1252.43 1733.98,1251.6 1747.89,1250.08 1761.79,1234.16 1775.7,1308.47 1789.6,1335.46 1803.51,1401.2 1817.41,1379.14 1831.32,1364.02 1845.22,1375.3 1859.13,1367.43 1873.03,1379.39 1886.94,1362.07 1900.84,1348.4 1914.75,1290.9 1928.65,1281.26 1942.56,1228.05 1956.46,1252.85 1970.37,1277.36 1984.27,1247.05 1998.18,1264.53 2012.08,1237.41 2025.99,1237.18 2039.89,1257 2053.8,1344.8 2067.7,1340.92 2081.61,1356.45 2095.51,1301.52 2109.42,1277.25 2123.32,1319.39 2137.23,1321.19 2151.13,1307.08 2165.04,1327.93 2178.94,1341.98 2192.85,1332.85 2206.75,1357.55 2220.66,1368.89 2234.56,1364.97 2248.47,1371.01 2262.37,1337.53 2276.28,1323.46 2290.18,1311.54 \"/>\n",
       "<polyline clip-path=\"url(#clip122)\" style=\"stroke:#e26f46; stroke-linecap:round; stroke-linejoin:round; stroke-width:4; stroke-opacity:1; fill:none\" points=\"204.426,1377.86 218.331,1338.66 232.236,1300.52 246.141,1251.18 260.046,1285.27 273.951,1275.45 287.856,1238.26 301.761,1209.8 315.666,1247.83 329.571,1254.46 343.476,1245.71 357.381,1248.72 371.286,1273.42 385.191,1251.37 399.096,1305.83 413.001,1306.85 426.906,1321.16 440.812,1305.96 454.717,1296.5 468.622,1266.92 482.527,1246.34 496.432,1203.64 510.337,1216.45 524.242,1211.67 538.147,1214.25 552.052,1215.73 565.957,1147.06 579.862,1150.07 593.767,1142.11 607.672,1101.78 621.577,1132 635.482,1148.11 649.387,1139.62 663.292,1124.8 677.197,1143.04 691.102,1101.03 705.007,1095.42 718.913,1137.45 732.818,1173.76 746.723,1156.96 760.628,1169.07 774.533,1173.37 788.438,1199.63 802.343,1213.92 816.248,1249.97 830.153,1210.64 844.058,1142.03 857.963,1160.91 871.868,1232.64 885.773,1258.27 899.678,1212.01 913.583,1180.38 927.488,1154.78 941.393,1169.03 955.298,1142.89 969.203,1111.91 983.108,1124.2 997.014,1159.06 1010.92,1176.52 1024.82,1142.13 1038.73,1145.84 1052.63,1127.29 1066.54,1130.6 1080.44,1100.19 1094.35,1105.09 1108.25,1116.12 1122.16,1117.43 1136.06,1133.22 1149.97,1138.37 1163.87,1101.54 1177.78,1139.79 1191.68,1170.44 1205.59,1119.69 1219.49,1140.23 1233.4,1155.09 1247.3,1124.7 1261.21,1127.53 1275.11,1142.75 1289.02,1105.28 1302.92,1133.38 1316.83,1140.02 1330.73,1191.72 1344.64,1168.59 1358.54,1178.65 1372.45,1138.49 1386.35,1144.16 1400.26,1134.82 1414.17,1122.17 1428.07,1151.8 1441.98,1147.15 1455.88,1149.66 1469.79,1139.24 1483.69,1166.01 1497.6,1175.39 1511.5,1153.99 1525.41,1101.87 1539.31,1131.25 1553.22,1082.59 1567.12,1101.64 1581.03,1125.22 1594.93,1130.87 1608.84,1122.52 1622.74,1147.65 1636.65,1134.41 1650.55,1164.19 1664.46,1173.55 1678.36,1154.81 1692.27,1130.3 1706.17,1131.31 1720.08,1145.8 1733.98,1107.74 1747.89,1124.54 1761.79,1143.65 1775.7,1166.1 1789.6,1195.78 1803.51,1195.33 1817.41,1170.12 1831.32,1176.43 1845.22,1186.77 1859.13,1207.84 1873.03,1230.46 1886.94,1202.38 1900.84,1182.01 1914.75,1193.99 1928.65,1188.89 1942.56,1196.79 1956.46,1155.35 1970.37,1170.21 1984.27,1132.4 1998.18,1129.02 2012.08,1163.49 2025.99,1101.56 2039.89,1143.62 2053.8,1153.9 2067.7,1153.77 2081.61,1177.63 2095.51,1158.56 2109.42,1191.83 2123.32,1173.34 2137.23,1168.89 2151.13,1156.53 2165.04,1147.6 2178.94,1201.9 2192.85,1193.64 2206.75,1173.79 2220.66,1179.47 2234.56,1213.04 2248.47,1217.35 2262.37,1217.21 2276.28,1236.24 2290.18,1216.27 \"/>\n",
       "<polyline clip-path=\"url(#clip122)\" style=\"stroke:#3da44d; stroke-linecap:round; stroke-linejoin:round; stroke-width:4; stroke-opacity:1; fill:none\" points=\"204.426,1376.49 218.331,1329.53 232.236,1342.45 246.141,1360.71 260.046,1315.08 273.951,1287.25 287.856,1252.74 301.761,1265.69 315.666,1210.39 329.571,1196.99 343.476,1195.3 357.381,1162.73 371.286,1150.28 385.191,1175.39 399.096,1188.12 413.001,1166.25 426.906,1105.02 440.812,1095.5 454.717,1079.92 468.622,1082.12 482.527,1083.4 496.432,1059.48 510.337,1013.63 524.242,1026.14 538.147,1006.84 552.052,965.271 565.957,938.646 579.862,915.96 593.767,908.292 607.672,837.556 621.577,788.599 635.482,793.81 649.387,779.527 663.292,796.286 677.197,805.066 691.102,792.928 705.007,777.758 718.913,780.639 732.818,741.284 746.723,715.642 760.628,712.773 774.533,708.591 788.438,726.416 802.343,718.425 816.248,701.407 830.153,687.449 844.058,678.574 857.963,669.024 871.868,678.806 885.773,641.475 899.678,580.076 913.583,567.693 927.488,597.739 941.393,625.75 955.298,618.917 969.203,634.2 983.108,617.614 997.014,598.894 1010.92,622.814 1024.82,654.99 1038.73,633.382 1052.63,652.868 1066.54,656.934 1080.44,640.272 1094.35,652.023 1108.25,642.453 1122.16,617.047 1136.06,619.341 1149.97,626.35 1163.87,564.673 1177.78,555.428 1191.68,544.328 1205.59,543.345 1219.49,525.869 1233.4,524.503 1247.3,545.674 1261.21,537.16 1275.11,498.202 1289.02,485.823 1302.92,440.666 1316.83,418.833 1330.73,462.393 1344.64,467.449 1358.54,478.058 1372.45,407.232 1386.35,389.233 1400.26,390.79 1414.17,419.431 1428.07,407.264 1441.98,350.756 1455.88,355.665 1469.79,395.499 1483.69,354.925 1497.6,352.051 1511.5,282.988 1525.41,301.298 1539.31,316.509 1553.22,265.709 1567.12,245.453 1581.03,226.702 1594.93,223.106 1608.84,223.169 1622.74,178.853 1636.65,173.597 1650.55,184.972 1664.46,202.418 1678.36,176.782 1692.27,154.393 1706.17,177.458 1720.08,200.299 1733.98,192.271 1747.89,184.392 1761.79,214.593 1775.7,143.821 1789.6,147.154 1803.51,95.4867 1817.41,100.19 1831.32,87.9763 1845.22,136.102 1859.13,174.676 1873.03,226.913 1886.94,208.693 1900.84,205.968 1914.75,178.96 1928.65,175.042 1942.56,144.94 1956.46,110.712 1970.37,106.94 1984.27,95.9761 1998.18,100.436 2012.08,120.787 2025.99,160.768 2039.89,163.697 2053.8,170.674 2067.7,131.558 2081.61,125.304 2095.51,126.358 2109.42,144.765 2123.32,149.551 2137.23,183.764 2151.13,176.839 2165.04,160.849 2178.94,186.504 2192.85,196.767 2206.75,215.823 2220.66,251.473 2234.56,291.301 2248.47,276.864 2262.37,237.078 2276.28,255.666 2290.18,287.461 \"/>\n",
       "<path clip-path=\"url(#clip120)\" d=\"M215.55 302.578 L489.649 302.578 L489.649 95.2176 L215.55 95.2176  Z\" fill=\"#ffffff\" fill-rule=\"evenodd\" fill-opacity=\"1\"/>\n",
       "<polyline clip-path=\"url(#clip120)\" style=\"stroke:#000000; stroke-linecap:round; stroke-linejoin:round; stroke-width:4; stroke-opacity:1; fill:none\" points=\"215.55,302.578 489.649,302.578 489.649,95.2176 215.55,95.2176 215.55,302.578 \"/>\n",
       "<polyline clip-path=\"url(#clip120)\" style=\"stroke:#009af9; stroke-linecap:round; stroke-linejoin:round; stroke-width:4; stroke-opacity:1; fill:none\" points=\"240.115,147.058 387.509,147.058 \"/>\n",
       "<path clip-path=\"url(#clip120)\" d=\"M425.917 166.745 Q424.111 171.375 422.398 172.787 Q420.685 174.199 417.815 174.199 L414.412 174.199 L414.412 170.634 L416.912 170.634 Q418.672 170.634 419.644 169.8 Q420.616 168.967 421.797 165.865 L422.56 163.921 L412.074 138.412 L416.588 138.412 L424.69 158.689 L432.792 138.412 L437.306 138.412 L425.917 166.745 Z\" fill=\"#000000\" fill-rule=\"nonzero\" fill-opacity=\"1\" /><path clip-path=\"url(#clip120)\" d=\"M444.597 160.402 L452.236 160.402 L452.236 134.037 L443.926 135.703 L443.926 131.444 L452.19 129.778 L456.866 129.778 L456.866 160.402 L464.505 160.402 L464.505 164.338 L444.597 164.338 L444.597 160.402 Z\" fill=\"#000000\" fill-rule=\"nonzero\" fill-opacity=\"1\" /><polyline clip-path=\"url(#clip120)\" style=\"stroke:#e26f46; stroke-linecap:round; stroke-linejoin:round; stroke-width:4; stroke-opacity:1; fill:none\" points=\"240.115,198.898 387.509,198.898 \"/>\n",
       "<path clip-path=\"url(#clip120)\" d=\"M425.917 218.585 Q424.111 223.215 422.398 224.627 Q420.685 226.039 417.815 226.039 L414.412 226.039 L414.412 222.474 L416.912 222.474 Q418.672 222.474 419.644 221.64 Q420.616 220.807 421.797 217.705 L422.56 215.761 L412.074 190.252 L416.588 190.252 L424.69 210.529 L432.792 190.252 L437.306 190.252 L425.917 218.585 Z\" fill=\"#000000\" fill-rule=\"nonzero\" fill-opacity=\"1\" /><path clip-path=\"url(#clip120)\" d=\"M447.815 212.242 L464.134 212.242 L464.134 216.178 L442.19 216.178 L442.19 212.242 Q444.852 209.488 449.435 204.858 Q454.042 200.205 455.222 198.863 Q457.468 196.34 458.347 194.604 Q459.25 192.844 459.25 191.155 Q459.25 188.4 457.306 186.664 Q455.384 184.928 452.283 184.928 Q450.083 184.928 447.63 185.692 Q445.199 186.455 442.421 188.006 L442.421 183.284 Q445.246 182.15 447.699 181.571 Q450.153 180.993 452.19 180.993 Q457.56 180.993 460.755 183.678 Q463.949 186.363 463.949 190.854 Q463.949 192.983 463.139 194.905 Q462.352 196.803 460.245 199.395 Q459.667 200.067 456.565 203.284 Q453.463 206.479 447.815 212.242 Z\" fill=\"#000000\" fill-rule=\"nonzero\" fill-opacity=\"1\" /><polyline clip-path=\"url(#clip120)\" style=\"stroke:#3da44d; stroke-linecap:round; stroke-linejoin:round; stroke-width:4; stroke-opacity:1; fill:none\" points=\"240.115,250.738 387.509,250.738 \"/>\n",
       "<path clip-path=\"url(#clip120)\" d=\"M425.917 270.425 Q424.111 275.055 422.398 276.467 Q420.685 277.879 417.815 277.879 L414.412 277.879 L414.412 274.314 L416.912 274.314 Q418.672 274.314 419.644 273.48 Q420.616 272.647 421.797 269.545 L422.56 267.601 L412.074 242.092 L416.588 242.092 L424.69 262.369 L432.792 242.092 L437.306 242.092 L425.917 270.425 Z\" fill=\"#000000\" fill-rule=\"nonzero\" fill-opacity=\"1\" /><path clip-path=\"url(#clip120)\" d=\"M457.954 249.383 Q461.31 250.101 463.185 252.369 Q465.083 254.638 465.083 257.971 Q465.083 263.087 461.565 265.888 Q458.046 268.689 451.565 268.689 Q449.389 268.689 447.074 268.249 Q444.783 267.832 442.329 266.976 L442.329 262.462 Q444.273 263.596 446.588 264.175 Q448.903 264.754 451.426 264.754 Q455.824 264.754 458.116 263.018 Q460.431 261.281 460.431 257.971 Q460.431 254.916 458.278 253.203 Q456.148 251.467 452.329 251.467 L448.301 251.467 L448.301 247.624 L452.514 247.624 Q455.963 247.624 457.792 246.258 Q459.62 244.87 459.62 242.277 Q459.62 239.615 457.722 238.203 Q455.847 236.768 452.329 236.768 Q450.408 236.768 448.208 237.184 Q446.009 237.601 443.371 238.481 L443.371 234.314 Q446.033 233.573 448.347 233.203 Q450.685 232.833 452.745 232.833 Q458.07 232.833 461.171 235.263 Q464.273 237.67 464.273 241.791 Q464.273 244.661 462.63 246.652 Q460.986 248.62 457.954 249.383 Z\" fill=\"#000000\" fill-rule=\"nonzero\" fill-opacity=\"1\" /></svg>\n"
      ],
      "text/html": [
       "<?xml version=\"1.0\" encoding=\"utf-8\"?>\n",
       "<svg xmlns=\"http://www.w3.org/2000/svg\" xmlns:xlink=\"http://www.w3.org/1999/xlink\" width=\"600\" height=\"400\" viewBox=\"0 0 2400 1600\">\n",
       "<defs>\n",
       "  <clipPath id=\"clip170\">\n",
       "    <rect x=\"0\" y=\"0\" width=\"2400\" height=\"1600\"/>\n",
       "  </clipPath>\n",
       "</defs>\n",
       "<path clip-path=\"url(#clip170)\" d=\"M0 1600 L2400 1600 L2400 0 L0 0  Z\" fill=\"#ffffff\" fill-rule=\"evenodd\" fill-opacity=\"1\"/>\n",
       "<defs>\n",
       "  <clipPath id=\"clip171\">\n",
       "    <rect x=\"480\" y=\"0\" width=\"1681\" height=\"1600\"/>\n",
       "  </clipPath>\n",
       "</defs>\n",
       "<path clip-path=\"url(#clip170)\" d=\"M141.853 1486.45 L2352.76 1486.45 L2352.76 47.2441 L141.853 47.2441  Z\" fill=\"#ffffff\" fill-rule=\"evenodd\" fill-opacity=\"1\"/>\n",
       "<defs>\n",
       "  <clipPath id=\"clip172\">\n",
       "    <rect x=\"141\" y=\"47\" width=\"2212\" height=\"1440\"/>\n",
       "  </clipPath>\n",
       "</defs>\n",
       "<polyline clip-path=\"url(#clip172)\" style=\"stroke:#000000; stroke-linecap:round; stroke-linejoin:round; stroke-width:2; stroke-opacity:0.1; fill:none\" points=\"190.521,1486.45 190.521,47.2441 \"/>\n",
       "<polyline clip-path=\"url(#clip172)\" style=\"stroke:#000000; stroke-linecap:round; stroke-linejoin:round; stroke-width:2; stroke-opacity:0.1; fill:none\" points=\"885.773,1486.45 885.773,47.2441 \"/>\n",
       "<polyline clip-path=\"url(#clip172)\" style=\"stroke:#000000; stroke-linecap:round; stroke-linejoin:round; stroke-width:2; stroke-opacity:0.1; fill:none\" points=\"1581.03,1486.45 1581.03,47.2441 \"/>\n",
       "<polyline clip-path=\"url(#clip172)\" style=\"stroke:#000000; stroke-linecap:round; stroke-linejoin:round; stroke-width:2; stroke-opacity:0.1; fill:none\" points=\"2276.28,1486.45 2276.28,47.2441 \"/>\n",
       "<polyline clip-path=\"url(#clip170)\" style=\"stroke:#000000; stroke-linecap:round; stroke-linejoin:round; stroke-width:4; stroke-opacity:1; fill:none\" points=\"141.853,1486.45 2352.76,1486.45 \"/>\n",
       "<polyline clip-path=\"url(#clip170)\" style=\"stroke:#000000; stroke-linecap:round; stroke-linejoin:round; stroke-width:4; stroke-opacity:1; fill:none\" points=\"190.521,1486.45 190.521,1467.55 \"/>\n",
       "<polyline clip-path=\"url(#clip170)\" style=\"stroke:#000000; stroke-linecap:round; stroke-linejoin:round; stroke-width:4; stroke-opacity:1; fill:none\" points=\"885.773,1486.45 885.773,1467.55 \"/>\n",
       "<polyline clip-path=\"url(#clip170)\" style=\"stroke:#000000; stroke-linecap:round; stroke-linejoin:round; stroke-width:4; stroke-opacity:1; fill:none\" points=\"1581.03,1486.45 1581.03,1467.55 \"/>\n",
       "<polyline clip-path=\"url(#clip170)\" style=\"stroke:#000000; stroke-linecap:round; stroke-linejoin:round; stroke-width:4; stroke-opacity:1; fill:none\" points=\"2276.28,1486.45 2276.28,1467.55 \"/>\n",
       "<path clip-path=\"url(#clip170)\" d=\"M190.521 1517.37 Q186.91 1517.37 185.081 1520.93 Q183.275 1524.47 183.275 1531.6 Q183.275 1538.71 185.081 1542.27 Q186.91 1545.82 190.521 1545.82 Q194.155 1545.82 195.96 1542.27 Q197.789 1538.71 197.789 1531.6 Q197.789 1524.47 195.96 1520.93 Q194.155 1517.37 190.521 1517.37 M190.521 1513.66 Q196.331 1513.66 199.386 1518.27 Q202.465 1522.85 202.465 1531.6 Q202.465 1540.33 199.386 1544.94 Q196.331 1549.52 190.521 1549.52 Q184.71 1549.52 181.632 1544.94 Q178.576 1540.33 178.576 1531.6 Q178.576 1522.85 181.632 1518.27 Q184.71 1513.66 190.521 1513.66 Z\" fill=\"#000000\" fill-rule=\"nonzero\" fill-opacity=\"1\" /><path clip-path=\"url(#clip170)\" d=\"M860.472 1514.29 L878.829 1514.29 L878.829 1518.22 L864.755 1518.22 L864.755 1526.7 Q865.773 1526.35 866.792 1526.19 Q867.81 1526 868.829 1526 Q874.616 1526 877.995 1529.17 Q881.375 1532.34 881.375 1537.76 Q881.375 1543.34 877.903 1546.44 Q874.431 1549.52 868.111 1549.52 Q865.935 1549.52 863.667 1549.15 Q861.421 1548.78 859.014 1548.04 L859.014 1543.34 Q861.097 1544.47 863.32 1545.03 Q865.542 1545.58 868.019 1545.58 Q872.023 1545.58 874.361 1543.48 Q876.699 1541.37 876.699 1537.76 Q876.699 1534.15 874.361 1532.04 Q872.023 1529.94 868.019 1529.94 Q866.144 1529.94 864.269 1530.35 Q862.417 1530.77 860.472 1531.65 L860.472 1514.29 Z\" fill=\"#000000\" fill-rule=\"nonzero\" fill-opacity=\"1\" /><path clip-path=\"url(#clip170)\" d=\"M900.588 1517.37 Q896.977 1517.37 895.148 1520.93 Q893.343 1524.47 893.343 1531.6 Q893.343 1538.71 895.148 1542.27 Q896.977 1545.82 900.588 1545.82 Q904.222 1545.82 906.028 1542.27 Q907.856 1538.71 907.856 1531.6 Q907.856 1524.47 906.028 1520.93 Q904.222 1517.37 900.588 1517.37 M900.588 1513.66 Q906.398 1513.66 909.454 1518.27 Q912.532 1522.85 912.532 1531.6 Q912.532 1540.33 909.454 1544.94 Q906.398 1549.52 900.588 1549.52 Q894.778 1549.52 891.699 1544.94 Q888.643 1540.33 888.643 1531.6 Q888.643 1522.85 891.699 1518.27 Q894.778 1513.66 900.588 1513.66 Z\" fill=\"#000000\" fill-rule=\"nonzero\" fill-opacity=\"1\" /><path clip-path=\"url(#clip170)\" d=\"M1540.63 1544.91 L1548.27 1544.91 L1548.27 1518.55 L1539.96 1520.21 L1539.96 1515.95 L1548.22 1514.29 L1552.9 1514.29 L1552.9 1544.91 L1560.54 1544.91 L1560.54 1548.85 L1540.63 1548.85 L1540.63 1544.91 Z\" fill=\"#000000\" fill-rule=\"nonzero\" fill-opacity=\"1\" /><path clip-path=\"url(#clip170)\" d=\"M1579.98 1517.37 Q1576.37 1517.37 1574.54 1520.93 Q1572.74 1524.47 1572.74 1531.6 Q1572.74 1538.71 1574.54 1542.27 Q1576.37 1545.82 1579.98 1545.82 Q1583.62 1545.82 1585.42 1542.27 Q1587.25 1538.71 1587.25 1531.6 Q1587.25 1524.47 1585.42 1520.93 Q1583.62 1517.37 1579.98 1517.37 M1579.98 1513.66 Q1585.79 1513.66 1588.85 1518.27 Q1591.93 1522.85 1591.93 1531.6 Q1591.93 1540.33 1588.85 1544.94 Q1585.79 1549.52 1579.98 1549.52 Q1574.17 1549.52 1571.1 1544.94 Q1568.04 1540.33 1568.04 1531.6 Q1568.04 1522.85 1571.1 1518.27 Q1574.17 1513.66 1579.98 1513.66 Z\" fill=\"#000000\" fill-rule=\"nonzero\" fill-opacity=\"1\" /><path clip-path=\"url(#clip170)\" d=\"M1610.15 1517.37 Q1606.53 1517.37 1604.71 1520.93 Q1602.9 1524.47 1602.9 1531.6 Q1602.9 1538.71 1604.71 1542.27 Q1606.53 1545.82 1610.15 1545.82 Q1613.78 1545.82 1615.59 1542.27 Q1617.41 1538.71 1617.41 1531.6 Q1617.41 1524.47 1615.59 1520.93 Q1613.78 1517.37 1610.15 1517.37 M1610.15 1513.66 Q1615.96 1513.66 1619.01 1518.27 Q1622.09 1522.85 1622.09 1531.6 Q1622.09 1540.33 1619.01 1544.94 Q1615.96 1549.52 1610.15 1549.52 Q1604.34 1549.52 1601.26 1544.94 Q1598.2 1540.33 1598.2 1531.6 Q1598.2 1522.85 1601.26 1518.27 Q1604.34 1513.66 1610.15 1513.66 Z\" fill=\"#000000\" fill-rule=\"nonzero\" fill-opacity=\"1\" /><path clip-path=\"url(#clip170)\" d=\"M2235.88 1544.91 L2243.52 1544.91 L2243.52 1518.55 L2235.21 1520.21 L2235.21 1515.95 L2243.48 1514.29 L2248.15 1514.29 L2248.15 1544.91 L2255.79 1544.91 L2255.79 1548.85 L2235.88 1548.85 L2235.88 1544.91 Z\" fill=\"#000000\" fill-rule=\"nonzero\" fill-opacity=\"1\" /><path clip-path=\"url(#clip170)\" d=\"M2265.28 1514.29 L2283.64 1514.29 L2283.64 1518.22 L2269.57 1518.22 L2269.57 1526.7 Q2270.58 1526.35 2271.6 1526.19 Q2272.62 1526 2273.64 1526 Q2279.43 1526 2282.81 1529.17 Q2286.19 1532.34 2286.19 1537.76 Q2286.19 1543.34 2282.71 1546.44 Q2279.24 1549.52 2272.92 1549.52 Q2270.75 1549.52 2268.48 1549.15 Q2266.23 1548.78 2263.82 1548.04 L2263.82 1543.34 Q2265.91 1544.47 2268.13 1545.03 Q2270.35 1545.58 2272.83 1545.58 Q2276.83 1545.58 2279.17 1543.48 Q2281.51 1541.37 2281.51 1537.76 Q2281.51 1534.15 2279.17 1532.04 Q2276.83 1529.94 2272.83 1529.94 Q2270.95 1529.94 2269.08 1530.35 Q2267.23 1530.77 2265.28 1531.65 L2265.28 1514.29 Z\" fill=\"#000000\" fill-rule=\"nonzero\" fill-opacity=\"1\" /><path clip-path=\"url(#clip170)\" d=\"M2305.4 1517.37 Q2301.79 1517.37 2299.96 1520.93 Q2298.15 1524.47 2298.15 1531.6 Q2298.15 1538.71 2299.96 1542.27 Q2301.79 1545.82 2305.4 1545.82 Q2309.03 1545.82 2310.84 1542.27 Q2312.67 1538.71 2312.67 1531.6 Q2312.67 1524.47 2310.84 1520.93 Q2309.03 1517.37 2305.4 1517.37 M2305.4 1513.66 Q2311.21 1513.66 2314.26 1518.27 Q2317.34 1522.85 2317.34 1531.6 Q2317.34 1540.33 2314.26 1544.94 Q2311.21 1549.52 2305.4 1549.52 Q2299.59 1549.52 2296.51 1544.94 Q2293.45 1540.33 2293.45 1531.6 Q2293.45 1522.85 2296.51 1518.27 Q2299.59 1513.66 2305.4 1513.66 Z\" fill=\"#000000\" fill-rule=\"nonzero\" fill-opacity=\"1\" /><polyline clip-path=\"url(#clip172)\" style=\"stroke:#000000; stroke-linecap:round; stroke-linejoin:round; stroke-width:2; stroke-opacity:0.1; fill:none\" points=\"141.853,1429.69 2352.76,1429.69 \"/>\n",
       "<polyline clip-path=\"url(#clip172)\" style=\"stroke:#000000; stroke-linecap:round; stroke-linejoin:round; stroke-width:2; stroke-opacity:0.1; fill:none\" points=\"141.853,1174.25 2352.76,1174.25 \"/>\n",
       "<polyline clip-path=\"url(#clip172)\" style=\"stroke:#000000; stroke-linecap:round; stroke-linejoin:round; stroke-width:2; stroke-opacity:0.1; fill:none\" points=\"141.853,918.813 2352.76,918.813 \"/>\n",
       "<polyline clip-path=\"url(#clip172)\" style=\"stroke:#000000; stroke-linecap:round; stroke-linejoin:round; stroke-width:2; stroke-opacity:0.1; fill:none\" points=\"141.853,663.376 2352.76,663.376 \"/>\n",
       "<polyline clip-path=\"url(#clip172)\" style=\"stroke:#000000; stroke-linecap:round; stroke-linejoin:round; stroke-width:2; stroke-opacity:0.1; fill:none\" points=\"141.853,407.939 2352.76,407.939 \"/>\n",
       "<polyline clip-path=\"url(#clip172)\" style=\"stroke:#000000; stroke-linecap:round; stroke-linejoin:round; stroke-width:2; stroke-opacity:0.1; fill:none\" points=\"141.853,152.502 2352.76,152.502 \"/>\n",
       "<polyline clip-path=\"url(#clip170)\" style=\"stroke:#000000; stroke-linecap:round; stroke-linejoin:round; stroke-width:4; stroke-opacity:1; fill:none\" points=\"141.853,1486.45 141.853,47.2441 \"/>\n",
       "<polyline clip-path=\"url(#clip170)\" style=\"stroke:#000000; stroke-linecap:round; stroke-linejoin:round; stroke-width:4; stroke-opacity:1; fill:none\" points=\"141.853,1429.69 160.751,1429.69 \"/>\n",
       "<polyline clip-path=\"url(#clip170)\" style=\"stroke:#000000; stroke-linecap:round; stroke-linejoin:round; stroke-width:4; stroke-opacity:1; fill:none\" points=\"141.853,1174.25 160.751,1174.25 \"/>\n",
       "<polyline clip-path=\"url(#clip170)\" style=\"stroke:#000000; stroke-linecap:round; stroke-linejoin:round; stroke-width:4; stroke-opacity:1; fill:none\" points=\"141.853,918.813 160.751,918.813 \"/>\n",
       "<polyline clip-path=\"url(#clip170)\" style=\"stroke:#000000; stroke-linecap:round; stroke-linejoin:round; stroke-width:4; stroke-opacity:1; fill:none\" points=\"141.853,663.376 160.751,663.376 \"/>\n",
       "<polyline clip-path=\"url(#clip170)\" style=\"stroke:#000000; stroke-linecap:round; stroke-linejoin:round; stroke-width:4; stroke-opacity:1; fill:none\" points=\"141.853,407.939 160.751,407.939 \"/>\n",
       "<polyline clip-path=\"url(#clip170)\" style=\"stroke:#000000; stroke-linecap:round; stroke-linejoin:round; stroke-width:4; stroke-opacity:1; fill:none\" points=\"141.853,152.502 160.751,152.502 \"/>\n",
       "<path clip-path=\"url(#clip170)\" d=\"M93.9086 1415.49 Q90.2975 1415.49 88.4688 1419.05 Q86.6632 1422.59 86.6632 1429.72 Q86.6632 1436.83 88.4688 1440.39 Q90.2975 1443.93 93.9086 1443.93 Q97.5428 1443.93 99.3483 1440.39 Q101.177 1436.83 101.177 1429.72 Q101.177 1422.59 99.3483 1419.05 Q97.5428 1415.49 93.9086 1415.49 M93.9086 1411.78 Q99.7187 1411.78 102.774 1416.39 Q105.853 1420.97 105.853 1429.72 Q105.853 1438.45 102.774 1443.05 Q99.7187 1447.64 93.9086 1447.64 Q88.0984 1447.64 85.0197 1443.05 Q81.9642 1438.45 81.9642 1429.72 Q81.9642 1420.97 85.0197 1416.39 Q88.0984 1411.78 93.9086 1411.78 Z\" fill=\"#000000\" fill-rule=\"nonzero\" fill-opacity=\"1\" /><path clip-path=\"url(#clip170)\" d=\"M54.5569 1187.59 L62.1958 1187.59 L62.1958 1161.23 L53.8856 1162.9 L53.8856 1158.64 L62.1495 1156.97 L66.8254 1156.97 L66.8254 1187.59 L74.4642 1187.59 L74.4642 1191.53 L54.5569 1191.53 L54.5569 1187.59 Z\" fill=\"#000000\" fill-rule=\"nonzero\" fill-opacity=\"1\" /><path clip-path=\"url(#clip170)\" d=\"M93.9086 1160.05 Q90.2975 1160.05 88.4688 1163.61 Q86.6632 1167.15 86.6632 1174.28 Q86.6632 1181.39 88.4688 1184.96 Q90.2975 1188.5 93.9086 1188.5 Q97.5428 1188.5 99.3483 1184.96 Q101.177 1181.39 101.177 1174.28 Q101.177 1167.15 99.3483 1163.61 Q97.5428 1160.05 93.9086 1160.05 M93.9086 1156.34 Q99.7187 1156.34 102.774 1160.95 Q105.853 1165.53 105.853 1174.28 Q105.853 1183.01 102.774 1187.62 Q99.7187 1192.2 93.9086 1192.2 Q88.0984 1192.2 85.0197 1187.62 Q81.9642 1183.01 81.9642 1174.28 Q81.9642 1165.53 85.0197 1160.95 Q88.0984 1156.34 93.9086 1156.34 Z\" fill=\"#000000\" fill-rule=\"nonzero\" fill-opacity=\"1\" /><path clip-path=\"url(#clip170)\" d=\"M57.7745 932.158 L74.0939 932.158 L74.0939 936.093 L52.1495 936.093 L52.1495 932.158 Q54.8115 929.403 59.3949 924.773 Q64.0013 920.121 65.1819 918.778 Q67.4272 916.255 68.3068 914.519 Q69.2096 912.76 69.2096 911.07 Q69.2096 908.315 67.2652 906.579 Q65.3439 904.843 62.2421 904.843 Q60.043 904.843 57.5893 905.607 Q55.1588 906.371 52.381 907.922 L52.381 903.199 Q55.2051 902.065 57.6588 901.486 Q60.1124 900.908 62.1495 900.908 Q67.5198 900.908 70.7142 903.593 Q73.9087 906.278 73.9087 910.769 Q73.9087 912.898 73.0985 914.82 Q72.3115 916.718 70.205 919.31 Q69.6263 919.982 66.5245 923.199 Q63.4226 926.394 57.7745 932.158 Z\" fill=\"#000000\" fill-rule=\"nonzero\" fill-opacity=\"1\" /><path clip-path=\"url(#clip170)\" d=\"M93.9086 904.611 Q90.2975 904.611 88.4688 908.176 Q86.6632 911.718 86.6632 918.847 Q86.6632 925.954 88.4688 929.519 Q90.2975 933.06 93.9086 933.06 Q97.5428 933.06 99.3483 929.519 Q101.177 925.954 101.177 918.847 Q101.177 911.718 99.3483 908.176 Q97.5428 904.611 93.9086 904.611 M93.9086 900.908 Q99.7187 900.908 102.774 905.514 Q105.853 910.098 105.853 918.847 Q105.853 927.574 102.774 932.181 Q99.7187 936.764 93.9086 936.764 Q88.0984 936.764 85.0197 932.181 Q81.9642 927.574 81.9642 918.847 Q81.9642 910.098 85.0197 905.514 Q88.0984 900.908 93.9086 900.908 Z\" fill=\"#000000\" fill-rule=\"nonzero\" fill-opacity=\"1\" /><path clip-path=\"url(#clip170)\" d=\"M67.9133 662.022 Q71.2698 662.739 73.1448 665.008 Q75.0429 667.276 75.0429 670.61 Q75.0429 675.725 71.5244 678.526 Q68.0059 681.327 61.5245 681.327 Q59.3486 681.327 57.0338 680.887 Q54.7421 680.471 52.2884 679.614 L52.2884 675.1 Q54.2328 676.235 56.5477 676.813 Q58.8625 677.392 61.3856 677.392 Q65.7837 677.392 68.0754 675.656 Q70.3902 673.92 70.3902 670.61 Q70.3902 667.554 68.2374 665.841 Q66.1078 664.105 62.2884 664.105 L58.2606 664.105 L58.2606 660.262 L62.4735 660.262 Q65.9226 660.262 67.7513 658.897 Q69.58 657.508 69.58 654.915 Q69.58 652.253 67.6819 650.841 Q65.8069 649.406 62.2884 649.406 Q60.3671 649.406 58.168 649.823 Q55.969 650.239 53.3301 651.119 L53.3301 646.952 Q55.9921 646.212 58.3069 645.841 Q60.6449 645.471 62.705 645.471 Q68.0291 645.471 71.1309 647.901 Q74.2327 650.309 74.2327 654.429 Q74.2327 657.3 72.5892 659.29 Q70.9457 661.258 67.9133 662.022 Z\" fill=\"#000000\" fill-rule=\"nonzero\" fill-opacity=\"1\" /><path clip-path=\"url(#clip170)\" d=\"M93.9086 649.175 Q90.2975 649.175 88.4688 652.739 Q86.6632 656.281 86.6632 663.411 Q86.6632 670.517 88.4688 674.082 Q90.2975 677.623 93.9086 677.623 Q97.5428 677.623 99.3483 674.082 Q101.177 670.517 101.177 663.411 Q101.177 656.281 99.3483 652.739 Q97.5428 649.175 93.9086 649.175 M93.9086 645.471 Q99.7187 645.471 102.774 650.077 Q105.853 654.661 105.853 663.411 Q105.853 672.137 102.774 676.744 Q99.7187 681.327 93.9086 681.327 Q88.0984 681.327 85.0197 676.744 Q81.9642 672.137 81.9642 663.411 Q81.9642 654.661 85.0197 650.077 Q88.0984 645.471 93.9086 645.471 Z\" fill=\"#000000\" fill-rule=\"nonzero\" fill-opacity=\"1\" /><path clip-path=\"url(#clip170)\" d=\"M66.5939 394.733 L54.7884 413.182 L66.5939 413.182 L66.5939 394.733 M65.367 390.659 L71.2466 390.659 L71.2466 413.182 L76.1772 413.182 L76.1772 417.071 L71.2466 417.071 L71.2466 425.219 L66.5939 425.219 L66.5939 417.071 L50.9921 417.071 L50.9921 412.557 L65.367 390.659 Z\" fill=\"#000000\" fill-rule=\"nonzero\" fill-opacity=\"1\" /><path clip-path=\"url(#clip170)\" d=\"M93.9086 393.738 Q90.2975 393.738 88.4688 397.303 Q86.6632 400.844 86.6632 407.974 Q86.6632 415.08 88.4688 418.645 Q90.2975 422.187 93.9086 422.187 Q97.5428 422.187 99.3483 418.645 Q101.177 415.08 101.177 407.974 Q101.177 400.844 99.3483 397.303 Q97.5428 393.738 93.9086 393.738 M93.9086 390.034 Q99.7187 390.034 102.774 394.64 Q105.853 399.224 105.853 407.974 Q105.853 416.701 102.774 421.307 Q99.7187 425.89 93.9086 425.89 Q88.0984 425.89 85.0197 421.307 Q81.9642 416.701 81.9642 407.974 Q81.9642 399.224 85.0197 394.64 Q88.0984 390.034 93.9086 390.034 Z\" fill=\"#000000\" fill-rule=\"nonzero\" fill-opacity=\"1\" /><path clip-path=\"url(#clip170)\" d=\"M53.793 135.222 L72.1494 135.222 L72.1494 139.157 L58.0754 139.157 L58.0754 147.63 Q59.0939 147.282 60.1124 147.12 Q61.131 146.935 62.1495 146.935 Q67.9365 146.935 71.3161 150.106 Q74.6957 153.278 74.6957 158.694 Q74.6957 164.273 71.2235 167.375 Q67.7513 170.453 61.4319 170.453 Q59.256 170.453 56.9875 170.083 Q54.7421 169.713 52.3347 168.972 L52.3347 164.273 Q54.418 165.407 56.6402 165.963 Q58.8625 166.518 61.3393 166.518 Q65.3439 166.518 67.6819 164.412 Q70.0198 162.305 70.0198 158.694 Q70.0198 155.083 67.6819 152.977 Q65.3439 150.87 61.3393 150.87 Q59.4643 150.87 57.5893 151.287 Q55.7375 151.704 53.793 152.583 L53.793 135.222 Z\" fill=\"#000000\" fill-rule=\"nonzero\" fill-opacity=\"1\" /><path clip-path=\"url(#clip170)\" d=\"M93.9086 138.301 Q90.2975 138.301 88.4688 141.866 Q86.6632 145.407 86.6632 152.537 Q86.6632 159.643 88.4688 163.208 Q90.2975 166.75 93.9086 166.75 Q97.5428 166.75 99.3483 163.208 Q101.177 159.643 101.177 152.537 Q101.177 145.407 99.3483 141.866 Q97.5428 138.301 93.9086 138.301 M93.9086 134.597 Q99.7187 134.597 102.774 139.204 Q105.853 143.787 105.853 152.537 Q105.853 161.264 102.774 165.87 Q99.7187 170.453 93.9086 170.453 Q88.0984 170.453 85.0197 165.87 Q81.9642 161.264 81.9642 152.537 Q81.9642 143.787 85.0197 139.204 Q88.0984 134.597 93.9086 134.597 Z\" fill=\"#000000\" fill-rule=\"nonzero\" fill-opacity=\"1\" /><polyline clip-path=\"url(#clip172)\" style=\"stroke:#009af9; stroke-linecap:round; stroke-linejoin:round; stroke-width:4; stroke-opacity:1; fill:none\" points=\"204.426,1445.72 218.331,1391.8 232.236,1350.12 246.141,1368.34 260.046,1370.57 273.951,1336.94 287.856,1344.58 301.761,1359.36 315.666,1349.56 329.571,1321.31 343.476,1398.83 357.381,1342.33 371.286,1306.75 385.191,1319.14 399.096,1327.74 413.001,1353.83 426.906,1304.77 440.812,1341.1 454.717,1277.44 468.622,1292.69 482.527,1282.58 496.432,1269.42 510.337,1289.65 524.242,1281.65 538.147,1324.12 552.052,1355.85 565.957,1333.08 579.862,1343.84 593.767,1360.85 607.672,1339.87 621.577,1328.73 635.482,1322.78 649.387,1332.86 663.292,1357.39 677.197,1366.87 691.102,1357.39 705.007,1318.51 718.913,1314.08 732.818,1343.45 746.723,1333.96 760.628,1321.92 774.533,1318.65 788.438,1321.06 802.343,1300.99 816.248,1313.62 830.153,1301.32 844.058,1287.05 857.963,1304.97 871.868,1302.3 885.773,1294.36 899.678,1303.41 913.583,1274.87 927.488,1286.57 941.393,1278.41 955.298,1259.58 969.203,1255.79 983.108,1220.82 997.014,1284.91 1010.92,1305.2 1024.82,1293.81 1038.73,1310.39 1052.63,1325.41 1066.54,1344.54 1080.44,1346.57 1094.35,1277.39 1108.25,1243.43 1122.16,1256.65 1136.06,1257.13 1149.97,1238.72 1163.87,1233.05 1177.78,1213.01 1191.68,1254 1205.59,1243.18 1219.49,1218.05 1233.4,1194.05 1247.3,1234.9 1261.21,1248.84 1275.11,1240.04 1289.02,1254.69 1302.92,1267.35 1316.83,1295.87 1330.73,1324.08 1344.64,1318.75 1358.54,1322.06 1372.45,1273.45 1386.35,1306.25 1400.26,1276.85 1414.17,1290.37 1428.07,1316.6 1441.98,1237.64 1455.88,1263.65 1469.79,1275.19 1483.69,1265.2 1497.6,1287.84 1511.5,1265.8 1525.41,1293.07 1539.31,1325.92 1553.22,1326.39 1567.12,1347.84 1581.03,1365.61 1594.93,1370.4 1608.84,1322.18 1622.74,1310.51 1636.65,1313.33 1650.55,1312.09 1664.46,1326.25 1678.36,1266.14 1692.27,1256.06 1706.17,1243.65 1720.08,1252.43 1733.98,1251.6 1747.89,1250.08 1761.79,1234.16 1775.7,1308.47 1789.6,1335.46 1803.51,1401.2 1817.41,1379.14 1831.32,1364.02 1845.22,1375.3 1859.13,1367.43 1873.03,1379.39 1886.94,1362.07 1900.84,1348.4 1914.75,1290.9 1928.65,1281.26 1942.56,1228.05 1956.46,1252.85 1970.37,1277.36 1984.27,1247.05 1998.18,1264.53 2012.08,1237.41 2025.99,1237.18 2039.89,1257 2053.8,1344.8 2067.7,1340.92 2081.61,1356.45 2095.51,1301.52 2109.42,1277.25 2123.32,1319.39 2137.23,1321.19 2151.13,1307.08 2165.04,1327.93 2178.94,1341.98 2192.85,1332.85 2206.75,1357.55 2220.66,1368.89 2234.56,1364.97 2248.47,1371.01 2262.37,1337.53 2276.28,1323.46 2290.18,1311.54 \"/>\n",
       "<polyline clip-path=\"url(#clip172)\" style=\"stroke:#e26f46; stroke-linecap:round; stroke-linejoin:round; stroke-width:4; stroke-opacity:1; fill:none\" points=\"204.426,1377.86 218.331,1338.66 232.236,1300.52 246.141,1251.18 260.046,1285.27 273.951,1275.45 287.856,1238.26 301.761,1209.8 315.666,1247.83 329.571,1254.46 343.476,1245.71 357.381,1248.72 371.286,1273.42 385.191,1251.37 399.096,1305.83 413.001,1306.85 426.906,1321.16 440.812,1305.96 454.717,1296.5 468.622,1266.92 482.527,1246.34 496.432,1203.64 510.337,1216.45 524.242,1211.67 538.147,1214.25 552.052,1215.73 565.957,1147.06 579.862,1150.07 593.767,1142.11 607.672,1101.78 621.577,1132 635.482,1148.11 649.387,1139.62 663.292,1124.8 677.197,1143.04 691.102,1101.03 705.007,1095.42 718.913,1137.45 732.818,1173.76 746.723,1156.96 760.628,1169.07 774.533,1173.37 788.438,1199.63 802.343,1213.92 816.248,1249.97 830.153,1210.64 844.058,1142.03 857.963,1160.91 871.868,1232.64 885.773,1258.27 899.678,1212.01 913.583,1180.38 927.488,1154.78 941.393,1169.03 955.298,1142.89 969.203,1111.91 983.108,1124.2 997.014,1159.06 1010.92,1176.52 1024.82,1142.13 1038.73,1145.84 1052.63,1127.29 1066.54,1130.6 1080.44,1100.19 1094.35,1105.09 1108.25,1116.12 1122.16,1117.43 1136.06,1133.22 1149.97,1138.37 1163.87,1101.54 1177.78,1139.79 1191.68,1170.44 1205.59,1119.69 1219.49,1140.23 1233.4,1155.09 1247.3,1124.7 1261.21,1127.53 1275.11,1142.75 1289.02,1105.28 1302.92,1133.38 1316.83,1140.02 1330.73,1191.72 1344.64,1168.59 1358.54,1178.65 1372.45,1138.49 1386.35,1144.16 1400.26,1134.82 1414.17,1122.17 1428.07,1151.8 1441.98,1147.15 1455.88,1149.66 1469.79,1139.24 1483.69,1166.01 1497.6,1175.39 1511.5,1153.99 1525.41,1101.87 1539.31,1131.25 1553.22,1082.59 1567.12,1101.64 1581.03,1125.22 1594.93,1130.87 1608.84,1122.52 1622.74,1147.65 1636.65,1134.41 1650.55,1164.19 1664.46,1173.55 1678.36,1154.81 1692.27,1130.3 1706.17,1131.31 1720.08,1145.8 1733.98,1107.74 1747.89,1124.54 1761.79,1143.65 1775.7,1166.1 1789.6,1195.78 1803.51,1195.33 1817.41,1170.12 1831.32,1176.43 1845.22,1186.77 1859.13,1207.84 1873.03,1230.46 1886.94,1202.38 1900.84,1182.01 1914.75,1193.99 1928.65,1188.89 1942.56,1196.79 1956.46,1155.35 1970.37,1170.21 1984.27,1132.4 1998.18,1129.02 2012.08,1163.49 2025.99,1101.56 2039.89,1143.62 2053.8,1153.9 2067.7,1153.77 2081.61,1177.63 2095.51,1158.56 2109.42,1191.83 2123.32,1173.34 2137.23,1168.89 2151.13,1156.53 2165.04,1147.6 2178.94,1201.9 2192.85,1193.64 2206.75,1173.79 2220.66,1179.47 2234.56,1213.04 2248.47,1217.35 2262.37,1217.21 2276.28,1236.24 2290.18,1216.27 \"/>\n",
       "<polyline clip-path=\"url(#clip172)\" style=\"stroke:#3da44d; stroke-linecap:round; stroke-linejoin:round; stroke-width:4; stroke-opacity:1; fill:none\" points=\"204.426,1376.49 218.331,1329.53 232.236,1342.45 246.141,1360.71 260.046,1315.08 273.951,1287.25 287.856,1252.74 301.761,1265.69 315.666,1210.39 329.571,1196.99 343.476,1195.3 357.381,1162.73 371.286,1150.28 385.191,1175.39 399.096,1188.12 413.001,1166.25 426.906,1105.02 440.812,1095.5 454.717,1079.92 468.622,1082.12 482.527,1083.4 496.432,1059.48 510.337,1013.63 524.242,1026.14 538.147,1006.84 552.052,965.271 565.957,938.646 579.862,915.96 593.767,908.292 607.672,837.556 621.577,788.599 635.482,793.81 649.387,779.527 663.292,796.286 677.197,805.066 691.102,792.928 705.007,777.758 718.913,780.639 732.818,741.284 746.723,715.642 760.628,712.773 774.533,708.591 788.438,726.416 802.343,718.425 816.248,701.407 830.153,687.449 844.058,678.574 857.963,669.024 871.868,678.806 885.773,641.475 899.678,580.076 913.583,567.693 927.488,597.739 941.393,625.75 955.298,618.917 969.203,634.2 983.108,617.614 997.014,598.894 1010.92,622.814 1024.82,654.99 1038.73,633.382 1052.63,652.868 1066.54,656.934 1080.44,640.272 1094.35,652.023 1108.25,642.453 1122.16,617.047 1136.06,619.341 1149.97,626.35 1163.87,564.673 1177.78,555.428 1191.68,544.328 1205.59,543.345 1219.49,525.869 1233.4,524.503 1247.3,545.674 1261.21,537.16 1275.11,498.202 1289.02,485.823 1302.92,440.666 1316.83,418.833 1330.73,462.393 1344.64,467.449 1358.54,478.058 1372.45,407.232 1386.35,389.233 1400.26,390.79 1414.17,419.431 1428.07,407.264 1441.98,350.756 1455.88,355.665 1469.79,395.499 1483.69,354.925 1497.6,352.051 1511.5,282.988 1525.41,301.298 1539.31,316.509 1553.22,265.709 1567.12,245.453 1581.03,226.702 1594.93,223.106 1608.84,223.169 1622.74,178.853 1636.65,173.597 1650.55,184.972 1664.46,202.418 1678.36,176.782 1692.27,154.393 1706.17,177.458 1720.08,200.299 1733.98,192.271 1747.89,184.392 1761.79,214.593 1775.7,143.821 1789.6,147.154 1803.51,95.4867 1817.41,100.19 1831.32,87.9763 1845.22,136.102 1859.13,174.676 1873.03,226.913 1886.94,208.693 1900.84,205.968 1914.75,178.96 1928.65,175.042 1942.56,144.94 1956.46,110.712 1970.37,106.94 1984.27,95.9761 1998.18,100.436 2012.08,120.787 2025.99,160.768 2039.89,163.697 2053.8,170.674 2067.7,131.558 2081.61,125.304 2095.51,126.358 2109.42,144.765 2123.32,149.551 2137.23,183.764 2151.13,176.839 2165.04,160.849 2178.94,186.504 2192.85,196.767 2206.75,215.823 2220.66,251.473 2234.56,291.301 2248.47,276.864 2262.37,237.078 2276.28,255.666 2290.18,287.461 \"/>\n",
       "<path clip-path=\"url(#clip170)\" d=\"M215.55 302.578 L489.649 302.578 L489.649 95.2176 L215.55 95.2176  Z\" fill=\"#ffffff\" fill-rule=\"evenodd\" fill-opacity=\"1\"/>\n",
       "<polyline clip-path=\"url(#clip170)\" style=\"stroke:#000000; stroke-linecap:round; stroke-linejoin:round; stroke-width:4; stroke-opacity:1; fill:none\" points=\"215.55,302.578 489.649,302.578 489.649,95.2176 215.55,95.2176 215.55,302.578 \"/>\n",
       "<polyline clip-path=\"url(#clip170)\" style=\"stroke:#009af9; stroke-linecap:round; stroke-linejoin:round; stroke-width:4; stroke-opacity:1; fill:none\" points=\"240.115,147.058 387.509,147.058 \"/>\n",
       "<path clip-path=\"url(#clip170)\" d=\"M425.917 166.745 Q424.111 171.375 422.398 172.787 Q420.685 174.199 417.815 174.199 L414.412 174.199 L414.412 170.634 L416.912 170.634 Q418.672 170.634 419.644 169.8 Q420.616 168.967 421.797 165.865 L422.56 163.921 L412.074 138.412 L416.588 138.412 L424.69 158.689 L432.792 138.412 L437.306 138.412 L425.917 166.745 Z\" fill=\"#000000\" fill-rule=\"nonzero\" fill-opacity=\"1\" /><path clip-path=\"url(#clip170)\" d=\"M444.597 160.402 L452.236 160.402 L452.236 134.037 L443.926 135.703 L443.926 131.444 L452.19 129.778 L456.866 129.778 L456.866 160.402 L464.505 160.402 L464.505 164.338 L444.597 164.338 L444.597 160.402 Z\" fill=\"#000000\" fill-rule=\"nonzero\" fill-opacity=\"1\" /><polyline clip-path=\"url(#clip170)\" style=\"stroke:#e26f46; stroke-linecap:round; stroke-linejoin:round; stroke-width:4; stroke-opacity:1; fill:none\" points=\"240.115,198.898 387.509,198.898 \"/>\n",
       "<path clip-path=\"url(#clip170)\" d=\"M425.917 218.585 Q424.111 223.215 422.398 224.627 Q420.685 226.039 417.815 226.039 L414.412 226.039 L414.412 222.474 L416.912 222.474 Q418.672 222.474 419.644 221.64 Q420.616 220.807 421.797 217.705 L422.56 215.761 L412.074 190.252 L416.588 190.252 L424.69 210.529 L432.792 190.252 L437.306 190.252 L425.917 218.585 Z\" fill=\"#000000\" fill-rule=\"nonzero\" fill-opacity=\"1\" /><path clip-path=\"url(#clip170)\" d=\"M447.815 212.242 L464.134 212.242 L464.134 216.178 L442.19 216.178 L442.19 212.242 Q444.852 209.488 449.435 204.858 Q454.042 200.205 455.222 198.863 Q457.468 196.34 458.347 194.604 Q459.25 192.844 459.25 191.155 Q459.25 188.4 457.306 186.664 Q455.384 184.928 452.283 184.928 Q450.083 184.928 447.63 185.692 Q445.199 186.455 442.421 188.006 L442.421 183.284 Q445.246 182.15 447.699 181.571 Q450.153 180.993 452.19 180.993 Q457.56 180.993 460.755 183.678 Q463.949 186.363 463.949 190.854 Q463.949 192.983 463.139 194.905 Q462.352 196.803 460.245 199.395 Q459.667 200.067 456.565 203.284 Q453.463 206.479 447.815 212.242 Z\" fill=\"#000000\" fill-rule=\"nonzero\" fill-opacity=\"1\" /><polyline clip-path=\"url(#clip170)\" style=\"stroke:#3da44d; stroke-linecap:round; stroke-linejoin:round; stroke-width:4; stroke-opacity:1; fill:none\" points=\"240.115,250.738 387.509,250.738 \"/>\n",
       "<path clip-path=\"url(#clip170)\" d=\"M425.917 270.425 Q424.111 275.055 422.398 276.467 Q420.685 277.879 417.815 277.879 L414.412 277.879 L414.412 274.314 L416.912 274.314 Q418.672 274.314 419.644 273.48 Q420.616 272.647 421.797 269.545 L422.56 267.601 L412.074 242.092 L416.588 242.092 L424.69 262.369 L432.792 242.092 L437.306 242.092 L425.917 270.425 Z\" fill=\"#000000\" fill-rule=\"nonzero\" fill-opacity=\"1\" /><path clip-path=\"url(#clip170)\" d=\"M457.954 249.383 Q461.31 250.101 463.185 252.369 Q465.083 254.638 465.083 257.971 Q465.083 263.087 461.565 265.888 Q458.046 268.689 451.565 268.689 Q449.389 268.689 447.074 268.249 Q444.783 267.832 442.329 266.976 L442.329 262.462 Q444.273 263.596 446.588 264.175 Q448.903 264.754 451.426 264.754 Q455.824 264.754 458.116 263.018 Q460.431 261.281 460.431 257.971 Q460.431 254.916 458.278 253.203 Q456.148 251.467 452.329 251.467 L448.301 251.467 L448.301 247.624 L452.514 247.624 Q455.963 247.624 457.792 246.258 Q459.62 244.87 459.62 242.277 Q459.62 239.615 457.722 238.203 Q455.847 236.768 452.329 236.768 Q450.408 236.768 448.208 237.184 Q446.009 237.601 443.371 238.481 L443.371 234.314 Q446.033 233.573 448.347 233.203 Q450.685 232.833 452.745 232.833 Q458.07 232.833 461.171 235.263 Q464.273 237.67 464.273 241.791 Q464.273 244.661 462.63 246.652 Q460.986 248.62 457.954 249.383 Z\" fill=\"#000000\" fill-rule=\"nonzero\" fill-opacity=\"1\" /></svg>\n"
      ]
     },
     "execution_count": 292,
     "metadata": {},
     "output_type": "execute_result"
    }
   ],
   "source": [
    "using Plots\n",
    "plot(y')"
   ]
  },
  {
   "cell_type": "code",
   "execution_count": null,
   "id": "95e83ce0-a2e8-46e6-a129-95cfba8c8e16",
   "metadata": {},
   "outputs": [],
   "source": []
  }
 ],
 "metadata": {
  "kernelspec": {
   "display_name": "Julia 1.10.4",
   "language": "julia",
   "name": "julia-1.10"
  },
  "language_info": {
   "file_extension": ".jl",
   "mimetype": "application/julia",
   "name": "julia",
   "version": "1.10.4"
  }
 },
 "nbformat": 4,
 "nbformat_minor": 5
}
