{
 "cells": [
  {
   "cell_type": "code",
   "execution_count": 1,
   "id": "634c51a8-2e43-42fb-93e9-2b3e876130ba",
   "metadata": {},
   "outputs": [],
   "source": [
    "using LinearAlgebra, Statistics"
   ]
  },
  {
   "cell_type": "code",
   "execution_count": 2,
   "id": "2f4ea833-38cb-4167-9c10-e6457a940ff3",
   "metadata": {},
   "outputs": [
    {
     "data": {
      "text/plain": [
       "3-element Vector{Int64}:\n",
       " 10\n",
       " 20\n",
       " 30"
      ]
     },
     "execution_count": 2,
     "metadata": {},
     "output_type": "execute_result"
    }
   ],
   "source": [
    "a = [10, 20, 30]"
   ]
  },
  {
   "cell_type": "code",
   "execution_count": 3,
   "id": "7367c1c0-155d-43d6-bc71-50511ce2d717",
   "metadata": {},
   "outputs": [
    {
     "data": {
      "text/plain": [
       "3-element Vector{Float64}:\n",
       " 1.0\n",
       " 2.0\n",
       " 3.0"
      ]
     },
     "execution_count": 3,
     "metadata": {},
     "output_type": "execute_result"
    }
   ],
   "source": [
    "a = [1.0, 2.0, 3.0]"
   ]
  },
  {
   "cell_type": "code",
   "execution_count": 4,
   "id": "380b2941-2c31-434f-a09c-e65050434cc0",
   "metadata": {},
   "outputs": [
    {
     "data": {
      "text/plain": [
       "Vector{Float64}\u001b[90m (alias for \u001b[39m\u001b[90mArray{Float64, 1}\u001b[39m\u001b[90m)\u001b[39m"
      ]
     },
     "execution_count": 4,
     "metadata": {},
     "output_type": "execute_result"
    }
   ],
   "source": [
    "typeof(randn(100))"
   ]
  },
  {
   "cell_type": "code",
   "execution_count": 5,
   "id": "b062a557-fa66-4d22-afd3-51899426569a",
   "metadata": {},
   "outputs": [
    {
     "data": {
      "text/plain": [
       "1"
      ]
     },
     "execution_count": 5,
     "metadata": {},
     "output_type": "execute_result"
    }
   ],
   "source": [
    "ndims(a)"
   ]
  },
  {
   "cell_type": "code",
   "execution_count": 6,
   "id": "afe47b72-cbe8-4bf0-aae3-5c1a9685533a",
   "metadata": {},
   "outputs": [
    {
     "data": {
      "text/plain": [
       "(3,)"
      ]
     },
     "execution_count": 6,
     "metadata": {},
     "output_type": "execute_result"
    }
   ],
   "source": [
    "size(a)"
   ]
  },
  {
   "cell_type": "code",
   "execution_count": 7,
   "id": "eaa19609-4893-44e9-83b3-6a505ef12cf3",
   "metadata": {},
   "outputs": [
    {
     "data": {
      "text/plain": [
       "true"
      ]
     },
     "execution_count": 7,
     "metadata": {},
     "output_type": "execute_result"
    }
   ],
   "source": [
    "[1, 2, 3] == [1; 2; 3] ## both column vectors"
   ]
  },
  {
   "cell_type": "code",
   "execution_count": 8,
   "id": "02e31558-d022-4c89-9974-a72540575187",
   "metadata": {},
   "outputs": [
    {
     "data": {
      "text/plain": [
       "1×3 Matrix{Int64}:\n",
       " 1  2  3"
      ]
     },
     "execution_count": 8,
     "metadata": {},
     "output_type": "execute_result"
    }
   ],
   "source": [
    "[1 2 3]"
   ]
  },
  {
   "cell_type": "code",
   "execution_count": 9,
   "id": "fe46d07d-f6bb-412d-b0f1-da08f034089e",
   "metadata": {},
   "outputs": [
    {
     "data": {
      "text/plain": [
       "1-element Vector{Int64}:\n",
       " 14"
      ]
     },
     "execution_count": 9,
     "metadata": {},
     "output_type": "execute_result"
    }
   ],
   "source": [
    "[1 2 3] * [1, 2, 3] ## some matrix algebra"
   ]
  },
  {
   "cell_type": "code",
   "execution_count": 10,
   "id": "f3d66f48-eba8-4b4b-845f-951cdd8fe9c5",
   "metadata": {},
   "outputs": [
    {
     "data": {
      "text/plain": [
       "3-element Vector{Float64}:\n",
       " 0.0\n",
       " 0.0\n",
       " 0.0"
      ]
     },
     "execution_count": 10,
     "metadata": {},
     "output_type": "execute_result"
    }
   ],
   "source": [
    "zeros(3)"
   ]
  },
  {
   "cell_type": "code",
   "execution_count": 11,
   "id": "74b80e0f-7070-4038-bff7-bd97ea0a907b",
   "metadata": {},
   "outputs": [
    {
     "data": {
      "text/plain": [
       "2×2 Matrix{Float64}:\n",
       " 0.0  0.0\n",
       " 0.0  0.0"
      ]
     },
     "execution_count": 11,
     "metadata": {},
     "output_type": "execute_result"
    }
   ],
   "source": [
    "zeros(2,2) ## The zeros command can make a matrix"
   ]
  },
  {
   "cell_type": "code",
   "execution_count": 12,
   "id": "859a385f-1d1c-43c7-897e-51394d062b55",
   "metadata": {},
   "outputs": [
    {
     "data": {
      "text/plain": [
       "2×2 Matrix{Float64}:\n",
       " 5.0  5.0\n",
       " 5.0  5.0"
      ]
     },
     "execution_count": 12,
     "metadata": {},
     "output_type": "execute_result"
    }
   ],
   "source": [
    "fill(5.0, 2, 2) ## to make an array filled with a single value (5.0 in this case)"
   ]
  },
  {
   "cell_type": "code",
   "execution_count": 13,
   "id": "cb960d69-2092-454d-9553-07723898837a",
   "metadata": {},
   "outputs": [
    {
     "data": {
      "text/plain": [
       "2×2 Matrix{Float64}:\n",
       " 2.0237e-320   7.39292e-312\n",
       " 7.39292e-312  7.39292e-312"
      ]
     },
     "execution_count": 13,
     "metadata": {},
     "output_type": "execute_result"
    }
   ],
   "source": [
    "x = Array{Float64}(undef, 2, 2) ## you can create an empty array using the 'Array' constructor"
   ]
  },
  {
   "cell_type": "code",
   "execution_count": 14,
   "id": "65707eff-25ed-4a93-979b-81a136bb3482",
   "metadata": {},
   "outputs": [
    {
     "data": {
      "text/plain": [
       "2×2 Matrix{Int64}:\n",
       " 0  0\n",
       " 0  0"
      ]
     },
     "execution_count": 14,
     "metadata": {},
     "output_type": "execute_result"
    }
   ],
   "source": [
    "fill(0,2,2) ## Intuitively its a 2 by 2 matrix"
   ]
  },
  {
   "cell_type": "code",
   "execution_count": 15,
   "id": "1d08d810-ee82-41e8-a582-459518bb43c4",
   "metadata": {},
   "outputs": [
    {
     "data": {
      "text/plain": [
       "2×2 Matrix{Bool}:\n",
       " 0  0\n",
       " 0  0"
      ]
     },
     "execution_count": 15,
     "metadata": {},
     "output_type": "execute_result"
    }
   ],
   "source": [
    "fill(false, 2, 2) ## can fill the matrix with boolean (false is 0)"
   ]
  },
  {
   "cell_type": "code",
   "execution_count": 16,
   "id": "49617f17-f047-481d-ad73-0da2c0cb38ab",
   "metadata": {},
   "outputs": [
    {
     "data": {
      "text/plain": [
       "2"
      ]
     },
     "execution_count": 16,
     "metadata": {},
     "output_type": "execute_result"
    }
   ],
   "source": [
    "x = [1, 2, 3] \n",
    "y = x ## y = x simply creates a new named binding called y which refers to whatever x currently binds to.\n",
    "y[2]"
   ]
  },
  {
   "cell_type": "code",
   "execution_count": 17,
   "id": "40a8cc4b-4006-4e6d-a2b5-90db699e34fb",
   "metadata": {},
   "outputs": [
    {
     "data": {
      "text/plain": [
       "3-element Vector{Int64}:\n",
       " 1\n",
       " 2\n",
       " 3"
      ]
     },
     "execution_count": 17,
     "metadata": {},
     "output_type": "execute_result"
    }
   ],
   "source": [
    "## To copy the data you need to be more explicit.\n",
    "##\n",
    "x = [1, 2, 3]\n",
    "y = copy(x)\n",
    "y[1]\n",
    "x"
   ]
  },
  {
   "cell_type": "code",
   "execution_count": 18,
   "id": "48bcff15-92c7-4e61-a0c4-63684533d749",
   "metadata": {},
   "outputs": [
    {
     "name": "stdout",
     "output_type": "stream",
     "text": [
      "x = [1, 2, 3]\n"
     ]
    },
    {
     "data": {
      "text/plain": [
       "3-element Vector{Int64}:\n",
       " 1\n",
       " 2\n",
       " 3"
      ]
     },
     "execution_count": 18,
     "metadata": {},
     "output_type": "execute_result"
    }
   ],
   "source": [
    "x = [1, 2, 3]\n",
    "y = similar(x)\n",
    "@show x"
   ]
  },
  {
   "cell_type": "code",
   "execution_count": 19,
   "id": "9095fa89-207a-4f77-a39a-9d97b6a23f2b",
   "metadata": {},
   "outputs": [
    {
     "data": {
      "text/plain": [
       "4-element Vector{Int64}:\n",
       "               0\n",
       " 140733668537168\n",
       "              82\n",
       "              81"
      ]
     },
     "execution_count": 19,
     "metadata": {},
     "output_type": "execute_result"
    }
   ],
   "source": [
    "x = [1, 2, 3]\n",
    "y = similar(x, 4) ## make a vector of length 4"
   ]
  },
  {
   "cell_type": "code",
   "execution_count": 20,
   "id": "16bec1bd-9572-4292-8277-0a5ac94176c6",
   "metadata": {},
   "outputs": [
    {
     "data": {
      "text/plain": [
       "2×2 Matrix{Int64}:\n",
       "               0   8\n",
       " 140733668537168  10"
      ]
     },
     "execution_count": 20,
     "metadata": {},
     "output_type": "execute_result"
    }
   ],
   "source": [
    "x = [1, 2, 3]\n",
    "y = similar(x, 2, 2)"
   ]
  },
  {
   "cell_type": "code",
   "execution_count": 21,
   "id": "a0a25888-4a1b-47e7-be45-9459afd2aa53",
   "metadata": {},
   "outputs": [
    {
     "data": {
      "text/plain": [
       "4-element Vector{Int64}:\n",
       " 10\n",
       " 20\n",
       " 30\n",
       " 40"
      ]
     },
     "execution_count": 21,
     "metadata": {},
     "output_type": "execute_result"
    }
   ],
   "source": [
    "a = [10, 20, 30, 40]"
   ]
  },
  {
   "cell_type": "code",
   "execution_count": 22,
   "id": "7b05582a-07b6-472c-8b80-cda57395546c",
   "metadata": {},
   "outputs": [
    {
     "data": {
      "text/plain": [
       "1"
      ]
     },
     "execution_count": 22,
     "metadata": {},
     "output_type": "execute_result"
    }
   ],
   "source": [
    "ndims(a)"
   ]
  },
  {
   "cell_type": "code",
   "execution_count": 23,
   "id": "5d4d6c6f-5f03-458e-b65a-24b41be577ba",
   "metadata": {},
   "outputs": [
    {
     "data": {
      "text/plain": [
       "2×2 Matrix{Int64}:\n",
       " 10  20\n",
       " 30  40"
      ]
     },
     "execution_count": 23,
     "metadata": {},
     "output_type": "execute_result"
    }
   ],
   "source": [
    "a = [10 20; 30 40]"
   ]
  },
  {
   "cell_type": "code",
   "execution_count": 24,
   "id": "57e83724-d4a1-492b-9027-65beae5aef5a",
   "metadata": {},
   "outputs": [
    {
     "data": {
      "text/plain": [
       "4-element Vector{Int64}:\n",
       " 10\n",
       " 20\n",
       " 30\n",
       " 40"
      ]
     },
     "execution_count": 24,
     "metadata": {},
     "output_type": "execute_result"
    }
   ],
   "source": [
    "a = [10; 20; 30; 40]"
   ]
  },
  {
   "cell_type": "code",
   "execution_count": 25,
   "id": "69c61aa7-2701-401d-b2b7-bb6986dd4eef",
   "metadata": {},
   "outputs": [
    {
     "data": {
      "text/plain": [
       "1"
      ]
     },
     "execution_count": 25,
     "metadata": {},
     "output_type": "execute_result"
    }
   ],
   "source": [
    "ndims(a)"
   ]
  },
  {
   "cell_type": "code",
   "execution_count": 26,
   "id": "21cceb23-01a2-4d24-8d80-5de5d8504960",
   "metadata": {},
   "outputs": [
    {
     "data": {
      "text/plain": [
       "2×2 adjoint(::Matrix{Int64}) with eltype Int64:\n",
       " 10  30\n",
       " 20  40"
      ]
     },
     "execution_count": 26,
     "metadata": {},
     "output_type": "execute_result"
    }
   ],
   "source": [
    "a = [10 20; 30 40]'"
   ]
  },
  {
   "cell_type": "code",
   "execution_count": 27,
   "id": "536ff1b6-0316-457a-8dd8-471cf61d0d48",
   "metadata": {},
   "outputs": [
    {
     "data": {
      "text/plain": [
       "2"
      ]
     },
     "execution_count": 27,
     "metadata": {},
     "output_type": "execute_result"
    }
   ],
   "source": [
    "ndims(a)"
   ]
  },
  {
   "cell_type": "code",
   "execution_count": 28,
   "id": "44873845-8cac-4347-af57-b3a0219fa479",
   "metadata": {},
   "outputs": [
    {
     "data": {
      "text/plain": [
       "Adjoint{Int64, Matrix{Int64}}"
      ]
     },
     "execution_count": 28,
     "metadata": {},
     "output_type": "execute_result"
    }
   ],
   "source": [
    "typeof(a)"
   ]
  },
  {
   "cell_type": "code",
   "execution_count": 29,
   "id": "14aa129b-8b27-44c7-b708-d0a5502c5432",
   "metadata": {},
   "outputs": [
    {
     "data": {
      "text/plain": [
       "2-element Vector{Int64}:\n",
       " 1\n",
       " 2"
      ]
     },
     "execution_count": 29,
     "metadata": {},
     "output_type": "execute_result"
    }
   ],
   "source": [
    "[1; 2]"
   ]
  },
  {
   "cell_type": "code",
   "execution_count": 30,
   "id": "eefb41df-949e-4ebc-aeea-9db8e2e685ed",
   "metadata": {},
   "outputs": [
    {
     "data": {
      "text/plain": [
       "2×1 Matrix{Int64}:\n",
       " 1\n",
       " 2"
      ]
     },
     "execution_count": 30,
     "metadata": {},
     "output_type": "execute_result"
    }
   ],
   "source": [
    "[1; 2;;]"
   ]
  },
  {
   "cell_type": "code",
   "execution_count": 31,
   "id": "6671b3a9-1400-459a-8869-e29013129db7",
   "metadata": {},
   "outputs": [
    {
     "data": {
      "text/plain": [
       "2×1×1 Array{Int64, 3}:\n",
       "[:, :, 1] =\n",
       " 1\n",
       " 2"
      ]
     },
     "execution_count": 31,
     "metadata": {},
     "output_type": "execute_result"
    }
   ],
   "source": [
    "[1; 2;;;]"
   ]
  },
  {
   "cell_type": "code",
   "execution_count": 32,
   "id": "5c637b5e-292e-477d-b6e7-45252ef6687c",
   "metadata": {},
   "outputs": [
    {
     "data": {
      "text/plain": [
       "1×1 Matrix{Int64}:\n",
       " 1"
      ]
     },
     "execution_count": 32,
     "metadata": {},
     "output_type": "execute_result"
    }
   ],
   "source": [
    "[1;;]"
   ]
  },
  {
   "cell_type": "code",
   "execution_count": 33,
   "id": "9cd1e239-88f1-4ae1-a29c-bb08e9c27a15",
   "metadata": {},
   "outputs": [
    {
     "data": {
      "text/plain": [
       "2×2×1 Array{Int64, 3}:\n",
       "[:, :, 1] =\n",
       " 1  2\n",
       " 3  4"
      ]
     },
     "execution_count": 33,
     "metadata": {},
     "output_type": "execute_result"
    }
   ],
   "source": [
    "[1 2; 3 4;;;]"
   ]
  },
  {
   "cell_type": "code",
   "execution_count": 34,
   "id": "07fe3421-6381-4fc7-992c-3041821465ec",
   "metadata": {},
   "outputs": [
    {
     "data": {
      "text/plain": [
       "30"
      ]
     },
     "execution_count": 34,
     "metadata": {},
     "output_type": "execute_result"
    }
   ],
   "source": [
    "a = [10 20 30 40]\n",
    "a[end - 1]"
   ]
  },
  {
   "cell_type": "code",
   "execution_count": 35,
   "id": "8afec64f-7a84-40b1-8f7a-d49bfb26ea51",
   "metadata": {},
   "outputs": [
    {
     "data": {
      "text/plain": [
       "2×2 Matrix{Float64}:\n",
       " 0.927667  0.816995\n",
       " 0.987459  0.923476"
      ]
     },
     "execution_count": 35,
     "metadata": {},
     "output_type": "execute_result"
    }
   ],
   "source": [
    "a = rand(2,2)"
   ]
  },
  {
   "cell_type": "code",
   "execution_count": 36,
   "id": "80baac4e-b0ab-4d92-bbc6-5d313ee83d2e",
   "metadata": {},
   "outputs": [
    {
     "data": {
      "text/plain": [
       "0.927666726776275"
      ]
     },
     "execution_count": 36,
     "metadata": {},
     "output_type": "execute_result"
    }
   ],
   "source": [
    "a[1,1]"
   ]
  },
  {
   "cell_type": "code",
   "execution_count": 37,
   "id": "a5c17b1f-f277-4c2a-8e02-cdb5c1650c78",
   "metadata": {},
   "outputs": [
    {
     "data": {
      "text/plain": [
       "2-element Vector{Float64}:\n",
       " 0.927666726776275\n",
       " 0.8169952475179587"
      ]
     },
     "execution_count": 37,
     "metadata": {},
     "output_type": "execute_result"
    }
   ],
   "source": [
    "a[1,:]"
   ]
  },
  {
   "cell_type": "code",
   "execution_count": 38,
   "id": "963bc2a3-6461-41e3-b51d-ada4bb3d03cd",
   "metadata": {},
   "outputs": [
    {
     "data": {
      "text/plain": [
       "2-element Vector{Float64}:\n",
       " 0.2802890882427893\n",
       " 0.5151807233302353"
      ]
     },
     "execution_count": 38,
     "metadata": {},
     "output_type": "execute_result"
    }
   ],
   "source": [
    "a = rand(2,2)\n",
    "b = [true false; false true]\n",
    "a[b]"
   ]
  },
  {
   "cell_type": "code",
   "execution_count": 39,
   "id": "d0da3020-653f-442b-9810-f85d03ec7397",
   "metadata": {},
   "outputs": [
    {
     "data": {
      "text/plain": [
       "4-element Vector{Float64}:\n",
       " 0.0\n",
       " 0.0\n",
       " 0.0\n",
       " 0.0"
      ]
     },
     "execution_count": 39,
     "metadata": {},
     "output_type": "execute_result"
    }
   ],
   "source": [
    "a = zeros(4)"
   ]
  },
  {
   "cell_type": "code",
   "execution_count": 40,
   "id": "b3c07ca9-6374-4a39-afa0-b625e27f45da",
   "metadata": {},
   "outputs": [
    {
     "data": {
      "text/plain": [
       "3-element view(::Vector{Float64}, 2:4) with eltype Float64:\n",
       " 42.0\n",
       " 42.0\n",
       " 42.0"
      ]
     },
     "execution_count": 40,
     "metadata": {},
     "output_type": "execute_result"
    }
   ],
   "source": [
    "a[2:end] .= 42"
   ]
  },
  {
   "cell_type": "code",
   "execution_count": 41,
   "id": "e8666353-6bc3-40dc-9b47-3f8747edc888",
   "metadata": {},
   "outputs": [
    {
     "data": {
      "text/plain": [
       "4-element Vector{Float64}:\n",
       "  0.0\n",
       " 42.0\n",
       " 42.0\n",
       " 42.0"
      ]
     },
     "execution_count": 41,
     "metadata": {},
     "output_type": "execute_result"
    }
   ],
   "source": [
    "a"
   ]
  },
  {
   "cell_type": "code",
   "execution_count": 42,
   "id": "66246675-4060-493c-ad4a-b1029ab44051",
   "metadata": {},
   "outputs": [
    {
     "name": "stdout",
     "output_type": "stream",
     "text": [
      "b = [2, 4]\n"
     ]
    },
    {
     "data": {
      "text/plain": [
       "2×2 Matrix{Int64}:\n",
       " 1  4\n",
       " 3  5"
      ]
     },
     "execution_count": 42,
     "metadata": {},
     "output_type": "execute_result"
    }
   ],
   "source": [
    "a = [1 2; 3 4]\n",
    "b = a[:, 2]\n",
    "@show b\n",
    "a[:, 2] = [4, 5]\n",
    "a"
   ]
  },
  {
   "cell_type": "code",
   "execution_count": 43,
   "id": "86b96531-228c-4548-93aa-1785210c912b",
   "metadata": {},
   "outputs": [
    {
     "data": {
      "text/plain": [
       "2×2 Matrix{Int64}:\n",
       " 1  2\n",
       " 3  4"
      ]
     },
     "execution_count": 43,
     "metadata": {},
     "output_type": "execute_result"
    }
   ],
   "source": [
    "a = [1 2; 3 4]"
   ]
  },
  {
   "cell_type": "code",
   "execution_count": 44,
   "id": "f3b25a79-33d2-48a4-820c-db3a807405a8",
   "metadata": {},
   "outputs": [
    {
     "data": {
      "text/plain": [
       "2-element Vector{Int64}:\n",
       " 1\n",
       " 3"
      ]
     },
     "execution_count": 44,
     "metadata": {},
     "output_type": "execute_result"
    }
   ],
   "source": [
    "b = a[:, 1]"
   ]
  },
  {
   "cell_type": "code",
   "execution_count": 45,
   "id": "1ca905e4-e326-4ddc-9e2e-a1eb95b9d173",
   "metadata": {},
   "outputs": [
    {
     "data": {
      "text/plain": [
       "2-element view(::Matrix{Int64}, :, 2) with eltype Int64:\n",
       " 2\n",
       " 4"
      ]
     },
     "execution_count": 45,
     "metadata": {},
     "output_type": "execute_result"
    }
   ],
   "source": [
    "@views b = a[:, 2]"
   ]
  },
  {
   "cell_type": "code",
   "execution_count": 46,
   "id": "9b6220d1-02d5-469b-a6cb-bb903eec91f2",
   "metadata": {},
   "outputs": [
    {
     "data": {
      "text/plain": [
       "true"
      ]
     },
     "execution_count": 46,
     "metadata": {},
     "output_type": "execute_result"
    }
   ],
   "source": [
    "view(a, :, 2) == b"
   ]
  },
  {
   "cell_type": "code",
   "execution_count": 47,
   "id": "30c808bf-0d5c-4faa-bfe0-0dd02a9f5683",
   "metadata": {},
   "outputs": [
    {
     "data": {
      "text/plain": [
       "2×2 Matrix{Int64}:\n",
       " 1  2\n",
       " 3  4"
      ]
     },
     "execution_count": 47,
     "metadata": {},
     "output_type": "execute_result"
    }
   ],
   "source": [
    "a = [1 2; 3 4]"
   ]
  },
  {
   "cell_type": "code",
   "execution_count": 48,
   "id": "97fcdb3c-0735-4aa7-8ff0-7f7550a575e6",
   "metadata": {},
   "outputs": [
    {
     "data": {
      "text/plain": [
       "2-element Vector{Int64}:\n",
       " 2\n",
       " 4"
      ]
     },
     "execution_count": 48,
     "metadata": {},
     "output_type": "execute_result"
    }
   ],
   "source": [
    "b_slice = a[:, 2]"
   ]
  },
  {
   "cell_type": "code",
   "execution_count": 49,
   "id": "5c54d2d4-34c6-4091-8ad9-17cdab12a103",
   "metadata": {},
   "outputs": [
    {
     "data": {
      "text/plain": [
       "Vector{Int64}\u001b[90m (alias for \u001b[39m\u001b[90mArray{Int64, 1}\u001b[39m\u001b[90m)\u001b[39m"
      ]
     },
     "execution_count": 49,
     "metadata": {},
     "output_type": "execute_result"
    }
   ],
   "source": [
    "typeof(b_slice)"
   ]
  },
  {
   "cell_type": "code",
   "execution_count": 50,
   "id": "2f69538d-7aee-4ff5-8279-1eda35fbcea1",
   "metadata": {},
   "outputs": [
    {
     "data": {
      "text/plain": [
       "Matrix{Int64}\u001b[90m (alias for \u001b[39m\u001b[90mArray{Int64, 2}\u001b[39m\u001b[90m)\u001b[39m"
      ]
     },
     "execution_count": 50,
     "metadata": {},
     "output_type": "execute_result"
    }
   ],
   "source": [
    "typeof(a)"
   ]
  },
  {
   "cell_type": "code",
   "execution_count": 51,
   "id": "c7fea77f-eb7c-41a0-98cd-bd6c13fa9c00",
   "metadata": {},
   "outputs": [
    {
     "data": {
      "text/plain": [
       "2-element view(::Matrix{Int64}, :, 2) with eltype Int64:\n",
       " 2\n",
       " 4"
      ]
     },
     "execution_count": 51,
     "metadata": {},
     "output_type": "execute_result"
    }
   ],
   "source": [
    "@views b =  a[:, 2]"
   ]
  },
  {
   "cell_type": "code",
   "execution_count": 52,
   "id": "fa62d112-502e-47b6-b31c-610d47149abc",
   "metadata": {},
   "outputs": [
    {
     "data": {
      "text/plain": [
       "SubArray{Int64, 1, Matrix{Int64}, Tuple{Base.Slice{Base.OneTo{Int64}}, Int64}, true}"
      ]
     },
     "execution_count": 52,
     "metadata": {},
     "output_type": "execute_result"
    }
   ],
   "source": [
    "typeof(b)"
   ]
  },
  {
   "cell_type": "code",
   "execution_count": 53,
   "id": "69ae5a08-5ed7-42f0-9f57-f80a9cd5c768",
   "metadata": {},
   "outputs": [
    {
     "data": {
      "text/plain": [
       "2×2 Matrix{Int64}:\n",
       " 1  2\n",
       " 3  4"
      ]
     },
     "execution_count": 53,
     "metadata": {},
     "output_type": "execute_result"
    }
   ],
   "source": [
    "a = [1 2; 3 4]"
   ]
  },
  {
   "cell_type": "code",
   "execution_count": 54,
   "id": "dfbcd3ff-1414-42c0-a5be-70b41bb88b35",
   "metadata": {},
   "outputs": [
    {
     "data": {
      "text/plain": [
       "2×2 adjoint(::Matrix{Int64}) with eltype Int64:\n",
       " 1  3\n",
       " 2  4"
      ]
     },
     "execution_count": 54,
     "metadata": {},
     "output_type": "execute_result"
    }
   ],
   "source": [
    "b = a'"
   ]
  },
  {
   "cell_type": "code",
   "execution_count": 55,
   "id": "c15989ef-cb19-426d-9141-f0071c8e8ca0",
   "metadata": {},
   "outputs": [
    {
     "data": {
      "text/plain": [
       "Adjoint{Int64, Matrix{Int64}}"
      ]
     },
     "execution_count": 55,
     "metadata": {},
     "output_type": "execute_result"
    }
   ],
   "source": [
    "typeof(b)"
   ]
  },
  {
   "cell_type": "code",
   "execution_count": 56,
   "id": "c0c02b41-e2c6-403c-afa4-274786d47ffa",
   "metadata": {},
   "outputs": [
    {
     "data": {
      "text/plain": [
       "true"
      ]
     },
     "execution_count": 56,
     "metadata": {},
     "output_type": "execute_result"
    }
   ],
   "source": [
    "a = [1 2; 3 4]\n",
    "b = a'\n",
    "c = Matrix(b)\n",
    "d = collect(b)\n",
    "c == d"
   ]
  },
  {
   "cell_type": "code",
   "execution_count": 57,
   "id": "f4ffbe7a-a727-4466-bcdc-5701fbd3d540",
   "metadata": {},
   "outputs": [
    {
     "data": {
      "text/plain": [
       "2×2 Diagonal{Int64, Vector{Int64}}:\n",
       " 1  ⋅\n",
       " ⋅  4"
      ]
     },
     "execution_count": 57,
     "metadata": {},
     "output_type": "execute_result"
    }
   ],
   "source": [
    "d = [1.0 2.0]\n",
    "\n",
    "a = Diagonal(b)"
   ]
  },
  {
   "cell_type": "code",
   "execution_count": 58,
   "id": "dcfe3455-1cde-4289-b2ed-1eb5175f100b",
   "metadata": {},
   "outputs": [
    {
     "name": "stdout",
     "output_type": "stream",
     "text": [
      "2a = [2 0; 0 8]\n"
     ]
    },
    {
     "data": {
      "text/plain": [
       "2×2 Diagonal{Int64, Vector{Int64}}:\n",
       " 2  ⋅\n",
       " ⋅  8"
      ]
     },
     "execution_count": 58,
     "metadata": {},
     "output_type": "execute_result"
    }
   ],
   "source": [
    "@show 2a"
   ]
  },
  {
   "cell_type": "code",
   "execution_count": 59,
   "id": "b8b3240b-c0aa-4dd5-bd4a-18214dc00e6a",
   "metadata": {},
   "outputs": [
    {
     "data": {
      "text/plain": [
       "2×2 Matrix{Float64}:\n",
       " 0.0950829  0.975195\n",
       " 0.394903   0.0915428"
      ]
     },
     "execution_count": 59,
     "metadata": {},
     "output_type": "execute_result"
    }
   ],
   "source": [
    "b = rand(2, 2)"
   ]
  },
  {
   "cell_type": "code",
   "execution_count": 60,
   "id": "d9acec79-07c4-4914-9401-acb215c65b67",
   "metadata": {},
   "outputs": [
    {
     "name": "stdout",
     "output_type": "stream",
     "text": [
      "b * a = [0.09508285550808315 3.9007810067754476; 0.394903035979003 0.36617112905558935]\n"
     ]
    },
    {
     "data": {
      "text/plain": [
       "2×2 Matrix{Float64}:\n",
       " 0.0950829  3.90078\n",
       " 0.394903   0.366171"
      ]
     },
     "execution_count": 60,
     "metadata": {},
     "output_type": "execute_result"
    }
   ],
   "source": [
    "@show b * a"
   ]
  },
  {
   "cell_type": "code",
   "execution_count": 61,
   "id": "1e3aeffa-259c-46e8-8bf2-8f0fc00ea11d",
   "metadata": {},
   "outputs": [
    {
     "data": {
      "text/plain": [
       "2×2 Matrix{Float64}:\n",
       " 0.0  2.0\n",
       " 3.0  3.0"
      ]
     },
     "execution_count": 61,
     "metadata": {},
     "output_type": "execute_result"
    }
   ],
   "source": [
    "b = [1.0 2.0; 3.0 4.0]\n",
    "b - Diagonal([1.0, 1.0])"
   ]
  },
  {
   "cell_type": "code",
   "execution_count": 62,
   "id": "df00ec99-2177-4173-bec1-9e922770716a",
   "metadata": {},
   "outputs": [
    {
     "data": {
      "text/plain": [
       "2×2 Matrix{Float64}:\n",
       " 0.0  2.0\n",
       " 3.0  3.0"
      ]
     },
     "execution_count": 62,
     "metadata": {},
     "output_type": "execute_result"
    }
   ],
   "source": [
    "b = [1.0 2.0; 3.0 4.0]\n",
    "b - I ## I is an identity matrix"
   ]
  },
  {
   "cell_type": "code",
   "execution_count": 63,
   "id": "d2514c78-8ec9-4a7c-8867-d80f43f5727c",
   "metadata": {},
   "outputs": [
    {
     "data": {
      "text/plain": [
       "UniformScaling{Bool}"
      ]
     },
     "execution_count": 63,
     "metadata": {},
     "output_type": "execute_result"
    }
   ],
   "source": [
    "typeof(I)"
   ]
  },
  {
   "cell_type": "code",
   "execution_count": 64,
   "id": "398fd562-9cf5-4f25-8577-a650ce8b5719",
   "metadata": {},
   "outputs": [
    {
     "name": "stdout",
     "output_type": "stream",
     "text": [
      "(x, y, z) = ([1, 2, 3], [2, 3, 4], [2, 3, 4])\n"
     ]
    }
   ],
   "source": [
    "x = [1, 2, 3]\n",
    "y = x ## name y is bound to whatever x is bound to \n",
    "z = [2, 3, 4]\n",
    "y = z ## only changes the binding not the value\n",
    "@show (x, y, z);"
   ]
  },
  {
   "cell_type": "code",
   "execution_count": 65,
   "id": "35242521-f022-4ea9-815f-253855e8477c",
   "metadata": {},
   "outputs": [
    {
     "name": "stdout",
     "output_type": "stream",
     "text": [
      "(x, y, z) = ([2, 3, 4], [2, 3, 4], [2, 3, 4])\n"
     ]
    },
    {
     "data": {
      "text/plain": [
       "([2, 3, 4], [2, 3, 4], [2, 3, 4])"
      ]
     },
     "execution_count": 65,
     "metadata": {},
     "output_type": "execute_result"
    }
   ],
   "source": [
    "x = [1, 2, 3]\n",
    "y = x\n",
    "z = [2, 3, 4]\n",
    "y .= z\n",
    "@show (x, y, z)"
   ]
  },
  {
   "cell_type": "code",
   "execution_count": 66,
   "id": "b8358aea-d205-49e0-b30b-58afb4b9e171",
   "metadata": {},
   "outputs": [
    {
     "data": {
      "text/plain": [
       "2-element Vector{Int64}:\n",
       "  5\n",
       " 11"
      ]
     },
     "execution_count": 66,
     "metadata": {},
     "output_type": "execute_result"
    }
   ],
   "source": [
    "function f(x)\n",
    "    return [1 2; 3 4] * x ## matrix * column vector\n",
    "end\n",
    "\n",
    "val = [1, 2]\n",
    "f(val)"
   ]
  },
  {
   "cell_type": "code",
   "execution_count": 67,
   "id": "b85de427-e624-4e7d-9b5c-db68b60d63d1",
   "metadata": {},
   "outputs": [
    {
     "data": {
      "text/plain": [
       "2-element Vector{Int64}:\n",
       "  5\n",
       " 11"
      ]
     },
     "execution_count": 67,
     "metadata": {},
     "output_type": "execute_result"
    }
   ],
   "source": [
    "function f(x)\n",
    "    return [1 2; 3 4] * x\n",
    "end\n",
    "\n",
    "val = [1, 2]\n",
    "y = similar(val)\n",
    "\n",
    "function f!(out, x)\n",
    "    out .= [1 2; 3 4] * x\n",
    "end\n",
    "\n",
    "f!(y, val)\n",
    "y"
   ]
  },
  {
   "cell_type": "code",
   "execution_count": 68,
   "id": "682e8355-07d0-4de4-9a78-8a052399fd8f",
   "metadata": {},
   "outputs": [
    {
     "data": {
      "text/plain": [
       "3-element Vector{Int64}:\n",
       " 1\n",
       " 2\n",
       " 3"
      ]
     },
     "execution_count": 68,
     "metadata": {},
     "output_type": "execute_result"
    }
   ],
   "source": [
    "x = [1, 2, 3]"
   ]
  },
  {
   "cell_type": "code",
   "execution_count": 69,
   "id": "03b47a2c-d879-47b1-9f04-a8ec189d143d",
   "metadata": {},
   "outputs": [
    {
     "data": {
      "text/plain": [
       "2-element Vector{Int64}:\n",
       "  5\n",
       " 11"
      ]
     },
     "execution_count": 69,
     "metadata": {},
     "output_type": "execute_result"
    }
   ],
   "source": [
    "function f(x)\n",
    "    return [1 2; 3 4] * x\n",
    "end\n",
    "\n",
    "val = [1, 2]\n",
    "y = similar(val)\n",
    "\n",
    "function f!(out, x)\n",
    "    out .= [1 2; 3 4] * x\n",
    "end\n",
    "\n",
    "f!(y, val)"
   ]
  },
  {
   "cell_type": "code",
   "execution_count": 70,
   "id": "06e7e557-eee8-43b5-b299-d184cdfd9d76",
   "metadata": {},
   "outputs": [
    {
     "data": {
      "text/plain": [
       "1×2 Matrix{Int64}:\n",
       " 1  2"
      ]
     },
     "execution_count": 70,
     "metadata": {},
     "output_type": "execute_result"
    }
   ],
   "source": [
    "y = [1 2]"
   ]
  },
  {
   "cell_type": "code",
   "execution_count": 71,
   "id": "ffb5b8c2-3774-4113-ad7c-cfe01b2aae3f",
   "metadata": {},
   "outputs": [
    {
     "data": {
      "text/plain": [
       "3"
      ]
     },
     "execution_count": 71,
     "metadata": {},
     "output_type": "execute_result"
    }
   ],
   "source": [
    "y .-= 2\n",
    "\n",
    "x = 5\n",
    "\n",
    "x = x - 2"
   ]
  },
  {
   "cell_type": "code",
   "execution_count": 72,
   "id": "d51bd98a-ba3e-45f1-bbee-fa07a7d1171e",
   "metadata": {},
   "outputs": [
    {
     "name": "stdout",
     "output_type": "stream",
     "text": [
      "x = 2\n"
     ]
    },
    {
     "data": {
      "text/plain": [
       "2"
      ]
     },
     "execution_count": 72,
     "metadata": {},
     "output_type": "execute_result"
    }
   ],
   "source": [
    "x = 2\n",
    "\n",
    "function f(x)\n",
    "    x = 3\n",
    "end\n",
    "\n",
    "f(x)\n",
    "@show x"
   ]
  },
  {
   "cell_type": "code",
   "execution_count": 73,
   "id": "979a7336-da16-445a-a499-722af7b80bee",
   "metadata": {},
   "outputs": [
    {
     "name": "stdout",
     "output_type": "stream",
     "text": [
      "xdynamic = [1, 2]\n",
      "g(xdynamic) = \"Success!\"\n",
      "xdynamic = [2, 4]\n"
     ]
    }
   ],
   "source": [
    "using StaticArrays\n",
    "\n",
    "xdynamic = [1, 2]\n",
    "xstatic = @SVector [1, 2] # turns it to a highly optimised static vector\n",
    "\n",
    "f(x) = 2x\n",
    "\n",
    "# in place version\n",
    "function g(x)\n",
    "    x .= 2x\n",
    "    return \"Success!\"\n",
    "end\n",
    "\n",
    "@show xdynamic\n",
    "@show g(xdynamic)\n",
    "@show xdynamic;"
   ]
  },
  {
   "cell_type": "code",
   "execution_count": 74,
   "id": "fc766866-1b6a-4d8c-9217-2588550a9082",
   "metadata": {},
   "outputs": [
    {
     "name": "stdout",
     "output_type": "stream",
     "text": [
      "a = [-1, 0, 1]\n",
      "length(a) = 3\n",
      "sum(a) = 0\n",
      "mean(a) = 0.0\n",
      "std(a) = 1.0\n",
      "var(a) = 1.0\n",
      "minimum(a) = -1\n",
      "maximum(a) = 1\n",
      "extrema(a) = (-1, 1)\n"
     ]
    },
    {
     "data": {
      "text/plain": [
       "(-1, 1)"
      ]
     },
     "execution_count": 74,
     "metadata": {},
     "output_type": "execute_result"
    }
   ],
   "source": [
    "## Operations and arrays\n",
    "\n",
    "a = [-1, 0, 1]\n",
    "@show a\n",
    "@show length(a)\n",
    "@show sum(a)\n",
    "@show mean(a)\n",
    "@show std(a)\n",
    "@show var(a)\n",
    "@show minimum(a)\n",
    "@show maximum(a)\n",
    "@show extrema(a)"
   ]
  },
  {
   "cell_type": "code",
   "execution_count": 75,
   "id": "4cd788b0-3999-4880-a665-7898568b8afb",
   "metadata": {},
   "outputs": [
    {
     "name": "stdout",
     "output_type": "stream",
     "text": [
      "b = [1, 0, -1]\n"
     ]
    },
    {
     "data": {
      "text/plain": [
       "3-element Vector{Int64}:\n",
       "  1\n",
       "  0\n",
       " -1"
      ]
     },
     "execution_count": 75,
     "metadata": {},
     "output_type": "execute_result"
    }
   ],
   "source": [
    "## To sort an array\n",
    "b = sort(a, rev = true)\n",
    "@show b\n",
    "\n",
    "b = sort!(a, rev = true)"
   ]
  },
  {
   "cell_type": "code",
   "execution_count": 76,
   "id": "4d62a4b4-ca32-40fe-b06b-77780764b546",
   "metadata": {},
   "outputs": [
    {
     "data": {
      "text/plain": [
       "true"
      ]
     },
     "execution_count": 76,
     "metadata": {},
     "output_type": "execute_result"
    }
   ],
   "source": [
    "## test if a and b are equal after you reverse it\n",
    "a == b"
   ]
  },
  {
   "cell_type": "code",
   "execution_count": 77,
   "id": "c4acea5a-6410-4bd9-8639-8c8cf53a4c36",
   "metadata": {},
   "outputs": [
    {
     "data": {
      "text/plain": [
       "true"
      ]
     },
     "execution_count": 77,
     "metadata": {},
     "output_type": "execute_result"
    }
   ],
   "source": [
    "## test if a and b are identical (i.e. share the same memory)\n",
    "a === b"
   ]
  },
  {
   "cell_type": "code",
   "execution_count": 78,
   "id": "5a9c9178-9570-4b5c-acf2-095cd359e70f",
   "metadata": {},
   "outputs": [
    {
     "name": "stdout",
     "output_type": "stream",
     "text": [
      "a = [1.0 1.0]\n",
      "b = [1.0 1.0; 1.0 1.0]\n",
      "c = [2.0 2.0]\n"
     ]
    },
    {
     "data": {
      "text/plain": [
       "2×1 Matrix{Float64}:\n",
       " 2.0\n",
       " 2.0"
      ]
     },
     "execution_count": 78,
     "metadata": {},
     "output_type": "execute_result"
    }
   ],
   "source": [
    "## Matrix algebra\n",
    "a = ones(1, 2)\n",
    "b = ones(2, 2)\n",
    "@show a\n",
    "@show b\n",
    "\n",
    "c = a * b\n",
    "d = b * a'\n",
    "@show c\n",
    "d"
   ]
  },
  {
   "cell_type": "code",
   "execution_count": 79,
   "id": "ca3a4a93-547f-4184-a814-fab1d29263b1",
   "metadata": {},
   "outputs": [
    {
     "data": {
      "text/plain": [
       "2×2 Matrix{Float64}:\n",
       " -1.0  -1.0\n",
       "  1.0   1.0"
      ]
     },
     "execution_count": 79,
     "metadata": {},
     "output_type": "execute_result"
    }
   ],
   "source": [
    "## Solve the linear system AX = B for X use A/B\n",
    "A = [1 2; 2 3]\n",
    "B = ones(2,2)\n",
    "\n",
    "A\\B\n",
    "\n",
    "inv(A) * B"
   ]
  },
  {
   "cell_type": "code",
   "execution_count": 80,
   "id": "69b46d49-6cb7-4cb5-b378-0115f9434de1",
   "metadata": {},
   "outputs": [
    {
     "data": {
      "text/plain": [
       "2.0"
      ]
     },
     "execution_count": 80,
     "metadata": {},
     "output_type": "execute_result"
    }
   ],
   "source": [
    "ones(2)' * ones(2)"
   ]
  },
  {
   "cell_type": "code",
   "execution_count": 81,
   "id": "7dfc7cc7-f8c2-446f-a327-29ba191c6b67",
   "metadata": {},
   "outputs": [
    {
     "name": "stdout",
     "output_type": "stream",
     "text": [
      "dot((ones(2))', ones(2)) = 2.0\n",
      "ones(2) ⋅ ones(2) = 2.0\n"
     ]
    },
    {
     "data": {
      "text/plain": [
       "2.0"
      ]
     },
     "execution_count": 81,
     "metadata": {},
     "output_type": "execute_result"
    }
   ],
   "source": [
    "@show dot(ones(2)', ones(2))\n",
    "@show ones(2) ⋅ ones(2)"
   ]
  },
  {
   "cell_type": "code",
   "execution_count": 82,
   "id": "a1f7e0b4-b99e-4460-9803-8d7f6be87b87",
   "metadata": {},
   "outputs": [
    {
     "data": {
      "text/plain": [
       "2×2 Matrix{Float64}:\n",
       " 1.0  1.0\n",
       " 1.0  1.0"
      ]
     },
     "execution_count": 82,
     "metadata": {},
     "output_type": "execute_result"
    }
   ],
   "source": [
    "## Elementwise operations\n",
    "## if you want to multiply every element in of matrix A with its corresponding element in B then you can use \".*\"\n",
    "A = ones(2,2)\n",
    "B = ones(2, 2)\n",
    "A.*B"
   ]
  },
  {
   "cell_type": "code",
   "execution_count": 83,
   "id": "8f19ff40-d240-4b81-b254-81ee077e72e5",
   "metadata": {},
   "outputs": [
    {
     "data": {
      "text/plain": [
       "2×2 Matrix{Float64}:\n",
       " 1.0  1.0\n",
       " 1.0  1.0"
      ]
     },
     "execution_count": 83,
     "metadata": {},
     "output_type": "execute_result"
    }
   ],
   "source": [
    "## same with squaring a result\n",
    "A.^2"
   ]
  },
  {
   "cell_type": "code",
   "execution_count": 84,
   "id": "03207e13-5f32-49c7-b360-4889f0f227c3",
   "metadata": {},
   "outputs": [
    {
     "name": "stdout",
     "output_type": "stream",
     "text": [
      "ones(2, 2) + ones(2, 2) = [2.0 2.0; 2.0 2.0]\n",
      "ones(2, 2) - ones(2, 2) = [0.0 0.0; 0.0 0.0]\n"
     ]
    },
    {
     "data": {
      "text/plain": [
       "2×2 Matrix{Int64}:\n",
       " 3  3\n",
       " 6  6"
      ]
     },
     "execution_count": 84,
     "metadata": {},
     "output_type": "execute_result"
    }
   ],
   "source": [
    "## there are operations that are mathematically valid without broadcasting, so you don't need \".\"\n",
    "@show ones(2,2) + ones(2,2)\n",
    "@show ones(2,2) - ones(2,2);\n",
    "\n",
    "A = [1 1; 2 2]\n",
    "3A"
   ]
  },
  {
   "cell_type": "code",
   "execution_count": 85,
   "id": "2a739c52-31c7-4a41-bfbc-e6ba46cdfee8",
   "metadata": {},
   "outputs": [
    {
     "data": {
      "text/plain": [
       "2×2 Matrix{Int64}:\n",
       " 4  5\n",
       " 6  7"
      ]
     },
     "execution_count": 85,
     "metadata": {},
     "output_type": "execute_result"
    }
   ],
   "source": [
    "## However, scalar addition requires a broadcast\n",
    "A = [1 2; 3 4]\n",
    "3 .+ A"
   ]
  },
  {
   "cell_type": "code",
   "execution_count": 86,
   "id": "11b22c78-7734-4f98-b657-af4498560ee3",
   "metadata": {},
   "outputs": [
    {
     "data": {
      "text/plain": [
       "3-element BitVector:\n",
       " 0\n",
       " 0\n",
       " 1"
      ]
     },
     "execution_count": 86,
     "metadata": {},
     "output_type": "execute_result"
    }
   ],
   "source": [
    "## Elementwise comparisons\n",
    "a = [20, 30, 40]\n",
    "b = [-100, 0, 100]\n",
    "b .> a\n",
    "b.==a\n",
    "b .> 1\n"
   ]
  },
  {
   "cell_type": "code",
   "execution_count": 87,
   "id": "ae5c8bbd-a253-4d58-b3ed-358f79110f0f",
   "metadata": {},
   "outputs": [
    {
     "data": {
      "text/plain": [
       "4-element Vector{Float64}:\n",
       " 0.2986398755559966\n",
       " 0.4142835938951952\n",
       " 0.8189292759914182\n",
       " 0.8790830308077229"
      ]
     },
     "execution_count": 87,
     "metadata": {},
     "output_type": "execute_result"
    }
   ],
   "source": [
    "## Conditional extraction\n",
    "a = rand(4)"
   ]
  },
  {
   "cell_type": "code",
   "execution_count": 88,
   "id": "a3751b55-3836-4571-bb26-61341c698901",
   "metadata": {},
   "outputs": [
    {
     "name": "stdout",
     "output_type": "stream",
     "text": [
      "a[a .> 0] = [0.2986398755559966, 0.4142835938951952, 0.8189292759914182, 0.8790830308077229]\n"
     ]
    },
    {
     "data": {
      "text/plain": [
       "4-element Vector{Float64}:\n",
       " 0.2986398755559966\n",
       " 0.4142835938951952\n",
       " 0.8189292759914182\n",
       " 0.8790830308077229"
      ]
     },
     "execution_count": 88,
     "metadata": {},
     "output_type": "execute_result"
    }
   ],
   "source": [
    "@show a[a .> 0]"
   ]
  },
  {
   "cell_type": "code",
   "execution_count": 89,
   "id": "870cd3fe-1d62-4524-a91c-0b09b1e784b1",
   "metadata": {},
   "outputs": [
    {
     "data": {
      "text/plain": [
       "2×2 Matrix{Int64}:\n",
       " 10  30\n",
       " 20  40"
      ]
     },
     "execution_count": 89,
     "metadata": {},
     "output_type": "execute_result"
    }
   ],
   "source": [
    "## Changing dimensions\n",
    "a = [1,2,3,4]\n",
    "a = a*10\n",
    "b = reshape(a, 2,2)"
   ]
  },
  {
   "cell_type": "code",
   "execution_count": 90,
   "id": "3be018f9-00dd-4bb1-8c4f-332ad317fdbc",
   "metadata": {},
   "outputs": [
    {
     "data": {
      "text/plain": [
       "30"
      ]
     },
     "execution_count": 90,
     "metadata": {},
     "output_type": "execute_result"
    }
   ],
   "source": [
    "b[1, 2]"
   ]
  },
  {
   "cell_type": "code",
   "execution_count": 91,
   "id": "65ed6272-b5cd-4f0b-8195-17afcb70cd07",
   "metadata": {},
   "outputs": [
    {
     "data": {
      "text/plain": [
       "1×4 Matrix{Int64}:\n",
       " 1  2  3  4"
      ]
     },
     "execution_count": 91,
     "metadata": {},
     "output_type": "execute_result"
    }
   ],
   "source": [
    "## Drop an array along one dimension\n",
    "a = [1 2 3 4]"
   ]
  },
  {
   "cell_type": "code",
   "execution_count": 92,
   "id": "e9fb28b0-9e80-4bc7-bf77-56820108f996",
   "metadata": {},
   "outputs": [
    {
     "data": {
      "text/plain": [
       "4-element Vector{Int64}:\n",
       " 1\n",
       " 2\n",
       " 3\n",
       " 4"
      ]
     },
     "execution_count": 92,
     "metadata": {},
     "output_type": "execute_result"
    }
   ],
   "source": [
    "dropdims(a, dims = 1)"
   ]
  },
  {
   "cell_type": "code",
   "execution_count": 93,
   "id": "e47e69b8-a11e-4919-adce-a93af3156d1e",
   "metadata": {},
   "outputs": [
    {
     "data": {
      "text/plain": [
       "4-element Vector{Float64}:\n",
       " 0.0\n",
       " 0.6931471805599453\n",
       " 1.0986122886681098\n",
       " 1.3862943611198906"
      ]
     },
     "execution_count": 93,
     "metadata": {},
     "output_type": "execute_result"
    }
   ],
   "source": [
    "## Broadcastig functions\n",
    "log(1.0)\n",
    "log.(1:4)\n",
    "[log(x) for x in 1:4]"
   ]
  },
  {
   "cell_type": "code",
   "execution_count": 94,
   "id": "a63fbcdc-6b21-4df7-b08c-f3fe4f38b7e1",
   "metadata": {},
   "outputs": [
    {
     "data": {
      "text/plain": [
       "2×2 Matrix{Int64}:\n",
       " 1  2\n",
       " 4  3"
      ]
     },
     "execution_count": 94,
     "metadata": {},
     "output_type": "execute_result"
    }
   ],
   "source": [
    "## Linear algebra\n",
    "A = [1 2; 4 3]"
   ]
  },
  {
   "cell_type": "code",
   "execution_count": 95,
   "id": "8b6ebec8-71cd-4532-a34f-88286960b9fe",
   "metadata": {},
   "outputs": [
    {
     "data": {
      "text/plain": [
       "-5.0"
      ]
     },
     "execution_count": 95,
     "metadata": {},
     "output_type": "execute_result"
    }
   ],
   "source": [
    "det(A)"
   ]
  },
  {
   "cell_type": "code",
   "execution_count": 96,
   "id": "a888bcf9-9d2a-4229-b4fb-4e0f87ae928f",
   "metadata": {},
   "outputs": [
    {
     "data": {
      "text/plain": [
       "4"
      ]
     },
     "execution_count": 96,
     "metadata": {},
     "output_type": "execute_result"
    }
   ],
   "source": [
    "tr(A) ## trace of matix which takes the sum of the diagonal values of the matrix"
   ]
  },
  {
   "cell_type": "code",
   "execution_count": 97,
   "id": "7e72348d-7e8d-458a-80b8-4661a1a3d84d",
   "metadata": {},
   "outputs": [
    {
     "data": {
      "text/plain": [
       "2-element Vector{Float64}:\n",
       " -1.0\n",
       "  5.0"
      ]
     },
     "execution_count": 97,
     "metadata": {},
     "output_type": "execute_result"
    }
   ],
   "source": [
    "eigvals(A)"
   ]
  },
  {
   "cell_type": "code",
   "execution_count": 98,
   "id": "e8494b71-28ad-4abc-a828-00dadba677e8",
   "metadata": {},
   "outputs": [
    {
     "data": {
      "text/plain": [
       "2×2 Matrix{Int64}:\n",
       " 1  2\n",
       " 3  4"
      ]
     },
     "execution_count": 98,
     "metadata": {},
     "output_type": "execute_result"
    }
   ],
   "source": [
    "A = [1 2; 3 4]"
   ]
  },
  {
   "cell_type": "code",
   "execution_count": 99,
   "id": "f4127373-6c52-480a-a12e-9485b32f45f0",
   "metadata": {},
   "outputs": [
    {
     "data": {
      "text/plain": [
       "2×2 Matrix{Float64}:\n",
       " 1.0  1.0\n",
       " 1.0  1.0"
      ]
     },
     "execution_count": 99,
     "metadata": {},
     "output_type": "execute_result"
    }
   ],
   "source": [
    "B = ones(2,2)"
   ]
  },
  {
   "cell_type": "code",
   "execution_count": 100,
   "id": "8301bec2-489d-4f59-97cb-1d6d2f177f16",
   "metadata": {},
   "outputs": [
    {
     "data": {
      "text/plain": [
       "2-element Vector{Int64}:\n",
       " 1\n",
       " 3"
      ]
     },
     "execution_count": 100,
     "metadata": {},
     "output_type": "execute_result"
    }
   ],
   "source": [
    "a = [1,3]"
   ]
  },
  {
   "cell_type": "code",
   "execution_count": 101,
   "id": "cabccd89-2a25-41f0-9a94-1bc9ed93a50e",
   "metadata": {},
   "outputs": [
    {
     "data": {
      "text/plain": [
       "2-element Vector{Int64}:\n",
       " 3\n",
       " 4"
      ]
     },
     "execution_count": 101,
     "metadata": {},
     "output_type": "execute_result"
    }
   ],
   "source": [
    "b = [3, 4]"
   ]
  },
  {
   "cell_type": "code",
   "execution_count": 102,
   "id": "01826f02-a6d2-44d3-86b4-a0a17ff048fd",
   "metadata": {},
   "outputs": [
    {
     "data": {
      "text/plain": [
       "10-element Vector{Int64}:\n",
       "  1\n",
       "  2\n",
       "  3\n",
       "  4\n",
       "  5\n",
       "  6\n",
       "  7\n",
       "  8\n",
       "  9\n",
       " 10"
      ]
     },
     "execution_count": 102,
     "metadata": {},
     "output_type": "execute_result"
    }
   ],
   "source": [
    "c = [1,2,3,4,5,6,7,8,9,10]"
   ]
  },
  {
   "cell_type": "code",
   "execution_count": 103,
   "id": "b10de390-a222-4b98-b93d-25b8067f0054",
   "metadata": {},
   "outputs": [
    {
     "data": {
      "text/plain": [
       "385"
      ]
     },
     "execution_count": 103,
     "metadata": {},
     "output_type": "execute_result"
    }
   ],
   "source": [
    "c'*c"
   ]
  },
  {
   "cell_type": "code",
   "execution_count": 104,
   "id": "e3858ed7-2865-4a95-a11f-70f04e163666",
   "metadata": {},
   "outputs": [
    {
     "data": {
      "text/plain": [
       "3×3 Matrix{Int64}:\n",
       " 1  2  3\n",
       " 4  5  6\n",
       " 7  8  9"
      ]
     },
     "execution_count": 104,
     "metadata": {},
     "output_type": "execute_result"
    }
   ],
   "source": [
    "A = [1 2 3;4 5 6; 7 8 9]"
   ]
  },
  {
   "cell_type": "code",
   "execution_count": 105,
   "id": "8d4bb3ab-cf46-4860-a1ab-b3c972483c1b",
   "metadata": {},
   "outputs": [
    {
     "data": {
      "text/plain": [
       "3×3 adjoint(::Matrix{Int64}) with eltype Int64:\n",
       " 1  4  7\n",
       " 2  5  8\n",
       " 3  6  9"
      ]
     },
     "execution_count": 105,
     "metadata": {},
     "output_type": "execute_result"
    }
   ],
   "source": [
    "A'"
   ]
  },
  {
   "cell_type": "code",
   "execution_count": 106,
   "id": "2b05a843-2c7c-4460-9170-e5d9e97f1542",
   "metadata": {},
   "outputs": [
    {
     "data": {
      "text/plain": [
       "1:10"
      ]
     },
     "execution_count": 106,
     "metadata": {},
     "output_type": "execute_result"
    }
   ],
   "source": [
    "a = 1:10"
   ]
  },
  {
   "cell_type": "code",
   "execution_count": 107,
   "id": "25b09e1d-299a-4ead-8afa-27fdedf697e0",
   "metadata": {},
   "outputs": [
    {
     "name": "stdout",
     "output_type": "stream",
     "text": [
      "Vector(a) = [1, 2, 3, 4, 5, 6, 7, 8, 9, 10]\n"
     ]
    },
    {
     "data": {
      "text/plain": [
       "10-element Vector{Int64}:\n",
       "  1\n",
       "  2\n",
       "  3\n",
       "  4\n",
       "  5\n",
       "  6\n",
       "  7\n",
       "  8\n",
       "  9\n",
       " 10"
      ]
     },
     "execution_count": 107,
     "metadata": {},
     "output_type": "execute_result"
    }
   ],
   "source": [
    "@show Vector(a)"
   ]
  },
  {
   "cell_type": "code",
   "execution_count": 108,
   "id": "7746f3bc-7332-4d59-ad48-b53d173d8977",
   "metadata": {},
   "outputs": [
    {
     "data": {
      "text/plain": [
       "10×10 Diagonal{Int64, UnitRange{Int64}}:\n",
       " 1  ⋅  ⋅  ⋅  ⋅  ⋅  ⋅  ⋅  ⋅   ⋅\n",
       " ⋅  2  ⋅  ⋅  ⋅  ⋅  ⋅  ⋅  ⋅   ⋅\n",
       " ⋅  ⋅  3  ⋅  ⋅  ⋅  ⋅  ⋅  ⋅   ⋅\n",
       " ⋅  ⋅  ⋅  4  ⋅  ⋅  ⋅  ⋅  ⋅   ⋅\n",
       " ⋅  ⋅  ⋅  ⋅  5  ⋅  ⋅  ⋅  ⋅   ⋅\n",
       " ⋅  ⋅  ⋅  ⋅  ⋅  6  ⋅  ⋅  ⋅   ⋅\n",
       " ⋅  ⋅  ⋅  ⋅  ⋅  ⋅  7  ⋅  ⋅   ⋅\n",
       " ⋅  ⋅  ⋅  ⋅  ⋅  ⋅  ⋅  8  ⋅   ⋅\n",
       " ⋅  ⋅  ⋅  ⋅  ⋅  ⋅  ⋅  ⋅  9   ⋅\n",
       " ⋅  ⋅  ⋅  ⋅  ⋅  ⋅  ⋅  ⋅  ⋅  10"
      ]
     },
     "execution_count": 108,
     "metadata": {},
     "output_type": "execute_result"
    }
   ],
   "source": [
    "b = Diagonal(a)"
   ]
  },
  {
   "cell_type": "code",
   "execution_count": 109,
   "id": "b5d06428-1f63-4a51-9fef-abf7da1a8536",
   "metadata": {},
   "outputs": [
    {
     "data": {
      "text/plain": [
       "10-element Vector{Int64}:\n",
       "   1\n",
       "   4\n",
       "   9\n",
       "  16\n",
       "  25\n",
       "  36\n",
       "  49\n",
       "  64\n",
       "  81\n",
       " 100"
      ]
     },
     "execution_count": 109,
     "metadata": {},
     "output_type": "execute_result"
    }
   ],
   "source": [
    "b*a"
   ]
  },
  {
   "cell_type": "code",
   "execution_count": 110,
   "id": "dcd9334b-9a47-4eb0-8cd5-6b1ae61c266f",
   "metadata": {},
   "outputs": [
    {
     "data": {
      "text/plain": [
       "3×3 Diagonal{Float64, Vector{Float64}}:\n",
       " 1.0   ⋅    ⋅ \n",
       "  ⋅   2.0   ⋅ \n",
       "  ⋅    ⋅   3.0"
      ]
     },
     "execution_count": 110,
     "metadata": {},
     "output_type": "execute_result"
    }
   ],
   "source": [
    "b = Diagonal([1.0, 2.0, 3.0])"
   ]
  },
  {
   "cell_type": "code",
   "execution_count": 111,
   "id": "da565568-4e66-4848-92ef-49dd6bedfa1a",
   "metadata": {},
   "outputs": [
    {
     "data": {
      "text/plain": [
       "10:12"
      ]
     },
     "execution_count": 111,
     "metadata": {},
     "output_type": "execute_result"
    }
   ],
   "source": [
    "a = 10:12"
   ]
  },
  {
   "cell_type": "code",
   "execution_count": 112,
   "id": "74272b40-4ca2-491b-94d0-50b8297918f3",
   "metadata": {},
   "outputs": [
    {
     "data": {
      "text/plain": [
       "3-element Vector{Float64}:\n",
       " 10.0\n",
       " 22.0\n",
       " 36.0"
      ]
     },
     "execution_count": 112,
     "metadata": {},
     "output_type": "execute_result"
    }
   ],
   "source": [
    "b * a"
   ]
  },
  {
   "cell_type": "code",
   "execution_count": 113,
   "id": "9840c01e-1390-453a-b054-d49902c1ffa5",
   "metadata": {},
   "outputs": [
    {
     "data": {
      "text/plain": [
       "3-element Vector{Float64}:\n",
       "  9.0\n",
       " 20.0\n",
       " 33.0"
      ]
     },
     "execution_count": 113,
     "metadata": {},
     "output_type": "execute_result"
    }
   ],
   "source": [
    "b * a - [1.0, 2.0, 3.0]"
   ]
  },
  {
   "cell_type": "code",
   "execution_count": 114,
   "id": "2a2f3bf2-dfe6-4de8-8f75-be212eb8f943",
   "metadata": {},
   "outputs": [
    {
     "data": {
      "text/plain": [
       "0.0:0.1:1.0"
      ]
     },
     "execution_count": 114,
     "metadata": {},
     "output_type": "execute_result"
    }
   ],
   "source": [
    "a = 0.0:0.1:1.0"
   ]
  },
  {
   "cell_type": "code",
   "execution_count": 115,
   "id": "3854ce1e-717a-452d-8d4e-9ca6c5e9b305",
   "metadata": {},
   "outputs": [
    {
     "data": {
      "text/plain": [
       "0.01:0.1:1.01"
      ]
     },
     "execution_count": 115,
     "metadata": {},
     "output_type": "execute_result"
    }
   ],
   "source": [
    "a .+ 0.01"
   ]
  },
  {
   "cell_type": "code",
   "execution_count": 116,
   "id": "75620929-e09a-4b7f-a44b-46800f67df07",
   "metadata": {},
   "outputs": [
    {
     "data": {
      "text/plain": [
       "0.0:0.15:0.9"
      ]
     },
     "execution_count": 116,
     "metadata": {},
     "output_type": "execute_result"
    }
   ],
   "source": [
    "maxval = 1.0\n",
    "minval = 0.0\n",
    "stepsize = 0.15\n",
    "a = minval:stepsize:maxval"
   ]
  },
  {
   "cell_type": "code",
   "execution_count": 117,
   "id": "7cca6c10-8ff4-451e-871d-7591364cfe93",
   "metadata": {},
   "outputs": [
    {
     "data": {
      "text/plain": [
       "false"
      ]
     },
     "execution_count": 117,
     "metadata": {},
     "output_type": "execute_result"
    }
   ],
   "source": [
    "maximum(a) == maxval"
   ]
  },
  {
   "cell_type": "code",
   "execution_count": 118,
   "id": "3cdd281b-d0ad-4def-b2b9-45c270a8bbb8",
   "metadata": {},
   "outputs": [
    {
     "data": {
      "text/plain": [
       "(1.0, \"apple\")"
      ]
     },
     "execution_count": 118,
     "metadata": {},
     "output_type": "execute_result"
    }
   ],
   "source": [
    "t = (1.0, \"apple\")"
   ]
  },
  {
   "cell_type": "code",
   "execution_count": 119,
   "id": "d229852c-7a93-4375-8c44-6ac7bb35e5b2",
   "metadata": {},
   "outputs": [
    {
     "data": {
      "text/plain": [
       "1.0"
      ]
     },
     "execution_count": 119,
     "metadata": {},
     "output_type": "execute_result"
    }
   ],
   "source": [
    "t[1]"
   ]
  },
  {
   "cell_type": "code",
   "execution_count": 120,
   "id": "a27aaf92-9ade-440d-b765-dabed86e6d46",
   "metadata": {},
   "outputs": [
    {
     "data": {
      "text/plain": [
       "\"apple\""
      ]
     },
     "execution_count": 120,
     "metadata": {},
     "output_type": "execute_result"
    }
   ],
   "source": [
    "t[2]"
   ]
  },
  {
   "cell_type": "code",
   "execution_count": 121,
   "id": "2b10c00b-273c-4739-8e7d-f86df35a8f65",
   "metadata": {},
   "outputs": [
    {
     "data": {
      "text/plain": [
       "(1.0, \"apple\")"
      ]
     },
     "execution_count": 121,
     "metadata": {},
     "output_type": "execute_result"
    }
   ],
   "source": [
    "a, b = t"
   ]
  },
  {
   "cell_type": "code",
   "execution_count": 122,
   "id": "094b4d7b-a118-4815-8429-079d85cb5a33",
   "metadata": {},
   "outputs": [
    {
     "name": "stdout",
     "output_type": "stream",
     "text": [
      "a = 1.0 and b = apple\n"
     ]
    }
   ],
   "source": [
    "println(\"a = $a and b = $b\")"
   ]
  },
  {
   "cell_type": "code",
   "execution_count": 123,
   "id": "14a81889-956d-48b7-a856-0a23c4079460",
   "metadata": {},
   "outputs": [
    {
     "data": {
      "text/plain": [
       "(val1 = 1.0, val2 = \"test\")"
      ]
     },
     "execution_count": 123,
     "metadata": {},
     "output_type": "execute_result"
    }
   ],
   "source": [
    "t = (; val1 = 1.0, val2 = \"test\")"
   ]
  },
  {
   "cell_type": "code",
   "execution_count": 124,
   "id": "c65c665a-bcfc-43cc-b256-0b8000ae892a",
   "metadata": {},
   "outputs": [
    {
     "name": "stdout",
     "output_type": "stream",
     "text": [
      "a = 1.0 and b= test\n"
     ]
    }
   ],
   "source": [
    "println(\"a = $(t.val1) and b= $(t.val2)\")"
   ]
  },
  {
   "cell_type": "code",
   "execution_count": 125,
   "id": "e339885d-52b9-4363-bcd4-e985e02fadd6",
   "metadata": {},
   "outputs": [
    {
     "name": "stdout",
     "output_type": "stream",
     "text": [
      "a = 1.0 and b = test\n"
     ]
    }
   ],
   "source": [
    "(; val1, val2) = t\n",
    "println(\"a = $val1 and b = $val2\")"
   ]
  },
  {
   "cell_type": "code",
   "execution_count": 126,
   "id": "b65b991d-f084-407d-908b-fe06885b86b4",
   "metadata": {},
   "outputs": [
    {
     "data": {
      "text/plain": [
       "(val3 = 4, val4 = \"test!!\")"
      ]
     },
     "execution_count": 126,
     "metadata": {},
     "output_type": "execute_result"
    }
   ],
   "source": [
    "t2 = (;val3 = 4, val4 = \"test!!\")"
   ]
  },
  {
   "cell_type": "code",
   "execution_count": 127,
   "id": "290bf915-4b9a-4d03-be56-f8b368b2bb89",
   "metadata": {},
   "outputs": [
    {
     "data": {
      "text/plain": [
       "(val1 = 1.0, val2 = \"test\", val3 = 4, val4 = \"test!!\")"
      ]
     },
     "execution_count": 127,
     "metadata": {},
     "output_type": "execute_result"
    }
   ],
   "source": [
    "t3 = merge(t, t2)"
   ]
  },
  {
   "cell_type": "code",
   "execution_count": 128,
   "id": "d24e45c7-598b-43e3-8321-f06ddab45bcc",
   "metadata": {},
   "outputs": [
    {
     "data": {
      "text/plain": [
       "2.1"
      ]
     },
     "execution_count": 128,
     "metadata": {},
     "output_type": "execute_result"
    }
   ],
   "source": [
    "function f(parameters)\n",
    "    alpha, beta = parameters.alpha, parameters.beta\n",
    "    return alpha + beta\n",
    "end\n",
    "\n",
    "parameters = (; alpha = 0.1, beta = 2.0)\n",
    "f(parameters)"
   ]
  },
  {
   "cell_type": "code",
   "execution_count": 129,
   "id": "79a49aa4-e43e-42c4-8eca-6c4cc694d615",
   "metadata": {},
   "outputs": [
    {
     "data": {
      "text/plain": [
       "3.7"
      ]
     },
     "execution_count": 129,
     "metadata": {},
     "output_type": "execute_result"
    }
   ],
   "source": [
    "function f(parameters)\n",
    "    (; alpha, beta) = parameters\n",
    "    return alpha + beta\n",
    "end\n",
    "parameters = (; alpha = 1.5, beta = 2.2)\n",
    "\n",
    "f(parameters)"
   ]
  },
  {
   "cell_type": "code",
   "execution_count": 130,
   "id": "24d53b4b-294d-45fc-a49d-cfe00c2e87c0",
   "metadata": {},
   "outputs": [
    {
     "name": "stdout",
     "output_type": "stream",
     "text": [
      "param_gen() = 1.2\n",
      "param_gen(alpha = 0.2) = 0.4\n"
     ]
    },
    {
     "data": {
      "text/plain": [
       "0.4"
      ]
     },
     "execution_count": 130,
     "metadata": {},
     "output_type": "execute_result"
    }
   ],
   "source": [
    "function param_gen(; alpha = 1.0, beta = 0.2)\n",
    "    return alpha + beta\n",
    "end\n",
    "\n",
    "@show param_gen()\n",
    "@show param_gen(alpha = 0.2)"
   ]
  },
  {
   "cell_type": "code",
   "execution_count": 131,
   "id": "230200cf-22a9-4bf4-8f00-4da26d25c4d1",
   "metadata": {},
   "outputs": [
    {
     "data": {
      "text/plain": [
       "Nothing"
      ]
     },
     "execution_count": 131,
     "metadata": {},
     "output_type": "execute_result"
    }
   ],
   "source": [
    "## Nothing\n",
    "typeof(nothing)"
   ]
  },
  {
   "cell_type": "code",
   "execution_count": 132,
   "id": "eb342150-dcb3-4a13-8dfa-5c585f80f45e",
   "metadata": {},
   "outputs": [
    {
     "data": {
      "text/plain": [
       "Missing"
      ]
     },
     "execution_count": 132,
     "metadata": {},
     "output_type": "execute_result"
    }
   ],
   "source": [
    "## Missing\n",
    "typeof(missing)"
   ]
  },
  {
   "cell_type": "code",
   "execution_count": 133,
   "id": "89a8f0f9-5d0e-4043-8ccc-76a2af6daeac",
   "metadata": {},
   "outputs": [
    {
     "name": "stdout",
     "output_type": "stream",
     "text": [
      "x = 1.0\n",
      "f(1.0) = 1.0\n",
      "x was not set\n",
      "f(-1.0) = nothing\n"
     ]
    }
   ],
   "source": [
    "function f(y)\n",
    "    x = nothing\n",
    "    if y > 0.0\n",
    "        # calculations to set 'x'\n",
    "        x = y\n",
    "    end\n",
    "\n",
    "    # later can check 'x'\n",
    "    if isnothing(x)\n",
    "        println(\"x was not set\")\n",
    "    else\n",
    "        println(\"x = $x\")\n",
    "    end\n",
    "    x\n",
    "end\n",
    "\n",
    "@show f(1.0)\n",
    "@show f(-1.0)"
   ]
  },
  {
   "cell_type": "code",
   "execution_count": 134,
   "id": "e09c6290-053d-4b49-b27e-0aae5441a5a0",
   "metadata": {},
   "outputs": [
    {
     "name": "stdout",
     "output_type": "stream",
     "text": [
      "function f(-1.0) failed\n"
     ]
    }
   ],
   "source": [
    "function f(x)\n",
    "    if x > 0.0\n",
    "        return sqrt(x)\n",
    "    else\n",
    "        return nothing\n",
    "    end\n",
    "end\n",
    "\n",
    "x1 = 1.0\n",
    "x2 = -1.0\n",
    "\n",
    "y1 = f(x1)\n",
    "y2 = f(x2)\n",
    "\n",
    "if isnothing(y1)\n",
    "    println(\"function f($x2) is successful\")\n",
    "else\n",
    "    println(\"function f($x2) failed\")\n",
    "end"
   ]
  },
  {
   "cell_type": "code",
   "execution_count": 135,
   "id": "129fd749-8253-4f2a-a40e-211bd24334d3",
   "metadata": {},
   "outputs": [],
   "source": [
    "function f(x)\n",
    "    x > 0.0 ? sqrt(x) : nothing\n",
    "\n",
    "end\n",
    "\n",
    "f(-1.0)"
   ]
  },
  {
   "cell_type": "code",
   "execution_count": 136,
   "id": "2d0e72ac-2fd3-489f-b53e-7d8d1a6e7884",
   "metadata": {},
   "outputs": [
    {
     "data": {
      "text/plain": [
       "2-element Vector{Union{Nothing, Float64}}:\n",
       " 1.0\n",
       "  nothing"
      ]
     },
     "execution_count": 136,
     "metadata": {},
     "output_type": "execute_result"
    }
   ],
   "source": [
    "x = [1.0, nothing]"
   ]
  },
  {
   "cell_type": "code",
   "execution_count": 137,
   "id": "7b7d84dc-8136-4830-bdde-66e51a10c019",
   "metadata": {},
   "outputs": [
    {
     "data": {
      "text/plain": [
       "4-element Vector{Union{Nothing, Float64}}:\n",
       " 0.31622776601683794\n",
       "  nothing\n",
       " 1.4142135623730951\n",
       "  nothing"
      ]
     },
     "execution_count": 137,
     "metadata": {},
     "output_type": "execute_result"
    }
   ],
   "source": [
    "x = [0.1, -1.0, 2.0, -2.0]\n",
    "y = f.(x)"
   ]
  },
  {
   "cell_type": "code",
   "execution_count": 138,
   "id": "ea0b4599-83e8-4cfe-9056-fbb488331e07",
   "metadata": {},
   "outputs": [
    {
     "data": {
      "text/plain": [
       "1.0"
      ]
     },
     "execution_count": 138,
     "metadata": {},
     "output_type": "execute_result"
    }
   ],
   "source": [
    "function f(x)\n",
    "    @assert x > 0.0\n",
    "    sqrt(x)\n",
    "end\n",
    "\n",
    "f(1.0)"
   ]
  },
  {
   "cell_type": "code",
   "execution_count": 139,
   "id": "d15d3c94-55ff-40d9-a0cd-82d887c1291e",
   "metadata": {},
   "outputs": [
    {
     "name": "stdout",
     "output_type": "stream",
     "text": [
      "No y is given with 1.0\n"
     ]
    }
   ],
   "source": [
    "function f(x; y = nothing)\n",
    "    if isnothing(y)\n",
    "        println(\"No y is given with $x\")\n",
    "    else\n",
    "        println(\"y = $y with $x\")\n",
    "    end\n",
    "end\n",
    "\n",
    "f(1.0)\n",
    "    "
   ]
  },
  {
   "cell_type": "code",
   "execution_count": 140,
   "id": "34bc53eb-c0e9-453f-85b6-134768dfc759",
   "metadata": {},
   "outputs": [
    {
     "name": "stdout",
     "output_type": "stream",
     "text": [
      "y = 2.0 with 1.0\n"
     ]
    }
   ],
   "source": [
    "f(1.0, y = 2.0)"
   ]
  },
  {
   "cell_type": "code",
   "execution_count": 141,
   "id": "0a9a897a-0948-4ff4-adcb-7fb470c74070",
   "metadata": {},
   "outputs": [
    {
     "data": {
      "text/plain": [
       "0.1"
      ]
     },
     "execution_count": 141,
     "metadata": {},
     "output_type": "execute_result"
    }
   ],
   "source": [
    "function f(x)\n",
    "    if x > 0.0\n",
    "        return x\n",
    "    else\n",
    "        return NaN\n",
    "    end\n",
    "end\n",
    "\n",
    "f(0.1)"
   ]
  },
  {
   "cell_type": "code",
   "execution_count": 142,
   "id": "61f1bcf1-fe05-405f-a4df-73da187a5804",
   "metadata": {},
   "outputs": [
    {
     "data": {
      "text/plain": [
       "NaN"
      ]
     },
     "execution_count": 142,
     "metadata": {},
     "output_type": "execute_result"
    }
   ],
   "source": [
    "f(-0.1)"
   ]
  },
  {
   "cell_type": "code",
   "execution_count": 143,
   "id": "5d429628-28bd-4a48-a442-3f60623883e8",
   "metadata": {},
   "outputs": [
    {
     "data": {
      "text/plain": [
       "Float64"
      ]
     },
     "execution_count": 143,
     "metadata": {},
     "output_type": "execute_result"
    }
   ],
   "source": [
    "typeof(f(0.2))"
   ]
  },
  {
   "cell_type": "code",
   "execution_count": 144,
   "id": "83b70c6e-8f18-4a9b-91e5-99b68aa3cc6f",
   "metadata": {},
   "outputs": [
    {
     "data": {
      "text/plain": [
       "false"
      ]
     },
     "execution_count": 144,
     "metadata": {},
     "output_type": "execute_result"
    }
   ],
   "source": [
    "f(-0.1)==NaN "
   ]
  },
  {
   "cell_type": "code",
   "execution_count": 145,
   "id": "d9074858-795f-4954-b675-d6aba3c477a0",
   "metadata": {},
   "outputs": [
    {
     "data": {
      "text/plain": [
       "DomainError(-1.0, \"sqrt was called with a negative real argument but will only return a complex result if called with a complex argument. Try sqrt(Complex(x)).\")"
      ]
     },
     "execution_count": 145,
     "metadata": {},
     "output_type": "execute_result"
    }
   ],
   "source": [
    "try\n",
    "    sqrt(-1)\n",
    "catch err\n",
    "    err\n",
    "end"
   ]
  },
  {
   "cell_type": "code",
   "execution_count": 146,
   "id": "93770267-08c8-4d56-8b04-1ce4eb893917",
   "metadata": {},
   "outputs": [
    {
     "data": {
      "text/plain": [
       "InexactError(:Int64, Int64, 3.14)"
      ]
     },
     "execution_count": 146,
     "metadata": {},
     "output_type": "execute_result"
    }
   ],
   "source": [
    "try \n",
    "    convert(Int64, 3.14)\n",
    "catch err\n",
    "    err\n",
    "end\n"
   ]
  },
  {
   "cell_type": "code",
   "execution_count": 147,
   "id": "fad8234d-d49a-408f-a913-ac244d2d280c",
   "metadata": {},
   "outputs": [
    {
     "data": {
      "text/plain": [
       "1.0"
      ]
     },
     "execution_count": 147,
     "metadata": {},
     "output_type": "execute_result"
    }
   ],
   "source": [
    "function f(x)\n",
    "    try \n",
    "        sqrt(x)\n",
    "    catch err\n",
    "        sqrt(complex(x,0))\n",
    "    end\n",
    "end\n",
    "\n",
    "f(1.0)"
   ]
  },
  {
   "cell_type": "code",
   "execution_count": 148,
   "id": "c9ed5aa7-48ef-4857-901a-235a8ef908d0",
   "metadata": {},
   "outputs": [
    {
     "data": {
      "text/plain": [
       "0.0 + 1.0im"
      ]
     },
     "execution_count": 148,
     "metadata": {},
     "output_type": "execute_result"
    }
   ],
   "source": [
    "f(-1)"
   ]
  },
  {
   "cell_type": "code",
   "execution_count": 149,
   "id": "1331f429-28ce-4972-9bef-97e1aa6a8e4a",
   "metadata": {},
   "outputs": [
    {
     "data": {
      "text/plain": [
       "6-element Vector{Union{Missing, Float64}}:\n",
       " 1.0\n",
       "  missing\n",
       " 2.0\n",
       "  missing\n",
       "  missing\n",
       " 5.0"
      ]
     },
     "execution_count": 149,
     "metadata": {},
     "output_type": "execute_result"
    }
   ],
   "source": [
    "x = [1.0, missing, 2.0, missing, missing, 5.0]"
   ]
  },
  {
   "cell_type": "code",
   "execution_count": 150,
   "id": "ace28086-4e29-4058-bf17-43d95b898873",
   "metadata": {},
   "outputs": [
    {
     "data": {
      "text/plain": [
       "f (generic function with 1 method)"
      ]
     },
     "execution_count": 150,
     "metadata": {},
     "output_type": "execute_result"
    }
   ],
   "source": [
    "f(x) = x^2"
   ]
  },
  {
   "cell_type": "code",
   "execution_count": 151,
   "id": "6f52c27f-cfcd-4b71-9b19-22e4162e0f38",
   "metadata": {},
   "outputs": [
    {
     "name": "stdout",
     "output_type": "stream",
     "text": [
      "missing + 1 = missing\n"
     ]
    },
    {
     "data": {
      "text/plain": [
       "missing"
      ]
     },
     "execution_count": 151,
     "metadata": {},
     "output_type": "execute_result"
    }
   ],
   "source": [
    "@show missing + 1"
   ]
  },
  {
   "cell_type": "code",
   "execution_count": 152,
   "id": "958fa2ee-1e0a-4aa2-ac47-3cefe57da4f1",
   "metadata": {},
   "outputs": [
    {
     "name": "stdout",
     "output_type": "stream",
     "text": [
      "missing * 2 = missing\n"
     ]
    },
    {
     "data": {
      "text/plain": [
       "missing"
      ]
     },
     "execution_count": 152,
     "metadata": {},
     "output_type": "execute_result"
    }
   ],
   "source": [
    "@show missing*2"
   ]
  },
  {
   "cell_type": "code",
   "execution_count": 153,
   "id": "d6b5f253-957c-4c2f-8cc9-adb2f3fef399",
   "metadata": {},
   "outputs": [
    {
     "name": "stdout",
     "output_type": "stream",
     "text": [
      "f(missing) = missing\n"
     ]
    },
    {
     "data": {
      "text/plain": [
       "missing"
      ]
     },
     "execution_count": 153,
     "metadata": {},
     "output_type": "execute_result"
    }
   ],
   "source": [
    "@show f(missing)"
   ]
  },
  {
   "cell_type": "code",
   "execution_count": 154,
   "id": "0522ddc2-8ccd-40a4-b92b-419708254dca",
   "metadata": {},
   "outputs": [
    {
     "name": "stdout",
     "output_type": "stream",
     "text": [
      "f(1) = 1\n"
     ]
    },
    {
     "data": {
      "text/plain": [
       "1"
      ]
     },
     "execution_count": 154,
     "metadata": {},
     "output_type": "execute_result"
    }
   ],
   "source": [
    "@show f(1)"
   ]
  },
  {
   "cell_type": "code",
   "execution_count": 155,
   "id": "b609dc33-d4ed-4430-9f95-4ce9b78dbe73",
   "metadata": {},
   "outputs": [
    {
     "data": {
      "text/plain": [
       "missing"
      ]
     },
     "execution_count": 155,
     "metadata": {},
     "output_type": "execute_result"
    },
    {
     "name": "stdout",
     "output_type": "stream",
     "text": [
      "mean(x) = missing\n"
     ]
    }
   ],
   "source": [
    "@show mean(x)"
   ]
  },
  {
   "cell_type": "code",
   "execution_count": 156,
   "id": "a62d6d0c-3d50-4f04-9252-302d24ad258d",
   "metadata": {},
   "outputs": [
    {
     "data": {
      "text/plain": [
       "missing"
      ]
     },
     "execution_count": 156,
     "metadata": {},
     "output_type": "execute_result"
    }
   ],
   "source": [
    "x = missing"
   ]
  },
  {
   "cell_type": "code",
   "execution_count": 157,
   "id": "56259f24-f9fa-4682-859a-e01c70c68af5",
   "metadata": {},
   "outputs": [
    {
     "data": {
      "text/plain": [
       "missing"
      ]
     },
     "execution_count": 157,
     "metadata": {},
     "output_type": "execute_result"
    }
   ],
   "source": [
    "x == missing"
   ]
  },
  {
   "cell_type": "code",
   "execution_count": 158,
   "id": "97f3ebac-9fbf-4dd3-bd82-77374cccab3b",
   "metadata": {},
   "outputs": [
    {
     "data": {
      "text/plain": [
       "true"
      ]
     },
     "execution_count": 158,
     "metadata": {},
     "output_type": "execute_result"
    }
   ],
   "source": [
    "x === missing"
   ]
  },
  {
   "cell_type": "code",
   "execution_count": 159,
   "id": "6c3b910c-f31a-4d56-8619-88ca32371fe7",
   "metadata": {},
   "outputs": [
    {
     "data": {
      "text/plain": [
       "true"
      ]
     },
     "execution_count": 159,
     "metadata": {},
     "output_type": "execute_result"
    }
   ],
   "source": [
    "ismissing(missing)"
   ]
  },
  {
   "cell_type": "code",
   "execution_count": 160,
   "id": "5424348e-c5e8-4333-837d-536ac0e82335",
   "metadata": {},
   "outputs": [
    {
     "data": {
      "text/plain": [
       "5-element Vector{Union{Missing, Float64}}:\n",
       " 1.0\n",
       "  missing\n",
       " 3.0\n",
       " 4.0\n",
       "  missing"
      ]
     },
     "execution_count": 160,
     "metadata": {},
     "output_type": "execute_result"
    }
   ],
   "source": [
    "x = [1.0, missing, 3.0, 4.0, missing]"
   ]
  },
  {
   "cell_type": "code",
   "execution_count": 161,
   "id": "3e7c74cb-821f-4162-a082-0e90eca77db2",
   "metadata": {},
   "outputs": [
    {
     "data": {
      "text/plain": [
       "5-element Vector{Float64}:\n",
       " 1.0\n",
       " 0.0\n",
       " 3.0\n",
       " 4.0\n",
       " 0.0"
      ]
     },
     "execution_count": 161,
     "metadata": {},
     "output_type": "execute_result"
    }
   ],
   "source": [
    "coalesce.(x, 0.0)"
   ]
  },
  {
   "cell_type": "code",
   "execution_count": 162,
   "id": "4d552300-1039-4561-b7cf-08940d589407",
   "metadata": {},
   "outputs": [
    {
     "name": "stdout",
     "output_type": "stream",
     "text": [
      "Convergence occured after 50 iterations\n",
      "Asymptotic variance matrix S:\n",
      "[0.6712283007263011 0.6334755235498987; 0.6334755235498988 0.858873651268526]\n"
     ]
    }
   ],
   "source": [
    "## Exercise 1\n",
    "A = [0.8 -0.2; -0.1 0.7]\n",
    "Σ = [0.5 0.4; 0.4 0.6]\n",
    "\n",
    "## Initialise your covariance matrix, S_0\n",
    "S_0 = zeros(2,2)\n",
    "\n",
    "## Define tolerance for convergence\n",
    "tol = 1e-6\n",
    "\n",
    "## Define Q matrix\n",
    "Q = Σ * Σ'\n",
    "\n",
    "## Maximum number of iterations\n",
    "max_iters = 1000\n",
    "\n",
    "## Iterative process to find unconditional variance of stochastic difference equation\n",
    "function find_asymptotic_variance(A, Σ, S_0, tol, max_iters)\n",
    "    S_previous = S_0\n",
    "    for i in 1:max_iters\n",
    "    S_next = A * S_previous * A' + Σ * Σ'\n",
    "    if norm(S_next - S_previous) < tol\n",
    "        println(\"Convergence occured after $i iterations\")\n",
    "        return S_next\n",
    "    end\n",
    "    S_previous = S_next\n",
    "    end\n",
    "println(\"Reached max number of iterations without convergence ($max_iters)\")\n",
    "return S_previous\n",
    "end\n",
    "\n",
    "# Call the function to find the asymptotic variance matrix S\n",
    "S = find_asymptotic_variance(A, Σ, S_0, tol, max_iters)\n",
    "\n",
    "# Print the result\n",
    "println(\"Asymptotic variance matrix S:\")\n",
    "println(S)"
   ]
  },
  {
   "cell_type": "code",
   "execution_count": 163,
   "id": "ebab989d-7716-4dfe-9275-90355a33110e",
   "metadata": {},
   "outputs": [],
   "source": [
    "using QuantEcon"
   ]
  },
  {
   "cell_type": "code",
   "execution_count": 164,
   "id": "1bd45c08-90e7-4723-ba6a-d1fa5d79a430",
   "metadata": {},
   "outputs": [
    {
     "data": {
      "text/plain": [
       "2×2 Matrix{Float64}:\n",
       " 0.671231  0.633474\n",
       " 0.633474  0.858874"
      ]
     },
     "execution_count": 164,
     "metadata": {},
     "output_type": "execute_result"
    }
   ],
   "source": [
    "solve_discrete_lyapunov(A, Σ * Σ')"
   ]
  },
  {
   "cell_type": "code",
   "execution_count": 165,
   "id": "7f31a505-b605-475b-b75a-016758632f6f",
   "metadata": {},
   "outputs": [
    {
     "data": {
      "text/plain": [
       "3.883245447999784e-6"
      ]
     },
     "execution_count": 165,
     "metadata": {},
     "output_type": "execute_result"
    }
   ],
   "source": [
    "norm(S - solve_discrete_lyapunov(A, Σ * Σ'))"
   ]
  },
  {
   "cell_type": "code",
   "execution_count": 166,
   "id": "4ce5df62-76d2-467a-853d-34bf947f45e1",
   "metadata": {},
   "outputs": [],
   "source": [
    "## Exercise 2\n",
    "using Distributions"
   ]
  },
  {
   "cell_type": "code",
   "execution_count": 167,
   "id": "599ff9b5-95a9-48a0-aabf-122c5986a31f",
   "metadata": {},
   "outputs": [],
   "source": [
    "## Parameters\n",
    "T = 150\n",
    "μ = 0\n",
    "std_dev = 1\n",
    "dist = Normal(μ, std_dev)\n",
    "θ = [0.8; 0.9; 0.98]\n",
    "n = size(θ,1)\n",
    "γ = ones(n)\n",
    "σ = 1\n",
    "y = zeros(n, T+1)\n",
    "\n",
    "## Initialise\n",
    "y_init = γ + σ * Vector(rand(dist, 3))\n",
    "\n",
    "y[:,1] = y_init\n",
    "\n",
    "for t in 1:T\n",
    "    y[:,t+1] = γ + θ .* y[:,t] + σ\t* Vector(rand(dist, 3))\n",
    "end\n"
   ]
  },
  {
   "cell_type": "code",
   "execution_count": 168,
   "id": "b11db2d2-a31f-4ea6-84eb-c91764262343",
   "metadata": {},
   "outputs": [
    {
     "data": {
      "image/png": "[encoded data removed]",
      "image/svg+xml": [
       "<?xml version=\"1.0\" encoding=\"utf-8\"?>\n",
       "<svg xmlns=\"http://www.w3.org/2000/svg\" xmlns:xlink=\"http://www.w3.org/1999/xlink\" width=\"600\" height=\"400\" viewBox=\"0 0 2400 1600\">\n",
       "<defs>\n",
       "  <clipPath id=\"clip080\">\n",
       "    <rect x=\"0\" y=\"0\" width=\"2400\" height=\"1600\"/>\n",
       "  </clipPath>\n",
       "</defs>\n",
       "<path clip-path=\"url(#clip080)\" d=\"M0 1600 L2400 1600 L2400 0 L0 0  Z\" fill=\"#ffffff\" fill-rule=\"evenodd\" fill-opacity=\"1\"/>\n",
       "<defs>\n",
       "  <clipPath id=\"clip081\">\n",
       "    <rect x=\"480\" y=\"0\" width=\"1681\" height=\"1600\"/>\n",
       "  </clipPath>\n",
       "</defs>\n",
       "<path clip-path=\"url(#clip080)\" d=\"M141.853 1486.45 L2352.76 1486.45 L2352.76 47.2441 L141.853 47.2441  Z\" fill=\"#ffffff\" fill-rule=\"evenodd\" fill-opacity=\"1\"/>\n",
       "<defs>\n",
       "  <clipPath id=\"clip082\">\n",
       "    <rect x=\"141\" y=\"47\" width=\"2212\" height=\"1440\"/>\n",
       "  </clipPath>\n",
       "</defs>\n",
       "<polyline clip-path=\"url(#clip082)\" style=\"stroke:#000000; stroke-linecap:round; stroke-linejoin:round; stroke-width:2; stroke-opacity:0.1; fill:none\" points=\"190.521,1486.45 190.521,47.2441 \"/>\n",
       "<polyline clip-path=\"url(#clip082)\" style=\"stroke:#000000; stroke-linecap:round; stroke-linejoin:round; stroke-width:2; stroke-opacity:0.1; fill:none\" points=\"885.773,1486.45 885.773,47.2441 \"/>\n",
       "<polyline clip-path=\"url(#clip082)\" style=\"stroke:#000000; stroke-linecap:round; stroke-linejoin:round; stroke-width:2; stroke-opacity:0.1; fill:none\" points=\"1581.03,1486.45 1581.03,47.2441 \"/>\n",
       "<polyline clip-path=\"url(#clip082)\" style=\"stroke:#000000; stroke-linecap:round; stroke-linejoin:round; stroke-width:2; stroke-opacity:0.1; fill:none\" points=\"2276.28,1486.45 2276.28,47.2441 \"/>\n",
       "<polyline clip-path=\"url(#clip080)\" style=\"stroke:#000000; stroke-linecap:round; stroke-linejoin:round; stroke-width:4; stroke-opacity:1; fill:none\" points=\"141.853,1486.45 2352.76,1486.45 \"/>\n",
       "<polyline clip-path=\"url(#clip080)\" style=\"stroke:#000000; stroke-linecap:round; stroke-linejoin:round; stroke-width:4; stroke-opacity:1; fill:none\" points=\"190.521,1486.45 190.521,1467.55 \"/>\n",
       "<polyline clip-path=\"url(#clip080)\" style=\"stroke:#000000; stroke-linecap:round; stroke-linejoin:round; stroke-width:4; stroke-opacity:1; fill:none\" points=\"885.773,1486.45 885.773,1467.55 \"/>\n",
       "<polyline clip-path=\"url(#clip080)\" style=\"stroke:#000000; stroke-linecap:round; stroke-linejoin:round; stroke-width:4; stroke-opacity:1; fill:none\" points=\"1581.03,1486.45 1581.03,1467.55 \"/>\n",
       "<polyline clip-path=\"url(#clip080)\" style=\"stroke:#000000; stroke-linecap:round; stroke-linejoin:round; stroke-width:4; stroke-opacity:1; fill:none\" points=\"2276.28,1486.45 2276.28,1467.55 \"/>\n",
       "<path clip-path=\"url(#clip080)\" d=\"M190.521 1517.37 Q186.91 1517.37 185.081 1520.93 Q183.275 1524.47 183.275 1531.6 Q183.275 1538.71 185.081 1542.27 Q186.91 1545.82 190.521 1545.82 Q194.155 1545.82 195.96 1542.27 Q197.789 1538.71 197.789 1531.6 Q197.789 1524.47 195.96 1520.93 Q194.155 1517.37 190.521 1517.37 M190.521 1513.66 Q196.331 1513.66 199.386 1518.27 Q202.465 1522.85 202.465 1531.6 Q202.465 1540.33 199.386 1544.94 Q196.331 1549.52 190.521 1549.52 Q184.71 1549.52 181.632 1544.94 Q178.576 1540.33 178.576 1531.6 Q178.576 1522.85 181.632 1518.27 Q184.71 1513.66 190.521 1513.66 Z\" fill=\"#000000\" fill-rule=\"nonzero\" fill-opacity=\"1\" /><path clip-path=\"url(#clip080)\" d=\"M860.472 1514.29 L878.829 1514.29 L878.829 1518.22 L864.755 1518.22 L864.755 1526.7 Q865.773 1526.35 866.792 1526.19 Q867.81 1526 868.829 1526 Q874.616 1526 877.995 1529.17 Q881.375 1532.34 881.375 1537.76 Q881.375 1543.34 877.903 1546.44 Q874.431 1549.52 868.111 1549.52 Q865.935 1549.52 863.667 1549.15 Q861.421 1548.78 859.014 1548.04 L859.014 1543.34 Q861.097 1544.47 863.32 1545.03 Q865.542 1545.58 868.019 1545.58 Q872.023 1545.58 874.361 1543.48 Q876.699 1541.37 876.699 1537.76 Q876.699 1534.15 874.361 1532.04 Q872.023 1529.94 868.019 1529.94 Q866.144 1529.94 864.269 1530.35 Q862.417 1530.77 860.472 1531.65 L860.472 1514.29 Z\" fill=\"#000000\" fill-rule=\"nonzero\" fill-opacity=\"1\" /><path clip-path=\"url(#clip080)\" d=\"M900.588 1517.37 Q896.977 1517.37 895.148 1520.93 Q893.343 1524.47 893.343 1531.6 Q893.343 1538.71 895.148 1542.27 Q896.977 1545.82 900.588 1545.82 Q904.222 1545.82 906.028 1542.27 Q907.856 1538.71 907.856 1531.6 Q907.856 1524.47 906.028 1520.93 Q904.222 1517.37 900.588 1517.37 M900.588 1513.66 Q906.398 1513.66 909.454 1518.27 Q912.532 1522.85 912.532 1531.6 Q912.532 1540.33 909.454 1544.94 Q906.398 1549.52 900.588 1549.52 Q894.778 1549.52 891.699 1544.94 Q888.643 1540.33 888.643 1531.6 Q888.643 1522.85 891.699 1518.27 Q894.778 1513.66 900.588 1513.66 Z\" fill=\"#000000\" fill-rule=\"nonzero\" fill-opacity=\"1\" /><path clip-path=\"url(#clip080)\" d=\"M1540.63 1544.91 L1548.27 1544.91 L1548.27 1518.55 L1539.96 1520.21 L1539.96 1515.95 L1548.22 1514.29 L1552.9 1514.29 L1552.9 1544.91 L1560.54 1544.91 L1560.54 1548.85 L1540.63 1548.85 L1540.63 1544.91 Z\" fill=\"#000000\" fill-rule=\"nonzero\" fill-opacity=\"1\" /><path clip-path=\"url(#clip080)\" d=\"M1579.98 1517.37 Q1576.37 1517.37 1574.54 1520.93 Q1572.74 1524.47 1572.74 1531.6 Q1572.74 1538.71 1574.54 1542.27 Q1576.37 1545.82 1579.98 1545.82 Q1583.62 1545.82 1585.42 1542.27 Q1587.25 1538.71 1587.25 1531.6 Q1587.25 1524.47 1585.42 1520.93 Q1583.62 1517.37 1579.98 1517.37 M1579.98 1513.66 Q1585.79 1513.66 1588.85 1518.27 Q1591.93 1522.85 1591.93 1531.6 Q1591.93 1540.33 1588.85 1544.94 Q1585.79 1549.52 1579.98 1549.52 Q1574.17 1549.52 1571.1 1544.94 Q1568.04 1540.33 1568.04 1531.6 Q1568.04 1522.85 1571.1 1518.27 Q1574.17 1513.66 1579.98 1513.66 Z\" fill=\"#000000\" fill-rule=\"nonzero\" fill-opacity=\"1\" /><path clip-path=\"url(#clip080)\" d=\"M1610.15 1517.37 Q1606.53 1517.37 1604.71 1520.93 Q1602.9 1524.47 1602.9 1531.6 Q1602.9 1538.71 1604.71 1542.27 Q1606.53 1545.82 1610.15 1545.82 Q1613.78 1545.82 1615.59 1542.27 Q1617.41 1538.71 1617.41 1531.6 Q1617.41 1524.47 1615.59 1520.93 Q1613.78 1517.37 1610.15 1517.37 M1610.15 1513.66 Q1615.96 1513.66 1619.01 1518.27 Q1622.09 1522.85 1622.09 1531.6 Q1622.09 1540.33 1619.01 1544.94 Q1615.96 1549.52 1610.15 1549.52 Q1604.34 1549.52 1601.26 1544.94 Q1598.2 1540.33 1598.2 1531.6 Q1598.2 1522.85 1601.26 1518.27 Q1604.34 1513.66 1610.15 1513.66 Z\" fill=\"#000000\" fill-rule=\"nonzero\" fill-opacity=\"1\" /><path clip-path=\"url(#clip080)\" d=\"M2235.88 1544.91 L2243.52 1544.91 L2243.52 1518.55 L2235.21 1520.21 L2235.21 1515.95 L2243.48 1514.29 L2248.15 1514.29 L2248.15 1544.91 L2255.79 1544.91 L2255.79 1548.85 L2235.88 1548.85 L2235.88 1544.91 Z\" fill=\"#000000\" fill-rule=\"nonzero\" fill-opacity=\"1\" /><path clip-path=\"url(#clip080)\" d=\"M2265.28 1514.29 L2283.64 1514.29 L2283.64 1518.22 L2269.57 1518.22 L2269.57 1526.7 Q2270.58 1526.35 2271.6 1526.19 Q2272.62 1526 2273.64 1526 Q2279.43 1526 2282.81 1529.17 Q2286.19 1532.34 2286.19 1537.76 Q2286.19 1543.34 2282.71 1546.44 Q2279.24 1549.52 2272.92 1549.52 Q2270.75 1549.52 2268.48 1549.15 Q2266.23 1548.78 2263.82 1548.04 L2263.82 1543.34 Q2265.91 1544.47 2268.13 1545.03 Q2270.35 1545.58 2272.83 1545.58 Q2276.83 1545.58 2279.17 1543.48 Q2281.51 1541.37 2281.51 1537.76 Q2281.51 1534.15 2279.17 1532.04 Q2276.83 1529.94 2272.83 1529.94 Q2270.95 1529.94 2269.08 1530.35 Q2267.23 1530.77 2265.28 1531.65 L2265.28 1514.29 Z\" fill=\"#000000\" fill-rule=\"nonzero\" fill-opacity=\"1\" /><path clip-path=\"url(#clip080)\" d=\"M2305.4 1517.37 Q2301.79 1517.37 2299.96 1520.93 Q2298.15 1524.47 2298.15 1531.6 Q2298.15 1538.71 2299.96 1542.27 Q2301.79 1545.82 2305.4 1545.82 Q2309.03 1545.82 2310.84 1542.27 Q2312.67 1538.71 2312.67 1531.6 Q2312.67 1524.47 2310.84 1520.93 Q2309.03 1517.37 2305.4 1517.37 M2305.4 1513.66 Q2311.21 1513.66 2314.26 1518.27 Q2317.34 1522.85 2317.34 1531.6 Q2317.34 1540.33 2314.26 1544.94 Q2311.21 1549.52 2305.4 1549.52 Q2299.59 1549.52 2296.51 1544.94 Q2293.45 1540.33 2293.45 1531.6 Q2293.45 1522.85 2296.51 1518.27 Q2299.59 1513.66 2305.4 1513.66 Z\" fill=\"#000000\" fill-rule=\"nonzero\" fill-opacity=\"1\" /><polyline clip-path=\"url(#clip082)\" style=\"stroke:#000000; stroke-linecap:round; stroke-linejoin:round; stroke-width:2; stroke-opacity:0.1; fill:none\" points=\"141.853,1401.32 2352.76,1401.32 \"/>\n",
       "<polyline clip-path=\"url(#clip082)\" style=\"stroke:#000000; stroke-linecap:round; stroke-linejoin:round; stroke-width:2; stroke-opacity:0.1; fill:none\" points=\"141.853,1098.91 2352.76,1098.91 \"/>\n",
       "<polyline clip-path=\"url(#clip082)\" style=\"stroke:#000000; stroke-linecap:round; stroke-linejoin:round; stroke-width:2; stroke-opacity:0.1; fill:none\" points=\"141.853,796.507 2352.76,796.507 \"/>\n",
       "<polyline clip-path=\"url(#clip082)\" style=\"stroke:#000000; stroke-linecap:round; stroke-linejoin:round; stroke-width:2; stroke-opacity:0.1; fill:none\" points=\"141.853,494.101 2352.76,494.101 \"/>\n",
       "<polyline clip-path=\"url(#clip082)\" style=\"stroke:#000000; stroke-linecap:round; stroke-linejoin:round; stroke-width:2; stroke-opacity:0.1; fill:none\" points=\"141.853,191.696 2352.76,191.696 \"/>\n",
       "<polyline clip-path=\"url(#clip080)\" style=\"stroke:#000000; stroke-linecap:round; stroke-linejoin:round; stroke-width:4; stroke-opacity:1; fill:none\" points=\"141.853,1486.45 141.853,47.2441 \"/>\n",
       "<polyline clip-path=\"url(#clip080)\" style=\"stroke:#000000; stroke-linecap:round; stroke-linejoin:round; stroke-width:4; stroke-opacity:1; fill:none\" points=\"141.853,1401.32 160.751,1401.32 \"/>\n",
       "<polyline clip-path=\"url(#clip080)\" style=\"stroke:#000000; stroke-linecap:round; stroke-linejoin:round; stroke-width:4; stroke-opacity:1; fill:none\" points=\"141.853,1098.91 160.751,1098.91 \"/>\n",
       "<polyline clip-path=\"url(#clip080)\" style=\"stroke:#000000; stroke-linecap:round; stroke-linejoin:round; stroke-width:4; stroke-opacity:1; fill:none\" points=\"141.853,796.507 160.751,796.507 \"/>\n",
       "<polyline clip-path=\"url(#clip080)\" style=\"stroke:#000000; stroke-linecap:round; stroke-linejoin:round; stroke-width:4; stroke-opacity:1; fill:none\" points=\"141.853,494.101 160.751,494.101 \"/>\n",
       "<polyline clip-path=\"url(#clip080)\" style=\"stroke:#000000; stroke-linecap:round; stroke-linejoin:round; stroke-width:4; stroke-opacity:1; fill:none\" points=\"141.853,191.696 160.751,191.696 \"/>\n",
       "<path clip-path=\"url(#clip080)\" d=\"M93.9086 1387.12 Q90.2975 1387.12 88.4688 1390.68 Q86.6632 1394.22 86.6632 1401.35 Q86.6632 1408.46 88.4688 1412.02 Q90.2975 1415.57 93.9086 1415.57 Q97.5428 1415.57 99.3483 1412.02 Q101.177 1408.46 101.177 1401.35 Q101.177 1394.22 99.3483 1390.68 Q97.5428 1387.12 93.9086 1387.12 M93.9086 1383.41 Q99.7187 1383.41 102.774 1388.02 Q105.853 1392.6 105.853 1401.35 Q105.853 1410.08 102.774 1414.69 Q99.7187 1419.27 93.9086 1419.27 Q88.0984 1419.27 85.0197 1414.69 Q81.9642 1410.08 81.9642 1401.35 Q81.9642 1392.6 85.0197 1388.02 Q88.0984 1383.41 93.9086 1383.41 Z\" fill=\"#000000\" fill-rule=\"nonzero\" fill-opacity=\"1\" /><path clip-path=\"url(#clip080)\" d=\"M54.5569 1112.26 L62.1958 1112.26 L62.1958 1085.89 L53.8856 1087.56 L53.8856 1083.3 L62.1495 1081.63 L66.8254 1081.63 L66.8254 1112.26 L74.4642 1112.26 L74.4642 1116.19 L54.5569 1116.19 L54.5569 1112.26 Z\" fill=\"#000000\" fill-rule=\"nonzero\" fill-opacity=\"1\" /><path clip-path=\"url(#clip080)\" d=\"M93.9086 1084.71 Q90.2975 1084.71 88.4688 1088.28 Q86.6632 1091.82 86.6632 1098.95 Q86.6632 1106.05 88.4688 1109.62 Q90.2975 1113.16 93.9086 1113.16 Q97.5428 1113.16 99.3483 1109.62 Q101.177 1106.05 101.177 1098.95 Q101.177 1091.82 99.3483 1088.28 Q97.5428 1084.71 93.9086 1084.71 M93.9086 1081.01 Q99.7187 1081.01 102.774 1085.61 Q105.853 1090.2 105.853 1098.95 Q105.853 1107.67 102.774 1112.28 Q99.7187 1116.86 93.9086 1116.86 Q88.0984 1116.86 85.0197 1112.28 Q81.9642 1107.67 81.9642 1098.95 Q81.9642 1090.2 85.0197 1085.61 Q88.0984 1081.01 93.9086 1081.01 Z\" fill=\"#000000\" fill-rule=\"nonzero\" fill-opacity=\"1\" /><path clip-path=\"url(#clip080)\" d=\"M57.7745 809.851 L74.0939 809.851 L74.0939 813.787 L52.1495 813.787 L52.1495 809.851 Q54.8115 807.097 59.3949 802.467 Q64.0013 797.814 65.1819 796.472 Q67.4272 793.949 68.3068 792.213 Q69.2096 790.453 69.2096 788.764 Q69.2096 786.009 67.2652 784.273 Q65.3439 782.537 62.2421 782.537 Q60.043 782.537 57.5893 783.301 Q55.1588 784.065 52.381 785.615 L52.381 780.893 Q55.2051 779.759 57.6588 779.18 Q60.1124 778.602 62.1495 778.602 Q67.5198 778.602 70.7142 781.287 Q73.9087 783.972 73.9087 788.463 Q73.9087 790.592 73.0985 792.514 Q72.3115 794.412 70.205 797.004 Q69.6263 797.676 66.5245 800.893 Q63.4226 804.088 57.7745 809.851 Z\" fill=\"#000000\" fill-rule=\"nonzero\" fill-opacity=\"1\" /><path clip-path=\"url(#clip080)\" d=\"M93.9086 782.305 Q90.2975 782.305 88.4688 785.87 Q86.6632 789.412 86.6632 796.541 Q86.6632 803.648 88.4688 807.213 Q90.2975 810.754 93.9086 810.754 Q97.5428 810.754 99.3483 807.213 Q101.177 803.648 101.177 796.541 Q101.177 789.412 99.3483 785.87 Q97.5428 782.305 93.9086 782.305 M93.9086 778.602 Q99.7187 778.602 102.774 783.208 Q105.853 787.791 105.853 796.541 Q105.853 805.268 102.774 809.875 Q99.7187 814.458 93.9086 814.458 Q88.0984 814.458 85.0197 809.875 Q81.9642 805.268 81.9642 796.541 Q81.9642 787.791 85.0197 783.208 Q88.0984 778.602 93.9086 778.602 Z\" fill=\"#000000\" fill-rule=\"nonzero\" fill-opacity=\"1\" /><path clip-path=\"url(#clip080)\" d=\"M67.9133 492.747 Q71.2698 493.465 73.1448 495.733 Q75.0429 498.002 75.0429 501.335 Q75.0429 506.451 71.5244 509.252 Q68.0059 512.052 61.5245 512.052 Q59.3486 512.052 57.0338 511.613 Q54.7421 511.196 52.2884 510.339 L52.2884 505.826 Q54.2328 506.96 56.5477 507.539 Q58.8625 508.117 61.3856 508.117 Q65.7837 508.117 68.0754 506.381 Q70.3902 504.645 70.3902 501.335 Q70.3902 498.279 68.2374 496.566 Q66.1078 494.83 62.2884 494.83 L58.2606 494.83 L58.2606 490.988 L62.4735 490.988 Q65.9226 490.988 67.7513 489.622 Q69.58 488.233 69.58 485.641 Q69.58 482.979 67.6819 481.566 Q65.8069 480.131 62.2884 480.131 Q60.3671 480.131 58.168 480.548 Q55.969 480.965 53.3301 481.844 L53.3301 477.678 Q55.9921 476.937 58.3069 476.567 Q60.6449 476.196 62.705 476.196 Q68.0291 476.196 71.1309 478.627 Q74.2327 481.034 74.2327 485.154 Q74.2327 488.025 72.5892 490.016 Q70.9457 491.983 67.9133 492.747 Z\" fill=\"#000000\" fill-rule=\"nonzero\" fill-opacity=\"1\" /><path clip-path=\"url(#clip080)\" d=\"M93.9086 479.9 Q90.2975 479.9 88.4688 483.465 Q86.6632 487.006 86.6632 494.136 Q86.6632 501.242 88.4688 504.807 Q90.2975 508.349 93.9086 508.349 Q97.5428 508.349 99.3483 504.807 Q101.177 501.242 101.177 494.136 Q101.177 487.006 99.3483 483.465 Q97.5428 479.9 93.9086 479.9 M93.9086 476.196 Q99.7187 476.196 102.774 480.803 Q105.853 485.386 105.853 494.136 Q105.853 502.863 102.774 507.469 Q99.7187 512.052 93.9086 512.052 Q88.0984 512.052 85.0197 507.469 Q81.9642 502.863 81.9642 494.136 Q81.9642 485.386 85.0197 480.803 Q88.0984 476.196 93.9086 476.196 Z\" fill=\"#000000\" fill-rule=\"nonzero\" fill-opacity=\"1\" /><path clip-path=\"url(#clip080)\" d=\"M66.5939 178.49 L54.7884 196.939 L66.5939 196.939 L66.5939 178.49 M65.367 174.416 L71.2466 174.416 L71.2466 196.939 L76.1772 196.939 L76.1772 200.828 L71.2466 200.828 L71.2466 208.976 L66.5939 208.976 L66.5939 200.828 L50.9921 200.828 L50.9921 196.314 L65.367 174.416 Z\" fill=\"#000000\" fill-rule=\"nonzero\" fill-opacity=\"1\" /><path clip-path=\"url(#clip080)\" d=\"M93.9086 177.494 Q90.2975 177.494 88.4688 181.059 Q86.6632 184.601 86.6632 191.73 Q86.6632 198.837 88.4688 202.402 Q90.2975 205.943 93.9086 205.943 Q97.5428 205.943 99.3483 202.402 Q101.177 198.837 101.177 191.73 Q101.177 184.601 99.3483 181.059 Q97.5428 177.494 93.9086 177.494 M93.9086 173.791 Q99.7187 173.791 102.774 178.397 Q105.853 182.98 105.853 191.73 Q105.853 200.457 102.774 205.064 Q99.7187 209.647 93.9086 209.647 Q88.0984 209.647 85.0197 205.064 Q81.9642 200.457 81.9642 191.73 Q81.9642 182.98 85.0197 178.397 Q88.0984 173.791 93.9086 173.791 Z\" fill=\"#000000\" fill-rule=\"nonzero\" fill-opacity=\"1\" /><polyline clip-path=\"url(#clip082)\" style=\"stroke:#009af9; stroke-linecap:round; stroke-linejoin:round; stroke-width:4; stroke-opacity:1; fill:none\" points=\"204.426,1369.41 218.331,1314.61 232.236,1317.24 246.141,1242 260.046,1234.93 273.951,1265.74 287.856,1209.44 301.761,1149.51 315.666,1122.01 329.571,1193.22 343.476,1178.59 357.381,1167.51 371.286,1165.6 385.191,1178.07 399.096,1140.86 413.001,1170.67 426.906,1140.33 440.812,1174.06 454.717,1179.48 468.622,1221.16 482.527,1188.97 496.432,1222.28 510.337,1212.58 524.242,1206.6 538.147,1242.54 552.052,1263.36 565.957,1245.24 579.862,1281.54 593.767,1236.53 607.672,1209.16 621.577,1166.56 635.482,1195.26 649.387,1235.91 663.292,1219.78 677.197,1187.83 691.102,1146.7 705.007,1165.37 718.913,1199.63 732.818,1309.13 746.723,1315.44 760.628,1334.38 774.533,1308.94 788.438,1259.73 802.343,1248.39 816.248,1206.01 830.153,1273.24 844.058,1347.33 857.963,1326.78 871.868,1329.59 885.773,1361.7 899.678,1362.91 913.583,1362.3 927.488,1320.79 941.393,1298.12 955.298,1297.95 969.203,1339.49 983.108,1301.02 997.014,1254.3 1010.92,1274.81 1024.82,1248.96 1038.73,1224.86 1052.63,1280.84 1066.54,1234.22 1080.44,1221.2 1094.35,1235.76 1108.25,1251.56 1122.16,1237.31 1136.06,1204.26 1149.97,1199.78 1163.87,1269.15 1177.78,1262.79 1191.68,1235.36 1205.59,1206.31 1219.49,1300.26 1233.4,1285.62 1247.3,1269.7 1261.21,1223.96 1275.11,1207.71 1289.02,1201.09 1302.92,1171.86 1316.83,1213.05 1330.73,1158.67 1344.64,1208.65 1358.54,1192.54 1372.45,1231.94 1386.35,1284.75 1400.26,1274.77 1414.17,1250.17 1428.07,1213.71 1441.98,1229.99 1455.88,1195.99 1469.79,1196.64 1483.69,1192.55 1497.6,1181.31 1511.5,1212.59 1525.41,1229.28 1539.31,1263.43 1553.22,1234.41 1567.12,1196.44 1581.03,1251.47 1594.93,1258.45 1608.84,1302.55 1622.74,1300.6 1636.65,1257.03 1650.55,1237.64 1664.46,1229.11 1678.36,1239.61 1692.27,1292.54 1706.17,1308.75 1720.08,1338.77 1733.98,1366.86 1747.89,1279.55 1761.79,1296.13 1775.7,1292.15 1789.6,1289.25 1803.51,1268.85 1817.41,1336.92 1831.32,1342.66 1845.22,1321.41 1859.13,1305.88 1873.03,1354.62 1886.94,1305.04 1900.84,1318.56 1914.75,1300.05 1928.65,1328.23 1942.56,1325.16 1956.46,1297.33 1970.37,1252.98 1984.27,1266.68 1998.18,1282.84 2012.08,1231.45 2025.99,1194.51 2039.89,1256.7 2053.8,1325.9 2067.7,1338.65 2081.61,1321.62 2095.51,1271.87 2109.42,1309.41 2123.32,1313.09 2137.23,1264.4 2151.13,1222.97 2165.04,1308.07 2178.94,1336.81 2192.85,1310.35 2206.75,1306.14 2220.66,1273.55 2234.56,1270.2 2248.47,1222.82 2262.37,1246.76 2276.28,1185.19 2290.18,1182.35 \"/>\n",
       "<polyline clip-path=\"url(#clip082)\" style=\"stroke:#e26f46; stroke-linecap:round; stroke-linejoin:round; stroke-width:4; stroke-opacity:1; fill:none\" points=\"204.426,1365.29 218.331,1360.5 232.236,1341.27 246.141,1311.2 260.046,1324.42 273.951,1305.69 287.856,1262.38 301.761,1239.78 315.666,1173.9 329.571,1160.49 343.476,1128.51 357.381,1127.35 371.286,1104.89 385.191,1085.07 399.096,1107.93 413.001,1149.61 426.906,1197.89 440.812,1212.61 454.717,1213.41 468.622,1203.53 482.527,1194.08 496.432,1166.52 510.337,1147.72 524.242,1126.65 538.147,1129.04 552.052,1127.3 565.957,1106.48 579.862,1094.07 593.767,1067.22 607.672,1074.7 621.577,1055.47 635.482,1066.55 649.387,1021.63 663.292,1054.45 677.197,1069.17 691.102,1104.3 705.007,1076.16 718.913,1098.52 732.818,1138.71 746.723,1201.6 760.628,1161.03 774.533,1116.66 788.438,1168.95 802.343,1193.55 816.248,1128.51 830.153,1092.91 844.058,1074.9 857.963,1092.95 871.868,1101.3 885.773,1091.96 899.678,1071.64 913.583,1072.22 927.488,1061.84 941.393,1097.04 955.298,1065.16 969.203,1072.22 983.108,1067.43 997.014,1114.45 1010.92,1165.01 1024.82,1130.96 1038.73,1113.87 1052.63,1084.76 1066.54,1105.58 1080.44,1084.54 1094.35,1046.34 1108.25,1077.07 1122.16,1148.91 1136.06,1170.38 1149.97,1183.28 1163.87,1139.68 1177.78,1149.83 1191.68,1133.93 1205.59,1169.81 1219.49,1173.17 1233.4,1152.73 1247.3,1133.78 1261.21,1113.53 1275.11,1100.51 1289.02,1100.59 1302.92,1077.11 1316.83,1090.2 1330.73,1062.64 1344.64,1076.99 1358.54,1087.53 1372.45,1129.75 1386.35,1091.95 1400.26,1108.74 1414.17,1082 1428.07,1063.13 1441.98,1100.45 1455.88,1033.11 1469.79,966.27 1483.69,955.036 1497.6,978.342 1511.5,1055.62 1525.41,1070.83 1539.31,1055.67 1553.22,1063.22 1567.12,1078.08 1581.03,1073.27 1594.93,1082.78 1608.84,1089.17 1622.74,1106.22 1636.65,1107.08 1650.55,1088.73 1664.46,1060.17 1678.36,1067.84 1692.27,1089.26 1706.17,1110.46 1720.08,1101.65 1733.98,1057.21 1747.89,1040.84 1761.79,1020.44 1775.7,1063.84 1789.6,1084.93 1803.51,1096.38 1817.41,1079.31 1831.32,1100.49 1845.22,1099.07 1859.13,1074.65 1873.03,1087.33 1886.94,1078.51 1900.84,1081.8 1914.75,1047.59 1928.65,1063.09 1942.56,1051.12 1956.46,1083.63 1970.37,1081.35 1984.27,1087.01 1998.18,1116.1 2012.08,1114.06 2025.99,1104.56 2039.89,1101.69 2053.8,1129.62 2067.7,1098.54 2081.61,1082.39 2095.51,1116.17 2109.42,1097.68 2123.32,1073.75 2137.23,1075.04 2151.13,1062.1 2165.04,1036.21 2178.94,1048.34 2192.85,1041.24 2206.75,1084.27 2220.66,1087.96 2234.56,1105.75 2248.47,1109.22 2262.37,1175.8 2276.28,1152.76 2290.18,1173.64 \"/>\n",
       "<polyline clip-path=\"url(#clip082)\" style=\"stroke:#3da44d; stroke-linecap:round; stroke-linejoin:round; stroke-width:4; stroke-opacity:1; fill:none\" points=\"204.426,1445.72 218.331,1389.96 232.236,1341.08 246.141,1290.15 260.046,1308.05 273.951,1268.33 287.856,1209.83 301.761,1134.05 315.666,1075.45 329.571,997.599 343.476,968.388 357.381,1008.34 371.286,987.717 385.191,925.047 399.096,902.054 413.001,855.636 426.906,823.646 440.812,792.123 454.717,761.013 468.622,734.172 482.527,683.549 496.432,648.247 510.337,599.598 524.242,578.431 538.147,602.393 552.052,610.033 565.957,581.214 579.862,514.397 593.767,535.735 607.672,508.843 621.577,524.595 635.482,543.56 649.387,571.598 663.292,573.082 677.197,542.506 691.102,558.65 705.007,530.504 718.913,533.655 732.818,488.152 746.723,456.104 760.628,464.676 774.533,459.551 788.438,424.911 802.343,434.426 816.248,481.009 830.153,453.529 844.058,494.775 857.963,463.675 871.868,474.16 885.773,486.193 899.678,477.439 913.583,463.111 927.488,439.53 941.393,458.385 955.298,450.867 969.203,439.139 983.108,416.543 997.014,427.147 1010.92,420.24 1024.82,431.668 1038.73,382.592 1052.63,357.238 1066.54,365.813 1080.44,413.624 1094.35,388.926 1108.25,411.299 1122.16,399.015 1136.06,351.129 1149.97,358.296 1163.87,303.387 1177.78,283.879 1191.68,237.052 1205.59,252.739 1219.49,223.503 1233.4,230.191 1247.3,200.975 1261.21,212.205 1275.11,211.478 1289.02,209.971 1302.92,195.442 1316.83,141.689 1330.73,181.458 1344.64,194.795 1358.54,203.313 1372.45,192.306 1386.35,259.766 1400.26,254.898 1414.17,269.766 1428.07,283.437 1441.98,335.463 1455.88,328.948 1469.79,302.511 1483.69,297.295 1497.6,295.914 1511.5,292.033 1525.41,253.704 1539.31,290.345 1553.22,297.837 1567.12,294.256 1581.03,277.76 1594.93,326.077 1608.84,349.369 1622.74,384.14 1636.65,373.133 1650.55,360.101 1664.46,365.98 1678.36,316.461 1692.27,414.303 1706.17,433.303 1720.08,408.255 1733.98,374.447 1747.89,359.174 1761.79,397.481 1775.7,413.188 1789.6,414.196 1803.51,405.177 1817.41,429.051 1831.32,450.775 1845.22,454.313 1859.13,414.247 1873.03,410.566 1886.94,402.359 1900.84,421.965 1914.75,407.093 1928.65,396.722 1942.56,356.353 1956.46,338.203 1970.37,353.136 1984.27,351.909 1998.18,331.326 2012.08,263.722 2025.99,253.275 2039.89,266.901 2053.8,247.692 2067.7,264.277 2081.61,209.78 2095.51,183.372 2109.42,153.917 2123.32,122.223 2137.23,139.247 2151.13,116.338 2165.04,87.9763 2178.94,132.283 2192.85,112.34 2206.75,111.064 2220.66,146.893 2234.56,92.8497 2248.47,118.238 2262.37,171.998 2276.28,253.529 2290.18,300.332 \"/>\n",
       "<path clip-path=\"url(#clip080)\" d=\"M215.55 302.578 L489.649 302.578 L489.649 95.2176 L215.55 95.2176  Z\" fill=\"#ffffff\" fill-rule=\"evenodd\" fill-opacity=\"1\"/>\n",
       "<polyline clip-path=\"url(#clip080)\" style=\"stroke:#000000; stroke-linecap:round; stroke-linejoin:round; stroke-width:4; stroke-opacity:1; fill:none\" points=\"215.55,302.578 489.649,302.578 489.649,95.2176 215.55,95.2176 215.55,302.578 \"/>\n",
       "<polyline clip-path=\"url(#clip080)\" style=\"stroke:#009af9; stroke-linecap:round; stroke-linejoin:round; stroke-width:4; stroke-opacity:1; fill:none\" points=\"240.115,147.058 387.509,147.058 \"/>\n",
       "<path clip-path=\"url(#clip080)\" d=\"M425.917 166.745 Q424.111 171.375 422.398 172.787 Q420.685 174.199 417.815 174.199 L414.412 174.199 L414.412 170.634 L416.912 170.634 Q418.672 170.634 419.644 169.8 Q420.616 168.967 421.797 165.865 L422.56 163.921 L412.074 138.412 L416.588 138.412 L424.69 158.689 L432.792 138.412 L437.306 138.412 L425.917 166.745 Z\" fill=\"#000000\" fill-rule=\"nonzero\" fill-opacity=\"1\" /><path clip-path=\"url(#clip080)\" d=\"M444.597 160.402 L452.236 160.402 L452.236 134.037 L443.926 135.703 L443.926 131.444 L452.19 129.778 L456.866 129.778 L456.866 160.402 L464.505 160.402 L464.505 164.338 L444.597 164.338 L444.597 160.402 Z\" fill=\"#000000\" fill-rule=\"nonzero\" fill-opacity=\"1\" /><polyline clip-path=\"url(#clip080)\" style=\"stroke:#e26f46; stroke-linecap:round; stroke-linejoin:round; stroke-width:4; stroke-opacity:1; fill:none\" points=\"240.115,198.898 387.509,198.898 \"/>\n",
       "<path clip-path=\"url(#clip080)\" d=\"M425.917 218.585 Q424.111 223.215 422.398 224.627 Q420.685 226.039 417.815 226.039 L414.412 226.039 L414.412 222.474 L416.912 222.474 Q418.672 222.474 419.644 221.64 Q420.616 220.807 421.797 217.705 L422.56 215.761 L412.074 190.252 L416.588 190.252 L424.69 210.529 L432.792 190.252 L437.306 190.252 L425.917 218.585 Z\" fill=\"#000000\" fill-rule=\"nonzero\" fill-opacity=\"1\" /><path clip-path=\"url(#clip080)\" d=\"M447.815 212.242 L464.134 212.242 L464.134 216.178 L442.19 216.178 L442.19 212.242 Q444.852 209.488 449.435 204.858 Q454.042 200.205 455.222 198.863 Q457.468 196.34 458.347 194.604 Q459.25 192.844 459.25 191.155 Q459.25 188.4 457.306 186.664 Q455.384 184.928 452.283 184.928 Q450.083 184.928 447.63 185.692 Q445.199 186.455 442.421 188.006 L442.421 183.284 Q445.246 182.15 447.699 181.571 Q450.153 180.993 452.19 180.993 Q457.56 180.993 460.755 183.678 Q463.949 186.363 463.949 190.854 Q463.949 192.983 463.139 194.905 Q462.352 196.803 460.245 199.395 Q459.667 200.067 456.565 203.284 Q453.463 206.479 447.815 212.242 Z\" fill=\"#000000\" fill-rule=\"nonzero\" fill-opacity=\"1\" /><polyline clip-path=\"url(#clip080)\" style=\"stroke:#3da44d; stroke-linecap:round; stroke-linejoin:round; stroke-width:4; stroke-opacity:1; fill:none\" points=\"240.115,250.738 387.509,250.738 \"/>\n",
       "<path clip-path=\"url(#clip080)\" d=\"M425.917 270.425 Q424.111 275.055 422.398 276.467 Q420.685 277.879 417.815 277.879 L414.412 277.879 L414.412 274.314 L416.912 274.314 Q418.672 274.314 419.644 273.48 Q420.616 272.647 421.797 269.545 L422.56 267.601 L412.074 242.092 L416.588 242.092 L424.69 262.369 L432.792 242.092 L437.306 242.092 L425.917 270.425 Z\" fill=\"#000000\" fill-rule=\"nonzero\" fill-opacity=\"1\" /><path clip-path=\"url(#clip080)\" d=\"M457.954 249.383 Q461.31 250.101 463.185 252.369 Q465.083 254.638 465.083 257.971 Q465.083 263.087 461.565 265.888 Q458.046 268.689 451.565 268.689 Q449.389 268.689 447.074 268.249 Q444.783 267.832 442.329 266.976 L442.329 262.462 Q444.273 263.596 446.588 264.175 Q448.903 264.754 451.426 264.754 Q455.824 264.754 458.116 263.018 Q460.431 261.281 460.431 257.971 Q460.431 254.916 458.278 253.203 Q456.148 251.467 452.329 251.467 L448.301 251.467 L448.301 247.624 L452.514 247.624 Q455.963 247.624 457.792 246.258 Q459.62 244.87 459.62 242.277 Q459.62 239.615 457.722 238.203 Q455.847 236.768 452.329 236.768 Q450.408 236.768 448.208 237.184 Q446.009 237.601 443.371 238.481 L443.371 234.314 Q446.033 233.573 448.347 233.203 Q450.685 232.833 452.745 232.833 Q458.07 232.833 461.171 235.263 Q464.273 237.67 464.273 241.791 Q464.273 244.661 462.63 246.652 Q460.986 248.62 457.954 249.383 Z\" fill=\"#000000\" fill-rule=\"nonzero\" fill-opacity=\"1\" /></svg>\n"
      ],
      "text/html": [
       "<?xml version=\"1.0\" encoding=\"utf-8\"?>\n",
       "<svg xmlns=\"http://www.w3.org/2000/svg\" xmlns:xlink=\"http://www.w3.org/1999/xlink\" width=\"600\" height=\"400\" viewBox=\"0 0 2400 1600\">\n",
       "<defs>\n",
       "  <clipPath id=\"clip130\">\n",
       "    <rect x=\"0\" y=\"0\" width=\"2400\" height=\"1600\"/>\n",
       "  </clipPath>\n",
       "</defs>\n",
       "<path clip-path=\"url(#clip130)\" d=\"M0 1600 L2400 1600 L2400 0 L0 0  Z\" fill=\"#ffffff\" fill-rule=\"evenodd\" fill-opacity=\"1\"/>\n",
       "<defs>\n",
       "  <clipPath id=\"clip131\">\n",
       "    <rect x=\"480\" y=\"0\" width=\"1681\" height=\"1600\"/>\n",
       "  </clipPath>\n",
       "</defs>\n",
       "<path clip-path=\"url(#clip130)\" d=\"M141.853 1486.45 L2352.76 1486.45 L2352.76 47.2441 L141.853 47.2441  Z\" fill=\"#ffffff\" fill-rule=\"evenodd\" fill-opacity=\"1\"/>\n",
       "<defs>\n",
       "  <clipPath id=\"clip132\">\n",
       "    <rect x=\"141\" y=\"47\" width=\"2212\" height=\"1440\"/>\n",
       "  </clipPath>\n",
       "</defs>\n",
       "<polyline clip-path=\"url(#clip132)\" style=\"stroke:#000000; stroke-linecap:round; stroke-linejoin:round; stroke-width:2; stroke-opacity:0.1; fill:none\" points=\"190.521,1486.45 190.521,47.2441 \"/>\n",
       "<polyline clip-path=\"url(#clip132)\" style=\"stroke:#000000; stroke-linecap:round; stroke-linejoin:round; stroke-width:2; stroke-opacity:0.1; fill:none\" points=\"885.773,1486.45 885.773,47.2441 \"/>\n",
       "<polyline clip-path=\"url(#clip132)\" style=\"stroke:#000000; stroke-linecap:round; stroke-linejoin:round; stroke-width:2; stroke-opacity:0.1; fill:none\" points=\"1581.03,1486.45 1581.03,47.2441 \"/>\n",
       "<polyline clip-path=\"url(#clip132)\" style=\"stroke:#000000; stroke-linecap:round; stroke-linejoin:round; stroke-width:2; stroke-opacity:0.1; fill:none\" points=\"2276.28,1486.45 2276.28,47.2441 \"/>\n",
       "<polyline clip-path=\"url(#clip130)\" style=\"stroke:#000000; stroke-linecap:round; stroke-linejoin:round; stroke-width:4; stroke-opacity:1; fill:none\" points=\"141.853,1486.45 2352.76,1486.45 \"/>\n",
       "<polyline clip-path=\"url(#clip130)\" style=\"stroke:#000000; stroke-linecap:round; stroke-linejoin:round; stroke-width:4; stroke-opacity:1; fill:none\" points=\"190.521,1486.45 190.521,1467.55 \"/>\n",
       "<polyline clip-path=\"url(#clip130)\" style=\"stroke:#000000; stroke-linecap:round; stroke-linejoin:round; stroke-width:4; stroke-opacity:1; fill:none\" points=\"885.773,1486.45 885.773,1467.55 \"/>\n",
       "<polyline clip-path=\"url(#clip130)\" style=\"stroke:#000000; stroke-linecap:round; stroke-linejoin:round; stroke-width:4; stroke-opacity:1; fill:none\" points=\"1581.03,1486.45 1581.03,1467.55 \"/>\n",
       "<polyline clip-path=\"url(#clip130)\" style=\"stroke:#000000; stroke-linecap:round; stroke-linejoin:round; stroke-width:4; stroke-opacity:1; fill:none\" points=\"2276.28,1486.45 2276.28,1467.55 \"/>\n",
       "<path clip-path=\"url(#clip130)\" d=\"M190.521 1517.37 Q186.91 1517.37 185.081 1520.93 Q183.275 1524.47 183.275 1531.6 Q183.275 1538.71 185.081 1542.27 Q186.91 1545.82 190.521 1545.82 Q194.155 1545.82 195.96 1542.27 Q197.789 1538.71 197.789 1531.6 Q197.789 1524.47 195.96 1520.93 Q194.155 1517.37 190.521 1517.37 M190.521 1513.66 Q196.331 1513.66 199.386 1518.27 Q202.465 1522.85 202.465 1531.6 Q202.465 1540.33 199.386 1544.94 Q196.331 1549.52 190.521 1549.52 Q184.71 1549.52 181.632 1544.94 Q178.576 1540.33 178.576 1531.6 Q178.576 1522.85 181.632 1518.27 Q184.71 1513.66 190.521 1513.66 Z\" fill=\"#000000\" fill-rule=\"nonzero\" fill-opacity=\"1\" /><path clip-path=\"url(#clip130)\" d=\"M860.472 1514.29 L878.829 1514.29 L878.829 1518.22 L864.755 1518.22 L864.755 1526.7 Q865.773 1526.35 866.792 1526.19 Q867.81 1526 868.829 1526 Q874.616 1526 877.995 1529.17 Q881.375 1532.34 881.375 1537.76 Q881.375 1543.34 877.903 1546.44 Q874.431 1549.52 868.111 1549.52 Q865.935 1549.52 863.667 1549.15 Q861.421 1548.78 859.014 1548.04 L859.014 1543.34 Q861.097 1544.47 863.32 1545.03 Q865.542 1545.58 868.019 1545.58 Q872.023 1545.58 874.361 1543.48 Q876.699 1541.37 876.699 1537.76 Q876.699 1534.15 874.361 1532.04 Q872.023 1529.94 868.019 1529.94 Q866.144 1529.94 864.269 1530.35 Q862.417 1530.77 860.472 1531.65 L860.472 1514.29 Z\" fill=\"#000000\" fill-rule=\"nonzero\" fill-opacity=\"1\" /><path clip-path=\"url(#clip130)\" d=\"M900.588 1517.37 Q896.977 1517.37 895.148 1520.93 Q893.343 1524.47 893.343 1531.6 Q893.343 1538.71 895.148 1542.27 Q896.977 1545.82 900.588 1545.82 Q904.222 1545.82 906.028 1542.27 Q907.856 1538.71 907.856 1531.6 Q907.856 1524.47 906.028 1520.93 Q904.222 1517.37 900.588 1517.37 M900.588 1513.66 Q906.398 1513.66 909.454 1518.27 Q912.532 1522.85 912.532 1531.6 Q912.532 1540.33 909.454 1544.94 Q906.398 1549.52 900.588 1549.52 Q894.778 1549.52 891.699 1544.94 Q888.643 1540.33 888.643 1531.6 Q888.643 1522.85 891.699 1518.27 Q894.778 1513.66 900.588 1513.66 Z\" fill=\"#000000\" fill-rule=\"nonzero\" fill-opacity=\"1\" /><path clip-path=\"url(#clip130)\" d=\"M1540.63 1544.91 L1548.27 1544.91 L1548.27 1518.55 L1539.96 1520.21 L1539.96 1515.95 L1548.22 1514.29 L1552.9 1514.29 L1552.9 1544.91 L1560.54 1544.91 L1560.54 1548.85 L1540.63 1548.85 L1540.63 1544.91 Z\" fill=\"#000000\" fill-rule=\"nonzero\" fill-opacity=\"1\" /><path clip-path=\"url(#clip130)\" d=\"M1579.98 1517.37 Q1576.37 1517.37 1574.54 1520.93 Q1572.74 1524.47 1572.74 1531.6 Q1572.74 1538.71 1574.54 1542.27 Q1576.37 1545.82 1579.98 1545.82 Q1583.62 1545.82 1585.42 1542.27 Q1587.25 1538.71 1587.25 1531.6 Q1587.25 1524.47 1585.42 1520.93 Q1583.62 1517.37 1579.98 1517.37 M1579.98 1513.66 Q1585.79 1513.66 1588.85 1518.27 Q1591.93 1522.85 1591.93 1531.6 Q1591.93 1540.33 1588.85 1544.94 Q1585.79 1549.52 1579.98 1549.52 Q1574.17 1549.52 1571.1 1544.94 Q1568.04 1540.33 1568.04 1531.6 Q1568.04 1522.85 1571.1 1518.27 Q1574.17 1513.66 1579.98 1513.66 Z\" fill=\"#000000\" fill-rule=\"nonzero\" fill-opacity=\"1\" /><path clip-path=\"url(#clip130)\" d=\"M1610.15 1517.37 Q1606.53 1517.37 1604.71 1520.93 Q1602.9 1524.47 1602.9 1531.6 Q1602.9 1538.71 1604.71 1542.27 Q1606.53 1545.82 1610.15 1545.82 Q1613.78 1545.82 1615.59 1542.27 Q1617.41 1538.71 1617.41 1531.6 Q1617.41 1524.47 1615.59 1520.93 Q1613.78 1517.37 1610.15 1517.37 M1610.15 1513.66 Q1615.96 1513.66 1619.01 1518.27 Q1622.09 1522.85 1622.09 1531.6 Q1622.09 1540.33 1619.01 1544.94 Q1615.96 1549.52 1610.15 1549.52 Q1604.34 1549.52 1601.26 1544.94 Q1598.2 1540.33 1598.2 1531.6 Q1598.2 1522.85 1601.26 1518.27 Q1604.34 1513.66 1610.15 1513.66 Z\" fill=\"#000000\" fill-rule=\"nonzero\" fill-opacity=\"1\" /><path clip-path=\"url(#clip130)\" d=\"M2235.88 1544.91 L2243.52 1544.91 L2243.52 1518.55 L2235.21 1520.21 L2235.21 1515.95 L2243.48 1514.29 L2248.15 1514.29 L2248.15 1544.91 L2255.79 1544.91 L2255.79 1548.85 L2235.88 1548.85 L2235.88 1544.91 Z\" fill=\"#000000\" fill-rule=\"nonzero\" fill-opacity=\"1\" /><path clip-path=\"url(#clip130)\" d=\"M2265.28 1514.29 L2283.64 1514.29 L2283.64 1518.22 L2269.57 1518.22 L2269.57 1526.7 Q2270.58 1526.35 2271.6 1526.19 Q2272.62 1526 2273.64 1526 Q2279.43 1526 2282.81 1529.17 Q2286.19 1532.34 2286.19 1537.76 Q2286.19 1543.34 2282.71 1546.44 Q2279.24 1549.52 2272.92 1549.52 Q2270.75 1549.52 2268.48 1549.15 Q2266.23 1548.78 2263.82 1548.04 L2263.82 1543.34 Q2265.91 1544.47 2268.13 1545.03 Q2270.35 1545.58 2272.83 1545.58 Q2276.83 1545.58 2279.17 1543.48 Q2281.51 1541.37 2281.51 1537.76 Q2281.51 1534.15 2279.17 1532.04 Q2276.83 1529.94 2272.83 1529.94 Q2270.95 1529.94 2269.08 1530.35 Q2267.23 1530.77 2265.28 1531.65 L2265.28 1514.29 Z\" fill=\"#000000\" fill-rule=\"nonzero\" fill-opacity=\"1\" /><path clip-path=\"url(#clip130)\" d=\"M2305.4 1517.37 Q2301.79 1517.37 2299.96 1520.93 Q2298.15 1524.47 2298.15 1531.6 Q2298.15 1538.71 2299.96 1542.27 Q2301.79 1545.82 2305.4 1545.82 Q2309.03 1545.82 2310.84 1542.27 Q2312.67 1538.71 2312.67 1531.6 Q2312.67 1524.47 2310.84 1520.93 Q2309.03 1517.37 2305.4 1517.37 M2305.4 1513.66 Q2311.21 1513.66 2314.26 1518.27 Q2317.34 1522.85 2317.34 1531.6 Q2317.34 1540.33 2314.26 1544.94 Q2311.21 1549.52 2305.4 1549.52 Q2299.59 1549.52 2296.51 1544.94 Q2293.45 1540.33 2293.45 1531.6 Q2293.45 1522.85 2296.51 1518.27 Q2299.59 1513.66 2305.4 1513.66 Z\" fill=\"#000000\" fill-rule=\"nonzero\" fill-opacity=\"1\" /><polyline clip-path=\"url(#clip132)\" style=\"stroke:#000000; stroke-linecap:round; stroke-linejoin:round; stroke-width:2; stroke-opacity:0.1; fill:none\" points=\"141.853,1401.32 2352.76,1401.32 \"/>\n",
       "<polyline clip-path=\"url(#clip132)\" style=\"stroke:#000000; stroke-linecap:round; stroke-linejoin:round; stroke-width:2; stroke-opacity:0.1; fill:none\" points=\"141.853,1098.91 2352.76,1098.91 \"/>\n",
       "<polyline clip-path=\"url(#clip132)\" style=\"stroke:#000000; stroke-linecap:round; stroke-linejoin:round; stroke-width:2; stroke-opacity:0.1; fill:none\" points=\"141.853,796.507 2352.76,796.507 \"/>\n",
       "<polyline clip-path=\"url(#clip132)\" style=\"stroke:#000000; stroke-linecap:round; stroke-linejoin:round; stroke-width:2; stroke-opacity:0.1; fill:none\" points=\"141.853,494.101 2352.76,494.101 \"/>\n",
       "<polyline clip-path=\"url(#clip132)\" style=\"stroke:#000000; stroke-linecap:round; stroke-linejoin:round; stroke-width:2; stroke-opacity:0.1; fill:none\" points=\"141.853,191.696 2352.76,191.696 \"/>\n",
       "<polyline clip-path=\"url(#clip130)\" style=\"stroke:#000000; stroke-linecap:round; stroke-linejoin:round; stroke-width:4; stroke-opacity:1; fill:none\" points=\"141.853,1486.45 141.853,47.2441 \"/>\n",
       "<polyline clip-path=\"url(#clip130)\" style=\"stroke:#000000; stroke-linecap:round; stroke-linejoin:round; stroke-width:4; stroke-opacity:1; fill:none\" points=\"141.853,1401.32 160.751,1401.32 \"/>\n",
       "<polyline clip-path=\"url(#clip130)\" style=\"stroke:#000000; stroke-linecap:round; stroke-linejoin:round; stroke-width:4; stroke-opacity:1; fill:none\" points=\"141.853,1098.91 160.751,1098.91 \"/>\n",
       "<polyline clip-path=\"url(#clip130)\" style=\"stroke:#000000; stroke-linecap:round; stroke-linejoin:round; stroke-width:4; stroke-opacity:1; fill:none\" points=\"141.853,796.507 160.751,796.507 \"/>\n",
       "<polyline clip-path=\"url(#clip130)\" style=\"stroke:#000000; stroke-linecap:round; stroke-linejoin:round; stroke-width:4; stroke-opacity:1; fill:none\" points=\"141.853,494.101 160.751,494.101 \"/>\n",
       "<polyline clip-path=\"url(#clip130)\" style=\"stroke:#000000; stroke-linecap:round; stroke-linejoin:round; stroke-width:4; stroke-opacity:1; fill:none\" points=\"141.853,191.696 160.751,191.696 \"/>\n",
       "<path clip-path=\"url(#clip130)\" d=\"M93.9086 1387.12 Q90.2975 1387.12 88.4688 1390.68 Q86.6632 1394.22 86.6632 1401.35 Q86.6632 1408.46 88.4688 1412.02 Q90.2975 1415.57 93.9086 1415.57 Q97.5428 1415.57 99.3483 1412.02 Q101.177 1408.46 101.177 1401.35 Q101.177 1394.22 99.3483 1390.68 Q97.5428 1387.12 93.9086 1387.12 M93.9086 1383.41 Q99.7187 1383.41 102.774 1388.02 Q105.853 1392.6 105.853 1401.35 Q105.853 1410.08 102.774 1414.69 Q99.7187 1419.27 93.9086 1419.27 Q88.0984 1419.27 85.0197 1414.69 Q81.9642 1410.08 81.9642 1401.35 Q81.9642 1392.6 85.0197 1388.02 Q88.0984 1383.41 93.9086 1383.41 Z\" fill=\"#000000\" fill-rule=\"nonzero\" fill-opacity=\"1\" /><path clip-path=\"url(#clip130)\" d=\"M54.5569 1112.26 L62.1958 1112.26 L62.1958 1085.89 L53.8856 1087.56 L53.8856 1083.3 L62.1495 1081.63 L66.8254 1081.63 L66.8254 1112.26 L74.4642 1112.26 L74.4642 1116.19 L54.5569 1116.19 L54.5569 1112.26 Z\" fill=\"#000000\" fill-rule=\"nonzero\" fill-opacity=\"1\" /><path clip-path=\"url(#clip130)\" d=\"M93.9086 1084.71 Q90.2975 1084.71 88.4688 1088.28 Q86.6632 1091.82 86.6632 1098.95 Q86.6632 1106.05 88.4688 1109.62 Q90.2975 1113.16 93.9086 1113.16 Q97.5428 1113.16 99.3483 1109.62 Q101.177 1106.05 101.177 1098.95 Q101.177 1091.82 99.3483 1088.28 Q97.5428 1084.71 93.9086 1084.71 M93.9086 1081.01 Q99.7187 1081.01 102.774 1085.61 Q105.853 1090.2 105.853 1098.95 Q105.853 1107.67 102.774 1112.28 Q99.7187 1116.86 93.9086 1116.86 Q88.0984 1116.86 85.0197 1112.28 Q81.9642 1107.67 81.9642 1098.95 Q81.9642 1090.2 85.0197 1085.61 Q88.0984 1081.01 93.9086 1081.01 Z\" fill=\"#000000\" fill-rule=\"nonzero\" fill-opacity=\"1\" /><path clip-path=\"url(#clip130)\" d=\"M57.7745 809.851 L74.0939 809.851 L74.0939 813.787 L52.1495 813.787 L52.1495 809.851 Q54.8115 807.097 59.3949 802.467 Q64.0013 797.814 65.1819 796.472 Q67.4272 793.949 68.3068 792.213 Q69.2096 790.453 69.2096 788.764 Q69.2096 786.009 67.2652 784.273 Q65.3439 782.537 62.2421 782.537 Q60.043 782.537 57.5893 783.301 Q55.1588 784.065 52.381 785.615 L52.381 780.893 Q55.2051 779.759 57.6588 779.18 Q60.1124 778.602 62.1495 778.602 Q67.5198 778.602 70.7142 781.287 Q73.9087 783.972 73.9087 788.463 Q73.9087 790.592 73.0985 792.514 Q72.3115 794.412 70.205 797.004 Q69.6263 797.676 66.5245 800.893 Q63.4226 804.088 57.7745 809.851 Z\" fill=\"#000000\" fill-rule=\"nonzero\" fill-opacity=\"1\" /><path clip-path=\"url(#clip130)\" d=\"M93.9086 782.305 Q90.2975 782.305 88.4688 785.87 Q86.6632 789.412 86.6632 796.541 Q86.6632 803.648 88.4688 807.213 Q90.2975 810.754 93.9086 810.754 Q97.5428 810.754 99.3483 807.213 Q101.177 803.648 101.177 796.541 Q101.177 789.412 99.3483 785.87 Q97.5428 782.305 93.9086 782.305 M93.9086 778.602 Q99.7187 778.602 102.774 783.208 Q105.853 787.791 105.853 796.541 Q105.853 805.268 102.774 809.875 Q99.7187 814.458 93.9086 814.458 Q88.0984 814.458 85.0197 809.875 Q81.9642 805.268 81.9642 796.541 Q81.9642 787.791 85.0197 783.208 Q88.0984 778.602 93.9086 778.602 Z\" fill=\"#000000\" fill-rule=\"nonzero\" fill-opacity=\"1\" /><path clip-path=\"url(#clip130)\" d=\"M67.9133 492.747 Q71.2698 493.465 73.1448 495.733 Q75.0429 498.002 75.0429 501.335 Q75.0429 506.451 71.5244 509.252 Q68.0059 512.052 61.5245 512.052 Q59.3486 512.052 57.0338 511.613 Q54.7421 511.196 52.2884 510.339 L52.2884 505.826 Q54.2328 506.96 56.5477 507.539 Q58.8625 508.117 61.3856 508.117 Q65.7837 508.117 68.0754 506.381 Q70.3902 504.645 70.3902 501.335 Q70.3902 498.279 68.2374 496.566 Q66.1078 494.83 62.2884 494.83 L58.2606 494.83 L58.2606 490.988 L62.4735 490.988 Q65.9226 490.988 67.7513 489.622 Q69.58 488.233 69.58 485.641 Q69.58 482.979 67.6819 481.566 Q65.8069 480.131 62.2884 480.131 Q60.3671 480.131 58.168 480.548 Q55.969 480.965 53.3301 481.844 L53.3301 477.678 Q55.9921 476.937 58.3069 476.567 Q60.6449 476.196 62.705 476.196 Q68.0291 476.196 71.1309 478.627 Q74.2327 481.034 74.2327 485.154 Q74.2327 488.025 72.5892 490.016 Q70.9457 491.983 67.9133 492.747 Z\" fill=\"#000000\" fill-rule=\"nonzero\" fill-opacity=\"1\" /><path clip-path=\"url(#clip130)\" d=\"M93.9086 479.9 Q90.2975 479.9 88.4688 483.465 Q86.6632 487.006 86.6632 494.136 Q86.6632 501.242 88.4688 504.807 Q90.2975 508.349 93.9086 508.349 Q97.5428 508.349 99.3483 504.807 Q101.177 501.242 101.177 494.136 Q101.177 487.006 99.3483 483.465 Q97.5428 479.9 93.9086 479.9 M93.9086 476.196 Q99.7187 476.196 102.774 480.803 Q105.853 485.386 105.853 494.136 Q105.853 502.863 102.774 507.469 Q99.7187 512.052 93.9086 512.052 Q88.0984 512.052 85.0197 507.469 Q81.9642 502.863 81.9642 494.136 Q81.9642 485.386 85.0197 480.803 Q88.0984 476.196 93.9086 476.196 Z\" fill=\"#000000\" fill-rule=\"nonzero\" fill-opacity=\"1\" /><path clip-path=\"url(#clip130)\" d=\"M66.5939 178.49 L54.7884 196.939 L66.5939 196.939 L66.5939 178.49 M65.367 174.416 L71.2466 174.416 L71.2466 196.939 L76.1772 196.939 L76.1772 200.828 L71.2466 200.828 L71.2466 208.976 L66.5939 208.976 L66.5939 200.828 L50.9921 200.828 L50.9921 196.314 L65.367 174.416 Z\" fill=\"#000000\" fill-rule=\"nonzero\" fill-opacity=\"1\" /><path clip-path=\"url(#clip130)\" d=\"M93.9086 177.494 Q90.2975 177.494 88.4688 181.059 Q86.6632 184.601 86.6632 191.73 Q86.6632 198.837 88.4688 202.402 Q90.2975 205.943 93.9086 205.943 Q97.5428 205.943 99.3483 202.402 Q101.177 198.837 101.177 191.73 Q101.177 184.601 99.3483 181.059 Q97.5428 177.494 93.9086 177.494 M93.9086 173.791 Q99.7187 173.791 102.774 178.397 Q105.853 182.98 105.853 191.73 Q105.853 200.457 102.774 205.064 Q99.7187 209.647 93.9086 209.647 Q88.0984 209.647 85.0197 205.064 Q81.9642 200.457 81.9642 191.73 Q81.9642 182.98 85.0197 178.397 Q88.0984 173.791 93.9086 173.791 Z\" fill=\"#000000\" fill-rule=\"nonzero\" fill-opacity=\"1\" /><polyline clip-path=\"url(#clip132)\" style=\"stroke:#009af9; stroke-linecap:round; stroke-linejoin:round; stroke-width:4; stroke-opacity:1; fill:none\" points=\"204.426,1369.41 218.331,1314.61 232.236,1317.24 246.141,1242 260.046,1234.93 273.951,1265.74 287.856,1209.44 301.761,1149.51 315.666,1122.01 329.571,1193.22 343.476,1178.59 357.381,1167.51 371.286,1165.6 385.191,1178.07 399.096,1140.86 413.001,1170.67 426.906,1140.33 440.812,1174.06 454.717,1179.48 468.622,1221.16 482.527,1188.97 496.432,1222.28 510.337,1212.58 524.242,1206.6 538.147,1242.54 552.052,1263.36 565.957,1245.24 579.862,1281.54 593.767,1236.53 607.672,1209.16 621.577,1166.56 635.482,1195.26 649.387,1235.91 663.292,1219.78 677.197,1187.83 691.102,1146.7 705.007,1165.37 718.913,1199.63 732.818,1309.13 746.723,1315.44 760.628,1334.38 774.533,1308.94 788.438,1259.73 802.343,1248.39 816.248,1206.01 830.153,1273.24 844.058,1347.33 857.963,1326.78 871.868,1329.59 885.773,1361.7 899.678,1362.91 913.583,1362.3 927.488,1320.79 941.393,1298.12 955.298,1297.95 969.203,1339.49 983.108,1301.02 997.014,1254.3 1010.92,1274.81 1024.82,1248.96 1038.73,1224.86 1052.63,1280.84 1066.54,1234.22 1080.44,1221.2 1094.35,1235.76 1108.25,1251.56 1122.16,1237.31 1136.06,1204.26 1149.97,1199.78 1163.87,1269.15 1177.78,1262.79 1191.68,1235.36 1205.59,1206.31 1219.49,1300.26 1233.4,1285.62 1247.3,1269.7 1261.21,1223.96 1275.11,1207.71 1289.02,1201.09 1302.92,1171.86 1316.83,1213.05 1330.73,1158.67 1344.64,1208.65 1358.54,1192.54 1372.45,1231.94 1386.35,1284.75 1400.26,1274.77 1414.17,1250.17 1428.07,1213.71 1441.98,1229.99 1455.88,1195.99 1469.79,1196.64 1483.69,1192.55 1497.6,1181.31 1511.5,1212.59 1525.41,1229.28 1539.31,1263.43 1553.22,1234.41 1567.12,1196.44 1581.03,1251.47 1594.93,1258.45 1608.84,1302.55 1622.74,1300.6 1636.65,1257.03 1650.55,1237.64 1664.46,1229.11 1678.36,1239.61 1692.27,1292.54 1706.17,1308.75 1720.08,1338.77 1733.98,1366.86 1747.89,1279.55 1761.79,1296.13 1775.7,1292.15 1789.6,1289.25 1803.51,1268.85 1817.41,1336.92 1831.32,1342.66 1845.22,1321.41 1859.13,1305.88 1873.03,1354.62 1886.94,1305.04 1900.84,1318.56 1914.75,1300.05 1928.65,1328.23 1942.56,1325.16 1956.46,1297.33 1970.37,1252.98 1984.27,1266.68 1998.18,1282.84 2012.08,1231.45 2025.99,1194.51 2039.89,1256.7 2053.8,1325.9 2067.7,1338.65 2081.61,1321.62 2095.51,1271.87 2109.42,1309.41 2123.32,1313.09 2137.23,1264.4 2151.13,1222.97 2165.04,1308.07 2178.94,1336.81 2192.85,1310.35 2206.75,1306.14 2220.66,1273.55 2234.56,1270.2 2248.47,1222.82 2262.37,1246.76 2276.28,1185.19 2290.18,1182.35 \"/>\n",
       "<polyline clip-path=\"url(#clip132)\" style=\"stroke:#e26f46; stroke-linecap:round; stroke-linejoin:round; stroke-width:4; stroke-opacity:1; fill:none\" points=\"204.426,1365.29 218.331,1360.5 232.236,1341.27 246.141,1311.2 260.046,1324.42 273.951,1305.69 287.856,1262.38 301.761,1239.78 315.666,1173.9 329.571,1160.49 343.476,1128.51 357.381,1127.35 371.286,1104.89 385.191,1085.07 399.096,1107.93 413.001,1149.61 426.906,1197.89 440.812,1212.61 454.717,1213.41 468.622,1203.53 482.527,1194.08 496.432,1166.52 510.337,1147.72 524.242,1126.65 538.147,1129.04 552.052,1127.3 565.957,1106.48 579.862,1094.07 593.767,1067.22 607.672,1074.7 621.577,1055.47 635.482,1066.55 649.387,1021.63 663.292,1054.45 677.197,1069.17 691.102,1104.3 705.007,1076.16 718.913,1098.52 732.818,1138.71 746.723,1201.6 760.628,1161.03 774.533,1116.66 788.438,1168.95 802.343,1193.55 816.248,1128.51 830.153,1092.91 844.058,1074.9 857.963,1092.95 871.868,1101.3 885.773,1091.96 899.678,1071.64 913.583,1072.22 927.488,1061.84 941.393,1097.04 955.298,1065.16 969.203,1072.22 983.108,1067.43 997.014,1114.45 1010.92,1165.01 1024.82,1130.96 1038.73,1113.87 1052.63,1084.76 1066.54,1105.58 1080.44,1084.54 1094.35,1046.34 1108.25,1077.07 1122.16,1148.91 1136.06,1170.38 1149.97,1183.28 1163.87,1139.68 1177.78,1149.83 1191.68,1133.93 1205.59,1169.81 1219.49,1173.17 1233.4,1152.73 1247.3,1133.78 1261.21,1113.53 1275.11,1100.51 1289.02,1100.59 1302.92,1077.11 1316.83,1090.2 1330.73,1062.64 1344.64,1076.99 1358.54,1087.53 1372.45,1129.75 1386.35,1091.95 1400.26,1108.74 1414.17,1082 1428.07,1063.13 1441.98,1100.45 1455.88,1033.11 1469.79,966.27 1483.69,955.036 1497.6,978.342 1511.5,1055.62 1525.41,1070.83 1539.31,1055.67 1553.22,1063.22 1567.12,1078.08 1581.03,1073.27 1594.93,1082.78 1608.84,1089.17 1622.74,1106.22 1636.65,1107.08 1650.55,1088.73 1664.46,1060.17 1678.36,1067.84 1692.27,1089.26 1706.17,1110.46 1720.08,1101.65 1733.98,1057.21 1747.89,1040.84 1761.79,1020.44 1775.7,1063.84 1789.6,1084.93 1803.51,1096.38 1817.41,1079.31 1831.32,1100.49 1845.22,1099.07 1859.13,1074.65 1873.03,1087.33 1886.94,1078.51 1900.84,1081.8 1914.75,1047.59 1928.65,1063.09 1942.56,1051.12 1956.46,1083.63 1970.37,1081.35 1984.27,1087.01 1998.18,1116.1 2012.08,1114.06 2025.99,1104.56 2039.89,1101.69 2053.8,1129.62 2067.7,1098.54 2081.61,1082.39 2095.51,1116.17 2109.42,1097.68 2123.32,1073.75 2137.23,1075.04 2151.13,1062.1 2165.04,1036.21 2178.94,1048.34 2192.85,1041.24 2206.75,1084.27 2220.66,1087.96 2234.56,1105.75 2248.47,1109.22 2262.37,1175.8 2276.28,1152.76 2290.18,1173.64 \"/>\n",
       "<polyline clip-path=\"url(#clip132)\" style=\"stroke:#3da44d; stroke-linecap:round; stroke-linejoin:round; stroke-width:4; stroke-opacity:1; fill:none\" points=\"204.426,1445.72 218.331,1389.96 232.236,1341.08 246.141,1290.15 260.046,1308.05 273.951,1268.33 287.856,1209.83 301.761,1134.05 315.666,1075.45 329.571,997.599 343.476,968.388 357.381,1008.34 371.286,987.717 385.191,925.047 399.096,902.054 413.001,855.636 426.906,823.646 440.812,792.123 454.717,761.013 468.622,734.172 482.527,683.549 496.432,648.247 510.337,599.598 524.242,578.431 538.147,602.393 552.052,610.033 565.957,581.214 579.862,514.397 593.767,535.735 607.672,508.843 621.577,524.595 635.482,543.56 649.387,571.598 663.292,573.082 677.197,542.506 691.102,558.65 705.007,530.504 718.913,533.655 732.818,488.152 746.723,456.104 760.628,464.676 774.533,459.551 788.438,424.911 802.343,434.426 816.248,481.009 830.153,453.529 844.058,494.775 857.963,463.675 871.868,474.16 885.773,486.193 899.678,477.439 913.583,463.111 927.488,439.53 941.393,458.385 955.298,450.867 969.203,439.139 983.108,416.543 997.014,427.147 1010.92,420.24 1024.82,431.668 1038.73,382.592 1052.63,357.238 1066.54,365.813 1080.44,413.624 1094.35,388.926 1108.25,411.299 1122.16,399.015 1136.06,351.129 1149.97,358.296 1163.87,303.387 1177.78,283.879 1191.68,237.052 1205.59,252.739 1219.49,223.503 1233.4,230.191 1247.3,200.975 1261.21,212.205 1275.11,211.478 1289.02,209.971 1302.92,195.442 1316.83,141.689 1330.73,181.458 1344.64,194.795 1358.54,203.313 1372.45,192.306 1386.35,259.766 1400.26,254.898 1414.17,269.766 1428.07,283.437 1441.98,335.463 1455.88,328.948 1469.79,302.511 1483.69,297.295 1497.6,295.914 1511.5,292.033 1525.41,253.704 1539.31,290.345 1553.22,297.837 1567.12,294.256 1581.03,277.76 1594.93,326.077 1608.84,349.369 1622.74,384.14 1636.65,373.133 1650.55,360.101 1664.46,365.98 1678.36,316.461 1692.27,414.303 1706.17,433.303 1720.08,408.255 1733.98,374.447 1747.89,359.174 1761.79,397.481 1775.7,413.188 1789.6,414.196 1803.51,405.177 1817.41,429.051 1831.32,450.775 1845.22,454.313 1859.13,414.247 1873.03,410.566 1886.94,402.359 1900.84,421.965 1914.75,407.093 1928.65,396.722 1942.56,356.353 1956.46,338.203 1970.37,353.136 1984.27,351.909 1998.18,331.326 2012.08,263.722 2025.99,253.275 2039.89,266.901 2053.8,247.692 2067.7,264.277 2081.61,209.78 2095.51,183.372 2109.42,153.917 2123.32,122.223 2137.23,139.247 2151.13,116.338 2165.04,87.9763 2178.94,132.283 2192.85,112.34 2206.75,111.064 2220.66,146.893 2234.56,92.8497 2248.47,118.238 2262.37,171.998 2276.28,253.529 2290.18,300.332 \"/>\n",
       "<path clip-path=\"url(#clip130)\" d=\"M215.55 302.578 L489.649 302.578 L489.649 95.2176 L215.55 95.2176  Z\" fill=\"#ffffff\" fill-rule=\"evenodd\" fill-opacity=\"1\"/>\n",
       "<polyline clip-path=\"url(#clip130)\" style=\"stroke:#000000; stroke-linecap:round; stroke-linejoin:round; stroke-width:4; stroke-opacity:1; fill:none\" points=\"215.55,302.578 489.649,302.578 489.649,95.2176 215.55,95.2176 215.55,302.578 \"/>\n",
       "<polyline clip-path=\"url(#clip130)\" style=\"stroke:#009af9; stroke-linecap:round; stroke-linejoin:round; stroke-width:4; stroke-opacity:1; fill:none\" points=\"240.115,147.058 387.509,147.058 \"/>\n",
       "<path clip-path=\"url(#clip130)\" d=\"M425.917 166.745 Q424.111 171.375 422.398 172.787 Q420.685 174.199 417.815 174.199 L414.412 174.199 L414.412 170.634 L416.912 170.634 Q418.672 170.634 419.644 169.8 Q420.616 168.967 421.797 165.865 L422.56 163.921 L412.074 138.412 L416.588 138.412 L424.69 158.689 L432.792 138.412 L437.306 138.412 L425.917 166.745 Z\" fill=\"#000000\" fill-rule=\"nonzero\" fill-opacity=\"1\" /><path clip-path=\"url(#clip130)\" d=\"M444.597 160.402 L452.236 160.402 L452.236 134.037 L443.926 135.703 L443.926 131.444 L452.19 129.778 L456.866 129.778 L456.866 160.402 L464.505 160.402 L464.505 164.338 L444.597 164.338 L444.597 160.402 Z\" fill=\"#000000\" fill-rule=\"nonzero\" fill-opacity=\"1\" /><polyline clip-path=\"url(#clip130)\" style=\"stroke:#e26f46; stroke-linecap:round; stroke-linejoin:round; stroke-width:4; stroke-opacity:1; fill:none\" points=\"240.115,198.898 387.509,198.898 \"/>\n",
       "<path clip-path=\"url(#clip130)\" d=\"M425.917 218.585 Q424.111 223.215 422.398 224.627 Q420.685 226.039 417.815 226.039 L414.412 226.039 L414.412 222.474 L416.912 222.474 Q418.672 222.474 419.644 221.64 Q420.616 220.807 421.797 217.705 L422.56 215.761 L412.074 190.252 L416.588 190.252 L424.69 210.529 L432.792 190.252 L437.306 190.252 L425.917 218.585 Z\" fill=\"#000000\" fill-rule=\"nonzero\" fill-opacity=\"1\" /><path clip-path=\"url(#clip130)\" d=\"M447.815 212.242 L464.134 212.242 L464.134 216.178 L442.19 216.178 L442.19 212.242 Q444.852 209.488 449.435 204.858 Q454.042 200.205 455.222 198.863 Q457.468 196.34 458.347 194.604 Q459.25 192.844 459.25 191.155 Q459.25 188.4 457.306 186.664 Q455.384 184.928 452.283 184.928 Q450.083 184.928 447.63 185.692 Q445.199 186.455 442.421 188.006 L442.421 183.284 Q445.246 182.15 447.699 181.571 Q450.153 180.993 452.19 180.993 Q457.56 180.993 460.755 183.678 Q463.949 186.363 463.949 190.854 Q463.949 192.983 463.139 194.905 Q462.352 196.803 460.245 199.395 Q459.667 200.067 456.565 203.284 Q453.463 206.479 447.815 212.242 Z\" fill=\"#000000\" fill-rule=\"nonzero\" fill-opacity=\"1\" /><polyline clip-path=\"url(#clip130)\" style=\"stroke:#3da44d; stroke-linecap:round; stroke-linejoin:round; stroke-width:4; stroke-opacity:1; fill:none\" points=\"240.115,250.738 387.509,250.738 \"/>\n",
       "<path clip-path=\"url(#clip130)\" d=\"M425.917 270.425 Q424.111 275.055 422.398 276.467 Q420.685 277.879 417.815 277.879 L414.412 277.879 L414.412 274.314 L416.912 274.314 Q418.672 274.314 419.644 273.48 Q420.616 272.647 421.797 269.545 L422.56 267.601 L412.074 242.092 L416.588 242.092 L424.69 262.369 L432.792 242.092 L437.306 242.092 L425.917 270.425 Z\" fill=\"#000000\" fill-rule=\"nonzero\" fill-opacity=\"1\" /><path clip-path=\"url(#clip130)\" d=\"M457.954 249.383 Q461.31 250.101 463.185 252.369 Q465.083 254.638 465.083 257.971 Q465.083 263.087 461.565 265.888 Q458.046 268.689 451.565 268.689 Q449.389 268.689 447.074 268.249 Q444.783 267.832 442.329 266.976 L442.329 262.462 Q444.273 263.596 446.588 264.175 Q448.903 264.754 451.426 264.754 Q455.824 264.754 458.116 263.018 Q460.431 261.281 460.431 257.971 Q460.431 254.916 458.278 253.203 Q456.148 251.467 452.329 251.467 L448.301 251.467 L448.301 247.624 L452.514 247.624 Q455.963 247.624 457.792 246.258 Q459.62 244.87 459.62 242.277 Q459.62 239.615 457.722 238.203 Q455.847 236.768 452.329 236.768 Q450.408 236.768 448.208 237.184 Q446.009 237.601 443.371 238.481 L443.371 234.314 Q446.033 233.573 448.347 233.203 Q450.685 232.833 452.745 232.833 Q458.07 232.833 461.171 235.263 Q464.273 237.67 464.273 241.791 Q464.273 244.661 462.63 246.652 Q460.986 248.62 457.954 249.383 Z\" fill=\"#000000\" fill-rule=\"nonzero\" fill-opacity=\"1\" /></svg>\n"
      ]
     },
     "execution_count": 168,
     "metadata": {},
     "output_type": "execute_result"
    }
   ],
   "source": [
    "using Plots\n",
    "plot(y')"
   ]
  },
  {
   "cell_type": "code",
   "execution_count": 171,
   "id": "dc8bc98c-7228-4a8c-af71-a77c22898454",
   "metadata": {},
   "outputs": [
    {
     "data": {
      "text/plain": [
       "4-element Vector{Float64}:\n",
       " 0.10806477544740287\n",
       " 0.1828888303762736\n",
       " 0.493648105424404\n",
       " 1.0158996660097115"
      ]
     },
     "execution_count": 171,
     "metadata": {},
     "output_type": "execute_result"
    }
   ],
   "source": [
    "## Exercise 3\n",
    "##\n",
    "N = 50\n",
    "X = zeros(N,4)\n",
    "X[:,1] = ones(N)\n",
    "X[:,2] = randn(N)\n",
    "X[:,3] = X[:,2].^2\n",
    "X[:,4] = randn(N)\n",
    "w = randn(N)\n",
    "a = 0.1\n",
    "b = 0.2\n",
    "c = 0.5\n",
    "d = 1.0\n",
    "β = [a , b, c, d]\n",
    "σ = 0.1\n",
    "y = X*β + σ*w\n",
    "β_hat = inv(X'*X)*X'*y"
   ]
  },
  {
   "cell_type": "code",
   "execution_count": 22,
   "id": "f267e2e4-c704-47a8-a279-0a5ed71fd8f1",
   "metadata": {},
   "outputs": [],
   "source": [
    "## Exercise 3\n",
    "##\n",
    "M = 20\n",
    "results = zeros(4,M)\n",
    "for i in 1:M\n",
    "    N = 50\n",
    "    X = zeros(N,4)\n",
    "    X[:,1] = ones(N)\n",
    "    X[:,2] = randn(N)\n",
    "    X[:,3] = X[:,2].^2\n",
    "    X[:,4] = randn(N)\n",
    "    w = randn(N)\n",
    "    a = 0.1\n",
    "    b = 0.2\n",
    "    c = 0.5\n",
    "    d = 1.0\n",
    "    β = [a , b, c, d]\n",
    "    σ = 0.1\n",
    "    y = X*β + σ*w\n",
    "    β_hat = inv(X'*X)*X'*y\n",
    "    results[:,i] = β_hat\n",
    "end"
   ]
  },
  {
   "cell_type": "code",
   "execution_count": 23,
   "id": "16362d1f-d9ea-4e51-a34a-e498fdbecfc3",
   "metadata": {},
   "outputs": [
    {
     "data": {
      "image/png": "[encoded data removed]",
      "image/svg+xml": [
       "<?xml version=\"1.0\" encoding=\"utf-8\"?>\n",
       "<svg xmlns=\"http://www.w3.org/2000/svg\" xmlns:xlink=\"http://www.w3.org/1999/xlink\" width=\"600\" height=\"400\" viewBox=\"0 0 2400 1600\">\n",
       "<defs>\n",
       "  <clipPath id=\"clip570\">\n",
       "    <rect x=\"0\" y=\"0\" width=\"2400\" height=\"1600\"/>\n",
       "  </clipPath>\n",
       "</defs>\n",
       "<path clip-path=\"url(#clip570)\" d=\"M0 1600 L2400 1600 L2400 0 L0 0  Z\" fill=\"#ffffff\" fill-rule=\"evenodd\" fill-opacity=\"1\"/>\n",
       "<defs>\n",
       "  <clipPath id=\"clip571\">\n",
       "    <rect x=\"480\" y=\"0\" width=\"1681\" height=\"1600\"/>\n",
       "  </clipPath>\n",
       "</defs>\n",
       "<path clip-path=\"url(#clip570)\" d=\"M138.959 1486.45 L2352.76 1486.45 L2352.76 47.2441 L138.959 47.2441  Z\" fill=\"#ffffff\" fill-rule=\"evenodd\" fill-opacity=\"1\"/>\n",
       "<defs>\n",
       "  <clipPath id=\"clip572\">\n",
       "    <rect x=\"138\" y=\"47\" width=\"2215\" height=\"1440\"/>\n",
       "  </clipPath>\n",
       "</defs>\n",
       "<polyline clip-path=\"url(#clip572)\" style=\"stroke:#000000; stroke-linecap:round; stroke-linejoin:round; stroke-width:2; stroke-opacity:0.1; fill:none\" points=\"260.722,1486.45 260.722,47.2441 \"/>\n",
       "<polyline clip-path=\"url(#clip572)\" style=\"stroke:#000000; stroke-linecap:round; stroke-linejoin:round; stroke-width:2; stroke-opacity:0.1; fill:none\" points=\"589.101,1486.45 589.101,47.2441 \"/>\n",
       "<polyline clip-path=\"url(#clip572)\" style=\"stroke:#000000; stroke-linecap:round; stroke-linejoin:round; stroke-width:2; stroke-opacity:0.1; fill:none\" points=\"917.479,1486.45 917.479,47.2441 \"/>\n",
       "<polyline clip-path=\"url(#clip572)\" style=\"stroke:#000000; stroke-linecap:round; stroke-linejoin:round; stroke-width:2; stroke-opacity:0.1; fill:none\" points=\"1245.86,1486.45 1245.86,47.2441 \"/>\n",
       "<polyline clip-path=\"url(#clip572)\" style=\"stroke:#000000; stroke-linecap:round; stroke-linejoin:round; stroke-width:2; stroke-opacity:0.1; fill:none\" points=\"1574.24,1486.45 1574.24,47.2441 \"/>\n",
       "<polyline clip-path=\"url(#clip572)\" style=\"stroke:#000000; stroke-linecap:round; stroke-linejoin:round; stroke-width:2; stroke-opacity:0.1; fill:none\" points=\"1902.61,1486.45 1902.61,47.2441 \"/>\n",
       "<polyline clip-path=\"url(#clip572)\" style=\"stroke:#000000; stroke-linecap:round; stroke-linejoin:round; stroke-width:2; stroke-opacity:0.1; fill:none\" points=\"2230.99,1486.45 2230.99,47.2441 \"/>\n",
       "<polyline clip-path=\"url(#clip570)\" style=\"stroke:#000000; stroke-linecap:round; stroke-linejoin:round; stroke-width:4; stroke-opacity:1; fill:none\" points=\"138.959,1486.45 2352.76,1486.45 \"/>\n",
       "<polyline clip-path=\"url(#clip570)\" style=\"stroke:#000000; stroke-linecap:round; stroke-linejoin:round; stroke-width:4; stroke-opacity:1; fill:none\" points=\"260.722,1486.45 260.722,1467.55 \"/>\n",
       "<polyline clip-path=\"url(#clip570)\" style=\"stroke:#000000; stroke-linecap:round; stroke-linejoin:round; stroke-width:4; stroke-opacity:1; fill:none\" points=\"589.101,1486.45 589.101,1467.55 \"/>\n",
       "<polyline clip-path=\"url(#clip570)\" style=\"stroke:#000000; stroke-linecap:round; stroke-linejoin:round; stroke-width:4; stroke-opacity:1; fill:none\" points=\"917.479,1486.45 917.479,1467.55 \"/>\n",
       "<polyline clip-path=\"url(#clip570)\" style=\"stroke:#000000; stroke-linecap:round; stroke-linejoin:round; stroke-width:4; stroke-opacity:1; fill:none\" points=\"1245.86,1486.45 1245.86,1467.55 \"/>\n",
       "<polyline clip-path=\"url(#clip570)\" style=\"stroke:#000000; stroke-linecap:round; stroke-linejoin:round; stroke-width:4; stroke-opacity:1; fill:none\" points=\"1574.24,1486.45 1574.24,1467.55 \"/>\n",
       "<polyline clip-path=\"url(#clip570)\" style=\"stroke:#000000; stroke-linecap:round; stroke-linejoin:round; stroke-width:4; stroke-opacity:1; fill:none\" points=\"1902.61,1486.45 1902.61,1467.55 \"/>\n",
       "<polyline clip-path=\"url(#clip570)\" style=\"stroke:#000000; stroke-linecap:round; stroke-linejoin:round; stroke-width:4; stroke-opacity:1; fill:none\" points=\"2230.99,1486.45 2230.99,1467.55 \"/>\n",
       "<path clip-path=\"url(#clip570)\" d=\"M223.072 1517.37 Q219.461 1517.37 217.632 1520.93 Q215.827 1524.47 215.827 1531.6 Q215.827 1538.71 217.632 1542.27 Q219.461 1545.82 223.072 1545.82 Q226.706 1545.82 228.512 1542.27 Q230.34 1538.71 230.34 1531.6 Q230.34 1524.47 228.512 1520.93 Q226.706 1517.37 223.072 1517.37 M223.072 1513.66 Q228.882 1513.66 231.938 1518.27 Q235.016 1522.85 235.016 1531.6 Q235.016 1540.33 231.938 1544.94 Q228.882 1549.52 223.072 1549.52 Q217.262 1549.52 214.183 1544.94 Q211.128 1540.33 211.128 1531.6 Q211.128 1522.85 214.183 1518.27 Q217.262 1513.66 223.072 1513.66 Z\" fill=\"#000000\" fill-rule=\"nonzero\" fill-opacity=\"1\" /><path clip-path=\"url(#clip570)\" d=\"M243.234 1542.97 L248.118 1542.97 L248.118 1548.85 L243.234 1548.85 L243.234 1542.97 Z\" fill=\"#000000\" fill-rule=\"nonzero\" fill-opacity=\"1\" /><path clip-path=\"url(#clip570)\" d=\"M258.442 1548.13 L258.442 1543.87 Q260.201 1544.7 262.007 1545.14 Q263.812 1545.58 265.549 1545.58 Q270.178 1545.58 272.609 1542.48 Q275.062 1539.36 275.41 1533.01 Q274.067 1535.01 272.007 1536.07 Q269.947 1537.13 267.447 1537.13 Q262.262 1537.13 259.229 1534.01 Q256.22 1530.86 256.22 1525.42 Q256.22 1520.1 259.368 1516.88 Q262.516 1513.66 267.748 1513.66 Q273.743 1513.66 276.891 1518.27 Q280.062 1522.85 280.062 1531.6 Q280.062 1539.77 276.173 1544.66 Q272.308 1549.52 265.757 1549.52 Q263.998 1549.52 262.192 1549.17 Q260.387 1548.82 258.442 1548.13 M267.748 1533.48 Q270.896 1533.48 272.724 1531.32 Q274.576 1529.17 274.576 1525.42 Q274.576 1521.7 272.724 1519.54 Q270.896 1517.37 267.748 1517.37 Q264.599 1517.37 262.748 1519.54 Q260.919 1521.7 260.919 1525.42 Q260.919 1529.17 262.748 1531.32 Q264.599 1533.48 267.748 1533.48 Z\" fill=\"#000000\" fill-rule=\"nonzero\" fill-opacity=\"1\" /><path clip-path=\"url(#clip570)\" d=\"M298.465 1532.44 Q295.132 1532.44 293.21 1534.22 Q291.312 1536 291.312 1539.13 Q291.312 1542.25 293.21 1544.03 Q295.132 1545.82 298.465 1545.82 Q301.798 1545.82 303.72 1544.03 Q305.641 1542.23 305.641 1539.13 Q305.641 1536 303.72 1534.22 Q301.822 1532.44 298.465 1532.44 M293.789 1530.45 Q290.78 1529.7 289.09 1527.64 Q287.423 1525.58 287.423 1522.62 Q287.423 1518.48 290.363 1516.07 Q293.326 1513.66 298.465 1513.66 Q303.627 1513.66 306.567 1516.07 Q309.507 1518.48 309.507 1522.62 Q309.507 1525.58 307.817 1527.64 Q306.15 1529.7 303.164 1530.45 Q306.544 1531.23 308.419 1533.52 Q310.317 1535.82 310.317 1539.13 Q310.317 1544.15 307.238 1546.83 Q304.183 1549.52 298.465 1549.52 Q292.747 1549.52 289.669 1546.83 Q286.613 1544.15 286.613 1539.13 Q286.613 1535.82 288.511 1533.52 Q290.41 1531.23 293.789 1530.45 M292.076 1523.06 Q292.076 1525.75 293.743 1527.25 Q295.433 1528.76 298.465 1528.76 Q301.474 1528.76 303.164 1527.25 Q304.877 1525.75 304.877 1523.06 Q304.877 1520.38 303.164 1518.87 Q301.474 1517.37 298.465 1517.37 Q295.433 1517.37 293.743 1518.87 Q292.076 1520.38 292.076 1523.06 Z\" fill=\"#000000\" fill-rule=\"nonzero\" fill-opacity=\"1\" /><path clip-path=\"url(#clip570)\" d=\"M551.497 1517.37 Q547.886 1517.37 546.057 1520.93 Q544.251 1524.47 544.251 1531.6 Q544.251 1538.71 546.057 1542.27 Q547.886 1545.82 551.497 1545.82 Q555.131 1545.82 556.937 1542.27 Q558.765 1538.71 558.765 1531.6 Q558.765 1524.47 556.937 1520.93 Q555.131 1517.37 551.497 1517.37 M551.497 1513.66 Q557.307 1513.66 560.362 1518.27 Q563.441 1522.85 563.441 1531.6 Q563.441 1540.33 560.362 1544.94 Q557.307 1549.52 551.497 1549.52 Q545.687 1549.52 542.608 1544.94 Q539.552 1540.33 539.552 1531.6 Q539.552 1522.85 542.608 1518.27 Q545.687 1513.66 551.497 1513.66 Z\" fill=\"#000000\" fill-rule=\"nonzero\" fill-opacity=\"1\" /><path clip-path=\"url(#clip570)\" d=\"M571.659 1542.97 L576.543 1542.97 L576.543 1548.85 L571.659 1548.85 L571.659 1542.97 Z\" fill=\"#000000\" fill-rule=\"nonzero\" fill-opacity=\"1\" /><path clip-path=\"url(#clip570)\" d=\"M586.867 1548.13 L586.867 1543.87 Q588.626 1544.7 590.432 1545.14 Q592.237 1545.58 593.973 1545.58 Q598.603 1545.58 601.033 1542.48 Q603.487 1539.36 603.834 1533.01 Q602.492 1535.01 600.432 1536.07 Q598.371 1537.13 595.871 1537.13 Q590.686 1537.13 587.654 1534.01 Q584.645 1530.86 584.645 1525.42 Q584.645 1520.1 587.793 1516.88 Q590.941 1513.66 596.172 1513.66 Q602.168 1513.66 605.316 1518.27 Q608.487 1522.85 608.487 1531.6 Q608.487 1539.77 604.598 1544.66 Q600.733 1549.52 594.182 1549.52 Q592.422 1549.52 590.617 1549.17 Q588.811 1548.82 586.867 1548.13 M596.172 1533.48 Q599.321 1533.48 601.149 1531.32 Q603.001 1529.17 603.001 1525.42 Q603.001 1521.7 601.149 1519.54 Q599.321 1517.37 596.172 1517.37 Q593.024 1517.37 591.172 1519.54 Q589.344 1521.7 589.344 1525.42 Q589.344 1529.17 591.172 1531.32 Q593.024 1533.48 596.172 1533.48 Z\" fill=\"#000000\" fill-rule=\"nonzero\" fill-opacity=\"1\" /><path clip-path=\"url(#clip570)\" d=\"M617.029 1548.13 L617.029 1543.87 Q618.788 1544.7 620.594 1545.14 Q622.399 1545.58 624.135 1545.58 Q628.765 1545.58 631.195 1542.48 Q633.649 1539.36 633.996 1533.01 Q632.654 1535.01 630.594 1536.07 Q628.533 1537.13 626.033 1537.13 Q620.848 1537.13 617.816 1534.01 Q614.807 1530.86 614.807 1525.42 Q614.807 1520.1 617.955 1516.88 Q621.103 1513.66 626.334 1513.66 Q632.33 1513.66 635.478 1518.27 Q638.649 1522.85 638.649 1531.6 Q638.649 1539.77 634.76 1544.66 Q630.894 1549.52 624.344 1549.52 Q622.584 1549.52 620.779 1549.17 Q618.973 1548.82 617.029 1548.13 M626.334 1533.48 Q629.482 1533.48 631.311 1531.32 Q633.163 1529.17 633.163 1525.42 Q633.163 1521.7 631.311 1519.54 Q629.482 1517.37 626.334 1517.37 Q623.186 1517.37 621.334 1519.54 Q619.506 1521.7 619.506 1525.42 Q619.506 1529.17 621.334 1531.32 Q623.186 1533.48 626.334 1533.48 Z\" fill=\"#000000\" fill-rule=\"nonzero\" fill-opacity=\"1\" /><path clip-path=\"url(#clip570)\" d=\"M869.551 1544.91 L877.19 1544.91 L877.19 1518.55 L868.88 1520.21 L868.88 1515.95 L877.144 1514.29 L881.82 1514.29 L881.82 1544.91 L889.458 1544.91 L889.458 1548.85 L869.551 1548.85 L869.551 1544.91 Z\" fill=\"#000000\" fill-rule=\"nonzero\" fill-opacity=\"1\" /><path clip-path=\"url(#clip570)\" d=\"M898.903 1542.97 L903.787 1542.97 L903.787 1548.85 L898.903 1548.85 L898.903 1542.97 Z\" fill=\"#000000\" fill-rule=\"nonzero\" fill-opacity=\"1\" /><path clip-path=\"url(#clip570)\" d=\"M923.972 1517.37 Q920.361 1517.37 918.532 1520.93 Q916.727 1524.47 916.727 1531.6 Q916.727 1538.71 918.532 1542.27 Q920.361 1545.82 923.972 1545.82 Q927.606 1545.82 929.412 1542.27 Q931.241 1538.71 931.241 1531.6 Q931.241 1524.47 929.412 1520.93 Q927.606 1517.37 923.972 1517.37 M923.972 1513.66 Q929.782 1513.66 932.838 1518.27 Q935.917 1522.85 935.917 1531.6 Q935.917 1540.33 932.838 1544.94 Q929.782 1549.52 923.972 1549.52 Q918.162 1549.52 915.083 1544.94 Q912.028 1540.33 912.028 1531.6 Q912.028 1522.85 915.083 1518.27 Q918.162 1513.66 923.972 1513.66 Z\" fill=\"#000000\" fill-rule=\"nonzero\" fill-opacity=\"1\" /><path clip-path=\"url(#clip570)\" d=\"M954.134 1517.37 Q950.523 1517.37 948.694 1520.93 Q946.889 1524.47 946.889 1531.6 Q946.889 1538.71 948.694 1542.27 Q950.523 1545.82 954.134 1545.82 Q957.768 1545.82 959.574 1542.27 Q961.403 1538.71 961.403 1531.6 Q961.403 1524.47 959.574 1520.93 Q957.768 1517.37 954.134 1517.37 M954.134 1513.66 Q959.944 1513.66 963 1518.27 Q966.078 1522.85 966.078 1531.6 Q966.078 1540.33 963 1544.94 Q959.944 1549.52 954.134 1549.52 Q948.324 1549.52 945.245 1544.94 Q942.19 1540.33 942.19 1531.6 Q942.19 1522.85 945.245 1518.27 Q948.324 1513.66 954.134 1513.66 Z\" fill=\"#000000\" fill-rule=\"nonzero\" fill-opacity=\"1\" /><path clip-path=\"url(#clip570)\" d=\"M1198.54 1544.91 L1206.18 1544.91 L1206.18 1518.55 L1197.87 1520.21 L1197.87 1515.95 L1206.14 1514.29 L1210.81 1514.29 L1210.81 1544.91 L1218.45 1544.91 L1218.45 1548.85 L1198.54 1548.85 L1198.54 1544.91 Z\" fill=\"#000000\" fill-rule=\"nonzero\" fill-opacity=\"1\" /><path clip-path=\"url(#clip570)\" d=\"M1227.89 1542.97 L1232.78 1542.97 L1232.78 1548.85 L1227.89 1548.85 L1227.89 1542.97 Z\" fill=\"#000000\" fill-rule=\"nonzero\" fill-opacity=\"1\" /><path clip-path=\"url(#clip570)\" d=\"M1252.96 1517.37 Q1249.35 1517.37 1247.52 1520.93 Q1245.72 1524.47 1245.72 1531.6 Q1245.72 1538.71 1247.52 1542.27 Q1249.35 1545.82 1252.96 1545.82 Q1256.6 1545.82 1258.4 1542.27 Q1260.23 1538.71 1260.23 1531.6 Q1260.23 1524.47 1258.4 1520.93 Q1256.6 1517.37 1252.96 1517.37 M1252.96 1513.66 Q1258.77 1513.66 1261.83 1518.27 Q1264.91 1522.85 1264.91 1531.6 Q1264.91 1540.33 1261.83 1544.94 Q1258.77 1549.52 1252.96 1549.52 Q1247.15 1549.52 1244.08 1544.94 Q1241.02 1540.33 1241.02 1531.6 Q1241.02 1522.85 1244.08 1518.27 Q1247.15 1513.66 1252.96 1513.66 Z\" fill=\"#000000\" fill-rule=\"nonzero\" fill-opacity=\"1\" /><path clip-path=\"url(#clip570)\" d=\"M1273.94 1544.91 L1281.58 1544.91 L1281.58 1518.55 L1273.26 1520.21 L1273.26 1515.95 L1281.53 1514.29 L1286.2 1514.29 L1286.2 1544.91 L1293.84 1544.91 L1293.84 1548.85 L1273.94 1548.85 L1273.94 1544.91 Z\" fill=\"#000000\" fill-rule=\"nonzero\" fill-opacity=\"1\" /><path clip-path=\"url(#clip570)\" d=\"M1527.11 1544.91 L1534.75 1544.91 L1534.75 1518.55 L1526.44 1520.21 L1526.44 1515.95 L1534.7 1514.29 L1539.38 1514.29 L1539.38 1544.91 L1547.01 1544.91 L1547.01 1548.85 L1527.11 1548.85 L1527.11 1544.91 Z\" fill=\"#000000\" fill-rule=\"nonzero\" fill-opacity=\"1\" /><path clip-path=\"url(#clip570)\" d=\"M1556.46 1542.97 L1561.34 1542.97 L1561.34 1548.85 L1556.46 1548.85 L1556.46 1542.97 Z\" fill=\"#000000\" fill-rule=\"nonzero\" fill-opacity=\"1\" /><path clip-path=\"url(#clip570)\" d=\"M1581.53 1517.37 Q1577.92 1517.37 1576.09 1520.93 Q1574.28 1524.47 1574.28 1531.6 Q1574.28 1538.71 1576.09 1542.27 Q1577.92 1545.82 1581.53 1545.82 Q1585.16 1545.82 1586.97 1542.27 Q1588.8 1538.71 1588.8 1531.6 Q1588.8 1524.47 1586.97 1520.93 Q1585.16 1517.37 1581.53 1517.37 M1581.53 1513.66 Q1587.34 1513.66 1590.39 1518.27 Q1593.47 1522.85 1593.47 1531.6 Q1593.47 1540.33 1590.39 1544.94 Q1587.34 1549.52 1581.53 1549.52 Q1575.72 1549.52 1572.64 1544.94 Q1569.58 1540.33 1569.58 1531.6 Q1569.58 1522.85 1572.64 1518.27 Q1575.72 1513.66 1581.53 1513.66 Z\" fill=\"#000000\" fill-rule=\"nonzero\" fill-opacity=\"1\" /><path clip-path=\"url(#clip570)\" d=\"M1605.72 1544.91 L1622.04 1544.91 L1622.04 1548.85 L1600.09 1548.85 L1600.09 1544.91 Q1602.75 1542.16 1607.34 1537.53 Q1611.94 1532.88 1613.12 1531.53 Q1615.37 1529.01 1616.25 1527.27 Q1617.15 1525.51 1617.15 1523.82 Q1617.15 1521.07 1615.21 1519.33 Q1613.29 1517.6 1610.19 1517.6 Q1607.99 1517.6 1605.53 1518.36 Q1603.1 1519.13 1600.32 1520.68 L1600.32 1515.95 Q1603.15 1514.82 1605.6 1514.24 Q1608.06 1513.66 1610.09 1513.66 Q1615.46 1513.66 1618.66 1516.35 Q1621.85 1519.03 1621.85 1523.52 Q1621.85 1525.65 1621.04 1527.57 Q1620.25 1529.47 1618.15 1532.07 Q1617.57 1532.74 1614.47 1535.95 Q1611.37 1539.15 1605.72 1544.91 Z\" fill=\"#000000\" fill-rule=\"nonzero\" fill-opacity=\"1\" /><path clip-path=\"url(#clip570)\" d=\"M1855.01 1544.91 L1862.65 1544.91 L1862.65 1518.55 L1854.34 1520.21 L1854.34 1515.95 L1862.6 1514.29 L1867.28 1514.29 L1867.28 1544.91 L1874.92 1544.91 L1874.92 1548.85 L1855.01 1548.85 L1855.01 1544.91 Z\" fill=\"#000000\" fill-rule=\"nonzero\" fill-opacity=\"1\" /><path clip-path=\"url(#clip570)\" d=\"M1884.36 1542.97 L1889.25 1542.97 L1889.25 1548.85 L1884.36 1548.85 L1884.36 1542.97 Z\" fill=\"#000000\" fill-rule=\"nonzero\" fill-opacity=\"1\" /><path clip-path=\"url(#clip570)\" d=\"M1909.43 1517.37 Q1905.82 1517.37 1903.99 1520.93 Q1902.19 1524.47 1902.19 1531.6 Q1902.19 1538.71 1903.99 1542.27 Q1905.82 1545.82 1909.43 1545.82 Q1913.07 1545.82 1914.87 1542.27 Q1916.7 1538.71 1916.7 1531.6 Q1916.7 1524.47 1914.87 1520.93 Q1913.07 1517.37 1909.43 1517.37 M1909.43 1513.66 Q1915.24 1513.66 1918.3 1518.27 Q1921.38 1522.85 1921.38 1531.6 Q1921.38 1540.33 1918.3 1544.94 Q1915.24 1549.52 1909.43 1549.52 Q1903.62 1549.52 1900.54 1544.94 Q1897.49 1540.33 1897.49 1531.6 Q1897.49 1522.85 1900.54 1518.27 Q1903.62 1513.66 1909.43 1513.66 Z\" fill=\"#000000\" fill-rule=\"nonzero\" fill-opacity=\"1\" /><path clip-path=\"url(#clip570)\" d=\"M1943.76 1530.21 Q1947.12 1530.93 1948.99 1533.2 Q1950.89 1535.47 1950.89 1538.8 Q1950.89 1543.92 1947.37 1546.72 Q1943.85 1549.52 1937.37 1549.52 Q1935.2 1549.52 1932.88 1549.08 Q1930.59 1548.66 1928.14 1547.81 L1928.14 1543.29 Q1930.08 1544.43 1932.39 1545.01 Q1934.71 1545.58 1937.23 1545.58 Q1941.63 1545.58 1943.92 1543.85 Q1946.24 1542.11 1946.24 1538.8 Q1946.24 1535.75 1944.08 1534.03 Q1941.95 1532.3 1938.14 1532.3 L1934.11 1532.3 L1934.11 1528.45 L1938.32 1528.45 Q1941.77 1528.45 1943.6 1527.09 Q1945.43 1525.7 1945.43 1523.11 Q1945.43 1520.45 1943.53 1519.03 Q1941.65 1517.6 1938.14 1517.6 Q1936.21 1517.6 1934.01 1518.01 Q1931.82 1518.43 1929.18 1519.31 L1929.18 1515.14 Q1931.84 1514.4 1934.15 1514.03 Q1936.49 1513.66 1938.55 1513.66 Q1943.88 1513.66 1946.98 1516.09 Q1950.08 1518.5 1950.08 1522.62 Q1950.08 1525.49 1948.44 1527.48 Q1946.79 1529.45 1943.76 1530.21 Z\" fill=\"#000000\" fill-rule=\"nonzero\" fill-opacity=\"1\" /><path clip-path=\"url(#clip570)\" d=\"M2182.82 1544.91 L2190.46 1544.91 L2190.46 1518.55 L2182.15 1520.21 L2182.15 1515.95 L2190.41 1514.29 L2195.09 1514.29 L2195.09 1544.91 L2202.73 1544.91 L2202.73 1548.85 L2182.82 1548.85 L2182.82 1544.91 Z\" fill=\"#000000\" fill-rule=\"nonzero\" fill-opacity=\"1\" /><path clip-path=\"url(#clip570)\" d=\"M2212.17 1542.97 L2217.06 1542.97 L2217.06 1548.85 L2212.17 1548.85 L2212.17 1542.97 Z\" fill=\"#000000\" fill-rule=\"nonzero\" fill-opacity=\"1\" /><path clip-path=\"url(#clip570)\" d=\"M2237.24 1517.37 Q2233.63 1517.37 2231.8 1520.93 Q2230 1524.47 2230 1531.6 Q2230 1538.71 2231.8 1542.27 Q2233.63 1545.82 2237.24 1545.82 Q2240.88 1545.82 2242.68 1542.27 Q2244.51 1538.71 2244.51 1531.6 Q2244.51 1524.47 2242.68 1520.93 Q2240.88 1517.37 2237.24 1517.37 M2237.24 1513.66 Q2243.05 1513.66 2246.11 1518.27 Q2249.19 1522.85 2249.19 1531.6 Q2249.19 1540.33 2246.11 1544.94 Q2243.05 1549.52 2237.24 1549.52 Q2231.43 1549.52 2228.35 1544.94 Q2225.3 1540.33 2225.3 1531.6 Q2225.3 1522.85 2228.35 1518.27 Q2231.43 1513.66 2237.24 1513.66 Z\" fill=\"#000000\" fill-rule=\"nonzero\" fill-opacity=\"1\" /><path clip-path=\"url(#clip570)\" d=\"M2270.25 1518.36 L2258.45 1536.81 L2270.25 1536.81 L2270.25 1518.36 M2269.03 1514.29 L2274.9 1514.29 L2274.9 1536.81 L2279.84 1536.81 L2279.84 1540.7 L2274.9 1540.7 L2274.9 1548.85 L2270.25 1548.85 L2270.25 1540.7 L2254.65 1540.7 L2254.65 1536.19 L2269.03 1514.29 Z\" fill=\"#000000\" fill-rule=\"nonzero\" fill-opacity=\"1\" /><polyline clip-path=\"url(#clip572)\" style=\"stroke:#000000; stroke-linecap:round; stroke-linejoin:round; stroke-width:2; stroke-opacity:0.1; fill:none\" points=\"138.959,1486.45 2352.76,1486.45 \"/>\n",
       "<polyline clip-path=\"url(#clip572)\" style=\"stroke:#000000; stroke-linecap:round; stroke-linejoin:round; stroke-width:2; stroke-opacity:0.1; fill:none\" points=\"138.959,1198.61 2352.76,1198.61 \"/>\n",
       "<polyline clip-path=\"url(#clip572)\" style=\"stroke:#000000; stroke-linecap:round; stroke-linejoin:round; stroke-width:2; stroke-opacity:0.1; fill:none\" points=\"138.959,910.766 2352.76,910.766 \"/>\n",
       "<polyline clip-path=\"url(#clip572)\" style=\"stroke:#000000; stroke-linecap:round; stroke-linejoin:round; stroke-width:2; stroke-opacity:0.1; fill:none\" points=\"138.959,622.926 2352.76,622.926 \"/>\n",
       "<polyline clip-path=\"url(#clip572)\" style=\"stroke:#000000; stroke-linecap:round; stroke-linejoin:round; stroke-width:2; stroke-opacity:0.1; fill:none\" points=\"138.959,335.085 2352.76,335.085 \"/>\n",
       "<polyline clip-path=\"url(#clip572)\" style=\"stroke:#000000; stroke-linecap:round; stroke-linejoin:round; stroke-width:2; stroke-opacity:0.1; fill:none\" points=\"138.959,47.2441 2352.76,47.2441 \"/>\n",
       "<polyline clip-path=\"url(#clip570)\" style=\"stroke:#000000; stroke-linecap:round; stroke-linejoin:round; stroke-width:4; stroke-opacity:1; fill:none\" points=\"138.959,1486.45 138.959,47.2441 \"/>\n",
       "<polyline clip-path=\"url(#clip570)\" style=\"stroke:#000000; stroke-linecap:round; stroke-linejoin:round; stroke-width:4; stroke-opacity:1; fill:none\" points=\"138.959,1486.45 157.857,1486.45 \"/>\n",
       "<polyline clip-path=\"url(#clip570)\" style=\"stroke:#000000; stroke-linecap:round; stroke-linejoin:round; stroke-width:4; stroke-opacity:1; fill:none\" points=\"138.959,1198.61 157.857,1198.61 \"/>\n",
       "<polyline clip-path=\"url(#clip570)\" style=\"stroke:#000000; stroke-linecap:round; stroke-linejoin:round; stroke-width:4; stroke-opacity:1; fill:none\" points=\"138.959,910.766 157.857,910.766 \"/>\n",
       "<polyline clip-path=\"url(#clip570)\" style=\"stroke:#000000; stroke-linecap:round; stroke-linejoin:round; stroke-width:4; stroke-opacity:1; fill:none\" points=\"138.959,622.926 157.857,622.926 \"/>\n",
       "<polyline clip-path=\"url(#clip570)\" style=\"stroke:#000000; stroke-linecap:round; stroke-linejoin:round; stroke-width:4; stroke-opacity:1; fill:none\" points=\"138.959,335.085 157.857,335.085 \"/>\n",
       "<polyline clip-path=\"url(#clip570)\" style=\"stroke:#000000; stroke-linecap:round; stroke-linejoin:round; stroke-width:4; stroke-opacity:1; fill:none\" points=\"138.959,47.2441 157.857,47.2441 \"/>\n",
       "<path clip-path=\"url(#clip570)\" d=\"M91.0151 1472.25 Q87.404 1472.25 85.5753 1475.81 Q83.7697 1479.35 83.7697 1486.48 Q83.7697 1493.59 85.5753 1497.15 Q87.404 1500.7 91.0151 1500.7 Q94.6493 1500.7 96.4548 1497.15 Q98.2835 1493.59 98.2835 1486.48 Q98.2835 1479.35 96.4548 1475.81 Q94.6493 1472.25 91.0151 1472.25 M91.0151 1468.54 Q96.8252 1468.54 99.8808 1473.15 Q102.959 1477.73 102.959 1486.48 Q102.959 1495.21 99.8808 1499.82 Q96.8252 1504.4 91.0151 1504.4 Q85.2049 1504.4 82.1262 1499.82 Q79.0707 1495.21 79.0707 1486.48 Q79.0707 1477.73 82.1262 1473.15 Q85.2049 1468.54 91.0151 1468.54 Z\" fill=\"#000000\" fill-rule=\"nonzero\" fill-opacity=\"1\" /><path clip-path=\"url(#clip570)\" d=\"M86.6401 1211.95 L102.959 1211.95 L102.959 1215.89 L81.0151 1215.89 L81.0151 1211.95 Q83.6771 1209.2 88.2604 1204.57 Q92.8669 1199.91 94.0475 1198.57 Q96.2928 1196.05 97.1724 1194.31 Q98.0752 1192.55 98.0752 1190.86 Q98.0752 1188.11 96.1308 1186.37 Q94.2095 1184.64 91.1077 1184.64 Q88.9086 1184.64 86.4549 1185.4 Q84.0244 1186.17 81.2466 1187.72 L81.2466 1182.99 Q84.0707 1181.86 86.5243 1181.28 Q88.978 1180.7 91.0151 1180.7 Q96.3854 1180.7 99.5798 1183.39 Q102.774 1186.07 102.774 1190.56 Q102.774 1192.69 101.964 1194.61 Q101.177 1196.51 99.0706 1199.1 Q98.4919 1199.78 95.39 1202.99 Q92.2882 1206.19 86.6401 1211.95 Z\" fill=\"#000000\" fill-rule=\"nonzero\" fill-opacity=\"1\" /><path clip-path=\"url(#clip570)\" d=\"M93.3762 897.56 L81.5707 916.009 L93.3762 916.009 L93.3762 897.56 M92.1493 893.486 L98.0289 893.486 L98.0289 916.009 L102.959 916.009 L102.959 919.898 L98.0289 919.898 L98.0289 928.046 L93.3762 928.046 L93.3762 919.898 L77.7744 919.898 L77.7744 915.384 L92.1493 893.486 Z\" fill=\"#000000\" fill-rule=\"nonzero\" fill-opacity=\"1\" /><path clip-path=\"url(#clip570)\" d=\"M91.4317 621.062 Q88.2836 621.062 86.4318 623.215 Q84.6031 625.368 84.6031 629.118 Q84.6031 632.845 86.4318 635.02 Q88.2836 637.173 91.4317 637.173 Q94.5799 637.173 96.4085 635.02 Q98.2604 632.845 98.2604 629.118 Q98.2604 625.368 96.4085 623.215 Q94.5799 621.062 91.4317 621.062 M100.714 606.409 L100.714 610.669 Q98.9548 609.835 97.1493 609.396 Q95.3669 608.956 93.6076 608.956 Q88.978 608.956 86.5243 612.081 Q84.0938 615.206 83.7466 621.525 Q85.1123 619.511 87.1725 618.446 Q89.2327 617.359 91.7095 617.359 Q96.9178 617.359 99.927 620.53 Q102.959 623.678 102.959 629.118 Q102.959 634.442 99.8113 637.659 Q96.6632 640.877 91.4317 640.877 Q85.4364 640.877 82.2651 636.294 Q79.0938 631.687 79.0938 622.96 Q79.0938 614.766 82.9827 609.905 Q86.8716 605.021 93.4225 605.021 Q95.1817 605.021 96.9641 605.368 Q98.7696 605.715 100.714 606.409 Z\" fill=\"#000000\" fill-rule=\"nonzero\" fill-opacity=\"1\" /><path clip-path=\"url(#clip570)\" d=\"M91.1077 335.953 Q87.7743 335.953 85.8531 337.735 Q83.9549 339.518 83.9549 342.643 Q83.9549 345.768 85.8531 347.55 Q87.7743 349.332 91.1077 349.332 Q94.441 349.332 96.3623 347.55 Q98.2835 345.745 98.2835 342.643 Q98.2835 339.518 96.3623 337.735 Q94.4641 335.953 91.1077 335.953 M86.4318 333.962 Q83.4225 333.221 81.7327 331.161 Q80.066 329.101 80.066 326.138 Q80.066 321.995 83.0058 319.587 Q85.9688 317.18 91.1077 317.18 Q96.2697 317.18 99.2095 319.587 Q102.149 321.995 102.149 326.138 Q102.149 329.101 100.459 331.161 Q98.7928 333.221 95.8067 333.962 Q99.1863 334.749 101.061 337.041 Q102.959 339.333 102.959 342.643 Q102.959 347.666 99.8808 350.351 Q96.8252 353.036 91.1077 353.036 Q85.3901 353.036 82.3114 350.351 Q79.2559 347.666 79.2559 342.643 Q79.2559 339.333 81.154 337.041 Q83.0521 334.749 86.4318 333.962 M84.7188 326.578 Q84.7188 329.263 86.3855 330.768 Q88.0753 332.272 91.1077 332.272 Q94.1169 332.272 95.8067 330.768 Q97.5197 329.263 97.5197 326.578 Q97.5197 323.893 95.8067 322.388 Q94.1169 320.884 91.1077 320.884 Q88.0753 320.884 86.3855 322.388 Q84.7188 323.893 84.7188 326.578 Z\" fill=\"#000000\" fill-rule=\"nonzero\" fill-opacity=\"1\" /><path clip-path=\"url(#clip570)\" d=\"M51.6634 60.5889 L59.3023 60.5889 L59.3023 34.2233 L50.9921 35.89 L50.9921 31.6308 L59.256 29.9641 L63.9319 29.9641 L63.9319 60.5889 L71.5707 60.5889 L71.5707 64.5241 L51.6634 64.5241 L51.6634 60.5889 Z\" fill=\"#000000\" fill-rule=\"nonzero\" fill-opacity=\"1\" /><path clip-path=\"url(#clip570)\" d=\"M91.0151 33.0428 Q87.404 33.0428 85.5753 36.6076 Q83.7697 40.1492 83.7697 47.2788 Q83.7697 54.3853 85.5753 57.9501 Q87.404 61.4917 91.0151 61.4917 Q94.6493 61.4917 96.4548 57.9501 Q98.2835 54.3853 98.2835 47.2788 Q98.2835 40.1492 96.4548 36.6076 Q94.6493 33.0428 91.0151 33.0428 M91.0151 29.3391 Q96.8252 29.3391 99.8808 33.9456 Q102.959 38.5289 102.959 47.2788 Q102.959 56.0056 99.8808 60.6121 Q96.8252 65.1954 91.0151 65.1954 Q85.2049 65.1954 82.1262 60.6121 Q79.0707 56.0056 79.0707 47.2788 Q79.0707 38.5289 82.1262 33.9456 Q85.2049 29.3391 91.0151 29.3391 Z\" fill=\"#000000\" fill-rule=\"nonzero\" fill-opacity=\"1\" /><path clip-path=\"url(#clip572)\" d=\"M260.722 1198.61 L260.722 1486.45 L589.101 1486.45 L589.101 1198.61 L260.722 1198.61 L260.722 1198.61  Z\" fill=\"#009af9\" fill-rule=\"evenodd\" fill-opacity=\"1\"/>\n",
       "<polyline clip-path=\"url(#clip572)\" style=\"stroke:#000000; stroke-linecap:round; stroke-linejoin:round; stroke-width:4; stroke-opacity:1; fill:none\" points=\"260.722,1198.61 260.722,1486.45 589.101,1486.45 589.101,1198.61 260.722,1198.61 \"/>\n",
       "<path clip-path=\"url(#clip572)\" d=\"M589.101 47.2441 L589.101 1486.45 L917.479 1486.45 L917.479 47.2441 L589.101 47.2441 L589.101 47.2441  Z\" fill=\"#009af9\" fill-rule=\"evenodd\" fill-opacity=\"1\"/>\n",
       "<polyline clip-path=\"url(#clip572)\" style=\"stroke:#000000; stroke-linecap:round; stroke-linejoin:round; stroke-width:4; stroke-opacity:1; fill:none\" points=\"589.101,47.2441 589.101,1486.45 917.479,1486.45 917.479,47.2441 589.101,47.2441 \"/>\n",
       "<path clip-path=\"url(#clip572)\" d=\"M917.479 766.846 L917.479 1486.45 L1245.86 1486.45 L1245.86 766.846 L917.479 766.846 L917.479 766.846  Z\" fill=\"#009af9\" fill-rule=\"evenodd\" fill-opacity=\"1\"/>\n",
       "<polyline clip-path=\"url(#clip572)\" style=\"stroke:#000000; stroke-linecap:round; stroke-linejoin:round; stroke-width:4; stroke-opacity:1; fill:none\" points=\"917.479,766.846 917.479,1486.45 1245.86,1486.45 1245.86,766.846 917.479,766.846 \"/>\n",
       "<path clip-path=\"url(#clip572)\" d=\"M1245.86 1342.53 L1245.86 1486.45 L1574.24 1486.45 L1574.24 1342.53 L1245.86 1342.53 L1245.86 1342.53  Z\" fill=\"#009af9\" fill-rule=\"evenodd\" fill-opacity=\"1\"/>\n",
       "<polyline clip-path=\"url(#clip572)\" style=\"stroke:#000000; stroke-linecap:round; stroke-linejoin:round; stroke-width:4; stroke-opacity:1; fill:none\" points=\"1245.86,1342.53 1245.86,1486.45 1574.24,1486.45 1574.24,1342.53 1245.86,1342.53 \"/>\n",
       "<path clip-path=\"url(#clip572)\" d=\"M1574.24 1342.53 L1574.24 1486.45 L1902.61 1486.45 L1902.61 1342.53 L1574.24 1342.53 L1574.24 1342.53  Z\" fill=\"#009af9\" fill-rule=\"evenodd\" fill-opacity=\"1\"/>\n",
       "<polyline clip-path=\"url(#clip572)\" style=\"stroke:#000000; stroke-linecap:round; stroke-linejoin:round; stroke-width:4; stroke-opacity:1; fill:none\" points=\"1574.24,1342.53 1574.24,1486.45 1902.61,1486.45 1902.61,1342.53 1574.24,1342.53 \"/>\n",
       "<path clip-path=\"url(#clip572)\" d=\"M1902.61 1342.53 L1902.61 1486.45 L2230.99 1486.45 L2230.99 1342.53 L1902.61 1342.53 L1902.61 1342.53  Z\" fill=\"#009af9\" fill-rule=\"evenodd\" fill-opacity=\"1\"/>\n",
       "<polyline clip-path=\"url(#clip572)\" style=\"stroke:#000000; stroke-linecap:round; stroke-linejoin:round; stroke-width:4; stroke-opacity:1; fill:none\" points=\"1902.61,1342.53 1902.61,1486.45 2230.99,1486.45 2230.99,1342.53 1902.61,1342.53 \"/>\n",
       "<circle clip-path=\"url(#clip572)\" style=\"fill:#009af9; stroke:none; fill-opacity:0\" cx=\"424.911\" cy=\"1198.61\" r=\"2\"/>\n",
       "<circle clip-path=\"url(#clip572)\" style=\"fill:#009af9; stroke:none; fill-opacity:0\" cx=\"753.29\" cy=\"47.2441\" r=\"2\"/>\n",
       "<circle clip-path=\"url(#clip572)\" style=\"fill:#009af9; stroke:none; fill-opacity:0\" cx=\"1081.67\" cy=\"766.846\" r=\"2\"/>\n",
       "<circle clip-path=\"url(#clip572)\" style=\"fill:#009af9; stroke:none; fill-opacity:0\" cx=\"1410.05\" cy=\"1342.53\" r=\"2\"/>\n",
       "<circle clip-path=\"url(#clip572)\" style=\"fill:#009af9; stroke:none; fill-opacity:0\" cx=\"1738.43\" cy=\"1342.53\" r=\"2\"/>\n",
       "<circle clip-path=\"url(#clip572)\" style=\"fill:#009af9; stroke:none; fill-opacity:0\" cx=\"2066.8\" cy=\"1342.53\" r=\"2\"/>\n",
       "<path clip-path=\"url(#clip570)\" d=\"M2005.15 198.898 L2278.96 198.898 L2278.96 95.2176 L2005.15 95.2176  Z\" fill=\"#ffffff\" fill-rule=\"evenodd\" fill-opacity=\"1\"/>\n",
       "<polyline clip-path=\"url(#clip570)\" style=\"stroke:#000000; stroke-linecap:round; stroke-linejoin:round; stroke-width:4; stroke-opacity:1; fill:none\" points=\"2005.15,198.898 2278.96,198.898 2278.96,95.2176 2005.15,95.2176 2005.15,198.898 \"/>\n",
       "<path clip-path=\"url(#clip570)\" d=\"M2029.75 167.794 L2177.34 167.794 L2177.34 126.322 L2029.75 126.322 L2029.75 167.794  Z\" fill=\"#009af9\" fill-rule=\"evenodd\" fill-opacity=\"1\"/>\n",
       "<polyline clip-path=\"url(#clip570)\" style=\"stroke:#000000; stroke-linecap:round; stroke-linejoin:round; stroke-width:4; stroke-opacity:1; fill:none\" points=\"2029.75,167.794 2177.34,167.794 2177.34,126.322 2029.75,126.322 2029.75,167.794 \"/>\n",
       "<path clip-path=\"url(#clip570)\" d=\"M2215.78 166.745 Q2213.97 171.375 2212.26 172.787 Q2210.55 174.199 2207.68 174.199 L2204.27 174.199 L2204.27 170.634 L2206.77 170.634 Q2208.53 170.634 2209.5 169.8 Q2210.48 168.967 2211.66 165.865 L2212.42 163.921 L2201.93 138.412 L2206.45 138.412 L2214.55 158.689 L2222.65 138.412 L2227.17 138.412 L2215.78 166.745 Z\" fill=\"#000000\" fill-rule=\"nonzero\" fill-opacity=\"1\" /><path clip-path=\"url(#clip570)\" d=\"M2234.46 160.402 L2242.1 160.402 L2242.1 134.037 L2233.79 135.703 L2233.79 131.444 L2242.05 129.778 L2246.73 129.778 L2246.73 160.402 L2254.36 160.402 L2254.36 164.338 L2234.46 164.338 L2234.46 160.402 Z\" fill=\"#000000\" fill-rule=\"nonzero\" fill-opacity=\"1\" /></svg>\n"
      ],
      "text/html": [
       "<?xml version=\"1.0\" encoding=\"utf-8\"?>\n",
       "<svg xmlns=\"http://www.w3.org/2000/svg\" xmlns:xlink=\"http://www.w3.org/1999/xlink\" width=\"600\" height=\"400\" viewBox=\"0 0 2400 1600\">\n",
       "<defs>\n",
       "  <clipPath id=\"clip620\">\n",
       "    <rect x=\"0\" y=\"0\" width=\"2400\" height=\"1600\"/>\n",
       "  </clipPath>\n",
       "</defs>\n",
       "<path clip-path=\"url(#clip620)\" d=\"M0 1600 L2400 1600 L2400 0 L0 0  Z\" fill=\"#ffffff\" fill-rule=\"evenodd\" fill-opacity=\"1\"/>\n",
       "<defs>\n",
       "  <clipPath id=\"clip621\">\n",
       "    <rect x=\"480\" y=\"0\" width=\"1681\" height=\"1600\"/>\n",
       "  </clipPath>\n",
       "</defs>\n",
       "<path clip-path=\"url(#clip620)\" d=\"M138.959 1486.45 L2352.76 1486.45 L2352.76 47.2441 L138.959 47.2441  Z\" fill=\"#ffffff\" fill-rule=\"evenodd\" fill-opacity=\"1\"/>\n",
       "<defs>\n",
       "  <clipPath id=\"clip622\">\n",
       "    <rect x=\"138\" y=\"47\" width=\"2215\" height=\"1440\"/>\n",
       "  </clipPath>\n",
       "</defs>\n",
       "<polyline clip-path=\"url(#clip622)\" style=\"stroke:#000000; stroke-linecap:round; stroke-linejoin:round; stroke-width:2; stroke-opacity:0.1; fill:none\" points=\"260.722,1486.45 260.722,47.2441 \"/>\n",
       "<polyline clip-path=\"url(#clip622)\" style=\"stroke:#000000; stroke-linecap:round; stroke-linejoin:round; stroke-width:2; stroke-opacity:0.1; fill:none\" points=\"589.101,1486.45 589.101,47.2441 \"/>\n",
       "<polyline clip-path=\"url(#clip622)\" style=\"stroke:#000000; stroke-linecap:round; stroke-linejoin:round; stroke-width:2; stroke-opacity:0.1; fill:none\" points=\"917.479,1486.45 917.479,47.2441 \"/>\n",
       "<polyline clip-path=\"url(#clip622)\" style=\"stroke:#000000; stroke-linecap:round; stroke-linejoin:round; stroke-width:2; stroke-opacity:0.1; fill:none\" points=\"1245.86,1486.45 1245.86,47.2441 \"/>\n",
       "<polyline clip-path=\"url(#clip622)\" style=\"stroke:#000000; stroke-linecap:round; stroke-linejoin:round; stroke-width:2; stroke-opacity:0.1; fill:none\" points=\"1574.24,1486.45 1574.24,47.2441 \"/>\n",
       "<polyline clip-path=\"url(#clip622)\" style=\"stroke:#000000; stroke-linecap:round; stroke-linejoin:round; stroke-width:2; stroke-opacity:0.1; fill:none\" points=\"1902.61,1486.45 1902.61,47.2441 \"/>\n",
       "<polyline clip-path=\"url(#clip622)\" style=\"stroke:#000000; stroke-linecap:round; stroke-linejoin:round; stroke-width:2; stroke-opacity:0.1; fill:none\" points=\"2230.99,1486.45 2230.99,47.2441 \"/>\n",
       "<polyline clip-path=\"url(#clip620)\" style=\"stroke:#000000; stroke-linecap:round; stroke-linejoin:round; stroke-width:4; stroke-opacity:1; fill:none\" points=\"138.959,1486.45 2352.76,1486.45 \"/>\n",
       "<polyline clip-path=\"url(#clip620)\" style=\"stroke:#000000; stroke-linecap:round; stroke-linejoin:round; stroke-width:4; stroke-opacity:1; fill:none\" points=\"260.722,1486.45 260.722,1467.55 \"/>\n",
       "<polyline clip-path=\"url(#clip620)\" style=\"stroke:#000000; stroke-linecap:round; stroke-linejoin:round; stroke-width:4; stroke-opacity:1; fill:none\" points=\"589.101,1486.45 589.101,1467.55 \"/>\n",
       "<polyline clip-path=\"url(#clip620)\" style=\"stroke:#000000; stroke-linecap:round; stroke-linejoin:round; stroke-width:4; stroke-opacity:1; fill:none\" points=\"917.479,1486.45 917.479,1467.55 \"/>\n",
       "<polyline clip-path=\"url(#clip620)\" style=\"stroke:#000000; stroke-linecap:round; stroke-linejoin:round; stroke-width:4; stroke-opacity:1; fill:none\" points=\"1245.86,1486.45 1245.86,1467.55 \"/>\n",
       "<polyline clip-path=\"url(#clip620)\" style=\"stroke:#000000; stroke-linecap:round; stroke-linejoin:round; stroke-width:4; stroke-opacity:1; fill:none\" points=\"1574.24,1486.45 1574.24,1467.55 \"/>\n",
       "<polyline clip-path=\"url(#clip620)\" style=\"stroke:#000000; stroke-linecap:round; stroke-linejoin:round; stroke-width:4; stroke-opacity:1; fill:none\" points=\"1902.61,1486.45 1902.61,1467.55 \"/>\n",
       "<polyline clip-path=\"url(#clip620)\" style=\"stroke:#000000; stroke-linecap:round; stroke-linejoin:round; stroke-width:4; stroke-opacity:1; fill:none\" points=\"2230.99,1486.45 2230.99,1467.55 \"/>\n",
       "<path clip-path=\"url(#clip620)\" d=\"M223.072 1517.37 Q219.461 1517.37 217.632 1520.93 Q215.827 1524.47 215.827 1531.6 Q215.827 1538.71 217.632 1542.27 Q219.461 1545.82 223.072 1545.82 Q226.706 1545.82 228.512 1542.27 Q230.34 1538.71 230.34 1531.6 Q230.34 1524.47 228.512 1520.93 Q226.706 1517.37 223.072 1517.37 M223.072 1513.66 Q228.882 1513.66 231.938 1518.27 Q235.016 1522.85 235.016 1531.6 Q235.016 1540.33 231.938 1544.94 Q228.882 1549.52 223.072 1549.52 Q217.262 1549.52 214.183 1544.94 Q211.128 1540.33 211.128 1531.6 Q211.128 1522.85 214.183 1518.27 Q217.262 1513.66 223.072 1513.66 Z\" fill=\"#000000\" fill-rule=\"nonzero\" fill-opacity=\"1\" /><path clip-path=\"url(#clip620)\" d=\"M243.234 1542.97 L248.118 1542.97 L248.118 1548.85 L243.234 1548.85 L243.234 1542.97 Z\" fill=\"#000000\" fill-rule=\"nonzero\" fill-opacity=\"1\" /><path clip-path=\"url(#clip620)\" d=\"M258.442 1548.13 L258.442 1543.87 Q260.201 1544.7 262.007 1545.14 Q263.812 1545.58 265.549 1545.58 Q270.178 1545.58 272.609 1542.48 Q275.062 1539.36 275.41 1533.01 Q274.067 1535.01 272.007 1536.07 Q269.947 1537.13 267.447 1537.13 Q262.262 1537.13 259.229 1534.01 Q256.22 1530.86 256.22 1525.42 Q256.22 1520.1 259.368 1516.88 Q262.516 1513.66 267.748 1513.66 Q273.743 1513.66 276.891 1518.27 Q280.062 1522.85 280.062 1531.6 Q280.062 1539.77 276.173 1544.66 Q272.308 1549.52 265.757 1549.52 Q263.998 1549.52 262.192 1549.17 Q260.387 1548.82 258.442 1548.13 M267.748 1533.48 Q270.896 1533.48 272.724 1531.32 Q274.576 1529.17 274.576 1525.42 Q274.576 1521.7 272.724 1519.54 Q270.896 1517.37 267.748 1517.37 Q264.599 1517.37 262.748 1519.54 Q260.919 1521.7 260.919 1525.42 Q260.919 1529.17 262.748 1531.32 Q264.599 1533.48 267.748 1533.48 Z\" fill=\"#000000\" fill-rule=\"nonzero\" fill-opacity=\"1\" /><path clip-path=\"url(#clip620)\" d=\"M298.465 1532.44 Q295.132 1532.44 293.21 1534.22 Q291.312 1536 291.312 1539.13 Q291.312 1542.25 293.21 1544.03 Q295.132 1545.82 298.465 1545.82 Q301.798 1545.82 303.72 1544.03 Q305.641 1542.23 305.641 1539.13 Q305.641 1536 303.72 1534.22 Q301.822 1532.44 298.465 1532.44 M293.789 1530.45 Q290.78 1529.7 289.09 1527.64 Q287.423 1525.58 287.423 1522.62 Q287.423 1518.48 290.363 1516.07 Q293.326 1513.66 298.465 1513.66 Q303.627 1513.66 306.567 1516.07 Q309.507 1518.48 309.507 1522.62 Q309.507 1525.58 307.817 1527.64 Q306.15 1529.7 303.164 1530.45 Q306.544 1531.23 308.419 1533.52 Q310.317 1535.82 310.317 1539.13 Q310.317 1544.15 307.238 1546.83 Q304.183 1549.52 298.465 1549.52 Q292.747 1549.52 289.669 1546.83 Q286.613 1544.15 286.613 1539.13 Q286.613 1535.82 288.511 1533.52 Q290.41 1531.23 293.789 1530.45 M292.076 1523.06 Q292.076 1525.75 293.743 1527.25 Q295.433 1528.76 298.465 1528.76 Q301.474 1528.76 303.164 1527.25 Q304.877 1525.75 304.877 1523.06 Q304.877 1520.38 303.164 1518.87 Q301.474 1517.37 298.465 1517.37 Q295.433 1517.37 293.743 1518.87 Q292.076 1520.38 292.076 1523.06 Z\" fill=\"#000000\" fill-rule=\"nonzero\" fill-opacity=\"1\" /><path clip-path=\"url(#clip620)\" d=\"M551.497 1517.37 Q547.886 1517.37 546.057 1520.93 Q544.251 1524.47 544.251 1531.6 Q544.251 1538.71 546.057 1542.27 Q547.886 1545.82 551.497 1545.82 Q555.131 1545.82 556.937 1542.27 Q558.765 1538.71 558.765 1531.6 Q558.765 1524.47 556.937 1520.93 Q555.131 1517.37 551.497 1517.37 M551.497 1513.66 Q557.307 1513.66 560.362 1518.27 Q563.441 1522.85 563.441 1531.6 Q563.441 1540.33 560.362 1544.94 Q557.307 1549.52 551.497 1549.52 Q545.687 1549.52 542.608 1544.94 Q539.552 1540.33 539.552 1531.6 Q539.552 1522.85 542.608 1518.27 Q545.687 1513.66 551.497 1513.66 Z\" fill=\"#000000\" fill-rule=\"nonzero\" fill-opacity=\"1\" /><path clip-path=\"url(#clip620)\" d=\"M571.659 1542.97 L576.543 1542.97 L576.543 1548.85 L571.659 1548.85 L571.659 1542.97 Z\" fill=\"#000000\" fill-rule=\"nonzero\" fill-opacity=\"1\" /><path clip-path=\"url(#clip620)\" d=\"M586.867 1548.13 L586.867 1543.87 Q588.626 1544.7 590.432 1545.14 Q592.237 1545.58 593.973 1545.58 Q598.603 1545.58 601.033 1542.48 Q603.487 1539.36 603.834 1533.01 Q602.492 1535.01 600.432 1536.07 Q598.371 1537.13 595.871 1537.13 Q590.686 1537.13 587.654 1534.01 Q584.645 1530.86 584.645 1525.42 Q584.645 1520.1 587.793 1516.88 Q590.941 1513.66 596.172 1513.66 Q602.168 1513.66 605.316 1518.27 Q608.487 1522.85 608.487 1531.6 Q608.487 1539.77 604.598 1544.66 Q600.733 1549.52 594.182 1549.52 Q592.422 1549.52 590.617 1549.17 Q588.811 1548.82 586.867 1548.13 M596.172 1533.48 Q599.321 1533.48 601.149 1531.32 Q603.001 1529.17 603.001 1525.42 Q603.001 1521.7 601.149 1519.54 Q599.321 1517.37 596.172 1517.37 Q593.024 1517.37 591.172 1519.54 Q589.344 1521.7 589.344 1525.42 Q589.344 1529.17 591.172 1531.32 Q593.024 1533.48 596.172 1533.48 Z\" fill=\"#000000\" fill-rule=\"nonzero\" fill-opacity=\"1\" /><path clip-path=\"url(#clip620)\" d=\"M617.029 1548.13 L617.029 1543.87 Q618.788 1544.7 620.594 1545.14 Q622.399 1545.58 624.135 1545.58 Q628.765 1545.58 631.195 1542.48 Q633.649 1539.36 633.996 1533.01 Q632.654 1535.01 630.594 1536.07 Q628.533 1537.13 626.033 1537.13 Q620.848 1537.13 617.816 1534.01 Q614.807 1530.86 614.807 1525.42 Q614.807 1520.1 617.955 1516.88 Q621.103 1513.66 626.334 1513.66 Q632.33 1513.66 635.478 1518.27 Q638.649 1522.85 638.649 1531.6 Q638.649 1539.77 634.76 1544.66 Q630.894 1549.52 624.344 1549.52 Q622.584 1549.52 620.779 1549.17 Q618.973 1548.82 617.029 1548.13 M626.334 1533.48 Q629.482 1533.48 631.311 1531.32 Q633.163 1529.17 633.163 1525.42 Q633.163 1521.7 631.311 1519.54 Q629.482 1517.37 626.334 1517.37 Q623.186 1517.37 621.334 1519.54 Q619.506 1521.7 619.506 1525.42 Q619.506 1529.17 621.334 1531.32 Q623.186 1533.48 626.334 1533.48 Z\" fill=\"#000000\" fill-rule=\"nonzero\" fill-opacity=\"1\" /><path clip-path=\"url(#clip620)\" d=\"M869.551 1544.91 L877.19 1544.91 L877.19 1518.55 L868.88 1520.21 L868.88 1515.95 L877.144 1514.29 L881.82 1514.29 L881.82 1544.91 L889.458 1544.91 L889.458 1548.85 L869.551 1548.85 L869.551 1544.91 Z\" fill=\"#000000\" fill-rule=\"nonzero\" fill-opacity=\"1\" /><path clip-path=\"url(#clip620)\" d=\"M898.903 1542.97 L903.787 1542.97 L903.787 1548.85 L898.903 1548.85 L898.903 1542.97 Z\" fill=\"#000000\" fill-rule=\"nonzero\" fill-opacity=\"1\" /><path clip-path=\"url(#clip620)\" d=\"M923.972 1517.37 Q920.361 1517.37 918.532 1520.93 Q916.727 1524.47 916.727 1531.6 Q916.727 1538.71 918.532 1542.27 Q920.361 1545.82 923.972 1545.82 Q927.606 1545.82 929.412 1542.27 Q931.241 1538.71 931.241 1531.6 Q931.241 1524.47 929.412 1520.93 Q927.606 1517.37 923.972 1517.37 M923.972 1513.66 Q929.782 1513.66 932.838 1518.27 Q935.917 1522.85 935.917 1531.6 Q935.917 1540.33 932.838 1544.94 Q929.782 1549.52 923.972 1549.52 Q918.162 1549.52 915.083 1544.94 Q912.028 1540.33 912.028 1531.6 Q912.028 1522.85 915.083 1518.27 Q918.162 1513.66 923.972 1513.66 Z\" fill=\"#000000\" fill-rule=\"nonzero\" fill-opacity=\"1\" /><path clip-path=\"url(#clip620)\" d=\"M954.134 1517.37 Q950.523 1517.37 948.694 1520.93 Q946.889 1524.47 946.889 1531.6 Q946.889 1538.71 948.694 1542.27 Q950.523 1545.82 954.134 1545.82 Q957.768 1545.82 959.574 1542.27 Q961.403 1538.71 961.403 1531.6 Q961.403 1524.47 959.574 1520.93 Q957.768 1517.37 954.134 1517.37 M954.134 1513.66 Q959.944 1513.66 963 1518.27 Q966.078 1522.85 966.078 1531.6 Q966.078 1540.33 963 1544.94 Q959.944 1549.52 954.134 1549.52 Q948.324 1549.52 945.245 1544.94 Q942.19 1540.33 942.19 1531.6 Q942.19 1522.85 945.245 1518.27 Q948.324 1513.66 954.134 1513.66 Z\" fill=\"#000000\" fill-rule=\"nonzero\" fill-opacity=\"1\" /><path clip-path=\"url(#clip620)\" d=\"M1198.54 1544.91 L1206.18 1544.91 L1206.18 1518.55 L1197.87 1520.21 L1197.87 1515.95 L1206.14 1514.29 L1210.81 1514.29 L1210.81 1544.91 L1218.45 1544.91 L1218.45 1548.85 L1198.54 1548.85 L1198.54 1544.91 Z\" fill=\"#000000\" fill-rule=\"nonzero\" fill-opacity=\"1\" /><path clip-path=\"url(#clip620)\" d=\"M1227.89 1542.97 L1232.78 1542.97 L1232.78 1548.85 L1227.89 1548.85 L1227.89 1542.97 Z\" fill=\"#000000\" fill-rule=\"nonzero\" fill-opacity=\"1\" /><path clip-path=\"url(#clip620)\" d=\"M1252.96 1517.37 Q1249.35 1517.37 1247.52 1520.93 Q1245.72 1524.47 1245.72 1531.6 Q1245.72 1538.71 1247.52 1542.27 Q1249.35 1545.82 1252.96 1545.82 Q1256.6 1545.82 1258.4 1542.27 Q1260.23 1538.71 1260.23 1531.6 Q1260.23 1524.47 1258.4 1520.93 Q1256.6 1517.37 1252.96 1517.37 M1252.96 1513.66 Q1258.77 1513.66 1261.83 1518.27 Q1264.91 1522.85 1264.91 1531.6 Q1264.91 1540.33 1261.83 1544.94 Q1258.77 1549.52 1252.96 1549.52 Q1247.15 1549.52 1244.08 1544.94 Q1241.02 1540.33 1241.02 1531.6 Q1241.02 1522.85 1244.08 1518.27 Q1247.15 1513.66 1252.96 1513.66 Z\" fill=\"#000000\" fill-rule=\"nonzero\" fill-opacity=\"1\" /><path clip-path=\"url(#clip620)\" d=\"M1273.94 1544.91 L1281.58 1544.91 L1281.58 1518.55 L1273.26 1520.21 L1273.26 1515.95 L1281.53 1514.29 L1286.2 1514.29 L1286.2 1544.91 L1293.84 1544.91 L1293.84 1548.85 L1273.94 1548.85 L1273.94 1544.91 Z\" fill=\"#000000\" fill-rule=\"nonzero\" fill-opacity=\"1\" /><path clip-path=\"url(#clip620)\" d=\"M1527.11 1544.91 L1534.75 1544.91 L1534.75 1518.55 L1526.44 1520.21 L1526.44 1515.95 L1534.7 1514.29 L1539.38 1514.29 L1539.38 1544.91 L1547.01 1544.91 L1547.01 1548.85 L1527.11 1548.85 L1527.11 1544.91 Z\" fill=\"#000000\" fill-rule=\"nonzero\" fill-opacity=\"1\" /><path clip-path=\"url(#clip620)\" d=\"M1556.46 1542.97 L1561.34 1542.97 L1561.34 1548.85 L1556.46 1548.85 L1556.46 1542.97 Z\" fill=\"#000000\" fill-rule=\"nonzero\" fill-opacity=\"1\" /><path clip-path=\"url(#clip620)\" d=\"M1581.53 1517.37 Q1577.92 1517.37 1576.09 1520.93 Q1574.28 1524.47 1574.28 1531.6 Q1574.28 1538.71 1576.09 1542.27 Q1577.92 1545.82 1581.53 1545.82 Q1585.16 1545.82 1586.97 1542.27 Q1588.8 1538.71 1588.8 1531.6 Q1588.8 1524.47 1586.97 1520.93 Q1585.16 1517.37 1581.53 1517.37 M1581.53 1513.66 Q1587.34 1513.66 1590.39 1518.27 Q1593.47 1522.85 1593.47 1531.6 Q1593.47 1540.33 1590.39 1544.94 Q1587.34 1549.52 1581.53 1549.52 Q1575.72 1549.52 1572.64 1544.94 Q1569.58 1540.33 1569.58 1531.6 Q1569.58 1522.85 1572.64 1518.27 Q1575.72 1513.66 1581.53 1513.66 Z\" fill=\"#000000\" fill-rule=\"nonzero\" fill-opacity=\"1\" /><path clip-path=\"url(#clip620)\" d=\"M1605.72 1544.91 L1622.04 1544.91 L1622.04 1548.85 L1600.09 1548.85 L1600.09 1544.91 Q1602.75 1542.16 1607.34 1537.53 Q1611.94 1532.88 1613.12 1531.53 Q1615.37 1529.01 1616.25 1527.27 Q1617.15 1525.51 1617.15 1523.82 Q1617.15 1521.07 1615.21 1519.33 Q1613.29 1517.6 1610.19 1517.6 Q1607.99 1517.6 1605.53 1518.36 Q1603.1 1519.13 1600.32 1520.68 L1600.32 1515.95 Q1603.15 1514.82 1605.6 1514.24 Q1608.06 1513.66 1610.09 1513.66 Q1615.46 1513.66 1618.66 1516.35 Q1621.85 1519.03 1621.85 1523.52 Q1621.85 1525.65 1621.04 1527.57 Q1620.25 1529.47 1618.15 1532.07 Q1617.57 1532.74 1614.47 1535.95 Q1611.37 1539.15 1605.72 1544.91 Z\" fill=\"#000000\" fill-rule=\"nonzero\" fill-opacity=\"1\" /><path clip-path=\"url(#clip620)\" d=\"M1855.01 1544.91 L1862.65 1544.91 L1862.65 1518.55 L1854.34 1520.21 L1854.34 1515.95 L1862.6 1514.29 L1867.28 1514.29 L1867.28 1544.91 L1874.92 1544.91 L1874.92 1548.85 L1855.01 1548.85 L1855.01 1544.91 Z\" fill=\"#000000\" fill-rule=\"nonzero\" fill-opacity=\"1\" /><path clip-path=\"url(#clip620)\" d=\"M1884.36 1542.97 L1889.25 1542.97 L1889.25 1548.85 L1884.36 1548.85 L1884.36 1542.97 Z\" fill=\"#000000\" fill-rule=\"nonzero\" fill-opacity=\"1\" /><path clip-path=\"url(#clip620)\" d=\"M1909.43 1517.37 Q1905.82 1517.37 1903.99 1520.93 Q1902.19 1524.47 1902.19 1531.6 Q1902.19 1538.71 1903.99 1542.27 Q1905.82 1545.82 1909.43 1545.82 Q1913.07 1545.82 1914.87 1542.27 Q1916.7 1538.71 1916.7 1531.6 Q1916.7 1524.47 1914.87 1520.93 Q1913.07 1517.37 1909.43 1517.37 M1909.43 1513.66 Q1915.24 1513.66 1918.3 1518.27 Q1921.38 1522.85 1921.38 1531.6 Q1921.38 1540.33 1918.3 1544.94 Q1915.24 1549.52 1909.43 1549.52 Q1903.62 1549.52 1900.54 1544.94 Q1897.49 1540.33 1897.49 1531.6 Q1897.49 1522.85 1900.54 1518.27 Q1903.62 1513.66 1909.43 1513.66 Z\" fill=\"#000000\" fill-rule=\"nonzero\" fill-opacity=\"1\" /><path clip-path=\"url(#clip620)\" d=\"M1943.76 1530.21 Q1947.12 1530.93 1948.99 1533.2 Q1950.89 1535.47 1950.89 1538.8 Q1950.89 1543.92 1947.37 1546.72 Q1943.85 1549.52 1937.37 1549.52 Q1935.2 1549.52 1932.88 1549.08 Q1930.59 1548.66 1928.14 1547.81 L1928.14 1543.29 Q1930.08 1544.43 1932.39 1545.01 Q1934.71 1545.58 1937.23 1545.58 Q1941.63 1545.58 1943.92 1543.85 Q1946.24 1542.11 1946.24 1538.8 Q1946.24 1535.75 1944.08 1534.03 Q1941.95 1532.3 1938.14 1532.3 L1934.11 1532.3 L1934.11 1528.45 L1938.32 1528.45 Q1941.77 1528.45 1943.6 1527.09 Q1945.43 1525.7 1945.43 1523.11 Q1945.43 1520.45 1943.53 1519.03 Q1941.65 1517.6 1938.14 1517.6 Q1936.21 1517.6 1934.01 1518.01 Q1931.82 1518.43 1929.18 1519.31 L1929.18 1515.14 Q1931.84 1514.4 1934.15 1514.03 Q1936.49 1513.66 1938.55 1513.66 Q1943.88 1513.66 1946.98 1516.09 Q1950.08 1518.5 1950.08 1522.62 Q1950.08 1525.49 1948.44 1527.48 Q1946.79 1529.45 1943.76 1530.21 Z\" fill=\"#000000\" fill-rule=\"nonzero\" fill-opacity=\"1\" /><path clip-path=\"url(#clip620)\" d=\"M2182.82 1544.91 L2190.46 1544.91 L2190.46 1518.55 L2182.15 1520.21 L2182.15 1515.95 L2190.41 1514.29 L2195.09 1514.29 L2195.09 1544.91 L2202.73 1544.91 L2202.73 1548.85 L2182.82 1548.85 L2182.82 1544.91 Z\" fill=\"#000000\" fill-rule=\"nonzero\" fill-opacity=\"1\" /><path clip-path=\"url(#clip620)\" d=\"M2212.17 1542.97 L2217.06 1542.97 L2217.06 1548.85 L2212.17 1548.85 L2212.17 1542.97 Z\" fill=\"#000000\" fill-rule=\"nonzero\" fill-opacity=\"1\" /><path clip-path=\"url(#clip620)\" d=\"M2237.24 1517.37 Q2233.63 1517.37 2231.8 1520.93 Q2230 1524.47 2230 1531.6 Q2230 1538.71 2231.8 1542.27 Q2233.63 1545.82 2237.24 1545.82 Q2240.88 1545.82 2242.68 1542.27 Q2244.51 1538.71 2244.51 1531.6 Q2244.51 1524.47 2242.68 1520.93 Q2240.88 1517.37 2237.24 1517.37 M2237.24 1513.66 Q2243.05 1513.66 2246.11 1518.27 Q2249.19 1522.85 2249.19 1531.6 Q2249.19 1540.33 2246.11 1544.94 Q2243.05 1549.52 2237.24 1549.52 Q2231.43 1549.52 2228.35 1544.94 Q2225.3 1540.33 2225.3 1531.6 Q2225.3 1522.85 2228.35 1518.27 Q2231.43 1513.66 2237.24 1513.66 Z\" fill=\"#000000\" fill-rule=\"nonzero\" fill-opacity=\"1\" /><path clip-path=\"url(#clip620)\" d=\"M2270.25 1518.36 L2258.45 1536.81 L2270.25 1536.81 L2270.25 1518.36 M2269.03 1514.29 L2274.9 1514.29 L2274.9 1536.81 L2279.84 1536.81 L2279.84 1540.7 L2274.9 1540.7 L2274.9 1548.85 L2270.25 1548.85 L2270.25 1540.7 L2254.65 1540.7 L2254.65 1536.19 L2269.03 1514.29 Z\" fill=\"#000000\" fill-rule=\"nonzero\" fill-opacity=\"1\" /><polyline clip-path=\"url(#clip622)\" style=\"stroke:#000000; stroke-linecap:round; stroke-linejoin:round; stroke-width:2; stroke-opacity:0.1; fill:none\" points=\"138.959,1486.45 2352.76,1486.45 \"/>\n",
       "<polyline clip-path=\"url(#clip622)\" style=\"stroke:#000000; stroke-linecap:round; stroke-linejoin:round; stroke-width:2; stroke-opacity:0.1; fill:none\" points=\"138.959,1198.61 2352.76,1198.61 \"/>\n",
       "<polyline clip-path=\"url(#clip622)\" style=\"stroke:#000000; stroke-linecap:round; stroke-linejoin:round; stroke-width:2; stroke-opacity:0.1; fill:none\" points=\"138.959,910.766 2352.76,910.766 \"/>\n",
       "<polyline clip-path=\"url(#clip622)\" style=\"stroke:#000000; stroke-linecap:round; stroke-linejoin:round; stroke-width:2; stroke-opacity:0.1; fill:none\" points=\"138.959,622.926 2352.76,622.926 \"/>\n",
       "<polyline clip-path=\"url(#clip622)\" style=\"stroke:#000000; stroke-linecap:round; stroke-linejoin:round; stroke-width:2; stroke-opacity:0.1; fill:none\" points=\"138.959,335.085 2352.76,335.085 \"/>\n",
       "<polyline clip-path=\"url(#clip622)\" style=\"stroke:#000000; stroke-linecap:round; stroke-linejoin:round; stroke-width:2; stroke-opacity:0.1; fill:none\" points=\"138.959,47.2441 2352.76,47.2441 \"/>\n",
       "<polyline clip-path=\"url(#clip620)\" style=\"stroke:#000000; stroke-linecap:round; stroke-linejoin:round; stroke-width:4; stroke-opacity:1; fill:none\" points=\"138.959,1486.45 138.959,47.2441 \"/>\n",
       "<polyline clip-path=\"url(#clip620)\" style=\"stroke:#000000; stroke-linecap:round; stroke-linejoin:round; stroke-width:4; stroke-opacity:1; fill:none\" points=\"138.959,1486.45 157.857,1486.45 \"/>\n",
       "<polyline clip-path=\"url(#clip620)\" style=\"stroke:#000000; stroke-linecap:round; stroke-linejoin:round; stroke-width:4; stroke-opacity:1; fill:none\" points=\"138.959,1198.61 157.857,1198.61 \"/>\n",
       "<polyline clip-path=\"url(#clip620)\" style=\"stroke:#000000; stroke-linecap:round; stroke-linejoin:round; stroke-width:4; stroke-opacity:1; fill:none\" points=\"138.959,910.766 157.857,910.766 \"/>\n",
       "<polyline clip-path=\"url(#clip620)\" style=\"stroke:#000000; stroke-linecap:round; stroke-linejoin:round; stroke-width:4; stroke-opacity:1; fill:none\" points=\"138.959,622.926 157.857,622.926 \"/>\n",
       "<polyline clip-path=\"url(#clip620)\" style=\"stroke:#000000; stroke-linecap:round; stroke-linejoin:round; stroke-width:4; stroke-opacity:1; fill:none\" points=\"138.959,335.085 157.857,335.085 \"/>\n",
       "<polyline clip-path=\"url(#clip620)\" style=\"stroke:#000000; stroke-linecap:round; stroke-linejoin:round; stroke-width:4; stroke-opacity:1; fill:none\" points=\"138.959,47.2441 157.857,47.2441 \"/>\n",
       "<path clip-path=\"url(#clip620)\" d=\"M91.0151 1472.25 Q87.404 1472.25 85.5753 1475.81 Q83.7697 1479.35 83.7697 1486.48 Q83.7697 1493.59 85.5753 1497.15 Q87.404 1500.7 91.0151 1500.7 Q94.6493 1500.7 96.4548 1497.15 Q98.2835 1493.59 98.2835 1486.48 Q98.2835 1479.35 96.4548 1475.81 Q94.6493 1472.25 91.0151 1472.25 M91.0151 1468.54 Q96.8252 1468.54 99.8808 1473.15 Q102.959 1477.73 102.959 1486.48 Q102.959 1495.21 99.8808 1499.82 Q96.8252 1504.4 91.0151 1504.4 Q85.2049 1504.4 82.1262 1499.82 Q79.0707 1495.21 79.0707 1486.48 Q79.0707 1477.73 82.1262 1473.15 Q85.2049 1468.54 91.0151 1468.54 Z\" fill=\"#000000\" fill-rule=\"nonzero\" fill-opacity=\"1\" /><path clip-path=\"url(#clip620)\" d=\"M86.6401 1211.95 L102.959 1211.95 L102.959 1215.89 L81.0151 1215.89 L81.0151 1211.95 Q83.6771 1209.2 88.2604 1204.57 Q92.8669 1199.91 94.0475 1198.57 Q96.2928 1196.05 97.1724 1194.31 Q98.0752 1192.55 98.0752 1190.86 Q98.0752 1188.11 96.1308 1186.37 Q94.2095 1184.64 91.1077 1184.64 Q88.9086 1184.64 86.4549 1185.4 Q84.0244 1186.17 81.2466 1187.72 L81.2466 1182.99 Q84.0707 1181.86 86.5243 1181.28 Q88.978 1180.7 91.0151 1180.7 Q96.3854 1180.7 99.5798 1183.39 Q102.774 1186.07 102.774 1190.56 Q102.774 1192.69 101.964 1194.61 Q101.177 1196.51 99.0706 1199.1 Q98.4919 1199.78 95.39 1202.99 Q92.2882 1206.19 86.6401 1211.95 Z\" fill=\"#000000\" fill-rule=\"nonzero\" fill-opacity=\"1\" /><path clip-path=\"url(#clip620)\" d=\"M93.3762 897.56 L81.5707 916.009 L93.3762 916.009 L93.3762 897.56 M92.1493 893.486 L98.0289 893.486 L98.0289 916.009 L102.959 916.009 L102.959 919.898 L98.0289 919.898 L98.0289 928.046 L93.3762 928.046 L93.3762 919.898 L77.7744 919.898 L77.7744 915.384 L92.1493 893.486 Z\" fill=\"#000000\" fill-rule=\"nonzero\" fill-opacity=\"1\" /><path clip-path=\"url(#clip620)\" d=\"M91.4317 621.062 Q88.2836 621.062 86.4318 623.215 Q84.6031 625.368 84.6031 629.118 Q84.6031 632.845 86.4318 635.02 Q88.2836 637.173 91.4317 637.173 Q94.5799 637.173 96.4085 635.02 Q98.2604 632.845 98.2604 629.118 Q98.2604 625.368 96.4085 623.215 Q94.5799 621.062 91.4317 621.062 M100.714 606.409 L100.714 610.669 Q98.9548 609.835 97.1493 609.396 Q95.3669 608.956 93.6076 608.956 Q88.978 608.956 86.5243 612.081 Q84.0938 615.206 83.7466 621.525 Q85.1123 619.511 87.1725 618.446 Q89.2327 617.359 91.7095 617.359 Q96.9178 617.359 99.927 620.53 Q102.959 623.678 102.959 629.118 Q102.959 634.442 99.8113 637.659 Q96.6632 640.877 91.4317 640.877 Q85.4364 640.877 82.2651 636.294 Q79.0938 631.687 79.0938 622.96 Q79.0938 614.766 82.9827 609.905 Q86.8716 605.021 93.4225 605.021 Q95.1817 605.021 96.9641 605.368 Q98.7696 605.715 100.714 606.409 Z\" fill=\"#000000\" fill-rule=\"nonzero\" fill-opacity=\"1\" /><path clip-path=\"url(#clip620)\" d=\"M91.1077 335.953 Q87.7743 335.953 85.8531 337.735 Q83.9549 339.518 83.9549 342.643 Q83.9549 345.768 85.8531 347.55 Q87.7743 349.332 91.1077 349.332 Q94.441 349.332 96.3623 347.55 Q98.2835 345.745 98.2835 342.643 Q98.2835 339.518 96.3623 337.735 Q94.4641 335.953 91.1077 335.953 M86.4318 333.962 Q83.4225 333.221 81.7327 331.161 Q80.066 329.101 80.066 326.138 Q80.066 321.995 83.0058 319.587 Q85.9688 317.18 91.1077 317.18 Q96.2697 317.18 99.2095 319.587 Q102.149 321.995 102.149 326.138 Q102.149 329.101 100.459 331.161 Q98.7928 333.221 95.8067 333.962 Q99.1863 334.749 101.061 337.041 Q102.959 339.333 102.959 342.643 Q102.959 347.666 99.8808 350.351 Q96.8252 353.036 91.1077 353.036 Q85.3901 353.036 82.3114 350.351 Q79.2559 347.666 79.2559 342.643 Q79.2559 339.333 81.154 337.041 Q83.0521 334.749 86.4318 333.962 M84.7188 326.578 Q84.7188 329.263 86.3855 330.768 Q88.0753 332.272 91.1077 332.272 Q94.1169 332.272 95.8067 330.768 Q97.5197 329.263 97.5197 326.578 Q97.5197 323.893 95.8067 322.388 Q94.1169 320.884 91.1077 320.884 Q88.0753 320.884 86.3855 322.388 Q84.7188 323.893 84.7188 326.578 Z\" fill=\"#000000\" fill-rule=\"nonzero\" fill-opacity=\"1\" /><path clip-path=\"url(#clip620)\" d=\"M51.6634 60.5889 L59.3023 60.5889 L59.3023 34.2233 L50.9921 35.89 L50.9921 31.6308 L59.256 29.9641 L63.9319 29.9641 L63.9319 60.5889 L71.5707 60.5889 L71.5707 64.5241 L51.6634 64.5241 L51.6634 60.5889 Z\" fill=\"#000000\" fill-rule=\"nonzero\" fill-opacity=\"1\" /><path clip-path=\"url(#clip620)\" d=\"M91.0151 33.0428 Q87.404 33.0428 85.5753 36.6076 Q83.7697 40.1492 83.7697 47.2788 Q83.7697 54.3853 85.5753 57.9501 Q87.404 61.4917 91.0151 61.4917 Q94.6493 61.4917 96.4548 57.9501 Q98.2835 54.3853 98.2835 47.2788 Q98.2835 40.1492 96.4548 36.6076 Q94.6493 33.0428 91.0151 33.0428 M91.0151 29.3391 Q96.8252 29.3391 99.8808 33.9456 Q102.959 38.5289 102.959 47.2788 Q102.959 56.0056 99.8808 60.6121 Q96.8252 65.1954 91.0151 65.1954 Q85.2049 65.1954 82.1262 60.6121 Q79.0707 56.0056 79.0707 47.2788 Q79.0707 38.5289 82.1262 33.9456 Q85.2049 29.3391 91.0151 29.3391 Z\" fill=\"#000000\" fill-rule=\"nonzero\" fill-opacity=\"1\" /><path clip-path=\"url(#clip622)\" d=\"M260.722 1198.61 L260.722 1486.45 L589.101 1486.45 L589.101 1198.61 L260.722 1198.61 L260.722 1198.61  Z\" fill=\"#009af9\" fill-rule=\"evenodd\" fill-opacity=\"1\"/>\n",
       "<polyline clip-path=\"url(#clip622)\" style=\"stroke:#000000; stroke-linecap:round; stroke-linejoin:round; stroke-width:4; stroke-opacity:1; fill:none\" points=\"260.722,1198.61 260.722,1486.45 589.101,1486.45 589.101,1198.61 260.722,1198.61 \"/>\n",
       "<path clip-path=\"url(#clip622)\" d=\"M589.101 47.2441 L589.101 1486.45 L917.479 1486.45 L917.479 47.2441 L589.101 47.2441 L589.101 47.2441  Z\" fill=\"#009af9\" fill-rule=\"evenodd\" fill-opacity=\"1\"/>\n",
       "<polyline clip-path=\"url(#clip622)\" style=\"stroke:#000000; stroke-linecap:round; stroke-linejoin:round; stroke-width:4; stroke-opacity:1; fill:none\" points=\"589.101,47.2441 589.101,1486.45 917.479,1486.45 917.479,47.2441 589.101,47.2441 \"/>\n",
       "<path clip-path=\"url(#clip622)\" d=\"M917.479 766.846 L917.479 1486.45 L1245.86 1486.45 L1245.86 766.846 L917.479 766.846 L917.479 766.846  Z\" fill=\"#009af9\" fill-rule=\"evenodd\" fill-opacity=\"1\"/>\n",
       "<polyline clip-path=\"url(#clip622)\" style=\"stroke:#000000; stroke-linecap:round; stroke-linejoin:round; stroke-width:4; stroke-opacity:1; fill:none\" points=\"917.479,766.846 917.479,1486.45 1245.86,1486.45 1245.86,766.846 917.479,766.846 \"/>\n",
       "<path clip-path=\"url(#clip622)\" d=\"M1245.86 1342.53 L1245.86 1486.45 L1574.24 1486.45 L1574.24 1342.53 L1245.86 1342.53 L1245.86 1342.53  Z\" fill=\"#009af9\" fill-rule=\"evenodd\" fill-opacity=\"1\"/>\n",
       "<polyline clip-path=\"url(#clip622)\" style=\"stroke:#000000; stroke-linecap:round; stroke-linejoin:round; stroke-width:4; stroke-opacity:1; fill:none\" points=\"1245.86,1342.53 1245.86,1486.45 1574.24,1486.45 1574.24,1342.53 1245.86,1342.53 \"/>\n",
       "<path clip-path=\"url(#clip622)\" d=\"M1574.24 1342.53 L1574.24 1486.45 L1902.61 1486.45 L1902.61 1342.53 L1574.24 1342.53 L1574.24 1342.53  Z\" fill=\"#009af9\" fill-rule=\"evenodd\" fill-opacity=\"1\"/>\n",
       "<polyline clip-path=\"url(#clip622)\" style=\"stroke:#000000; stroke-linecap:round; stroke-linejoin:round; stroke-width:4; stroke-opacity:1; fill:none\" points=\"1574.24,1342.53 1574.24,1486.45 1902.61,1486.45 1902.61,1342.53 1574.24,1342.53 \"/>\n",
       "<path clip-path=\"url(#clip622)\" d=\"M1902.61 1342.53 L1902.61 1486.45 L2230.99 1486.45 L2230.99 1342.53 L1902.61 1342.53 L1902.61 1342.53  Z\" fill=\"#009af9\" fill-rule=\"evenodd\" fill-opacity=\"1\"/>\n",
       "<polyline clip-path=\"url(#clip622)\" style=\"stroke:#000000; stroke-linecap:round; stroke-linejoin:round; stroke-width:4; stroke-opacity:1; fill:none\" points=\"1902.61,1342.53 1902.61,1486.45 2230.99,1486.45 2230.99,1342.53 1902.61,1342.53 \"/>\n",
       "<circle clip-path=\"url(#clip622)\" style=\"fill:#009af9; stroke:none; fill-opacity:0\" cx=\"424.911\" cy=\"1198.61\" r=\"2\"/>\n",
       "<circle clip-path=\"url(#clip622)\" style=\"fill:#009af9; stroke:none; fill-opacity:0\" cx=\"753.29\" cy=\"47.2441\" r=\"2\"/>\n",
       "<circle clip-path=\"url(#clip622)\" style=\"fill:#009af9; stroke:none; fill-opacity:0\" cx=\"1081.67\" cy=\"766.846\" r=\"2\"/>\n",
       "<circle clip-path=\"url(#clip622)\" style=\"fill:#009af9; stroke:none; fill-opacity:0\" cx=\"1410.05\" cy=\"1342.53\" r=\"2\"/>\n",
       "<circle clip-path=\"url(#clip622)\" style=\"fill:#009af9; stroke:none; fill-opacity:0\" cx=\"1738.43\" cy=\"1342.53\" r=\"2\"/>\n",
       "<circle clip-path=\"url(#clip622)\" style=\"fill:#009af9; stroke:none; fill-opacity:0\" cx=\"2066.8\" cy=\"1342.53\" r=\"2\"/>\n",
       "<path clip-path=\"url(#clip620)\" d=\"M2005.15 198.898 L2278.96 198.898 L2278.96 95.2176 L2005.15 95.2176  Z\" fill=\"#ffffff\" fill-rule=\"evenodd\" fill-opacity=\"1\"/>\n",
       "<polyline clip-path=\"url(#clip620)\" style=\"stroke:#000000; stroke-linecap:round; stroke-linejoin:round; stroke-width:4; stroke-opacity:1; fill:none\" points=\"2005.15,198.898 2278.96,198.898 2278.96,95.2176 2005.15,95.2176 2005.15,198.898 \"/>\n",
       "<path clip-path=\"url(#clip620)\" d=\"M2029.75 167.794 L2177.34 167.794 L2177.34 126.322 L2029.75 126.322 L2029.75 167.794  Z\" fill=\"#009af9\" fill-rule=\"evenodd\" fill-opacity=\"1\"/>\n",
       "<polyline clip-path=\"url(#clip620)\" style=\"stroke:#000000; stroke-linecap:round; stroke-linejoin:round; stroke-width:4; stroke-opacity:1; fill:none\" points=\"2029.75,167.794 2177.34,167.794 2177.34,126.322 2029.75,126.322 2029.75,167.794 \"/>\n",
       "<path clip-path=\"url(#clip620)\" d=\"M2215.78 166.745 Q2213.97 171.375 2212.26 172.787 Q2210.55 174.199 2207.68 174.199 L2204.27 174.199 L2204.27 170.634 L2206.77 170.634 Q2208.53 170.634 2209.5 169.8 Q2210.48 168.967 2211.66 165.865 L2212.42 163.921 L2201.93 138.412 L2206.45 138.412 L2214.55 158.689 L2222.65 138.412 L2227.17 138.412 L2215.78 166.745 Z\" fill=\"#000000\" fill-rule=\"nonzero\" fill-opacity=\"1\" /><path clip-path=\"url(#clip620)\" d=\"M2234.46 160.402 L2242.1 160.402 L2242.1 134.037 L2233.79 135.703 L2233.79 131.444 L2242.05 129.778 L2246.73 129.778 L2246.73 160.402 L2254.36 160.402 L2254.36 164.338 L2234.46 164.338 L2234.46 160.402 Z\" fill=\"#000000\" fill-rule=\"nonzero\" fill-opacity=\"1\" /></svg>\n"
      ]
     },
     "execution_count": 23,
     "metadata": {},
     "output_type": "execute_result"
    }
   ],
   "source": [
    "using Distributions, Plots\n",
    "histogram(results[1,:])\n",
    "histogram(results[2,:])\n",
    "histogram(results[3,:])\n",
    "histogram(results[4,:])"
   ]
  }
 ],
 "metadata": {
  "kernelspec": {
   "display_name": "Julia 1.10.4",
   "language": "julia",
   "name": "julia-1.10"
  },
  "language_info": {
   "file_extension": ".jl",
   "mimetype": "application/julia",
   "name": "julia",
   "version": "1.10.4"
  }
 },
 "nbformat": 4,
 "nbformat_minor": 5
}
