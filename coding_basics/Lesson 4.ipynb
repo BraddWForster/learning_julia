{
 "cells": [
  {
   "cell_type": "code",
   "execution_count": 1,
   "id": "634c51a8-2e43-42fb-93e9-2b3e876130ba",
   "metadata": {},
   "outputs": [],
   "source": [
    "using LinearAlgebra, Statistics"
   ]
  },
  {
   "cell_type": "code",
   "execution_count": 2,
   "id": "2f4ea833-38cb-4167-9c10-e6457a940ff3",
   "metadata": {},
   "outputs": [
    {
     "data": {
      "text/plain": [
       "3-element Vector{Int64}:\n",
       " 10\n",
       " 20\n",
       " 30"
      ]
     },
     "execution_count": 2,
     "metadata": {},
     "output_type": "execute_result"
    }
   ],
   "source": [
    "a = [10, 20, 30]"
   ]
  },
  {
   "cell_type": "code",
   "execution_count": 3,
   "id": "7367c1c0-155d-43d6-bc71-50511ce2d717",
   "metadata": {},
   "outputs": [
    {
     "data": {
      "text/plain": [
       "3-element Vector{Float64}:\n",
       " 1.0\n",
       " 2.0\n",
       " 3.0"
      ]
     },
     "execution_count": 3,
     "metadata": {},
     "output_type": "execute_result"
    }
   ],
   "source": [
    "a = [1.0, 2.0, 3.0]"
   ]
  },
  {
   "cell_type": "code",
   "execution_count": 4,
   "id": "380b2941-2c31-434f-a09c-e65050434cc0",
   "metadata": {},
   "outputs": [
    {
     "data": {
      "text/plain": [
       "Vector{Float64}\u001b[90m (alias for \u001b[39m\u001b[90mArray{Float64, 1}\u001b[39m\u001b[90m)\u001b[39m"
      ]
     },
     "execution_count": 4,
     "metadata": {},
     "output_type": "execute_result"
    }
   ],
   "source": [
    "typeof(randn(100))"
   ]
  },
  {
   "cell_type": "code",
   "execution_count": 5,
   "id": "b062a557-fa66-4d22-afd3-51899426569a",
   "metadata": {},
   "outputs": [
    {
     "data": {
      "text/plain": [
       "1"
      ]
     },
     "execution_count": 5,
     "metadata": {},
     "output_type": "execute_result"
    }
   ],
   "source": [
    "ndims(a)"
   ]
  },
  {
   "cell_type": "code",
   "execution_count": 6,
   "id": "afe47b72-cbe8-4bf0-aae3-5c1a9685533a",
   "metadata": {},
   "outputs": [
    {
     "data": {
      "text/plain": [
       "(3,)"
      ]
     },
     "execution_count": 6,
     "metadata": {},
     "output_type": "execute_result"
    }
   ],
   "source": [
    "size(a)"
   ]
  },
  {
   "cell_type": "code",
   "execution_count": 7,
   "id": "eaa19609-4893-44e9-83b3-6a505ef12cf3",
   "metadata": {},
   "outputs": [
    {
     "data": {
      "text/plain": [
       "true"
      ]
     },
     "execution_count": 7,
     "metadata": {},
     "output_type": "execute_result"
    }
   ],
   "source": [
    "[1, 2, 3] == [1; 2; 3] ## both column vectors"
   ]
  },
  {
   "cell_type": "code",
   "execution_count": 8,
   "id": "02e31558-d022-4c89-9974-a72540575187",
   "metadata": {},
   "outputs": [
    {
     "data": {
      "text/plain": [
       "1×3 Matrix{Int64}:\n",
       " 1  2  3"
      ]
     },
     "execution_count": 8,
     "metadata": {},
     "output_type": "execute_result"
    }
   ],
   "source": [
    "[1 2 3]"
   ]
  },
  {
   "cell_type": "code",
   "execution_count": 9,
   "id": "fe46d07d-f6bb-412d-b0f1-da08f034089e",
   "metadata": {},
   "outputs": [
    {
     "data": {
      "text/plain": [
       "1-element Vector{Int64}:\n",
       " 14"
      ]
     },
     "execution_count": 9,
     "metadata": {},
     "output_type": "execute_result"
    }
   ],
   "source": [
    "[1 2 3] * [1, 2, 3] ## some matrix algebra"
   ]
  },
  {
   "cell_type": "code",
   "execution_count": 10,
   "id": "f3d66f48-eba8-4b4b-845f-951cdd8fe9c5",
   "metadata": {},
   "outputs": [
    {
     "data": {
      "text/plain": [
       "3-element Vector{Float64}:\n",
       " 0.0\n",
       " 0.0\n",
       " 0.0"
      ]
     },
     "execution_count": 10,
     "metadata": {},
     "output_type": "execute_result"
    }
   ],
   "source": [
    "zeros(3)"
   ]
  },
  {
   "cell_type": "code",
   "execution_count": 11,
   "id": "74b80e0f-7070-4038-bff7-bd97ea0a907b",
   "metadata": {},
   "outputs": [
    {
     "data": {
      "text/plain": [
       "2×2 Matrix{Float64}:\n",
       " 0.0  0.0\n",
       " 0.0  0.0"
      ]
     },
     "execution_count": 11,
     "metadata": {},
     "output_type": "execute_result"
    }
   ],
   "source": [
    "zeros(2,2) ## The zeros command can make a matrix"
   ]
  },
  {
   "cell_type": "code",
   "execution_count": 12,
   "id": "859a385f-1d1c-43c7-897e-51394d062b55",
   "metadata": {},
   "outputs": [
    {
     "data": {
      "text/plain": [
       "2×2 Matrix{Float64}:\n",
       " 5.0  5.0\n",
       " 5.0  5.0"
      ]
     },
     "execution_count": 12,
     "metadata": {},
     "output_type": "execute_result"
    }
   ],
   "source": [
    "fill(5.0, 2, 2) ## to make an array filled with a single value (5.0 in this case)"
   ]
  },
  {
   "cell_type": "code",
   "execution_count": 13,
   "id": "cb960d69-2092-454d-9553-07723898837a",
   "metadata": {},
   "outputs": [
    {
     "data": {
      "text/plain": [
       "2×2 Matrix{Float64}:\n",
       " 0.0       8.17001e-312\n",
       " 1.0e-323  8.17001e-312"
      ]
     },
     "execution_count": 13,
     "metadata": {},
     "output_type": "execute_result"
    }
   ],
   "source": [
    "x = Array{Float64}(undef, 2, 2) ## you can create an empty array using the 'Array' constructor"
   ]
  },
  {
   "cell_type": "code",
   "execution_count": 14,
   "id": "65707eff-25ed-4a93-979b-81a136bb3482",
   "metadata": {},
   "outputs": [
    {
     "data": {
      "text/plain": [
       "2×2 Matrix{Int64}:\n",
       " 0  0\n",
       " 0  0"
      ]
     },
     "execution_count": 14,
     "metadata": {},
     "output_type": "execute_result"
    }
   ],
   "source": [
    "fill(0,2,2) ## Intuitively its a 2 by 2 matrix"
   ]
  },
  {
   "cell_type": "code",
   "execution_count": 15,
   "id": "1d08d810-ee82-41e8-a582-459518bb43c4",
   "metadata": {},
   "outputs": [
    {
     "data": {
      "text/plain": [
       "2×2 Matrix{Bool}:\n",
       " 0  0\n",
       " 0  0"
      ]
     },
     "execution_count": 15,
     "metadata": {},
     "output_type": "execute_result"
    }
   ],
   "source": [
    "fill(false, 2, 2) ## can fill the matrix with boolean (false is 0)"
   ]
  },
  {
   "cell_type": "code",
   "execution_count": 16,
   "id": "49617f17-f047-481d-ad73-0da2c0cb38ab",
   "metadata": {},
   "outputs": [
    {
     "data": {
      "text/plain": [
       "2"
      ]
     },
     "execution_count": 16,
     "metadata": {},
     "output_type": "execute_result"
    }
   ],
   "source": [
    "x = [1, 2, 3] \n",
    "y = x ## y = x simply creates a new named binding called y which refers to whatever x currently binds to.\n",
    "y[2]"
   ]
  },
  {
   "cell_type": "code",
   "execution_count": 17,
   "id": "40a8cc4b-4006-4e6d-a2b5-90db699e34fb",
   "metadata": {},
   "outputs": [
    {
     "data": {
      "text/plain": [
       "3-element Vector{Int64}:\n",
       " 1\n",
       " 2\n",
       " 3"
      ]
     },
     "execution_count": 17,
     "metadata": {},
     "output_type": "execute_result"
    }
   ],
   "source": [
    "## To copy the data you need to be more explicit.\n",
    "##\n",
    "x = [1, 2, 3]\n",
    "y = copy(x)\n",
    "y[1]\n",
    "x"
   ]
  },
  {
   "cell_type": "code",
   "execution_count": 18,
   "id": "48bcff15-92c7-4e61-a0c4-63684533d749",
   "metadata": {},
   "outputs": [
    {
     "name": "stdout",
     "output_type": "stream",
     "text": [
      "x = [1, 2, 3]\n"
     ]
    },
    {
     "data": {
      "text/plain": [
       "3-element Vector{Int64}:\n",
       " 1\n",
       " 2\n",
       " 3"
      ]
     },
     "execution_count": 18,
     "metadata": {},
     "output_type": "execute_result"
    }
   ],
   "source": [
    "x = [1, 2, 3]\n",
    "y = similar(x)\n",
    "@show x"
   ]
  },
  {
   "cell_type": "code",
   "execution_count": 19,
   "id": "9095fa89-207a-4f77-a39a-9d97b6a23f2b",
   "metadata": {},
   "outputs": [
    {
     "data": {
      "text/plain": [
       "4-element Vector{Int64}:\n",
       " 140726412153920\n",
       "   1653616092016\n",
       "   1653616092304\n",
       "   1653616092592"
      ]
     },
     "execution_count": 19,
     "metadata": {},
     "output_type": "execute_result"
    }
   ],
   "source": [
    "x = [1, 2, 3]\n",
    "y = similar(x, 4) ## make a vector of length 4"
   ]
  },
  {
   "cell_type": "code",
   "execution_count": 20,
   "id": "16bec1bd-9572-4292-8277-0a5ac94176c6",
   "metadata": {},
   "outputs": [
    {
     "data": {
      "text/plain": [
       "2×2 Matrix{Int64}:\n",
       "             31506  1099511628033\n",
       " 72339073326448642  1653616082952"
      ]
     },
     "execution_count": 20,
     "metadata": {},
     "output_type": "execute_result"
    }
   ],
   "source": [
    "x = [1, 2, 3]\n",
    "y = similar(x, 2, 2)"
   ]
  },
  {
   "cell_type": "code",
   "execution_count": 21,
   "id": "a0a25888-4a1b-47e7-be45-9459afd2aa53",
   "metadata": {},
   "outputs": [
    {
     "data": {
      "text/plain": [
       "4-element Vector{Int64}:\n",
       " 10\n",
       " 20\n",
       " 30\n",
       " 40"
      ]
     },
     "execution_count": 21,
     "metadata": {},
     "output_type": "execute_result"
    }
   ],
   "source": [
    "a = [10, 20, 30, 40]"
   ]
  },
  {
   "cell_type": "code",
   "execution_count": 22,
   "id": "7b05582a-07b6-472c-8b80-cda57395546c",
   "metadata": {},
   "outputs": [
    {
     "data": {
      "text/plain": [
       "1"
      ]
     },
     "execution_count": 22,
     "metadata": {},
     "output_type": "execute_result"
    }
   ],
   "source": [
    "ndims(a)"
   ]
  },
  {
   "cell_type": "code",
   "execution_count": 23,
   "id": "5d4d6c6f-5f03-458e-b65a-24b41be577ba",
   "metadata": {},
   "outputs": [
    {
     "data": {
      "text/plain": [
       "2×2 Matrix{Int64}:\n",
       " 10  20\n",
       " 30  40"
      ]
     },
     "execution_count": 23,
     "metadata": {},
     "output_type": "execute_result"
    }
   ],
   "source": [
    "a = [10 20; 30 40]"
   ]
  },
  {
   "cell_type": "code",
   "execution_count": 24,
   "id": "57e83724-d4a1-492b-9027-65beae5aef5a",
   "metadata": {},
   "outputs": [
    {
     "data": {
      "text/plain": [
       "4-element Vector{Int64}:\n",
       " 10\n",
       " 20\n",
       " 30\n",
       " 40"
      ]
     },
     "execution_count": 24,
     "metadata": {},
     "output_type": "execute_result"
    }
   ],
   "source": [
    "a = [10; 20; 30; 40]"
   ]
  },
  {
   "cell_type": "code",
   "execution_count": 25,
   "id": "69c61aa7-2701-401d-b2b7-bb6986dd4eef",
   "metadata": {},
   "outputs": [
    {
     "data": {
      "text/plain": [
       "1"
      ]
     },
     "execution_count": 25,
     "metadata": {},
     "output_type": "execute_result"
    }
   ],
   "source": [
    "ndims(a)"
   ]
  },
  {
   "cell_type": "code",
   "execution_count": 26,
   "id": "21cceb23-01a2-4d24-8d80-5de5d8504960",
   "metadata": {},
   "outputs": [
    {
     "data": {
      "text/plain": [
       "2×2 adjoint(::Matrix{Int64}) with eltype Int64:\n",
       " 10  30\n",
       " 20  40"
      ]
     },
     "execution_count": 26,
     "metadata": {},
     "output_type": "execute_result"
    }
   ],
   "source": [
    "a = [10 20; 30 40]'"
   ]
  },
  {
   "cell_type": "code",
   "execution_count": 27,
   "id": "536ff1b6-0316-457a-8dd8-471cf61d0d48",
   "metadata": {},
   "outputs": [
    {
     "data": {
      "text/plain": [
       "2"
      ]
     },
     "execution_count": 27,
     "metadata": {},
     "output_type": "execute_result"
    }
   ],
   "source": [
    "ndims(a)"
   ]
  },
  {
   "cell_type": "code",
   "execution_count": 28,
   "id": "44873845-8cac-4347-af57-b3a0219fa479",
   "metadata": {},
   "outputs": [
    {
     "data": {
      "text/plain": [
       "Adjoint{Int64, Matrix{Int64}}"
      ]
     },
     "execution_count": 28,
     "metadata": {},
     "output_type": "execute_result"
    }
   ],
   "source": [
    "typeof(a)"
   ]
  },
  {
   "cell_type": "code",
   "execution_count": 29,
   "id": "14aa129b-8b27-44c7-b708-d0a5502c5432",
   "metadata": {},
   "outputs": [
    {
     "data": {
      "text/plain": [
       "2-element Vector{Int64}:\n",
       " 1\n",
       " 2"
      ]
     },
     "execution_count": 29,
     "metadata": {},
     "output_type": "execute_result"
    }
   ],
   "source": [
    "[1; 2]"
   ]
  },
  {
   "cell_type": "code",
   "execution_count": 30,
   "id": "eefb41df-949e-4ebc-aeea-9db8e2e685ed",
   "metadata": {},
   "outputs": [
    {
     "data": {
      "text/plain": [
       "2×1 Matrix{Int64}:\n",
       " 1\n",
       " 2"
      ]
     },
     "execution_count": 30,
     "metadata": {},
     "output_type": "execute_result"
    }
   ],
   "source": [
    "[1; 2;;]"
   ]
  },
  {
   "cell_type": "code",
   "execution_count": 31,
   "id": "6671b3a9-1400-459a-8869-e29013129db7",
   "metadata": {},
   "outputs": [
    {
     "data": {
      "text/plain": [
       "2×1×1 Array{Int64, 3}:\n",
       "[:, :, 1] =\n",
       " 1\n",
       " 2"
      ]
     },
     "execution_count": 31,
     "metadata": {},
     "output_type": "execute_result"
    }
   ],
   "source": [
    "[1; 2;;;]"
   ]
  },
  {
   "cell_type": "code",
   "execution_count": 32,
   "id": "5c637b5e-292e-477d-b6e7-45252ef6687c",
   "metadata": {},
   "outputs": [
    {
     "data": {
      "text/plain": [
       "1×1 Matrix{Int64}:\n",
       " 1"
      ]
     },
     "execution_count": 32,
     "metadata": {},
     "output_type": "execute_result"
    }
   ],
   "source": [
    "[1;;]"
   ]
  },
  {
   "cell_type": "code",
   "execution_count": 33,
   "id": "9cd1e239-88f1-4ae1-a29c-bb08e9c27a15",
   "metadata": {},
   "outputs": [
    {
     "data": {
      "text/plain": [
       "2×2×1 Array{Int64, 3}:\n",
       "[:, :, 1] =\n",
       " 1  2\n",
       " 3  4"
      ]
     },
     "execution_count": 33,
     "metadata": {},
     "output_type": "execute_result"
    }
   ],
   "source": [
    "[1 2; 3 4;;;]"
   ]
  },
  {
   "cell_type": "code",
   "execution_count": 34,
   "id": "07fe3421-6381-4fc7-992c-3041821465ec",
   "metadata": {},
   "outputs": [
    {
     "data": {
      "text/plain": [
       "30"
      ]
     },
     "execution_count": 34,
     "metadata": {},
     "output_type": "execute_result"
    }
   ],
   "source": [
    "a = [10 20 30 40]\n",
    "a[end - 1]"
   ]
  },
  {
   "cell_type": "code",
   "execution_count": 35,
   "id": "8afec64f-7a84-40b1-8f7a-d49bfb26ea51",
   "metadata": {},
   "outputs": [
    {
     "data": {
      "text/plain": [
       "2×2 Matrix{Float64}:\n",
       " 0.389215  0.800226\n",
       " 0.418548  0.992655"
      ]
     },
     "execution_count": 35,
     "metadata": {},
     "output_type": "execute_result"
    }
   ],
   "source": [
    "a = rand(2,2)"
   ]
  },
  {
   "cell_type": "code",
   "execution_count": 36,
   "id": "80baac4e-b0ab-4d92-bbc6-5d313ee83d2e",
   "metadata": {},
   "outputs": [
    {
     "data": {
      "text/plain": [
       "0.3892154026105128"
      ]
     },
     "execution_count": 36,
     "metadata": {},
     "output_type": "execute_result"
    }
   ],
   "source": [
    "a[1,1]"
   ]
  },
  {
   "cell_type": "code",
   "execution_count": 37,
   "id": "a5c17b1f-f277-4c2a-8e02-cdb5c1650c78",
   "metadata": {},
   "outputs": [
    {
     "data": {
      "text/plain": [
       "2-element Vector{Float64}:\n",
       " 0.3892154026105128\n",
       " 0.8002259870798054"
      ]
     },
     "execution_count": 37,
     "metadata": {},
     "output_type": "execute_result"
    }
   ],
   "source": [
    "a[1,:]"
   ]
  },
  {
   "cell_type": "code",
   "execution_count": 38,
   "id": "963bc2a3-6461-41e3-b51d-ada4bb3d03cd",
   "metadata": {},
   "outputs": [
    {
     "data": {
      "text/plain": [
       "2-element Vector{Float64}:\n",
       " 0.059150450885408934\n",
       " 0.54807161921638"
      ]
     },
     "execution_count": 38,
     "metadata": {},
     "output_type": "execute_result"
    }
   ],
   "source": [
    "a = rand(2,2)\n",
    "b = [true false; false true]\n",
    "a[b]"
   ]
  },
  {
   "cell_type": "code",
   "execution_count": 39,
   "id": "d0da3020-653f-442b-9810-f85d03ec7397",
   "metadata": {},
   "outputs": [
    {
     "data": {
      "text/plain": [
       "4-element Vector{Float64}:\n",
       " 0.0\n",
       " 0.0\n",
       " 0.0\n",
       " 0.0"
      ]
     },
     "execution_count": 39,
     "metadata": {},
     "output_type": "execute_result"
    }
   ],
   "source": [
    "a = zeros(4)"
   ]
  },
  {
   "cell_type": "code",
   "execution_count": 40,
   "id": "b3c07ca9-6374-4a39-afa0-b625e27f45da",
   "metadata": {},
   "outputs": [
    {
     "data": {
      "text/plain": [
       "3-element view(::Vector{Float64}, 2:4) with eltype Float64:\n",
       " 42.0\n",
       " 42.0\n",
       " 42.0"
      ]
     },
     "execution_count": 40,
     "metadata": {},
     "output_type": "execute_result"
    }
   ],
   "source": [
    "a[2:end] .= 42"
   ]
  },
  {
   "cell_type": "code",
   "execution_count": 41,
   "id": "e8666353-6bc3-40dc-9b47-3f8747edc888",
   "metadata": {},
   "outputs": [
    {
     "data": {
      "text/plain": [
       "4-element Vector{Float64}:\n",
       "  0.0\n",
       " 42.0\n",
       " 42.0\n",
       " 42.0"
      ]
     },
     "execution_count": 41,
     "metadata": {},
     "output_type": "execute_result"
    }
   ],
   "source": [
    "a"
   ]
  },
  {
   "cell_type": "code",
   "execution_count": 42,
   "id": "66246675-4060-493c-ad4a-b1029ab44051",
   "metadata": {},
   "outputs": [
    {
     "name": "stdout",
     "output_type": "stream",
     "text": [
      "b = [2, 4]"
     ]
    },
    {
     "data": {
      "text/plain": [
       "2×2 Matrix{Int64}:\n",
       " 1  4\n",
       " 3  5"
      ]
     },
     "execution_count": 42,
     "metadata": {},
     "output_type": "execute_result"
    },
    {
     "name": "stdout",
     "output_type": "stream",
     "text": [
      "\n"
     ]
    }
   ],
   "source": [
    "a = [1 2; 3 4]\n",
    "b = a[:, 2]\n",
    "@show b\n",
    "a[:, 2] = [4, 5]\n",
    "a"
   ]
  },
  {
   "cell_type": "code",
   "execution_count": 43,
   "id": "86b96531-228c-4548-93aa-1785210c912b",
   "metadata": {},
   "outputs": [
    {
     "data": {
      "text/plain": [
       "2×2 Matrix{Int64}:\n",
       " 1  2\n",
       " 3  4"
      ]
     },
     "execution_count": 43,
     "metadata": {},
     "output_type": "execute_result"
    }
   ],
   "source": [
    "a = [1 2; 3 4]"
   ]
  },
  {
   "cell_type": "code",
   "execution_count": 44,
   "id": "f3b25a79-33d2-48a4-820c-db3a807405a8",
   "metadata": {},
   "outputs": [
    {
     "data": {
      "text/plain": [
       "2-element Vector{Int64}:\n",
       " 1\n",
       " 3"
      ]
     },
     "execution_count": 44,
     "metadata": {},
     "output_type": "execute_result"
    }
   ],
   "source": [
    "b = a[:, 1]"
   ]
  },
  {
   "cell_type": "code",
   "execution_count": 45,
   "id": "1ca905e4-e326-4ddc-9e2e-a1eb95b9d173",
   "metadata": {},
   "outputs": [
    {
     "data": {
      "text/plain": [
       "2-element view(::Matrix{Int64}, :, 2) with eltype Int64:\n",
       " 2\n",
       " 4"
      ]
     },
     "execution_count": 45,
     "metadata": {},
     "output_type": "execute_result"
    }
   ],
   "source": [
    "@views b = a[:, 2]"
   ]
  },
  {
   "cell_type": "code",
   "execution_count": 46,
   "id": "9b6220d1-02d5-469b-a6cb-bb903eec91f2",
   "metadata": {},
   "outputs": [
    {
     "data": {
      "text/plain": [
       "true"
      ]
     },
     "execution_count": 46,
     "metadata": {},
     "output_type": "execute_result"
    }
   ],
   "source": [
    "view(a, :, 2) == b"
   ]
  },
  {
   "cell_type": "code",
   "execution_count": 47,
   "id": "30c808bf-0d5c-4faa-bfe0-0dd02a9f5683",
   "metadata": {},
   "outputs": [
    {
     "data": {
      "text/plain": [
       "2×2 Matrix{Int64}:\n",
       " 1  2\n",
       " 3  4"
      ]
     },
     "execution_count": 47,
     "metadata": {},
     "output_type": "execute_result"
    }
   ],
   "source": [
    "a = [1 2; 3 4]"
   ]
  },
  {
   "cell_type": "code",
   "execution_count": 48,
   "id": "97fcdb3c-0735-4aa7-8ff0-7f7550a575e6",
   "metadata": {},
   "outputs": [
    {
     "data": {
      "text/plain": [
       "2-element Vector{Int64}:\n",
       " 2\n",
       " 4"
      ]
     },
     "execution_count": 48,
     "metadata": {},
     "output_type": "execute_result"
    }
   ],
   "source": [
    "b_slice = a[:, 2]"
   ]
  },
  {
   "cell_type": "code",
   "execution_count": 49,
   "id": "5c54d2d4-34c6-4091-8ad9-17cdab12a103",
   "metadata": {},
   "outputs": [
    {
     "data": {
      "text/plain": [
       "Vector{Int64}\u001b[90m (alias for \u001b[39m\u001b[90mArray{Int64, 1}\u001b[39m\u001b[90m)\u001b[39m"
      ]
     },
     "execution_count": 49,
     "metadata": {},
     "output_type": "execute_result"
    }
   ],
   "source": [
    "typeof(b_slice)"
   ]
  },
  {
   "cell_type": "code",
   "execution_count": 50,
   "id": "2f69538d-7aee-4ff5-8279-1eda35fbcea1",
   "metadata": {},
   "outputs": [
    {
     "data": {
      "text/plain": [
       "Matrix{Int64}\u001b[90m (alias for \u001b[39m\u001b[90mArray{Int64, 2}\u001b[39m\u001b[90m)\u001b[39m"
      ]
     },
     "execution_count": 50,
     "metadata": {},
     "output_type": "execute_result"
    }
   ],
   "source": [
    "typeof(a)"
   ]
  },
  {
   "cell_type": "code",
   "execution_count": 51,
   "id": "c7fea77f-eb7c-41a0-98cd-bd6c13fa9c00",
   "metadata": {},
   "outputs": [
    {
     "data": {
      "text/plain": [
       "2-element view(::Matrix{Int64}, :, 2) with eltype Int64:\n",
       " 2\n",
       " 4"
      ]
     },
     "execution_count": 51,
     "metadata": {},
     "output_type": "execute_result"
    }
   ],
   "source": [
    "@views b =  a[:, 2]"
   ]
  },
  {
   "cell_type": "code",
   "execution_count": 52,
   "id": "fa62d112-502e-47b6-b31c-610d47149abc",
   "metadata": {},
   "outputs": [
    {
     "data": {
      "text/plain": [
       "SubArray{Int64, 1, Matrix{Int64}, Tuple{Base.Slice{Base.OneTo{Int64}}, Int64}, true}"
      ]
     },
     "execution_count": 52,
     "metadata": {},
     "output_type": "execute_result"
    }
   ],
   "source": [
    "typeof(b)"
   ]
  },
  {
   "cell_type": "code",
   "execution_count": 53,
   "id": "69ae5a08-5ed7-42f0-9f57-f80a9cd5c768",
   "metadata": {},
   "outputs": [
    {
     "data": {
      "text/plain": [
       "2×2 Matrix{Int64}:\n",
       " 1  2\n",
       " 3  4"
      ]
     },
     "execution_count": 53,
     "metadata": {},
     "output_type": "execute_result"
    }
   ],
   "source": [
    "a = [1 2; 3 4]"
   ]
  },
  {
   "cell_type": "code",
   "execution_count": 54,
   "id": "dfbcd3ff-1414-42c0-a5be-70b41bb88b35",
   "metadata": {},
   "outputs": [
    {
     "data": {
      "text/plain": [
       "2×2 adjoint(::Matrix{Int64}) with eltype Int64:\n",
       " 1  3\n",
       " 2  4"
      ]
     },
     "execution_count": 54,
     "metadata": {},
     "output_type": "execute_result"
    }
   ],
   "source": [
    "b = a'"
   ]
  },
  {
   "cell_type": "code",
   "execution_count": 55,
   "id": "c15989ef-cb19-426d-9141-f0071c8e8ca0",
   "metadata": {},
   "outputs": [
    {
     "data": {
      "text/plain": [
       "Adjoint{Int64, Matrix{Int64}}"
      ]
     },
     "execution_count": 55,
     "metadata": {},
     "output_type": "execute_result"
    }
   ],
   "source": [
    "typeof(b)"
   ]
  },
  {
   "cell_type": "code",
   "execution_count": 56,
   "id": "c0c02b41-e2c6-403c-afa4-274786d47ffa",
   "metadata": {},
   "outputs": [
    {
     "data": {
      "text/plain": [
       "true"
      ]
     },
     "execution_count": 56,
     "metadata": {},
     "output_type": "execute_result"
    }
   ],
   "source": [
    "a = [1 2; 3 4]\n",
    "b = a'\n",
    "c = Matrix(b)\n",
    "d = collect(b)\n",
    "c == d"
   ]
  },
  {
   "cell_type": "code",
   "execution_count": 57,
   "id": "f4ffbe7a-a727-4466-bcdc-5701fbd3d540",
   "metadata": {},
   "outputs": [
    {
     "data": {
      "text/plain": [
       "2×2 Diagonal{Int64, Vector{Int64}}:\n",
       " 1  ⋅\n",
       " ⋅  4"
      ]
     },
     "execution_count": 57,
     "metadata": {},
     "output_type": "execute_result"
    }
   ],
   "source": [
    "d = [1.0 2.0]\n",
    "\n",
    "a = Diagonal(b)"
   ]
  },
  {
   "cell_type": "code",
   "execution_count": 58,
   "id": "dcfe3455-1cde-4289-b2ed-1eb5175f100b",
   "metadata": {},
   "outputs": [
    {
     "name": "stdout",
     "output_type": "stream",
     "text": [
      "2a = [2 0; 0 8]\n"
     ]
    },
    {
     "data": {
      "text/plain": [
       "2×2 Diagonal{Int64, Vector{Int64}}:\n",
       " 2  ⋅\n",
       " ⋅  8"
      ]
     },
     "execution_count": 58,
     "metadata": {},
     "output_type": "execute_result"
    }
   ],
   "source": [
    "@show 2a"
   ]
  },
  {
   "cell_type": "code",
   "execution_count": 59,
   "id": "b8b3240b-c0aa-4dd5-bd4a-18214dc00e6a",
   "metadata": {},
   "outputs": [
    {
     "data": {
      "text/plain": [
       "2×2 Matrix{Float64}:\n",
       " 0.173788  0.352239\n",
       " 0.98048   0.581379"
      ]
     },
     "execution_count": 59,
     "metadata": {},
     "output_type": "execute_result"
    }
   ],
   "source": [
    "b = rand(2, 2)"
   ]
  },
  {
   "cell_type": "code",
   "execution_count": 60,
   "id": "d9acec79-07c4-4914-9401-acb215c65b67",
   "metadata": {},
   "outputs": [
    {
     "name": "stdout",
     "output_type": "stream",
     "text": [
      "b * a = [0.17378778496626068 1.4089568092907139; 0.9804800994168624 2.3255149875034604]\n"
     ]
    },
    {
     "data": {
      "text/plain": [
       "2×2 Matrix{Float64}:\n",
       " 0.173788  1.40896\n",
       " 0.98048   2.32551"
      ]
     },
     "execution_count": 60,
     "metadata": {},
     "output_type": "execute_result"
    }
   ],
   "source": [
    "@show b * a"
   ]
  },
  {
   "cell_type": "code",
   "execution_count": 61,
   "id": "1e3aeffa-259c-46e8-8bf2-8f0fc00ea11d",
   "metadata": {},
   "outputs": [
    {
     "data": {
      "text/plain": [
       "2×2 Matrix{Float64}:\n",
       " 0.0  2.0\n",
       " 3.0  3.0"
      ]
     },
     "execution_count": 61,
     "metadata": {},
     "output_type": "execute_result"
    }
   ],
   "source": [
    "b = [1.0 2.0; 3.0 4.0]\n",
    "b - Diagonal([1.0, 1.0])"
   ]
  },
  {
   "cell_type": "code",
   "execution_count": 62,
   "id": "df00ec99-2177-4173-bec1-9e922770716a",
   "metadata": {},
   "outputs": [
    {
     "data": {
      "text/plain": [
       "2×2 Matrix{Float64}:\n",
       " 0.0  2.0\n",
       " 3.0  3.0"
      ]
     },
     "execution_count": 62,
     "metadata": {},
     "output_type": "execute_result"
    }
   ],
   "source": [
    "b = [1.0 2.0; 3.0 4.0]\n",
    "b - I ## I is an identity matrix"
   ]
  },
  {
   "cell_type": "code",
   "execution_count": 63,
   "id": "d2514c78-8ec9-4a7c-8867-d80f43f5727c",
   "metadata": {},
   "outputs": [
    {
     "data": {
      "text/plain": [
       "UniformScaling{Bool}"
      ]
     },
     "execution_count": 63,
     "metadata": {},
     "output_type": "execute_result"
    }
   ],
   "source": [
    "typeof(I)"
   ]
  },
  {
   "cell_type": "code",
   "execution_count": 64,
   "id": "398fd562-9cf5-4f25-8577-a650ce8b5719",
   "metadata": {},
   "outputs": [
    {
     "name": "stdout",
     "output_type": "stream",
     "text": [
      "(x, y, z) = ([1, 2, 3], [2, 3, 4], [2, 3, 4])\n"
     ]
    }
   ],
   "source": [
    "x = [1, 2, 3]\n",
    "y = x ## name y is bound to whatever x is bound to \n",
    "z = [2, 3, 4]\n",
    "y = z ## only changes the binding not the value\n",
    "@show (x, y, z);"
   ]
  },
  {
   "cell_type": "code",
   "execution_count": 65,
   "id": "35242521-f022-4ea9-815f-253855e8477c",
   "metadata": {},
   "outputs": [
    {
     "name": "stdout",
     "output_type": "stream",
     "text": [
      "(x, y, z) = ([2, 3, 4], [2, 3, 4], [2, 3, 4])\n"
     ]
    },
    {
     "data": {
      "text/plain": [
       "([2, 3, 4], [2, 3, 4], [2, 3, 4])"
      ]
     },
     "execution_count": 65,
     "metadata": {},
     "output_type": "execute_result"
    }
   ],
   "source": [
    "x = [1, 2, 3]\n",
    "y = x\n",
    "z = [2, 3, 4]\n",
    "y .= z\n",
    "@show (x, y, z)"
   ]
  },
  {
   "cell_type": "code",
   "execution_count": 66,
   "id": "b8358aea-d205-49e0-b30b-58afb4b9e171",
   "metadata": {},
   "outputs": [
    {
     "data": {
      "text/plain": [
       "2-element Vector{Int64}:\n",
       "  5\n",
       " 11"
      ]
     },
     "execution_count": 66,
     "metadata": {},
     "output_type": "execute_result"
    }
   ],
   "source": [
    "function f(x)\n",
    "    return [1 2; 3 4] * x ## matrix * column vector\n",
    "end\n",
    "\n",
    "val = [1, 2]\n",
    "f(val)"
   ]
  },
  {
   "cell_type": "code",
   "execution_count": 67,
   "id": "b85de427-e624-4e7d-9b5c-db68b60d63d1",
   "metadata": {},
   "outputs": [
    {
     "data": {
      "text/plain": [
       "2-element Vector{Int64}:\n",
       "  5\n",
       " 11"
      ]
     },
     "execution_count": 67,
     "metadata": {},
     "output_type": "execute_result"
    }
   ],
   "source": [
    "function f(x)\n",
    "    return [1 2; 3 4] * x\n",
    "end\n",
    "\n",
    "val = [1, 2]\n",
    "y = similar(val)\n",
    "\n",
    "function f!(out, x)\n",
    "    out .= [1 2; 3 4] * x\n",
    "end\n",
    "\n",
    "f!(y, val)\n",
    "y"
   ]
  },
  {
   "cell_type": "code",
   "execution_count": 68,
   "id": "682e8355-07d0-4de4-9a78-8a052399fd8f",
   "metadata": {},
   "outputs": [
    {
     "data": {
      "text/plain": [
       "3-element Vector{Int64}:\n",
       " 1\n",
       " 2\n",
       " 3"
      ]
     },
     "execution_count": 68,
     "metadata": {},
     "output_type": "execute_result"
    }
   ],
   "source": [
    "x = [1, 2, 3]"
   ]
  },
  {
   "cell_type": "code",
   "execution_count": 69,
   "id": "03b47a2c-d879-47b1-9f04-a8ec189d143d",
   "metadata": {},
   "outputs": [
    {
     "data": {
      "text/plain": [
       "2-element Vector{Int64}:\n",
       "  5\n",
       " 11"
      ]
     },
     "execution_count": 69,
     "metadata": {},
     "output_type": "execute_result"
    }
   ],
   "source": [
    "function f(x)\n",
    "    return [1 2; 3 4] * x\n",
    "end\n",
    "\n",
    "val = [1, 2]\n",
    "y = similar(val)\n",
    "\n",
    "function f!(out, x)\n",
    "    out .= [1 2; 3 4] * x\n",
    "end\n",
    "\n",
    "f!(y, val)"
   ]
  },
  {
   "cell_type": "code",
   "execution_count": 70,
   "id": "06e7e557-eee8-43b5-b299-d184cdfd9d76",
   "metadata": {},
   "outputs": [
    {
     "data": {
      "text/plain": [
       "1×2 Matrix{Int64}:\n",
       " 1  2"
      ]
     },
     "execution_count": 70,
     "metadata": {},
     "output_type": "execute_result"
    }
   ],
   "source": [
    "y = [1 2]"
   ]
  },
  {
   "cell_type": "code",
   "execution_count": 71,
   "id": "ffb5b8c2-3774-4113-ad7c-cfe01b2aae3f",
   "metadata": {},
   "outputs": [
    {
     "data": {
      "text/plain": [
       "3"
      ]
     },
     "execution_count": 71,
     "metadata": {},
     "output_type": "execute_result"
    }
   ],
   "source": [
    "y .-= 2\n",
    "\n",
    "x = 5\n",
    "\n",
    "x = x - 2"
   ]
  },
  {
   "cell_type": "code",
   "execution_count": 72,
   "id": "d51bd98a-ba3e-45f1-bbee-fa07a7d1171e",
   "metadata": {},
   "outputs": [
    {
     "name": "stdout",
     "output_type": "stream",
     "text": [
      "x = 2\n"
     ]
    },
    {
     "data": {
      "text/plain": [
       "2"
      ]
     },
     "execution_count": 72,
     "metadata": {},
     "output_type": "execute_result"
    }
   ],
   "source": [
    "x = 2\n",
    "\n",
    "function f(x)\n",
    "    x = 3\n",
    "end\n",
    "\n",
    "f(x)\n",
    "@show x"
   ]
  },
  {
   "cell_type": "code",
   "execution_count": 73,
   "id": "979a7336-da16-445a-a499-722af7b80bee",
   "metadata": {},
   "outputs": [
    {
     "name": "stdout",
     "output_type": "stream",
     "text": [
      "xdynamic = [1, 2]\n",
      "g(xdynamic) = \"Success!\"\n",
      "xdynamic = [2, 4]\n"
     ]
    }
   ],
   "source": [
    "using StaticArrays\n",
    "\n",
    "xdynamic = [1, 2]\n",
    "xstatic = @SVector [1, 2] # turns it to a highly optimised static vector\n",
    "\n",
    "f(x) = 2x\n",
    "\n",
    "# in place version\n",
    "function g(x)\n",
    "    x .= 2x\n",
    "    return \"Success!\"\n",
    "end\n",
    "\n",
    "@show xdynamic\n",
    "@show g(xdynamic)\n",
    "@show xdynamic;"
   ]
  },
  {
   "cell_type": "code",
   "execution_count": 74,
   "id": "fc766866-1b6a-4d8c-9217-2588550a9082",
   "metadata": {},
   "outputs": [
    {
     "name": "stdout",
     "output_type": "stream",
     "text": [
      "a = [-1, 0, 1]\n",
      "length(a) = 3\n",
      "sum(a) = 0\n",
      "mean(a) = 0.0\n",
      "std(a) = 1.0\n",
      "var(a) = 1.0\n",
      "minimum(a) = -1\n",
      "maximum(a) = 1\n",
      "extrema(a) = (-1, 1)\n"
     ]
    },
    {
     "data": {
      "text/plain": [
       "(-1, 1)"
      ]
     },
     "execution_count": 74,
     "metadata": {},
     "output_type": "execute_result"
    }
   ],
   "source": [
    "## Operations and arrays\n",
    "\n",
    "a = [-1, 0, 1]\n",
    "@show a\n",
    "@show length(a)\n",
    "@show sum(a)\n",
    "@show mean(a)\n",
    "@show std(a)\n",
    "@show var(a)\n",
    "@show minimum(a)\n",
    "@show maximum(a)\n",
    "@show extrema(a)"
   ]
  },
  {
   "cell_type": "code",
   "execution_count": 75,
   "id": "4cd788b0-3999-4880-a665-7898568b8afb",
   "metadata": {},
   "outputs": [
    {
     "name": "stdout",
     "output_type": "stream",
     "text": [
      "b = [1, 0, -1]\n"
     ]
    },
    {
     "data": {
      "text/plain": [
       "3-element Vector{Int64}:\n",
       "  1\n",
       "  0\n",
       " -1"
      ]
     },
     "execution_count": 75,
     "metadata": {},
     "output_type": "execute_result"
    }
   ],
   "source": [
    "## To sort an array\n",
    "b = sort(a, rev = true)\n",
    "@show b\n",
    "\n",
    "b = sort!(a, rev = true)"
   ]
  },
  {
   "cell_type": "code",
   "execution_count": 76,
   "id": "4d62a4b4-ca32-40fe-b06b-77780764b546",
   "metadata": {},
   "outputs": [
    {
     "data": {
      "text/plain": [
       "true"
      ]
     },
     "execution_count": 76,
     "metadata": {},
     "output_type": "execute_result"
    }
   ],
   "source": [
    "## test if a and b are equal after you reverse it\n",
    "a == b"
   ]
  },
  {
   "cell_type": "code",
   "execution_count": 77,
   "id": "c4acea5a-6410-4bd9-8639-8c8cf53a4c36",
   "metadata": {},
   "outputs": [
    {
     "data": {
      "text/plain": [
       "true"
      ]
     },
     "execution_count": 77,
     "metadata": {},
     "output_type": "execute_result"
    }
   ],
   "source": [
    "## test if a and b are identical (i.e. share the same memory)\n",
    "a === b"
   ]
  },
  {
   "cell_type": "code",
   "execution_count": 78,
   "id": "5a9c9178-9570-4b5c-acf2-095cd359e70f",
   "metadata": {},
   "outputs": [
    {
     "name": "stdout",
     "output_type": "stream",
     "text": [
      "a = [1.0 1.0]\n",
      "b = [1.0 1.0; 1.0 1.0]\n",
      "c = [2.0 2.0]\n"
     ]
    },
    {
     "data": {
      "text/plain": [
       "2×1 Matrix{Float64}:\n",
       " 2.0\n",
       " 2.0"
      ]
     },
     "execution_count": 78,
     "metadata": {},
     "output_type": "execute_result"
    }
   ],
   "source": [
    "## Matrix algebra\n",
    "a = ones(1, 2)\n",
    "b = ones(2, 2)\n",
    "@show a\n",
    "@show b\n",
    "\n",
    "c = a * b\n",
    "d = b * a'\n",
    "@show c\n",
    "d"
   ]
  },
  {
   "cell_type": "code",
   "execution_count": 79,
   "id": "ca3a4a93-547f-4184-a814-fab1d29263b1",
   "metadata": {},
   "outputs": [
    {
     "data": {
      "text/plain": [
       "2×2 Matrix{Float64}:\n",
       " -1.0  -1.0\n",
       "  1.0   1.0"
      ]
     },
     "execution_count": 79,
     "metadata": {},
     "output_type": "execute_result"
    }
   ],
   "source": [
    "## Solve the linear system AX = B for X use A/B\n",
    "A = [1 2; 2 3]\n",
    "B = ones(2,2)\n",
    "\n",
    "A\\B\n",
    "\n",
    "inv(A) * B"
   ]
  },
  {
   "cell_type": "code",
   "execution_count": 80,
   "id": "69b46d49-6cb7-4cb5-b378-0115f9434de1",
   "metadata": {},
   "outputs": [
    {
     "data": {
      "text/plain": [
       "2.0"
      ]
     },
     "execution_count": 80,
     "metadata": {},
     "output_type": "execute_result"
    }
   ],
   "source": [
    "ones(2)' * ones(2)"
   ]
  },
  {
   "cell_type": "code",
   "execution_count": 81,
   "id": "7dfc7cc7-f8c2-446f-a327-29ba191c6b67",
   "metadata": {},
   "outputs": [
    {
     "name": "stdout",
     "output_type": "stream",
     "text": [
      "dot((ones(2))', ones(2)) = 2.0\n",
      "ones(2) ⋅ ones(2) = 2.0\n"
     ]
    },
    {
     "data": {
      "text/plain": [
       "2.0"
      ]
     },
     "execution_count": 81,
     "metadata": {},
     "output_type": "execute_result"
    }
   ],
   "source": [
    "@show dot(ones(2)', ones(2))\n",
    "@show ones(2) ⋅ ones(2)"
   ]
  },
  {
   "cell_type": "code",
   "execution_count": 82,
   "id": "a1f7e0b4-b99e-4460-9803-8d7f6be87b87",
   "metadata": {},
   "outputs": [
    {
     "data": {
      "text/plain": [
       "2×2 Matrix{Float64}:\n",
       " 1.0  1.0\n",
       " 1.0  1.0"
      ]
     },
     "execution_count": 82,
     "metadata": {},
     "output_type": "execute_result"
    }
   ],
   "source": [
    "## Elementwise operations\n",
    "## if you want to multiply every element in of matrix A with its corresponding element in B then you can use \".*\"\n",
    "A = ones(2,2)\n",
    "B = ones(2, 2)\n",
    "A.*B"
   ]
  },
  {
   "cell_type": "code",
   "execution_count": 83,
   "id": "8f19ff40-d240-4b81-b254-81ee077e72e5",
   "metadata": {},
   "outputs": [
    {
     "data": {
      "text/plain": [
       "2×2 Matrix{Float64}:\n",
       " 1.0  1.0\n",
       " 1.0  1.0"
      ]
     },
     "execution_count": 83,
     "metadata": {},
     "output_type": "execute_result"
    }
   ],
   "source": [
    "## same with squaring a result\n",
    "A.^2"
   ]
  },
  {
   "cell_type": "code",
   "execution_count": 84,
   "id": "03207e13-5f32-49c7-b360-4889f0f227c3",
   "metadata": {},
   "outputs": [
    {
     "name": "stdout",
     "output_type": "stream",
     "text": [
      "ones(2, 2) + ones(2, 2) = [2.0 2.0; 2.0 2.0]\n",
      "ones(2, 2) - ones(2, 2) = [0.0 0.0; 0.0 0.0]\n"
     ]
    },
    {
     "data": {
      "text/plain": [
       "2×2 Matrix{Int64}:\n",
       " 3  3\n",
       " 6  6"
      ]
     },
     "execution_count": 84,
     "metadata": {},
     "output_type": "execute_result"
    }
   ],
   "source": [
    "## there are operations that are mathematically valid without broadcasting, so you don't need \".\"\n",
    "@show ones(2,2) + ones(2,2)\n",
    "@show ones(2,2) - ones(2,2);\n",
    "\n",
    "A = [1 1; 2 2]\n",
    "3A"
   ]
  },
  {
   "cell_type": "code",
   "execution_count": 85,
   "id": "2a739c52-31c7-4a41-bfbc-e6ba46cdfee8",
   "metadata": {},
   "outputs": [
    {
     "data": {
      "text/plain": [
       "2×2 Matrix{Int64}:\n",
       " 4  5\n",
       " 6  7"
      ]
     },
     "execution_count": 85,
     "metadata": {},
     "output_type": "execute_result"
    }
   ],
   "source": [
    "## However, scalar addition requires a broadcast\n",
    "A = [1 2; 3 4]\n",
    "3 .+ A"
   ]
  },
  {
   "cell_type": "code",
   "execution_count": 86,
   "id": "11b22c78-7734-4f98-b657-af4498560ee3",
   "metadata": {},
   "outputs": [
    {
     "data": {
      "text/plain": [
       "3-element BitVector:\n",
       " 0\n",
       " 0\n",
       " 1"
      ]
     },
     "execution_count": 86,
     "metadata": {},
     "output_type": "execute_result"
    }
   ],
   "source": [
    "## Elementwise comparisons\n",
    "a = [20, 30, 40]\n",
    "b = [-100, 0, 100]\n",
    "b .> a\n",
    "b.==a\n",
    "b .> 1\n"
   ]
  },
  {
   "cell_type": "code",
   "execution_count": 87,
   "id": "ae5c8bbd-a253-4d58-b3ed-358f79110f0f",
   "metadata": {},
   "outputs": [
    {
     "data": {
      "text/plain": [
       "4-element Vector{Float64}:\n",
       " 0.030046704238010258\n",
       " 0.060689139557860705\n",
       " 0.5062989478580181\n",
       " 0.4671284785942186"
      ]
     },
     "execution_count": 87,
     "metadata": {},
     "output_type": "execute_result"
    }
   ],
   "source": [
    "## Conditional extraction\n",
    "a = rand(4)"
   ]
  },
  {
   "cell_type": "code",
   "execution_count": 88,
   "id": "a3751b55-3836-4571-bb26-61341c698901",
   "metadata": {},
   "outputs": [
    {
     "name": "stdout",
     "output_type": "stream",
     "text": [
      "a[a .> 0] = [0.030046704238010258, 0.060689139557860705, 0.5062989478580181, 0.4671284785942186]\n"
     ]
    },
    {
     "data": {
      "text/plain": [
       "4-element Vector{Float64}:\n",
       " 0.030046704238010258\n",
       " 0.060689139557860705\n",
       " 0.5062989478580181\n",
       " 0.4671284785942186"
      ]
     },
     "execution_count": 88,
     "metadata": {},
     "output_type": "execute_result"
    }
   ],
   "source": [
    "@show a[a .> 0]"
   ]
  },
  {
   "cell_type": "code",
   "execution_count": 89,
   "id": "870cd3fe-1d62-4524-a91c-0b09b1e784b1",
   "metadata": {},
   "outputs": [
    {
     "data": {
      "text/plain": [
       "2×2 Matrix{Int64}:\n",
       " 10  30\n",
       " 20  40"
      ]
     },
     "execution_count": 89,
     "metadata": {},
     "output_type": "execute_result"
    }
   ],
   "source": [
    "## Changing dimensions\n",
    "a = [1,2,3,4]\n",
    "a = a*10\n",
    "b = reshape(a, 2,2)"
   ]
  },
  {
   "cell_type": "code",
   "execution_count": 90,
   "id": "3be018f9-00dd-4bb1-8c4f-332ad317fdbc",
   "metadata": {},
   "outputs": [
    {
     "data": {
      "text/plain": [
       "30"
      ]
     },
     "execution_count": 90,
     "metadata": {},
     "output_type": "execute_result"
    }
   ],
   "source": [
    "b[1, 2]"
   ]
  },
  {
   "cell_type": "code",
   "execution_count": 91,
   "id": "65ed6272-b5cd-4f0b-8195-17afcb70cd07",
   "metadata": {},
   "outputs": [
    {
     "data": {
      "text/plain": [
       "1×4 Matrix{Int64}:\n",
       " 1  2  3  4"
      ]
     },
     "execution_count": 91,
     "metadata": {},
     "output_type": "execute_result"
    }
   ],
   "source": [
    "## Drop an array along one dimension\n",
    "a = [1 2 3 4]"
   ]
  },
  {
   "cell_type": "code",
   "execution_count": 92,
   "id": "e9fb28b0-9e80-4bc7-bf77-56820108f996",
   "metadata": {},
   "outputs": [
    {
     "data": {
      "text/plain": [
       "4-element Vector{Int64}:\n",
       " 1\n",
       " 2\n",
       " 3\n",
       " 4"
      ]
     },
     "execution_count": 92,
     "metadata": {},
     "output_type": "execute_result"
    }
   ],
   "source": [
    "dropdims(a, dims = 1)"
   ]
  },
  {
   "cell_type": "code",
   "execution_count": 93,
   "id": "e47e69b8-a11e-4919-adce-a93af3156d1e",
   "metadata": {},
   "outputs": [
    {
     "data": {
      "text/plain": [
       "4-element Vector{Float64}:\n",
       " 0.0\n",
       " 0.6931471805599453\n",
       " 1.0986122886681098\n",
       " 1.3862943611198906"
      ]
     },
     "execution_count": 93,
     "metadata": {},
     "output_type": "execute_result"
    }
   ],
   "source": [
    "## Broadcastig functions\n",
    "log(1.0)\n",
    "log.(1:4)\n",
    "[log(x) for x in 1:4]"
   ]
  },
  {
   "cell_type": "code",
   "execution_count": 94,
   "id": "a63fbcdc-6b21-4df7-b08c-f3fe4f38b7e1",
   "metadata": {},
   "outputs": [
    {
     "data": {
      "text/plain": [
       "2×2 Matrix{Int64}:\n",
       " 1  2\n",
       " 4  3"
      ]
     },
     "execution_count": 94,
     "metadata": {},
     "output_type": "execute_result"
    }
   ],
   "source": [
    "## Linear algebra\n",
    "A = [1 2; 4 3]"
   ]
  },
  {
   "cell_type": "code",
   "execution_count": 95,
   "id": "8b6ebec8-71cd-4532-a34f-88286960b9fe",
   "metadata": {},
   "outputs": [
    {
     "data": {
      "text/plain": [
       "-5.0"
      ]
     },
     "execution_count": 95,
     "metadata": {},
     "output_type": "execute_result"
    }
   ],
   "source": [
    "det(A)"
   ]
  },
  {
   "cell_type": "code",
   "execution_count": 96,
   "id": "a888bcf9-9d2a-4229-b4fb-4e0f87ae928f",
   "metadata": {},
   "outputs": [
    {
     "data": {
      "text/plain": [
       "4"
      ]
     },
     "execution_count": 96,
     "metadata": {},
     "output_type": "execute_result"
    }
   ],
   "source": [
    "tr(A) ## trace of matix which takes the sum of the diagonal values of the matrix"
   ]
  },
  {
   "cell_type": "code",
   "execution_count": 97,
   "id": "7e72348d-7e8d-458a-80b8-4661a1a3d84d",
   "metadata": {},
   "outputs": [
    {
     "data": {
      "text/plain": [
       "2-element Vector{Float64}:\n",
       " -1.0\n",
       "  5.0"
      ]
     },
     "execution_count": 97,
     "metadata": {},
     "output_type": "execute_result"
    }
   ],
   "source": [
    "eigvals(A)"
   ]
  },
  {
   "cell_type": "code",
   "execution_count": 98,
   "id": "e8494b71-28ad-4abc-a828-00dadba677e8",
   "metadata": {},
   "outputs": [
    {
     "data": {
      "text/plain": [
       "2×2 Matrix{Int64}:\n",
       " 1  2\n",
       " 3  4"
      ]
     },
     "execution_count": 98,
     "metadata": {},
     "output_type": "execute_result"
    }
   ],
   "source": [
    "A = [1 2; 3 4]"
   ]
  },
  {
   "cell_type": "code",
   "execution_count": 99,
   "id": "f4127373-6c52-480a-a12e-9485b32f45f0",
   "metadata": {},
   "outputs": [
    {
     "data": {
      "text/plain": [
       "2×2 Matrix{Float64}:\n",
       " 1.0  1.0\n",
       " 1.0  1.0"
      ]
     },
     "execution_count": 99,
     "metadata": {},
     "output_type": "execute_result"
    }
   ],
   "source": [
    "B = ones(2,2)"
   ]
  },
  {
   "cell_type": "code",
   "execution_count": 100,
   "id": "8301bec2-489d-4f59-97cb-1d6d2f177f16",
   "metadata": {},
   "outputs": [
    {
     "data": {
      "text/plain": [
       "2-element Vector{Int64}:\n",
       " 1\n",
       " 3"
      ]
     },
     "execution_count": 100,
     "metadata": {},
     "output_type": "execute_result"
    }
   ],
   "source": [
    "a = [1,3]"
   ]
  },
  {
   "cell_type": "code",
   "execution_count": 101,
   "id": "cabccd89-2a25-41f0-9a94-1bc9ed93a50e",
   "metadata": {},
   "outputs": [
    {
     "data": {
      "text/plain": [
       "2-element Vector{Int64}:\n",
       " 3\n",
       " 4"
      ]
     },
     "execution_count": 101,
     "metadata": {},
     "output_type": "execute_result"
    }
   ],
   "source": [
    "b = [3, 4]"
   ]
  },
  {
   "cell_type": "code",
   "execution_count": 102,
   "id": "01826f02-a6d2-44d3-86b4-a0a17ff048fd",
   "metadata": {},
   "outputs": [
    {
     "data": {
      "text/plain": [
       "10-element Vector{Int64}:\n",
       "  1\n",
       "  2\n",
       "  3\n",
       "  4\n",
       "  5\n",
       "  6\n",
       "  7\n",
       "  8\n",
       "  9\n",
       " 10"
      ]
     },
     "execution_count": 102,
     "metadata": {},
     "output_type": "execute_result"
    }
   ],
   "source": [
    "c = [1,2,3,4,5,6,7,8,9,10]"
   ]
  },
  {
   "cell_type": "code",
   "execution_count": 103,
   "id": "b10de390-a222-4b98-b93d-25b8067f0054",
   "metadata": {},
   "outputs": [
    {
     "data": {
      "text/plain": [
       "385"
      ]
     },
     "execution_count": 103,
     "metadata": {},
     "output_type": "execute_result"
    }
   ],
   "source": [
    "c'*c"
   ]
  },
  {
   "cell_type": "code",
   "execution_count": 104,
   "id": "e3858ed7-2865-4a95-a11f-70f04e163666",
   "metadata": {},
   "outputs": [
    {
     "data": {
      "text/plain": [
       "3×3 Matrix{Int64}:\n",
       " 1  2  3\n",
       " 4  5  6\n",
       " 7  8  9"
      ]
     },
     "execution_count": 104,
     "metadata": {},
     "output_type": "execute_result"
    }
   ],
   "source": [
    "A = [1 2 3;4 5 6; 7 8 9]"
   ]
  },
  {
   "cell_type": "code",
   "execution_count": 105,
   "id": "8d4bb3ab-cf46-4860-a1ab-b3c972483c1b",
   "metadata": {},
   "outputs": [
    {
     "data": {
      "text/plain": [
       "3×3 adjoint(::Matrix{Int64}) with eltype Int64:\n",
       " 1  4  7\n",
       " 2  5  8\n",
       " 3  6  9"
      ]
     },
     "execution_count": 105,
     "metadata": {},
     "output_type": "execute_result"
    }
   ],
   "source": [
    "A'"
   ]
  },
  {
   "cell_type": "code",
   "execution_count": 106,
   "id": "2b05a843-2c7c-4460-9170-e5d9e97f1542",
   "metadata": {},
   "outputs": [
    {
     "data": {
      "text/plain": [
       "1:10"
      ]
     },
     "execution_count": 106,
     "metadata": {},
     "output_type": "execute_result"
    }
   ],
   "source": [
    "a = 1:10"
   ]
  },
  {
   "cell_type": "code",
   "execution_count": 107,
   "id": "25b09e1d-299a-4ead-8afa-27fdedf697e0",
   "metadata": {},
   "outputs": [
    {
     "name": "stdout",
     "output_type": "stream",
     "text": [
      "Vector(a) = [1, 2, 3, 4, 5, 6, 7, 8, 9, 10]\n"
     ]
    },
    {
     "data": {
      "text/plain": [
       "10-element Vector{Int64}:\n",
       "  1\n",
       "  2\n",
       "  3\n",
       "  4\n",
       "  5\n",
       "  6\n",
       "  7\n",
       "  8\n",
       "  9\n",
       " 10"
      ]
     },
     "execution_count": 107,
     "metadata": {},
     "output_type": "execute_result"
    }
   ],
   "source": [
    "@show Vector(a)"
   ]
  },
  {
   "cell_type": "code",
   "execution_count": 108,
   "id": "7746f3bc-7332-4d59-ad48-b53d173d8977",
   "metadata": {},
   "outputs": [
    {
     "data": {
      "text/plain": [
       "10×10 Diagonal{Int64, UnitRange{Int64}}:\n",
       " 1  ⋅  ⋅  ⋅  ⋅  ⋅  ⋅  ⋅  ⋅   ⋅\n",
       " ⋅  2  ⋅  ⋅  ⋅  ⋅  ⋅  ⋅  ⋅   ⋅\n",
       " ⋅  ⋅  3  ⋅  ⋅  ⋅  ⋅  ⋅  ⋅   ⋅\n",
       " ⋅  ⋅  ⋅  4  ⋅  ⋅  ⋅  ⋅  ⋅   ⋅\n",
       " ⋅  ⋅  ⋅  ⋅  5  ⋅  ⋅  ⋅  ⋅   ⋅\n",
       " ⋅  ⋅  ⋅  ⋅  ⋅  6  ⋅  ⋅  ⋅   ⋅\n",
       " ⋅  ⋅  ⋅  ⋅  ⋅  ⋅  7  ⋅  ⋅   ⋅\n",
       " ⋅  ⋅  ⋅  ⋅  ⋅  ⋅  ⋅  8  ⋅   ⋅\n",
       " ⋅  ⋅  ⋅  ⋅  ⋅  ⋅  ⋅  ⋅  9   ⋅\n",
       " ⋅  ⋅  ⋅  ⋅  ⋅  ⋅  ⋅  ⋅  ⋅  10"
      ]
     },
     "execution_count": 108,
     "metadata": {},
     "output_type": "execute_result"
    }
   ],
   "source": [
    "b = Diagonal(a)"
   ]
  },
  {
   "cell_type": "code",
   "execution_count": 109,
   "id": "b5d06428-1f63-4a51-9fef-abf7da1a8536",
   "metadata": {},
   "outputs": [
    {
     "data": {
      "text/plain": [
       "10-element Vector{Int64}:\n",
       "   1\n",
       "   4\n",
       "   9\n",
       "  16\n",
       "  25\n",
       "  36\n",
       "  49\n",
       "  64\n",
       "  81\n",
       " 100"
      ]
     },
     "execution_count": 109,
     "metadata": {},
     "output_type": "execute_result"
    }
   ],
   "source": [
    "b*a"
   ]
  },
  {
   "cell_type": "code",
   "execution_count": 110,
   "id": "dcd9334b-9a47-4eb0-8cd5-6b1ae61c266f",
   "metadata": {},
   "outputs": [
    {
     "data": {
      "text/plain": [
       "3×3 Diagonal{Float64, Vector{Float64}}:\n",
       " 1.0   ⋅    ⋅ \n",
       "  ⋅   2.0   ⋅ \n",
       "  ⋅    ⋅   3.0"
      ]
     },
     "execution_count": 110,
     "metadata": {},
     "output_type": "execute_result"
    }
   ],
   "source": [
    "b = Diagonal([1.0, 2.0, 3.0])"
   ]
  },
  {
   "cell_type": "code",
   "execution_count": 111,
   "id": "da565568-4e66-4848-92ef-49dd6bedfa1a",
   "metadata": {},
   "outputs": [
    {
     "data": {
      "text/plain": [
       "10:12"
      ]
     },
     "execution_count": 111,
     "metadata": {},
     "output_type": "execute_result"
    }
   ],
   "source": [
    "a = 10:12"
   ]
  },
  {
   "cell_type": "code",
   "execution_count": 112,
   "id": "74272b40-4ca2-491b-94d0-50b8297918f3",
   "metadata": {},
   "outputs": [
    {
     "data": {
      "text/plain": [
       "3-element Vector{Float64}:\n",
       " 10.0\n",
       " 22.0\n",
       " 36.0"
      ]
     },
     "execution_count": 112,
     "metadata": {},
     "output_type": "execute_result"
    }
   ],
   "source": [
    "b * a"
   ]
  },
  {
   "cell_type": "code",
   "execution_count": 113,
   "id": "9840c01e-1390-453a-b054-d49902c1ffa5",
   "metadata": {},
   "outputs": [
    {
     "data": {
      "text/plain": [
       "3-element Vector{Float64}:\n",
       "  9.0\n",
       " 20.0\n",
       " 33.0"
      ]
     },
     "execution_count": 113,
     "metadata": {},
     "output_type": "execute_result"
    }
   ],
   "source": [
    "b * a - [1.0, 2.0, 3.0]"
   ]
  },
  {
   "cell_type": "code",
   "execution_count": 114,
   "id": "2a2f3bf2-dfe6-4de8-8f75-be212eb8f943",
   "metadata": {},
   "outputs": [
    {
     "data": {
      "text/plain": [
       "0.0:0.1:1.0"
      ]
     },
     "execution_count": 114,
     "metadata": {},
     "output_type": "execute_result"
    }
   ],
   "source": [
    "a = 0.0:0.1:1.0"
   ]
  },
  {
   "cell_type": "code",
   "execution_count": 115,
   "id": "3854ce1e-717a-452d-8d4e-9ca6c5e9b305",
   "metadata": {},
   "outputs": [
    {
     "data": {
      "text/plain": [
       "0.01:0.1:1.01"
      ]
     },
     "execution_count": 115,
     "metadata": {},
     "output_type": "execute_result"
    }
   ],
   "source": [
    "a .+ 0.01"
   ]
  },
  {
   "cell_type": "code",
   "execution_count": 116,
   "id": "75620929-e09a-4b7f-a44b-46800f67df07",
   "metadata": {},
   "outputs": [
    {
     "data": {
      "text/plain": [
       "0.0:0.15:0.9"
      ]
     },
     "execution_count": 116,
     "metadata": {},
     "output_type": "execute_result"
    }
   ],
   "source": [
    "maxval = 1.0\n",
    "minval = 0.0\n",
    "stepsize = 0.15\n",
    "a = minval:stepsize:maxval"
   ]
  },
  {
   "cell_type": "code",
   "execution_count": 117,
   "id": "7cca6c10-8ff4-451e-871d-7591364cfe93",
   "metadata": {},
   "outputs": [
    {
     "data": {
      "text/plain": [
       "false"
      ]
     },
     "execution_count": 117,
     "metadata": {},
     "output_type": "execute_result"
    }
   ],
   "source": [
    "maximum(a) == maxval"
   ]
  },
  {
   "cell_type": "code",
   "execution_count": 118,
   "id": "3cdd281b-d0ad-4def-b2b9-45c270a8bbb8",
   "metadata": {},
   "outputs": [
    {
     "data": {
      "text/plain": [
       "(1.0, \"apple\")"
      ]
     },
     "execution_count": 118,
     "metadata": {},
     "output_type": "execute_result"
    }
   ],
   "source": [
    "t = (1.0, \"apple\")"
   ]
  },
  {
   "cell_type": "code",
   "execution_count": 119,
   "id": "d229852c-7a93-4375-8c44-6ac7bb35e5b2",
   "metadata": {},
   "outputs": [
    {
     "data": {
      "text/plain": [
       "1.0"
      ]
     },
     "execution_count": 119,
     "metadata": {},
     "output_type": "execute_result"
    }
   ],
   "source": [
    "t[1]"
   ]
  },
  {
   "cell_type": "code",
   "execution_count": 120,
   "id": "a27aaf92-9ade-440d-b765-dabed86e6d46",
   "metadata": {},
   "outputs": [
    {
     "data": {
      "text/plain": [
       "\"apple\""
      ]
     },
     "execution_count": 120,
     "metadata": {},
     "output_type": "execute_result"
    }
   ],
   "source": [
    "t[2]"
   ]
  },
  {
   "cell_type": "code",
   "execution_count": 121,
   "id": "2b10c00b-273c-4739-8e7d-f86df35a8f65",
   "metadata": {},
   "outputs": [
    {
     "data": {
      "text/plain": [
       "(1.0, \"apple\")"
      ]
     },
     "execution_count": 121,
     "metadata": {},
     "output_type": "execute_result"
    }
   ],
   "source": [
    "a, b = t"
   ]
  },
  {
   "cell_type": "code",
   "execution_count": 122,
   "id": "094b4d7b-a118-4815-8429-079d85cb5a33",
   "metadata": {},
   "outputs": [
    {
     "name": "stdout",
     "output_type": "stream",
     "text": [
      "a = 1.0 and b = apple\n"
     ]
    }
   ],
   "source": [
    "println(\"a = $a and b = $b\")"
   ]
  },
  {
   "cell_type": "code",
   "execution_count": 123,
   "id": "14a81889-956d-48b7-a856-0a23c4079460",
   "metadata": {},
   "outputs": [
    {
     "data": {
      "text/plain": [
       "(val1 = 1.0, val2 = \"test\")"
      ]
     },
     "execution_count": 123,
     "metadata": {},
     "output_type": "execute_result"
    }
   ],
   "source": [
    "t = (; val1 = 1.0, val2 = \"test\")"
   ]
  },
  {
   "cell_type": "code",
   "execution_count": 124,
   "id": "c65c665a-bcfc-43cc-b256-0b8000ae892a",
   "metadata": {},
   "outputs": [
    {
     "name": "stdout",
     "output_type": "stream",
     "text": [
      "a = 1.0 and b= test\n"
     ]
    }
   ],
   "source": [
    "println(\"a = $(t.val1) and b= $(t.val2)\")"
   ]
  },
  {
   "cell_type": "code",
   "execution_count": 125,
   "id": "e339885d-52b9-4363-bcd4-e985e02fadd6",
   "metadata": {},
   "outputs": [
    {
     "name": "stdout",
     "output_type": "stream",
     "text": [
      "a = 1.0 and b = test\n"
     ]
    }
   ],
   "source": [
    "(; val1, val2) = t\n",
    "println(\"a = $val1 and b = $val2\")"
   ]
  },
  {
   "cell_type": "code",
   "execution_count": 126,
   "id": "b65b991d-f084-407d-908b-fe06885b86b4",
   "metadata": {},
   "outputs": [
    {
     "data": {
      "text/plain": [
       "(val3 = 4, val4 = \"test!!\")"
      ]
     },
     "execution_count": 126,
     "metadata": {},
     "output_type": "execute_result"
    }
   ],
   "source": [
    "t2 = (;val3 = 4, val4 = \"test!!\")"
   ]
  },
  {
   "cell_type": "code",
   "execution_count": 127,
   "id": "290bf915-4b9a-4d03-be56-f8b368b2bb89",
   "metadata": {},
   "outputs": [
    {
     "data": {
      "text/plain": [
       "(val1 = 1.0, val2 = \"test\", val3 = 4, val4 = \"test!!\")"
      ]
     },
     "execution_count": 127,
     "metadata": {},
     "output_type": "execute_result"
    }
   ],
   "source": [
    "t3 = merge(t, t2)"
   ]
  },
  {
   "cell_type": "code",
   "execution_count": 128,
   "id": "d24e45c7-598b-43e3-8321-f06ddab45bcc",
   "metadata": {},
   "outputs": [
    {
     "data": {
      "text/plain": [
       "2.1"
      ]
     },
     "execution_count": 128,
     "metadata": {},
     "output_type": "execute_result"
    }
   ],
   "source": [
    "function f(parameters)\n",
    "    alpha, beta = parameters.alpha, parameters.beta\n",
    "    return alpha + beta\n",
    "end\n",
    "\n",
    "parameters = (; alpha = 0.1, beta = 2.0)\n",
    "f(parameters)"
   ]
  },
  {
   "cell_type": "code",
   "execution_count": 129,
   "id": "79a49aa4-e43e-42c4-8eca-6c4cc694d615",
   "metadata": {},
   "outputs": [
    {
     "data": {
      "text/plain": [
       "3.7"
      ]
     },
     "execution_count": 129,
     "metadata": {},
     "output_type": "execute_result"
    }
   ],
   "source": [
    "function f(parameters)\n",
    "    (; alpha, beta) = parameters\n",
    "    return alpha + beta\n",
    "end\n",
    "parameters = (; alpha = 1.5, beta = 2.2)\n",
    "\n",
    "f(parameters)"
   ]
  },
  {
   "cell_type": "code",
   "execution_count": 130,
   "id": "24d53b4b-294d-45fc-a49d-cfe00c2e87c0",
   "metadata": {},
   "outputs": [
    {
     "name": "stdout",
     "output_type": "stream",
     "text": [
      "param_gen() = 1.2\n",
      "param_gen(alpha = 0.2) = 0.4\n"
     ]
    },
    {
     "data": {
      "text/plain": [
       "0.4"
      ]
     },
     "execution_count": 130,
     "metadata": {},
     "output_type": "execute_result"
    }
   ],
   "source": [
    "function param_gen(; alpha = 1.0, beta = 0.2)\n",
    "    return alpha + beta\n",
    "end\n",
    "\n",
    "@show param_gen()\n",
    "@show param_gen(alpha = 0.2)"
   ]
  },
  {
   "cell_type": "code",
   "execution_count": 131,
   "id": "230200cf-22a9-4bf4-8f00-4da26d25c4d1",
   "metadata": {},
   "outputs": [
    {
     "data": {
      "text/plain": [
       "Nothing"
      ]
     },
     "execution_count": 131,
     "metadata": {},
     "output_type": "execute_result"
    }
   ],
   "source": [
    "## Nothing\n",
    "typeof(nothing)"
   ]
  },
  {
   "cell_type": "code",
   "execution_count": 132,
   "id": "eb342150-dcb3-4a13-8dfa-5c585f80f45e",
   "metadata": {},
   "outputs": [
    {
     "data": {
      "text/plain": [
       "Missing"
      ]
     },
     "execution_count": 132,
     "metadata": {},
     "output_type": "execute_result"
    }
   ],
   "source": [
    "## Missing\n",
    "typeof(missing)"
   ]
  },
  {
   "cell_type": "code",
   "execution_count": 133,
   "id": "89a8f0f9-5d0e-4043-8ccc-76a2af6daeac",
   "metadata": {},
   "outputs": [
    {
     "name": "stdout",
     "output_type": "stream",
     "text": [
      "x = 1.0\n",
      "f(1.0) = 1.0\n",
      "x was not set\n",
      "f(-1.0) = nothing\n"
     ]
    }
   ],
   "source": [
    "function f(y)\n",
    "    x = nothing\n",
    "    if y > 0.0\n",
    "        # calculations to set 'x'\n",
    "        x = y\n",
    "    end\n",
    "\n",
    "    # later can check 'x'\n",
    "    if isnothing(x)\n",
    "        println(\"x was not set\")\n",
    "    else\n",
    "        println(\"x = $x\")\n",
    "    end\n",
    "    x\n",
    "end\n",
    "\n",
    "@show f(1.0)\n",
    "@show f(-1.0)"
   ]
  },
  {
   "cell_type": "code",
   "execution_count": 134,
   "id": "e09c6290-053d-4b49-b27e-0aae5441a5a0",
   "metadata": {},
   "outputs": [
    {
     "name": "stdout",
     "output_type": "stream",
     "text": [
      "function f(-1.0) failed\n"
     ]
    }
   ],
   "source": [
    "function f(x)\n",
    "    if x > 0.0\n",
    "        return sqrt(x)\n",
    "    else\n",
    "        return nothing\n",
    "    end\n",
    "end\n",
    "\n",
    "x1 = 1.0\n",
    "x2 = -1.0\n",
    "\n",
    "y1 = f(x1)\n",
    "y2 = f(x2)\n",
    "\n",
    "if isnothing(y1)\n",
    "    println(\"function f($x2) is successful\")\n",
    "else\n",
    "    println(\"function f($x2) failed\")\n",
    "end"
   ]
  },
  {
   "cell_type": "code",
   "execution_count": 135,
   "id": "129fd749-8253-4f2a-a40e-211bd24334d3",
   "metadata": {},
   "outputs": [],
   "source": [
    "function f(x)\n",
    "    x > 0.0 ? sqrt(x) : nothing\n",
    "\n",
    "end\n",
    "\n",
    "f(-1.0)"
   ]
  },
  {
   "cell_type": "code",
   "execution_count": 136,
   "id": "2d0e72ac-2fd3-489f-b53e-7d8d1a6e7884",
   "metadata": {},
   "outputs": [
    {
     "data": {
      "text/plain": [
       "2-element Vector{Union{Nothing, Float64}}:\n",
       " 1.0\n",
       "  nothing"
      ]
     },
     "execution_count": 136,
     "metadata": {},
     "output_type": "execute_result"
    }
   ],
   "source": [
    "x = [1.0, nothing]"
   ]
  },
  {
   "cell_type": "code",
   "execution_count": 137,
   "id": "7b7d84dc-8136-4830-bdde-66e51a10c019",
   "metadata": {},
   "outputs": [
    {
     "data": {
      "text/plain": [
       "4-element Vector{Union{Nothing, Float64}}:\n",
       " 0.31622776601683794\n",
       "  nothing\n",
       " 1.4142135623730951\n",
       "  nothing"
      ]
     },
     "execution_count": 137,
     "metadata": {},
     "output_type": "execute_result"
    }
   ],
   "source": [
    "x = [0.1, -1.0, 2.0, -2.0]\n",
    "y = f.(x)"
   ]
  },
  {
   "cell_type": "code",
   "execution_count": 138,
   "id": "ea0b4599-83e8-4cfe-9056-fbb488331e07",
   "metadata": {},
   "outputs": [
    {
     "data": {
      "text/plain": [
       "1.0"
      ]
     },
     "execution_count": 138,
     "metadata": {},
     "output_type": "execute_result"
    }
   ],
   "source": [
    "function f(x)\n",
    "    @assert x > 0.0\n",
    "    sqrt(x)\n",
    "end\n",
    "\n",
    "f(1.0)"
   ]
  },
  {
   "cell_type": "code",
   "execution_count": 141,
   "id": "d15d3c94-55ff-40d9-a0cd-82d887c1291e",
   "metadata": {},
   "outputs": [
    {
     "name": "stdout",
     "output_type": "stream",
     "text": [
      "No y is given with 1.0\n"
     ]
    }
   ],
   "source": [
    "function f(x; y = nothing)\n",
    "    if isnothing(y)\n",
    "        println(\"No y is given with $x\")\n",
    "    else\n",
    "        println(\"y = $y with $x\")\n",
    "    end\n",
    "end\n",
    "\n",
    "f(1.0)\n",
    "    "
   ]
  },
  {
   "cell_type": "code",
   "execution_count": 144,
   "id": "34bc53eb-c0e9-453f-85b6-134768dfc759",
   "metadata": {},
   "outputs": [
    {
     "name": "stdout",
     "output_type": "stream",
     "text": [
      "y = 2.0 with 1.0\n"
     ]
    }
   ],
   "source": [
    "f(1.0, y = 2.0)"
   ]
  },
  {
   "cell_type": "code",
   "execution_count": 145,
   "id": "0a9a897a-0948-4ff4-adcb-7fb470c74070",
   "metadata": {},
   "outputs": [
    {
     "data": {
      "text/plain": [
       "0.1"
      ]
     },
     "execution_count": 145,
     "metadata": {},
     "output_type": "execute_result"
    }
   ],
   "source": [
    "function f(x)\n",
    "    if x > 0.0\n",
    "        return x\n",
    "    else\n",
    "        return NaN\n",
    "    end\n",
    "end\n",
    "\n",
    "f(0.1)"
   ]
  },
  {
   "cell_type": "code",
   "execution_count": 146,
   "id": "61f1bcf1-fe05-405f-a4df-73da187a5804",
   "metadata": {},
   "outputs": [
    {
     "data": {
      "text/plain": [
       "NaN"
      ]
     },
     "execution_count": 146,
     "metadata": {},
     "output_type": "execute_result"
    }
   ],
   "source": [
    "f(-0.1)"
   ]
  },
  {
   "cell_type": "code",
   "execution_count": 148,
   "id": "5d429628-28bd-4a48-a442-3f60623883e8",
   "metadata": {},
   "outputs": [
    {
     "data": {
      "text/plain": [
       "Float64"
      ]
     },
     "execution_count": 148,
     "metadata": {},
     "output_type": "execute_result"
    }
   ],
   "source": [
    "typeof(f(0.2))"
   ]
  },
  {
   "cell_type": "code",
   "execution_count": 150,
   "id": "83b70c6e-8f18-4a9b-91e5-99b68aa3cc6f",
   "metadata": {},
   "outputs": [
    {
     "data": {
      "text/plain": [
       "false"
      ]
     },
     "execution_count": 150,
     "metadata": {},
     "output_type": "execute_result"
    }
   ],
   "source": [
    "f(-0.1)==NaN "
   ]
  },
  {
   "cell_type": "code",
   "execution_count": 151,
   "id": "d9074858-795f-4954-b675-d6aba3c477a0",
   "metadata": {},
   "outputs": [
    {
     "data": {
      "text/plain": [
       "DomainError(-1.0, \"sqrt was called with a negative real argument but will only return a complex result if called with a complex argument. Try sqrt(Complex(x)).\")"
      ]
     },
     "execution_count": 151,
     "metadata": {},
     "output_type": "execute_result"
    }
   ],
   "source": [
    "try\n",
    "    sqrt(-1)\n",
    "catch err\n",
    "    err\n",
    "end"
   ]
  },
  {
   "cell_type": "code",
   "execution_count": 152,
   "id": "db3f4dd8-5f34-4495-a008-87e6cbeb8371",
   "metadata": {},
   "outputs": [
    {
     "ename": "LoadError",
     "evalue": "DomainError with -1.0:\nsqrt was called with a negative real argument but will only return a complex result if called with a complex argument. Try sqrt(Complex(x)).",
     "output_type": "error",
     "traceback": [
      "DomainError with -1.0:\nsqrt was called with a negative real argument but will only return a complex result if called with a complex argument. Try sqrt(Complex(x)).",
      "",
      "Stacktrace:",
      " [1] throw_complex_domainerror(f::Symbol, x::Float64)",
      "   @ Base.Math .\\math.jl:33",
      " [2] sqrt",
      "   @ .\\math.jl:686 [inlined]",
      " [3] sqrt(x::Int64)",
      "   @ Base.Math .\\math.jl:1578",
      " [4] top-level scope",
      "   @ In[152]:1"
     ]
    }
   ],
   "source": [
    "sqrt(-1)"
   ]
  },
  {
   "cell_type": "code",
   "execution_count": 153,
   "id": "93770267-08c8-4d56-8b04-1ce4eb893917",
   "metadata": {},
   "outputs": [
    {
     "data": {
      "text/plain": [
       "InexactError(:Int64, Int64, 3.14)"
      ]
     },
     "execution_count": 153,
     "metadata": {},
     "output_type": "execute_result"
    }
   ],
   "source": [
    "try \n",
    "    convert(Int64, 3.14)\n",
    "catch err\n",
    "    err\n",
    "end\n"
   ]
  },
  {
   "cell_type": "code",
   "execution_count": 154,
   "id": "fad8234d-d49a-408f-a913-ac244d2d280c",
   "metadata": {},
   "outputs": [
    {
     "data": {
      "text/plain": [
       "1.0"
      ]
     },
     "execution_count": 154,
     "metadata": {},
     "output_type": "execute_result"
    }
   ],
   "source": [
    "function f(x)\n",
    "    try \n",
    "        sqrt(x)\n",
    "    catch err\n",
    "        sqrt(complex(x,0))\n",
    "    end\n",
    "end\n",
    "\n",
    "f(1.0)"
   ]
  },
  {
   "cell_type": "code",
   "execution_count": 155,
   "id": "c9ed5aa7-48ef-4857-901a-235a8ef908d0",
   "metadata": {},
   "outputs": [
    {
     "data": {
      "text/plain": [
       "0.0 + 1.0im"
      ]
     },
     "execution_count": 155,
     "metadata": {},
     "output_type": "execute_result"
    }
   ],
   "source": [
    "f(-1)"
   ]
  },
  {
   "cell_type": "code",
   "execution_count": 156,
   "id": "1331f429-28ce-4972-9bef-97e1aa6a8e4a",
   "metadata": {},
   "outputs": [
    {
     "data": {
      "text/plain": [
       "6-element Vector{Union{Missing, Float64}}:\n",
       " 1.0\n",
       "  missing\n",
       " 2.0\n",
       "  missing\n",
       "  missing\n",
       " 5.0"
      ]
     },
     "execution_count": 156,
     "metadata": {},
     "output_type": "execute_result"
    }
   ],
   "source": [
    "x = [1.0, missing, 2.0, missing, missing, 5.0]"
   ]
  },
  {
   "cell_type": "code",
   "execution_count": 157,
   "id": "ace28086-4e29-4058-bf17-43d95b898873",
   "metadata": {},
   "outputs": [
    {
     "data": {
      "text/plain": [
       "f (generic function with 1 method)"
      ]
     },
     "execution_count": 157,
     "metadata": {},
     "output_type": "execute_result"
    }
   ],
   "source": [
    "f(x) = x^2"
   ]
  },
  {
   "cell_type": "code",
   "execution_count": 158,
   "id": "b2969596-84fe-4ad2-99d0-ee16ddfbfc61",
   "metadata": {},
   "outputs": [
    {
     "ename": "LoadError",
     "evalue": "MethodError: no method matching ^(::Vector{Union{Missing, Float64}}, ::Int64)\n\n\u001b[0mClosest candidates are:\n\u001b[0m  ^(\u001b[91m::Irrational{:ℯ}\u001b[39m, ::Integer)\n\u001b[0m\u001b[90m   @\u001b[39m \u001b[90mBase\u001b[39m \u001b[90m\u001b[4mmathconstants.jl:119\u001b[24m\u001b[39m\n\u001b[0m  ^(\u001b[91m::BigFloat\u001b[39m, ::Integer)\n\u001b[0m\u001b[90m   @\u001b[39m \u001b[90mBase\u001b[39m \u001b[90m\u001b[4mmpfr.jl:670\u001b[24m\u001b[39m\n\u001b[0m  ^(\u001b[91m::Float64\u001b[39m, ::Integer)\n\u001b[0m\u001b[90m   @\u001b[39m \u001b[90mBase\u001b[39m \u001b[90m\u001b[4mmath.jl:1246\u001b[24m\u001b[39m\n\u001b[0m  ...\n",
     "output_type": "error",
     "traceback": [
      "MethodError: no method matching ^(::Vector{Union{Missing, Float64}}, ::Int64)\n\n\u001b[0mClosest candidates are:\n\u001b[0m  ^(\u001b[91m::Irrational{:ℯ}\u001b[39m, ::Integer)\n\u001b[0m\u001b[90m   @\u001b[39m \u001b[90mBase\u001b[39m \u001b[90m\u001b[4mmathconstants.jl:119\u001b[24m\u001b[39m\n\u001b[0m  ^(\u001b[91m::BigFloat\u001b[39m, ::Integer)\n\u001b[0m\u001b[90m   @\u001b[39m \u001b[90mBase\u001b[39m \u001b[90m\u001b[4mmpfr.jl:670\u001b[24m\u001b[39m\n\u001b[0m  ^(\u001b[91m::Float64\u001b[39m, ::Integer)\n\u001b[0m\u001b[90m   @\u001b[39m \u001b[90mBase\u001b[39m \u001b[90m\u001b[4mmath.jl:1246\u001b[24m\u001b[39m\n\u001b[0m  ...\n",
      "",
      "Stacktrace:",
      " [1] literal_pow",
      "   @ .\\intfuncs.jl:351 [inlined]",
      " [2] f(x::Vector{Union{Missing, Float64}})",
      "   @ Main .\\In[157]:1",
      " [3] top-level scope",
      "   @ In[158]:1"
     ]
    }
   ],
   "source": [
    "f(x)"
   ]
  },
  {
   "cell_type": "code",
   "execution_count": 159,
   "id": "6f52c27f-cfcd-4b71-9b19-22e4162e0f38",
   "metadata": {},
   "outputs": [
    {
     "name": "stdout",
     "output_type": "stream",
     "text": [
      "missing + 1 = missing\n"
     ]
    },
    {
     "data": {
      "text/plain": [
       "missing"
      ]
     },
     "execution_count": 159,
     "metadata": {},
     "output_type": "execute_result"
    }
   ],
   "source": [
    "@show missing + 1"
   ]
  },
  {
   "cell_type": "code",
   "execution_count": 160,
   "id": "958fa2ee-1e0a-4aa2-ac47-3cefe57da4f1",
   "metadata": {},
   "outputs": [
    {
     "name": "stdout",
     "output_type": "stream",
     "text": [
      "missing * 2 = missing\n"
     ]
    },
    {
     "data": {
      "text/plain": [
       "missing"
      ]
     },
     "execution_count": 160,
     "metadata": {},
     "output_type": "execute_result"
    }
   ],
   "source": [
    "@show missing*2"
   ]
  },
  {
   "cell_type": "code",
   "execution_count": 161,
   "id": "d6b5f253-957c-4c2f-8cc9-adb2f3fef399",
   "metadata": {},
   "outputs": [
    {
     "name": "stdout",
     "output_type": "stream",
     "text": [
      "f(missing) = missing\n"
     ]
    },
    {
     "data": {
      "text/plain": [
       "missing"
      ]
     },
     "execution_count": 161,
     "metadata": {},
     "output_type": "execute_result"
    }
   ],
   "source": [
    "@show f(missing)"
   ]
  },
  {
   "cell_type": "code",
   "execution_count": 162,
   "id": "0522ddc2-8ccd-40a4-b92b-419708254dca",
   "metadata": {},
   "outputs": [
    {
     "name": "stdout",
     "output_type": "stream",
     "text": [
      "f(1) = 1\n"
     ]
    },
    {
     "data": {
      "text/plain": [
       "1"
      ]
     },
     "execution_count": 162,
     "metadata": {},
     "output_type": "execute_result"
    }
   ],
   "source": [
    "@show f(1)"
   ]
  },
  {
   "cell_type": "code",
   "execution_count": 163,
   "id": "b609dc33-d4ed-4430-9f95-4ce9b78dbe73",
   "metadata": {},
   "outputs": [
    {
     "name": "stdout",
     "output_type": "stream",
     "text": [
      "mean(x) = missing\n"
     ]
    },
    {
     "data": {
      "text/plain": [
       "missing"
      ]
     },
     "execution_count": 163,
     "metadata": {},
     "output_type": "execute_result"
    }
   ],
   "source": [
    "@show mean(x)"
   ]
  },
  {
   "cell_type": "code",
   "execution_count": 164,
   "id": "a62d6d0c-3d50-4f04-9252-302d24ad258d",
   "metadata": {},
   "outputs": [
    {
     "data": {
      "text/plain": [
       "missing"
      ]
     },
     "execution_count": 164,
     "metadata": {},
     "output_type": "execute_result"
    }
   ],
   "source": [
    "x = missing"
   ]
  },
  {
   "cell_type": "code",
   "execution_count": 165,
   "id": "56259f24-f9fa-4682-859a-e01c70c68af5",
   "metadata": {},
   "outputs": [
    {
     "data": {
      "text/plain": [
       "missing"
      ]
     },
     "execution_count": 165,
     "metadata": {},
     "output_type": "execute_result"
    }
   ],
   "source": [
    "x == missing"
   ]
  },
  {
   "cell_type": "code",
   "execution_count": 166,
   "id": "97f3ebac-9fbf-4dd3-bd82-77374cccab3b",
   "metadata": {},
   "outputs": [
    {
     "data": {
      "text/plain": [
       "true"
      ]
     },
     "execution_count": 166,
     "metadata": {},
     "output_type": "execute_result"
    }
   ],
   "source": [
    "x === missing"
   ]
  },
  {
   "cell_type": "code",
   "execution_count": 167,
   "id": "6c3b910c-f31a-4d56-8619-88ca32371fe7",
   "metadata": {},
   "outputs": [
    {
     "data": {
      "text/plain": [
       "true"
      ]
     },
     "execution_count": 167,
     "metadata": {},
     "output_type": "execute_result"
    }
   ],
   "source": [
    "ismissing(missing)"
   ]
  },
  {
   "cell_type": "code",
   "execution_count": 169,
   "id": "5424348e-c5e8-4333-837d-536ac0e82335",
   "metadata": {},
   "outputs": [
    {
     "data": {
      "text/plain": [
       "5-element Vector{Union{Missing, Float64}}:\n",
       " 1.0\n",
       "  missing\n",
       " 3.0\n",
       " 4.0\n",
       "  missing"
      ]
     },
     "execution_count": 169,
     "metadata": {},
     "output_type": "execute_result"
    }
   ],
   "source": [
    "x = [1.0, missing, 3.0, 4.0, missing]"
   ]
  },
  {
   "cell_type": "code",
   "execution_count": 171,
   "id": "3e7c74cb-821f-4162-a082-0e90eca77db2",
   "metadata": {},
   "outputs": [
    {
     "data": {
      "text/plain": [
       "5-element Vector{Float64}:\n",
       " 1.0\n",
       " 0.0\n",
       " 3.0\n",
       " 4.0\n",
       " 0.0"
      ]
     },
     "execution_count": 171,
     "metadata": {},
     "output_type": "execute_result"
    }
   ],
   "source": [
    "coalesce.(x, 0.0)"
   ]
  },
  {
   "cell_type": "code",
   "execution_count": null,
   "id": "4d552300-1039-4561-b7cf-08940d589407",
   "metadata": {},
   "outputs": [],
   "source": []
  }
 ],
 "metadata": {
  "kernelspec": {
   "display_name": "Julia 1.10.4",
   "language": "julia",
   "name": "julia-1.10"
  },
  "language_info": {
   "file_extension": ".jl",
   "mimetype": "application/julia",
   "name": "julia",
   "version": "1.10.4"
  }
 },
 "nbformat": 4,
 "nbformat_minor": 5
}
