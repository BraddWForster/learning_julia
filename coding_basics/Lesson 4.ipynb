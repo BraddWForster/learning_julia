{
 "cells": [
  {
   "cell_type": "code",
   "execution_count": 1,
   "id": "634c51a8-2e43-42fb-93e9-2b3e876130ba",
   "metadata": {},
   "outputs": [],
   "source": [
    "using LinearAlgebra, Statistics"
   ]
  },
  {
   "cell_type": "code",
   "execution_count": 2,
   "id": "2f4ea833-38cb-4167-9c10-e6457a940ff3",
   "metadata": {},
   "outputs": [
    {
     "data": {
      "text/plain": [
       "3-element Vector{Int64}:\n",
       " 10\n",
       " 20\n",
       " 30"
      ]
     },
     "execution_count": 2,
     "metadata": {},
     "output_type": "execute_result"
    }
   ],
   "source": [
    "a = [10, 20, 30]"
   ]
  },
  {
   "cell_type": "code",
   "execution_count": 3,
   "id": "7367c1c0-155d-43d6-bc71-50511ce2d717",
   "metadata": {},
   "outputs": [
    {
     "data": {
      "text/plain": [
       "3-element Vector{Float64}:\n",
       " 1.0\n",
       " 2.0\n",
       " 3.0"
      ]
     },
     "execution_count": 3,
     "metadata": {},
     "output_type": "execute_result"
    }
   ],
   "source": [
    "a = [1.0, 2.0, 3.0]"
   ]
  },
  {
   "cell_type": "code",
   "execution_count": 4,
   "id": "380b2941-2c31-434f-a09c-e65050434cc0",
   "metadata": {},
   "outputs": [
    {
     "data": {
      "text/plain": [
       "Vector{Float64}\u001b[90m (alias for \u001b[39m\u001b[90mArray{Float64, 1}\u001b[39m\u001b[90m)\u001b[39m"
      ]
     },
     "execution_count": 4,
     "metadata": {},
     "output_type": "execute_result"
    }
   ],
   "source": [
    "typeof(randn(100))"
   ]
  },
  {
   "cell_type": "code",
   "execution_count": 5,
   "id": "b062a557-fa66-4d22-afd3-51899426569a",
   "metadata": {},
   "outputs": [
    {
     "data": {
      "text/plain": [
       "1"
      ]
     },
     "execution_count": 5,
     "metadata": {},
     "output_type": "execute_result"
    }
   ],
   "source": [
    "ndims(a)"
   ]
  },
  {
   "cell_type": "code",
   "execution_count": 6,
   "id": "afe47b72-cbe8-4bf0-aae3-5c1a9685533a",
   "metadata": {},
   "outputs": [
    {
     "data": {
      "text/plain": [
       "(3,)"
      ]
     },
     "execution_count": 6,
     "metadata": {},
     "output_type": "execute_result"
    }
   ],
   "source": [
    "size(a)"
   ]
  },
  {
   "cell_type": "code",
   "execution_count": 7,
   "id": "eaa19609-4893-44e9-83b3-6a505ef12cf3",
   "metadata": {},
   "outputs": [
    {
     "data": {
      "text/plain": [
       "true"
      ]
     },
     "execution_count": 7,
     "metadata": {},
     "output_type": "execute_result"
    }
   ],
   "source": [
    "[1, 2, 3] == [1; 2; 3] ## both column vectors"
   ]
  },
  {
   "cell_type": "code",
   "execution_count": 8,
   "id": "02e31558-d022-4c89-9974-a72540575187",
   "metadata": {},
   "outputs": [
    {
     "data": {
      "text/plain": [
       "1×3 Matrix{Int64}:\n",
       " 1  2  3"
      ]
     },
     "execution_count": 8,
     "metadata": {},
     "output_type": "execute_result"
    }
   ],
   "source": [
    "[1 2 3]"
   ]
  },
  {
   "cell_type": "code",
   "execution_count": 9,
   "id": "fe46d07d-f6bb-412d-b0f1-da08f034089e",
   "metadata": {},
   "outputs": [
    {
     "data": {
      "text/plain": [
       "1-element Vector{Int64}:\n",
       " 14"
      ]
     },
     "execution_count": 9,
     "metadata": {},
     "output_type": "execute_result"
    }
   ],
   "source": [
    "[1 2 3] * [1, 2, 3] ## some matrix algebra"
   ]
  },
  {
   "cell_type": "code",
   "execution_count": 10,
   "id": "f3d66f48-eba8-4b4b-845f-951cdd8fe9c5",
   "metadata": {},
   "outputs": [
    {
     "data": {
      "text/plain": [
       "3-element Vector{Float64}:\n",
       " 0.0\n",
       " 0.0\n",
       " 0.0"
      ]
     },
     "execution_count": 10,
     "metadata": {},
     "output_type": "execute_result"
    }
   ],
   "source": [
    "zeros(3)"
   ]
  },
  {
   "cell_type": "code",
   "execution_count": 11,
   "id": "74b80e0f-7070-4038-bff7-bd97ea0a907b",
   "metadata": {},
   "outputs": [
    {
     "data": {
      "text/plain": [
       "2×2 Matrix{Float64}:\n",
       " 0.0  0.0\n",
       " 0.0  0.0"
      ]
     },
     "execution_count": 11,
     "metadata": {},
     "output_type": "execute_result"
    }
   ],
   "source": [
    "zeros(2,2) ## The zeros command can make a matrix"
   ]
  },
  {
   "cell_type": "code",
   "execution_count": 12,
   "id": "859a385f-1d1c-43c7-897e-51394d062b55",
   "metadata": {},
   "outputs": [
    {
     "data": {
      "text/plain": [
       "2×2 Matrix{Float64}:\n",
       " 5.0  5.0\n",
       " 5.0  5.0"
      ]
     },
     "execution_count": 12,
     "metadata": {},
     "output_type": "execute_result"
    }
   ],
   "source": [
    "fill(5.0, 2, 2) ## to make an array filled with a single value (5.0 in this case)"
   ]
  },
  {
   "cell_type": "code",
   "execution_count": 13,
   "id": "cb960d69-2092-454d-9553-07723898837a",
   "metadata": {},
   "outputs": [
    {
     "data": {
      "text/plain": [
       "2×2 Matrix{Float64}:\n",
       " 2.0237e-320   1.35106e-311\n",
       " 1.35106e-311  1.35106e-311"
      ]
     },
     "execution_count": 13,
     "metadata": {},
     "output_type": "execute_result"
    }
   ],
   "source": [
    "x = Array{Float64}(undef, 2, 2) ## you can create an empty array using the 'Array' constructor"
   ]
  },
  {
   "cell_type": "code",
   "execution_count": 14,
   "id": "65707eff-25ed-4a93-979b-81a136bb3482",
   "metadata": {},
   "outputs": [
    {
     "data": {
      "text/plain": [
       "2×2 Matrix{Int64}:\n",
       " 0  0\n",
       " 0  0"
      ]
     },
     "execution_count": 14,
     "metadata": {},
     "output_type": "execute_result"
    }
   ],
   "source": [
    "fill(0,2,2) ## Intuitively its a 2 by 2 matrix"
   ]
  },
  {
   "cell_type": "code",
   "execution_count": 15,
   "id": "1d08d810-ee82-41e8-a582-459518bb43c4",
   "metadata": {},
   "outputs": [
    {
     "data": {
      "text/plain": [
       "2×2 Matrix{Bool}:\n",
       " 0  0\n",
       " 0  0"
      ]
     },
     "execution_count": 15,
     "metadata": {},
     "output_type": "execute_result"
    }
   ],
   "source": [
    "fill(false, 2, 2) ## can fill the matrix with boolean (false is 0)"
   ]
  },
  {
   "cell_type": "code",
   "execution_count": 16,
   "id": "49617f17-f047-481d-ad73-0da2c0cb38ab",
   "metadata": {},
   "outputs": [
    {
     "data": {
      "text/plain": [
       "2"
      ]
     },
     "execution_count": 16,
     "metadata": {},
     "output_type": "execute_result"
    }
   ],
   "source": [
    "x = [1, 2, 3] \n",
    "y = x ## y = x simply creates a new named binding called y which refers to whatever x currently binds to.\n",
    "y[2]"
   ]
  },
  {
   "cell_type": "code",
   "execution_count": 17,
   "id": "40a8cc4b-4006-4e6d-a2b5-90db699e34fb",
   "metadata": {},
   "outputs": [
    {
     "data": {
      "text/plain": [
       "3-element Vector{Int64}:\n",
       " 1\n",
       " 2\n",
       " 3"
      ]
     },
     "execution_count": 17,
     "metadata": {},
     "output_type": "execute_result"
    }
   ],
   "source": [
    "## To copy the data you need to be more explicit.\n",
    "##\n",
    "x = [1, 2, 3]\n",
    "y = copy(x)\n",
    "y[1]\n",
    "x"
   ]
  },
  {
   "cell_type": "code",
   "execution_count": 18,
   "id": "48bcff15-92c7-4e61-a0c4-63684533d749",
   "metadata": {},
   "outputs": [
    {
     "name": "stdout",
     "output_type": "stream",
     "text": [
      "x = [1, 2, 3]\n"
     ]
    },
    {
     "data": {
      "text/plain": [
       "3-element Vector{Int64}:\n",
       " 1\n",
       " 2\n",
       " 3"
      ]
     },
     "execution_count": 18,
     "metadata": {},
     "output_type": "execute_result"
    }
   ],
   "source": [
    "x = [1, 2, 3]\n",
    "y = similar(x)\n",
    "@show x"
   ]
  },
  {
   "cell_type": "code",
   "execution_count": 19,
   "id": "9095fa89-207a-4f77-a39a-9d97b6a23f2b",
   "metadata": {},
   "outputs": [
    {
     "data": {
      "text/plain": [
       "4-element Vector{Int64}:\n",
       "               0\n",
       " 140733061583216\n",
       "   2735719168080\n",
       "               2"
      ]
     },
     "execution_count": 19,
     "metadata": {},
     "output_type": "execute_result"
    }
   ],
   "source": [
    "x = [1, 2, 3]\n",
    "y = similar(x, 4) ## make a vector of length 4"
   ]
  },
  {
   "cell_type": "code",
   "execution_count": 20,
   "id": "16bec1bd-9572-4292-8277-0a5ac94176c6",
   "metadata": {},
   "outputs": [
    {
     "data": {
      "text/plain": [
       "2×2 Matrix{Int64}:\n",
       "               0  2735719095904\n",
       " 140733061583216              2"
      ]
     },
     "execution_count": 20,
     "metadata": {},
     "output_type": "execute_result"
    }
   ],
   "source": [
    "x = [1, 2, 3]\n",
    "y = similar(x, 2, 2)"
   ]
  },
  {
   "cell_type": "code",
   "execution_count": 21,
   "id": "a0a25888-4a1b-47e7-be45-9459afd2aa53",
   "metadata": {},
   "outputs": [
    {
     "data": {
      "text/plain": [
       "4-element Vector{Int64}:\n",
       " 10\n",
       " 20\n",
       " 30\n",
       " 40"
      ]
     },
     "execution_count": 21,
     "metadata": {},
     "output_type": "execute_result"
    }
   ],
   "source": [
    "a = [10, 20, 30, 40]"
   ]
  },
  {
   "cell_type": "code",
   "execution_count": 22,
   "id": "7b05582a-07b6-472c-8b80-cda57395546c",
   "metadata": {},
   "outputs": [
    {
     "data": {
      "text/plain": [
       "1"
      ]
     },
     "execution_count": 22,
     "metadata": {},
     "output_type": "execute_result"
    }
   ],
   "source": [
    "ndims(a)"
   ]
  },
  {
   "cell_type": "code",
   "execution_count": 23,
   "id": "5d4d6c6f-5f03-458e-b65a-24b41be577ba",
   "metadata": {},
   "outputs": [
    {
     "data": {
      "text/plain": [
       "2×2 Matrix{Int64}:\n",
       " 10  20\n",
       " 30  40"
      ]
     },
     "execution_count": 23,
     "metadata": {},
     "output_type": "execute_result"
    }
   ],
   "source": [
    "a = [10 20; 30 40]"
   ]
  },
  {
   "cell_type": "code",
   "execution_count": 24,
   "id": "57e83724-d4a1-492b-9027-65beae5aef5a",
   "metadata": {},
   "outputs": [
    {
     "data": {
      "text/plain": [
       "4-element Vector{Int64}:\n",
       " 10\n",
       " 20\n",
       " 30\n",
       " 40"
      ]
     },
     "execution_count": 24,
     "metadata": {},
     "output_type": "execute_result"
    }
   ],
   "source": [
    "a = [10; 20; 30; 40]"
   ]
  },
  {
   "cell_type": "code",
   "execution_count": 25,
   "id": "69c61aa7-2701-401d-b2b7-bb6986dd4eef",
   "metadata": {},
   "outputs": [
    {
     "data": {
      "text/plain": [
       "1"
      ]
     },
     "execution_count": 25,
     "metadata": {},
     "output_type": "execute_result"
    }
   ],
   "source": [
    "ndims(a)"
   ]
  },
  {
   "cell_type": "code",
   "execution_count": 26,
   "id": "21cceb23-01a2-4d24-8d80-5de5d8504960",
   "metadata": {},
   "outputs": [
    {
     "data": {
      "text/plain": [
       "2×2 adjoint(::Matrix{Int64}) with eltype Int64:\n",
       " 10  30\n",
       " 20  40"
      ]
     },
     "execution_count": 26,
     "metadata": {},
     "output_type": "execute_result"
    }
   ],
   "source": [
    "a = [10 20; 30 40]'"
   ]
  },
  {
   "cell_type": "code",
   "execution_count": 27,
   "id": "536ff1b6-0316-457a-8dd8-471cf61d0d48",
   "metadata": {},
   "outputs": [
    {
     "data": {
      "text/plain": [
       "2"
      ]
     },
     "execution_count": 27,
     "metadata": {},
     "output_type": "execute_result"
    }
   ],
   "source": [
    "ndims(a)"
   ]
  },
  {
   "cell_type": "code",
   "execution_count": 28,
   "id": "44873845-8cac-4347-af57-b3a0219fa479",
   "metadata": {},
   "outputs": [
    {
     "data": {
      "text/plain": [
       "Adjoint{Int64, Matrix{Int64}}"
      ]
     },
     "execution_count": 28,
     "metadata": {},
     "output_type": "execute_result"
    }
   ],
   "source": [
    "typeof(a)"
   ]
  },
  {
   "cell_type": "code",
   "execution_count": 29,
   "id": "14aa129b-8b27-44c7-b708-d0a5502c5432",
   "metadata": {},
   "outputs": [
    {
     "data": {
      "text/plain": [
       "2-element Vector{Int64}:\n",
       " 1\n",
       " 2"
      ]
     },
     "execution_count": 29,
     "metadata": {},
     "output_type": "execute_result"
    }
   ],
   "source": [
    "[1; 2]"
   ]
  },
  {
   "cell_type": "code",
   "execution_count": 30,
   "id": "eefb41df-949e-4ebc-aeea-9db8e2e685ed",
   "metadata": {},
   "outputs": [
    {
     "data": {
      "text/plain": [
       "2×1 Matrix{Int64}:\n",
       " 1\n",
       " 2"
      ]
     },
     "execution_count": 30,
     "metadata": {},
     "output_type": "execute_result"
    }
   ],
   "source": [
    "[1; 2;;]"
   ]
  },
  {
   "cell_type": "code",
   "execution_count": 31,
   "id": "6671b3a9-1400-459a-8869-e29013129db7",
   "metadata": {},
   "outputs": [
    {
     "data": {
      "text/plain": [
       "2×1×1 Array{Int64, 3}:\n",
       "[:, :, 1] =\n",
       " 1\n",
       " 2"
      ]
     },
     "execution_count": 31,
     "metadata": {},
     "output_type": "execute_result"
    }
   ],
   "source": [
    "[1; 2;;;]"
   ]
  },
  {
   "cell_type": "code",
   "execution_count": 32,
   "id": "5c637b5e-292e-477d-b6e7-45252ef6687c",
   "metadata": {},
   "outputs": [
    {
     "data": {
      "text/plain": [
       "1×1 Matrix{Int64}:\n",
       " 1"
      ]
     },
     "execution_count": 32,
     "metadata": {},
     "output_type": "execute_result"
    }
   ],
   "source": [
    "[1;;]"
   ]
  },
  {
   "cell_type": "code",
   "execution_count": 33,
   "id": "9cd1e239-88f1-4ae1-a29c-bb08e9c27a15",
   "metadata": {},
   "outputs": [
    {
     "data": {
      "text/plain": [
       "2×2×1 Array{Int64, 3}:\n",
       "[:, :, 1] =\n",
       " 1  2\n",
       " 3  4"
      ]
     },
     "execution_count": 33,
     "metadata": {},
     "output_type": "execute_result"
    }
   ],
   "source": [
    "[1 2; 3 4;;;]"
   ]
  },
  {
   "cell_type": "code",
   "execution_count": 34,
   "id": "07fe3421-6381-4fc7-992c-3041821465ec",
   "metadata": {},
   "outputs": [
    {
     "data": {
      "text/plain": [
       "30"
      ]
     },
     "execution_count": 34,
     "metadata": {},
     "output_type": "execute_result"
    }
   ],
   "source": [
    "a = [10 20 30 40]\n",
    "a[end - 1]"
   ]
  },
  {
   "cell_type": "code",
   "execution_count": 35,
   "id": "8afec64f-7a84-40b1-8f7a-d49bfb26ea51",
   "metadata": {},
   "outputs": [
    {
     "data": {
      "text/plain": [
       "2×2 Matrix{Float64}:\n",
       " 0.582573  0.996333\n",
       " 0.425269  0.229832"
      ]
     },
     "execution_count": 35,
     "metadata": {},
     "output_type": "execute_result"
    }
   ],
   "source": [
    "a = rand(2,2)"
   ]
  },
  {
   "cell_type": "code",
   "execution_count": 36,
   "id": "80baac4e-b0ab-4d92-bbc6-5d313ee83d2e",
   "metadata": {},
   "outputs": [
    {
     "data": {
      "text/plain": [
       "0.582573182722973"
      ]
     },
     "execution_count": 36,
     "metadata": {},
     "output_type": "execute_result"
    }
   ],
   "source": [
    "a[1,1]"
   ]
  },
  {
   "cell_type": "code",
   "execution_count": 37,
   "id": "a5c17b1f-f277-4c2a-8e02-cdb5c1650c78",
   "metadata": {},
   "outputs": [
    {
     "data": {
      "text/plain": [
       "2-element Vector{Float64}:\n",
       " 0.582573182722973\n",
       " 0.9963331302491292"
      ]
     },
     "execution_count": 37,
     "metadata": {},
     "output_type": "execute_result"
    }
   ],
   "source": [
    "a[1,:]"
   ]
  },
  {
   "cell_type": "code",
   "execution_count": 38,
   "id": "963bc2a3-6461-41e3-b51d-ada4bb3d03cd",
   "metadata": {},
   "outputs": [
    {
     "data": {
      "text/plain": [
       "2-element Vector{Float64}:\n",
       " 0.7569370799652079\n",
       " 0.36852895196765445"
      ]
     },
     "execution_count": 38,
     "metadata": {},
     "output_type": "execute_result"
    }
   ],
   "source": [
    "a = rand(2,2)\n",
    "b = [true false; false true]\n",
    "a[b]"
   ]
  },
  {
   "cell_type": "code",
   "execution_count": 39,
   "id": "d0da3020-653f-442b-9810-f85d03ec7397",
   "metadata": {},
   "outputs": [
    {
     "data": {
      "text/plain": [
       "4-element Vector{Float64}:\n",
       " 0.0\n",
       " 0.0\n",
       " 0.0\n",
       " 0.0"
      ]
     },
     "execution_count": 39,
     "metadata": {},
     "output_type": "execute_result"
    }
   ],
   "source": [
    "a = zeros(4)"
   ]
  },
  {
   "cell_type": "code",
   "execution_count": 40,
   "id": "b3c07ca9-6374-4a39-afa0-b625e27f45da",
   "metadata": {},
   "outputs": [
    {
     "data": {
      "text/plain": [
       "3-element view(::Vector{Float64}, 2:4) with eltype Float64:\n",
       " 42.0\n",
       " 42.0\n",
       " 42.0"
      ]
     },
     "execution_count": 40,
     "metadata": {},
     "output_type": "execute_result"
    }
   ],
   "source": [
    "a[2:end] .= 42"
   ]
  },
  {
   "cell_type": "code",
   "execution_count": 41,
   "id": "e8666353-6bc3-40dc-9b47-3f8747edc888",
   "metadata": {},
   "outputs": [
    {
     "data": {
      "text/plain": [
       "4-element Vector{Float64}:\n",
       "  0.0\n",
       " 42.0\n",
       " 42.0\n",
       " 42.0"
      ]
     },
     "execution_count": 41,
     "metadata": {},
     "output_type": "execute_result"
    }
   ],
   "source": [
    "a"
   ]
  },
  {
   "cell_type": "code",
   "execution_count": 42,
   "id": "66246675-4060-493c-ad4a-b1029ab44051",
   "metadata": {},
   "outputs": [
    {
     "name": "stdout",
     "output_type": "stream",
     "text": [
      "b = [2, 4]\n"
     ]
    },
    {
     "data": {
      "text/plain": [
       "2×2 Matrix{Int64}:\n",
       " 1  4\n",
       " 3  5"
      ]
     },
     "execution_count": 42,
     "metadata": {},
     "output_type": "execute_result"
    }
   ],
   "source": [
    "a = [1 2; 3 4]\n",
    "b = a[:, 2]\n",
    "@show b\n",
    "a[:, 2] = [4, 5]\n",
    "a"
   ]
  },
  {
   "cell_type": "code",
   "execution_count": 43,
   "id": "86b96531-228c-4548-93aa-1785210c912b",
   "metadata": {},
   "outputs": [
    {
     "data": {
      "text/plain": [
       "2×2 Matrix{Int64}:\n",
       " 1  2\n",
       " 3  4"
      ]
     },
     "execution_count": 43,
     "metadata": {},
     "output_type": "execute_result"
    }
   ],
   "source": [
    "a = [1 2; 3 4]"
   ]
  },
  {
   "cell_type": "code",
   "execution_count": 44,
   "id": "f3b25a79-33d2-48a4-820c-db3a807405a8",
   "metadata": {},
   "outputs": [
    {
     "data": {
      "text/plain": [
       "2-element Vector{Int64}:\n",
       " 1\n",
       " 3"
      ]
     },
     "execution_count": 44,
     "metadata": {},
     "output_type": "execute_result"
    }
   ],
   "source": [
    "b = a[:, 1]"
   ]
  },
  {
   "cell_type": "code",
   "execution_count": 45,
   "id": "1ca905e4-e326-4ddc-9e2e-a1eb95b9d173",
   "metadata": {},
   "outputs": [
    {
     "data": {
      "text/plain": [
       "2-element view(::Matrix{Int64}, :, 2) with eltype Int64:\n",
       " 2\n",
       " 4"
      ]
     },
     "execution_count": 45,
     "metadata": {},
     "output_type": "execute_result"
    }
   ],
   "source": [
    "@views b = a[:, 2]"
   ]
  },
  {
   "cell_type": "code",
   "execution_count": 46,
   "id": "9b6220d1-02d5-469b-a6cb-bb903eec91f2",
   "metadata": {},
   "outputs": [
    {
     "data": {
      "text/plain": [
       "true"
      ]
     },
     "execution_count": 46,
     "metadata": {},
     "output_type": "execute_result"
    }
   ],
   "source": [
    "view(a, :, 2) == b"
   ]
  },
  {
   "cell_type": "code",
   "execution_count": 47,
   "id": "30c808bf-0d5c-4faa-bfe0-0dd02a9f5683",
   "metadata": {},
   "outputs": [
    {
     "data": {
      "text/plain": [
       "2×2 Matrix{Int64}:\n",
       " 1  2\n",
       " 3  4"
      ]
     },
     "execution_count": 47,
     "metadata": {},
     "output_type": "execute_result"
    }
   ],
   "source": [
    "a = [1 2; 3 4]"
   ]
  },
  {
   "cell_type": "code",
   "execution_count": 48,
   "id": "97fcdb3c-0735-4aa7-8ff0-7f7550a575e6",
   "metadata": {},
   "outputs": [
    {
     "data": {
      "text/plain": [
       "2-element Vector{Int64}:\n",
       " 2\n",
       " 4"
      ]
     },
     "execution_count": 48,
     "metadata": {},
     "output_type": "execute_result"
    }
   ],
   "source": [
    "b_slice = a[:, 2]"
   ]
  },
  {
   "cell_type": "code",
   "execution_count": 49,
   "id": "5c54d2d4-34c6-4091-8ad9-17cdab12a103",
   "metadata": {},
   "outputs": [
    {
     "data": {
      "text/plain": [
       "Vector{Int64}\u001b[90m (alias for \u001b[39m\u001b[90mArray{Int64, 1}\u001b[39m\u001b[90m)\u001b[39m"
      ]
     },
     "execution_count": 49,
     "metadata": {},
     "output_type": "execute_result"
    }
   ],
   "source": [
    "typeof(b_slice)"
   ]
  },
  {
   "cell_type": "code",
   "execution_count": 50,
   "id": "2f69538d-7aee-4ff5-8279-1eda35fbcea1",
   "metadata": {},
   "outputs": [
    {
     "data": {
      "text/plain": [
       "Matrix{Int64}\u001b[90m (alias for \u001b[39m\u001b[90mArray{Int64, 2}\u001b[39m\u001b[90m)\u001b[39m"
      ]
     },
     "execution_count": 50,
     "metadata": {},
     "output_type": "execute_result"
    }
   ],
   "source": [
    "typeof(a)"
   ]
  },
  {
   "cell_type": "code",
   "execution_count": 51,
   "id": "c7fea77f-eb7c-41a0-98cd-bd6c13fa9c00",
   "metadata": {},
   "outputs": [
    {
     "data": {
      "text/plain": [
       "2-element view(::Matrix{Int64}, :, 2) with eltype Int64:\n",
       " 2\n",
       " 4"
      ]
     },
     "execution_count": 51,
     "metadata": {},
     "output_type": "execute_result"
    }
   ],
   "source": [
    "@views b =  a[:, 2]"
   ]
  },
  {
   "cell_type": "code",
   "execution_count": 52,
   "id": "fa62d112-502e-47b6-b31c-610d47149abc",
   "metadata": {},
   "outputs": [
    {
     "data": {
      "text/plain": [
       "SubArray{Int64, 1, Matrix{Int64}, Tuple{Base.Slice{Base.OneTo{Int64}}, Int64}, true}"
      ]
     },
     "execution_count": 52,
     "metadata": {},
     "output_type": "execute_result"
    }
   ],
   "source": [
    "typeof(b)"
   ]
  },
  {
   "cell_type": "code",
   "execution_count": 53,
   "id": "69ae5a08-5ed7-42f0-9f57-f80a9cd5c768",
   "metadata": {},
   "outputs": [
    {
     "data": {
      "text/plain": [
       "2×2 Matrix{Int64}:\n",
       " 1  2\n",
       " 3  4"
      ]
     },
     "execution_count": 53,
     "metadata": {},
     "output_type": "execute_result"
    }
   ],
   "source": [
    "a = [1 2; 3 4]"
   ]
  },
  {
   "cell_type": "code",
   "execution_count": 54,
   "id": "dfbcd3ff-1414-42c0-a5be-70b41bb88b35",
   "metadata": {},
   "outputs": [
    {
     "data": {
      "text/plain": [
       "2×2 adjoint(::Matrix{Int64}) with eltype Int64:\n",
       " 1  3\n",
       " 2  4"
      ]
     },
     "execution_count": 54,
     "metadata": {},
     "output_type": "execute_result"
    }
   ],
   "source": [
    "b = a'"
   ]
  },
  {
   "cell_type": "code",
   "execution_count": 55,
   "id": "c15989ef-cb19-426d-9141-f0071c8e8ca0",
   "metadata": {},
   "outputs": [
    {
     "data": {
      "text/plain": [
       "Adjoint{Int64, Matrix{Int64}}"
      ]
     },
     "execution_count": 55,
     "metadata": {},
     "output_type": "execute_result"
    }
   ],
   "source": [
    "typeof(b)"
   ]
  },
  {
   "cell_type": "code",
   "execution_count": 56,
   "id": "c0c02b41-e2c6-403c-afa4-274786d47ffa",
   "metadata": {},
   "outputs": [
    {
     "data": {
      "text/plain": [
       "true"
      ]
     },
     "execution_count": 56,
     "metadata": {},
     "output_type": "execute_result"
    }
   ],
   "source": [
    "a = [1 2; 3 4]\n",
    "b = a'\n",
    "c = Matrix(b)\n",
    "d = collect(b)\n",
    "c == d"
   ]
  },
  {
   "cell_type": "code",
   "execution_count": 57,
   "id": "f4ffbe7a-a727-4466-bcdc-5701fbd3d540",
   "metadata": {},
   "outputs": [
    {
     "data": {
      "text/plain": [
       "2×2 Diagonal{Int64, Vector{Int64}}:\n",
       " 1  ⋅\n",
       " ⋅  4"
      ]
     },
     "execution_count": 57,
     "metadata": {},
     "output_type": "execute_result"
    }
   ],
   "source": [
    "d = [1.0 2.0]\n",
    "\n",
    "a = Diagonal(b)"
   ]
  },
  {
   "cell_type": "code",
   "execution_count": 58,
   "id": "dcfe3455-1cde-4289-b2ed-1eb5175f100b",
   "metadata": {},
   "outputs": [
    {
     "name": "stdout",
     "output_type": "stream",
     "text": [
      "2a = [2 0; 0 8]\n"
     ]
    },
    {
     "data": {
      "text/plain": [
       "2×2 Diagonal{Int64, Vector{Int64}}:\n",
       " 2  ⋅\n",
       " ⋅  8"
      ]
     },
     "execution_count": 58,
     "metadata": {},
     "output_type": "execute_result"
    }
   ],
   "source": [
    "@show 2a"
   ]
  },
  {
   "cell_type": "code",
   "execution_count": 59,
   "id": "b8b3240b-c0aa-4dd5-bd4a-18214dc00e6a",
   "metadata": {},
   "outputs": [
    {
     "data": {
      "text/plain": [
       "2×2 Matrix{Float64}:\n",
       " 0.122876  0.929722\n",
       " 0.489019  0.415276"
      ]
     },
     "execution_count": 59,
     "metadata": {},
     "output_type": "execute_result"
    }
   ],
   "source": [
    "b = rand(2, 2)"
   ]
  },
  {
   "cell_type": "code",
   "execution_count": 60,
   "id": "d9acec79-07c4-4914-9401-acb215c65b67",
   "metadata": {},
   "outputs": [
    {
     "name": "stdout",
     "output_type": "stream",
     "text": [
      "b * a = [0.122876018474255 3.71888901264449; 0.4890191641280187 1.6611048679120035]\n"
     ]
    },
    {
     "data": {
      "text/plain": [
       "2×2 Matrix{Float64}:\n",
       " 0.122876  3.71889\n",
       " 0.489019  1.6611"
      ]
     },
     "execution_count": 60,
     "metadata": {},
     "output_type": "execute_result"
    }
   ],
   "source": [
    "@show b * a"
   ]
  },
  {
   "cell_type": "code",
   "execution_count": 61,
   "id": "1e3aeffa-259c-46e8-8bf2-8f0fc00ea11d",
   "metadata": {},
   "outputs": [
    {
     "data": {
      "text/plain": [
       "2×2 Matrix{Float64}:\n",
       " 0.0  2.0\n",
       " 3.0  3.0"
      ]
     },
     "execution_count": 61,
     "metadata": {},
     "output_type": "execute_result"
    }
   ],
   "source": [
    "b = [1.0 2.0; 3.0 4.0]\n",
    "b - Diagonal([1.0, 1.0])"
   ]
  },
  {
   "cell_type": "code",
   "execution_count": 62,
   "id": "df00ec99-2177-4173-bec1-9e922770716a",
   "metadata": {},
   "outputs": [
    {
     "data": {
      "text/plain": [
       "2×2 Matrix{Float64}:\n",
       " 0.0  2.0\n",
       " 3.0  3.0"
      ]
     },
     "execution_count": 62,
     "metadata": {},
     "output_type": "execute_result"
    }
   ],
   "source": [
    "b = [1.0 2.0; 3.0 4.0]\n",
    "b - I ## I is an identity matrix"
   ]
  },
  {
   "cell_type": "code",
   "execution_count": 63,
   "id": "d2514c78-8ec9-4a7c-8867-d80f43f5727c",
   "metadata": {},
   "outputs": [
    {
     "data": {
      "text/plain": [
       "UniformScaling{Bool}"
      ]
     },
     "execution_count": 63,
     "metadata": {},
     "output_type": "execute_result"
    }
   ],
   "source": [
    "typeof(I)"
   ]
  },
  {
   "cell_type": "code",
   "execution_count": 64,
   "id": "398fd562-9cf5-4f25-8577-a650ce8b5719",
   "metadata": {},
   "outputs": [
    {
     "name": "stdout",
     "output_type": "stream",
     "text": [
      "(x, y, z) = ([1, 2, 3], [2, 3, 4], [2, 3, 4])\n"
     ]
    }
   ],
   "source": [
    "x = [1, 2, 3]\n",
    "y = x ## name y is bound to whatever x is bound to \n",
    "z = [2, 3, 4]\n",
    "y = z ## only changes the binding not the value\n",
    "@show (x, y, z);"
   ]
  },
  {
   "cell_type": "code",
   "execution_count": 65,
   "id": "35242521-f022-4ea9-815f-253855e8477c",
   "metadata": {},
   "outputs": [
    {
     "name": "stdout",
     "output_type": "stream",
     "text": [
      "(x, y, z) = ([2, 3, 4], [2, 3, 4], [2, 3, 4])\n"
     ]
    },
    {
     "data": {
      "text/plain": [
       "([2, 3, 4], [2, 3, 4], [2, 3, 4])"
      ]
     },
     "execution_count": 65,
     "metadata": {},
     "output_type": "execute_result"
    }
   ],
   "source": [
    "x = [1, 2, 3]\n",
    "y = x\n",
    "z = [2, 3, 4]\n",
    "y .= z\n",
    "@show (x, y, z)"
   ]
  },
  {
   "cell_type": "code",
   "execution_count": 66,
   "id": "b8358aea-d205-49e0-b30b-58afb4b9e171",
   "metadata": {},
   "outputs": [
    {
     "data": {
      "text/plain": [
       "2-element Vector{Int64}:\n",
       "  5\n",
       " 11"
      ]
     },
     "execution_count": 66,
     "metadata": {},
     "output_type": "execute_result"
    }
   ],
   "source": [
    "function f(x)\n",
    "    return [1 2; 3 4] * x ## matrix * column vector\n",
    "end\n",
    "\n",
    "val = [1, 2]\n",
    "f(val)"
   ]
  },
  {
   "cell_type": "code",
   "execution_count": 67,
   "id": "b85de427-e624-4e7d-9b5c-db68b60d63d1",
   "metadata": {},
   "outputs": [
    {
     "data": {
      "text/plain": [
       "2-element Vector{Int64}:\n",
       "  5\n",
       " 11"
      ]
     },
     "execution_count": 67,
     "metadata": {},
     "output_type": "execute_result"
    }
   ],
   "source": [
    "function f(x)\n",
    "    return [1 2; 3 4] * x\n",
    "end\n",
    "\n",
    "val = [1, 2]\n",
    "y = similar(val)\n",
    "\n",
    "function f!(out, x)\n",
    "    out .= [1 2; 3 4] * x\n",
    "end\n",
    "\n",
    "f!(y, val)\n",
    "y"
   ]
  },
  {
   "cell_type": "code",
   "execution_count": 68,
   "id": "682e8355-07d0-4de4-9a78-8a052399fd8f",
   "metadata": {},
   "outputs": [
    {
     "data": {
      "text/plain": [
       "3-element Vector{Int64}:\n",
       " 1\n",
       " 2\n",
       " 3"
      ]
     },
     "execution_count": 68,
     "metadata": {},
     "output_type": "execute_result"
    }
   ],
   "source": [
    "x = [1, 2, 3]"
   ]
  },
  {
   "cell_type": "code",
   "execution_count": 69,
   "id": "03b47a2c-d879-47b1-9f04-a8ec189d143d",
   "metadata": {},
   "outputs": [
    {
     "data": {
      "text/plain": [
       "2-element Vector{Int64}:\n",
       "  5\n",
       " 11"
      ]
     },
     "execution_count": 69,
     "metadata": {},
     "output_type": "execute_result"
    }
   ],
   "source": [
    "function f(x)\n",
    "    return [1 2; 3 4] * x\n",
    "end\n",
    "\n",
    "val = [1, 2]\n",
    "y = similar(val)\n",
    "\n",
    "function f!(out, x)\n",
    "    out .= [1 2; 3 4] * x\n",
    "end\n",
    "\n",
    "f!(y, val)"
   ]
  },
  {
   "cell_type": "code",
   "execution_count": 70,
   "id": "06e7e557-eee8-43b5-b299-d184cdfd9d76",
   "metadata": {},
   "outputs": [
    {
     "data": {
      "text/plain": [
       "1×2 Matrix{Int64}:\n",
       " 1  2"
      ]
     },
     "execution_count": 70,
     "metadata": {},
     "output_type": "execute_result"
    }
   ],
   "source": [
    "y = [1 2]"
   ]
  },
  {
   "cell_type": "code",
   "execution_count": 71,
   "id": "ffb5b8c2-3774-4113-ad7c-cfe01b2aae3f",
   "metadata": {},
   "outputs": [
    {
     "data": {
      "text/plain": [
       "3"
      ]
     },
     "execution_count": 71,
     "metadata": {},
     "output_type": "execute_result"
    }
   ],
   "source": [
    "y .-= 2\n",
    "\n",
    "x = 5\n",
    "\n",
    "x = x - 2"
   ]
  },
  {
   "cell_type": "code",
   "execution_count": 72,
   "id": "d51bd98a-ba3e-45f1-bbee-fa07a7d1171e",
   "metadata": {},
   "outputs": [
    {
     "name": "stdout",
     "output_type": "stream",
     "text": [
      "x = 2\n"
     ]
    },
    {
     "data": {
      "text/plain": [
       "2"
      ]
     },
     "execution_count": 72,
     "metadata": {},
     "output_type": "execute_result"
    }
   ],
   "source": [
    "x = 2\n",
    "\n",
    "function f(x)\n",
    "    x = 3\n",
    "end\n",
    "\n",
    "f(x)\n",
    "@show x"
   ]
  },
  {
   "cell_type": "code",
   "execution_count": 73,
   "id": "979a7336-da16-445a-a499-722af7b80bee",
   "metadata": {},
   "outputs": [
    {
     "name": "stdout",
     "output_type": "stream",
     "text": [
      "xdynamic = [1, 2]\n",
      "g(xdynamic) = \"Success!\"\n",
      "xdynamic = [2, 4]\n"
     ]
    }
   ],
   "source": [
    "using StaticArrays\n",
    "\n",
    "xdynamic = [1, 2]\n",
    "xstatic = @SVector [1, 2] # turns it to a highly optimised static vector\n",
    "\n",
    "f(x) = 2x\n",
    "\n",
    "# in place version\n",
    "function g(x)\n",
    "    x .= 2x\n",
    "    return \"Success!\"\n",
    "end\n",
    "\n",
    "@show xdynamic\n",
    "@show g(xdynamic)\n",
    "@show xdynamic;"
   ]
  },
  {
   "cell_type": "code",
   "execution_count": 74,
   "id": "fc766866-1b6a-4d8c-9217-2588550a9082",
   "metadata": {},
   "outputs": [
    {
     "name": "stdout",
     "output_type": "stream",
     "text": [
      "a = [-1, 0, 1]\n",
      "length(a) = 3\n",
      "sum(a) = 0\n",
      "mean(a) = 0.0\n",
      "std(a) = 1.0\n",
      "var(a) = 1.0\n",
      "minimum(a) = -1\n",
      "maximum(a) = 1\n",
      "extrema(a) = (-1, 1)\n"
     ]
    },
    {
     "data": {
      "text/plain": [
       "(-1, 1)"
      ]
     },
     "execution_count": 74,
     "metadata": {},
     "output_type": "execute_result"
    }
   ],
   "source": [
    "## Operations and arrays\n",
    "\n",
    "a = [-1, 0, 1]\n",
    "@show a\n",
    "@show length(a)\n",
    "@show sum(a)\n",
    "@show mean(a)\n",
    "@show std(a)\n",
    "@show var(a)\n",
    "@show minimum(a)\n",
    "@show maximum(a)\n",
    "@show extrema(a)"
   ]
  },
  {
   "cell_type": "code",
   "execution_count": 75,
   "id": "4cd788b0-3999-4880-a665-7898568b8afb",
   "metadata": {},
   "outputs": [
    {
     "name": "stdout",
     "output_type": "stream",
     "text": [
      "b = [1, 0, -1]\n"
     ]
    },
    {
     "data": {
      "text/plain": [
       "3-element Vector{Int64}:\n",
       "  1\n",
       "  0\n",
       " -1"
      ]
     },
     "execution_count": 75,
     "metadata": {},
     "output_type": "execute_result"
    }
   ],
   "source": [
    "## To sort an array\n",
    "b = sort(a, rev = true)\n",
    "@show b\n",
    "\n",
    "b = sort!(a, rev = true)"
   ]
  },
  {
   "cell_type": "code",
   "execution_count": 76,
   "id": "4d62a4b4-ca32-40fe-b06b-77780764b546",
   "metadata": {},
   "outputs": [
    {
     "data": {
      "text/plain": [
       "true"
      ]
     },
     "execution_count": 76,
     "metadata": {},
     "output_type": "execute_result"
    }
   ],
   "source": [
    "## test if a and b are equal after you reverse it\n",
    "a == b"
   ]
  },
  {
   "cell_type": "code",
   "execution_count": 77,
   "id": "c4acea5a-6410-4bd9-8639-8c8cf53a4c36",
   "metadata": {},
   "outputs": [
    {
     "data": {
      "text/plain": [
       "true"
      ]
     },
     "execution_count": 77,
     "metadata": {},
     "output_type": "execute_result"
    }
   ],
   "source": [
    "## test if a and b are identical (i.e. share the same memory)\n",
    "a === b"
   ]
  },
  {
   "cell_type": "code",
   "execution_count": 78,
   "id": "5a9c9178-9570-4b5c-acf2-095cd359e70f",
   "metadata": {},
   "outputs": [
    {
     "name": "stdout",
     "output_type": "stream",
     "text": [
      "a = [1.0 1.0]\n",
      "b = [1.0 1.0; 1.0 1.0]\n",
      "c = [2.0 2.0]\n"
     ]
    },
    {
     "data": {
      "text/plain": [
       "2×1 Matrix{Float64}:\n",
       " 2.0\n",
       " 2.0"
      ]
     },
     "execution_count": 78,
     "metadata": {},
     "output_type": "execute_result"
    }
   ],
   "source": [
    "## Matrix algebra\n",
    "a = ones(1, 2)\n",
    "b = ones(2, 2)\n",
    "@show a\n",
    "@show b\n",
    "\n",
    "c = a * b\n",
    "d = b * a'\n",
    "@show c\n",
    "d"
   ]
  },
  {
   "cell_type": "code",
   "execution_count": 79,
   "id": "ca3a4a93-547f-4184-a814-fab1d29263b1",
   "metadata": {},
   "outputs": [
    {
     "data": {
      "text/plain": [
       "2×2 Matrix{Float64}:\n",
       " -1.0  -1.0\n",
       "  1.0   1.0"
      ]
     },
     "execution_count": 79,
     "metadata": {},
     "output_type": "execute_result"
    }
   ],
   "source": [
    "## Solve the linear system AX = B for X use A/B\n",
    "A = [1 2; 2 3]\n",
    "B = ones(2,2)\n",
    "\n",
    "A\\B\n",
    "\n",
    "inv(A) * B"
   ]
  },
  {
   "cell_type": "code",
   "execution_count": 80,
   "id": "69b46d49-6cb7-4cb5-b378-0115f9434de1",
   "metadata": {},
   "outputs": [
    {
     "data": {
      "text/plain": [
       "2.0"
      ]
     },
     "execution_count": 80,
     "metadata": {},
     "output_type": "execute_result"
    }
   ],
   "source": [
    "ones(2)' * ones(2)"
   ]
  },
  {
   "cell_type": "code",
   "execution_count": 81,
   "id": "7dfc7cc7-f8c2-446f-a327-29ba191c6b67",
   "metadata": {},
   "outputs": [
    {
     "name": "stdout",
     "output_type": "stream",
     "text": [
      "dot((ones(2))', ones(2)) = 2.0\n",
      "ones(2) ⋅ ones(2) = 2.0\n"
     ]
    },
    {
     "data": {
      "text/plain": [
       "2.0"
      ]
     },
     "execution_count": 81,
     "metadata": {},
     "output_type": "execute_result"
    }
   ],
   "source": [
    "@show dot(ones(2)', ones(2))\n",
    "@show ones(2) ⋅ ones(2)"
   ]
  },
  {
   "cell_type": "code",
   "execution_count": 82,
   "id": "a1f7e0b4-b99e-4460-9803-8d7f6be87b87",
   "metadata": {},
   "outputs": [
    {
     "data": {
      "text/plain": [
       "2×2 Matrix{Float64}:\n",
       " 1.0  1.0\n",
       " 1.0  1.0"
      ]
     },
     "execution_count": 82,
     "metadata": {},
     "output_type": "execute_result"
    }
   ],
   "source": [
    "## Elementwise operations\n",
    "## if you want to multiply every element in of matrix A with its corresponding element in B then you can use \".*\"\n",
    "A = ones(2,2)\n",
    "B = ones(2, 2)\n",
    "A.*B"
   ]
  },
  {
   "cell_type": "code",
   "execution_count": 83,
   "id": "8f19ff40-d240-4b81-b254-81ee077e72e5",
   "metadata": {},
   "outputs": [
    {
     "data": {
      "text/plain": [
       "2×2 Matrix{Float64}:\n",
       " 1.0  1.0\n",
       " 1.0  1.0"
      ]
     },
     "execution_count": 83,
     "metadata": {},
     "output_type": "execute_result"
    }
   ],
   "source": [
    "## same with squaring a result\n",
    "A.^2"
   ]
  },
  {
   "cell_type": "code",
   "execution_count": 84,
   "id": "03207e13-5f32-49c7-b360-4889f0f227c3",
   "metadata": {},
   "outputs": [
    {
     "name": "stdout",
     "output_type": "stream",
     "text": [
      "ones(2, 2) + ones(2, 2) = [2.0 2.0; 2.0 2.0]\n",
      "ones(2, 2) - ones(2, 2) = [0.0 0.0; 0.0 0.0]\n"
     ]
    },
    {
     "data": {
      "text/plain": [
       "2×2 Matrix{Int64}:\n",
       " 3  3\n",
       " 6  6"
      ]
     },
     "execution_count": 84,
     "metadata": {},
     "output_type": "execute_result"
    }
   ],
   "source": [
    "## there are operations that are mathematically valid without broadcasting, so you don't need \".\"\n",
    "@show ones(2,2) + ones(2,2)\n",
    "@show ones(2,2) - ones(2,2);\n",
    "\n",
    "A = [1 1; 2 2]\n",
    "3A"
   ]
  },
  {
   "cell_type": "code",
   "execution_count": 85,
   "id": "2a739c52-31c7-4a41-bfbc-e6ba46cdfee8",
   "metadata": {},
   "outputs": [
    {
     "data": {
      "text/plain": [
       "2×2 Matrix{Int64}:\n",
       " 4  5\n",
       " 6  7"
      ]
     },
     "execution_count": 85,
     "metadata": {},
     "output_type": "execute_result"
    }
   ],
   "source": [
    "## However, scalar addition requires a broadcast\n",
    "A = [1 2; 3 4]\n",
    "3 .+ A"
   ]
  },
  {
   "cell_type": "code",
   "execution_count": 86,
   "id": "11b22c78-7734-4f98-b657-af4498560ee3",
   "metadata": {},
   "outputs": [
    {
     "data": {
      "text/plain": [
       "3-element BitVector:\n",
       " 0\n",
       " 0\n",
       " 1"
      ]
     },
     "execution_count": 86,
     "metadata": {},
     "output_type": "execute_result"
    }
   ],
   "source": [
    "## Elementwise comparisons\n",
    "a = [20, 30, 40]\n",
    "b = [-100, 0, 100]\n",
    "b .> a\n",
    "b.==a\n",
    "b .> 1\n"
   ]
  },
  {
   "cell_type": "code",
   "execution_count": 87,
   "id": "ae5c8bbd-a253-4d58-b3ed-358f79110f0f",
   "metadata": {},
   "outputs": [
    {
     "data": {
      "text/plain": [
       "4-element Vector{Float64}:\n",
       " 0.3987261772974745\n",
       " 0.6551308285703622\n",
       " 0.7925568752673134\n",
       " 0.5089793811329804"
      ]
     },
     "execution_count": 87,
     "metadata": {},
     "output_type": "execute_result"
    }
   ],
   "source": [
    "## Conditional extraction\n",
    "a = rand(4)"
   ]
  },
  {
   "cell_type": "code",
   "execution_count": 88,
   "id": "a3751b55-3836-4571-bb26-61341c698901",
   "metadata": {},
   "outputs": [
    {
     "name": "stdout",
     "output_type": "stream",
     "text": [
      "a[a .> 0] = [0.3987261772974745, 0.6551308285703622, 0.7925568752673134, 0.5089793811329804]\n"
     ]
    },
    {
     "data": {
      "text/plain": [
       "4-element Vector{Float64}:\n",
       " 0.3987261772974745\n",
       " 0.6551308285703622\n",
       " 0.7925568752673134\n",
       " 0.5089793811329804"
      ]
     },
     "execution_count": 88,
     "metadata": {},
     "output_type": "execute_result"
    }
   ],
   "source": [
    "@show a[a .> 0]"
   ]
  },
  {
   "cell_type": "code",
   "execution_count": 89,
   "id": "870cd3fe-1d62-4524-a91c-0b09b1e784b1",
   "metadata": {},
   "outputs": [
    {
     "data": {
      "text/plain": [
       "2×2 Matrix{Int64}:\n",
       " 10  30\n",
       " 20  40"
      ]
     },
     "execution_count": 89,
     "metadata": {},
     "output_type": "execute_result"
    }
   ],
   "source": [
    "## Changing dimensions\n",
    "a = [1,2,3,4]\n",
    "a = a*10\n",
    "b = reshape(a, 2,2)"
   ]
  },
  {
   "cell_type": "code",
   "execution_count": 90,
   "id": "3be018f9-00dd-4bb1-8c4f-332ad317fdbc",
   "metadata": {},
   "outputs": [
    {
     "data": {
      "text/plain": [
       "30"
      ]
     },
     "execution_count": 90,
     "metadata": {},
     "output_type": "execute_result"
    }
   ],
   "source": [
    "b[1, 2]"
   ]
  },
  {
   "cell_type": "code",
   "execution_count": 91,
   "id": "65ed6272-b5cd-4f0b-8195-17afcb70cd07",
   "metadata": {},
   "outputs": [
    {
     "data": {
      "text/plain": [
       "1×4 Matrix{Int64}:\n",
       " 1  2  3  4"
      ]
     },
     "execution_count": 91,
     "metadata": {},
     "output_type": "execute_result"
    }
   ],
   "source": [
    "## Drop an array along one dimension\n",
    "a = [1 2 3 4]"
   ]
  },
  {
   "cell_type": "code",
   "execution_count": 92,
   "id": "e9fb28b0-9e80-4bc7-bf77-56820108f996",
   "metadata": {},
   "outputs": [
    {
     "data": {
      "text/plain": [
       "4-element Vector{Int64}:\n",
       " 1\n",
       " 2\n",
       " 3\n",
       " 4"
      ]
     },
     "execution_count": 92,
     "metadata": {},
     "output_type": "execute_result"
    }
   ],
   "source": [
    "dropdims(a, dims = 1)"
   ]
  },
  {
   "cell_type": "code",
   "execution_count": 93,
   "id": "e47e69b8-a11e-4919-adce-a93af3156d1e",
   "metadata": {},
   "outputs": [
    {
     "data": {
      "text/plain": [
       "4-element Vector{Float64}:\n",
       " 0.0\n",
       " 0.6931471805599453\n",
       " 1.0986122886681098\n",
       " 1.3862943611198906"
      ]
     },
     "execution_count": 93,
     "metadata": {},
     "output_type": "execute_result"
    }
   ],
   "source": [
    "## Broadcastig functions\n",
    "log(1.0)\n",
    "log.(1:4)\n",
    "[log(x) for x in 1:4]"
   ]
  },
  {
   "cell_type": "code",
   "execution_count": 94,
   "id": "a63fbcdc-6b21-4df7-b08c-f3fe4f38b7e1",
   "metadata": {},
   "outputs": [
    {
     "data": {
      "text/plain": [
       "2×2 Matrix{Int64}:\n",
       " 1  2\n",
       " 4  3"
      ]
     },
     "execution_count": 94,
     "metadata": {},
     "output_type": "execute_result"
    }
   ],
   "source": [
    "## Linear algebra\n",
    "A = [1 2; 4 3]"
   ]
  },
  {
   "cell_type": "code",
   "execution_count": 95,
   "id": "8b6ebec8-71cd-4532-a34f-88286960b9fe",
   "metadata": {},
   "outputs": [
    {
     "data": {
      "text/plain": [
       "-5.0"
      ]
     },
     "execution_count": 95,
     "metadata": {},
     "output_type": "execute_result"
    }
   ],
   "source": [
    "det(A)"
   ]
  },
  {
   "cell_type": "code",
   "execution_count": 96,
   "id": "a888bcf9-9d2a-4229-b4fb-4e0f87ae928f",
   "metadata": {},
   "outputs": [
    {
     "data": {
      "text/plain": [
       "4"
      ]
     },
     "execution_count": 96,
     "metadata": {},
     "output_type": "execute_result"
    }
   ],
   "source": [
    "tr(A) ## trace of matix which takes the sum of the diagonal values of the matrix"
   ]
  },
  {
   "cell_type": "code",
   "execution_count": 97,
   "id": "7e72348d-7e8d-458a-80b8-4661a1a3d84d",
   "metadata": {},
   "outputs": [
    {
     "data": {
      "text/plain": [
       "2-element Vector{Float64}:\n",
       " -1.0\n",
       "  5.0"
      ]
     },
     "execution_count": 97,
     "metadata": {},
     "output_type": "execute_result"
    }
   ],
   "source": [
    "eigvals(A)"
   ]
  },
  {
   "cell_type": "code",
   "execution_count": 98,
   "id": "e8494b71-28ad-4abc-a828-00dadba677e8",
   "metadata": {},
   "outputs": [
    {
     "data": {
      "text/plain": [
       "2×2 Matrix{Int64}:\n",
       " 1  2\n",
       " 3  4"
      ]
     },
     "execution_count": 98,
     "metadata": {},
     "output_type": "execute_result"
    }
   ],
   "source": [
    "A = [1 2; 3 4]"
   ]
  },
  {
   "cell_type": "code",
   "execution_count": 99,
   "id": "f4127373-6c52-480a-a12e-9485b32f45f0",
   "metadata": {},
   "outputs": [
    {
     "data": {
      "text/plain": [
       "2×2 Matrix{Float64}:\n",
       " 1.0  1.0\n",
       " 1.0  1.0"
      ]
     },
     "execution_count": 99,
     "metadata": {},
     "output_type": "execute_result"
    }
   ],
   "source": [
    "B = ones(2,2)"
   ]
  },
  {
   "cell_type": "code",
   "execution_count": 100,
   "id": "8301bec2-489d-4f59-97cb-1d6d2f177f16",
   "metadata": {},
   "outputs": [
    {
     "data": {
      "text/plain": [
       "2-element Vector{Int64}:\n",
       " 1\n",
       " 3"
      ]
     },
     "execution_count": 100,
     "metadata": {},
     "output_type": "execute_result"
    }
   ],
   "source": [
    "a = [1,3]"
   ]
  },
  {
   "cell_type": "code",
   "execution_count": 101,
   "id": "cabccd89-2a25-41f0-9a94-1bc9ed93a50e",
   "metadata": {},
   "outputs": [
    {
     "data": {
      "text/plain": [
       "2-element Vector{Int64}:\n",
       " 3\n",
       " 4"
      ]
     },
     "execution_count": 101,
     "metadata": {},
     "output_type": "execute_result"
    }
   ],
   "source": [
    "b = [3, 4]"
   ]
  },
  {
   "cell_type": "code",
   "execution_count": 102,
   "id": "01826f02-a6d2-44d3-86b4-a0a17ff048fd",
   "metadata": {},
   "outputs": [
    {
     "data": {
      "text/plain": [
       "10-element Vector{Int64}:\n",
       "  1\n",
       "  2\n",
       "  3\n",
       "  4\n",
       "  5\n",
       "  6\n",
       "  7\n",
       "  8\n",
       "  9\n",
       " 10"
      ]
     },
     "execution_count": 102,
     "metadata": {},
     "output_type": "execute_result"
    }
   ],
   "source": [
    "c = [1,2,3,4,5,6,7,8,9,10]"
   ]
  },
  {
   "cell_type": "code",
   "execution_count": 103,
   "id": "b10de390-a222-4b98-b93d-25b8067f0054",
   "metadata": {},
   "outputs": [
    {
     "data": {
      "text/plain": [
       "385"
      ]
     },
     "execution_count": 103,
     "metadata": {},
     "output_type": "execute_result"
    }
   ],
   "source": [
    "c'*c"
   ]
  },
  {
   "cell_type": "code",
   "execution_count": 104,
   "id": "e3858ed7-2865-4a95-a11f-70f04e163666",
   "metadata": {},
   "outputs": [
    {
     "data": {
      "text/plain": [
       "3×3 Matrix{Int64}:\n",
       " 1  2  3\n",
       " 4  5  6\n",
       " 7  8  9"
      ]
     },
     "execution_count": 104,
     "metadata": {},
     "output_type": "execute_result"
    }
   ],
   "source": [
    "A = [1 2 3;4 5 6; 7 8 9]"
   ]
  },
  {
   "cell_type": "code",
   "execution_count": 105,
   "id": "8d4bb3ab-cf46-4860-a1ab-b3c972483c1b",
   "metadata": {},
   "outputs": [
    {
     "data": {
      "text/plain": [
       "3×3 adjoint(::Matrix{Int64}) with eltype Int64:\n",
       " 1  4  7\n",
       " 2  5  8\n",
       " 3  6  9"
      ]
     },
     "execution_count": 105,
     "metadata": {},
     "output_type": "execute_result"
    }
   ],
   "source": [
    "A'"
   ]
  },
  {
   "cell_type": "code",
   "execution_count": 106,
   "id": "2b05a843-2c7c-4460-9170-e5d9e97f1542",
   "metadata": {},
   "outputs": [
    {
     "data": {
      "text/plain": [
       "1:10"
      ]
     },
     "execution_count": 106,
     "metadata": {},
     "output_type": "execute_result"
    }
   ],
   "source": [
    "a = 1:10"
   ]
  },
  {
   "cell_type": "code",
   "execution_count": 107,
   "id": "25b09e1d-299a-4ead-8afa-27fdedf697e0",
   "metadata": {},
   "outputs": [
    {
     "name": "stdout",
     "output_type": "stream",
     "text": [
      "Vector(a) = [1, 2, 3, 4, 5, 6, 7, 8, 9, 10]\n"
     ]
    },
    {
     "data": {
      "text/plain": [
       "10-element Vector{Int64}:\n",
       "  1\n",
       "  2\n",
       "  3\n",
       "  4\n",
       "  5\n",
       "  6\n",
       "  7\n",
       "  8\n",
       "  9\n",
       " 10"
      ]
     },
     "execution_count": 107,
     "metadata": {},
     "output_type": "execute_result"
    }
   ],
   "source": [
    "@show Vector(a)"
   ]
  },
  {
   "cell_type": "code",
   "execution_count": 108,
   "id": "7746f3bc-7332-4d59-ad48-b53d173d8977",
   "metadata": {},
   "outputs": [
    {
     "data": {
      "text/plain": [
       "10×10 Diagonal{Int64, UnitRange{Int64}}:\n",
       " 1  ⋅  ⋅  ⋅  ⋅  ⋅  ⋅  ⋅  ⋅   ⋅\n",
       " ⋅  2  ⋅  ⋅  ⋅  ⋅  ⋅  ⋅  ⋅   ⋅\n",
       " ⋅  ⋅  3  ⋅  ⋅  ⋅  ⋅  ⋅  ⋅   ⋅\n",
       " ⋅  ⋅  ⋅  4  ⋅  ⋅  ⋅  ⋅  ⋅   ⋅\n",
       " ⋅  ⋅  ⋅  ⋅  5  ⋅  ⋅  ⋅  ⋅   ⋅\n",
       " ⋅  ⋅  ⋅  ⋅  ⋅  6  ⋅  ⋅  ⋅   ⋅\n",
       " ⋅  ⋅  ⋅  ⋅  ⋅  ⋅  7  ⋅  ⋅   ⋅\n",
       " ⋅  ⋅  ⋅  ⋅  ⋅  ⋅  ⋅  8  ⋅   ⋅\n",
       " ⋅  ⋅  ⋅  ⋅  ⋅  ⋅  ⋅  ⋅  9   ⋅\n",
       " ⋅  ⋅  ⋅  ⋅  ⋅  ⋅  ⋅  ⋅  ⋅  10"
      ]
     },
     "execution_count": 108,
     "metadata": {},
     "output_type": "execute_result"
    }
   ],
   "source": [
    "b = Diagonal(a)"
   ]
  },
  {
   "cell_type": "code",
   "execution_count": 109,
   "id": "b5d06428-1f63-4a51-9fef-abf7da1a8536",
   "metadata": {},
   "outputs": [
    {
     "data": {
      "text/plain": [
       "10-element Vector{Int64}:\n",
       "   1\n",
       "   4\n",
       "   9\n",
       "  16\n",
       "  25\n",
       "  36\n",
       "  49\n",
       "  64\n",
       "  81\n",
       " 100"
      ]
     },
     "execution_count": 109,
     "metadata": {},
     "output_type": "execute_result"
    }
   ],
   "source": [
    "b*a"
   ]
  },
  {
   "cell_type": "code",
   "execution_count": 110,
   "id": "dcd9334b-9a47-4eb0-8cd5-6b1ae61c266f",
   "metadata": {},
   "outputs": [
    {
     "data": {
      "text/plain": [
       "3×3 Diagonal{Float64, Vector{Float64}}:\n",
       " 1.0   ⋅    ⋅ \n",
       "  ⋅   2.0   ⋅ \n",
       "  ⋅    ⋅   3.0"
      ]
     },
     "execution_count": 110,
     "metadata": {},
     "output_type": "execute_result"
    }
   ],
   "source": [
    "b = Diagonal([1.0, 2.0, 3.0])"
   ]
  },
  {
   "cell_type": "code",
   "execution_count": 111,
   "id": "da565568-4e66-4848-92ef-49dd6bedfa1a",
   "metadata": {},
   "outputs": [
    {
     "data": {
      "text/plain": [
       "10:12"
      ]
     },
     "execution_count": 111,
     "metadata": {},
     "output_type": "execute_result"
    }
   ],
   "source": [
    "a = 10:12"
   ]
  },
  {
   "cell_type": "code",
   "execution_count": 112,
   "id": "74272b40-4ca2-491b-94d0-50b8297918f3",
   "metadata": {},
   "outputs": [
    {
     "data": {
      "text/plain": [
       "3-element Vector{Float64}:\n",
       " 10.0\n",
       " 22.0\n",
       " 36.0"
      ]
     },
     "execution_count": 112,
     "metadata": {},
     "output_type": "execute_result"
    }
   ],
   "source": [
    "b * a"
   ]
  },
  {
   "cell_type": "code",
   "execution_count": 113,
   "id": "9840c01e-1390-453a-b054-d49902c1ffa5",
   "metadata": {},
   "outputs": [
    {
     "data": {
      "text/plain": [
       "3-element Vector{Float64}:\n",
       "  9.0\n",
       " 20.0\n",
       " 33.0"
      ]
     },
     "execution_count": 113,
     "metadata": {},
     "output_type": "execute_result"
    }
   ],
   "source": [
    "b * a - [1.0, 2.0, 3.0]"
   ]
  },
  {
   "cell_type": "code",
   "execution_count": 114,
   "id": "2a2f3bf2-dfe6-4de8-8f75-be212eb8f943",
   "metadata": {},
   "outputs": [
    {
     "data": {
      "text/plain": [
       "0.0:0.1:1.0"
      ]
     },
     "execution_count": 114,
     "metadata": {},
     "output_type": "execute_result"
    }
   ],
   "source": [
    "a = 0.0:0.1:1.0"
   ]
  },
  {
   "cell_type": "code",
   "execution_count": 115,
   "id": "3854ce1e-717a-452d-8d4e-9ca6c5e9b305",
   "metadata": {},
   "outputs": [
    {
     "data": {
      "text/plain": [
       "0.01:0.1:1.01"
      ]
     },
     "execution_count": 115,
     "metadata": {},
     "output_type": "execute_result"
    }
   ],
   "source": [
    "a .+ 0.01"
   ]
  },
  {
   "cell_type": "code",
   "execution_count": 116,
   "id": "75620929-e09a-4b7f-a44b-46800f67df07",
   "metadata": {},
   "outputs": [
    {
     "data": {
      "text/plain": [
       "0.0:0.15:0.9"
      ]
     },
     "execution_count": 116,
     "metadata": {},
     "output_type": "execute_result"
    }
   ],
   "source": [
    "maxval = 1.0\n",
    "minval = 0.0\n",
    "stepsize = 0.15\n",
    "a = minval:stepsize:maxval"
   ]
  },
  {
   "cell_type": "code",
   "execution_count": 117,
   "id": "7cca6c10-8ff4-451e-871d-7591364cfe93",
   "metadata": {},
   "outputs": [
    {
     "data": {
      "text/plain": [
       "false"
      ]
     },
     "execution_count": 117,
     "metadata": {},
     "output_type": "execute_result"
    }
   ],
   "source": [
    "maximum(a) == maxval"
   ]
  },
  {
   "cell_type": "code",
   "execution_count": 118,
   "id": "3cdd281b-d0ad-4def-b2b9-45c270a8bbb8",
   "metadata": {},
   "outputs": [
    {
     "data": {
      "text/plain": [
       "(1.0, \"apple\")"
      ]
     },
     "execution_count": 118,
     "metadata": {},
     "output_type": "execute_result"
    }
   ],
   "source": [
    "t = (1.0, \"apple\")"
   ]
  },
  {
   "cell_type": "code",
   "execution_count": 119,
   "id": "d229852c-7a93-4375-8c44-6ac7bb35e5b2",
   "metadata": {},
   "outputs": [
    {
     "data": {
      "text/plain": [
       "1.0"
      ]
     },
     "execution_count": 119,
     "metadata": {},
     "output_type": "execute_result"
    }
   ],
   "source": [
    "t[1]"
   ]
  },
  {
   "cell_type": "code",
   "execution_count": 120,
   "id": "a27aaf92-9ade-440d-b765-dabed86e6d46",
   "metadata": {},
   "outputs": [
    {
     "data": {
      "text/plain": [
       "\"apple\""
      ]
     },
     "execution_count": 120,
     "metadata": {},
     "output_type": "execute_result"
    }
   ],
   "source": [
    "t[2]"
   ]
  },
  {
   "cell_type": "code",
   "execution_count": 121,
   "id": "2b10c00b-273c-4739-8e7d-f86df35a8f65",
   "metadata": {},
   "outputs": [
    {
     "data": {
      "text/plain": [
       "(1.0, \"apple\")"
      ]
     },
     "execution_count": 121,
     "metadata": {},
     "output_type": "execute_result"
    }
   ],
   "source": [
    "a, b = t"
   ]
  },
  {
   "cell_type": "code",
   "execution_count": 122,
   "id": "094b4d7b-a118-4815-8429-079d85cb5a33",
   "metadata": {},
   "outputs": [
    {
     "name": "stdout",
     "output_type": "stream",
     "text": [
      "a = 1.0 and b = apple\n"
     ]
    }
   ],
   "source": [
    "println(\"a = $a and b = $b\")"
   ]
  },
  {
   "cell_type": "code",
   "execution_count": 123,
   "id": "14a81889-956d-48b7-a856-0a23c4079460",
   "metadata": {},
   "outputs": [
    {
     "data": {
      "text/plain": [
       "(val1 = 1.0, val2 = \"test\")"
      ]
     },
     "execution_count": 123,
     "metadata": {},
     "output_type": "execute_result"
    }
   ],
   "source": [
    "t = (; val1 = 1.0, val2 = \"test\")"
   ]
  },
  {
   "cell_type": "code",
   "execution_count": 124,
   "id": "c65c665a-bcfc-43cc-b256-0b8000ae892a",
   "metadata": {},
   "outputs": [
    {
     "name": "stdout",
     "output_type": "stream",
     "text": [
      "a = 1.0 and b= test\n"
     ]
    }
   ],
   "source": [
    "println(\"a = $(t.val1) and b= $(t.val2)\")"
   ]
  },
  {
   "cell_type": "code",
   "execution_count": 125,
   "id": "e339885d-52b9-4363-bcd4-e985e02fadd6",
   "metadata": {},
   "outputs": [
    {
     "name": "stdout",
     "output_type": "stream",
     "text": [
      "a = 1.0 and b = test\n"
     ]
    }
   ],
   "source": [
    "(; val1, val2) = t\n",
    "println(\"a = $val1 and b = $val2\")"
   ]
  },
  {
   "cell_type": "code",
   "execution_count": 126,
   "id": "b65b991d-f084-407d-908b-fe06885b86b4",
   "metadata": {},
   "outputs": [
    {
     "data": {
      "text/plain": [
       "(val3 = 4, val4 = \"test!!\")"
      ]
     },
     "execution_count": 126,
     "metadata": {},
     "output_type": "execute_result"
    }
   ],
   "source": [
    "t2 = (;val3 = 4, val4 = \"test!!\")"
   ]
  },
  {
   "cell_type": "code",
   "execution_count": 127,
   "id": "290bf915-4b9a-4d03-be56-f8b368b2bb89",
   "metadata": {},
   "outputs": [
    {
     "data": {
      "text/plain": [
       "(val1 = 1.0, val2 = \"test\", val3 = 4, val4 = \"test!!\")"
      ]
     },
     "execution_count": 127,
     "metadata": {},
     "output_type": "execute_result"
    }
   ],
   "source": [
    "t3 = merge(t, t2)"
   ]
  },
  {
   "cell_type": "code",
   "execution_count": 128,
   "id": "d24e45c7-598b-43e3-8321-f06ddab45bcc",
   "metadata": {},
   "outputs": [
    {
     "data": {
      "text/plain": [
       "2.1"
      ]
     },
     "execution_count": 128,
     "metadata": {},
     "output_type": "execute_result"
    }
   ],
   "source": [
    "function f(parameters)\n",
    "    alpha, beta = parameters.alpha, parameters.beta\n",
    "    return alpha + beta\n",
    "end\n",
    "\n",
    "parameters = (; alpha = 0.1, beta = 2.0)\n",
    "f(parameters)"
   ]
  },
  {
   "cell_type": "code",
   "execution_count": 129,
   "id": "79a49aa4-e43e-42c4-8eca-6c4cc694d615",
   "metadata": {},
   "outputs": [
    {
     "data": {
      "text/plain": [
       "3.7"
      ]
     },
     "execution_count": 129,
     "metadata": {},
     "output_type": "execute_result"
    }
   ],
   "source": [
    "function f(parameters)\n",
    "    (; alpha, beta) = parameters\n",
    "    return alpha + beta\n",
    "end\n",
    "parameters = (; alpha = 1.5, beta = 2.2)\n",
    "\n",
    "f(parameters)"
   ]
  },
  {
   "cell_type": "code",
   "execution_count": 130,
   "id": "24d53b4b-294d-45fc-a49d-cfe00c2e87c0",
   "metadata": {},
   "outputs": [
    {
     "name": "stdout",
     "output_type": "stream",
     "text": [
      "param_gen() = 1.2\n",
      "param_gen(alpha = 0.2) = 0.4\n"
     ]
    },
    {
     "data": {
      "text/plain": [
       "0.4"
      ]
     },
     "execution_count": 130,
     "metadata": {},
     "output_type": "execute_result"
    }
   ],
   "source": [
    "function param_gen(; alpha = 1.0, beta = 0.2)\n",
    "    return alpha + beta\n",
    "end\n",
    "\n",
    "@show param_gen()\n",
    "@show param_gen(alpha = 0.2)"
   ]
  },
  {
   "cell_type": "code",
   "execution_count": 131,
   "id": "230200cf-22a9-4bf4-8f00-4da26d25c4d1",
   "metadata": {},
   "outputs": [
    {
     "data": {
      "text/plain": [
       "Nothing"
      ]
     },
     "execution_count": 131,
     "metadata": {},
     "output_type": "execute_result"
    }
   ],
   "source": [
    "## Nothing\n",
    "typeof(nothing)"
   ]
  },
  {
   "cell_type": "code",
   "execution_count": 132,
   "id": "eb342150-dcb3-4a13-8dfa-5c585f80f45e",
   "metadata": {},
   "outputs": [
    {
     "data": {
      "text/plain": [
       "Missing"
      ]
     },
     "execution_count": 132,
     "metadata": {},
     "output_type": "execute_result"
    }
   ],
   "source": [
    "## Missing\n",
    "typeof(missing)"
   ]
  },
  {
   "cell_type": "code",
   "execution_count": 133,
   "id": "89a8f0f9-5d0e-4043-8ccc-76a2af6daeac",
   "metadata": {},
   "outputs": [
    {
     "name": "stdout",
     "output_type": "stream",
     "text": [
      "x = 1.0\n",
      "f(1.0) = 1.0\n",
      "x was not set\n",
      "f(-1.0) = nothing\n"
     ]
    }
   ],
   "source": [
    "function f(y)\n",
    "    x = nothing\n",
    "    if y > 0.0\n",
    "        # calculations to set 'x'\n",
    "        x = y\n",
    "    end\n",
    "\n",
    "    # later can check 'x'\n",
    "    if isnothing(x)\n",
    "        println(\"x was not set\")\n",
    "    else\n",
    "        println(\"x = $x\")\n",
    "    end\n",
    "    x\n",
    "end\n",
    "\n",
    "@show f(1.0)\n",
    "@show f(-1.0)"
   ]
  },
  {
   "cell_type": "code",
   "execution_count": 134,
   "id": "e09c6290-053d-4b49-b27e-0aae5441a5a0",
   "metadata": {},
   "outputs": [
    {
     "name": "stdout",
     "output_type": "stream",
     "text": [
      "function f(-1.0) failed\n"
     ]
    }
   ],
   "source": [
    "function f(x)\n",
    "    if x > 0.0\n",
    "        return sqrt(x)\n",
    "    else\n",
    "        return nothing\n",
    "    end\n",
    "end\n",
    "\n",
    "x1 = 1.0\n",
    "x2 = -1.0\n",
    "\n",
    "y1 = f(x1)\n",
    "y2 = f(x2)\n",
    "\n",
    "if isnothing(y1)\n",
    "    println(\"function f($x2) is successful\")\n",
    "else\n",
    "    println(\"function f($x2) failed\")\n",
    "end"
   ]
  },
  {
   "cell_type": "code",
   "execution_count": 135,
   "id": "129fd749-8253-4f2a-a40e-211bd24334d3",
   "metadata": {},
   "outputs": [],
   "source": [
    "function f(x)\n",
    "    x > 0.0 ? sqrt(x) : nothing\n",
    "\n",
    "end\n",
    "\n",
    "f(-1.0)"
   ]
  },
  {
   "cell_type": "code",
   "execution_count": 136,
   "id": "2d0e72ac-2fd3-489f-b53e-7d8d1a6e7884",
   "metadata": {},
   "outputs": [
    {
     "data": {
      "text/plain": [
       "2-element Vector{Union{Nothing, Float64}}:\n",
       " 1.0\n",
       "  nothing"
      ]
     },
     "execution_count": 136,
     "metadata": {},
     "output_type": "execute_result"
    }
   ],
   "source": [
    "x = [1.0, nothing]"
   ]
  },
  {
   "cell_type": "code",
   "execution_count": 137,
   "id": "7b7d84dc-8136-4830-bdde-66e51a10c019",
   "metadata": {},
   "outputs": [
    {
     "data": {
      "text/plain": [
       "4-element Vector{Union{Nothing, Float64}}:\n",
       " 0.31622776601683794\n",
       "  nothing\n",
       " 1.4142135623730951\n",
       "  nothing"
      ]
     },
     "execution_count": 137,
     "metadata": {},
     "output_type": "execute_result"
    }
   ],
   "source": [
    "x = [0.1, -1.0, 2.0, -2.0]\n",
    "y = f.(x)"
   ]
  },
  {
   "cell_type": "code",
   "execution_count": 138,
   "id": "ea0b4599-83e8-4cfe-9056-fbb488331e07",
   "metadata": {},
   "outputs": [
    {
     "data": {
      "text/plain": [
       "1.0"
      ]
     },
     "execution_count": 138,
     "metadata": {},
     "output_type": "execute_result"
    }
   ],
   "source": [
    "function f(x)\n",
    "    @assert x > 0.0\n",
    "    sqrt(x)\n",
    "end\n",
    "\n",
    "f(1.0)"
   ]
  },
  {
   "cell_type": "code",
   "execution_count": 139,
   "id": "d15d3c94-55ff-40d9-a0cd-82d887c1291e",
   "metadata": {},
   "outputs": [
    {
     "name": "stdout",
     "output_type": "stream",
     "text": [
      "No y is given with 1.0\n"
     ]
    }
   ],
   "source": [
    "function f(x; y = nothing)\n",
    "    if isnothing(y)\n",
    "        println(\"No y is given with $x\")\n",
    "    else\n",
    "        println(\"y = $y with $x\")\n",
    "    end\n",
    "end\n",
    "\n",
    "f(1.0)\n",
    "    "
   ]
  },
  {
   "cell_type": "code",
   "execution_count": 140,
   "id": "34bc53eb-c0e9-453f-85b6-134768dfc759",
   "metadata": {},
   "outputs": [
    {
     "name": "stdout",
     "output_type": "stream",
     "text": [
      "y = 2.0 with 1.0\n"
     ]
    }
   ],
   "source": [
    "f(1.0, y = 2.0)"
   ]
  },
  {
   "cell_type": "code",
   "execution_count": 141,
   "id": "0a9a897a-0948-4ff4-adcb-7fb470c74070",
   "metadata": {},
   "outputs": [
    {
     "data": {
      "text/plain": [
       "0.1"
      ]
     },
     "execution_count": 141,
     "metadata": {},
     "output_type": "execute_result"
    }
   ],
   "source": [
    "function f(x)\n",
    "    if x > 0.0\n",
    "        return x\n",
    "    else\n",
    "        return NaN\n",
    "    end\n",
    "end\n",
    "\n",
    "f(0.1)"
   ]
  },
  {
   "cell_type": "code",
   "execution_count": 142,
   "id": "61f1bcf1-fe05-405f-a4df-73da187a5804",
   "metadata": {},
   "outputs": [
    {
     "data": {
      "text/plain": [
       "NaN"
      ]
     },
     "execution_count": 142,
     "metadata": {},
     "output_type": "execute_result"
    }
   ],
   "source": [
    "f(-0.1)"
   ]
  },
  {
   "cell_type": "code",
   "execution_count": 143,
   "id": "5d429628-28bd-4a48-a442-3f60623883e8",
   "metadata": {},
   "outputs": [
    {
     "data": {
      "text/plain": [
       "Float64"
      ]
     },
     "execution_count": 143,
     "metadata": {},
     "output_type": "execute_result"
    }
   ],
   "source": [
    "typeof(f(0.2))"
   ]
  },
  {
   "cell_type": "code",
   "execution_count": 144,
   "id": "83b70c6e-8f18-4a9b-91e5-99b68aa3cc6f",
   "metadata": {},
   "outputs": [
    {
     "data": {
      "text/plain": [
       "false"
      ]
     },
     "execution_count": 144,
     "metadata": {},
     "output_type": "execute_result"
    }
   ],
   "source": [
    "f(-0.1)==NaN "
   ]
  },
  {
   "cell_type": "code",
   "execution_count": 145,
   "id": "d9074858-795f-4954-b675-d6aba3c477a0",
   "metadata": {},
   "outputs": [
    {
     "data": {
      "text/plain": [
       "DomainError(-1.0, \"sqrt was called with a negative real argument but will only return a complex result if called with a complex argument. Try sqrt(Complex(x)).\")"
      ]
     },
     "execution_count": 145,
     "metadata": {},
     "output_type": "execute_result"
    }
   ],
   "source": [
    "try\n",
    "    sqrt(-1)\n",
    "catch err\n",
    "    err\n",
    "end"
   ]
  },
  {
   "cell_type": "code",
   "execution_count": 146,
   "id": "db3f4dd8-5f34-4495-a008-87e6cbeb8371",
   "metadata": {},
   "outputs": [
    {
     "ename": "LoadError",
     "evalue": "DomainError with -1.0:\nsqrt was called with a negative real argument but will only return a complex result if called with a complex argument. Try sqrt(Complex(x)).",
     "output_type": "error",
     "traceback": [
      "DomainError with -1.0:\nsqrt was called with a negative real argument but will only return a complex result if called with a complex argument. Try sqrt(Complex(x)).",
      "",
      "Stacktrace:",
      " [1] throw_complex_domainerror(f::Symbol, x::Float64)",
      "   @ Base.Math .\\math.jl:33",
      " [2] sqrt",
      "   @ .\\math.jl:686 [inlined]",
      " [3] sqrt(x::Int64)",
      "   @ Base.Math .\\math.jl:1578",
      " [4] top-level scope",
      "   @ In[146]:1"
     ]
    }
   ],
   "source": [
    "sqrt(-1)"
   ]
  },
  {
   "cell_type": "code",
   "execution_count": 147,
   "id": "93770267-08c8-4d56-8b04-1ce4eb893917",
   "metadata": {},
   "outputs": [
    {
     "data": {
      "text/plain": [
       "InexactError(:Int64, Int64, 3.14)"
      ]
     },
     "execution_count": 147,
     "metadata": {},
     "output_type": "execute_result"
    }
   ],
   "source": [
    "try \n",
    "    convert(Int64, 3.14)\n",
    "catch err\n",
    "    err\n",
    "end\n"
   ]
  },
  {
   "cell_type": "code",
   "execution_count": 148,
   "id": "fad8234d-d49a-408f-a913-ac244d2d280c",
   "metadata": {},
   "outputs": [
    {
     "data": {
      "text/plain": [
       "1.0"
      ]
     },
     "execution_count": 148,
     "metadata": {},
     "output_type": "execute_result"
    }
   ],
   "source": [
    "function f(x)\n",
    "    try \n",
    "        sqrt(x)\n",
    "    catch err\n",
    "        sqrt(complex(x,0))\n",
    "    end\n",
    "end\n",
    "\n",
    "f(1.0)"
   ]
  },
  {
   "cell_type": "code",
   "execution_count": 149,
   "id": "c9ed5aa7-48ef-4857-901a-235a8ef908d0",
   "metadata": {},
   "outputs": [
    {
     "data": {
      "text/plain": [
       "0.0 + 1.0im"
      ]
     },
     "execution_count": 149,
     "metadata": {},
     "output_type": "execute_result"
    }
   ],
   "source": [
    "f(-1)"
   ]
  },
  {
   "cell_type": "code",
   "execution_count": 150,
   "id": "1331f429-28ce-4972-9bef-97e1aa6a8e4a",
   "metadata": {},
   "outputs": [
    {
     "data": {
      "text/plain": [
       "6-element Vector{Union{Missing, Float64}}:\n",
       " 1.0\n",
       "  missing\n",
       " 2.0\n",
       "  missing\n",
       "  missing\n",
       " 5.0"
      ]
     },
     "execution_count": 150,
     "metadata": {},
     "output_type": "execute_result"
    }
   ],
   "source": [
    "x = [1.0, missing, 2.0, missing, missing, 5.0]"
   ]
  },
  {
   "cell_type": "code",
   "execution_count": 151,
   "id": "ace28086-4e29-4058-bf17-43d95b898873",
   "metadata": {},
   "outputs": [
    {
     "data": {
      "text/plain": [
       "f (generic function with 1 method)"
      ]
     },
     "execution_count": 151,
     "metadata": {},
     "output_type": "execute_result"
    }
   ],
   "source": [
    "f(x) = x^2"
   ]
  },
  {
   "cell_type": "code",
   "execution_count": 172,
   "id": "6f52c27f-cfcd-4b71-9b19-22e4162e0f38",
   "metadata": {},
   "outputs": [
    {
     "name": "stdout",
     "output_type": "stream",
     "text": [
      "missing + 1 = missing\n"
     ]
    },
    {
     "data": {
      "text/plain": [
       "missing"
      ]
     },
     "execution_count": 172,
     "metadata": {},
     "output_type": "execute_result"
    }
   ],
   "source": [
    "@show missing + 1"
   ]
  },
  {
   "cell_type": "code",
   "execution_count": 154,
   "id": "958fa2ee-1e0a-4aa2-ac47-3cefe57da4f1",
   "metadata": {},
   "outputs": [
    {
     "name": "stdout",
     "output_type": "stream",
     "text": [
      "missing * 2 = missing\n"
     ]
    },
    {
     "data": {
      "text/plain": [
       "missing"
      ]
     },
     "execution_count": 154,
     "metadata": {},
     "output_type": "execute_result"
    }
   ],
   "source": [
    "@show missing*2"
   ]
  },
  {
   "cell_type": "code",
   "execution_count": 155,
   "id": "d6b5f253-957c-4c2f-8cc9-adb2f3fef399",
   "metadata": {},
   "outputs": [
    {
     "name": "stdout",
     "output_type": "stream",
     "text": [
      "f(missing) = missing\n"
     ]
    },
    {
     "data": {
      "text/plain": [
       "missing"
      ]
     },
     "execution_count": 155,
     "metadata": {},
     "output_type": "execute_result"
    }
   ],
   "source": [
    "@show f(missing)"
   ]
  },
  {
   "cell_type": "code",
   "execution_count": 156,
   "id": "0522ddc2-8ccd-40a4-b92b-419708254dca",
   "metadata": {},
   "outputs": [
    {
     "name": "stdout",
     "output_type": "stream",
     "text": [
      "f(1) = 1\n"
     ]
    },
    {
     "data": {
      "text/plain": [
       "1"
      ]
     },
     "execution_count": 156,
     "metadata": {},
     "output_type": "execute_result"
    }
   ],
   "source": [
    "@show f(1)"
   ]
  },
  {
   "cell_type": "code",
   "execution_count": 157,
   "id": "b609dc33-d4ed-4430-9f95-4ce9b78dbe73",
   "metadata": {},
   "outputs": [
    {
     "name": "stdout",
     "output_type": "stream",
     "text": [
      "mean(x) = missing\n"
     ]
    },
    {
     "data": {
      "text/plain": [
       "missing"
      ]
     },
     "execution_count": 157,
     "metadata": {},
     "output_type": "execute_result"
    }
   ],
   "source": [
    "@show mean(x)"
   ]
  },
  {
   "cell_type": "code",
   "execution_count": 158,
   "id": "a62d6d0c-3d50-4f04-9252-302d24ad258d",
   "metadata": {},
   "outputs": [
    {
     "data": {
      "text/plain": [
       "missing"
      ]
     },
     "execution_count": 158,
     "metadata": {},
     "output_type": "execute_result"
    }
   ],
   "source": [
    "x = missing"
   ]
  },
  {
   "cell_type": "code",
   "execution_count": 159,
   "id": "56259f24-f9fa-4682-859a-e01c70c68af5",
   "metadata": {},
   "outputs": [
    {
     "data": {
      "text/plain": [
       "missing"
      ]
     },
     "execution_count": 159,
     "metadata": {},
     "output_type": "execute_result"
    }
   ],
   "source": [
    "x == missing"
   ]
  },
  {
   "cell_type": "code",
   "execution_count": 160,
   "id": "97f3ebac-9fbf-4dd3-bd82-77374cccab3b",
   "metadata": {},
   "outputs": [
    {
     "data": {
      "text/plain": [
       "true"
      ]
     },
     "execution_count": 160,
     "metadata": {},
     "output_type": "execute_result"
    }
   ],
   "source": [
    "x === missing"
   ]
  },
  {
   "cell_type": "code",
   "execution_count": 161,
   "id": "6c3b910c-f31a-4d56-8619-88ca32371fe7",
   "metadata": {},
   "outputs": [
    {
     "data": {
      "text/plain": [
       "true"
      ]
     },
     "execution_count": 161,
     "metadata": {},
     "output_type": "execute_result"
    }
   ],
   "source": [
    "ismissing(missing)"
   ]
  },
  {
   "cell_type": "code",
   "execution_count": 162,
   "id": "5424348e-c5e8-4333-837d-536ac0e82335",
   "metadata": {},
   "outputs": [
    {
     "data": {
      "text/plain": [
       "5-element Vector{Union{Missing, Float64}}:\n",
       " 1.0\n",
       "  missing\n",
       " 3.0\n",
       " 4.0\n",
       "  missing"
      ]
     },
     "execution_count": 162,
     "metadata": {},
     "output_type": "execute_result"
    }
   ],
   "source": [
    "x = [1.0, missing, 3.0, 4.0, missing]"
   ]
  },
  {
   "cell_type": "code",
   "execution_count": 163,
   "id": "3e7c74cb-821f-4162-a082-0e90eca77db2",
   "metadata": {},
   "outputs": [
    {
     "data": {
      "text/plain": [
       "5-element Vector{Float64}:\n",
       " 1.0\n",
       " 0.0\n",
       " 3.0\n",
       " 4.0\n",
       " 0.0"
      ]
     },
     "execution_count": 163,
     "metadata": {},
     "output_type": "execute_result"
    }
   ],
   "source": [
    "coalesce.(x, 0.0)"
   ]
  },
  {
   "cell_type": "code",
   "execution_count": 164,
   "id": "4d552300-1039-4561-b7cf-08940d589407",
   "metadata": {},
   "outputs": [
    {
     "name": "stdout",
     "output_type": "stream",
     "text": [
      "Convergence occured after 50 iterations\n",
      "Asymptotic variance matrix S:\n",
      "[0.6712283007263011 0.6334755235498987; 0.6334755235498988 0.858873651268526]\n"
     ]
    }
   ],
   "source": [
    "## Exercise 1\n",
    "A = [0.8 -0.2; -0.1 0.7]\n",
    "Σ = [0.5 0.4; 0.4 0.6]\n",
    "\n",
    "## Initialise your covariance matrix, S_0\n",
    "S_0 = zeros(2,2)\n",
    "\n",
    "## Define tolerance for convergence\n",
    "tol = 1e-6\n",
    "\n",
    "## Define Q matrix\n",
    "Q = Σ * Σ'\n",
    "\n",
    "## Maximum number of iterations\n",
    "max_iters = 1000\n",
    "\n",
    "## Iterative process to find unconditional variance of stochastic difference equation\n",
    "function find_asymptotic_variance(A, Σ, S_0, tol, max_iters)\n",
    "    S_previous = S_0\n",
    "    for i in 1:max_iters\n",
    "    S_next = A * S_previous * A' + Σ * Σ'\n",
    "    if norm(S_next - S_previous) < tol\n",
    "        println(\"Convergence occured after $i iterations\")\n",
    "        return S_next\n",
    "    end\n",
    "    S_previous = S_next\n",
    "    end\n",
    "println(\"Reached max number of iterations without convergence ($max_iters)\")\n",
    "return S_previous\n",
    "end\n",
    "\n",
    "# Call the function to find the asymptotic variance matrix S\n",
    "S = find_asymptotic_variance(A, Σ, S_0, tol, max_iters)\n",
    "\n",
    "# Print the result\n",
    "println(\"Asymptotic variance matrix S:\")\n",
    "println(S)"
   ]
  },
  {
   "cell_type": "code",
   "execution_count": 165,
   "id": "ebab989d-7716-4dfe-9275-90355a33110e",
   "metadata": {},
   "outputs": [],
   "source": [
    "using QuantEcon"
   ]
  },
  {
   "cell_type": "code",
   "execution_count": 166,
   "id": "1bd45c08-90e7-4723-ba6a-d1fa5d79a430",
   "metadata": {},
   "outputs": [
    {
     "data": {
      "text/plain": [
       "2×2 Matrix{Float64}:\n",
       " 0.671231  0.633474\n",
       " 0.633474  0.858874"
      ]
     },
     "execution_count": 166,
     "metadata": {},
     "output_type": "execute_result"
    }
   ],
   "source": [
    "solve_discrete_lyapunov(A, Σ * Σ')"
   ]
  },
  {
   "cell_type": "code",
   "execution_count": 167,
   "id": "7f31a505-b605-475b-b75a-016758632f6f",
   "metadata": {},
   "outputs": [
    {
     "data": {
      "text/plain": [
       "3.883245447999784e-6"
      ]
     },
     "execution_count": 167,
     "metadata": {},
     "output_type": "execute_result"
    }
   ],
   "source": [
    "norm(S - solve_discrete_lyapunov(A, Σ * Σ'))"
   ]
  },
  {
   "cell_type": "code",
   "execution_count": 168,
   "id": "4ce5df62-76d2-467a-853d-34bf947f45e1",
   "metadata": {},
   "outputs": [],
   "source": [
    "## Exercise 2\n",
    "using Distributions"
   ]
  },
  {
   "cell_type": "code",
   "execution_count": 169,
   "id": "599ff9b5-95a9-48a0-aabf-122c5986a31f",
   "metadata": {},
   "outputs": [],
   "source": [
    "## Parameters\n",
    "T = 150\n",
    "μ = 0\n",
    "std_dev = 1\n",
    "dist = Normal(μ, std_dev)\n",
    "θ = [0.8; 0.9; 0.98]\n",
    "n = size(θ,1)\n",
    "γ = ones(n)\n",
    "σ = 1\n",
    "y = zeros(n, T+1)\n",
    "\n",
    "## Initialise\n",
    "y_init = γ + σ * Vector(rand(dist, 3))\n",
    "\n",
    "y[:,1] = y_init\n",
    "\n",
    "for t in 1:T\n",
    "    y[:,t+1] = γ + θ .* y[:,t] + σ\t* Vector(rand(dist, 3))\n",
    "end\n"
   ]
  },
  {
   "cell_type": "code",
   "execution_count": 174,
   "id": "b11db2d2-a31f-4ea6-84eb-c91764262343",
   "metadata": {},
   "outputs": [
    {
     "data": {
      "image/png": "[encoded data removed]",
      "image/svg+xml": [
       "<?xml version=\"1.0\" encoding=\"utf-8\"?>\n",
       "<svg xmlns=\"http://www.w3.org/2000/svg\" xmlns:xlink=\"http://www.w3.org/1999/xlink\" width=\"600\" height=\"400\" viewBox=\"0 0 2400 1600\">\n",
       "<defs>\n",
       "  <clipPath id=\"clip810\">\n",
       "    <rect x=\"0\" y=\"0\" width=\"2400\" height=\"1600\"/>\n",
       "  </clipPath>\n",
       "</defs>\n",
       "<path clip-path=\"url(#clip810)\" d=\"M0 1600 L2400 1600 L2400 0 L0 0  Z\" fill=\"#ffffff\" fill-rule=\"evenodd\" fill-opacity=\"1\"/>\n",
       "<defs>\n",
       "  <clipPath id=\"clip811\">\n",
       "    <rect x=\"480\" y=\"0\" width=\"1681\" height=\"1600\"/>\n",
       "  </clipPath>\n",
       "</defs>\n",
       "<path clip-path=\"url(#clip810)\" d=\"M141.853 1486.45 L2352.76 1486.45 L2352.76 47.2441 L141.853 47.2441  Z\" fill=\"#ffffff\" fill-rule=\"evenodd\" fill-opacity=\"1\"/>\n",
       "<defs>\n",
       "  <clipPath id=\"clip812\">\n",
       "    <rect x=\"141\" y=\"47\" width=\"2212\" height=\"1440\"/>\n",
       "  </clipPath>\n",
       "</defs>\n",
       "<polyline clip-path=\"url(#clip812)\" style=\"stroke:#000000; stroke-linecap:round; stroke-linejoin:round; stroke-width:2; stroke-opacity:0.1; fill:none\" points=\"190.521,1486.45 190.521,47.2441 \"/>\n",
       "<polyline clip-path=\"url(#clip812)\" style=\"stroke:#000000; stroke-linecap:round; stroke-linejoin:round; stroke-width:2; stroke-opacity:0.1; fill:none\" points=\"885.773,1486.45 885.773,47.2441 \"/>\n",
       "<polyline clip-path=\"url(#clip812)\" style=\"stroke:#000000; stroke-linecap:round; stroke-linejoin:round; stroke-width:2; stroke-opacity:0.1; fill:none\" points=\"1581.03,1486.45 1581.03,47.2441 \"/>\n",
       "<polyline clip-path=\"url(#clip812)\" style=\"stroke:#000000; stroke-linecap:round; stroke-linejoin:round; stroke-width:2; stroke-opacity:0.1; fill:none\" points=\"2276.28,1486.45 2276.28,47.2441 \"/>\n",
       "<polyline clip-path=\"url(#clip810)\" style=\"stroke:#000000; stroke-linecap:round; stroke-linejoin:round; stroke-width:4; stroke-opacity:1; fill:none\" points=\"141.853,1486.45 2352.76,1486.45 \"/>\n",
       "<polyline clip-path=\"url(#clip810)\" style=\"stroke:#000000; stroke-linecap:round; stroke-linejoin:round; stroke-width:4; stroke-opacity:1; fill:none\" points=\"190.521,1486.45 190.521,1467.55 \"/>\n",
       "<polyline clip-path=\"url(#clip810)\" style=\"stroke:#000000; stroke-linecap:round; stroke-linejoin:round; stroke-width:4; stroke-opacity:1; fill:none\" points=\"885.773,1486.45 885.773,1467.55 \"/>\n",
       "<polyline clip-path=\"url(#clip810)\" style=\"stroke:#000000; stroke-linecap:round; stroke-linejoin:round; stroke-width:4; stroke-opacity:1; fill:none\" points=\"1581.03,1486.45 1581.03,1467.55 \"/>\n",
       "<polyline clip-path=\"url(#clip810)\" style=\"stroke:#000000; stroke-linecap:round; stroke-linejoin:round; stroke-width:4; stroke-opacity:1; fill:none\" points=\"2276.28,1486.45 2276.28,1467.55 \"/>\n",
       "<path clip-path=\"url(#clip810)\" d=\"M190.521 1517.37 Q186.91 1517.37 185.081 1520.93 Q183.275 1524.47 183.275 1531.6 Q183.275 1538.71 185.081 1542.27 Q186.91 1545.82 190.521 1545.82 Q194.155 1545.82 195.96 1542.27 Q197.789 1538.71 197.789 1531.6 Q197.789 1524.47 195.96 1520.93 Q194.155 1517.37 190.521 1517.37 M190.521 1513.66 Q196.331 1513.66 199.386 1518.27 Q202.465 1522.85 202.465 1531.6 Q202.465 1540.33 199.386 1544.94 Q196.331 1549.52 190.521 1549.52 Q184.71 1549.52 181.632 1544.94 Q178.576 1540.33 178.576 1531.6 Q178.576 1522.85 181.632 1518.27 Q184.71 1513.66 190.521 1513.66 Z\" fill=\"#000000\" fill-rule=\"nonzero\" fill-opacity=\"1\" /><path clip-path=\"url(#clip810)\" d=\"M860.472 1514.29 L878.829 1514.29 L878.829 1518.22 L864.755 1518.22 L864.755 1526.7 Q865.773 1526.35 866.792 1526.19 Q867.81 1526 868.829 1526 Q874.616 1526 877.995 1529.17 Q881.375 1532.34 881.375 1537.76 Q881.375 1543.34 877.903 1546.44 Q874.431 1549.52 868.111 1549.52 Q865.935 1549.52 863.667 1549.15 Q861.421 1548.78 859.014 1548.04 L859.014 1543.34 Q861.097 1544.47 863.32 1545.03 Q865.542 1545.58 868.019 1545.58 Q872.023 1545.58 874.361 1543.48 Q876.699 1541.37 876.699 1537.76 Q876.699 1534.15 874.361 1532.04 Q872.023 1529.94 868.019 1529.94 Q866.144 1529.94 864.269 1530.35 Q862.417 1530.77 860.472 1531.65 L860.472 1514.29 Z\" fill=\"#000000\" fill-rule=\"nonzero\" fill-opacity=\"1\" /><path clip-path=\"url(#clip810)\" d=\"M900.588 1517.37 Q896.977 1517.37 895.148 1520.93 Q893.343 1524.47 893.343 1531.6 Q893.343 1538.71 895.148 1542.27 Q896.977 1545.82 900.588 1545.82 Q904.222 1545.82 906.028 1542.27 Q907.856 1538.71 907.856 1531.6 Q907.856 1524.47 906.028 1520.93 Q904.222 1517.37 900.588 1517.37 M900.588 1513.66 Q906.398 1513.66 909.454 1518.27 Q912.532 1522.85 912.532 1531.6 Q912.532 1540.33 909.454 1544.94 Q906.398 1549.52 900.588 1549.52 Q894.778 1549.52 891.699 1544.94 Q888.643 1540.33 888.643 1531.6 Q888.643 1522.85 891.699 1518.27 Q894.778 1513.66 900.588 1513.66 Z\" fill=\"#000000\" fill-rule=\"nonzero\" fill-opacity=\"1\" /><path clip-path=\"url(#clip810)\" d=\"M1540.63 1544.91 L1548.27 1544.91 L1548.27 1518.55 L1539.96 1520.21 L1539.96 1515.95 L1548.22 1514.29 L1552.9 1514.29 L1552.9 1544.91 L1560.54 1544.91 L1560.54 1548.85 L1540.63 1548.85 L1540.63 1544.91 Z\" fill=\"#000000\" fill-rule=\"nonzero\" fill-opacity=\"1\" /><path clip-path=\"url(#clip810)\" d=\"M1579.98 1517.37 Q1576.37 1517.37 1574.54 1520.93 Q1572.74 1524.47 1572.74 1531.6 Q1572.74 1538.71 1574.54 1542.27 Q1576.37 1545.82 1579.98 1545.82 Q1583.62 1545.82 1585.42 1542.27 Q1587.25 1538.71 1587.25 1531.6 Q1587.25 1524.47 1585.42 1520.93 Q1583.62 1517.37 1579.98 1517.37 M1579.98 1513.66 Q1585.79 1513.66 1588.85 1518.27 Q1591.93 1522.85 1591.93 1531.6 Q1591.93 1540.33 1588.85 1544.94 Q1585.79 1549.52 1579.98 1549.52 Q1574.17 1549.52 1571.1 1544.94 Q1568.04 1540.33 1568.04 1531.6 Q1568.04 1522.85 1571.1 1518.27 Q1574.17 1513.66 1579.98 1513.66 Z\" fill=\"#000000\" fill-rule=\"nonzero\" fill-opacity=\"1\" /><path clip-path=\"url(#clip810)\" d=\"M1610.15 1517.37 Q1606.53 1517.37 1604.71 1520.93 Q1602.9 1524.47 1602.9 1531.6 Q1602.9 1538.71 1604.71 1542.27 Q1606.53 1545.82 1610.15 1545.82 Q1613.78 1545.82 1615.59 1542.27 Q1617.41 1538.71 1617.41 1531.6 Q1617.41 1524.47 1615.59 1520.93 Q1613.78 1517.37 1610.15 1517.37 M1610.15 1513.66 Q1615.96 1513.66 1619.01 1518.27 Q1622.09 1522.85 1622.09 1531.6 Q1622.09 1540.33 1619.01 1544.94 Q1615.96 1549.52 1610.15 1549.52 Q1604.34 1549.52 1601.26 1544.94 Q1598.2 1540.33 1598.2 1531.6 Q1598.2 1522.85 1601.26 1518.27 Q1604.34 1513.66 1610.15 1513.66 Z\" fill=\"#000000\" fill-rule=\"nonzero\" fill-opacity=\"1\" /><path clip-path=\"url(#clip810)\" d=\"M2235.88 1544.91 L2243.52 1544.91 L2243.52 1518.55 L2235.21 1520.21 L2235.21 1515.95 L2243.48 1514.29 L2248.15 1514.29 L2248.15 1544.91 L2255.79 1544.91 L2255.79 1548.85 L2235.88 1548.85 L2235.88 1544.91 Z\" fill=\"#000000\" fill-rule=\"nonzero\" fill-opacity=\"1\" /><path clip-path=\"url(#clip810)\" d=\"M2265.28 1514.29 L2283.64 1514.29 L2283.64 1518.22 L2269.57 1518.22 L2269.57 1526.7 Q2270.58 1526.35 2271.6 1526.19 Q2272.62 1526 2273.64 1526 Q2279.43 1526 2282.81 1529.17 Q2286.19 1532.34 2286.19 1537.76 Q2286.19 1543.34 2282.71 1546.44 Q2279.24 1549.52 2272.92 1549.52 Q2270.75 1549.52 2268.48 1549.15 Q2266.23 1548.78 2263.82 1548.04 L2263.82 1543.34 Q2265.91 1544.47 2268.13 1545.03 Q2270.35 1545.58 2272.83 1545.58 Q2276.83 1545.58 2279.17 1543.48 Q2281.51 1541.37 2281.51 1537.76 Q2281.51 1534.15 2279.17 1532.04 Q2276.83 1529.94 2272.83 1529.94 Q2270.95 1529.94 2269.08 1530.35 Q2267.23 1530.77 2265.28 1531.65 L2265.28 1514.29 Z\" fill=\"#000000\" fill-rule=\"nonzero\" fill-opacity=\"1\" /><path clip-path=\"url(#clip810)\" d=\"M2305.4 1517.37 Q2301.79 1517.37 2299.96 1520.93 Q2298.15 1524.47 2298.15 1531.6 Q2298.15 1538.71 2299.96 1542.27 Q2301.79 1545.82 2305.4 1545.82 Q2309.03 1545.82 2310.84 1542.27 Q2312.67 1538.71 2312.67 1531.6 Q2312.67 1524.47 2310.84 1520.93 Q2309.03 1517.37 2305.4 1517.37 M2305.4 1513.66 Q2311.21 1513.66 2314.26 1518.27 Q2317.34 1522.85 2317.34 1531.6 Q2317.34 1540.33 2314.26 1544.94 Q2311.21 1549.52 2305.4 1549.52 Q2299.59 1549.52 2296.51 1544.94 Q2293.45 1540.33 2293.45 1531.6 Q2293.45 1522.85 2296.51 1518.27 Q2299.59 1513.66 2305.4 1513.66 Z\" fill=\"#000000\" fill-rule=\"nonzero\" fill-opacity=\"1\" /><polyline clip-path=\"url(#clip812)\" style=\"stroke:#000000; stroke-linecap:round; stroke-linejoin:round; stroke-width:2; stroke-opacity:0.1; fill:none\" points=\"141.853,1437.03 2352.76,1437.03 \"/>\n",
       "<polyline clip-path=\"url(#clip812)\" style=\"stroke:#000000; stroke-linecap:round; stroke-linejoin:round; stroke-width:2; stroke-opacity:0.1; fill:none\" points=\"141.853,1125.15 2352.76,1125.15 \"/>\n",
       "<polyline clip-path=\"url(#clip812)\" style=\"stroke:#000000; stroke-linecap:round; stroke-linejoin:round; stroke-width:2; stroke-opacity:0.1; fill:none\" points=\"141.853,813.26 2352.76,813.26 \"/>\n",
       "<polyline clip-path=\"url(#clip812)\" style=\"stroke:#000000; stroke-linecap:round; stroke-linejoin:round; stroke-width:2; stroke-opacity:0.1; fill:none\" points=\"141.853,501.374 2352.76,501.374 \"/>\n",
       "<polyline clip-path=\"url(#clip812)\" style=\"stroke:#000000; stroke-linecap:round; stroke-linejoin:round; stroke-width:2; stroke-opacity:0.1; fill:none\" points=\"141.853,189.487 2352.76,189.487 \"/>\n",
       "<polyline clip-path=\"url(#clip810)\" style=\"stroke:#000000; stroke-linecap:round; stroke-linejoin:round; stroke-width:4; stroke-opacity:1; fill:none\" points=\"141.853,1486.45 141.853,47.2441 \"/>\n",
       "<polyline clip-path=\"url(#clip810)\" style=\"stroke:#000000; stroke-linecap:round; stroke-linejoin:round; stroke-width:4; stroke-opacity:1; fill:none\" points=\"141.853,1437.03 160.751,1437.03 \"/>\n",
       "<polyline clip-path=\"url(#clip810)\" style=\"stroke:#000000; stroke-linecap:round; stroke-linejoin:round; stroke-width:4; stroke-opacity:1; fill:none\" points=\"141.853,1125.15 160.751,1125.15 \"/>\n",
       "<polyline clip-path=\"url(#clip810)\" style=\"stroke:#000000; stroke-linecap:round; stroke-linejoin:round; stroke-width:4; stroke-opacity:1; fill:none\" points=\"141.853,813.26 160.751,813.26 \"/>\n",
       "<polyline clip-path=\"url(#clip810)\" style=\"stroke:#000000; stroke-linecap:round; stroke-linejoin:round; stroke-width:4; stroke-opacity:1; fill:none\" points=\"141.853,501.374 160.751,501.374 \"/>\n",
       "<polyline clip-path=\"url(#clip810)\" style=\"stroke:#000000; stroke-linecap:round; stroke-linejoin:round; stroke-width:4; stroke-opacity:1; fill:none\" points=\"141.853,189.487 160.751,189.487 \"/>\n",
       "<path clip-path=\"url(#clip810)\" d=\"M93.9086 1422.83 Q90.2975 1422.83 88.4688 1426.4 Q86.6632 1429.94 86.6632 1437.07 Q86.6632 1444.17 88.4688 1447.74 Q90.2975 1451.28 93.9086 1451.28 Q97.5428 1451.28 99.3483 1447.74 Q101.177 1444.17 101.177 1437.07 Q101.177 1429.94 99.3483 1426.4 Q97.5428 1422.83 93.9086 1422.83 M93.9086 1419.13 Q99.7187 1419.13 102.774 1423.74 Q105.853 1428.32 105.853 1437.07 Q105.853 1445.8 102.774 1450.4 Q99.7187 1454.98 93.9086 1454.98 Q88.0984 1454.98 85.0197 1450.4 Q81.9642 1445.8 81.9642 1437.07 Q81.9642 1428.32 85.0197 1423.74 Q88.0984 1419.13 93.9086 1419.13 Z\" fill=\"#000000\" fill-rule=\"nonzero\" fill-opacity=\"1\" /><path clip-path=\"url(#clip810)\" d=\"M54.5569 1138.49 L62.1958 1138.49 L62.1958 1112.13 L53.8856 1113.79 L53.8856 1109.53 L62.1495 1107.87 L66.8254 1107.87 L66.8254 1138.49 L74.4642 1138.49 L74.4642 1142.43 L54.5569 1142.43 L54.5569 1138.49 Z\" fill=\"#000000\" fill-rule=\"nonzero\" fill-opacity=\"1\" /><path clip-path=\"url(#clip810)\" d=\"M93.9086 1110.95 Q90.2975 1110.95 88.4688 1114.51 Q86.6632 1118.05 86.6632 1125.18 Q86.6632 1132.29 88.4688 1135.85 Q90.2975 1139.39 93.9086 1139.39 Q97.5428 1139.39 99.3483 1135.85 Q101.177 1132.29 101.177 1125.18 Q101.177 1118.05 99.3483 1114.51 Q97.5428 1110.95 93.9086 1110.95 M93.9086 1107.24 Q99.7187 1107.24 102.774 1111.85 Q105.853 1116.43 105.853 1125.18 Q105.853 1133.91 102.774 1138.51 Q99.7187 1143.1 93.9086 1143.1 Q88.0984 1143.1 85.0197 1138.51 Q81.9642 1133.91 81.9642 1125.18 Q81.9642 1116.43 85.0197 1111.85 Q88.0984 1107.24 93.9086 1107.24 Z\" fill=\"#000000\" fill-rule=\"nonzero\" fill-opacity=\"1\" /><path clip-path=\"url(#clip810)\" d=\"M57.7745 826.605 L74.0939 826.605 L74.0939 830.54 L52.1495 830.54 L52.1495 826.605 Q54.8115 823.85 59.3949 819.221 Q64.0013 814.568 65.1819 813.226 Q67.4272 810.702 68.3068 808.966 Q69.2096 807.207 69.2096 805.517 Q69.2096 802.763 67.2652 801.026 Q65.3439 799.29 62.2421 799.29 Q60.043 799.29 57.5893 800.054 Q55.1588 800.818 52.381 802.369 L52.381 797.647 Q55.2051 796.513 57.6588 795.934 Q60.1124 795.355 62.1495 795.355 Q67.5198 795.355 70.7142 798.04 Q73.9087 800.726 73.9087 805.216 Q73.9087 807.346 73.0985 809.267 Q72.3115 811.165 70.205 813.758 Q69.6263 814.429 66.5245 817.647 Q63.4226 820.841 57.7745 826.605 Z\" fill=\"#000000\" fill-rule=\"nonzero\" fill-opacity=\"1\" /><path clip-path=\"url(#clip810)\" d=\"M93.9086 799.059 Q90.2975 799.059 88.4688 802.624 Q86.6632 806.165 86.6632 813.295 Q86.6632 820.401 88.4688 823.966 Q90.2975 827.508 93.9086 827.508 Q97.5428 827.508 99.3483 823.966 Q101.177 820.401 101.177 813.295 Q101.177 806.165 99.3483 802.624 Q97.5428 799.059 93.9086 799.059 M93.9086 795.355 Q99.7187 795.355 102.774 799.962 Q105.853 804.545 105.853 813.295 Q105.853 822.022 102.774 826.628 Q99.7187 831.212 93.9086 831.212 Q88.0984 831.212 85.0197 826.628 Q81.9642 822.022 81.9642 813.295 Q81.9642 804.545 85.0197 799.962 Q88.0984 795.355 93.9086 795.355 Z\" fill=\"#000000\" fill-rule=\"nonzero\" fill-opacity=\"1\" /><path clip-path=\"url(#clip810)\" d=\"M67.9133 500.019 Q71.2698 500.737 73.1448 503.005 Q75.0429 505.274 75.0429 508.607 Q75.0429 513.723 71.5244 516.524 Q68.0059 519.325 61.5245 519.325 Q59.3486 519.325 57.0338 518.885 Q54.7421 518.468 52.2884 517.612 L52.2884 513.098 Q54.2328 514.232 56.5477 514.811 Q58.8625 515.39 61.3856 515.39 Q65.7837 515.39 68.0754 513.654 Q70.3902 511.917 70.3902 508.607 Q70.3902 505.552 68.2374 503.839 Q66.1078 502.103 62.2884 502.103 L58.2606 502.103 L58.2606 498.26 L62.4735 498.26 Q65.9226 498.26 67.7513 496.894 Q69.58 495.506 69.58 492.913 Q69.58 490.251 67.6819 488.839 Q65.8069 487.404 62.2884 487.404 Q60.3671 487.404 58.168 487.82 Q55.969 488.237 53.3301 489.117 L53.3301 484.95 Q55.9921 484.209 58.3069 483.839 Q60.6449 483.469 62.705 483.469 Q68.0291 483.469 71.1309 485.899 Q74.2327 488.306 74.2327 492.427 Q74.2327 495.297 72.5892 497.288 Q70.9457 499.256 67.9133 500.019 Z\" fill=\"#000000\" fill-rule=\"nonzero\" fill-opacity=\"1\" /><path clip-path=\"url(#clip810)\" d=\"M93.9086 487.172 Q90.2975 487.172 88.4688 490.737 Q86.6632 494.279 86.6632 501.408 Q86.6632 508.515 88.4688 512.08 Q90.2975 515.621 93.9086 515.621 Q97.5428 515.621 99.3483 512.08 Q101.177 508.515 101.177 501.408 Q101.177 494.279 99.3483 490.737 Q97.5428 487.172 93.9086 487.172 M93.9086 483.469 Q99.7187 483.469 102.774 488.075 Q105.853 492.658 105.853 501.408 Q105.853 510.135 102.774 514.742 Q99.7187 519.325 93.9086 519.325 Q88.0984 519.325 85.0197 514.742 Q81.9642 510.135 81.9642 501.408 Q81.9642 492.658 85.0197 488.075 Q88.0984 483.469 93.9086 483.469 Z\" fill=\"#000000\" fill-rule=\"nonzero\" fill-opacity=\"1\" /><path clip-path=\"url(#clip810)\" d=\"M66.5939 176.281 L54.7884 194.73 L66.5939 194.73 L66.5939 176.281 M65.367 172.207 L71.2466 172.207 L71.2466 194.73 L76.1772 194.73 L76.1772 198.619 L71.2466 198.619 L71.2466 206.767 L66.5939 206.767 L66.5939 198.619 L50.9921 198.619 L50.9921 194.105 L65.367 172.207 Z\" fill=\"#000000\" fill-rule=\"nonzero\" fill-opacity=\"1\" /><path clip-path=\"url(#clip810)\" d=\"M93.9086 175.286 Q90.2975 175.286 88.4688 178.85 Q86.6632 182.392 86.6632 189.522 Q86.6632 196.628 88.4688 200.193 Q90.2975 203.734 93.9086 203.734 Q97.5428 203.734 99.3483 200.193 Q101.177 196.628 101.177 189.522 Q101.177 182.392 99.3483 178.85 Q97.5428 175.286 93.9086 175.286 M93.9086 171.582 Q99.7187 171.582 102.774 176.188 Q105.853 180.772 105.853 189.522 Q105.853 198.248 102.774 202.855 Q99.7187 207.438 93.9086 207.438 Q88.0984 207.438 85.0197 202.855 Q81.9642 198.248 81.9642 189.522 Q81.9642 180.772 85.0197 176.188 Q88.0984 171.582 93.9086 171.582 Z\" fill=\"#000000\" fill-rule=\"nonzero\" fill-opacity=\"1\" /><polyline clip-path=\"url(#clip812)\" style=\"stroke:#009af9; stroke-linecap:round; stroke-linejoin:round; stroke-width:4; stroke-opacity:1; fill:none\" points=\"204.426,1433.8 218.331,1390.66 232.236,1349.27 246.141,1361.81 260.046,1415.05 273.951,1361.52 287.856,1355.59 301.761,1351.69 315.666,1415.17 329.571,1360.62 343.476,1367.39 357.381,1403.69 371.286,1401.06 385.191,1445.72 399.096,1385.47 413.001,1335.03 426.906,1323.03 440.812,1332.08 454.717,1350.5 468.622,1351.72 482.527,1334.33 496.432,1366.02 510.337,1348.63 524.242,1292.1 538.147,1302.71 552.052,1371.87 565.957,1370.68 579.862,1358.28 593.767,1354.39 607.672,1370.75 621.577,1334.03 635.482,1324.56 649.387,1320.24 663.292,1319.73 677.197,1304.1 691.102,1266.47 705.007,1284.26 718.913,1334.01 732.818,1299.07 746.723,1314.01 760.628,1309.45 774.533,1307.19 788.438,1253.8 802.343,1298.13 816.248,1318.28 830.153,1294.79 844.058,1233.42 857.963,1259.98 871.868,1221.29 885.773,1198.49 899.678,1242.79 913.583,1262.71 927.488,1310.51 941.393,1307.23 955.298,1255.84 969.203,1196.19 983.108,1152.68 997.014,1227.6 1010.92,1258.96 1024.82,1290.72 1038.73,1251.29 1052.63,1271.71 1066.54,1255.07 1080.44,1298.67 1094.35,1193.22 1108.25,1149.7 1122.16,1175.09 1136.06,1182.4 1149.97,1152.84 1163.87,1215.43 1177.78,1245.87 1191.68,1250.06 1205.59,1234.59 1219.49,1241.43 1233.4,1219.03 1247.3,1282.53 1261.21,1324.43 1275.11,1274.23 1289.02,1248.29 1302.92,1306.4 1316.83,1293.99 1330.73,1288.57 1344.64,1318.49 1358.54,1324.09 1372.45,1281.72 1386.35,1284.34 1400.26,1305.13 1414.17,1267.09 1428.07,1294.99 1441.98,1282.05 1455.88,1245.99 1469.79,1223.3 1483.69,1250.08 1497.6,1273.1 1511.5,1300.1 1525.41,1306.57 1539.31,1298.55 1553.22,1310.01 1567.12,1338.77 1581.03,1345.89 1594.93,1331.58 1608.84,1302.33 1622.74,1333.59 1636.65,1283.38 1650.55,1300.61 1664.46,1263.63 1678.36,1290.79 1692.27,1287.19 1706.17,1299.3 1720.08,1395.44 1733.98,1386.1 1747.89,1390.44 1761.79,1416.64 1775.7,1405.93 1789.6,1388.04 1803.51,1306.2 1817.41,1267.18 1831.32,1236.3 1845.22,1237.29 1859.13,1228.88 1873.03,1182.22 1886.94,1211.91 1900.84,1279.58 1914.75,1309.45 1928.65,1253.17 1942.56,1300.38 1956.46,1287.67 1970.37,1257.38 1984.27,1279.76 1998.18,1286.69 2012.08,1292.1 2025.99,1349.72 2039.89,1391.58 2053.8,1403.54 2067.7,1380.27 2081.61,1304.44 2095.51,1318 2109.42,1307.5 2123.32,1286.47 2137.23,1300.15 2151.13,1336.25 2165.04,1310.4 2178.94,1341.24 2192.85,1273.88 2206.75,1306.54 2220.66,1326.19 2234.56,1333.57 2248.47,1358.02 2262.37,1313.72 2276.28,1307.55 2290.18,1219.54 \"/>\n",
       "<polyline clip-path=\"url(#clip812)\" style=\"stroke:#e26f46; stroke-linecap:round; stroke-linejoin:round; stroke-width:4; stroke-opacity:1; fill:none\" points=\"204.426,1349.61 218.331,1264.28 232.236,1215.11 246.141,1238.97 260.046,1263.03 273.951,1258.12 287.856,1145.72 301.761,1171.51 315.666,1145.1 329.571,1155.14 343.476,1139.13 357.381,1113.21 371.286,1150.55 385.191,1186.33 399.096,1155.61 413.001,1173.91 426.906,1228.67 440.812,1260.68 454.717,1241.9 468.622,1229.16 482.527,1232.27 496.432,1272.74 510.337,1259.87 524.242,1305.12 538.147,1232.42 552.052,1179.58 565.957,1118.51 579.862,1113.07 593.767,1136.53 607.672,1176.2 621.577,1196.46 635.482,1094.08 649.387,1074.45 663.292,1066.98 677.197,1064.81 691.102,1037.35 705.007,1038.18 718.913,1046.99 732.818,1004.19 746.723,1027.92 760.628,1031.88 774.533,1035.9 788.438,1027.91 802.343,1029.18 816.248,1012.64 830.153,1095.88 844.058,1102.53 857.963,1063.16 871.868,1038.41 885.773,976.592 899.678,1019.04 913.583,1030.59 927.488,1029.7 941.393,1064.16 955.298,1101.73 969.203,1082.91 983.108,1066.39 997.014,1070.4 1010.92,1052.24 1024.82,1060.67 1038.73,1099.56 1052.63,1076.38 1066.54,1121.06 1080.44,1172.02 1094.35,1164.12 1108.25,1217.15 1122.16,1183.67 1136.06,1189.86 1149.97,1115.39 1163.87,1111.6 1177.78,1097.37 1191.68,1077.43 1205.59,1047.65 1219.49,1053.52 1233.4,1023.04 1247.3,999.71 1261.21,960.215 1275.11,919.946 1289.02,999.721 1302.92,1026.78 1316.83,1039.64 1330.73,1054.48 1344.64,1081.95 1358.54,1088.54 1372.45,1083.2 1386.35,1045.01 1400.26,1102.26 1414.17,1163.83 1428.07,1157.22 1441.98,1160.86 1455.88,1134.59 1469.79,1118.9 1483.69,1110.86 1497.6,1087.62 1511.5,1113.67 1525.41,1173.57 1539.31,1224.08 1553.22,1212.49 1567.12,1183.66 1581.03,1183.93 1594.93,1153.41 1608.84,1208.6 1622.74,1164.65 1636.65,1166.71 1650.55,1133.07 1664.46,1131.26 1678.36,1113.53 1692.27,1122.49 1706.17,1139.96 1720.08,1162.98 1733.98,1213.76 1747.89,1227.93 1761.79,1197.07 1775.7,1126.01 1789.6,1066.83 1803.51,1100.28 1817.41,1057.76 1831.32,1008.58 1845.22,979.494 1859.13,979.496 1873.03,963.499 1886.94,975.897 1900.84,1034.23 1914.75,1017.62 1928.65,1078.69 1942.56,1108.13 1956.46,1122.19 1970.37,1146.54 1984.27,1118.77 1998.18,1090.36 2012.08,1159.98 2025.99,1128.77 2039.89,1134.84 2053.8,1126.35 2067.7,1062.72 2081.61,1019.66 2095.51,997.089 2109.42,989.919 2123.32,1029.59 2137.23,1069.44 2151.13,1074.19 2165.04,1046.03 2178.94,1037.94 2192.85,1079.45 2206.75,1079.4 2220.66,1085.11 2234.56,1103.62 2248.47,1098.48 2262.37,1106.79 2276.28,1088.99 2290.18,1083.09 \"/>\n",
       "<polyline clip-path=\"url(#clip812)\" style=\"stroke:#3da44d; stroke-linecap:round; stroke-linejoin:round; stroke-width:4; stroke-opacity:1; fill:none\" points=\"204.426,1387.65 218.331,1312.76 232.236,1317.24 246.141,1247.27 260.046,1217.35 273.951,1181.77 287.856,1176.35 301.761,1123.38 315.666,1093.42 329.571,1045.93 343.476,1054.24 357.381,1069.66 371.286,1083.78 385.191,1099.59 399.096,1133.14 413.001,1128.05 426.906,1086.19 440.812,1055.46 454.717,1009.12 468.622,959.75 482.527,940.592 496.432,896.263 510.337,878.366 524.242,881.454 538.147,839.778 552.052,803.045 565.957,819.741 579.862,817.024 593.767,769.942 607.672,775.81 621.577,719.537 635.482,715.615 649.387,704.775 663.292,714.835 677.197,684.22 691.102,642.427 705.007,612.53 718.913,607.826 732.818,576.682 746.723,502.02 760.628,511.211 774.533,448.688 788.438,376.886 802.343,400.719 816.248,390.387 830.153,407.828 844.058,439.509 857.963,395.354 871.868,361.345 885.773,372.221 899.678,368.074 913.583,373.783 927.488,330.638 941.393,304.095 955.298,356.25 969.203,335.581 983.108,369.495 997.014,361.5 1010.92,369.671 1024.82,350.745 1038.73,339.979 1052.63,310.658 1066.54,252.976 1080.44,243.263 1094.35,221.24 1108.25,256.247 1122.16,228.87 1136.06,218.01 1149.97,223.141 1163.87,244.418 1177.78,210.015 1191.68,168.747 1205.59,144.429 1219.49,131.202 1233.4,123.081 1247.3,113.482 1261.21,123.085 1275.11,169.251 1289.02,171.711 1302.92,195.212 1316.83,157.975 1330.73,139.462 1344.64,136.366 1358.54,87.9763 1372.45,91.4279 1386.35,119.216 1400.26,111.739 1414.17,106.022 1428.07,118.773 1441.98,105.468 1455.88,139.201 1469.79,169.59 1483.69,258.163 1497.6,264.887 1511.5,240.923 1525.41,232.853 1539.31,243.526 1553.22,316.135 1567.12,339.433 1581.03,364.002 1594.93,340.088 1608.84,333.692 1622.74,328.456 1636.65,333.415 1650.55,307.114 1664.46,253.234 1678.36,243.949 1692.27,224.027 1706.17,220.783 1720.08,211.652 1733.98,213.894 1747.89,232.056 1761.79,228.608 1775.7,186.363 1789.6,173.23 1803.51,231.76 1817.41,210.459 1831.32,276.987 1845.22,246.548 1859.13,230.637 1873.03,233.325 1886.94,160.002 1900.84,163.906 1914.75,216.825 1928.65,246.771 1942.56,248.185 1956.46,304.316 1970.37,339.876 1984.27,356.425 1998.18,301.209 2012.08,305.239 2025.99,281.092 2039.89,304.137 2053.8,317.437 2067.7,307.045 2081.61,281.925 2095.51,294.693 2109.42,316.341 2123.32,297.259 2137.23,311.375 2151.13,304.739 2165.04,366.36 2178.94,383.952 2192.85,318.319 2206.75,309.645 2220.66,239.031 2234.56,221.647 2248.47,243.273 2262.37,206.304 2276.28,131.768 2290.18,186.133 \"/>\n",
       "<path clip-path=\"url(#clip810)\" d=\"M215.55 302.578 L489.649 302.578 L489.649 95.2176 L215.55 95.2176  Z\" fill=\"#ffffff\" fill-rule=\"evenodd\" fill-opacity=\"1\"/>\n",
       "<polyline clip-path=\"url(#clip810)\" style=\"stroke:#000000; stroke-linecap:round; stroke-linejoin:round; stroke-width:4; stroke-opacity:1; fill:none\" points=\"215.55,302.578 489.649,302.578 489.649,95.2176 215.55,95.2176 215.55,302.578 \"/>\n",
       "<polyline clip-path=\"url(#clip810)\" style=\"stroke:#009af9; stroke-linecap:round; stroke-linejoin:round; stroke-width:4; stroke-opacity:1; fill:none\" points=\"240.115,147.058 387.509,147.058 \"/>\n",
       "<path clip-path=\"url(#clip810)\" d=\"M425.917 166.745 Q424.111 171.375 422.398 172.787 Q420.685 174.199 417.815 174.199 L414.412 174.199 L414.412 170.634 L416.912 170.634 Q418.672 170.634 419.644 169.8 Q420.616 168.967 421.797 165.865 L422.56 163.921 L412.074 138.412 L416.588 138.412 L424.69 158.689 L432.792 138.412 L437.306 138.412 L425.917 166.745 Z\" fill=\"#000000\" fill-rule=\"nonzero\" fill-opacity=\"1\" /><path clip-path=\"url(#clip810)\" d=\"M444.597 160.402 L452.236 160.402 L452.236 134.037 L443.926 135.703 L443.926 131.444 L452.19 129.778 L456.866 129.778 L456.866 160.402 L464.505 160.402 L464.505 164.338 L444.597 164.338 L444.597 160.402 Z\" fill=\"#000000\" fill-rule=\"nonzero\" fill-opacity=\"1\" /><polyline clip-path=\"url(#clip810)\" style=\"stroke:#e26f46; stroke-linecap:round; stroke-linejoin:round; stroke-width:4; stroke-opacity:1; fill:none\" points=\"240.115,198.898 387.509,198.898 \"/>\n",
       "<path clip-path=\"url(#clip810)\" d=\"M425.917 218.585 Q424.111 223.215 422.398 224.627 Q420.685 226.039 417.815 226.039 L414.412 226.039 L414.412 222.474 L416.912 222.474 Q418.672 222.474 419.644 221.64 Q420.616 220.807 421.797 217.705 L422.56 215.761 L412.074 190.252 L416.588 190.252 L424.69 210.529 L432.792 190.252 L437.306 190.252 L425.917 218.585 Z\" fill=\"#000000\" fill-rule=\"nonzero\" fill-opacity=\"1\" /><path clip-path=\"url(#clip810)\" d=\"M447.815 212.242 L464.134 212.242 L464.134 216.178 L442.19 216.178 L442.19 212.242 Q444.852 209.488 449.435 204.858 Q454.042 200.205 455.222 198.863 Q457.468 196.34 458.347 194.604 Q459.25 192.844 459.25 191.155 Q459.25 188.4 457.306 186.664 Q455.384 184.928 452.283 184.928 Q450.083 184.928 447.63 185.692 Q445.199 186.455 442.421 188.006 L442.421 183.284 Q445.246 182.15 447.699 181.571 Q450.153 180.993 452.19 180.993 Q457.56 180.993 460.755 183.678 Q463.949 186.363 463.949 190.854 Q463.949 192.983 463.139 194.905 Q462.352 196.803 460.245 199.395 Q459.667 200.067 456.565 203.284 Q453.463 206.479 447.815 212.242 Z\" fill=\"#000000\" fill-rule=\"nonzero\" fill-opacity=\"1\" /><polyline clip-path=\"url(#clip810)\" style=\"stroke:#3da44d; stroke-linecap:round; stroke-linejoin:round; stroke-width:4; stroke-opacity:1; fill:none\" points=\"240.115,250.738 387.509,250.738 \"/>\n",
       "<path clip-path=\"url(#clip810)\" d=\"M425.917 270.425 Q424.111 275.055 422.398 276.467 Q420.685 277.879 417.815 277.879 L414.412 277.879 L414.412 274.314 L416.912 274.314 Q418.672 274.314 419.644 273.48 Q420.616 272.647 421.797 269.545 L422.56 267.601 L412.074 242.092 L416.588 242.092 L424.69 262.369 L432.792 242.092 L437.306 242.092 L425.917 270.425 Z\" fill=\"#000000\" fill-rule=\"nonzero\" fill-opacity=\"1\" /><path clip-path=\"url(#clip810)\" d=\"M457.954 249.383 Q461.31 250.101 463.185 252.369 Q465.083 254.638 465.083 257.971 Q465.083 263.087 461.565 265.888 Q458.046 268.689 451.565 268.689 Q449.389 268.689 447.074 268.249 Q444.783 267.832 442.329 266.976 L442.329 262.462 Q444.273 263.596 446.588 264.175 Q448.903 264.754 451.426 264.754 Q455.824 264.754 458.116 263.018 Q460.431 261.281 460.431 257.971 Q460.431 254.916 458.278 253.203 Q456.148 251.467 452.329 251.467 L448.301 251.467 L448.301 247.624 L452.514 247.624 Q455.963 247.624 457.792 246.258 Q459.62 244.87 459.62 242.277 Q459.62 239.615 457.722 238.203 Q455.847 236.768 452.329 236.768 Q450.408 236.768 448.208 237.184 Q446.009 237.601 443.371 238.481 L443.371 234.314 Q446.033 233.573 448.347 233.203 Q450.685 232.833 452.745 232.833 Q458.07 232.833 461.171 235.263 Q464.273 237.67 464.273 241.791 Q464.273 244.661 462.63 246.652 Q460.986 248.62 457.954 249.383 Z\" fill=\"#000000\" fill-rule=\"nonzero\" fill-opacity=\"1\" /></svg>\n"
      ],
      "text/html": [
       "<?xml version=\"1.0\" encoding=\"utf-8\"?>\n",
       "<svg xmlns=\"http://www.w3.org/2000/svg\" xmlns:xlink=\"http://www.w3.org/1999/xlink\" width=\"600\" height=\"400\" viewBox=\"0 0 2400 1600\">\n",
       "<defs>\n",
       "  <clipPath id=\"clip860\">\n",
       "    <rect x=\"0\" y=\"0\" width=\"2400\" height=\"1600\"/>\n",
       "  </clipPath>\n",
       "</defs>\n",
       "<path clip-path=\"url(#clip860)\" d=\"M0 1600 L2400 1600 L2400 0 L0 0  Z\" fill=\"#ffffff\" fill-rule=\"evenodd\" fill-opacity=\"1\"/>\n",
       "<defs>\n",
       "  <clipPath id=\"clip861\">\n",
       "    <rect x=\"480\" y=\"0\" width=\"1681\" height=\"1600\"/>\n",
       "  </clipPath>\n",
       "</defs>\n",
       "<path clip-path=\"url(#clip860)\" d=\"M141.853 1486.45 L2352.76 1486.45 L2352.76 47.2441 L141.853 47.2441  Z\" fill=\"#ffffff\" fill-rule=\"evenodd\" fill-opacity=\"1\"/>\n",
       "<defs>\n",
       "  <clipPath id=\"clip862\">\n",
       "    <rect x=\"141\" y=\"47\" width=\"2212\" height=\"1440\"/>\n",
       "  </clipPath>\n",
       "</defs>\n",
       "<polyline clip-path=\"url(#clip862)\" style=\"stroke:#000000; stroke-linecap:round; stroke-linejoin:round; stroke-width:2; stroke-opacity:0.1; fill:none\" points=\"190.521,1486.45 190.521,47.2441 \"/>\n",
       "<polyline clip-path=\"url(#clip862)\" style=\"stroke:#000000; stroke-linecap:round; stroke-linejoin:round; stroke-width:2; stroke-opacity:0.1; fill:none\" points=\"885.773,1486.45 885.773,47.2441 \"/>\n",
       "<polyline clip-path=\"url(#clip862)\" style=\"stroke:#000000; stroke-linecap:round; stroke-linejoin:round; stroke-width:2; stroke-opacity:0.1; fill:none\" points=\"1581.03,1486.45 1581.03,47.2441 \"/>\n",
       "<polyline clip-path=\"url(#clip862)\" style=\"stroke:#000000; stroke-linecap:round; stroke-linejoin:round; stroke-width:2; stroke-opacity:0.1; fill:none\" points=\"2276.28,1486.45 2276.28,47.2441 \"/>\n",
       "<polyline clip-path=\"url(#clip860)\" style=\"stroke:#000000; stroke-linecap:round; stroke-linejoin:round; stroke-width:4; stroke-opacity:1; fill:none\" points=\"141.853,1486.45 2352.76,1486.45 \"/>\n",
       "<polyline clip-path=\"url(#clip860)\" style=\"stroke:#000000; stroke-linecap:round; stroke-linejoin:round; stroke-width:4; stroke-opacity:1; fill:none\" points=\"190.521,1486.45 190.521,1467.55 \"/>\n",
       "<polyline clip-path=\"url(#clip860)\" style=\"stroke:#000000; stroke-linecap:round; stroke-linejoin:round; stroke-width:4; stroke-opacity:1; fill:none\" points=\"885.773,1486.45 885.773,1467.55 \"/>\n",
       "<polyline clip-path=\"url(#clip860)\" style=\"stroke:#000000; stroke-linecap:round; stroke-linejoin:round; stroke-width:4; stroke-opacity:1; fill:none\" points=\"1581.03,1486.45 1581.03,1467.55 \"/>\n",
       "<polyline clip-path=\"url(#clip860)\" style=\"stroke:#000000; stroke-linecap:round; stroke-linejoin:round; stroke-width:4; stroke-opacity:1; fill:none\" points=\"2276.28,1486.45 2276.28,1467.55 \"/>\n",
       "<path clip-path=\"url(#clip860)\" d=\"M190.521 1517.37 Q186.91 1517.37 185.081 1520.93 Q183.275 1524.47 183.275 1531.6 Q183.275 1538.71 185.081 1542.27 Q186.91 1545.82 190.521 1545.82 Q194.155 1545.82 195.96 1542.27 Q197.789 1538.71 197.789 1531.6 Q197.789 1524.47 195.96 1520.93 Q194.155 1517.37 190.521 1517.37 M190.521 1513.66 Q196.331 1513.66 199.386 1518.27 Q202.465 1522.85 202.465 1531.6 Q202.465 1540.33 199.386 1544.94 Q196.331 1549.52 190.521 1549.52 Q184.71 1549.52 181.632 1544.94 Q178.576 1540.33 178.576 1531.6 Q178.576 1522.85 181.632 1518.27 Q184.71 1513.66 190.521 1513.66 Z\" fill=\"#000000\" fill-rule=\"nonzero\" fill-opacity=\"1\" /><path clip-path=\"url(#clip860)\" d=\"M860.472 1514.29 L878.829 1514.29 L878.829 1518.22 L864.755 1518.22 L864.755 1526.7 Q865.773 1526.35 866.792 1526.19 Q867.81 1526 868.829 1526 Q874.616 1526 877.995 1529.17 Q881.375 1532.34 881.375 1537.76 Q881.375 1543.34 877.903 1546.44 Q874.431 1549.52 868.111 1549.52 Q865.935 1549.52 863.667 1549.15 Q861.421 1548.78 859.014 1548.04 L859.014 1543.34 Q861.097 1544.47 863.32 1545.03 Q865.542 1545.58 868.019 1545.58 Q872.023 1545.58 874.361 1543.48 Q876.699 1541.37 876.699 1537.76 Q876.699 1534.15 874.361 1532.04 Q872.023 1529.94 868.019 1529.94 Q866.144 1529.94 864.269 1530.35 Q862.417 1530.77 860.472 1531.65 L860.472 1514.29 Z\" fill=\"#000000\" fill-rule=\"nonzero\" fill-opacity=\"1\" /><path clip-path=\"url(#clip860)\" d=\"M900.588 1517.37 Q896.977 1517.37 895.148 1520.93 Q893.343 1524.47 893.343 1531.6 Q893.343 1538.71 895.148 1542.27 Q896.977 1545.82 900.588 1545.82 Q904.222 1545.82 906.028 1542.27 Q907.856 1538.71 907.856 1531.6 Q907.856 1524.47 906.028 1520.93 Q904.222 1517.37 900.588 1517.37 M900.588 1513.66 Q906.398 1513.66 909.454 1518.27 Q912.532 1522.85 912.532 1531.6 Q912.532 1540.33 909.454 1544.94 Q906.398 1549.52 900.588 1549.52 Q894.778 1549.52 891.699 1544.94 Q888.643 1540.33 888.643 1531.6 Q888.643 1522.85 891.699 1518.27 Q894.778 1513.66 900.588 1513.66 Z\" fill=\"#000000\" fill-rule=\"nonzero\" fill-opacity=\"1\" /><path clip-path=\"url(#clip860)\" d=\"M1540.63 1544.91 L1548.27 1544.91 L1548.27 1518.55 L1539.96 1520.21 L1539.96 1515.95 L1548.22 1514.29 L1552.9 1514.29 L1552.9 1544.91 L1560.54 1544.91 L1560.54 1548.85 L1540.63 1548.85 L1540.63 1544.91 Z\" fill=\"#000000\" fill-rule=\"nonzero\" fill-opacity=\"1\" /><path clip-path=\"url(#clip860)\" d=\"M1579.98 1517.37 Q1576.37 1517.37 1574.54 1520.93 Q1572.74 1524.47 1572.74 1531.6 Q1572.74 1538.71 1574.54 1542.27 Q1576.37 1545.82 1579.98 1545.82 Q1583.62 1545.82 1585.42 1542.27 Q1587.25 1538.71 1587.25 1531.6 Q1587.25 1524.47 1585.42 1520.93 Q1583.62 1517.37 1579.98 1517.37 M1579.98 1513.66 Q1585.79 1513.66 1588.85 1518.27 Q1591.93 1522.85 1591.93 1531.6 Q1591.93 1540.33 1588.85 1544.94 Q1585.79 1549.52 1579.98 1549.52 Q1574.17 1549.52 1571.1 1544.94 Q1568.04 1540.33 1568.04 1531.6 Q1568.04 1522.85 1571.1 1518.27 Q1574.17 1513.66 1579.98 1513.66 Z\" fill=\"#000000\" fill-rule=\"nonzero\" fill-opacity=\"1\" /><path clip-path=\"url(#clip860)\" d=\"M1610.15 1517.37 Q1606.53 1517.37 1604.71 1520.93 Q1602.9 1524.47 1602.9 1531.6 Q1602.9 1538.71 1604.71 1542.27 Q1606.53 1545.82 1610.15 1545.82 Q1613.78 1545.82 1615.59 1542.27 Q1617.41 1538.71 1617.41 1531.6 Q1617.41 1524.47 1615.59 1520.93 Q1613.78 1517.37 1610.15 1517.37 M1610.15 1513.66 Q1615.96 1513.66 1619.01 1518.27 Q1622.09 1522.85 1622.09 1531.6 Q1622.09 1540.33 1619.01 1544.94 Q1615.96 1549.52 1610.15 1549.52 Q1604.34 1549.52 1601.26 1544.94 Q1598.2 1540.33 1598.2 1531.6 Q1598.2 1522.85 1601.26 1518.27 Q1604.34 1513.66 1610.15 1513.66 Z\" fill=\"#000000\" fill-rule=\"nonzero\" fill-opacity=\"1\" /><path clip-path=\"url(#clip860)\" d=\"M2235.88 1544.91 L2243.52 1544.91 L2243.52 1518.55 L2235.21 1520.21 L2235.21 1515.95 L2243.48 1514.29 L2248.15 1514.29 L2248.15 1544.91 L2255.79 1544.91 L2255.79 1548.85 L2235.88 1548.85 L2235.88 1544.91 Z\" fill=\"#000000\" fill-rule=\"nonzero\" fill-opacity=\"1\" /><path clip-path=\"url(#clip860)\" d=\"M2265.28 1514.29 L2283.64 1514.29 L2283.64 1518.22 L2269.57 1518.22 L2269.57 1526.7 Q2270.58 1526.35 2271.6 1526.19 Q2272.62 1526 2273.64 1526 Q2279.43 1526 2282.81 1529.17 Q2286.19 1532.34 2286.19 1537.76 Q2286.19 1543.34 2282.71 1546.44 Q2279.24 1549.52 2272.92 1549.52 Q2270.75 1549.52 2268.48 1549.15 Q2266.23 1548.78 2263.82 1548.04 L2263.82 1543.34 Q2265.91 1544.47 2268.13 1545.03 Q2270.35 1545.58 2272.83 1545.58 Q2276.83 1545.58 2279.17 1543.48 Q2281.51 1541.37 2281.51 1537.76 Q2281.51 1534.15 2279.17 1532.04 Q2276.83 1529.94 2272.83 1529.94 Q2270.95 1529.94 2269.08 1530.35 Q2267.23 1530.77 2265.28 1531.65 L2265.28 1514.29 Z\" fill=\"#000000\" fill-rule=\"nonzero\" fill-opacity=\"1\" /><path clip-path=\"url(#clip860)\" d=\"M2305.4 1517.37 Q2301.79 1517.37 2299.96 1520.93 Q2298.15 1524.47 2298.15 1531.6 Q2298.15 1538.71 2299.96 1542.27 Q2301.79 1545.82 2305.4 1545.82 Q2309.03 1545.82 2310.84 1542.27 Q2312.67 1538.71 2312.67 1531.6 Q2312.67 1524.47 2310.84 1520.93 Q2309.03 1517.37 2305.4 1517.37 M2305.4 1513.66 Q2311.21 1513.66 2314.26 1518.27 Q2317.34 1522.85 2317.34 1531.6 Q2317.34 1540.33 2314.26 1544.94 Q2311.21 1549.52 2305.4 1549.52 Q2299.59 1549.52 2296.51 1544.94 Q2293.45 1540.33 2293.45 1531.6 Q2293.45 1522.85 2296.51 1518.27 Q2299.59 1513.66 2305.4 1513.66 Z\" fill=\"#000000\" fill-rule=\"nonzero\" fill-opacity=\"1\" /><polyline clip-path=\"url(#clip862)\" style=\"stroke:#000000; stroke-linecap:round; stroke-linejoin:round; stroke-width:2; stroke-opacity:0.1; fill:none\" points=\"141.853,1437.03 2352.76,1437.03 \"/>\n",
       "<polyline clip-path=\"url(#clip862)\" style=\"stroke:#000000; stroke-linecap:round; stroke-linejoin:round; stroke-width:2; stroke-opacity:0.1; fill:none\" points=\"141.853,1125.15 2352.76,1125.15 \"/>\n",
       "<polyline clip-path=\"url(#clip862)\" style=\"stroke:#000000; stroke-linecap:round; stroke-linejoin:round; stroke-width:2; stroke-opacity:0.1; fill:none\" points=\"141.853,813.26 2352.76,813.26 \"/>\n",
       "<polyline clip-path=\"url(#clip862)\" style=\"stroke:#000000; stroke-linecap:round; stroke-linejoin:round; stroke-width:2; stroke-opacity:0.1; fill:none\" points=\"141.853,501.374 2352.76,501.374 \"/>\n",
       "<polyline clip-path=\"url(#clip862)\" style=\"stroke:#000000; stroke-linecap:round; stroke-linejoin:round; stroke-width:2; stroke-opacity:0.1; fill:none\" points=\"141.853,189.487 2352.76,189.487 \"/>\n",
       "<polyline clip-path=\"url(#clip860)\" style=\"stroke:#000000; stroke-linecap:round; stroke-linejoin:round; stroke-width:4; stroke-opacity:1; fill:none\" points=\"141.853,1486.45 141.853,47.2441 \"/>\n",
       "<polyline clip-path=\"url(#clip860)\" style=\"stroke:#000000; stroke-linecap:round; stroke-linejoin:round; stroke-width:4; stroke-opacity:1; fill:none\" points=\"141.853,1437.03 160.751,1437.03 \"/>\n",
       "<polyline clip-path=\"url(#clip860)\" style=\"stroke:#000000; stroke-linecap:round; stroke-linejoin:round; stroke-width:4; stroke-opacity:1; fill:none\" points=\"141.853,1125.15 160.751,1125.15 \"/>\n",
       "<polyline clip-path=\"url(#clip860)\" style=\"stroke:#000000; stroke-linecap:round; stroke-linejoin:round; stroke-width:4; stroke-opacity:1; fill:none\" points=\"141.853,813.26 160.751,813.26 \"/>\n",
       "<polyline clip-path=\"url(#clip860)\" style=\"stroke:#000000; stroke-linecap:round; stroke-linejoin:round; stroke-width:4; stroke-opacity:1; fill:none\" points=\"141.853,501.374 160.751,501.374 \"/>\n",
       "<polyline clip-path=\"url(#clip860)\" style=\"stroke:#000000; stroke-linecap:round; stroke-linejoin:round; stroke-width:4; stroke-opacity:1; fill:none\" points=\"141.853,189.487 160.751,189.487 \"/>\n",
       "<path clip-path=\"url(#clip860)\" d=\"M93.9086 1422.83 Q90.2975 1422.83 88.4688 1426.4 Q86.6632 1429.94 86.6632 1437.07 Q86.6632 1444.17 88.4688 1447.74 Q90.2975 1451.28 93.9086 1451.28 Q97.5428 1451.28 99.3483 1447.74 Q101.177 1444.17 101.177 1437.07 Q101.177 1429.94 99.3483 1426.4 Q97.5428 1422.83 93.9086 1422.83 M93.9086 1419.13 Q99.7187 1419.13 102.774 1423.74 Q105.853 1428.32 105.853 1437.07 Q105.853 1445.8 102.774 1450.4 Q99.7187 1454.98 93.9086 1454.98 Q88.0984 1454.98 85.0197 1450.4 Q81.9642 1445.8 81.9642 1437.07 Q81.9642 1428.32 85.0197 1423.74 Q88.0984 1419.13 93.9086 1419.13 Z\" fill=\"#000000\" fill-rule=\"nonzero\" fill-opacity=\"1\" /><path clip-path=\"url(#clip860)\" d=\"M54.5569 1138.49 L62.1958 1138.49 L62.1958 1112.13 L53.8856 1113.79 L53.8856 1109.53 L62.1495 1107.87 L66.8254 1107.87 L66.8254 1138.49 L74.4642 1138.49 L74.4642 1142.43 L54.5569 1142.43 L54.5569 1138.49 Z\" fill=\"#000000\" fill-rule=\"nonzero\" fill-opacity=\"1\" /><path clip-path=\"url(#clip860)\" d=\"M93.9086 1110.95 Q90.2975 1110.95 88.4688 1114.51 Q86.6632 1118.05 86.6632 1125.18 Q86.6632 1132.29 88.4688 1135.85 Q90.2975 1139.39 93.9086 1139.39 Q97.5428 1139.39 99.3483 1135.85 Q101.177 1132.29 101.177 1125.18 Q101.177 1118.05 99.3483 1114.51 Q97.5428 1110.95 93.9086 1110.95 M93.9086 1107.24 Q99.7187 1107.24 102.774 1111.85 Q105.853 1116.43 105.853 1125.18 Q105.853 1133.91 102.774 1138.51 Q99.7187 1143.1 93.9086 1143.1 Q88.0984 1143.1 85.0197 1138.51 Q81.9642 1133.91 81.9642 1125.18 Q81.9642 1116.43 85.0197 1111.85 Q88.0984 1107.24 93.9086 1107.24 Z\" fill=\"#000000\" fill-rule=\"nonzero\" fill-opacity=\"1\" /><path clip-path=\"url(#clip860)\" d=\"M57.7745 826.605 L74.0939 826.605 L74.0939 830.54 L52.1495 830.54 L52.1495 826.605 Q54.8115 823.85 59.3949 819.221 Q64.0013 814.568 65.1819 813.226 Q67.4272 810.702 68.3068 808.966 Q69.2096 807.207 69.2096 805.517 Q69.2096 802.763 67.2652 801.026 Q65.3439 799.29 62.2421 799.29 Q60.043 799.29 57.5893 800.054 Q55.1588 800.818 52.381 802.369 L52.381 797.647 Q55.2051 796.513 57.6588 795.934 Q60.1124 795.355 62.1495 795.355 Q67.5198 795.355 70.7142 798.04 Q73.9087 800.726 73.9087 805.216 Q73.9087 807.346 73.0985 809.267 Q72.3115 811.165 70.205 813.758 Q69.6263 814.429 66.5245 817.647 Q63.4226 820.841 57.7745 826.605 Z\" fill=\"#000000\" fill-rule=\"nonzero\" fill-opacity=\"1\" /><path clip-path=\"url(#clip860)\" d=\"M93.9086 799.059 Q90.2975 799.059 88.4688 802.624 Q86.6632 806.165 86.6632 813.295 Q86.6632 820.401 88.4688 823.966 Q90.2975 827.508 93.9086 827.508 Q97.5428 827.508 99.3483 823.966 Q101.177 820.401 101.177 813.295 Q101.177 806.165 99.3483 802.624 Q97.5428 799.059 93.9086 799.059 M93.9086 795.355 Q99.7187 795.355 102.774 799.962 Q105.853 804.545 105.853 813.295 Q105.853 822.022 102.774 826.628 Q99.7187 831.212 93.9086 831.212 Q88.0984 831.212 85.0197 826.628 Q81.9642 822.022 81.9642 813.295 Q81.9642 804.545 85.0197 799.962 Q88.0984 795.355 93.9086 795.355 Z\" fill=\"#000000\" fill-rule=\"nonzero\" fill-opacity=\"1\" /><path clip-path=\"url(#clip860)\" d=\"M67.9133 500.019 Q71.2698 500.737 73.1448 503.005 Q75.0429 505.274 75.0429 508.607 Q75.0429 513.723 71.5244 516.524 Q68.0059 519.325 61.5245 519.325 Q59.3486 519.325 57.0338 518.885 Q54.7421 518.468 52.2884 517.612 L52.2884 513.098 Q54.2328 514.232 56.5477 514.811 Q58.8625 515.39 61.3856 515.39 Q65.7837 515.39 68.0754 513.654 Q70.3902 511.917 70.3902 508.607 Q70.3902 505.552 68.2374 503.839 Q66.1078 502.103 62.2884 502.103 L58.2606 502.103 L58.2606 498.26 L62.4735 498.26 Q65.9226 498.26 67.7513 496.894 Q69.58 495.506 69.58 492.913 Q69.58 490.251 67.6819 488.839 Q65.8069 487.404 62.2884 487.404 Q60.3671 487.404 58.168 487.82 Q55.969 488.237 53.3301 489.117 L53.3301 484.95 Q55.9921 484.209 58.3069 483.839 Q60.6449 483.469 62.705 483.469 Q68.0291 483.469 71.1309 485.899 Q74.2327 488.306 74.2327 492.427 Q74.2327 495.297 72.5892 497.288 Q70.9457 499.256 67.9133 500.019 Z\" fill=\"#000000\" fill-rule=\"nonzero\" fill-opacity=\"1\" /><path clip-path=\"url(#clip860)\" d=\"M93.9086 487.172 Q90.2975 487.172 88.4688 490.737 Q86.6632 494.279 86.6632 501.408 Q86.6632 508.515 88.4688 512.08 Q90.2975 515.621 93.9086 515.621 Q97.5428 515.621 99.3483 512.08 Q101.177 508.515 101.177 501.408 Q101.177 494.279 99.3483 490.737 Q97.5428 487.172 93.9086 487.172 M93.9086 483.469 Q99.7187 483.469 102.774 488.075 Q105.853 492.658 105.853 501.408 Q105.853 510.135 102.774 514.742 Q99.7187 519.325 93.9086 519.325 Q88.0984 519.325 85.0197 514.742 Q81.9642 510.135 81.9642 501.408 Q81.9642 492.658 85.0197 488.075 Q88.0984 483.469 93.9086 483.469 Z\" fill=\"#000000\" fill-rule=\"nonzero\" fill-opacity=\"1\" /><path clip-path=\"url(#clip860)\" d=\"M66.5939 176.281 L54.7884 194.73 L66.5939 194.73 L66.5939 176.281 M65.367 172.207 L71.2466 172.207 L71.2466 194.73 L76.1772 194.73 L76.1772 198.619 L71.2466 198.619 L71.2466 206.767 L66.5939 206.767 L66.5939 198.619 L50.9921 198.619 L50.9921 194.105 L65.367 172.207 Z\" fill=\"#000000\" fill-rule=\"nonzero\" fill-opacity=\"1\" /><path clip-path=\"url(#clip860)\" d=\"M93.9086 175.286 Q90.2975 175.286 88.4688 178.85 Q86.6632 182.392 86.6632 189.522 Q86.6632 196.628 88.4688 200.193 Q90.2975 203.734 93.9086 203.734 Q97.5428 203.734 99.3483 200.193 Q101.177 196.628 101.177 189.522 Q101.177 182.392 99.3483 178.85 Q97.5428 175.286 93.9086 175.286 M93.9086 171.582 Q99.7187 171.582 102.774 176.188 Q105.853 180.772 105.853 189.522 Q105.853 198.248 102.774 202.855 Q99.7187 207.438 93.9086 207.438 Q88.0984 207.438 85.0197 202.855 Q81.9642 198.248 81.9642 189.522 Q81.9642 180.772 85.0197 176.188 Q88.0984 171.582 93.9086 171.582 Z\" fill=\"#000000\" fill-rule=\"nonzero\" fill-opacity=\"1\" /><polyline clip-path=\"url(#clip862)\" style=\"stroke:#009af9; stroke-linecap:round; stroke-linejoin:round; stroke-width:4; stroke-opacity:1; fill:none\" points=\"204.426,1433.8 218.331,1390.66 232.236,1349.27 246.141,1361.81 260.046,1415.05 273.951,1361.52 287.856,1355.59 301.761,1351.69 315.666,1415.17 329.571,1360.62 343.476,1367.39 357.381,1403.69 371.286,1401.06 385.191,1445.72 399.096,1385.47 413.001,1335.03 426.906,1323.03 440.812,1332.08 454.717,1350.5 468.622,1351.72 482.527,1334.33 496.432,1366.02 510.337,1348.63 524.242,1292.1 538.147,1302.71 552.052,1371.87 565.957,1370.68 579.862,1358.28 593.767,1354.39 607.672,1370.75 621.577,1334.03 635.482,1324.56 649.387,1320.24 663.292,1319.73 677.197,1304.1 691.102,1266.47 705.007,1284.26 718.913,1334.01 732.818,1299.07 746.723,1314.01 760.628,1309.45 774.533,1307.19 788.438,1253.8 802.343,1298.13 816.248,1318.28 830.153,1294.79 844.058,1233.42 857.963,1259.98 871.868,1221.29 885.773,1198.49 899.678,1242.79 913.583,1262.71 927.488,1310.51 941.393,1307.23 955.298,1255.84 969.203,1196.19 983.108,1152.68 997.014,1227.6 1010.92,1258.96 1024.82,1290.72 1038.73,1251.29 1052.63,1271.71 1066.54,1255.07 1080.44,1298.67 1094.35,1193.22 1108.25,1149.7 1122.16,1175.09 1136.06,1182.4 1149.97,1152.84 1163.87,1215.43 1177.78,1245.87 1191.68,1250.06 1205.59,1234.59 1219.49,1241.43 1233.4,1219.03 1247.3,1282.53 1261.21,1324.43 1275.11,1274.23 1289.02,1248.29 1302.92,1306.4 1316.83,1293.99 1330.73,1288.57 1344.64,1318.49 1358.54,1324.09 1372.45,1281.72 1386.35,1284.34 1400.26,1305.13 1414.17,1267.09 1428.07,1294.99 1441.98,1282.05 1455.88,1245.99 1469.79,1223.3 1483.69,1250.08 1497.6,1273.1 1511.5,1300.1 1525.41,1306.57 1539.31,1298.55 1553.22,1310.01 1567.12,1338.77 1581.03,1345.89 1594.93,1331.58 1608.84,1302.33 1622.74,1333.59 1636.65,1283.38 1650.55,1300.61 1664.46,1263.63 1678.36,1290.79 1692.27,1287.19 1706.17,1299.3 1720.08,1395.44 1733.98,1386.1 1747.89,1390.44 1761.79,1416.64 1775.7,1405.93 1789.6,1388.04 1803.51,1306.2 1817.41,1267.18 1831.32,1236.3 1845.22,1237.29 1859.13,1228.88 1873.03,1182.22 1886.94,1211.91 1900.84,1279.58 1914.75,1309.45 1928.65,1253.17 1942.56,1300.38 1956.46,1287.67 1970.37,1257.38 1984.27,1279.76 1998.18,1286.69 2012.08,1292.1 2025.99,1349.72 2039.89,1391.58 2053.8,1403.54 2067.7,1380.27 2081.61,1304.44 2095.51,1318 2109.42,1307.5 2123.32,1286.47 2137.23,1300.15 2151.13,1336.25 2165.04,1310.4 2178.94,1341.24 2192.85,1273.88 2206.75,1306.54 2220.66,1326.19 2234.56,1333.57 2248.47,1358.02 2262.37,1313.72 2276.28,1307.55 2290.18,1219.54 \"/>\n",
       "<polyline clip-path=\"url(#clip862)\" style=\"stroke:#e26f46; stroke-linecap:round; stroke-linejoin:round; stroke-width:4; stroke-opacity:1; fill:none\" points=\"204.426,1349.61 218.331,1264.28 232.236,1215.11 246.141,1238.97 260.046,1263.03 273.951,1258.12 287.856,1145.72 301.761,1171.51 315.666,1145.1 329.571,1155.14 343.476,1139.13 357.381,1113.21 371.286,1150.55 385.191,1186.33 399.096,1155.61 413.001,1173.91 426.906,1228.67 440.812,1260.68 454.717,1241.9 468.622,1229.16 482.527,1232.27 496.432,1272.74 510.337,1259.87 524.242,1305.12 538.147,1232.42 552.052,1179.58 565.957,1118.51 579.862,1113.07 593.767,1136.53 607.672,1176.2 621.577,1196.46 635.482,1094.08 649.387,1074.45 663.292,1066.98 677.197,1064.81 691.102,1037.35 705.007,1038.18 718.913,1046.99 732.818,1004.19 746.723,1027.92 760.628,1031.88 774.533,1035.9 788.438,1027.91 802.343,1029.18 816.248,1012.64 830.153,1095.88 844.058,1102.53 857.963,1063.16 871.868,1038.41 885.773,976.592 899.678,1019.04 913.583,1030.59 927.488,1029.7 941.393,1064.16 955.298,1101.73 969.203,1082.91 983.108,1066.39 997.014,1070.4 1010.92,1052.24 1024.82,1060.67 1038.73,1099.56 1052.63,1076.38 1066.54,1121.06 1080.44,1172.02 1094.35,1164.12 1108.25,1217.15 1122.16,1183.67 1136.06,1189.86 1149.97,1115.39 1163.87,1111.6 1177.78,1097.37 1191.68,1077.43 1205.59,1047.65 1219.49,1053.52 1233.4,1023.04 1247.3,999.71 1261.21,960.215 1275.11,919.946 1289.02,999.721 1302.92,1026.78 1316.83,1039.64 1330.73,1054.48 1344.64,1081.95 1358.54,1088.54 1372.45,1083.2 1386.35,1045.01 1400.26,1102.26 1414.17,1163.83 1428.07,1157.22 1441.98,1160.86 1455.88,1134.59 1469.79,1118.9 1483.69,1110.86 1497.6,1087.62 1511.5,1113.67 1525.41,1173.57 1539.31,1224.08 1553.22,1212.49 1567.12,1183.66 1581.03,1183.93 1594.93,1153.41 1608.84,1208.6 1622.74,1164.65 1636.65,1166.71 1650.55,1133.07 1664.46,1131.26 1678.36,1113.53 1692.27,1122.49 1706.17,1139.96 1720.08,1162.98 1733.98,1213.76 1747.89,1227.93 1761.79,1197.07 1775.7,1126.01 1789.6,1066.83 1803.51,1100.28 1817.41,1057.76 1831.32,1008.58 1845.22,979.494 1859.13,979.496 1873.03,963.499 1886.94,975.897 1900.84,1034.23 1914.75,1017.62 1928.65,1078.69 1942.56,1108.13 1956.46,1122.19 1970.37,1146.54 1984.27,1118.77 1998.18,1090.36 2012.08,1159.98 2025.99,1128.77 2039.89,1134.84 2053.8,1126.35 2067.7,1062.72 2081.61,1019.66 2095.51,997.089 2109.42,989.919 2123.32,1029.59 2137.23,1069.44 2151.13,1074.19 2165.04,1046.03 2178.94,1037.94 2192.85,1079.45 2206.75,1079.4 2220.66,1085.11 2234.56,1103.62 2248.47,1098.48 2262.37,1106.79 2276.28,1088.99 2290.18,1083.09 \"/>\n",
       "<polyline clip-path=\"url(#clip862)\" style=\"stroke:#3da44d; stroke-linecap:round; stroke-linejoin:round; stroke-width:4; stroke-opacity:1; fill:none\" points=\"204.426,1387.65 218.331,1312.76 232.236,1317.24 246.141,1247.27 260.046,1217.35 273.951,1181.77 287.856,1176.35 301.761,1123.38 315.666,1093.42 329.571,1045.93 343.476,1054.24 357.381,1069.66 371.286,1083.78 385.191,1099.59 399.096,1133.14 413.001,1128.05 426.906,1086.19 440.812,1055.46 454.717,1009.12 468.622,959.75 482.527,940.592 496.432,896.263 510.337,878.366 524.242,881.454 538.147,839.778 552.052,803.045 565.957,819.741 579.862,817.024 593.767,769.942 607.672,775.81 621.577,719.537 635.482,715.615 649.387,704.775 663.292,714.835 677.197,684.22 691.102,642.427 705.007,612.53 718.913,607.826 732.818,576.682 746.723,502.02 760.628,511.211 774.533,448.688 788.438,376.886 802.343,400.719 816.248,390.387 830.153,407.828 844.058,439.509 857.963,395.354 871.868,361.345 885.773,372.221 899.678,368.074 913.583,373.783 927.488,330.638 941.393,304.095 955.298,356.25 969.203,335.581 983.108,369.495 997.014,361.5 1010.92,369.671 1024.82,350.745 1038.73,339.979 1052.63,310.658 1066.54,252.976 1080.44,243.263 1094.35,221.24 1108.25,256.247 1122.16,228.87 1136.06,218.01 1149.97,223.141 1163.87,244.418 1177.78,210.015 1191.68,168.747 1205.59,144.429 1219.49,131.202 1233.4,123.081 1247.3,113.482 1261.21,123.085 1275.11,169.251 1289.02,171.711 1302.92,195.212 1316.83,157.975 1330.73,139.462 1344.64,136.366 1358.54,87.9763 1372.45,91.4279 1386.35,119.216 1400.26,111.739 1414.17,106.022 1428.07,118.773 1441.98,105.468 1455.88,139.201 1469.79,169.59 1483.69,258.163 1497.6,264.887 1511.5,240.923 1525.41,232.853 1539.31,243.526 1553.22,316.135 1567.12,339.433 1581.03,364.002 1594.93,340.088 1608.84,333.692 1622.74,328.456 1636.65,333.415 1650.55,307.114 1664.46,253.234 1678.36,243.949 1692.27,224.027 1706.17,220.783 1720.08,211.652 1733.98,213.894 1747.89,232.056 1761.79,228.608 1775.7,186.363 1789.6,173.23 1803.51,231.76 1817.41,210.459 1831.32,276.987 1845.22,246.548 1859.13,230.637 1873.03,233.325 1886.94,160.002 1900.84,163.906 1914.75,216.825 1928.65,246.771 1942.56,248.185 1956.46,304.316 1970.37,339.876 1984.27,356.425 1998.18,301.209 2012.08,305.239 2025.99,281.092 2039.89,304.137 2053.8,317.437 2067.7,307.045 2081.61,281.925 2095.51,294.693 2109.42,316.341 2123.32,297.259 2137.23,311.375 2151.13,304.739 2165.04,366.36 2178.94,383.952 2192.85,318.319 2206.75,309.645 2220.66,239.031 2234.56,221.647 2248.47,243.273 2262.37,206.304 2276.28,131.768 2290.18,186.133 \"/>\n",
       "<path clip-path=\"url(#clip860)\" d=\"M215.55 302.578 L489.649 302.578 L489.649 95.2176 L215.55 95.2176  Z\" fill=\"#ffffff\" fill-rule=\"evenodd\" fill-opacity=\"1\"/>\n",
       "<polyline clip-path=\"url(#clip860)\" style=\"stroke:#000000; stroke-linecap:round; stroke-linejoin:round; stroke-width:4; stroke-opacity:1; fill:none\" points=\"215.55,302.578 489.649,302.578 489.649,95.2176 215.55,95.2176 215.55,302.578 \"/>\n",
       "<polyline clip-path=\"url(#clip860)\" style=\"stroke:#009af9; stroke-linecap:round; stroke-linejoin:round; stroke-width:4; stroke-opacity:1; fill:none\" points=\"240.115,147.058 387.509,147.058 \"/>\n",
       "<path clip-path=\"url(#clip860)\" d=\"M425.917 166.745 Q424.111 171.375 422.398 172.787 Q420.685 174.199 417.815 174.199 L414.412 174.199 L414.412 170.634 L416.912 170.634 Q418.672 170.634 419.644 169.8 Q420.616 168.967 421.797 165.865 L422.56 163.921 L412.074 138.412 L416.588 138.412 L424.69 158.689 L432.792 138.412 L437.306 138.412 L425.917 166.745 Z\" fill=\"#000000\" fill-rule=\"nonzero\" fill-opacity=\"1\" /><path clip-path=\"url(#clip860)\" d=\"M444.597 160.402 L452.236 160.402 L452.236 134.037 L443.926 135.703 L443.926 131.444 L452.19 129.778 L456.866 129.778 L456.866 160.402 L464.505 160.402 L464.505 164.338 L444.597 164.338 L444.597 160.402 Z\" fill=\"#000000\" fill-rule=\"nonzero\" fill-opacity=\"1\" /><polyline clip-path=\"url(#clip860)\" style=\"stroke:#e26f46; stroke-linecap:round; stroke-linejoin:round; stroke-width:4; stroke-opacity:1; fill:none\" points=\"240.115,198.898 387.509,198.898 \"/>\n",
       "<path clip-path=\"url(#clip860)\" d=\"M425.917 218.585 Q424.111 223.215 422.398 224.627 Q420.685 226.039 417.815 226.039 L414.412 226.039 L414.412 222.474 L416.912 222.474 Q418.672 222.474 419.644 221.64 Q420.616 220.807 421.797 217.705 L422.56 215.761 L412.074 190.252 L416.588 190.252 L424.69 210.529 L432.792 190.252 L437.306 190.252 L425.917 218.585 Z\" fill=\"#000000\" fill-rule=\"nonzero\" fill-opacity=\"1\" /><path clip-path=\"url(#clip860)\" d=\"M447.815 212.242 L464.134 212.242 L464.134 216.178 L442.19 216.178 L442.19 212.242 Q444.852 209.488 449.435 204.858 Q454.042 200.205 455.222 198.863 Q457.468 196.34 458.347 194.604 Q459.25 192.844 459.25 191.155 Q459.25 188.4 457.306 186.664 Q455.384 184.928 452.283 184.928 Q450.083 184.928 447.63 185.692 Q445.199 186.455 442.421 188.006 L442.421 183.284 Q445.246 182.15 447.699 181.571 Q450.153 180.993 452.19 180.993 Q457.56 180.993 460.755 183.678 Q463.949 186.363 463.949 190.854 Q463.949 192.983 463.139 194.905 Q462.352 196.803 460.245 199.395 Q459.667 200.067 456.565 203.284 Q453.463 206.479 447.815 212.242 Z\" fill=\"#000000\" fill-rule=\"nonzero\" fill-opacity=\"1\" /><polyline clip-path=\"url(#clip860)\" style=\"stroke:#3da44d; stroke-linecap:round; stroke-linejoin:round; stroke-width:4; stroke-opacity:1; fill:none\" points=\"240.115,250.738 387.509,250.738 \"/>\n",
       "<path clip-path=\"url(#clip860)\" d=\"M425.917 270.425 Q424.111 275.055 422.398 276.467 Q420.685 277.879 417.815 277.879 L414.412 277.879 L414.412 274.314 L416.912 274.314 Q418.672 274.314 419.644 273.48 Q420.616 272.647 421.797 269.545 L422.56 267.601 L412.074 242.092 L416.588 242.092 L424.69 262.369 L432.792 242.092 L437.306 242.092 L425.917 270.425 Z\" fill=\"#000000\" fill-rule=\"nonzero\" fill-opacity=\"1\" /><path clip-path=\"url(#clip860)\" d=\"M457.954 249.383 Q461.31 250.101 463.185 252.369 Q465.083 254.638 465.083 257.971 Q465.083 263.087 461.565 265.888 Q458.046 268.689 451.565 268.689 Q449.389 268.689 447.074 268.249 Q444.783 267.832 442.329 266.976 L442.329 262.462 Q444.273 263.596 446.588 264.175 Q448.903 264.754 451.426 264.754 Q455.824 264.754 458.116 263.018 Q460.431 261.281 460.431 257.971 Q460.431 254.916 458.278 253.203 Q456.148 251.467 452.329 251.467 L448.301 251.467 L448.301 247.624 L452.514 247.624 Q455.963 247.624 457.792 246.258 Q459.62 244.87 459.62 242.277 Q459.62 239.615 457.722 238.203 Q455.847 236.768 452.329 236.768 Q450.408 236.768 448.208 237.184 Q446.009 237.601 443.371 238.481 L443.371 234.314 Q446.033 233.573 448.347 233.203 Q450.685 232.833 452.745 232.833 Q458.07 232.833 461.171 235.263 Q464.273 237.67 464.273 241.791 Q464.273 244.661 462.63 246.652 Q460.986 248.62 457.954 249.383 Z\" fill=\"#000000\" fill-rule=\"nonzero\" fill-opacity=\"1\" /></svg>\n"
      ]
     },
     "execution_count": 174,
     "metadata": {},
     "output_type": "execute_result"
    }
   ],
   "source": [
    "using Plots\n",
    "plot(y')"
   ]
  },
  {
   "cell_type": "code",
   "execution_count": null,
   "id": "95e83ce0-a2e8-46e6-a129-95cfba8c8e16",
   "metadata": {},
   "outputs": [],
   "source": [
    "## Exercise 3\n",
    "##\n"
   ]
  }
 ],
 "metadata": {
  "kernelspec": {
   "display_name": "Julia 1.10.4",
   "language": "julia",
   "name": "julia-1.10"
  },
  "language_info": {
   "file_extension": ".jl",
   "mimetype": "application/julia",
   "name": "julia",
   "version": "1.10.4"
  }
 },
 "nbformat": 4,
 "nbformat_minor": 5
}
