{
 "cells": [
  {
   "cell_type": "markdown",
   "id": "fdc5b232-1dda-4fc0-959b-3e696e3c4c2c",
   "metadata": {},
   "source": [
    "## Exercises for lesson 5\n",
    "Quite a high fixed cost for learning this."
   ]
  },
  {
   "cell_type": "code",
   "execution_count": 1,
   "id": "cdc5b192-9412-49b4-bf7f-cc0701cd83c0",
   "metadata": {},
   "outputs": [],
   "source": [
    "using StaticArrays"
   ]
  },
  {
   "cell_type": "markdown",
   "id": "e3d433c6-def2-44da-8f38-d942845734a0",
   "metadata": {},
   "source": [
    "So there are a few kinds of type in Julia:\n",
    "- Literals\n",
    "    - `Int64`\n",
    "    - `Float64`\n",
    "- Parametric\n",
    "    - `Array`\n",
    "    - `Complex`\n",
    "    - `Tuple`\n",
    "    - `NamedTuple`\n",
    "    - `AbstractArray`"
   ]
  },
  {
   "cell_type": "markdown",
   "id": "1498cde2-18d4-4595-a018-af8718a7c8de",
   "metadata": {},
   "source": [
    "There is also a type hierarchy\n",
    "- `Abstract` vs `Concrete`\n",
    "    - `Concrete` types are types like `Int64` or `Float64`\n",
    "    - `Abstract` types are:\n",
    "\n",
    "      Abstract types cannot be instantiated, and serve only as nodes in the type graph, thereby describing sets of related concrete types: those concrete types which are their descendants"
   ]
  },
  {
   "cell_type": "markdown",
   "id": "ff8a14bd-b395-4cc5-8ecb-e4d35b3d145a",
   "metadata": {},
   "source": [
    "There are subtypes and supertypes. It's easy top think of these like a family. For example, `Float64` and `Int64` are both subtypes of the `Real`. That is like `Real` is a parent and `Float64` and `Int64` are its children. Another way, `Real` is a supertype of `Float64` and `Int64`."
   ]
  },
  {
   "cell_type": "code",
   "execution_count": 4,
   "id": "5a7a129f-d74d-4c31-9847-96c7b28632ca",
   "metadata": {},
   "outputs": [
    {
     "name": "stdout",
     "output_type": "stream",
     "text": [
      "Float64 <: Real = true\n",
      "Real <: Float64 = false\n"
     ]
    }
   ],
   "source": [
    "@show Float64 <: Real\n",
    "@show Real <: Float64;"
   ]
  },
  {
   "cell_type": "markdown",
   "id": "e5a99f98-d7c7-4df6-849c-709a0e3dbea2",
   "metadata": {},
   "source": [
    "You can get like a full family tree by using `show_supertypes`"
   ]
  },
  {
   "cell_type": "code",
   "execution_count": 6,
   "id": "83d166a5-79b0-42a6-8256-7f926499e9a1",
   "metadata": {},
   "outputs": [
    {
     "name": "stdout",
     "output_type": "stream",
     "text": [
      "Float64 <: AbstractFloat <: Real <: Number <: Anyshow_supertypes(Float64) = nothing\n"
     ]
    }
   ],
   "source": [
    "using Base: show_supertypes\n",
    "@show show_supertypes(Float64)"
   ]
  },
  {
   "cell_type": "markdown",
   "id": "f53ffc78-287c-4db7-96c0-ddba6ee8079d",
   "metadata": {},
   "source": [
    "Similarly"
   ]
  },
  {
   "cell_type": "code",
   "execution_count": 7,
   "id": "a309e502-63ca-4a66-af6c-4fa3cfea6396",
   "metadata": {},
   "outputs": [
    {
     "name": "stdout",
     "output_type": "stream",
     "text": [
      "subtypes(Real) = Any[AbstractFloat, AbstractIrrational, Integer, Rational]\n"
     ]
    },
    {
     "data": {
      "text/plain": [
       "4-element Vector{Any}:\n",
       " AbstractFloat\n",
       " AbstractIrrational\n",
       " Integer\n",
       " Rational"
      ]
     },
     "execution_count": 7,
     "metadata": {},
     "output_type": "execute_result"
    }
   ],
   "source": [
    "@show subtypes(Real)"
   ]
  },
  {
   "cell_type": "markdown",
   "id": "27d626a6-f8f9-4945-97be-b896cf98da77",
   "metadata": {},
   "source": [
    "### Exercise 1:\n",
    "\n",
    "Explore the package [StaticArrays.jl](https://github.com/JuliaArrays/StaticArrays.jl).\n",
    "\n",
    "- Describe two abstract types and the hierarchy of three different concrete types.  \n",
    "- Benchmark the calculation of some simple linear algebra with a static array\n",
    "  compared to the following for a dense array for `N = 3` and `N = 15`.  "
   ]
  },
  {
   "cell_type": "markdown",
   "id": "3b5fc1ca-d090-4d9c-a564-839d060d98c1",
   "metadata": {},
   "source": [
    "One abstract type is `Array` and another is `Tuple`.\n",
    "\n",
    "My three concrete types are:\n",
    "- `Int64`\n",
    "- `Float64`\n",
    "- `Number` "
   ]
  },
  {
   "cell_type": "code",
   "execution_count": 9,
   "id": "99ea849a-26f4-433c-bc7b-45a9a84de7d0",
   "metadata": {},
   "outputs": [
    {
     "name": "stdout",
     "output_type": "stream",
     "text": [
      "Int64 <: Signed <: Integer <: Real <: Number <: Anyshow_supertypes(Int64) = nothing\n"
     ]
    }
   ],
   "source": [
    "@show show_supertypes(Int64);"
   ]
  },
  {
   "cell_type": "code",
   "execution_count": 10,
   "id": "05348f0d-ddf2-4e5f-bd6b-223c57d79d3b",
   "metadata": {},
   "outputs": [
    {
     "name": "stdout",
     "output_type": "stream",
     "text": [
      "Float64 <: AbstractFloat <: Real <: Number <: Anyshow_supertypes(Float64) = nothing\n"
     ]
    }
   ],
   "source": [
    "@show show_supertypes(Float64);"
   ]
  },
  {
   "cell_type": "code",
   "execution_count": 11,
   "id": "dd400686-ab14-41fc-b467-0f9027e0bc8b",
   "metadata": {},
   "outputs": [
    {
     "name": "stdout",
     "output_type": "stream",
     "text": [
      "Number <: Anyshow_supertypes(Number) = nothing\n"
     ]
    }
   ],
   "source": [
    "@show show_supertypes(Number)"
   ]
  },
  {
   "cell_type": "code",
   "execution_count": 12,
   "id": "42e901ea-2329-4aa3-a312-0e6cb0b5107c",
   "metadata": {},
   "outputs": [
    {
     "name": "stdout",
     "output_type": "stream",
     "text": [
      "Number <: Any = true\n"
     ]
    },
    {
     "data": {
      "text/plain": [
       "true"
      ]
     },
     "execution_count": 12,
     "metadata": {},
     "output_type": "execute_result"
    }
   ],
   "source": [
    "@show Number <: Any"
   ]
  },
  {
   "cell_type": "code",
   "execution_count": 15,
   "id": "d1a3fae8-71b6-4fe0-97ca-50bb4b138331",
   "metadata": {},
   "outputs": [],
   "source": [
    "using BenchmarkTools"
   ]
  },
  {
   "cell_type": "code",
   "execution_count": 22,
   "id": "170a4804-29b7-4915-b12d-f6e91a1709e4",
   "metadata": {},
   "outputs": [
    {
     "name": "stdout",
     "output_type": "stream",
     "text": [
      "  85.877 ns (1 allocation: 176 bytes)\n",
      "  2.913 μs (4 allocations: 9.78 KiB)\n"
     ]
    }
   ],
   "source": [
    "N = 15\n",
    "A = rand(N,N)\n",
    "X = rand(N)\n",
    "\n",
    "@btime $A * $X\n",
    "@btime inv($A);"
   ]
  },
  {
   "cell_type": "markdown",
   "id": "d03641cc-f57b-4085-b928-06bb9b588a7a",
   "metadata": {},
   "source": [
    "## Exercise 2\n"
   ]
  },
  {
   "cell_type": "code",
   "execution_count": 29,
   "id": "a660187d-7e35-4129-bcaa-1fe5fc58afcf",
   "metadata": {},
   "outputs": [
    {
     "name": "stdout",
     "output_type": "stream",
     "text": [
      "  471.429 ns (9 allocations: 1.77 KiB)\n"
     ]
    },
    {
     "data": {
      "text/plain": [
       "2×2 Matrix{Float64}:\n",
       " 0.666667     1.11022e-16\n",
       " 1.11022e-16  0.666667"
      ]
     },
     "execution_count": 29,
     "metadata": {},
     "output_type": "execute_result"
    }
   ],
   "source": [
    "using LinearAlgebra, BenchmarkTools, StaticArrays\n",
    "Sigma = [0.4 0.3;\n",
    "        0.3 0.45]\n",
    "\n",
    "G = I\n",
    "R = 0.5 * Sigma\n",
    "\n",
    "gain(Sigma, G, R) = Sigma * G' * inv(G * Sigma * G' + R)\n",
    "\n",
    "@btime gain($Sigma, $G, $R)"
   ]
  },
  {
   "cell_type": "code",
   "execution_count": 38,
   "id": "1f478ee9-8d47-46b4-bd81-163e04465efd",
   "metadata": {},
   "outputs": [
    {
     "name": "stdout",
     "output_type": "stream",
     "text": [
      "  27.108 ns (0 allocations: 0 bytes)\n"
     ]
    },
    {
     "data": {
      "text/plain": [
       "2×2 SMatrix{2, 2, Float64, 4} with indices SOneTo(2)×SOneTo(2):\n",
       " 0.666667     1.22536e-16\n",
       " 1.75169e-16  0.666667"
      ]
     },
     "execution_count": 38,
     "metadata": {},
     "output_type": "execute_result"
    }
   ],
   "source": [
    "using LinearAlgebra, BenchmarkTools, StaticArrays\n",
    "Sigma = @SMatrix [0.4 0.3; 0.3 0.45]\n",
    "\n",
    "G = SMatrix{2,2}(1I)\n",
    "R =  SMatrix{2,2}(0.5 * Sigma)\n",
    "\n",
    "gain(Sigma, G, R) = Sigma * G' * inv(G * Sigma * G' + R)\n",
    "\n",
    "@btime gain($Sigma, $G, $R)"
   ]
  },
  {
   "cell_type": "markdown",
   "id": "3b7894a9-e4a5-432f-b9d2-5dff3a43f3d1",
   "metadata": {},
   "source": [
    "## Exercise 3"
   ]
  },
  {
   "cell_type": "code",
   "execution_count": 53,
   "id": "572ed528-8a11-42c5-b297-2690cf994051",
   "metadata": {},
   "outputs": [
    {
     "name": "stdout",
     "output_type": "stream",
     "text": [
      "p = Polynomial(2 - 5*x + 2*x^2)\n",
      "(p(0.1), p_dash(0.1)) = (1.52, -4.6)\n",
      "roots(p) = [0.5, 2.0]\n"
     ]
    }
   ],
   "source": [
    "using Polynomials\n",
    "\n",
    "p = Polynomial([2, -5, 2], :x)\n",
    "@show p\n",
    "p_dash = derivative(p)\n",
    "@show p(0.1), p_dash(0.1)\n",
    "@show roots(p);"
   ]
  },
  {
   "cell_type": "code",
   "execution_count": 61,
   "id": "f1f61504-eb01-42a9-8044-3e260c21a8e2",
   "metadata": {},
   "outputs": [
    {
     "data": {
      "image/png": "[encoded data removed]",
      "image/svg+xml": [
       "<?xml version=\"1.0\" encoding=\"utf-8\"?>\n",
       "<svg xmlns=\"http://www.w3.org/2000/svg\" xmlns:xlink=\"http://www.w3.org/1999/xlink\" width=\"600\" height=\"400\" viewBox=\"0 0 2400 1600\">\n",
       "<defs>\n",
       "  <clipPath id=\"clip740\">\n",
       "    <rect x=\"0\" y=\"0\" width=\"2400\" height=\"1600\"/>\n",
       "  </clipPath>\n",
       "</defs>\n",
       "<path clip-path=\"url(#clip740)\" d=\"M0 1600 L2400 1600 L2400 0 L0 0  Z\" fill=\"#ffffff\" fill-rule=\"evenodd\" fill-opacity=\"1\"/>\n",
       "<defs>\n",
       "  <clipPath id=\"clip741\">\n",
       "    <rect x=\"480\" y=\"0\" width=\"1681\" height=\"1600\"/>\n",
       "  </clipPath>\n",
       "</defs>\n",
       "<path clip-path=\"url(#clip740)\" d=\"M178.867 1486.45 L2352.76 1486.45 L2352.76 47.2441 L178.867 47.2441  Z\" fill=\"#ffffff\" fill-rule=\"evenodd\" fill-opacity=\"1\"/>\n",
       "<defs>\n",
       "  <clipPath id=\"clip742\">\n",
       "    <rect x=\"178\" y=\"47\" width=\"2175\" height=\"1440\"/>\n",
       "  </clipPath>\n",
       "</defs>\n",
       "<polyline clip-path=\"url(#clip742)\" style=\"stroke:#000000; stroke-linecap:round; stroke-linejoin:round; stroke-width:2; stroke-opacity:0.1; fill:none\" points=\"240.392,1486.45 240.392,47.2441 \"/>\n",
       "<polyline clip-path=\"url(#clip742)\" style=\"stroke:#000000; stroke-linecap:round; stroke-linejoin:round; stroke-width:2; stroke-opacity:0.1; fill:none\" points=\"753.102,1486.45 753.102,47.2441 \"/>\n",
       "<polyline clip-path=\"url(#clip742)\" style=\"stroke:#000000; stroke-linecap:round; stroke-linejoin:round; stroke-width:2; stroke-opacity:0.1; fill:none\" points=\"1265.81,1486.45 1265.81,47.2441 \"/>\n",
       "<polyline clip-path=\"url(#clip742)\" style=\"stroke:#000000; stroke-linecap:round; stroke-linejoin:round; stroke-width:2; stroke-opacity:0.1; fill:none\" points=\"1778.52,1486.45 1778.52,47.2441 \"/>\n",
       "<polyline clip-path=\"url(#clip742)\" style=\"stroke:#000000; stroke-linecap:round; stroke-linejoin:round; stroke-width:2; stroke-opacity:0.1; fill:none\" points=\"2291.23,1486.45 2291.23,47.2441 \"/>\n",
       "<polyline clip-path=\"url(#clip740)\" style=\"stroke:#000000; stroke-linecap:round; stroke-linejoin:round; stroke-width:4; stroke-opacity:1; fill:none\" points=\"178.867,1486.45 2352.76,1486.45 \"/>\n",
       "<polyline clip-path=\"url(#clip740)\" style=\"stroke:#000000; stroke-linecap:round; stroke-linejoin:round; stroke-width:4; stroke-opacity:1; fill:none\" points=\"240.392,1486.45 240.392,1467.55 \"/>\n",
       "<polyline clip-path=\"url(#clip740)\" style=\"stroke:#000000; stroke-linecap:round; stroke-linejoin:round; stroke-width:4; stroke-opacity:1; fill:none\" points=\"753.102,1486.45 753.102,1467.55 \"/>\n",
       "<polyline clip-path=\"url(#clip740)\" style=\"stroke:#000000; stroke-linecap:round; stroke-linejoin:round; stroke-width:4; stroke-opacity:1; fill:none\" points=\"1265.81,1486.45 1265.81,1467.55 \"/>\n",
       "<polyline clip-path=\"url(#clip740)\" style=\"stroke:#000000; stroke-linecap:round; stroke-linejoin:round; stroke-width:4; stroke-opacity:1; fill:none\" points=\"1778.52,1486.45 1778.52,1467.55 \"/>\n",
       "<polyline clip-path=\"url(#clip740)\" style=\"stroke:#000000; stroke-linecap:round; stroke-linejoin:round; stroke-width:4; stroke-opacity:1; fill:none\" points=\"2291.23,1486.45 2291.23,1467.55 \"/>\n",
       "<path clip-path=\"url(#clip740)\" d=\"M210.334 1532.02 L240.01 1532.02 L240.01 1535.95 L210.334 1535.95 L210.334 1532.02 Z\" fill=\"#000000\" fill-rule=\"nonzero\" fill-opacity=\"1\" /><path clip-path=\"url(#clip740)\" d=\"M254.13 1544.91 L270.45 1544.91 L270.45 1548.85 L248.505 1548.85 L248.505 1544.91 Q251.167 1542.16 255.751 1537.53 Q260.357 1532.88 261.538 1531.53 Q263.783 1529.01 264.663 1527.27 Q265.565 1525.51 265.565 1523.82 Q265.565 1521.07 263.621 1519.33 Q261.7 1517.6 258.598 1517.6 Q256.399 1517.6 253.945 1518.36 Q251.514 1519.13 248.737 1520.68 L248.737 1515.95 Q251.561 1514.82 254.014 1514.24 Q256.468 1513.66 258.505 1513.66 Q263.875 1513.66 267.07 1516.35 Q270.264 1519.03 270.264 1523.52 Q270.264 1525.65 269.454 1527.57 Q268.667 1529.47 266.561 1532.07 Q265.982 1532.74 262.88 1535.95 Q259.778 1539.15 254.13 1544.91 Z\" fill=\"#000000\" fill-rule=\"nonzero\" fill-opacity=\"1\" /><path clip-path=\"url(#clip740)\" d=\"M722.859 1532.02 L752.534 1532.02 L752.534 1535.95 L722.859 1535.95 L722.859 1532.02 Z\" fill=\"#000000\" fill-rule=\"nonzero\" fill-opacity=\"1\" /><path clip-path=\"url(#clip740)\" d=\"M763.437 1544.91 L771.076 1544.91 L771.076 1518.55 L762.766 1520.21 L762.766 1515.95 L771.03 1514.29 L775.706 1514.29 L775.706 1544.91 L783.344 1544.91 L783.344 1548.85 L763.437 1548.85 L763.437 1544.91 Z\" fill=\"#000000\" fill-rule=\"nonzero\" fill-opacity=\"1\" /><path clip-path=\"url(#clip740)\" d=\"M1265.81 1517.37 Q1262.2 1517.37 1260.37 1520.93 Q1258.57 1524.47 1258.57 1531.6 Q1258.57 1538.71 1260.37 1542.27 Q1262.2 1545.82 1265.81 1545.82 Q1269.45 1545.82 1271.25 1542.27 Q1273.08 1538.71 1273.08 1531.6 Q1273.08 1524.47 1271.25 1520.93 Q1269.45 1517.37 1265.81 1517.37 M1265.81 1513.66 Q1271.62 1513.66 1274.68 1518.27 Q1277.76 1522.85 1277.76 1531.6 Q1277.76 1540.33 1274.68 1544.94 Q1271.62 1549.52 1265.81 1549.52 Q1260 1549.52 1256.92 1544.94 Q1253.87 1540.33 1253.87 1531.6 Q1253.87 1522.85 1256.92 1518.27 Q1260 1513.66 1265.81 1513.66 Z\" fill=\"#000000\" fill-rule=\"nonzero\" fill-opacity=\"1\" /><path clip-path=\"url(#clip740)\" d=\"M1768.9 1544.91 L1776.54 1544.91 L1776.54 1518.55 L1768.23 1520.21 L1768.23 1515.95 L1776.5 1514.29 L1781.17 1514.29 L1781.17 1544.91 L1788.81 1544.91 L1788.81 1548.85 L1768.9 1548.85 L1768.9 1544.91 Z\" fill=\"#000000\" fill-rule=\"nonzero\" fill-opacity=\"1\" /><path clip-path=\"url(#clip740)\" d=\"M2285.88 1544.91 L2302.2 1544.91 L2302.2 1548.85 L2280.26 1548.85 L2280.26 1544.91 Q2282.92 1542.16 2287.5 1537.53 Q2292.11 1532.88 2293.29 1531.53 Q2295.54 1529.01 2296.42 1527.27 Q2297.32 1525.51 2297.32 1523.82 Q2297.32 1521.07 2295.37 1519.33 Q2293.45 1517.6 2290.35 1517.6 Q2288.15 1517.6 2285.7 1518.36 Q2283.27 1519.13 2280.49 1520.68 L2280.49 1515.95 Q2283.31 1514.82 2285.77 1514.24 Q2288.22 1513.66 2290.26 1513.66 Q2295.63 1513.66 2298.82 1516.35 Q2302.02 1519.03 2302.02 1523.52 Q2302.02 1525.65 2301.21 1527.57 Q2300.42 1529.47 2298.31 1532.07 Q2297.74 1532.74 2294.63 1535.95 Q2291.53 1539.15 2285.88 1544.91 Z\" fill=\"#000000\" fill-rule=\"nonzero\" fill-opacity=\"1\" /><polyline clip-path=\"url(#clip742)\" style=\"stroke:#000000; stroke-linecap:round; stroke-linejoin:round; stroke-width:2; stroke-opacity:0.1; fill:none\" points=\"178.867,1322.28 2352.76,1322.28 \"/>\n",
       "<polyline clip-path=\"url(#clip742)\" style=\"stroke:#000000; stroke-linecap:round; stroke-linejoin:round; stroke-width:2; stroke-opacity:0.1; fill:none\" points=\"178.867,910.849 2352.76,910.849 \"/>\n",
       "<polyline clip-path=\"url(#clip742)\" style=\"stroke:#000000; stroke-linecap:round; stroke-linejoin:round; stroke-width:2; stroke-opacity:0.1; fill:none\" points=\"178.867,499.412 2352.76,499.412 \"/>\n",
       "<polyline clip-path=\"url(#clip742)\" style=\"stroke:#000000; stroke-linecap:round; stroke-linejoin:round; stroke-width:2; stroke-opacity:0.1; fill:none\" points=\"178.867,87.9763 2352.76,87.9763 \"/>\n",
       "<polyline clip-path=\"url(#clip740)\" style=\"stroke:#000000; stroke-linecap:round; stroke-linejoin:round; stroke-width:4; stroke-opacity:1; fill:none\" points=\"178.867,1486.45 178.867,47.2441 \"/>\n",
       "<polyline clip-path=\"url(#clip740)\" style=\"stroke:#000000; stroke-linecap:round; stroke-linejoin:round; stroke-width:4; stroke-opacity:1; fill:none\" points=\"178.867,1322.28 197.764,1322.28 \"/>\n",
       "<polyline clip-path=\"url(#clip740)\" style=\"stroke:#000000; stroke-linecap:round; stroke-linejoin:round; stroke-width:4; stroke-opacity:1; fill:none\" points=\"178.867,910.849 197.764,910.849 \"/>\n",
       "<polyline clip-path=\"url(#clip740)\" style=\"stroke:#000000; stroke-linecap:round; stroke-linejoin:round; stroke-width:4; stroke-opacity:1; fill:none\" points=\"178.867,499.412 197.764,499.412 \"/>\n",
       "<polyline clip-path=\"url(#clip740)\" style=\"stroke:#000000; stroke-linecap:round; stroke-linejoin:round; stroke-width:4; stroke-opacity:1; fill:none\" points=\"178.867,87.9763 197.764,87.9763 \"/>\n",
       "<path clip-path=\"url(#clip740)\" d=\"M50.9921 1322.74 L80.6679 1322.74 L80.6679 1326.67 L50.9921 1326.67 L50.9921 1322.74 Z\" fill=\"#000000\" fill-rule=\"nonzero\" fill-opacity=\"1\" /><path clip-path=\"url(#clip740)\" d=\"M91.5706 1335.63 L99.2095 1335.63 L99.2095 1309.26 L90.8993 1310.93 L90.8993 1306.67 L99.1632 1305 L103.839 1305 L103.839 1335.63 L111.478 1335.63 L111.478 1339.56 L91.5706 1339.56 L91.5706 1335.63 Z\" fill=\"#000000\" fill-rule=\"nonzero\" fill-opacity=\"1\" /><path clip-path=\"url(#clip740)\" d=\"M130.922 1308.08 Q127.311 1308.08 125.482 1311.65 Q123.677 1315.19 123.677 1322.32 Q123.677 1329.43 125.482 1332.99 Q127.311 1336.53 130.922 1336.53 Q134.556 1336.53 136.362 1332.99 Q138.191 1329.43 138.191 1322.32 Q138.191 1315.19 136.362 1311.65 Q134.556 1308.08 130.922 1308.08 M130.922 1304.38 Q136.732 1304.38 139.788 1308.99 Q142.867 1313.57 142.867 1322.32 Q142.867 1331.05 139.788 1335.65 Q136.732 1340.24 130.922 1340.24 Q125.112 1340.24 122.033 1335.65 Q118.978 1331.05 118.978 1322.32 Q118.978 1313.57 122.033 1308.99 Q125.112 1304.38 130.922 1304.38 Z\" fill=\"#000000\" fill-rule=\"nonzero\" fill-opacity=\"1\" /><path clip-path=\"url(#clip740)\" d=\"M130.922 896.647 Q127.311 896.647 125.482 900.212 Q123.677 903.754 123.677 910.883 Q123.677 917.99 125.482 921.555 Q127.311 925.096 130.922 925.096 Q134.556 925.096 136.362 921.555 Q138.191 917.99 138.191 910.883 Q138.191 903.754 136.362 900.212 Q134.556 896.647 130.922 896.647 M130.922 892.944 Q136.732 892.944 139.788 897.55 Q142.867 902.133 142.867 910.883 Q142.867 919.61 139.788 924.217 Q136.732 928.8 130.922 928.8 Q125.112 928.8 122.033 924.217 Q118.978 919.61 118.978 910.883 Q118.978 902.133 122.033 897.55 Q125.112 892.944 130.922 892.944 Z\" fill=\"#000000\" fill-rule=\"nonzero\" fill-opacity=\"1\" /><path clip-path=\"url(#clip740)\" d=\"M91.5706 512.757 L99.2095 512.757 L99.2095 486.392 L90.8993 488.058 L90.8993 483.799 L99.1632 482.132 L103.839 482.132 L103.839 512.757 L111.478 512.757 L111.478 516.692 L91.5706 516.692 L91.5706 512.757 Z\" fill=\"#000000\" fill-rule=\"nonzero\" fill-opacity=\"1\" /><path clip-path=\"url(#clip740)\" d=\"M130.922 485.211 Q127.311 485.211 125.482 488.776 Q123.677 492.318 123.677 499.447 Q123.677 506.554 125.482 510.118 Q127.311 513.66 130.922 513.66 Q134.556 513.66 136.362 510.118 Q138.191 506.554 138.191 499.447 Q138.191 492.318 136.362 488.776 Q134.556 485.211 130.922 485.211 M130.922 481.507 Q136.732 481.507 139.788 486.114 Q142.867 490.697 142.867 499.447 Q142.867 508.174 139.788 512.78 Q136.732 517.364 130.922 517.364 Q125.112 517.364 122.033 512.78 Q118.978 508.174 118.978 499.447 Q118.978 490.697 122.033 486.114 Q125.112 481.507 130.922 481.507 Z\" fill=\"#000000\" fill-rule=\"nonzero\" fill-opacity=\"1\" /><path clip-path=\"url(#clip740)\" d=\"M94.7882 101.321 L111.108 101.321 L111.108 105.256 L89.1632 105.256 L89.1632 101.321 Q91.8252 98.5665 96.4085 93.9369 Q101.015 89.2841 102.196 87.9416 Q104.441 85.4184 105.321 83.6823 Q106.223 81.9231 106.223 80.2333 Q106.223 77.4786 104.279 75.7425 Q102.358 74.0064 99.2558 74.0064 Q97.0567 74.0064 94.603 74.7703 Q92.1725 75.5342 89.3947 77.0851 L89.3947 72.3629 Q92.2188 71.2287 94.6724 70.65 Q97.1261 70.0713 99.1632 70.0713 Q104.534 70.0713 107.728 72.7565 Q110.922 75.4416 110.922 79.9323 Q110.922 82.062 110.112 83.9832 Q109.325 85.8814 107.219 88.474 Q106.64 89.1453 103.538 92.3628 Q100.436 95.5573 94.7882 101.321 Z\" fill=\"#000000\" fill-rule=\"nonzero\" fill-opacity=\"1\" /><path clip-path=\"url(#clip740)\" d=\"M130.922 73.775 Q127.311 73.775 125.482 77.3398 Q123.677 80.8814 123.677 88.011 Q123.677 95.1174 125.482 98.6822 Q127.311 102.224 130.922 102.224 Q134.556 102.224 136.362 98.6822 Q138.191 95.1174 138.191 88.011 Q138.191 80.8814 136.362 77.3398 Q134.556 73.775 130.922 73.775 M130.922 70.0713 Q136.732 70.0713 139.788 74.6777 Q142.867 79.261 142.867 88.011 Q142.867 96.7378 139.788 101.344 Q136.732 105.928 130.922 105.928 Q125.112 105.928 122.033 101.344 Q118.978 96.7378 118.978 88.011 Q118.978 79.261 122.033 74.6777 Q125.112 70.0713 130.922 70.0713 Z\" fill=\"#000000\" fill-rule=\"nonzero\" fill-opacity=\"1\" /><polyline clip-path=\"url(#clip742)\" style=\"stroke:#009af9; stroke-linecap:round; stroke-linejoin:round; stroke-width:4; stroke-opacity:1; fill:none\" points=\"240.392,87.9763 245.519,93.3167 250.646,98.6407 255.773,103.948 260.9,109.239 266.027,114.514 271.154,119.772 276.281,125.014 281.409,130.239 286.536,135.448 291.663,140.64 296.79,145.816 301.917,150.975 307.044,156.118 312.171,161.245 317.298,166.355 322.425,171.448 327.552,176.526 332.68,181.586 337.807,186.63 342.934,191.658 348.061,196.669 353.188,201.664 358.315,206.643 363.442,211.605 368.569,216.55 373.696,221.479 378.823,226.392 383.951,231.288 389.078,236.167 394.205,241.031 399.332,245.877 404.459,250.708 409.586,255.521 414.713,260.319 419.84,265.1 424.967,269.864 430.094,274.612 435.222,279.343 440.349,284.059 445.476,288.757 450.603,293.439 455.73,298.105 460.857,302.754 465.984,307.387 471.111,312.003 476.238,316.603 481.365,321.187 486.492,325.753 491.62,330.304 496.747,334.838 501.874,339.356 507.001,343.857 512.128,348.341 517.255,352.81 522.382,357.261 527.509,361.697 532.636,366.115 537.763,370.518 542.891,374.904 548.018,379.273 553.145,383.626 558.272,387.963 563.399,392.283 568.526,396.586 573.653,400.873 578.78,405.144 583.907,409.398 589.034,413.636 594.162,417.858 599.289,422.062 604.416,426.251 609.543,430.423 614.67,434.578 619.797,438.717 624.924,442.84 630.051,446.946 635.178,451.036 640.305,455.109 645.432,459.166 650.56,463.206 655.687,467.23 660.814,471.237 665.941,475.228 671.068,479.203 676.195,483.161 681.322,487.102 686.449,491.027 691.576,494.936 696.703,498.828 701.831,502.704 706.958,506.563 712.085,510.406 717.212,514.232 722.339,518.042 727.466,521.836 732.593,525.613 737.72,529.373 742.847,533.117 747.974,536.845 753.102,540.556 758.229,544.251 763.356,547.929 768.483,551.591 773.61,555.236 778.737,558.865 783.864,562.477 788.991,566.073 794.118,569.653 799.245,573.216 804.373,576.762 809.5,580.293 814.627,583.806 819.754,587.303 824.881,590.784 830.008,594.249 835.135,597.696 840.262,601.128 845.389,604.543 850.516,607.941 855.643,611.323 860.771,614.689 865.898,618.038 871.025,621.37 876.152,624.687 881.279,627.986 886.406,631.27 891.533,634.536 896.66,637.787 901.787,641.021 906.914,644.238 912.042,647.439 917.169,650.623 922.296,653.792 927.423,656.943 932.55,660.078 937.677,663.197 942.804,666.299 947.931,669.385 953.058,672.454 958.185,675.507 963.313,678.544 968.44,681.563 973.567,684.567 978.694,687.554 983.821,690.525 988.948,693.479 994.075,696.416 999.202,699.338 1004.33,702.242 1009.46,705.131 1014.58,708.002 1019.71,710.858 1024.84,713.697 1029.96,716.519 1035.09,719.325 1040.22,722.115 1045.35,724.888 1050.47,727.644 1055.6,730.385 1060.73,733.108 1065.85,735.815 1070.98,738.506 1076.11,741.181 1081.24,743.838 1086.36,746.48 1091.49,749.105 1096.62,751.713 1101.74,754.305 1106.87,756.881 1112,759.44 1117.13,761.983 1122.25,764.509 1127.38,767.019 1132.51,769.512 1137.63,771.989 1142.76,774.449 1147.89,776.893 1153.02,779.321 1158.14,781.732 1163.27,784.126 1168.4,786.504 1173.52,788.866 1178.65,791.211 1183.78,793.54 1188.9,795.852 1194.03,798.148 1199.16,800.427 1204.29,802.69 1209.41,804.937 1214.54,807.167 1219.67,809.38 1224.79,811.577 1229.92,813.758 1235.05,815.922 1240.18,818.07 1245.3,820.201 1250.43,822.316 1255.56,824.414 1260.68,826.496 1265.81,828.561 1270.94,830.61 1276.07,832.643 1281.19,834.659 1286.32,836.658 1291.45,838.642 1296.57,840.608 1301.7,842.558 1306.83,844.492 1311.96,846.41 1317.08,848.31 1322.21,850.195 1327.34,852.063 1332.46,853.914 1337.59,855.749 1342.72,857.568 1347.84,859.37 1352.97,861.155 1358.1,862.925 1363.23,864.677 1368.35,866.414 1373.48,868.133 1378.61,869.837 1383.73,871.524 1388.86,873.194 1393.99,874.848 1399.12,876.485 1404.24,878.107 1409.37,879.711 1414.5,881.299 1419.62,882.871 1424.75,884.426 1429.88,885.965 1435.01,887.487 1440.13,888.993 1445.26,890.483 1450.39,891.955 1455.51,893.412 1460.64,894.852 1465.77,896.276 1470.9,897.683 1476.02,899.073 1481.15,900.448 1486.28,901.805 1491.4,903.147 1496.53,904.471 1501.66,905.78 1506.78,907.072 1511.91,908.347 1517.04,909.606 1522.17,910.849 1527.29,912.075 1532.42,913.284 1537.55,914.478 1542.67,915.654 1547.8,916.814 1552.93,917.958 1558.06,919.086 1563.18,920.196 1568.31,921.291 1573.44,922.369 1578.56,923.43 1583.69,924.475 1588.82,925.504 1593.95,926.516 1599.07,927.512 1604.2,928.491 1609.33,929.454 1614.45,930.4 1619.58,931.33 1624.71,932.243 1629.84,933.14 1634.96,934.021 1640.09,934.885 1645.22,935.732 1650.34,936.563 1655.47,937.378 1660.6,938.176 1665.72,938.958 1670.85,939.723 1675.98,940.472 1681.11,941.204 1686.23,941.92 1691.36,942.62 1696.49,943.303 1701.61,943.969 1706.74,944.619 1711.87,945.253 1717,945.87 1722.12,946.471 1727.25,947.055 1732.38,947.623 1737.5,948.174 1742.63,948.709 1747.76,949.227 1752.89,949.729 1758.01,950.215 1763.14,950.684 1768.27,951.136 1773.39,951.573 1778.52,951.992 1783.65,952.395 1788.78,952.782 1793.9,953.153 1799.03,953.506 1804.16,953.844 1809.28,954.165 1814.41,954.469 1819.54,954.757 1824.66,955.029 1829.79,955.284 1834.92,955.522 1840.05,955.745 1845.17,955.95 1850.3,956.14 1855.43,956.312 1860.55,956.469 1865.68,956.609 1870.81,956.732 1875.94,956.839 1881.06,956.93 1886.19,957.004 1891.32,957.061 1896.44,957.102 1901.57,957.127 1906.7,957.135 1911.83,957.127 1916.95,957.102 1922.08,957.061 1927.21,957.004 1932.33,956.93 1937.46,956.839 1942.59,956.732 1947.72,956.609 1952.84,956.469 1957.97,956.312 1963.1,956.14 1968.22,955.95 1973.35,955.745 1978.48,955.522 1983.6,955.284 1988.73,955.029 1993.86,954.757 1998.99,954.469 2004.11,954.165 2009.24,953.844 2014.37,953.506 2019.49,953.153 2024.62,952.782 2029.75,952.395 2034.88,951.992 2040,951.573 2045.13,951.136 2050.26,950.684 2055.38,950.215 2060.51,949.729 2065.64,949.227 2070.77,948.709 2075.89,948.174 2081.02,947.623 2086.15,947.055 2091.27,946.471 2096.4,945.87 2101.53,945.253 2106.66,944.619 2111.78,943.969 2116.91,943.303 2122.04,942.62 2127.16,941.92 2132.29,941.204 2137.42,940.472 2142.54,939.723 2147.67,938.958 2152.8,938.176 2157.93,937.378 2163.05,936.563 2168.18,935.732 2173.31,934.885 2178.43,934.021 2183.56,933.14 2188.69,932.243 2193.82,931.33 2198.94,930.4 2204.07,929.454 2209.2,928.491 2214.32,927.512 2219.45,926.516 2224.58,925.504 2229.71,924.475 2234.83,923.43 2239.96,922.369 2245.09,921.291 2250.21,920.196 2255.34,919.086 2260.47,917.958 2265.6,916.814 2270.72,915.654 2275.85,914.478 2280.98,913.284 2286.1,912.075 2291.23,910.849 \"/>\n",
       "<polyline clip-path=\"url(#clip742)\" style=\"stroke:#e26f46; stroke-linecap:round; stroke-linejoin:round; stroke-width:4; stroke-opacity:1; fill:none\" points=\"240.392,1445.72 245.519,1444.07 250.646,1442.42 255.773,1440.78 260.9,1439.13 266.027,1437.49 271.154,1435.84 276.281,1434.2 281.409,1432.55 286.536,1430.9 291.663,1429.26 296.79,1427.61 301.917,1425.97 307.044,1424.32 312.171,1422.68 317.298,1421.03 322.425,1419.38 327.552,1417.74 332.68,1416.09 337.807,1414.45 342.934,1412.8 348.061,1411.16 353.188,1409.51 358.315,1407.86 363.442,1406.22 368.569,1404.57 373.696,1402.93 378.823,1401.28 383.951,1399.63 389.078,1397.99 394.205,1396.34 399.332,1394.7 404.459,1393.05 409.586,1391.41 414.713,1389.76 419.84,1388.11 424.967,1386.47 430.094,1384.82 435.222,1383.18 440.349,1381.53 445.476,1379.89 450.603,1378.24 455.73,1376.59 460.857,1374.95 465.984,1373.3 471.111,1371.66 476.238,1370.01 481.365,1368.37 486.492,1366.72 491.62,1365.07 496.747,1363.43 501.874,1361.78 507.001,1360.14 512.128,1358.49 517.255,1356.85 522.382,1355.2 527.509,1353.55 532.636,1351.91 537.763,1350.26 542.891,1348.62 548.018,1346.97 553.145,1345.33 558.272,1343.68 563.399,1342.03 568.526,1340.39 573.653,1338.74 578.78,1337.1 583.907,1335.45 589.034,1333.81 594.162,1332.16 599.289,1330.51 604.416,1328.87 609.543,1327.22 614.67,1325.58 619.797,1323.93 624.924,1322.28 630.051,1320.64 635.178,1318.99 640.305,1317.35 645.432,1315.7 650.56,1314.06 655.687,1312.41 660.814,1310.76 665.941,1309.12 671.068,1307.47 676.195,1305.83 681.322,1304.18 686.449,1302.54 691.576,1300.89 696.703,1299.24 701.831,1297.6 706.958,1295.95 712.085,1294.31 717.212,1292.66 722.339,1291.02 727.466,1289.37 732.593,1287.72 737.72,1286.08 742.847,1284.43 747.974,1282.79 753.102,1281.14 758.229,1279.5 763.356,1277.85 768.483,1276.2 773.61,1274.56 778.737,1272.91 783.864,1271.27 788.991,1269.62 794.118,1267.98 799.245,1266.33 804.373,1264.68 809.5,1263.04 814.627,1261.39 819.754,1259.75 824.881,1258.1 830.008,1256.46 835.135,1254.81 840.262,1253.16 845.389,1251.52 850.516,1249.87 855.643,1248.23 860.771,1246.58 865.898,1244.93 871.025,1243.29 876.152,1241.64 881.279,1240 886.406,1238.35 891.533,1236.71 896.66,1235.06 901.787,1233.41 906.914,1231.77 912.042,1230.12 917.169,1228.48 922.296,1226.83 927.423,1225.19 932.55,1223.54 937.677,1221.89 942.804,1220.25 947.931,1218.6 953.058,1216.96 958.185,1215.31 963.313,1213.67 968.44,1212.02 973.567,1210.37 978.694,1208.73 983.821,1207.08 988.948,1205.44 994.075,1203.79 999.202,1202.15 1004.33,1200.5 1009.46,1198.85 1014.58,1197.21 1019.71,1195.56 1024.84,1193.92 1029.96,1192.27 1035.09,1190.63 1040.22,1188.98 1045.35,1187.33 1050.47,1185.69 1055.6,1184.04 1060.73,1182.4 1065.85,1180.75 1070.98,1179.11 1076.11,1177.46 1081.24,1175.81 1086.36,1174.17 1091.49,1172.52 1096.62,1170.88 1101.74,1169.23 1106.87,1167.58 1112,1165.94 1117.13,1164.29 1122.25,1162.65 1127.38,1161 1132.51,1159.36 1137.63,1157.71 1142.76,1156.06 1147.89,1154.42 1153.02,1152.77 1158.14,1151.13 1163.27,1149.48 1168.4,1147.84 1173.52,1146.19 1178.65,1144.54 1183.78,1142.9 1188.9,1141.25 1194.03,1139.61 1199.16,1137.96 1204.29,1136.32 1209.41,1134.67 1214.54,1133.02 1219.67,1131.38 1224.79,1129.73 1229.92,1128.09 1235.05,1126.44 1240.18,1124.8 1245.3,1123.15 1250.43,1121.5 1255.56,1119.86 1260.68,1118.21 1265.81,1116.57 1270.94,1114.92 1276.07,1113.28 1281.19,1111.63 1286.32,1109.98 1291.45,1108.34 1296.57,1106.69 1301.7,1105.05 1306.83,1103.4 1311.96,1101.76 1317.08,1100.11 1322.21,1098.46 1327.34,1096.82 1332.46,1095.17 1337.59,1093.53 1342.72,1091.88 1347.84,1090.23 1352.97,1088.59 1358.1,1086.94 1363.23,1085.3 1368.35,1083.65 1373.48,1082.01 1378.61,1080.36 1383.73,1078.71 1388.86,1077.07 1393.99,1075.42 1399.12,1073.78 1404.24,1072.13 1409.37,1070.49 1414.5,1068.84 1419.62,1067.19 1424.75,1065.55 1429.88,1063.9 1435.01,1062.26 1440.13,1060.61 1445.26,1058.97 1450.39,1057.32 1455.51,1055.67 1460.64,1054.03 1465.77,1052.38 1470.9,1050.74 1476.02,1049.09 1481.15,1047.45 1486.28,1045.8 1491.4,1044.15 1496.53,1042.51 1501.66,1040.86 1506.78,1039.22 1511.91,1037.57 1517.04,1035.93 1522.17,1034.28 1527.29,1032.63 1532.42,1030.99 1537.55,1029.34 1542.67,1027.7 1547.8,1026.05 1552.93,1024.41 1558.06,1022.76 1563.18,1021.11 1568.31,1019.47 1573.44,1017.82 1578.56,1016.18 1583.69,1014.53 1588.82,1012.88 1593.95,1011.24 1599.07,1009.59 1604.2,1007.95 1609.33,1006.3 1614.45,1004.66 1619.58,1003.01 1624.71,1001.36 1629.84,999.719 1634.96,998.073 1640.09,996.427 1645.22,994.782 1650.34,993.136 1655.47,991.49 1660.6,989.844 1665.72,988.199 1670.85,986.553 1675.98,984.907 1681.11,983.261 1686.23,981.616 1691.36,979.97 1696.49,978.324 1701.61,976.678 1706.74,975.033 1711.87,973.387 1717,971.741 1722.12,970.095 1727.25,968.45 1732.38,966.804 1737.5,965.158 1742.63,963.512 1747.76,961.867 1752.89,960.221 1758.01,958.575 1763.14,956.93 1768.27,955.284 1773.39,953.638 1778.52,951.992 1783.65,950.347 1788.78,948.701 1793.9,947.055 1799.03,945.409 1804.16,943.764 1809.28,942.118 1814.41,940.472 1819.54,938.826 1824.66,937.181 1829.79,935.535 1834.92,933.889 1840.05,932.243 1845.17,930.598 1850.3,928.952 1855.43,927.306 1860.55,925.66 1865.68,924.015 1870.81,922.369 1875.94,920.723 1881.06,919.077 1886.19,917.432 1891.32,915.786 1896.44,914.14 1901.57,912.494 1906.7,910.849 1911.83,909.203 1916.95,907.557 1922.08,905.911 1927.21,904.266 1932.33,902.62 1937.46,900.974 1942.59,899.328 1947.72,897.683 1952.84,896.037 1957.97,894.391 1963.1,892.745 1968.22,891.1 1973.35,889.454 1978.48,887.808 1983.6,886.162 1988.73,884.517 1993.86,882.871 1998.99,881.225 2004.11,879.579 2009.24,877.934 2014.37,876.288 2019.49,874.642 2024.62,872.997 2029.75,871.351 2034.88,869.705 2040,868.059 2045.13,866.414 2050.26,864.768 2055.38,863.122 2060.51,861.476 2065.64,859.831 2070.77,858.185 2075.89,856.539 2081.02,854.893 2086.15,853.248 2091.27,851.602 2096.4,849.956 2101.53,848.31 2106.66,846.665 2111.78,845.019 2116.91,843.373 2122.04,841.727 2127.16,840.082 2132.29,838.436 2137.42,836.79 2142.54,835.144 2147.67,833.499 2152.8,831.853 2157.93,830.207 2163.05,828.561 2168.18,826.916 2173.31,825.27 2178.43,823.624 2183.56,821.978 2188.69,820.333 2193.82,818.687 2198.94,817.041 2204.07,815.395 2209.2,813.75 2214.32,812.104 2219.45,810.458 2224.58,808.812 2229.71,807.167 2234.83,805.521 2239.96,803.875 2245.09,802.229 2250.21,800.584 2255.34,798.938 2260.47,797.292 2265.6,795.647 2270.72,794.001 2275.85,792.355 2280.98,790.709 2286.1,789.064 2291.23,787.418 \"/>\n",
       "<path clip-path=\"url(#clip740)\" d=\"M2010.47 250.738 L2280.29 250.738 L2280.29 95.2176 L2010.47 95.2176  Z\" fill=\"#ffffff\" fill-rule=\"evenodd\" fill-opacity=\"1\"/>\n",
       "<polyline clip-path=\"url(#clip740)\" style=\"stroke:#000000; stroke-linecap:round; stroke-linejoin:round; stroke-width:4; stroke-opacity:1; fill:none\" points=\"2010.47,250.738 2280.29,250.738 2280.29,95.2176 2010.47,95.2176 2010.47,250.738 \"/>\n",
       "<polyline clip-path=\"url(#clip740)\" style=\"stroke:#009af9; stroke-linecap:round; stroke-linejoin:round; stroke-width:4; stroke-opacity:1; fill:none\" points=\"2034.63,147.058 2179.55,147.058 \"/>\n",
       "<path clip-path=\"url(#clip740)\" d=\"M2217.55 166.745 Q2215.75 171.375 2214.03 172.787 Q2212.32 174.199 2209.45 174.199 L2206.05 174.199 L2206.05 170.634 L2208.55 170.634 Q2210.31 170.634 2211.28 169.8 Q2212.25 168.967 2213.43 165.865 L2214.19 163.921 L2203.71 138.412 L2208.22 138.412 L2216.32 158.689 L2224.43 138.412 L2228.94 138.412 L2217.55 166.745 Z\" fill=\"#000000\" fill-rule=\"nonzero\" fill-opacity=\"1\" /><path clip-path=\"url(#clip740)\" d=\"M2236.23 160.402 L2243.87 160.402 L2243.87 134.037 L2235.56 135.703 L2235.56 131.444 L2243.82 129.778 L2248.5 129.778 L2248.5 160.402 L2256.14 160.402 L2256.14 164.338 L2236.23 164.338 L2236.23 160.402 Z\" fill=\"#000000\" fill-rule=\"nonzero\" fill-opacity=\"1\" /><polyline clip-path=\"url(#clip740)\" style=\"stroke:#e26f46; stroke-linecap:round; stroke-linejoin:round; stroke-width:4; stroke-opacity:1; fill:none\" points=\"2034.63,198.898 2179.55,198.898 \"/>\n",
       "<path clip-path=\"url(#clip740)\" d=\"M2217.55 218.585 Q2215.75 223.215 2214.03 224.627 Q2212.32 226.039 2209.45 226.039 L2206.05 226.039 L2206.05 222.474 L2208.55 222.474 Q2210.31 222.474 2211.28 221.64 Q2212.25 220.807 2213.43 217.705 L2214.19 215.761 L2203.71 190.252 L2208.22 190.252 L2216.32 210.529 L2224.43 190.252 L2228.94 190.252 L2217.55 218.585 Z\" fill=\"#000000\" fill-rule=\"nonzero\" fill-opacity=\"1\" /><path clip-path=\"url(#clip740)\" d=\"M2239.45 212.242 L2255.77 212.242 L2255.77 216.178 L2233.82 216.178 L2233.82 212.242 Q2236.49 209.488 2241.07 204.858 Q2245.68 200.205 2246.86 198.863 Q2249.1 196.34 2249.98 194.604 Q2250.88 192.844 2250.88 191.155 Q2250.88 188.4 2248.94 186.664 Q2247.02 184.928 2243.92 184.928 Q2241.72 184.928 2239.26 185.692 Q2236.83 186.455 2234.06 188.006 L2234.06 183.284 Q2236.88 182.15 2239.33 181.571 Q2241.79 180.993 2243.82 180.993 Q2249.19 180.993 2252.39 183.678 Q2255.58 186.363 2255.58 190.854 Q2255.58 192.983 2254.77 194.905 Q2253.99 196.803 2251.88 199.395 Q2251.3 200.067 2248.2 203.284 Q2245.1 206.479 2239.45 212.242 Z\" fill=\"#000000\" fill-rule=\"nonzero\" fill-opacity=\"1\" /></svg>\n"
      ],
      "text/html": [
       "<?xml version=\"1.0\" encoding=\"utf-8\"?>\n",
       "<svg xmlns=\"http://www.w3.org/2000/svg\" xmlns:xlink=\"http://www.w3.org/1999/xlink\" width=\"600\" height=\"400\" viewBox=\"0 0 2400 1600\">\n",
       "<defs>\n",
       "  <clipPath id=\"clip790\">\n",
       "    <rect x=\"0\" y=\"0\" width=\"2400\" height=\"1600\"/>\n",
       "  </clipPath>\n",
       "</defs>\n",
       "<path clip-path=\"url(#clip790)\" d=\"M0 1600 L2400 1600 L2400 0 L0 0  Z\" fill=\"#ffffff\" fill-rule=\"evenodd\" fill-opacity=\"1\"/>\n",
       "<defs>\n",
       "  <clipPath id=\"clip791\">\n",
       "    <rect x=\"480\" y=\"0\" width=\"1681\" height=\"1600\"/>\n",
       "  </clipPath>\n",
       "</defs>\n",
       "<path clip-path=\"url(#clip790)\" d=\"M178.867 1486.45 L2352.76 1486.45 L2352.76 47.2441 L178.867 47.2441  Z\" fill=\"#ffffff\" fill-rule=\"evenodd\" fill-opacity=\"1\"/>\n",
       "<defs>\n",
       "  <clipPath id=\"clip792\">\n",
       "    <rect x=\"178\" y=\"47\" width=\"2175\" height=\"1440\"/>\n",
       "  </clipPath>\n",
       "</defs>\n",
       "<polyline clip-path=\"url(#clip792)\" style=\"stroke:#000000; stroke-linecap:round; stroke-linejoin:round; stroke-width:2; stroke-opacity:0.1; fill:none\" points=\"240.392,1486.45 240.392,47.2441 \"/>\n",
       "<polyline clip-path=\"url(#clip792)\" style=\"stroke:#000000; stroke-linecap:round; stroke-linejoin:round; stroke-width:2; stroke-opacity:0.1; fill:none\" points=\"753.102,1486.45 753.102,47.2441 \"/>\n",
       "<polyline clip-path=\"url(#clip792)\" style=\"stroke:#000000; stroke-linecap:round; stroke-linejoin:round; stroke-width:2; stroke-opacity:0.1; fill:none\" points=\"1265.81,1486.45 1265.81,47.2441 \"/>\n",
       "<polyline clip-path=\"url(#clip792)\" style=\"stroke:#000000; stroke-linecap:round; stroke-linejoin:round; stroke-width:2; stroke-opacity:0.1; fill:none\" points=\"1778.52,1486.45 1778.52,47.2441 \"/>\n",
       "<polyline clip-path=\"url(#clip792)\" style=\"stroke:#000000; stroke-linecap:round; stroke-linejoin:round; stroke-width:2; stroke-opacity:0.1; fill:none\" points=\"2291.23,1486.45 2291.23,47.2441 \"/>\n",
       "<polyline clip-path=\"url(#clip790)\" style=\"stroke:#000000; stroke-linecap:round; stroke-linejoin:round; stroke-width:4; stroke-opacity:1; fill:none\" points=\"178.867,1486.45 2352.76,1486.45 \"/>\n",
       "<polyline clip-path=\"url(#clip790)\" style=\"stroke:#000000; stroke-linecap:round; stroke-linejoin:round; stroke-width:4; stroke-opacity:1; fill:none\" points=\"240.392,1486.45 240.392,1467.55 \"/>\n",
       "<polyline clip-path=\"url(#clip790)\" style=\"stroke:#000000; stroke-linecap:round; stroke-linejoin:round; stroke-width:4; stroke-opacity:1; fill:none\" points=\"753.102,1486.45 753.102,1467.55 \"/>\n",
       "<polyline clip-path=\"url(#clip790)\" style=\"stroke:#000000; stroke-linecap:round; stroke-linejoin:round; stroke-width:4; stroke-opacity:1; fill:none\" points=\"1265.81,1486.45 1265.81,1467.55 \"/>\n",
       "<polyline clip-path=\"url(#clip790)\" style=\"stroke:#000000; stroke-linecap:round; stroke-linejoin:round; stroke-width:4; stroke-opacity:1; fill:none\" points=\"1778.52,1486.45 1778.52,1467.55 \"/>\n",
       "<polyline clip-path=\"url(#clip790)\" style=\"stroke:#000000; stroke-linecap:round; stroke-linejoin:round; stroke-width:4; stroke-opacity:1; fill:none\" points=\"2291.23,1486.45 2291.23,1467.55 \"/>\n",
       "<path clip-path=\"url(#clip790)\" d=\"M210.334 1532.02 L240.01 1532.02 L240.01 1535.95 L210.334 1535.95 L210.334 1532.02 Z\" fill=\"#000000\" fill-rule=\"nonzero\" fill-opacity=\"1\" /><path clip-path=\"url(#clip790)\" d=\"M254.13 1544.91 L270.45 1544.91 L270.45 1548.85 L248.505 1548.85 L248.505 1544.91 Q251.167 1542.16 255.751 1537.53 Q260.357 1532.88 261.538 1531.53 Q263.783 1529.01 264.663 1527.27 Q265.565 1525.51 265.565 1523.82 Q265.565 1521.07 263.621 1519.33 Q261.7 1517.6 258.598 1517.6 Q256.399 1517.6 253.945 1518.36 Q251.514 1519.13 248.737 1520.68 L248.737 1515.95 Q251.561 1514.82 254.014 1514.24 Q256.468 1513.66 258.505 1513.66 Q263.875 1513.66 267.07 1516.35 Q270.264 1519.03 270.264 1523.52 Q270.264 1525.65 269.454 1527.57 Q268.667 1529.47 266.561 1532.07 Q265.982 1532.74 262.88 1535.95 Q259.778 1539.15 254.13 1544.91 Z\" fill=\"#000000\" fill-rule=\"nonzero\" fill-opacity=\"1\" /><path clip-path=\"url(#clip790)\" d=\"M722.859 1532.02 L752.534 1532.02 L752.534 1535.95 L722.859 1535.95 L722.859 1532.02 Z\" fill=\"#000000\" fill-rule=\"nonzero\" fill-opacity=\"1\" /><path clip-path=\"url(#clip790)\" d=\"M763.437 1544.91 L771.076 1544.91 L771.076 1518.55 L762.766 1520.21 L762.766 1515.95 L771.03 1514.29 L775.706 1514.29 L775.706 1544.91 L783.344 1544.91 L783.344 1548.85 L763.437 1548.85 L763.437 1544.91 Z\" fill=\"#000000\" fill-rule=\"nonzero\" fill-opacity=\"1\" /><path clip-path=\"url(#clip790)\" d=\"M1265.81 1517.37 Q1262.2 1517.37 1260.37 1520.93 Q1258.57 1524.47 1258.57 1531.6 Q1258.57 1538.71 1260.37 1542.27 Q1262.2 1545.82 1265.81 1545.82 Q1269.45 1545.82 1271.25 1542.27 Q1273.08 1538.71 1273.08 1531.6 Q1273.08 1524.47 1271.25 1520.93 Q1269.45 1517.37 1265.81 1517.37 M1265.81 1513.66 Q1271.62 1513.66 1274.68 1518.27 Q1277.76 1522.85 1277.76 1531.6 Q1277.76 1540.33 1274.68 1544.94 Q1271.62 1549.52 1265.81 1549.52 Q1260 1549.52 1256.92 1544.94 Q1253.87 1540.33 1253.87 1531.6 Q1253.87 1522.85 1256.92 1518.27 Q1260 1513.66 1265.81 1513.66 Z\" fill=\"#000000\" fill-rule=\"nonzero\" fill-opacity=\"1\" /><path clip-path=\"url(#clip790)\" d=\"M1768.9 1544.91 L1776.54 1544.91 L1776.54 1518.55 L1768.23 1520.21 L1768.23 1515.95 L1776.5 1514.29 L1781.17 1514.29 L1781.17 1544.91 L1788.81 1544.91 L1788.81 1548.85 L1768.9 1548.85 L1768.9 1544.91 Z\" fill=\"#000000\" fill-rule=\"nonzero\" fill-opacity=\"1\" /><path clip-path=\"url(#clip790)\" d=\"M2285.88 1544.91 L2302.2 1544.91 L2302.2 1548.85 L2280.26 1548.85 L2280.26 1544.91 Q2282.92 1542.16 2287.5 1537.53 Q2292.11 1532.88 2293.29 1531.53 Q2295.54 1529.01 2296.42 1527.27 Q2297.32 1525.51 2297.32 1523.82 Q2297.32 1521.07 2295.37 1519.33 Q2293.45 1517.6 2290.35 1517.6 Q2288.15 1517.6 2285.7 1518.36 Q2283.27 1519.13 2280.49 1520.68 L2280.49 1515.95 Q2283.31 1514.82 2285.77 1514.24 Q2288.22 1513.66 2290.26 1513.66 Q2295.63 1513.66 2298.82 1516.35 Q2302.02 1519.03 2302.02 1523.52 Q2302.02 1525.65 2301.21 1527.57 Q2300.42 1529.47 2298.31 1532.07 Q2297.74 1532.74 2294.63 1535.95 Q2291.53 1539.15 2285.88 1544.91 Z\" fill=\"#000000\" fill-rule=\"nonzero\" fill-opacity=\"1\" /><polyline clip-path=\"url(#clip792)\" style=\"stroke:#000000; stroke-linecap:round; stroke-linejoin:round; stroke-width:2; stroke-opacity:0.1; fill:none\" points=\"178.867,1322.28 2352.76,1322.28 \"/>\n",
       "<polyline clip-path=\"url(#clip792)\" style=\"stroke:#000000; stroke-linecap:round; stroke-linejoin:round; stroke-width:2; stroke-opacity:0.1; fill:none\" points=\"178.867,910.849 2352.76,910.849 \"/>\n",
       "<polyline clip-path=\"url(#clip792)\" style=\"stroke:#000000; stroke-linecap:round; stroke-linejoin:round; stroke-width:2; stroke-opacity:0.1; fill:none\" points=\"178.867,499.412 2352.76,499.412 \"/>\n",
       "<polyline clip-path=\"url(#clip792)\" style=\"stroke:#000000; stroke-linecap:round; stroke-linejoin:round; stroke-width:2; stroke-opacity:0.1; fill:none\" points=\"178.867,87.9763 2352.76,87.9763 \"/>\n",
       "<polyline clip-path=\"url(#clip790)\" style=\"stroke:#000000; stroke-linecap:round; stroke-linejoin:round; stroke-width:4; stroke-opacity:1; fill:none\" points=\"178.867,1486.45 178.867,47.2441 \"/>\n",
       "<polyline clip-path=\"url(#clip790)\" style=\"stroke:#000000; stroke-linecap:round; stroke-linejoin:round; stroke-width:4; stroke-opacity:1; fill:none\" points=\"178.867,1322.28 197.764,1322.28 \"/>\n",
       "<polyline clip-path=\"url(#clip790)\" style=\"stroke:#000000; stroke-linecap:round; stroke-linejoin:round; stroke-width:4; stroke-opacity:1; fill:none\" points=\"178.867,910.849 197.764,910.849 \"/>\n",
       "<polyline clip-path=\"url(#clip790)\" style=\"stroke:#000000; stroke-linecap:round; stroke-linejoin:round; stroke-width:4; stroke-opacity:1; fill:none\" points=\"178.867,499.412 197.764,499.412 \"/>\n",
       "<polyline clip-path=\"url(#clip790)\" style=\"stroke:#000000; stroke-linecap:round; stroke-linejoin:round; stroke-width:4; stroke-opacity:1; fill:none\" points=\"178.867,87.9763 197.764,87.9763 \"/>\n",
       "<path clip-path=\"url(#clip790)\" d=\"M50.9921 1322.74 L80.6679 1322.74 L80.6679 1326.67 L50.9921 1326.67 L50.9921 1322.74 Z\" fill=\"#000000\" fill-rule=\"nonzero\" fill-opacity=\"1\" /><path clip-path=\"url(#clip790)\" d=\"M91.5706 1335.63 L99.2095 1335.63 L99.2095 1309.26 L90.8993 1310.93 L90.8993 1306.67 L99.1632 1305 L103.839 1305 L103.839 1335.63 L111.478 1335.63 L111.478 1339.56 L91.5706 1339.56 L91.5706 1335.63 Z\" fill=\"#000000\" fill-rule=\"nonzero\" fill-opacity=\"1\" /><path clip-path=\"url(#clip790)\" d=\"M130.922 1308.08 Q127.311 1308.08 125.482 1311.65 Q123.677 1315.19 123.677 1322.32 Q123.677 1329.43 125.482 1332.99 Q127.311 1336.53 130.922 1336.53 Q134.556 1336.53 136.362 1332.99 Q138.191 1329.43 138.191 1322.32 Q138.191 1315.19 136.362 1311.65 Q134.556 1308.08 130.922 1308.08 M130.922 1304.38 Q136.732 1304.38 139.788 1308.99 Q142.867 1313.57 142.867 1322.32 Q142.867 1331.05 139.788 1335.65 Q136.732 1340.24 130.922 1340.24 Q125.112 1340.24 122.033 1335.65 Q118.978 1331.05 118.978 1322.32 Q118.978 1313.57 122.033 1308.99 Q125.112 1304.38 130.922 1304.38 Z\" fill=\"#000000\" fill-rule=\"nonzero\" fill-opacity=\"1\" /><path clip-path=\"url(#clip790)\" d=\"M130.922 896.647 Q127.311 896.647 125.482 900.212 Q123.677 903.754 123.677 910.883 Q123.677 917.99 125.482 921.555 Q127.311 925.096 130.922 925.096 Q134.556 925.096 136.362 921.555 Q138.191 917.99 138.191 910.883 Q138.191 903.754 136.362 900.212 Q134.556 896.647 130.922 896.647 M130.922 892.944 Q136.732 892.944 139.788 897.55 Q142.867 902.133 142.867 910.883 Q142.867 919.61 139.788 924.217 Q136.732 928.8 130.922 928.8 Q125.112 928.8 122.033 924.217 Q118.978 919.61 118.978 910.883 Q118.978 902.133 122.033 897.55 Q125.112 892.944 130.922 892.944 Z\" fill=\"#000000\" fill-rule=\"nonzero\" fill-opacity=\"1\" /><path clip-path=\"url(#clip790)\" d=\"M91.5706 512.757 L99.2095 512.757 L99.2095 486.392 L90.8993 488.058 L90.8993 483.799 L99.1632 482.132 L103.839 482.132 L103.839 512.757 L111.478 512.757 L111.478 516.692 L91.5706 516.692 L91.5706 512.757 Z\" fill=\"#000000\" fill-rule=\"nonzero\" fill-opacity=\"1\" /><path clip-path=\"url(#clip790)\" d=\"M130.922 485.211 Q127.311 485.211 125.482 488.776 Q123.677 492.318 123.677 499.447 Q123.677 506.554 125.482 510.118 Q127.311 513.66 130.922 513.66 Q134.556 513.66 136.362 510.118 Q138.191 506.554 138.191 499.447 Q138.191 492.318 136.362 488.776 Q134.556 485.211 130.922 485.211 M130.922 481.507 Q136.732 481.507 139.788 486.114 Q142.867 490.697 142.867 499.447 Q142.867 508.174 139.788 512.78 Q136.732 517.364 130.922 517.364 Q125.112 517.364 122.033 512.78 Q118.978 508.174 118.978 499.447 Q118.978 490.697 122.033 486.114 Q125.112 481.507 130.922 481.507 Z\" fill=\"#000000\" fill-rule=\"nonzero\" fill-opacity=\"1\" /><path clip-path=\"url(#clip790)\" d=\"M94.7882 101.321 L111.108 101.321 L111.108 105.256 L89.1632 105.256 L89.1632 101.321 Q91.8252 98.5665 96.4085 93.9369 Q101.015 89.2841 102.196 87.9416 Q104.441 85.4184 105.321 83.6823 Q106.223 81.9231 106.223 80.2333 Q106.223 77.4786 104.279 75.7425 Q102.358 74.0064 99.2558 74.0064 Q97.0567 74.0064 94.603 74.7703 Q92.1725 75.5342 89.3947 77.0851 L89.3947 72.3629 Q92.2188 71.2287 94.6724 70.65 Q97.1261 70.0713 99.1632 70.0713 Q104.534 70.0713 107.728 72.7565 Q110.922 75.4416 110.922 79.9323 Q110.922 82.062 110.112 83.9832 Q109.325 85.8814 107.219 88.474 Q106.64 89.1453 103.538 92.3628 Q100.436 95.5573 94.7882 101.321 Z\" fill=\"#000000\" fill-rule=\"nonzero\" fill-opacity=\"1\" /><path clip-path=\"url(#clip790)\" d=\"M130.922 73.775 Q127.311 73.775 125.482 77.3398 Q123.677 80.8814 123.677 88.011 Q123.677 95.1174 125.482 98.6822 Q127.311 102.224 130.922 102.224 Q134.556 102.224 136.362 98.6822 Q138.191 95.1174 138.191 88.011 Q138.191 80.8814 136.362 77.3398 Q134.556 73.775 130.922 73.775 M130.922 70.0713 Q136.732 70.0713 139.788 74.6777 Q142.867 79.261 142.867 88.011 Q142.867 96.7378 139.788 101.344 Q136.732 105.928 130.922 105.928 Q125.112 105.928 122.033 101.344 Q118.978 96.7378 118.978 88.011 Q118.978 79.261 122.033 74.6777 Q125.112 70.0713 130.922 70.0713 Z\" fill=\"#000000\" fill-rule=\"nonzero\" fill-opacity=\"1\" /><polyline clip-path=\"url(#clip792)\" style=\"stroke:#009af9; stroke-linecap:round; stroke-linejoin:round; stroke-width:4; stroke-opacity:1; fill:none\" points=\"240.392,87.9763 245.519,93.3167 250.646,98.6407 255.773,103.948 260.9,109.239 266.027,114.514 271.154,119.772 276.281,125.014 281.409,130.239 286.536,135.448 291.663,140.64 296.79,145.816 301.917,150.975 307.044,156.118 312.171,161.245 317.298,166.355 322.425,171.448 327.552,176.526 332.68,181.586 337.807,186.63 342.934,191.658 348.061,196.669 353.188,201.664 358.315,206.643 363.442,211.605 368.569,216.55 373.696,221.479 378.823,226.392 383.951,231.288 389.078,236.167 394.205,241.031 399.332,245.877 404.459,250.708 409.586,255.521 414.713,260.319 419.84,265.1 424.967,269.864 430.094,274.612 435.222,279.343 440.349,284.059 445.476,288.757 450.603,293.439 455.73,298.105 460.857,302.754 465.984,307.387 471.111,312.003 476.238,316.603 481.365,321.187 486.492,325.753 491.62,330.304 496.747,334.838 501.874,339.356 507.001,343.857 512.128,348.341 517.255,352.81 522.382,357.261 527.509,361.697 532.636,366.115 537.763,370.518 542.891,374.904 548.018,379.273 553.145,383.626 558.272,387.963 563.399,392.283 568.526,396.586 573.653,400.873 578.78,405.144 583.907,409.398 589.034,413.636 594.162,417.858 599.289,422.062 604.416,426.251 609.543,430.423 614.67,434.578 619.797,438.717 624.924,442.84 630.051,446.946 635.178,451.036 640.305,455.109 645.432,459.166 650.56,463.206 655.687,467.23 660.814,471.237 665.941,475.228 671.068,479.203 676.195,483.161 681.322,487.102 686.449,491.027 691.576,494.936 696.703,498.828 701.831,502.704 706.958,506.563 712.085,510.406 717.212,514.232 722.339,518.042 727.466,521.836 732.593,525.613 737.72,529.373 742.847,533.117 747.974,536.845 753.102,540.556 758.229,544.251 763.356,547.929 768.483,551.591 773.61,555.236 778.737,558.865 783.864,562.477 788.991,566.073 794.118,569.653 799.245,573.216 804.373,576.762 809.5,580.293 814.627,583.806 819.754,587.303 824.881,590.784 830.008,594.249 835.135,597.696 840.262,601.128 845.389,604.543 850.516,607.941 855.643,611.323 860.771,614.689 865.898,618.038 871.025,621.37 876.152,624.687 881.279,627.986 886.406,631.27 891.533,634.536 896.66,637.787 901.787,641.021 906.914,644.238 912.042,647.439 917.169,650.623 922.296,653.792 927.423,656.943 932.55,660.078 937.677,663.197 942.804,666.299 947.931,669.385 953.058,672.454 958.185,675.507 963.313,678.544 968.44,681.563 973.567,684.567 978.694,687.554 983.821,690.525 988.948,693.479 994.075,696.416 999.202,699.338 1004.33,702.242 1009.46,705.131 1014.58,708.002 1019.71,710.858 1024.84,713.697 1029.96,716.519 1035.09,719.325 1040.22,722.115 1045.35,724.888 1050.47,727.644 1055.6,730.385 1060.73,733.108 1065.85,735.815 1070.98,738.506 1076.11,741.181 1081.24,743.838 1086.36,746.48 1091.49,749.105 1096.62,751.713 1101.74,754.305 1106.87,756.881 1112,759.44 1117.13,761.983 1122.25,764.509 1127.38,767.019 1132.51,769.512 1137.63,771.989 1142.76,774.449 1147.89,776.893 1153.02,779.321 1158.14,781.732 1163.27,784.126 1168.4,786.504 1173.52,788.866 1178.65,791.211 1183.78,793.54 1188.9,795.852 1194.03,798.148 1199.16,800.427 1204.29,802.69 1209.41,804.937 1214.54,807.167 1219.67,809.38 1224.79,811.577 1229.92,813.758 1235.05,815.922 1240.18,818.07 1245.3,820.201 1250.43,822.316 1255.56,824.414 1260.68,826.496 1265.81,828.561 1270.94,830.61 1276.07,832.643 1281.19,834.659 1286.32,836.658 1291.45,838.642 1296.57,840.608 1301.7,842.558 1306.83,844.492 1311.96,846.41 1317.08,848.31 1322.21,850.195 1327.34,852.063 1332.46,853.914 1337.59,855.749 1342.72,857.568 1347.84,859.37 1352.97,861.155 1358.1,862.925 1363.23,864.677 1368.35,866.414 1373.48,868.133 1378.61,869.837 1383.73,871.524 1388.86,873.194 1393.99,874.848 1399.12,876.485 1404.24,878.107 1409.37,879.711 1414.5,881.299 1419.62,882.871 1424.75,884.426 1429.88,885.965 1435.01,887.487 1440.13,888.993 1445.26,890.483 1450.39,891.955 1455.51,893.412 1460.64,894.852 1465.77,896.276 1470.9,897.683 1476.02,899.073 1481.15,900.448 1486.28,901.805 1491.4,903.147 1496.53,904.471 1501.66,905.78 1506.78,907.072 1511.91,908.347 1517.04,909.606 1522.17,910.849 1527.29,912.075 1532.42,913.284 1537.55,914.478 1542.67,915.654 1547.8,916.814 1552.93,917.958 1558.06,919.086 1563.18,920.196 1568.31,921.291 1573.44,922.369 1578.56,923.43 1583.69,924.475 1588.82,925.504 1593.95,926.516 1599.07,927.512 1604.2,928.491 1609.33,929.454 1614.45,930.4 1619.58,931.33 1624.71,932.243 1629.84,933.14 1634.96,934.021 1640.09,934.885 1645.22,935.732 1650.34,936.563 1655.47,937.378 1660.6,938.176 1665.72,938.958 1670.85,939.723 1675.98,940.472 1681.11,941.204 1686.23,941.92 1691.36,942.62 1696.49,943.303 1701.61,943.969 1706.74,944.619 1711.87,945.253 1717,945.87 1722.12,946.471 1727.25,947.055 1732.38,947.623 1737.5,948.174 1742.63,948.709 1747.76,949.227 1752.89,949.729 1758.01,950.215 1763.14,950.684 1768.27,951.136 1773.39,951.573 1778.52,951.992 1783.65,952.395 1788.78,952.782 1793.9,953.153 1799.03,953.506 1804.16,953.844 1809.28,954.165 1814.41,954.469 1819.54,954.757 1824.66,955.029 1829.79,955.284 1834.92,955.522 1840.05,955.745 1845.17,955.95 1850.3,956.14 1855.43,956.312 1860.55,956.469 1865.68,956.609 1870.81,956.732 1875.94,956.839 1881.06,956.93 1886.19,957.004 1891.32,957.061 1896.44,957.102 1901.57,957.127 1906.7,957.135 1911.83,957.127 1916.95,957.102 1922.08,957.061 1927.21,957.004 1932.33,956.93 1937.46,956.839 1942.59,956.732 1947.72,956.609 1952.84,956.469 1957.97,956.312 1963.1,956.14 1968.22,955.95 1973.35,955.745 1978.48,955.522 1983.6,955.284 1988.73,955.029 1993.86,954.757 1998.99,954.469 2004.11,954.165 2009.24,953.844 2014.37,953.506 2019.49,953.153 2024.62,952.782 2029.75,952.395 2034.88,951.992 2040,951.573 2045.13,951.136 2050.26,950.684 2055.38,950.215 2060.51,949.729 2065.64,949.227 2070.77,948.709 2075.89,948.174 2081.02,947.623 2086.15,947.055 2091.27,946.471 2096.4,945.87 2101.53,945.253 2106.66,944.619 2111.78,943.969 2116.91,943.303 2122.04,942.62 2127.16,941.92 2132.29,941.204 2137.42,940.472 2142.54,939.723 2147.67,938.958 2152.8,938.176 2157.93,937.378 2163.05,936.563 2168.18,935.732 2173.31,934.885 2178.43,934.021 2183.56,933.14 2188.69,932.243 2193.82,931.33 2198.94,930.4 2204.07,929.454 2209.2,928.491 2214.32,927.512 2219.45,926.516 2224.58,925.504 2229.71,924.475 2234.83,923.43 2239.96,922.369 2245.09,921.291 2250.21,920.196 2255.34,919.086 2260.47,917.958 2265.6,916.814 2270.72,915.654 2275.85,914.478 2280.98,913.284 2286.1,912.075 2291.23,910.849 \"/>\n",
       "<polyline clip-path=\"url(#clip792)\" style=\"stroke:#e26f46; stroke-linecap:round; stroke-linejoin:round; stroke-width:4; stroke-opacity:1; fill:none\" points=\"240.392,1445.72 245.519,1444.07 250.646,1442.42 255.773,1440.78 260.9,1439.13 266.027,1437.49 271.154,1435.84 276.281,1434.2 281.409,1432.55 286.536,1430.9 291.663,1429.26 296.79,1427.61 301.917,1425.97 307.044,1424.32 312.171,1422.68 317.298,1421.03 322.425,1419.38 327.552,1417.74 332.68,1416.09 337.807,1414.45 342.934,1412.8 348.061,1411.16 353.188,1409.51 358.315,1407.86 363.442,1406.22 368.569,1404.57 373.696,1402.93 378.823,1401.28 383.951,1399.63 389.078,1397.99 394.205,1396.34 399.332,1394.7 404.459,1393.05 409.586,1391.41 414.713,1389.76 419.84,1388.11 424.967,1386.47 430.094,1384.82 435.222,1383.18 440.349,1381.53 445.476,1379.89 450.603,1378.24 455.73,1376.59 460.857,1374.95 465.984,1373.3 471.111,1371.66 476.238,1370.01 481.365,1368.37 486.492,1366.72 491.62,1365.07 496.747,1363.43 501.874,1361.78 507.001,1360.14 512.128,1358.49 517.255,1356.85 522.382,1355.2 527.509,1353.55 532.636,1351.91 537.763,1350.26 542.891,1348.62 548.018,1346.97 553.145,1345.33 558.272,1343.68 563.399,1342.03 568.526,1340.39 573.653,1338.74 578.78,1337.1 583.907,1335.45 589.034,1333.81 594.162,1332.16 599.289,1330.51 604.416,1328.87 609.543,1327.22 614.67,1325.58 619.797,1323.93 624.924,1322.28 630.051,1320.64 635.178,1318.99 640.305,1317.35 645.432,1315.7 650.56,1314.06 655.687,1312.41 660.814,1310.76 665.941,1309.12 671.068,1307.47 676.195,1305.83 681.322,1304.18 686.449,1302.54 691.576,1300.89 696.703,1299.24 701.831,1297.6 706.958,1295.95 712.085,1294.31 717.212,1292.66 722.339,1291.02 727.466,1289.37 732.593,1287.72 737.72,1286.08 742.847,1284.43 747.974,1282.79 753.102,1281.14 758.229,1279.5 763.356,1277.85 768.483,1276.2 773.61,1274.56 778.737,1272.91 783.864,1271.27 788.991,1269.62 794.118,1267.98 799.245,1266.33 804.373,1264.68 809.5,1263.04 814.627,1261.39 819.754,1259.75 824.881,1258.1 830.008,1256.46 835.135,1254.81 840.262,1253.16 845.389,1251.52 850.516,1249.87 855.643,1248.23 860.771,1246.58 865.898,1244.93 871.025,1243.29 876.152,1241.64 881.279,1240 886.406,1238.35 891.533,1236.71 896.66,1235.06 901.787,1233.41 906.914,1231.77 912.042,1230.12 917.169,1228.48 922.296,1226.83 927.423,1225.19 932.55,1223.54 937.677,1221.89 942.804,1220.25 947.931,1218.6 953.058,1216.96 958.185,1215.31 963.313,1213.67 968.44,1212.02 973.567,1210.37 978.694,1208.73 983.821,1207.08 988.948,1205.44 994.075,1203.79 999.202,1202.15 1004.33,1200.5 1009.46,1198.85 1014.58,1197.21 1019.71,1195.56 1024.84,1193.92 1029.96,1192.27 1035.09,1190.63 1040.22,1188.98 1045.35,1187.33 1050.47,1185.69 1055.6,1184.04 1060.73,1182.4 1065.85,1180.75 1070.98,1179.11 1076.11,1177.46 1081.24,1175.81 1086.36,1174.17 1091.49,1172.52 1096.62,1170.88 1101.74,1169.23 1106.87,1167.58 1112,1165.94 1117.13,1164.29 1122.25,1162.65 1127.38,1161 1132.51,1159.36 1137.63,1157.71 1142.76,1156.06 1147.89,1154.42 1153.02,1152.77 1158.14,1151.13 1163.27,1149.48 1168.4,1147.84 1173.52,1146.19 1178.65,1144.54 1183.78,1142.9 1188.9,1141.25 1194.03,1139.61 1199.16,1137.96 1204.29,1136.32 1209.41,1134.67 1214.54,1133.02 1219.67,1131.38 1224.79,1129.73 1229.92,1128.09 1235.05,1126.44 1240.18,1124.8 1245.3,1123.15 1250.43,1121.5 1255.56,1119.86 1260.68,1118.21 1265.81,1116.57 1270.94,1114.92 1276.07,1113.28 1281.19,1111.63 1286.32,1109.98 1291.45,1108.34 1296.57,1106.69 1301.7,1105.05 1306.83,1103.4 1311.96,1101.76 1317.08,1100.11 1322.21,1098.46 1327.34,1096.82 1332.46,1095.17 1337.59,1093.53 1342.72,1091.88 1347.84,1090.23 1352.97,1088.59 1358.1,1086.94 1363.23,1085.3 1368.35,1083.65 1373.48,1082.01 1378.61,1080.36 1383.73,1078.71 1388.86,1077.07 1393.99,1075.42 1399.12,1073.78 1404.24,1072.13 1409.37,1070.49 1414.5,1068.84 1419.62,1067.19 1424.75,1065.55 1429.88,1063.9 1435.01,1062.26 1440.13,1060.61 1445.26,1058.97 1450.39,1057.32 1455.51,1055.67 1460.64,1054.03 1465.77,1052.38 1470.9,1050.74 1476.02,1049.09 1481.15,1047.45 1486.28,1045.8 1491.4,1044.15 1496.53,1042.51 1501.66,1040.86 1506.78,1039.22 1511.91,1037.57 1517.04,1035.93 1522.17,1034.28 1527.29,1032.63 1532.42,1030.99 1537.55,1029.34 1542.67,1027.7 1547.8,1026.05 1552.93,1024.41 1558.06,1022.76 1563.18,1021.11 1568.31,1019.47 1573.44,1017.82 1578.56,1016.18 1583.69,1014.53 1588.82,1012.88 1593.95,1011.24 1599.07,1009.59 1604.2,1007.95 1609.33,1006.3 1614.45,1004.66 1619.58,1003.01 1624.71,1001.36 1629.84,999.719 1634.96,998.073 1640.09,996.427 1645.22,994.782 1650.34,993.136 1655.47,991.49 1660.6,989.844 1665.72,988.199 1670.85,986.553 1675.98,984.907 1681.11,983.261 1686.23,981.616 1691.36,979.97 1696.49,978.324 1701.61,976.678 1706.74,975.033 1711.87,973.387 1717,971.741 1722.12,970.095 1727.25,968.45 1732.38,966.804 1737.5,965.158 1742.63,963.512 1747.76,961.867 1752.89,960.221 1758.01,958.575 1763.14,956.93 1768.27,955.284 1773.39,953.638 1778.52,951.992 1783.65,950.347 1788.78,948.701 1793.9,947.055 1799.03,945.409 1804.16,943.764 1809.28,942.118 1814.41,940.472 1819.54,938.826 1824.66,937.181 1829.79,935.535 1834.92,933.889 1840.05,932.243 1845.17,930.598 1850.3,928.952 1855.43,927.306 1860.55,925.66 1865.68,924.015 1870.81,922.369 1875.94,920.723 1881.06,919.077 1886.19,917.432 1891.32,915.786 1896.44,914.14 1901.57,912.494 1906.7,910.849 1911.83,909.203 1916.95,907.557 1922.08,905.911 1927.21,904.266 1932.33,902.62 1937.46,900.974 1942.59,899.328 1947.72,897.683 1952.84,896.037 1957.97,894.391 1963.1,892.745 1968.22,891.1 1973.35,889.454 1978.48,887.808 1983.6,886.162 1988.73,884.517 1993.86,882.871 1998.99,881.225 2004.11,879.579 2009.24,877.934 2014.37,876.288 2019.49,874.642 2024.62,872.997 2029.75,871.351 2034.88,869.705 2040,868.059 2045.13,866.414 2050.26,864.768 2055.38,863.122 2060.51,861.476 2065.64,859.831 2070.77,858.185 2075.89,856.539 2081.02,854.893 2086.15,853.248 2091.27,851.602 2096.4,849.956 2101.53,848.31 2106.66,846.665 2111.78,845.019 2116.91,843.373 2122.04,841.727 2127.16,840.082 2132.29,838.436 2137.42,836.79 2142.54,835.144 2147.67,833.499 2152.8,831.853 2157.93,830.207 2163.05,828.561 2168.18,826.916 2173.31,825.27 2178.43,823.624 2183.56,821.978 2188.69,820.333 2193.82,818.687 2198.94,817.041 2204.07,815.395 2209.2,813.75 2214.32,812.104 2219.45,810.458 2224.58,808.812 2229.71,807.167 2234.83,805.521 2239.96,803.875 2245.09,802.229 2250.21,800.584 2255.34,798.938 2260.47,797.292 2265.6,795.647 2270.72,794.001 2275.85,792.355 2280.98,790.709 2286.1,789.064 2291.23,787.418 \"/>\n",
       "<path clip-path=\"url(#clip790)\" d=\"M2010.47 250.738 L2280.29 250.738 L2280.29 95.2176 L2010.47 95.2176  Z\" fill=\"#ffffff\" fill-rule=\"evenodd\" fill-opacity=\"1\"/>\n",
       "<polyline clip-path=\"url(#clip790)\" style=\"stroke:#000000; stroke-linecap:round; stroke-linejoin:round; stroke-width:4; stroke-opacity:1; fill:none\" points=\"2010.47,250.738 2280.29,250.738 2280.29,95.2176 2010.47,95.2176 2010.47,250.738 \"/>\n",
       "<polyline clip-path=\"url(#clip790)\" style=\"stroke:#009af9; stroke-linecap:round; stroke-linejoin:round; stroke-width:4; stroke-opacity:1; fill:none\" points=\"2034.63,147.058 2179.55,147.058 \"/>\n",
       "<path clip-path=\"url(#clip790)\" d=\"M2217.55 166.745 Q2215.75 171.375 2214.03 172.787 Q2212.32 174.199 2209.45 174.199 L2206.05 174.199 L2206.05 170.634 L2208.55 170.634 Q2210.31 170.634 2211.28 169.8 Q2212.25 168.967 2213.43 165.865 L2214.19 163.921 L2203.71 138.412 L2208.22 138.412 L2216.32 158.689 L2224.43 138.412 L2228.94 138.412 L2217.55 166.745 Z\" fill=\"#000000\" fill-rule=\"nonzero\" fill-opacity=\"1\" /><path clip-path=\"url(#clip790)\" d=\"M2236.23 160.402 L2243.87 160.402 L2243.87 134.037 L2235.56 135.703 L2235.56 131.444 L2243.82 129.778 L2248.5 129.778 L2248.5 160.402 L2256.14 160.402 L2256.14 164.338 L2236.23 164.338 L2236.23 160.402 Z\" fill=\"#000000\" fill-rule=\"nonzero\" fill-opacity=\"1\" /><polyline clip-path=\"url(#clip790)\" style=\"stroke:#e26f46; stroke-linecap:round; stroke-linejoin:round; stroke-width:4; stroke-opacity:1; fill:none\" points=\"2034.63,198.898 2179.55,198.898 \"/>\n",
       "<path clip-path=\"url(#clip790)\" d=\"M2217.55 218.585 Q2215.75 223.215 2214.03 224.627 Q2212.32 226.039 2209.45 226.039 L2206.05 226.039 L2206.05 222.474 L2208.55 222.474 Q2210.31 222.474 2211.28 221.64 Q2212.25 220.807 2213.43 217.705 L2214.19 215.761 L2203.71 190.252 L2208.22 190.252 L2216.32 210.529 L2224.43 190.252 L2228.94 190.252 L2217.55 218.585 Z\" fill=\"#000000\" fill-rule=\"nonzero\" fill-opacity=\"1\" /><path clip-path=\"url(#clip790)\" d=\"M2239.45 212.242 L2255.77 212.242 L2255.77 216.178 L2233.82 216.178 L2233.82 212.242 Q2236.49 209.488 2241.07 204.858 Q2245.68 200.205 2246.86 198.863 Q2249.1 196.34 2249.98 194.604 Q2250.88 192.844 2250.88 191.155 Q2250.88 188.4 2248.94 186.664 Q2247.02 184.928 2243.92 184.928 Q2241.72 184.928 2239.26 185.692 Q2236.83 186.455 2234.06 188.006 L2234.06 183.284 Q2236.88 182.15 2239.33 181.571 Q2241.79 180.993 2243.82 180.993 Q2249.19 180.993 2252.39 183.678 Q2255.58 186.363 2255.58 190.854 Q2255.58 192.983 2254.77 194.905 Q2253.99 196.803 2251.88 199.395 Q2251.3 200.067 2248.2 203.284 Q2245.1 206.479 2239.45 212.242 Z\" fill=\"#000000\" fill-rule=\"nonzero\" fill-opacity=\"1\" /></svg>\n"
      ]
     },
     "execution_count": 61,
     "metadata": {},
     "output_type": "execute_result"
    }
   ],
   "source": [
    "using Plots\n",
    "x = range(start = -2, step = 0.01, stop = 2)\n",
    "p.(x)\n",
    "plot(x, p.(x))\n",
    "plot!(x,p_dash.(x))"
   ]
  },
  {
   "cell_type": "code",
   "execution_count": null,
   "id": "d81eac69-4b18-434d-b4c8-a54abd60b637",
   "metadata": {},
   "outputs": [],
   "source": []
  }
 ],
 "metadata": {
  "kernelspec": {
   "display_name": "Julia 1.10.4",
   "language": "julia",
   "name": "julia-1.10"
  },
  "language_info": {
   "file_extension": ".jl",
   "mimetype": "application/julia",
   "name": "julia",
   "version": "1.10.4"
  }
 },
 "nbformat": 4,
 "nbformat_minor": 5
}
