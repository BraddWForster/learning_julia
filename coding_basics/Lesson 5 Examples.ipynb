{
 "cells": [
  {
   "cell_type": "markdown",
   "id": "fdc5b232-1dda-4fc0-959b-3e696e3c4c2c",
   "metadata": {},
   "source": [
    "## Exercises for lesson 5\n",
    "Quite a high fixed cost for learning this."
   ]
  },
  {
   "cell_type": "code",
   "execution_count": 1,
   "id": "cdc5b192-9412-49b4-bf7f-cc0701cd83c0",
   "metadata": {},
   "outputs": [],
   "source": [
    "using StaticArrays"
   ]
  },
  {
   "cell_type": "markdown",
   "id": "e3d433c6-def2-44da-8f38-d942845734a0",
   "metadata": {},
   "source": [
    "So there are a few kinds of type in Julia:\n",
    "- Literals\n",
    "    - `Int64`\n",
    "    - `Float64`\n",
    "- Parametric\n",
    "    - `Array`\n",
    "    - `Complex`\n",
    "    - `Tuple`\n",
    "    - `NamedTuple`\n",
    "    - `AbstractArray`"
   ]
  },
  {
   "cell_type": "markdown",
   "id": "1498cde2-18d4-4595-a018-af8718a7c8de",
   "metadata": {},
   "source": [
    "There is also a type hierarchy\n",
    "- `Abstract` vs `Concrete`\n",
    "    - `Concrete` types are types like `Int64` or `Float64`\n",
    "    - `Abstract` types are:\n",
    "\n",
    "      Abstract types cannot be instantiated, and serve only as nodes in the type graph, thereby describing sets of related concrete types: those concrete types which are their descendants"
   ]
  },
  {
   "cell_type": "markdown",
   "id": "ff8a14bd-b395-4cc5-8ecb-e4d35b3d145a",
   "metadata": {},
   "source": [
    "There are subtypes and supertypes. It's easy top think of these like a family. For example, `Float64` and `Int64` are both subtypes of the `Real`. That is like `Real` is a parent and `Float64` and `Int64` are its children. Another way, `Real` is a supertype of `Float64` and `Int64`."
   ]
  },
  {
   "cell_type": "code",
   "execution_count": 4,
   "id": "5a7a129f-d74d-4c31-9847-96c7b28632ca",
   "metadata": {},
   "outputs": [
    {
     "name": "stdout",
     "output_type": "stream",
     "text": [
      "Float64 <: Real = true\n",
      "Real <: Float64 = false\n"
     ]
    }
   ],
   "source": [
    "@show Float64 <: Real\n",
    "@show Real <: Float64;"
   ]
  },
  {
   "cell_type": "markdown",
   "id": "e5a99f98-d7c7-4df6-849c-709a0e3dbea2",
   "metadata": {},
   "source": [
    "You can get like a full family tree by using `show_supertypes`"
   ]
  },
  {
   "cell_type": "code",
   "execution_count": 6,
   "id": "83d166a5-79b0-42a6-8256-7f926499e9a1",
   "metadata": {},
   "outputs": [
    {
     "name": "stdout",
     "output_type": "stream",
     "text": [
      "Float64 <: AbstractFloat <: Real <: Number <: Anyshow_supertypes(Float64) = nothing\n"
     ]
    }
   ],
   "source": [
    "using Base: show_supertypes\n",
    "@show show_supertypes(Float64)"
   ]
  },
  {
   "cell_type": "markdown",
   "id": "f53ffc78-287c-4db7-96c0-ddba6ee8079d",
   "metadata": {},
   "source": [
    "Similarly"
   ]
  },
  {
   "cell_type": "code",
   "execution_count": 7,
   "id": "a309e502-63ca-4a66-af6c-4fa3cfea6396",
   "metadata": {},
   "outputs": [
    {
     "name": "stdout",
     "output_type": "stream",
     "text": [
      "subtypes(Real) = Any[AbstractFloat, AbstractIrrational, Integer, Rational]\n"
     ]
    },
    {
     "data": {
      "text/plain": [
       "4-element Vector{Any}:\n",
       " AbstractFloat\n",
       " AbstractIrrational\n",
       " Integer\n",
       " Rational"
      ]
     },
     "execution_count": 7,
     "metadata": {},
     "output_type": "execute_result"
    }
   ],
   "source": [
    "@show subtypes(Real)"
   ]
  },
  {
   "cell_type": "markdown",
   "id": "27d626a6-f8f9-4945-97be-b896cf98da77",
   "metadata": {},
   "source": [
    "### Exercise 1:\n",
    "\n",
    "Explore the package [StaticArrays.jl](https://github.com/JuliaArrays/StaticArrays.jl).\n",
    "\n",
    "- Describe two abstract types and the hierarchy of three different concrete types.  \n",
    "- Benchmark the calculation of some simple linear algebra with a static array\n",
    "  compared to the following for a dense array for `N = 3` and `N = 15`.  "
   ]
  },
  {
   "cell_type": "markdown",
   "id": "3b5fc1ca-d090-4d9c-a564-839d060d98c1",
   "metadata": {},
   "source": [
    "One abstract type is `Array` and another is `Tuple`.\n",
    "\n",
    "My three concrete types are:\n",
    "- `Int64`\n",
    "- `Float64`\n",
    "- `Number` "
   ]
  },
  {
   "cell_type": "code",
   "execution_count": 9,
   "id": "99ea849a-26f4-433c-bc7b-45a9a84de7d0",
   "metadata": {},
   "outputs": [
    {
     "name": "stdout",
     "output_type": "stream",
     "text": [
      "Int64 <: Signed <: Integer <: Real <: Number <: Anyshow_supertypes(Int64) = nothing\n"
     ]
    }
   ],
   "source": [
    "@show show_supertypes(Int64);"
   ]
  },
  {
   "cell_type": "code",
   "execution_count": 10,
   "id": "05348f0d-ddf2-4e5f-bd6b-223c57d79d3b",
   "metadata": {},
   "outputs": [
    {
     "name": "stdout",
     "output_type": "stream",
     "text": [
      "Float64 <: AbstractFloat <: Real <: Number <: Anyshow_supertypes(Float64) = nothing\n"
     ]
    }
   ],
   "source": [
    "@show show_supertypes(Float64);"
   ]
  },
  {
   "cell_type": "code",
   "execution_count": 11,
   "id": "dd400686-ab14-41fc-b467-0f9027e0bc8b",
   "metadata": {},
   "outputs": [
    {
     "name": "stdout",
     "output_type": "stream",
     "text": [
      "Number <: Anyshow_supertypes(Number) = nothing\n"
     ]
    }
   ],
   "source": [
    "@show show_supertypes(Number)"
   ]
  },
  {
   "cell_type": "code",
   "execution_count": 12,
   "id": "42e901ea-2329-4aa3-a312-0e6cb0b5107c",
   "metadata": {},
   "outputs": [
    {
     "name": "stdout",
     "output_type": "stream",
     "text": [
      "Number <: Any = true\n"
     ]
    },
    {
     "data": {
      "text/plain": [
       "true"
      ]
     },
     "execution_count": 12,
     "metadata": {},
     "output_type": "execute_result"
    }
   ],
   "source": [
    "@show Number <: Any"
   ]
  },
  {
   "cell_type": "code",
   "execution_count": 15,
   "id": "d1a3fae8-71b6-4fe0-97ca-50bb4b138331",
   "metadata": {},
   "outputs": [],
   "source": [
    "using BenchmarkTools"
   ]
  },
  {
   "cell_type": "code",
   "execution_count": 22,
   "id": "170a4804-29b7-4915-b12d-f6e91a1709e4",
   "metadata": {},
   "outputs": [
    {
     "name": "stdout",
     "output_type": "stream",
     "text": [
      "  85.877 ns (1 allocation: 176 bytes)\n",
      "  2.913 μs (4 allocations: 9.78 KiB)\n"
     ]
    }
   ],
   "source": [
    "N = 15\n",
    "A = rand(N,N)\n",
    "X = rand(N)\n",
    "\n",
    "@btime $A * $X\n",
    "@btime inv($A);"
   ]
  },
  {
   "cell_type": "code",
   "execution_count": null,
   "id": "7be0a9e4-eb6f-49f5-95e8-9cda4dbc7e80",
   "metadata": {},
   "outputs": [],
   "source": []
  }
 ],
 "metadata": {
  "kernelspec": {
   "display_name": "Julia 1.10.4",
   "language": "julia",
   "name": "julia-1.10"
  },
  "language_info": {
   "file_extension": ".jl",
   "mimetype": "application/julia",
   "name": "julia",
   "version": "1.10.4"
  }
 },
 "nbformat": 4,
 "nbformat_minor": 5
}
