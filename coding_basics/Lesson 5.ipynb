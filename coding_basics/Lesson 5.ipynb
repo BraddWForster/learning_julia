{
 "cells": [
  {
   "cell_type": "code",
   "execution_count": 1,
   "id": "cb9b2d15-2658-413d-9d6d-9feca3cb203c",
   "metadata": {},
   "outputs": [],
   "source": [
    "using LinearAlgebra, Statistics"
   ]
  },
  {
   "cell_type": "code",
   "execution_count": 2,
   "id": "2e13c1eb-7396-4089-813d-b0db09bd0783",
   "metadata": {},
   "outputs": [
    {
     "name": "stdout",
     "output_type": "stream",
     "text": [
      "typeof(1) = Int64\n",
      "typeof(1.0) = Float64\n"
     ]
    }
   ],
   "source": [
    "@show typeof(1)\n",
    "@show typeof(1.0);"
   ]
  },
  {
   "cell_type": "code",
   "execution_count": 3,
   "id": "e80f101c-11bd-4b0a-ab33-19582a9b93c0",
   "metadata": {},
   "outputs": [
    {
     "data": {
      "text/plain": [
       "Int64"
      ]
     },
     "execution_count": 3,
     "metadata": {},
     "output_type": "execute_result"
    }
   ],
   "source": [
    "x = 1\n",
    "typeof(x)"
   ]
  },
  {
   "cell_type": "code",
   "execution_count": 6,
   "id": "685fc35c-af18-47d8-bcea-96a557f6a6a1",
   "metadata": {},
   "outputs": [
    {
     "name": "stdout",
     "output_type": "stream",
     "text": [
      "typeof(1.0 + 1im) = ComplexF64\n",
      "typeof(ones(2, 2)) = Matrix{Float64}\n"
     ]
    }
   ],
   "source": [
    "## Parametric types\n",
    "##\n",
    "@show typeof(1.0 +1im)\n",
    "@show typeof(ones(2,2));"
   ]
  },
  {
   "cell_type": "code",
   "execution_count": 9,
   "id": "ec77a20c-ef44-41f9-aa88-2eb65253fd0d",
   "metadata": {},
   "outputs": [
    {
     "name": "stdout",
     "output_type": "stream",
     "text": [
      "typeof(x) = Tuple{Int64, Float64, String}\n"
     ]
    }
   ],
   "source": [
    "## Tuple\n",
    "x = (1, 2.0, \"test\")\n",
    "@show typeof(x);"
   ]
  },
  {
   "cell_type": "code",
   "execution_count": 13,
   "id": "909419c0-5c3c-40a7-98f9-61650e5a064e",
   "metadata": {},
   "outputs": [
    {
     "name": "stdout",
     "output_type": "stream",
     "text": [
      "typeof(x) = @NamedTuple{a::Int64, b::Float64, c::String}\n",
      "typeof(:a) = Symbol\n"
     ]
    }
   ],
   "source": [
    "## Named tuple\n",
    "x = (a = 1, b = 2.0, c = \"test\")\n",
    "@show typeof(x)\n",
    "@show typeof(:a);"
   ]
  },
  {
   "cell_type": "code",
   "execution_count": 15,
   "id": "bd279269-e631-4664-862a-8caef4f0efdf",
   "metadata": {},
   "outputs": [
    {
     "name": "stdout",
     "output_type": "stream",
     "text": [
      "typeof(x) = Int64\n",
      "typeof(x) = Float64\n"
     ]
    }
   ],
   "source": [
    "## Variables types and values\n",
    "##\n",
    "x = 42\n",
    "@show typeof(x)\n",
    "x = 42.0\n",
    "@show typeof(x);"
   ]
  },
  {
   "cell_type": "code",
   "execution_count": 19,
   "id": "48fc0374-5cd1-4e09-a6d4-d00f65f7c0d4",
   "metadata": {},
   "outputs": [
    {
     "name": "stdout",
     "output_type": "stream",
     "text": [
      "Float64 <: Real = true\n",
      "Int64 <: Real = true\n",
      "Complex{Float64} <: Real = false\n",
      "Array <: Real = false\n"
     ]
    }
   ],
   "source": [
    "## Type hierarchy\n",
    "##\n",
    "@show Float64 <: Real\n",
    "@show Int64 <: Real\n",
    "@show Complex{Float64} <: Real;\n",
    "@show Array <: Real;"
   ]
  },
  {
   "cell_type": "code",
   "execution_count": 20,
   "id": "1803ecb1-70b5-43b3-9e9f-bd64d1734c47",
   "metadata": {},
   "outputs": [
    {
     "name": "stdout",
     "output_type": "stream",
     "text": [
      "Real <: Number = true\n",
      "Float64 <: Number = true\n",
      "Int64 <: Number = true\n",
      "Complex{Float64} <: Number = true\n"
     ]
    }
   ],
   "source": [
    "@show Real <: Number\n",
    "@show Float64 <: Number\n",
    "@show Int64 <: Number\n",
    "@show Complex{Float64} <: Number;"
   ]
  },
  {
   "cell_type": "code",
   "execution_count": 21,
   "id": "355f93bc-7e42-460f-8a45-8d53a2b8288e",
   "metadata": {},
   "outputs": [
    {
     "data": {
      "text/plain": [
       "true"
      ]
     },
     "execution_count": 21,
     "metadata": {},
     "output_type": "execute_result"
    }
   ],
   "source": [
    "Number <: Any"
   ]
  },
  {
   "cell_type": "code",
   "execution_count": 22,
   "id": "4c288d40-4a4b-472b-bf9d-3a8d472c3447",
   "metadata": {},
   "outputs": [
    {
     "name": "stdout",
     "output_type": "stream",
     "text": [
      "Int64 <: Signed <: Integer <: Real <: Number <: Any"
     ]
    }
   ],
   "source": [
    "using Base: show_supertypes  # import the function from the `Base` package\n",
    "\n",
    "show_supertypes(Int64)"
   ]
  },
  {
   "cell_type": "code",
   "execution_count": 24,
   "id": "688d2dd5-a33b-4600-8f3c-7d30f3811682",
   "metadata": {},
   "outputs": [
    {
     "name": "stdout",
     "output_type": "stream",
     "text": [
      "subtypes(Real) = Any[AbstractFloat, AbstractIrrational, Integer, Rational]\n",
      "subtypes(AbstractFloat) = Any[BigFloat, Float16, Float32, Float64]\n"
     ]
    }
   ],
   "source": [
    "@show subtypes(Real)\n",
    "@show subtypes(AbstractFloat);"
   ]
  },
  {
   "cell_type": "code",
   "execution_count": 26,
   "id": "e6287c81-8e58-45c7-a019-b8ad617e556e",
   "metadata": {},
   "outputs": [
    {
     "name": "stdout",
     "output_type": "stream",
     "text": [
      "typeof(x1) = Vector{Int64}\n",
      "typeof(x2) = Vector{Float64}\n"
     ]
    }
   ],
   "source": [
    "## Deducing and declaring types\n",
    "##\n",
    "x1 = [1, 2, 3]\n",
    "x2 = [1.0, 2.0, 3.0]\n",
    "@show typeof(x1)\n",
    "@show typeof(x2);"
   ]
  },
  {
   "cell_type": "code",
   "execution_count": 29,
   "id": "03c487da-cf3d-45b8-be7d-c1fa63eb674a",
   "metadata": {},
   "outputs": [
    {
     "name": "stdout",
     "output_type": "stream",
     "text": [
      "typeof(z) = Vector{Int64}\n"
     ]
    }
   ],
   "source": [
    "f(y) = 2y ## some function\n",
    "\n",
    "x = [1, 2, 3]\n",
    "\n",
    "z = f(x)\n",
    "\n",
    "@show typeof(z);"
   ]
  },
  {
   "cell_type": "code",
   "execution_count": 31,
   "id": "e5227ff3-af97-4934-8eda-6cd2f2dcf097",
   "metadata": {},
   "outputs": [],
   "source": [
    "## Good practises for functions and variable types\n",
    "##\n",
    "## Bad\n",
    "##\n",
    "x = [1.0, \"test\", 1]\n",
    "typeof(x);"
   ]
  },
  {
   "cell_type": "code",
   "execution_count": 33,
   "id": "56a7f77e-0ab9-4349-a5d0-342f060f2764",
   "metadata": {},
   "outputs": [
    {
     "name": "stdout",
     "output_type": "stream",
     "text": [
      "f(1) = 1.0\n",
      "f(-1) = 0\n"
     ]
    }
   ],
   "source": [
    "function f(x)\n",
    "    if x > 0\n",
    "        return 1.0\n",
    "    else\n",
    "        return 0\n",
    "    end\n",
    "end\n",
    "\n",
    "@show f(1);\n",
    "@show f(-1);"
   ]
  },
  {
   "cell_type": "code",
   "execution_count": 35,
   "id": "453c9f95-224c-492b-bd68-d4264395b457",
   "metadata": {},
   "outputs": [
    {
     "data": {
      "text/plain": [
       "2-element Vector{Float64}:\n",
       " 10.0\n",
       " 17.0"
      ]
     },
     "execution_count": 35,
     "metadata": {},
     "output_type": "execute_result"
    }
   ],
   "source": [
    "function f(x,A)\n",
    "    b = [5.0, 6.0]\n",
    "    return A*x .+b\n",
    "end\n",
    "val = f([1.0,2.0], [1.0 2.0; 3.0 4.0])"
   ]
  },
  {
   "cell_type": "code",
   "execution_count": 36,
   "id": "0dd008bc-2e61-414e-bd7d-df5f5f4cba61",
   "metadata": {},
   "outputs": [
    {
     "data": {
      "text/plain": [
       "2-element Vector{Float64}:\n",
       " 10.0\n",
       " 17.0"
      ]
     },
     "execution_count": 36,
     "metadata": {},
     "output_type": "execute_result"
    }
   ],
   "source": [
    "function f2(x::Vector{Float64}, A::Matrix{Float64})::Vector{Float64}\n",
    "    # arguement and return types\n",
    "    b::Vector{Float64} = [5.0, 6.0]\n",
    "    return A * x .+b\n",
    "end\n",
    "val = f2([1.0; 2.0], [1.0 2.0; 3.0 4.0]) "
   ]
  },
  {
   "cell_type": "code",
   "execution_count": 38,
   "id": "6e1939ba-0943-4f17-a6a3-2e1478b6cf8d",
   "metadata": {},
   "outputs": [
    {
     "name": "stdout",
     "output_type": "stream",
     "text": [
      "f([0.1; 2.0], [1 2; 3 4]) = [9.1, 14.3]\n",
      "f([0.1; 2.0], Diagonal([1.0, 2.0])) = [5.1, 10.0]\n"
     ]
    }
   ],
   "source": [
    "@show f([0.1; 2.0], [1 2; 3 4])\n",
    "@show f([0.1; 2.0], Diagonal([1.0, 2.0]));"
   ]
  },
  {
   "cell_type": "code",
   "execution_count": 39,
   "id": "80ee9214-a750-4be5-a631-0b91bc44bbf0",
   "metadata": {},
   "outputs": [],
   "source": [
    "struct Foo\n",
    "    a::Float64\n",
    "    b::Int64\n",
    "    c::Vector{Float64}\n",
    "end"
   ]
  },
  {
   "cell_type": "code",
   "execution_count": 43,
   "id": "4df22d86-d45f-44d2-889b-21e10e6e667b",
   "metadata": {},
   "outputs": [
    {
     "name": "stdout",
     "output_type": "stream",
     "text": [
      "typeof(foo) = Foo\n",
      "foo.a = 2.0\n",
      "foo.b = 3\n",
      "foo.c = [1.0, 2.0, 3.0]\n"
     ]
    }
   ],
   "source": [
    "foo = Foo(2.0, 3, [1.0, 2.0, 3.0])\n",
    "@show typeof(foo)\n",
    "@show foo.a\n",
    "@show foo.b\n",
    "@show foo.c;"
   ]
  },
  {
   "cell_type": "code",
   "execution_count": 44,
   "id": "33b72033-2fdb-4c73-b9d1-ea22963226be",
   "metadata": {},
   "outputs": [],
   "source": [
    "struct Foo2\n",
    "    a::Float64\n",
    "    b::Integer\n",
    "    c::Vector{Real}\n",
    "end"
   ]
  },
  {
   "cell_type": "code",
   "execution_count": 49,
   "id": "3103c50b-0aca-4491-980d-e774fc78e61c",
   "metadata": {},
   "outputs": [
    {
     "name": "stdout",
     "output_type": "stream",
     "text": [
      "f(foo) = 11.0\n"
     ]
    },
    {
     "data": {
      "text/plain": [
       "1×3 adjoint(::Vector{Float64}) with eltype Float64:\n",
       " 1.0  2.0  3.0"
      ]
     },
     "execution_count": 49,
     "metadata": {},
     "output_type": "execute_result"
    }
   ],
   "source": [
    "f(x) = x.a + x.b + sum(x.c)\n",
    "a = 2.0\n",
    "b = 3\n",
    "c = [1.0, 2.0, 3.0]\n",
    "foo = Foo(a, b, c);\n",
    "@show f(foo)\n",
    "a = 2\n",
    "b = 3\n",
    "c = [1.0, 2.0, 3.0]'\n",
    "# foo = Foo(a, b, c) # fails to comple\n"
   ]
  },
  {
   "cell_type": "code",
   "execution_count": 51,
   "id": "af3388d0-8eeb-40e4-af57-770faaf11dad",
   "metadata": {},
   "outputs": [
    {
     "name": "stdout",
     "output_type": "stream",
     "text": [
      "typeof(foo) = Foo3{Int64, Int64, Adjoint{Float64, Vector{Float64}}}\n",
      "f(foo) = 11.0\n"
     ]
    }
   ],
   "source": [
    "##  Declaring parametric types\n",
    "##\n",
    "struct Foo3{T1, T2, T3}\n",
    "    a::T1\n",
    "    b::T2\n",
    "    c::T3\n",
    "end\n",
    "a = 2\n",
    "b = 3\n",
    "c = [1.0, 2.0, 3.0]'\n",
    "\n",
    "foo = Foo3(a, b, c)\n",
    "@show typeof(foo)\n",
    "@show f(foo);"
   ]
  },
  {
   "cell_type": "code",
   "execution_count": 53,
   "id": "796589a9-69f7-45e7-93c6-91a279d481fd",
   "metadata": {},
   "outputs": [
    {
     "name": "stdout",
     "output_type": "stream",
     "text": [
      "typeof(foo) = Foo4{Int64, Int64, Adjoint{Float64, Vector{Float64}}}\n"
     ]
    },
    {
     "data": {
      "text/plain": [
       "11.0"
      ]
     },
     "execution_count": 53,
     "metadata": {},
     "output_type": "execute_result"
    }
   ],
   "source": [
    "struct Foo4{T1<:Real, T2<:Real, T3<:AbstractVecOrMat{<:Real}}\n",
    "    a::T1\n",
    "    b::T2\n",
    "    c::T3\n",
    "end\n",
    "foo = Foo4(a, b, c)\n",
    "@show typeof(foo)\n",
    "f(foo)"
   ]
  },
  {
   "cell_type": "code",
   "execution_count": 55,
   "id": "20b9e273-6666-4357-9cf4-e2c4bd848ea4",
   "metadata": {},
   "outputs": [
    {
     "name": "stdout",
     "output_type": "stream",
     "text": [
      "foo = Foo5(0.1, 2, [1.0, 2.0, 3.0])\n",
      "foo2 = Foo5(2.0, 2, [1.0, 2.0, 3.0])\n"
     ]
    },
    {
     "data": {
      "text/plain": [
       "8.1"
      ]
     },
     "execution_count": 55,
     "metadata": {},
     "output_type": "execute_result"
    }
   ],
   "source": [
    "##  Keyword Argument Constructors\n",
    "##\n",
    "using Base: @kwdef\n",
    "\n",
    "@kwdef struct Foo5\n",
    "    a::Float64 = 2.0  # adds a default value\n",
    "    b::Int64\n",
    "    c::Vector{Float64}\n",
    "end\n",
    "\n",
    "foo = Foo5(a = 0.1, b = 2, c = [1.0, 2.0, 3.0])\n",
    "foo2 = Foo5(c = [1.0, 2.0, 3.0], b = 2)\n",
    "\n",
    "@show foo\n",
    "@show foo2\n",
    "\n",
    "function f(x)\n",
    "    (; a, b, c) = x  # unpacks any struct or named tuple\n",
    "    return a + b + sum(c)\n",
    "end\n",
    "\n",
    "f(foo)"
   ]
  },
  {
   "cell_type": "code",
   "execution_count": 81,
   "id": "dfebc6a7-ec1e-4237-a149-4e783e5e9cbd",
   "metadata": {},
   "outputs": [
    {
     "name": "stdout",
     "output_type": "stream",
     "text": [
      "typeof([1.0, 2.0, 3.0]) = Vector{Float64}\n",
      "eltype([1.0, 2.0, 3.0]) = Float64\n",
      "typeof(ones(3)) = Vector{Float64}\n",
      "typeof(ones(Int64, 3)) = Vector{Int64}\n",
      "typeof(zeros(3)) = Vector{Float64}\n",
      "typeof(zeros(Int64, 3)) = Vector{Int64}\n",
      "typeof(1) = Int64\n",
      "typeof(1.0) = Float64\n",
      "typeof(one(BigFloat)) = BigFloat\n",
      "typeof(zero(BigFloat)) = BigFloat\n",
      "typeof(one(x)) = BigFloat\n",
      "typeof(zero(x)) = BigFloat\n",
      "typeof(g(x)) = BigFloat\n"
     ]
    }
   ],
   "source": [
    "##  Tips and tricks for writing generic functions\n",
    "##\n",
    "##  Do not declare types when declaring variables or functions unless necessary\n",
    "##\n",
    "##  Bad\n",
    "##\n",
    "x = [5.0, 6.0, 2.1]\n",
    "\n",
    "function g(x::Array{Float64, 1})  # not generic\n",
    "    y = zeros(length(x))  # not generic, hidden float!\n",
    "    z = Diagonal(ones(length(x)))  # not generic, hidden float!\n",
    "    q = ones(length(x))\n",
    "    y .= z * x + q\n",
    "    return y\n",
    "end\n",
    "\n",
    "g(x)\n",
    "\n",
    "##  Good\n",
    "##\n",
    "function g2(x)  # or 'x::AbstractVector'\n",
    "    y = similar(x)\n",
    "    z = I\n",
    "    q = ones(eltype(x), length(x))  # or 'fill(one(x), length(x))'\n",
    "    y .= z * x + q\n",
    "    return y\n",
    "end\n",
    "\n",
    "g2(x)\n",
    "\n",
    "\n",
    "##  Preallocate related vectors wher possible and use eltype or typeof\n",
    "##\n",
    "function g(x)\n",
    "    y = similar(x)\n",
    "    for i in eachindex(x)\n",
    "        y[i] = x[i]^2  # could broadcast\n",
    "    end\n",
    "return y\n",
    "end\n",
    "\n",
    "g([BigInt(1), BigInt(2)])\n",
    "\n",
    "\n",
    "##  use typeof or eltype\n",
    "##\n",
    "@show typeof([1.0, 2.0, 3.0])\n",
    "@show eltype([1.0,2.0, 3.0]);\n",
    "\n",
    "\n",
    "##  Beware of hidden floating points\n",
    "##\n",
    "@show typeof(ones(3))\n",
    "@show typeof(ones(Int64,3))\n",
    "@show typeof(zeros(3))\n",
    "@show typeof(zeros(Int64,3))\n",
    "\n",
    "\n",
    "##  Use one and zero\n",
    "##\n",
    "@show typeof(1)\n",
    "@show typeof(1.0)\n",
    "@show typeof(one(BigFloat))  # gets multiplicative identity, passing in type\n",
    "@show typeof(zero(BigFloat))\n",
    "\n",
    "x = BigFloat(2)\n",
    "\n",
    "@show typeof(one(x))\n",
    "@show typeof(zero(x))\n",
    "\n",
    "\n",
    "##  Type promotion\n",
    "##\n",
    "##  Acceptable\n",
    "##\n",
    "function g(x::AbstractFloat)\n",
    "    return x + 1.0  # assumes that '1.0' can be converted into something compatible with 'typeof(x)'\n",
    "end\n",
    "\n",
    "x = BigFloat(1.0)\n",
    "\n",
    "@show typeof(g(x));"
   ]
  },
  {
   "cell_type": "markdown",
   "id": "a8350a25-b827-4904-abe8-83b0b78cd55f",
   "metadata": {},
   "source": [
    "## Introduction to multiple dispatch\n",
    "\n",
    "Multiple dispatch is where the same function can do different things depending on the underlying types."
   ]
  },
  {
   "cell_type": "code",
   "execution_count": 86,
   "id": "a39fd222-6db1-4ba9-9cde-89bd4da89bab",
   "metadata": {},
   "outputs": [
    {
     "name": "stdout",
     "output_type": "stream",
     "text": [
      "abs(-1) = 1\n",
      "abs(-1.0) = 1.0\n",
      "abs(0.0 - 1.0im) = 1.0\n"
     ]
    }
   ],
   "source": [
    "@show abs(-1)\n",
    "@show abs(-1.0)\n",
    "@show abs(0.0 - 1.0im)\n",
    ";"
   ]
  },
  {
   "cell_type": "markdown",
   "id": "79d72db0-05b5-4236-b85e-1102760dd628",
   "metadata": {},
   "source": [
    "In the above cases, the `abs` function has a specialised code depending on the btype passed in.\n",
    "\n",
    "Let us see how this works by defining our own `abs` function."
   ]
  },
  {
   "cell_type": "code",
   "execution_count": 96,
   "id": "c338d911-ad1f-4cee-90d3-aea72eff0dca",
   "metadata": {},
   "outputs": [
    {
     "name": "stdout",
     "output_type": "stream",
     "text": [
      "ourabs(-1) = 1\n",
      "ourabs(-1.0) = 1.0\n",
      "ourabs(1.0 - 2.0im) = 2.23606797749979\n",
      "typeof(x) = Rational{Int64}\n",
      "ourabs(x) = 2//3\n"
     ]
    }
   ],
   "source": [
    "function ourabs(x::Real)\n",
    "    if x > zero(x)    # note, not 0!\n",
    "        return x\n",
    "    else \n",
    "        return -x\n",
    "    end\n",
    "end\n",
    "\n",
    "function ourabs(x::Complex)\n",
    "    sqrt(real(x)^2 + imag(x)^2)\n",
    "end\n",
    "\n",
    "@show ourabs(-1)\n",
    "@show ourabs(-1.0)\n",
    "@show ourabs(1.0 - 2.0im)\n",
    "x = -2//3\n",
    "@show typeof(x)\n",
    "@show ourabs(x);"
   ]
  },
  {
   "cell_type": "markdown",
   "id": "2ec92962-de64-4cae-a46a-aa8398fe14c2",
   "metadata": {},
   "source": [
    "## Multiple dispath in algorithms\n",
    "Showing how forward dispath in algorithm s work using thew approximate derivative from forward differences.\n",
    "$$f'(x_n) \\approx \\frac{f(x_{n+1}) - f(x_n)}{x_{n+1} - x_n}$$"
   ]
  },
  {
   "cell_type": "code",
   "execution_count": 102,
   "id": "0aecba5c-c326-4b4d-985d-3d953b5e07d6",
   "metadata": {},
   "outputs": [
    {
     "name": "stdout",
     "output_type": "stream",
     "text": [
      "typeof(x) = StepRangeLen{Float64, Base.TwicePrecision{Float64}, Base.TwicePrecision{Float64}, Int64}\n",
      "typeof(x_2) = StepRange{Int64, Int64}\n",
      "supertype(typeof(x)) = AbstractRange{Float64}\n"
     ]
    }
   ],
   "source": [
    "x = range(0.0, 1.0, length = 20)\n",
    "x_2 = 1:1:20    # if intergers\n",
    "@show typeof(x)\n",
    "@show typeof(x_2)\n",
    "@show supertype(typeof(x));"
   ]
  },
  {
   "cell_type": "markdown",
   "id": "b471eb6a-88f9-4ea3-9549-082c18a762d2",
   "metadata": {},
   "source": [
    "To see the entire tree about a particular type, use `show_supertypes`"
   ]
  },
  {
   "cell_type": "code",
   "execution_count": 103,
   "id": "102e9df0-ea29-4a47-b74f-486bf4100a16",
   "metadata": {},
   "outputs": [
    {
     "name": "stdout",
     "output_type": "stream",
     "text": [
      "StepRangeLen{Float64, Base.TwicePrecision{Float64}, Base.TwicePrecision{Float64}, Int64} <: AbstractRange{Float64} <: AbstractVector{Float64} <: Any"
     ]
    }
   ],
   "source": [
    "show_supertypes(typeof(x))"
   ]
  },
  {
   "cell_type": "code",
   "execution_count": 104,
   "id": "bbe7c848-37a6-42a7-b9df-1ec12fa79929",
   "metadata": {},
   "outputs": [
    {
     "name": "stdout",
     "output_type": "stream",
     "text": [
      "StepRange{Int64, Int64} <: OrdinalRange{Int64, Int64} <: AbstractRange{Int64} <: AbstractVector{Int64} <: Any"
     ]
    }
   ],
   "source": [
    "show_supertypes(typeof(x_2))"
   ]
  },
  {
   "cell_type": "code",
   "execution_count": 105,
   "id": "a958c4e5-698a-4baa-adf2-aa6da537c679",
   "metadata": {},
   "outputs": [
    {
     "name": "stdout",
     "output_type": "stream",
     "text": [
      "typeof(x) <: AbstractRange = true\n"
     ]
    },
    {
     "data": {
      "text/plain": [
       "true"
      ]
     },
     "execution_count": 105,
     "metadata": {},
     "output_type": "execute_result"
    }
   ],
   "source": [
    "@show typeof(x) <: AbstractRange"
   ]
  },
  {
   "cell_type": "code",
   "execution_count": 106,
   "id": "8b429012-517a-45ba-bab4-9fb1bd8558bc",
   "metadata": {},
   "outputs": [
    {
     "name": "stdout",
     "output_type": "stream",
     "text": [
      "typeof(x_2) <: AbstractRange = true\n"
     ]
    }
   ],
   "source": [
    "@show typeof(x_2) <: AbstractRange;"
   ]
  },
  {
   "cell_type": "code",
   "execution_count": 111,
   "id": "4dbd1080-c0ab-4dc6-a721-3a31ff123146",
   "metadata": {},
   "outputs": [
    {
     "name": "stdout",
     "output_type": "stream",
     "text": [
      "minimum(x) = 0.0\n",
      "maximum(x) = 1.0\n",
      "length(x) = 20\n",
      "step(x) = 0.05263157894736842\n",
      "size(x) = (20,)\n"
     ]
    }
   ],
   "source": [
    "@show minimum(x)\n",
    "@show maximum(x)\n",
    "@show length(x)\n",
    "@show step(x)\n",
    "@show size(x);"
   ]
  },
  {
   "cell_type": "markdown",
   "id": "adef1a87-789d-4e85-8dde-e61a25418d07",
   "metadata": {},
   "source": [
    "## Using `diff`\n"
   ]
  },
  {
   "cell_type": "code",
   "execution_count": 126,
   "id": "7e5ca4f7-38d8-489c-8ee3-3ae1aab1c4b6",
   "metadata": {},
   "outputs": [
    {
     "data": {
      "text/plain": [
       "2×1 Matrix{Int64}:\n",
       "  2\n",
       " 10"
      ]
     },
     "execution_count": 126,
     "metadata": {},
     "output_type": "execute_result"
    }
   ],
   "source": [
    "a = [2 4; 6 16]\n",
    "diff(a, dims = 2)"
   ]
  },
  {
   "cell_type": "code",
   "execution_count": 127,
   "id": "2ef7c3a1-4e96-40bf-85a5-b5fdac759a46",
   "metadata": {},
   "outputs": [
    {
     "data": {
      "text/plain": [
       "20-element Vector{Float64}:\n",
       " 0.0\n",
       " 0.0027700831024930744\n",
       " 0.011080332409972297\n",
       " 0.02493074792243767\n",
       " 0.04432132963988919\n",
       " 0.06925207756232686\n",
       " 0.09972299168975068\n",
       " 0.13573407202216065\n",
       " 0.17728531855955676\n",
       " 0.22437673130193903\n",
       " 0.27700831024930744\n",
       " 0.33518005540166207\n",
       " 0.39889196675900274\n",
       " 0.46814404432132967\n",
       " 0.5429362880886426\n",
       " 0.6232686980609419\n",
       " 0.709141274238227\n",
       " 0.8005540166204986\n",
       " 0.8975069252077561\n",
       " 1.0"
      ]
     },
     "execution_count": 127,
     "metadata": {},
     "output_type": "execute_result"
    }
   ],
   "source": [
    "f(x) = x^2\n",
    "f_x = f.(x)"
   ]
  },
  {
   "cell_type": "code",
   "execution_count": 129,
   "id": "ffecb106-6633-408e-a38c-176fbf30ed21",
   "metadata": {},
   "outputs": [
    {
     "data": {
      "text/plain": [
       "slopes (generic function with 1 method)"
      ]
     },
     "execution_count": 129,
     "metadata": {},
     "output_type": "execute_result"
    }
   ],
   "source": [
    "slopes(f_x::AbstractVector, x::AbstractRange) = diff(f_x) / step(x)"
   ]
  },
  {
   "cell_type": "code",
   "execution_count": 135,
   "id": "a9186f92-3b20-497a-b413-9acd8e8fd108",
   "metadata": {},
   "outputs": [
    {
     "name": "stdout",
     "output_type": "stream",
     "text": [
      "f_x[1:2] = [0.0, 0.0027700831024930744]\n",
      "(diff(f_x))[1:2] = [0.0027700831024930744, 0.008310249307479223]\n"
     ]
    }
   ],
   "source": [
    "diff(f_x)\n",
    "@show f_x[1:2,]\n",
    "@show diff(f_x)[1:2,];"
   ]
  },
  {
   "cell_type": "code",
   "execution_count": 148,
   "id": "42691638-0cb3-47ce-8953-06178c518deb",
   "metadata": {},
   "outputs": [
    {
     "data": {
      "image/png": "[encoded data removed]",
      "image/svg+xml": [
       "<?xml version=\"1.0\" encoding=\"utf-8\"?>\n",
       "<svg xmlns=\"http://www.w3.org/2000/svg\" xmlns:xlink=\"http://www.w3.org/1999/xlink\" width=\"600\" height=\"400\" viewBox=\"0 0 2400 1600\">\n",
       "<defs>\n",
       "  <clipPath id=\"clip680\">\n",
       "    <rect x=\"0\" y=\"0\" width=\"2400\" height=\"1600\"/>\n",
       "  </clipPath>\n",
       "</defs>\n",
       "<path clip-path=\"url(#clip680)\" d=\"M0 1600 L2400 1600 L2400 0 L0 0  Z\" fill=\"#ffffff\" fill-rule=\"evenodd\" fill-opacity=\"1\"/>\n",
       "<defs>\n",
       "  <clipPath id=\"clip681\">\n",
       "    <rect x=\"480\" y=\"0\" width=\"1681\" height=\"1600\"/>\n",
       "  </clipPath>\n",
       "</defs>\n",
       "<path clip-path=\"url(#clip680)\" d=\"M193.936 1486.45 L2352.76 1486.45 L2352.76 47.2441 L193.936 47.2441  Z\" fill=\"#ffffff\" fill-rule=\"evenodd\" fill-opacity=\"1\"/>\n",
       "<defs>\n",
       "  <clipPath id=\"clip682\">\n",
       "    <rect x=\"193\" y=\"47\" width=\"2160\" height=\"1440\"/>\n",
       "  </clipPath>\n",
       "</defs>\n",
       "<polyline clip-path=\"url(#clip682)\" style=\"stroke:#000000; stroke-linecap:round; stroke-linejoin:round; stroke-width:2; stroke-opacity:0.1; fill:none\" points=\"255.035,1486.45 255.035,47.2441 \"/>\n",
       "<polyline clip-path=\"url(#clip682)\" style=\"stroke:#000000; stroke-linecap:round; stroke-linejoin:round; stroke-width:2; stroke-opacity:0.1; fill:none\" points=\"777.246,1486.45 777.246,47.2441 \"/>\n",
       "<polyline clip-path=\"url(#clip682)\" style=\"stroke:#000000; stroke-linecap:round; stroke-linejoin:round; stroke-width:2; stroke-opacity:0.1; fill:none\" points=\"1299.46,1486.45 1299.46,47.2441 \"/>\n",
       "<polyline clip-path=\"url(#clip682)\" style=\"stroke:#000000; stroke-linecap:round; stroke-linejoin:round; stroke-width:2; stroke-opacity:0.1; fill:none\" points=\"1821.67,1486.45 1821.67,47.2441 \"/>\n",
       "<polyline clip-path=\"url(#clip682)\" style=\"stroke:#000000; stroke-linecap:round; stroke-linejoin:round; stroke-width:2; stroke-opacity:0.1; fill:none\" points=\"2343.88,1486.45 2343.88,47.2441 \"/>\n",
       "<polyline clip-path=\"url(#clip680)\" style=\"stroke:#000000; stroke-linecap:round; stroke-linejoin:round; stroke-width:4; stroke-opacity:1; fill:none\" points=\"193.936,1486.45 2352.76,1486.45 \"/>\n",
       "<polyline clip-path=\"url(#clip680)\" style=\"stroke:#000000; stroke-linecap:round; stroke-linejoin:round; stroke-width:4; stroke-opacity:1; fill:none\" points=\"255.035,1486.45 255.035,1467.55 \"/>\n",
       "<polyline clip-path=\"url(#clip680)\" style=\"stroke:#000000; stroke-linecap:round; stroke-linejoin:round; stroke-width:4; stroke-opacity:1; fill:none\" points=\"777.246,1486.45 777.246,1467.55 \"/>\n",
       "<polyline clip-path=\"url(#clip680)\" style=\"stroke:#000000; stroke-linecap:round; stroke-linejoin:round; stroke-width:4; stroke-opacity:1; fill:none\" points=\"1299.46,1486.45 1299.46,1467.55 \"/>\n",
       "<polyline clip-path=\"url(#clip680)\" style=\"stroke:#000000; stroke-linecap:round; stroke-linejoin:round; stroke-width:4; stroke-opacity:1; fill:none\" points=\"1821.67,1486.45 1821.67,1467.55 \"/>\n",
       "<polyline clip-path=\"url(#clip680)\" style=\"stroke:#000000; stroke-linecap:round; stroke-linejoin:round; stroke-width:4; stroke-opacity:1; fill:none\" points=\"2343.88,1486.45 2343.88,1467.55 \"/>\n",
       "<path clip-path=\"url(#clip680)\" d=\"M255.035 1517.37 Q251.424 1517.37 249.595 1520.93 Q247.789 1524.47 247.789 1531.6 Q247.789 1538.71 249.595 1542.27 Q251.424 1545.82 255.035 1545.82 Q258.669 1545.82 260.474 1542.27 Q262.303 1538.71 262.303 1531.6 Q262.303 1524.47 260.474 1520.93 Q258.669 1517.37 255.035 1517.37 M255.035 1513.66 Q260.845 1513.66 263.9 1518.27 Q266.979 1522.85 266.979 1531.6 Q266.979 1540.33 263.9 1544.94 Q260.845 1549.52 255.035 1549.52 Q249.225 1549.52 246.146 1544.94 Q243.09 1540.33 243.09 1531.6 Q243.09 1522.85 246.146 1518.27 Q249.225 1513.66 255.035 1513.66 Z\" fill=\"#000000\" fill-rule=\"nonzero\" fill-opacity=\"1\" /><path clip-path=\"url(#clip680)\" d=\"M767.628 1544.91 L775.266 1544.91 L775.266 1518.55 L766.956 1520.21 L766.956 1515.95 L775.22 1514.29 L779.896 1514.29 L779.896 1544.91 L787.535 1544.91 L787.535 1548.85 L767.628 1548.85 L767.628 1544.91 Z\" fill=\"#000000\" fill-rule=\"nonzero\" fill-opacity=\"1\" /><path clip-path=\"url(#clip680)\" d=\"M1294.11 1544.91 L1310.43 1544.91 L1310.43 1548.85 L1288.48 1548.85 L1288.48 1544.91 Q1291.15 1542.16 1295.73 1537.53 Q1300.34 1532.88 1301.52 1531.53 Q1303.76 1529.01 1304.64 1527.27 Q1305.54 1525.51 1305.54 1523.82 Q1305.54 1521.07 1303.6 1519.33 Q1301.68 1517.6 1298.58 1517.6 Q1296.38 1517.6 1293.92 1518.36 Q1291.49 1519.13 1288.72 1520.68 L1288.72 1515.95 Q1291.54 1514.82 1293.99 1514.24 Q1296.45 1513.66 1298.48 1513.66 Q1303.85 1513.66 1307.05 1516.35 Q1310.24 1519.03 1310.24 1523.52 Q1310.24 1525.65 1309.43 1527.57 Q1308.65 1529.47 1306.54 1532.07 Q1305.96 1532.74 1302.86 1535.95 Q1299.76 1539.15 1294.11 1544.91 Z\" fill=\"#000000\" fill-rule=\"nonzero\" fill-opacity=\"1\" /><path clip-path=\"url(#clip680)\" d=\"M1825.92 1530.21 Q1829.27 1530.93 1831.15 1533.2 Q1833.04 1535.47 1833.04 1538.8 Q1833.04 1543.92 1829.53 1546.72 Q1826.01 1549.52 1819.53 1549.52 Q1817.35 1549.52 1815.04 1549.08 Q1812.74 1548.66 1810.29 1547.81 L1810.29 1543.29 Q1812.23 1544.43 1814.55 1545.01 Q1816.86 1545.58 1819.39 1545.58 Q1823.79 1545.58 1826.08 1543.85 Q1828.39 1542.11 1828.39 1538.8 Q1828.39 1535.75 1826.24 1534.03 Q1824.11 1532.3 1820.29 1532.3 L1816.26 1532.3 L1816.26 1528.45 L1820.48 1528.45 Q1823.92 1528.45 1825.75 1527.09 Q1827.58 1525.7 1827.58 1523.11 Q1827.58 1520.45 1825.68 1519.03 Q1823.81 1517.6 1820.29 1517.6 Q1818.37 1517.6 1816.17 1518.01 Q1813.97 1518.43 1811.33 1519.31 L1811.33 1515.14 Q1813.99 1514.4 1816.31 1514.03 Q1818.65 1513.66 1820.71 1513.66 Q1826.03 1513.66 1829.13 1516.09 Q1832.23 1518.5 1832.23 1522.62 Q1832.23 1525.49 1830.59 1527.48 Q1828.95 1529.45 1825.92 1530.21 Z\" fill=\"#000000\" fill-rule=\"nonzero\" fill-opacity=\"1\" /><path clip-path=\"url(#clip680)\" d=\"M2346.89 1518.36 L2335.08 1536.81 L2346.89 1536.81 L2346.89 1518.36 M2345.66 1514.29 L2351.54 1514.29 L2351.54 1536.81 L2356.47 1536.81 L2356.47 1540.7 L2351.54 1540.7 L2351.54 1548.85 L2346.89 1548.85 L2346.89 1540.7 L2331.29 1540.7 L2331.29 1536.19 L2345.66 1514.29 Z\" fill=\"#000000\" fill-rule=\"nonzero\" fill-opacity=\"1\" /><polyline clip-path=\"url(#clip682)\" style=\"stroke:#000000; stroke-linecap:round; stroke-linejoin:round; stroke-width:2; stroke-opacity:0.1; fill:none\" points=\"193.936,1446.02 2352.76,1446.02 \"/>\n",
       "<polyline clip-path=\"url(#clip682)\" style=\"stroke:#000000; stroke-linecap:round; stroke-linejoin:round; stroke-width:2; stroke-opacity:0.1; fill:none\" points=\"193.936,1106.51 2352.76,1106.51 \"/>\n",
       "<polyline clip-path=\"url(#clip682)\" style=\"stroke:#000000; stroke-linecap:round; stroke-linejoin:round; stroke-width:2; stroke-opacity:0.1; fill:none\" points=\"193.936,766.999 2352.76,766.999 \"/>\n",
       "<polyline clip-path=\"url(#clip682)\" style=\"stroke:#000000; stroke-linecap:round; stroke-linejoin:round; stroke-width:2; stroke-opacity:0.1; fill:none\" points=\"193.936,427.488 2352.76,427.488 \"/>\n",
       "<polyline clip-path=\"url(#clip682)\" style=\"stroke:#000000; stroke-linecap:round; stroke-linejoin:round; stroke-width:2; stroke-opacity:0.1; fill:none\" points=\"193.936,87.9763 2352.76,87.9763 \"/>\n",
       "<polyline clip-path=\"url(#clip680)\" style=\"stroke:#000000; stroke-linecap:round; stroke-linejoin:round; stroke-width:4; stroke-opacity:1; fill:none\" points=\"193.936,1486.45 193.936,47.2441 \"/>\n",
       "<polyline clip-path=\"url(#clip680)\" style=\"stroke:#000000; stroke-linecap:round; stroke-linejoin:round; stroke-width:4; stroke-opacity:1; fill:none\" points=\"193.936,1446.02 212.834,1446.02 \"/>\n",
       "<polyline clip-path=\"url(#clip680)\" style=\"stroke:#000000; stroke-linecap:round; stroke-linejoin:round; stroke-width:4; stroke-opacity:1; fill:none\" points=\"193.936,1106.51 212.834,1106.51 \"/>\n",
       "<polyline clip-path=\"url(#clip680)\" style=\"stroke:#000000; stroke-linecap:round; stroke-linejoin:round; stroke-width:4; stroke-opacity:1; fill:none\" points=\"193.936,766.999 212.834,766.999 \"/>\n",
       "<polyline clip-path=\"url(#clip680)\" style=\"stroke:#000000; stroke-linecap:round; stroke-linejoin:round; stroke-width:4; stroke-opacity:1; fill:none\" points=\"193.936,427.488 212.834,427.488 \"/>\n",
       "<polyline clip-path=\"url(#clip680)\" style=\"stroke:#000000; stroke-linecap:round; stroke-linejoin:round; stroke-width:4; stroke-opacity:1; fill:none\" points=\"193.936,87.9763 212.834,87.9763 \"/>\n",
       "<path clip-path=\"url(#clip680)\" d=\"M50.9921 1446.47 L80.6679 1446.47 L80.6679 1450.41 L50.9921 1450.41 L50.9921 1446.47 Z\" fill=\"#000000\" fill-rule=\"nonzero\" fill-opacity=\"1\" /><path clip-path=\"url(#clip680)\" d=\"M91.5706 1459.37 L99.2095 1459.37 L99.2095 1433 L90.8993 1434.67 L90.8993 1430.41 L99.1632 1428.74 L103.839 1428.74 L103.839 1459.37 L111.478 1459.37 L111.478 1463.3 L91.5706 1463.3 L91.5706 1459.37 Z\" fill=\"#000000\" fill-rule=\"nonzero\" fill-opacity=\"1\" /><path clip-path=\"url(#clip680)\" d=\"M120.922 1457.42 L125.807 1457.42 L125.807 1463.3 L120.922 1463.3 L120.922 1457.42 Z\" fill=\"#000000\" fill-rule=\"nonzero\" fill-opacity=\"1\" /><path clip-path=\"url(#clip680)\" d=\"M145.992 1431.82 Q142.381 1431.82 140.552 1435.39 Q138.746 1438.93 138.746 1446.06 Q138.746 1453.16 140.552 1456.73 Q142.381 1460.27 145.992 1460.27 Q149.626 1460.27 151.431 1456.73 Q153.26 1453.16 153.26 1446.06 Q153.26 1438.93 151.431 1435.39 Q149.626 1431.82 145.992 1431.82 M145.992 1428.12 Q151.802 1428.12 154.857 1432.72 Q157.936 1437.31 157.936 1446.06 Q157.936 1454.78 154.857 1459.39 Q151.802 1463.97 145.992 1463.97 Q140.181 1463.97 137.103 1459.39 Q134.047 1454.78 134.047 1446.06 Q134.047 1437.31 137.103 1432.72 Q140.181 1428.12 145.992 1428.12 Z\" fill=\"#000000\" fill-rule=\"nonzero\" fill-opacity=\"1\" /><path clip-path=\"url(#clip680)\" d=\"M51.9875 1106.96 L81.6633 1106.96 L81.6633 1110.9 L51.9875 1110.9 L51.9875 1106.96 Z\" fill=\"#000000\" fill-rule=\"nonzero\" fill-opacity=\"1\" /><path clip-path=\"url(#clip680)\" d=\"M101.756 1092.31 Q98.1447 1092.31 96.316 1095.87 Q94.5104 1099.42 94.5104 1106.55 Q94.5104 1113.65 96.316 1117.22 Q98.1447 1120.76 101.756 1120.76 Q105.39 1120.76 107.196 1117.22 Q109.024 1113.65 109.024 1106.55 Q109.024 1099.42 107.196 1095.87 Q105.39 1092.31 101.756 1092.31 M101.756 1088.61 Q107.566 1088.61 110.621 1093.21 Q113.7 1097.8 113.7 1106.55 Q113.7 1115.27 110.621 1119.88 Q107.566 1124.46 101.756 1124.46 Q95.9456 1124.46 92.8669 1119.88 Q89.8114 1115.27 89.8114 1106.55 Q89.8114 1097.8 92.8669 1093.21 Q95.9456 1088.61 101.756 1088.61 Z\" fill=\"#000000\" fill-rule=\"nonzero\" fill-opacity=\"1\" /><path clip-path=\"url(#clip680)\" d=\"M121.918 1117.91 L126.802 1117.91 L126.802 1123.79 L121.918 1123.79 L121.918 1117.91 Z\" fill=\"#000000\" fill-rule=\"nonzero\" fill-opacity=\"1\" /><path clip-path=\"url(#clip680)\" d=\"M137.033 1089.23 L155.39 1089.23 L155.39 1093.17 L141.316 1093.17 L141.316 1101.64 Q142.334 1101.29 143.353 1101.13 Q144.371 1100.94 145.39 1100.94 Q151.177 1100.94 154.556 1104.12 Q157.936 1107.29 157.936 1112.7 Q157.936 1118.28 154.464 1121.38 Q150.992 1124.46 144.672 1124.46 Q142.496 1124.46 140.228 1124.09 Q137.982 1123.72 135.575 1122.98 L135.575 1118.28 Q137.658 1119.42 139.881 1119.97 Q142.103 1120.53 144.58 1120.53 Q148.584 1120.53 150.922 1118.42 Q153.26 1116.31 153.26 1112.7 Q153.26 1109.09 150.922 1106.99 Q148.584 1104.88 144.58 1104.88 Q142.705 1104.88 140.83 1105.3 Q138.978 1105.71 137.033 1106.59 L137.033 1089.23 Z\" fill=\"#000000\" fill-rule=\"nonzero\" fill-opacity=\"1\" /><path clip-path=\"url(#clip680)\" d=\"M100.76 752.798 Q97.1493 752.798 95.3206 756.363 Q93.515 759.905 93.515 767.034 Q93.515 774.141 95.3206 777.705 Q97.1493 781.247 100.76 781.247 Q104.395 781.247 106.2 777.705 Q108.029 774.141 108.029 767.034 Q108.029 759.905 106.2 756.363 Q104.395 752.798 100.76 752.798 M100.76 749.094 Q106.571 749.094 109.626 753.701 Q112.705 758.284 112.705 767.034 Q112.705 775.761 109.626 780.367 Q106.571 784.951 100.76 784.951 Q94.9502 784.951 91.8715 780.367 Q88.816 775.761 88.816 767.034 Q88.816 758.284 91.8715 753.701 Q94.9502 749.094 100.76 749.094 Z\" fill=\"#000000\" fill-rule=\"nonzero\" fill-opacity=\"1\" /><path clip-path=\"url(#clip680)\" d=\"M120.922 778.4 L125.807 778.4 L125.807 784.279 L120.922 784.279 L120.922 778.4 Z\" fill=\"#000000\" fill-rule=\"nonzero\" fill-opacity=\"1\" /><path clip-path=\"url(#clip680)\" d=\"M145.992 752.798 Q142.381 752.798 140.552 756.363 Q138.746 759.905 138.746 767.034 Q138.746 774.141 140.552 777.705 Q142.381 781.247 145.992 781.247 Q149.626 781.247 151.431 777.705 Q153.26 774.141 153.26 767.034 Q153.26 759.905 151.431 756.363 Q149.626 752.798 145.992 752.798 M145.992 749.094 Q151.802 749.094 154.857 753.701 Q157.936 758.284 157.936 767.034 Q157.936 775.761 154.857 780.367 Q151.802 784.951 145.992 784.951 Q140.181 784.951 137.103 780.367 Q134.047 775.761 134.047 767.034 Q134.047 758.284 137.103 753.701 Q140.181 749.094 145.992 749.094 Z\" fill=\"#000000\" fill-rule=\"nonzero\" fill-opacity=\"1\" /><path clip-path=\"url(#clip680)\" d=\"M101.756 413.287 Q98.1447 413.287 96.316 416.851 Q94.5104 420.393 94.5104 427.523 Q94.5104 434.629 96.316 438.194 Q98.1447 441.735 101.756 441.735 Q105.39 441.735 107.196 438.194 Q109.024 434.629 109.024 427.523 Q109.024 420.393 107.196 416.851 Q105.39 413.287 101.756 413.287 M101.756 409.583 Q107.566 409.583 110.621 414.189 Q113.7 418.773 113.7 427.523 Q113.7 436.249 110.621 440.856 Q107.566 445.439 101.756 445.439 Q95.9456 445.439 92.8669 440.856 Q89.8114 436.249 89.8114 427.523 Q89.8114 418.773 92.8669 414.189 Q95.9456 409.583 101.756 409.583 Z\" fill=\"#000000\" fill-rule=\"nonzero\" fill-opacity=\"1\" /><path clip-path=\"url(#clip680)\" d=\"M121.918 438.888 L126.802 438.888 L126.802 444.768 L121.918 444.768 L121.918 438.888 Z\" fill=\"#000000\" fill-rule=\"nonzero\" fill-opacity=\"1\" /><path clip-path=\"url(#clip680)\" d=\"M137.033 410.208 L155.39 410.208 L155.39 414.143 L141.316 414.143 L141.316 422.615 Q142.334 422.268 143.353 422.106 Q144.371 421.921 145.39 421.921 Q151.177 421.921 154.556 425.092 Q157.936 428.263 157.936 433.68 Q157.936 439.259 154.464 442.36 Q150.992 445.439 144.672 445.439 Q142.496 445.439 140.228 445.069 Q137.982 444.698 135.575 443.958 L135.575 439.259 Q137.658 440.393 139.881 440.948 Q142.103 441.504 144.58 441.504 Q148.584 441.504 150.922 439.398 Q153.26 437.291 153.26 433.68 Q153.26 430.069 150.922 427.962 Q148.584 425.856 144.58 425.856 Q142.705 425.856 140.83 426.273 Q138.978 426.689 137.033 427.569 L137.033 410.208 Z\" fill=\"#000000\" fill-rule=\"nonzero\" fill-opacity=\"1\" /><path clip-path=\"url(#clip680)\" d=\"M91.5706 101.321 L99.2095 101.321 L99.2095 74.9555 L90.8993 76.6222 L90.8993 72.3629 L99.1632 70.6963 L103.839 70.6963 L103.839 101.321 L111.478 101.321 L111.478 105.256 L91.5706 105.256 L91.5706 101.321 Z\" fill=\"#000000\" fill-rule=\"nonzero\" fill-opacity=\"1\" /><path clip-path=\"url(#clip680)\" d=\"M120.922 99.3767 L125.807 99.3767 L125.807 105.256 L120.922 105.256 L120.922 99.3767 Z\" fill=\"#000000\" fill-rule=\"nonzero\" fill-opacity=\"1\" /><path clip-path=\"url(#clip680)\" d=\"M145.992 73.775 Q142.381 73.775 140.552 77.3398 Q138.746 80.8814 138.746 88.011 Q138.746 95.1174 140.552 98.6822 Q142.381 102.224 145.992 102.224 Q149.626 102.224 151.431 98.6822 Q153.26 95.1174 153.26 88.011 Q153.26 80.8814 151.431 77.3398 Q149.626 73.775 145.992 73.775 M145.992 70.0713 Q151.802 70.0713 154.857 74.6777 Q157.936 79.261 157.936 88.011 Q157.936 96.7378 154.857 101.344 Q151.802 105.928 145.992 105.928 Q140.181 105.928 137.103 101.344 Q134.047 96.7378 134.047 88.011 Q134.047 79.261 137.103 74.6777 Q140.181 70.0713 145.992 70.0713 Z\" fill=\"#000000\" fill-rule=\"nonzero\" fill-opacity=\"1\" /><polyline clip-path=\"url(#clip682)\" style=\"stroke:#009af9; stroke-linecap:round; stroke-linejoin:round; stroke-width:4; stroke-opacity:1; fill:none\" points=\"255.035,87.9763 307.256,91.3686 359.477,101.512 411.698,118.304 463.919,141.578 516.14,171.101 568.361,206.577 620.582,247.654 672.803,293.919 725.024,344.912 777.246,400.122 829.467,458.997 881.688,520.95 933.909,585.362 986.13,651.588 1038.35,718.967 1090.57,786.827 1142.79,854.488 1195.01,921.275 1247.24,986.521 1299.46,1049.57 1351.68,1109.8 1403.9,1166.61 1456.12,1219.42 1508.34,1267.71 1560.56,1310.99 1612.78,1348.85 1665,1380.89 1717.23,1406.79 1769.45,1426.3 1821.67,1439.23 1873.89,1445.44 1926.11,1444.86 1978.33,1437.52 2030.55,1423.48 2082.77,1402.88 2134.99,1375.92 2187.22,1342.88 2239.44,1304.08 2291.66,1259.92 \"/>\n",
       "<polyline clip-path=\"url(#clip682)\" style=\"stroke:#e26f46; stroke-linecap:round; stroke-linejoin:round; stroke-width:4; stroke-opacity:1; fill:none\" points=\"255.035,89.1074 307.256,95.8807 359.477,109.36 411.698,129.409 463.919,155.83 516.14,188.357 568.361,226.665 620.582,270.373 672.803,319.042 725.024,372.188 777.246,429.278 829.467,489.743 881.688,552.977 933.909,618.351 986.13,685.209 1038.35,752.885 1090.57,820.702 1142.79,887.982 1195.01,954.054 1247.24,1018.26 1299.46,1079.95 1351.68,1138.51 1403.9,1193.37 1456.12,1243.96 1508.34,1289.79 1560.56,1330.39 1612.78,1365.36 1665,1394.36 1717.23,1417.09 1769.45,1433.32 1821.67,1442.89 1873.89,1445.72 1926.11,1441.76 1978.33,1431.05 2030.55,1413.72 2082.77,1389.92 2134.99,1359.89 2187.22,1323.95 2239.44,1282.43 2291.66,1235.77 \"/>\n",
       "<path clip-path=\"url(#clip680)\" d=\"M1827.55 250.738 L2280.8 250.738 L2280.8 95.2176 L1827.55 95.2176  Z\" fill=\"#ffffff\" fill-rule=\"evenodd\" fill-opacity=\"1\"/>\n",
       "<polyline clip-path=\"url(#clip680)\" style=\"stroke:#000000; stroke-linecap:round; stroke-linejoin:round; stroke-width:4; stroke-opacity:1; fill:none\" points=\"1827.55,250.738 2280.8,250.738 2280.8,95.2176 1827.55,95.2176 1827.55,250.738 \"/>\n",
       "<polyline clip-path=\"url(#clip680)\" style=\"stroke:#009af9; stroke-linecap:round; stroke-linejoin:round; stroke-width:4; stroke-opacity:1; fill:none\" points=\"1851.54,147.058 1995.46,147.058 \"/>\n",
       "<path clip-path=\"url(#clip680)\" d=\"M2023.85 151.398 Q2023.85 156.097 2025.77 158.782 Q2027.71 161.444 2031.09 161.444 Q2034.47 161.444 2036.42 158.782 Q2038.36 156.097 2038.36 151.398 Q2038.36 146.699 2036.42 144.037 Q2034.47 141.352 2031.09 141.352 Q2027.71 141.352 2025.77 144.037 Q2023.85 146.699 2023.85 151.398 M2038.36 160.449 Q2037.02 162.763 2034.96 163.898 Q2032.92 165.009 2030.05 165.009 Q2025.35 165.009 2022.39 161.259 Q2019.45 157.509 2019.45 151.398 Q2019.45 145.287 2022.39 141.537 Q2025.35 137.787 2030.05 137.787 Q2032.92 137.787 2034.96 138.921 Q2037.02 140.032 2038.36 142.347 L2038.36 138.412 L2042.62 138.412 L2042.62 174.199 L2038.36 174.199 L2038.36 160.449 Z\" fill=\"#000000\" fill-rule=\"nonzero\" fill-opacity=\"1\" /><path clip-path=\"url(#clip680)\" d=\"M2055.42 129.778 L2055.42 142.625 L2051.49 142.625 L2051.49 129.778 L2055.42 129.778 Z\" fill=\"#000000\" fill-rule=\"nonzero\" fill-opacity=\"1\" /><path clip-path=\"url(#clip680)\" d=\"M2077.02 138.412 L2081.28 138.412 L2086.6 158.643 L2091.9 138.412 L2096.92 138.412 L2102.25 158.643 L2107.55 138.412 L2111.81 138.412 L2105.03 164.338 L2100 164.338 L2094.42 143.088 L2088.82 164.338 L2083.8 164.338 L2077.02 138.412 Z\" fill=\"#000000\" fill-rule=\"nonzero\" fill-opacity=\"1\" /><path clip-path=\"url(#clip680)\" d=\"M2118.27 138.412 L2122.53 138.412 L2122.53 164.338 L2118.27 164.338 L2118.27 138.412 M2118.27 128.319 L2122.53 128.319 L2122.53 133.713 L2118.27 133.713 L2118.27 128.319 Z\" fill=\"#000000\" fill-rule=\"nonzero\" fill-opacity=\"1\" /><path clip-path=\"url(#clip680)\" d=\"M2135.65 131.051 L2135.65 138.412 L2144.42 138.412 L2144.42 141.722 L2135.65 141.722 L2135.65 155.796 Q2135.65 158.967 2136.51 159.87 Q2137.39 160.773 2140.05 160.773 L2144.42 160.773 L2144.42 164.338 L2140.05 164.338 Q2135.12 164.338 2133.24 162.509 Q2131.37 160.657 2131.37 155.796 L2131.37 141.722 L2128.24 141.722 L2128.24 138.412 L2131.37 138.412 L2131.37 131.051 L2135.65 131.051 Z\" fill=\"#000000\" fill-rule=\"nonzero\" fill-opacity=\"1\" /><path clip-path=\"url(#clip680)\" d=\"M2171.58 148.689 L2171.58 164.338 L2167.32 164.338 L2167.32 148.828 Q2167.32 145.148 2165.88 143.319 Q2164.45 141.49 2161.58 141.49 Q2158.13 141.49 2156.14 143.69 Q2154.15 145.889 2154.15 149.685 L2154.15 164.338 L2149.86 164.338 L2149.86 128.319 L2154.15 128.319 L2154.15 142.44 Q2155.67 140.102 2157.73 138.944 Q2159.82 137.787 2162.53 137.787 Q2166.99 137.787 2169.29 140.565 Q2171.58 143.319 2171.58 148.689 Z\" fill=\"#000000\" fill-rule=\"nonzero\" fill-opacity=\"1\" /><path clip-path=\"url(#clip680)\" d=\"M2206.88 134.384 L2200.54 151.583 L2213.24 151.583 L2206.88 134.384 M2204.24 129.778 L2209.54 129.778 L2222.71 164.338 L2217.85 164.338 L2214.7 155.472 L2199.12 155.472 L2195.98 164.338 L2191.04 164.338 L2204.24 129.778 Z\" fill=\"#000000\" fill-rule=\"nonzero\" fill-opacity=\"1\" /><path clip-path=\"url(#clip680)\" d=\"M2232.43 133.62 L2232.43 160.495 L2238.08 160.495 Q2245.23 160.495 2248.54 157.254 Q2251.88 154.014 2251.88 147.023 Q2251.88 140.078 2248.54 136.861 Q2245.23 133.62 2238.08 133.62 L2232.43 133.62 M2227.76 129.778 L2237.36 129.778 Q2247.41 129.778 2252.11 133.967 Q2256.81 138.134 2256.81 147.023 Q2256.81 155.958 2252.09 160.148 Q2247.36 164.338 2237.36 164.338 L2227.76 164.338 L2227.76 129.778 Z\" fill=\"#000000\" fill-rule=\"nonzero\" fill-opacity=\"1\" /><polyline clip-path=\"url(#clip680)\" style=\"stroke:#e26f46; stroke-linecap:round; stroke-linejoin:round; stroke-width:4; stroke-opacity:1; fill:none\" points=\"1851.54,198.898 1995.46,198.898 \"/>\n",
       "<path clip-path=\"url(#clip680)\" d=\"M2023.85 203.238 Q2023.85 207.937 2025.77 210.622 Q2027.71 213.284 2031.09 213.284 Q2034.47 213.284 2036.42 210.622 Q2038.36 207.937 2038.36 203.238 Q2038.36 198.539 2036.42 195.877 Q2034.47 193.192 2031.09 193.192 Q2027.71 193.192 2025.77 195.877 Q2023.85 198.539 2023.85 203.238 M2038.36 212.289 Q2037.02 214.603 2034.96 215.738 Q2032.92 216.849 2030.05 216.849 Q2025.35 216.849 2022.39 213.099 Q2019.45 209.349 2019.45 203.238 Q2019.45 197.127 2022.39 193.377 Q2025.35 189.627 2030.05 189.627 Q2032.92 189.627 2034.96 190.761 Q2037.02 191.872 2038.36 194.187 L2038.36 190.252 L2042.62 190.252 L2042.62 226.039 L2038.36 226.039 L2038.36 212.289 Z\" fill=\"#000000\" fill-rule=\"nonzero\" fill-opacity=\"1\" /><path clip-path=\"url(#clip680)\" d=\"M2082.99 191.016 L2082.99 195.043 Q2081.18 194.117 2079.24 193.655 Q2077.3 193.192 2075.21 193.192 Q2072.04 193.192 2070.44 194.164 Q2068.87 195.136 2068.87 197.08 Q2068.87 198.562 2070 199.418 Q2071.14 200.252 2074.56 201.016 L2076.02 201.34 Q2080.56 202.312 2082.46 204.094 Q2084.38 205.854 2084.38 209.025 Q2084.38 212.636 2081.51 214.742 Q2078.66 216.849 2073.66 216.849 Q2071.58 216.849 2069.31 216.432 Q2067.06 216.039 2064.56 215.228 L2064.56 210.83 Q2066.93 212.057 2069.22 212.682 Q2071.51 213.284 2073.75 213.284 Q2076.76 213.284 2078.38 212.266 Q2080 211.224 2080 209.349 Q2080 207.613 2078.82 206.687 Q2077.67 205.761 2073.71 204.904 L2072.23 204.557 Q2068.27 203.724 2066.51 202.011 Q2064.75 200.275 2064.75 197.266 Q2064.75 193.608 2067.34 191.618 Q2069.93 189.627 2074.7 189.627 Q2077.06 189.627 2079.15 189.974 Q2081.23 190.321 2082.99 191.016 Z\" fill=\"#000000\" fill-rule=\"nonzero\" fill-opacity=\"1\" /><path clip-path=\"url(#clip680)\" d=\"M2091.16 180.159 L2095.42 180.159 L2095.42 216.178 L2091.16 216.178 L2091.16 180.159 Z\" fill=\"#000000\" fill-rule=\"nonzero\" fill-opacity=\"1\" /><path clip-path=\"url(#clip680)\" d=\"M2114.38 193.238 Q2110.95 193.238 2108.96 195.923 Q2106.97 198.585 2106.97 203.238 Q2106.97 207.891 2108.94 210.576 Q2110.93 213.238 2114.38 213.238 Q2117.78 213.238 2119.77 210.553 Q2121.76 207.867 2121.76 203.238 Q2121.76 198.631 2119.77 195.946 Q2117.78 193.238 2114.38 193.238 M2114.38 189.627 Q2119.93 189.627 2123.11 193.238 Q2126.28 196.849 2126.28 203.238 Q2126.28 209.604 2123.11 213.238 Q2119.93 216.849 2114.38 216.849 Q2108.8 216.849 2105.63 213.238 Q2102.48 209.604 2102.48 203.238 Q2102.48 196.849 2105.63 193.238 Q2108.8 189.627 2114.38 189.627 Z\" fill=\"#000000\" fill-rule=\"nonzero\" fill-opacity=\"1\" /><path clip-path=\"url(#clip680)\" d=\"M2137.46 212.289 L2137.46 226.039 L2133.17 226.039 L2133.17 190.252 L2137.46 190.252 L2137.46 194.187 Q2138.8 191.872 2140.84 190.761 Q2142.9 189.627 2145.74 189.627 Q2150.47 189.627 2153.41 193.377 Q2156.37 197.127 2156.37 203.238 Q2156.37 209.349 2153.41 213.099 Q2150.47 216.849 2145.74 216.849 Q2142.9 216.849 2140.84 215.738 Q2138.8 214.603 2137.46 212.289 M2151.95 203.238 Q2151.95 198.539 2150 195.877 Q2148.08 193.192 2144.7 193.192 Q2141.32 193.192 2139.38 195.877 Q2137.46 198.539 2137.46 203.238 Q2137.46 207.937 2139.38 210.622 Q2141.32 213.284 2144.7 213.284 Q2148.08 213.284 2150 210.622 Q2151.95 207.937 2151.95 203.238 Z\" fill=\"#000000\" fill-rule=\"nonzero\" fill-opacity=\"1\" /><path clip-path=\"url(#clip680)\" d=\"M2185.61 202.15 L2185.61 204.233 L2166.02 204.233 Q2166.3 208.631 2168.66 210.946 Q2171.04 213.238 2175.28 213.238 Q2177.73 213.238 2180.03 212.636 Q2182.34 212.034 2184.61 210.83 L2184.61 214.858 Q2182.32 215.83 2179.91 216.34 Q2177.5 216.849 2175.03 216.849 Q2168.82 216.849 2165.19 213.238 Q2161.58 209.627 2161.58 203.469 Q2161.58 197.104 2165 193.377 Q2168.45 189.627 2174.29 189.627 Q2179.52 189.627 2182.55 193.006 Q2185.61 196.363 2185.61 202.15 M2181.35 200.9 Q2181.3 197.405 2179.38 195.321 Q2177.48 193.238 2174.33 193.238 Q2170.77 193.238 2168.61 195.252 Q2166.48 197.266 2166.16 200.923 L2181.35 200.9 Z\" fill=\"#000000\" fill-rule=\"nonzero\" fill-opacity=\"1\" /><path clip-path=\"url(#clip680)\" d=\"M2209.12 191.016 L2209.12 195.043 Q2207.32 194.117 2205.37 193.655 Q2203.43 193.192 2201.35 193.192 Q2198.17 193.192 2196.58 194.164 Q2195 195.136 2195 197.08 Q2195 198.562 2196.14 199.418 Q2197.27 200.252 2200.7 201.016 L2202.16 201.34 Q2206.69 202.312 2208.59 204.094 Q2210.51 205.854 2210.51 209.025 Q2210.51 212.636 2207.64 214.742 Q2204.79 216.849 2199.79 216.849 Q2197.71 216.849 2195.44 216.432 Q2193.2 216.039 2190.7 215.228 L2190.7 210.83 Q2193.06 212.057 2195.35 212.682 Q2197.64 213.284 2199.89 213.284 Q2202.9 213.284 2204.52 212.266 Q2206.14 211.224 2206.14 209.349 Q2206.14 207.613 2204.96 206.687 Q2203.8 205.761 2199.84 204.904 L2198.36 204.557 Q2194.4 203.724 2192.64 202.011 Q2190.88 200.275 2190.88 197.266 Q2190.88 193.608 2193.48 191.618 Q2196.07 189.627 2200.84 189.627 Q2203.2 189.627 2205.28 189.974 Q2207.36 190.321 2209.12 191.016 Z\" fill=\"#000000\" fill-rule=\"nonzero\" fill-opacity=\"1\" /></svg>\n"
      ],
      "text/html": [
       "<?xml version=\"1.0\" encoding=\"utf-8\"?>\n",
       "<svg xmlns=\"http://www.w3.org/2000/svg\" xmlns:xlink=\"http://www.w3.org/1999/xlink\" width=\"600\" height=\"400\" viewBox=\"0 0 2400 1600\">\n",
       "<defs>\n",
       "  <clipPath id=\"clip730\">\n",
       "    <rect x=\"0\" y=\"0\" width=\"2400\" height=\"1600\"/>\n",
       "  </clipPath>\n",
       "</defs>\n",
       "<path clip-path=\"url(#clip730)\" d=\"M0 1600 L2400 1600 L2400 0 L0 0  Z\" fill=\"#ffffff\" fill-rule=\"evenodd\" fill-opacity=\"1\"/>\n",
       "<defs>\n",
       "  <clipPath id=\"clip731\">\n",
       "    <rect x=\"480\" y=\"0\" width=\"1681\" height=\"1600\"/>\n",
       "  </clipPath>\n",
       "</defs>\n",
       "<path clip-path=\"url(#clip730)\" d=\"M193.936 1486.45 L2352.76 1486.45 L2352.76 47.2441 L193.936 47.2441  Z\" fill=\"#ffffff\" fill-rule=\"evenodd\" fill-opacity=\"1\"/>\n",
       "<defs>\n",
       "  <clipPath id=\"clip732\">\n",
       "    <rect x=\"193\" y=\"47\" width=\"2160\" height=\"1440\"/>\n",
       "  </clipPath>\n",
       "</defs>\n",
       "<polyline clip-path=\"url(#clip732)\" style=\"stroke:#000000; stroke-linecap:round; stroke-linejoin:round; stroke-width:2; stroke-opacity:0.1; fill:none\" points=\"255.035,1486.45 255.035,47.2441 \"/>\n",
       "<polyline clip-path=\"url(#clip732)\" style=\"stroke:#000000; stroke-linecap:round; stroke-linejoin:round; stroke-width:2; stroke-opacity:0.1; fill:none\" points=\"777.246,1486.45 777.246,47.2441 \"/>\n",
       "<polyline clip-path=\"url(#clip732)\" style=\"stroke:#000000; stroke-linecap:round; stroke-linejoin:round; stroke-width:2; stroke-opacity:0.1; fill:none\" points=\"1299.46,1486.45 1299.46,47.2441 \"/>\n",
       "<polyline clip-path=\"url(#clip732)\" style=\"stroke:#000000; stroke-linecap:round; stroke-linejoin:round; stroke-width:2; stroke-opacity:0.1; fill:none\" points=\"1821.67,1486.45 1821.67,47.2441 \"/>\n",
       "<polyline clip-path=\"url(#clip732)\" style=\"stroke:#000000; stroke-linecap:round; stroke-linejoin:round; stroke-width:2; stroke-opacity:0.1; fill:none\" points=\"2343.88,1486.45 2343.88,47.2441 \"/>\n",
       "<polyline clip-path=\"url(#clip730)\" style=\"stroke:#000000; stroke-linecap:round; stroke-linejoin:round; stroke-width:4; stroke-opacity:1; fill:none\" points=\"193.936,1486.45 2352.76,1486.45 \"/>\n",
       "<polyline clip-path=\"url(#clip730)\" style=\"stroke:#000000; stroke-linecap:round; stroke-linejoin:round; stroke-width:4; stroke-opacity:1; fill:none\" points=\"255.035,1486.45 255.035,1467.55 \"/>\n",
       "<polyline clip-path=\"url(#clip730)\" style=\"stroke:#000000; stroke-linecap:round; stroke-linejoin:round; stroke-width:4; stroke-opacity:1; fill:none\" points=\"777.246,1486.45 777.246,1467.55 \"/>\n",
       "<polyline clip-path=\"url(#clip730)\" style=\"stroke:#000000; stroke-linecap:round; stroke-linejoin:round; stroke-width:4; stroke-opacity:1; fill:none\" points=\"1299.46,1486.45 1299.46,1467.55 \"/>\n",
       "<polyline clip-path=\"url(#clip730)\" style=\"stroke:#000000; stroke-linecap:round; stroke-linejoin:round; stroke-width:4; stroke-opacity:1; fill:none\" points=\"1821.67,1486.45 1821.67,1467.55 \"/>\n",
       "<polyline clip-path=\"url(#clip730)\" style=\"stroke:#000000; stroke-linecap:round; stroke-linejoin:round; stroke-width:4; stroke-opacity:1; fill:none\" points=\"2343.88,1486.45 2343.88,1467.55 \"/>\n",
       "<path clip-path=\"url(#clip730)\" d=\"M255.035 1517.37 Q251.424 1517.37 249.595 1520.93 Q247.789 1524.47 247.789 1531.6 Q247.789 1538.71 249.595 1542.27 Q251.424 1545.82 255.035 1545.82 Q258.669 1545.82 260.474 1542.27 Q262.303 1538.71 262.303 1531.6 Q262.303 1524.47 260.474 1520.93 Q258.669 1517.37 255.035 1517.37 M255.035 1513.66 Q260.845 1513.66 263.9 1518.27 Q266.979 1522.85 266.979 1531.6 Q266.979 1540.33 263.9 1544.94 Q260.845 1549.52 255.035 1549.52 Q249.225 1549.52 246.146 1544.94 Q243.09 1540.33 243.09 1531.6 Q243.09 1522.85 246.146 1518.27 Q249.225 1513.66 255.035 1513.66 Z\" fill=\"#000000\" fill-rule=\"nonzero\" fill-opacity=\"1\" /><path clip-path=\"url(#clip730)\" d=\"M767.628 1544.91 L775.266 1544.91 L775.266 1518.55 L766.956 1520.21 L766.956 1515.95 L775.22 1514.29 L779.896 1514.29 L779.896 1544.91 L787.535 1544.91 L787.535 1548.85 L767.628 1548.85 L767.628 1544.91 Z\" fill=\"#000000\" fill-rule=\"nonzero\" fill-opacity=\"1\" /><path clip-path=\"url(#clip730)\" d=\"M1294.11 1544.91 L1310.43 1544.91 L1310.43 1548.85 L1288.48 1548.85 L1288.48 1544.91 Q1291.15 1542.16 1295.73 1537.53 Q1300.34 1532.88 1301.52 1531.53 Q1303.76 1529.01 1304.64 1527.27 Q1305.54 1525.51 1305.54 1523.82 Q1305.54 1521.07 1303.6 1519.33 Q1301.68 1517.6 1298.58 1517.6 Q1296.38 1517.6 1293.92 1518.36 Q1291.49 1519.13 1288.72 1520.68 L1288.72 1515.95 Q1291.54 1514.82 1293.99 1514.24 Q1296.45 1513.66 1298.48 1513.66 Q1303.85 1513.66 1307.05 1516.35 Q1310.24 1519.03 1310.24 1523.52 Q1310.24 1525.65 1309.43 1527.57 Q1308.65 1529.47 1306.54 1532.07 Q1305.96 1532.74 1302.86 1535.95 Q1299.76 1539.15 1294.11 1544.91 Z\" fill=\"#000000\" fill-rule=\"nonzero\" fill-opacity=\"1\" /><path clip-path=\"url(#clip730)\" d=\"M1825.92 1530.21 Q1829.27 1530.93 1831.15 1533.2 Q1833.04 1535.47 1833.04 1538.8 Q1833.04 1543.92 1829.53 1546.72 Q1826.01 1549.52 1819.53 1549.52 Q1817.35 1549.52 1815.04 1549.08 Q1812.74 1548.66 1810.29 1547.81 L1810.29 1543.29 Q1812.23 1544.43 1814.55 1545.01 Q1816.86 1545.58 1819.39 1545.58 Q1823.79 1545.58 1826.08 1543.85 Q1828.39 1542.11 1828.39 1538.8 Q1828.39 1535.75 1826.24 1534.03 Q1824.11 1532.3 1820.29 1532.3 L1816.26 1532.3 L1816.26 1528.45 L1820.48 1528.45 Q1823.92 1528.45 1825.75 1527.09 Q1827.58 1525.7 1827.58 1523.11 Q1827.58 1520.45 1825.68 1519.03 Q1823.81 1517.6 1820.29 1517.6 Q1818.37 1517.6 1816.17 1518.01 Q1813.97 1518.43 1811.33 1519.31 L1811.33 1515.14 Q1813.99 1514.4 1816.31 1514.03 Q1818.65 1513.66 1820.71 1513.66 Q1826.03 1513.66 1829.13 1516.09 Q1832.23 1518.5 1832.23 1522.62 Q1832.23 1525.49 1830.59 1527.48 Q1828.95 1529.45 1825.92 1530.21 Z\" fill=\"#000000\" fill-rule=\"nonzero\" fill-opacity=\"1\" /><path clip-path=\"url(#clip730)\" d=\"M2346.89 1518.36 L2335.08 1536.81 L2346.89 1536.81 L2346.89 1518.36 M2345.66 1514.29 L2351.54 1514.29 L2351.54 1536.81 L2356.47 1536.81 L2356.47 1540.7 L2351.54 1540.7 L2351.54 1548.85 L2346.89 1548.85 L2346.89 1540.7 L2331.29 1540.7 L2331.29 1536.19 L2345.66 1514.29 Z\" fill=\"#000000\" fill-rule=\"nonzero\" fill-opacity=\"1\" /><polyline clip-path=\"url(#clip732)\" style=\"stroke:#000000; stroke-linecap:round; stroke-linejoin:round; stroke-width:2; stroke-opacity:0.1; fill:none\" points=\"193.936,1446.02 2352.76,1446.02 \"/>\n",
       "<polyline clip-path=\"url(#clip732)\" style=\"stroke:#000000; stroke-linecap:round; stroke-linejoin:round; stroke-width:2; stroke-opacity:0.1; fill:none\" points=\"193.936,1106.51 2352.76,1106.51 \"/>\n",
       "<polyline clip-path=\"url(#clip732)\" style=\"stroke:#000000; stroke-linecap:round; stroke-linejoin:round; stroke-width:2; stroke-opacity:0.1; fill:none\" points=\"193.936,766.999 2352.76,766.999 \"/>\n",
       "<polyline clip-path=\"url(#clip732)\" style=\"stroke:#000000; stroke-linecap:round; stroke-linejoin:round; stroke-width:2; stroke-opacity:0.1; fill:none\" points=\"193.936,427.488 2352.76,427.488 \"/>\n",
       "<polyline clip-path=\"url(#clip732)\" style=\"stroke:#000000; stroke-linecap:round; stroke-linejoin:round; stroke-width:2; stroke-opacity:0.1; fill:none\" points=\"193.936,87.9763 2352.76,87.9763 \"/>\n",
       "<polyline clip-path=\"url(#clip730)\" style=\"stroke:#000000; stroke-linecap:round; stroke-linejoin:round; stroke-width:4; stroke-opacity:1; fill:none\" points=\"193.936,1486.45 193.936,47.2441 \"/>\n",
       "<polyline clip-path=\"url(#clip730)\" style=\"stroke:#000000; stroke-linecap:round; stroke-linejoin:round; stroke-width:4; stroke-opacity:1; fill:none\" points=\"193.936,1446.02 212.834,1446.02 \"/>\n",
       "<polyline clip-path=\"url(#clip730)\" style=\"stroke:#000000; stroke-linecap:round; stroke-linejoin:round; stroke-width:4; stroke-opacity:1; fill:none\" points=\"193.936,1106.51 212.834,1106.51 \"/>\n",
       "<polyline clip-path=\"url(#clip730)\" style=\"stroke:#000000; stroke-linecap:round; stroke-linejoin:round; stroke-width:4; stroke-opacity:1; fill:none\" points=\"193.936,766.999 212.834,766.999 \"/>\n",
       "<polyline clip-path=\"url(#clip730)\" style=\"stroke:#000000; stroke-linecap:round; stroke-linejoin:round; stroke-width:4; stroke-opacity:1; fill:none\" points=\"193.936,427.488 212.834,427.488 \"/>\n",
       "<polyline clip-path=\"url(#clip730)\" style=\"stroke:#000000; stroke-linecap:round; stroke-linejoin:round; stroke-width:4; stroke-opacity:1; fill:none\" points=\"193.936,87.9763 212.834,87.9763 \"/>\n",
       "<path clip-path=\"url(#clip730)\" d=\"M50.9921 1446.47 L80.6679 1446.47 L80.6679 1450.41 L50.9921 1450.41 L50.9921 1446.47 Z\" fill=\"#000000\" fill-rule=\"nonzero\" fill-opacity=\"1\" /><path clip-path=\"url(#clip730)\" d=\"M91.5706 1459.37 L99.2095 1459.37 L99.2095 1433 L90.8993 1434.67 L90.8993 1430.41 L99.1632 1428.74 L103.839 1428.74 L103.839 1459.37 L111.478 1459.37 L111.478 1463.3 L91.5706 1463.3 L91.5706 1459.37 Z\" fill=\"#000000\" fill-rule=\"nonzero\" fill-opacity=\"1\" /><path clip-path=\"url(#clip730)\" d=\"M120.922 1457.42 L125.807 1457.42 L125.807 1463.3 L120.922 1463.3 L120.922 1457.42 Z\" fill=\"#000000\" fill-rule=\"nonzero\" fill-opacity=\"1\" /><path clip-path=\"url(#clip730)\" d=\"M145.992 1431.82 Q142.381 1431.82 140.552 1435.39 Q138.746 1438.93 138.746 1446.06 Q138.746 1453.16 140.552 1456.73 Q142.381 1460.27 145.992 1460.27 Q149.626 1460.27 151.431 1456.73 Q153.26 1453.16 153.26 1446.06 Q153.26 1438.93 151.431 1435.39 Q149.626 1431.82 145.992 1431.82 M145.992 1428.12 Q151.802 1428.12 154.857 1432.72 Q157.936 1437.31 157.936 1446.06 Q157.936 1454.78 154.857 1459.39 Q151.802 1463.97 145.992 1463.97 Q140.181 1463.97 137.103 1459.39 Q134.047 1454.78 134.047 1446.06 Q134.047 1437.31 137.103 1432.72 Q140.181 1428.12 145.992 1428.12 Z\" fill=\"#000000\" fill-rule=\"nonzero\" fill-opacity=\"1\" /><path clip-path=\"url(#clip730)\" d=\"M51.9875 1106.96 L81.6633 1106.96 L81.6633 1110.9 L51.9875 1110.9 L51.9875 1106.96 Z\" fill=\"#000000\" fill-rule=\"nonzero\" fill-opacity=\"1\" /><path clip-path=\"url(#clip730)\" d=\"M101.756 1092.31 Q98.1447 1092.31 96.316 1095.87 Q94.5104 1099.42 94.5104 1106.55 Q94.5104 1113.65 96.316 1117.22 Q98.1447 1120.76 101.756 1120.76 Q105.39 1120.76 107.196 1117.22 Q109.024 1113.65 109.024 1106.55 Q109.024 1099.42 107.196 1095.87 Q105.39 1092.31 101.756 1092.31 M101.756 1088.61 Q107.566 1088.61 110.621 1093.21 Q113.7 1097.8 113.7 1106.55 Q113.7 1115.27 110.621 1119.88 Q107.566 1124.46 101.756 1124.46 Q95.9456 1124.46 92.8669 1119.88 Q89.8114 1115.27 89.8114 1106.55 Q89.8114 1097.8 92.8669 1093.21 Q95.9456 1088.61 101.756 1088.61 Z\" fill=\"#000000\" fill-rule=\"nonzero\" fill-opacity=\"1\" /><path clip-path=\"url(#clip730)\" d=\"M121.918 1117.91 L126.802 1117.91 L126.802 1123.79 L121.918 1123.79 L121.918 1117.91 Z\" fill=\"#000000\" fill-rule=\"nonzero\" fill-opacity=\"1\" /><path clip-path=\"url(#clip730)\" d=\"M137.033 1089.23 L155.39 1089.23 L155.39 1093.17 L141.316 1093.17 L141.316 1101.64 Q142.334 1101.29 143.353 1101.13 Q144.371 1100.94 145.39 1100.94 Q151.177 1100.94 154.556 1104.12 Q157.936 1107.29 157.936 1112.7 Q157.936 1118.28 154.464 1121.38 Q150.992 1124.46 144.672 1124.46 Q142.496 1124.46 140.228 1124.09 Q137.982 1123.72 135.575 1122.98 L135.575 1118.28 Q137.658 1119.42 139.881 1119.97 Q142.103 1120.53 144.58 1120.53 Q148.584 1120.53 150.922 1118.42 Q153.26 1116.31 153.26 1112.7 Q153.26 1109.09 150.922 1106.99 Q148.584 1104.88 144.58 1104.88 Q142.705 1104.88 140.83 1105.3 Q138.978 1105.71 137.033 1106.59 L137.033 1089.23 Z\" fill=\"#000000\" fill-rule=\"nonzero\" fill-opacity=\"1\" /><path clip-path=\"url(#clip730)\" d=\"M100.76 752.798 Q97.1493 752.798 95.3206 756.363 Q93.515 759.905 93.515 767.034 Q93.515 774.141 95.3206 777.705 Q97.1493 781.247 100.76 781.247 Q104.395 781.247 106.2 777.705 Q108.029 774.141 108.029 767.034 Q108.029 759.905 106.2 756.363 Q104.395 752.798 100.76 752.798 M100.76 749.094 Q106.571 749.094 109.626 753.701 Q112.705 758.284 112.705 767.034 Q112.705 775.761 109.626 780.367 Q106.571 784.951 100.76 784.951 Q94.9502 784.951 91.8715 780.367 Q88.816 775.761 88.816 767.034 Q88.816 758.284 91.8715 753.701 Q94.9502 749.094 100.76 749.094 Z\" fill=\"#000000\" fill-rule=\"nonzero\" fill-opacity=\"1\" /><path clip-path=\"url(#clip730)\" d=\"M120.922 778.4 L125.807 778.4 L125.807 784.279 L120.922 784.279 L120.922 778.4 Z\" fill=\"#000000\" fill-rule=\"nonzero\" fill-opacity=\"1\" /><path clip-path=\"url(#clip730)\" d=\"M145.992 752.798 Q142.381 752.798 140.552 756.363 Q138.746 759.905 138.746 767.034 Q138.746 774.141 140.552 777.705 Q142.381 781.247 145.992 781.247 Q149.626 781.247 151.431 777.705 Q153.26 774.141 153.26 767.034 Q153.26 759.905 151.431 756.363 Q149.626 752.798 145.992 752.798 M145.992 749.094 Q151.802 749.094 154.857 753.701 Q157.936 758.284 157.936 767.034 Q157.936 775.761 154.857 780.367 Q151.802 784.951 145.992 784.951 Q140.181 784.951 137.103 780.367 Q134.047 775.761 134.047 767.034 Q134.047 758.284 137.103 753.701 Q140.181 749.094 145.992 749.094 Z\" fill=\"#000000\" fill-rule=\"nonzero\" fill-opacity=\"1\" /><path clip-path=\"url(#clip730)\" d=\"M101.756 413.287 Q98.1447 413.287 96.316 416.851 Q94.5104 420.393 94.5104 427.523 Q94.5104 434.629 96.316 438.194 Q98.1447 441.735 101.756 441.735 Q105.39 441.735 107.196 438.194 Q109.024 434.629 109.024 427.523 Q109.024 420.393 107.196 416.851 Q105.39 413.287 101.756 413.287 M101.756 409.583 Q107.566 409.583 110.621 414.189 Q113.7 418.773 113.7 427.523 Q113.7 436.249 110.621 440.856 Q107.566 445.439 101.756 445.439 Q95.9456 445.439 92.8669 440.856 Q89.8114 436.249 89.8114 427.523 Q89.8114 418.773 92.8669 414.189 Q95.9456 409.583 101.756 409.583 Z\" fill=\"#000000\" fill-rule=\"nonzero\" fill-opacity=\"1\" /><path clip-path=\"url(#clip730)\" d=\"M121.918 438.888 L126.802 438.888 L126.802 444.768 L121.918 444.768 L121.918 438.888 Z\" fill=\"#000000\" fill-rule=\"nonzero\" fill-opacity=\"1\" /><path clip-path=\"url(#clip730)\" d=\"M137.033 410.208 L155.39 410.208 L155.39 414.143 L141.316 414.143 L141.316 422.615 Q142.334 422.268 143.353 422.106 Q144.371 421.921 145.39 421.921 Q151.177 421.921 154.556 425.092 Q157.936 428.263 157.936 433.68 Q157.936 439.259 154.464 442.36 Q150.992 445.439 144.672 445.439 Q142.496 445.439 140.228 445.069 Q137.982 444.698 135.575 443.958 L135.575 439.259 Q137.658 440.393 139.881 440.948 Q142.103 441.504 144.58 441.504 Q148.584 441.504 150.922 439.398 Q153.26 437.291 153.26 433.68 Q153.26 430.069 150.922 427.962 Q148.584 425.856 144.58 425.856 Q142.705 425.856 140.83 426.273 Q138.978 426.689 137.033 427.569 L137.033 410.208 Z\" fill=\"#000000\" fill-rule=\"nonzero\" fill-opacity=\"1\" /><path clip-path=\"url(#clip730)\" d=\"M91.5706 101.321 L99.2095 101.321 L99.2095 74.9555 L90.8993 76.6222 L90.8993 72.3629 L99.1632 70.6963 L103.839 70.6963 L103.839 101.321 L111.478 101.321 L111.478 105.256 L91.5706 105.256 L91.5706 101.321 Z\" fill=\"#000000\" fill-rule=\"nonzero\" fill-opacity=\"1\" /><path clip-path=\"url(#clip730)\" d=\"M120.922 99.3767 L125.807 99.3767 L125.807 105.256 L120.922 105.256 L120.922 99.3767 Z\" fill=\"#000000\" fill-rule=\"nonzero\" fill-opacity=\"1\" /><path clip-path=\"url(#clip730)\" d=\"M145.992 73.775 Q142.381 73.775 140.552 77.3398 Q138.746 80.8814 138.746 88.011 Q138.746 95.1174 140.552 98.6822 Q142.381 102.224 145.992 102.224 Q149.626 102.224 151.431 98.6822 Q153.26 95.1174 153.26 88.011 Q153.26 80.8814 151.431 77.3398 Q149.626 73.775 145.992 73.775 M145.992 70.0713 Q151.802 70.0713 154.857 74.6777 Q157.936 79.261 157.936 88.011 Q157.936 96.7378 154.857 101.344 Q151.802 105.928 145.992 105.928 Q140.181 105.928 137.103 101.344 Q134.047 96.7378 134.047 88.011 Q134.047 79.261 137.103 74.6777 Q140.181 70.0713 145.992 70.0713 Z\" fill=\"#000000\" fill-rule=\"nonzero\" fill-opacity=\"1\" /><polyline clip-path=\"url(#clip732)\" style=\"stroke:#009af9; stroke-linecap:round; stroke-linejoin:round; stroke-width:4; stroke-opacity:1; fill:none\" points=\"255.035,87.9763 307.256,91.3686 359.477,101.512 411.698,118.304 463.919,141.578 516.14,171.101 568.361,206.577 620.582,247.654 672.803,293.919 725.024,344.912 777.246,400.122 829.467,458.997 881.688,520.95 933.909,585.362 986.13,651.588 1038.35,718.967 1090.57,786.827 1142.79,854.488 1195.01,921.275 1247.24,986.521 1299.46,1049.57 1351.68,1109.8 1403.9,1166.61 1456.12,1219.42 1508.34,1267.71 1560.56,1310.99 1612.78,1348.85 1665,1380.89 1717.23,1406.79 1769.45,1426.3 1821.67,1439.23 1873.89,1445.44 1926.11,1444.86 1978.33,1437.52 2030.55,1423.48 2082.77,1402.88 2134.99,1375.92 2187.22,1342.88 2239.44,1304.08 2291.66,1259.92 \"/>\n",
       "<polyline clip-path=\"url(#clip732)\" style=\"stroke:#e26f46; stroke-linecap:round; stroke-linejoin:round; stroke-width:4; stroke-opacity:1; fill:none\" points=\"255.035,89.1074 307.256,95.8807 359.477,109.36 411.698,129.409 463.919,155.83 516.14,188.357 568.361,226.665 620.582,270.373 672.803,319.042 725.024,372.188 777.246,429.278 829.467,489.743 881.688,552.977 933.909,618.351 986.13,685.209 1038.35,752.885 1090.57,820.702 1142.79,887.982 1195.01,954.054 1247.24,1018.26 1299.46,1079.95 1351.68,1138.51 1403.9,1193.37 1456.12,1243.96 1508.34,1289.79 1560.56,1330.39 1612.78,1365.36 1665,1394.36 1717.23,1417.09 1769.45,1433.32 1821.67,1442.89 1873.89,1445.72 1926.11,1441.76 1978.33,1431.05 2030.55,1413.72 2082.77,1389.92 2134.99,1359.89 2187.22,1323.95 2239.44,1282.43 2291.66,1235.77 \"/>\n",
       "<path clip-path=\"url(#clip730)\" d=\"M1827.55 250.738 L2280.8 250.738 L2280.8 95.2176 L1827.55 95.2176  Z\" fill=\"#ffffff\" fill-rule=\"evenodd\" fill-opacity=\"1\"/>\n",
       "<polyline clip-path=\"url(#clip730)\" style=\"stroke:#000000; stroke-linecap:round; stroke-linejoin:round; stroke-width:4; stroke-opacity:1; fill:none\" points=\"1827.55,250.738 2280.8,250.738 2280.8,95.2176 1827.55,95.2176 1827.55,250.738 \"/>\n",
       "<polyline clip-path=\"url(#clip730)\" style=\"stroke:#009af9; stroke-linecap:round; stroke-linejoin:round; stroke-width:4; stroke-opacity:1; fill:none\" points=\"1851.54,147.058 1995.46,147.058 \"/>\n",
       "<path clip-path=\"url(#clip730)\" d=\"M2023.85 151.398 Q2023.85 156.097 2025.77 158.782 Q2027.71 161.444 2031.09 161.444 Q2034.47 161.444 2036.42 158.782 Q2038.36 156.097 2038.36 151.398 Q2038.36 146.699 2036.42 144.037 Q2034.47 141.352 2031.09 141.352 Q2027.71 141.352 2025.77 144.037 Q2023.85 146.699 2023.85 151.398 M2038.36 160.449 Q2037.02 162.763 2034.96 163.898 Q2032.92 165.009 2030.05 165.009 Q2025.35 165.009 2022.39 161.259 Q2019.45 157.509 2019.45 151.398 Q2019.45 145.287 2022.39 141.537 Q2025.35 137.787 2030.05 137.787 Q2032.92 137.787 2034.96 138.921 Q2037.02 140.032 2038.36 142.347 L2038.36 138.412 L2042.62 138.412 L2042.62 174.199 L2038.36 174.199 L2038.36 160.449 Z\" fill=\"#000000\" fill-rule=\"nonzero\" fill-opacity=\"1\" /><path clip-path=\"url(#clip730)\" d=\"M2055.42 129.778 L2055.42 142.625 L2051.49 142.625 L2051.49 129.778 L2055.42 129.778 Z\" fill=\"#000000\" fill-rule=\"nonzero\" fill-opacity=\"1\" /><path clip-path=\"url(#clip730)\" d=\"M2077.02 138.412 L2081.28 138.412 L2086.6 158.643 L2091.9 138.412 L2096.92 138.412 L2102.25 158.643 L2107.55 138.412 L2111.81 138.412 L2105.03 164.338 L2100 164.338 L2094.42 143.088 L2088.82 164.338 L2083.8 164.338 L2077.02 138.412 Z\" fill=\"#000000\" fill-rule=\"nonzero\" fill-opacity=\"1\" /><path clip-path=\"url(#clip730)\" d=\"M2118.27 138.412 L2122.53 138.412 L2122.53 164.338 L2118.27 164.338 L2118.27 138.412 M2118.27 128.319 L2122.53 128.319 L2122.53 133.713 L2118.27 133.713 L2118.27 128.319 Z\" fill=\"#000000\" fill-rule=\"nonzero\" fill-opacity=\"1\" /><path clip-path=\"url(#clip730)\" d=\"M2135.65 131.051 L2135.65 138.412 L2144.42 138.412 L2144.42 141.722 L2135.65 141.722 L2135.65 155.796 Q2135.65 158.967 2136.51 159.87 Q2137.39 160.773 2140.05 160.773 L2144.42 160.773 L2144.42 164.338 L2140.05 164.338 Q2135.12 164.338 2133.24 162.509 Q2131.37 160.657 2131.37 155.796 L2131.37 141.722 L2128.24 141.722 L2128.24 138.412 L2131.37 138.412 L2131.37 131.051 L2135.65 131.051 Z\" fill=\"#000000\" fill-rule=\"nonzero\" fill-opacity=\"1\" /><path clip-path=\"url(#clip730)\" d=\"M2171.58 148.689 L2171.58 164.338 L2167.32 164.338 L2167.32 148.828 Q2167.32 145.148 2165.88 143.319 Q2164.45 141.49 2161.58 141.49 Q2158.13 141.49 2156.14 143.69 Q2154.15 145.889 2154.15 149.685 L2154.15 164.338 L2149.86 164.338 L2149.86 128.319 L2154.15 128.319 L2154.15 142.44 Q2155.67 140.102 2157.73 138.944 Q2159.82 137.787 2162.53 137.787 Q2166.99 137.787 2169.29 140.565 Q2171.58 143.319 2171.58 148.689 Z\" fill=\"#000000\" fill-rule=\"nonzero\" fill-opacity=\"1\" /><path clip-path=\"url(#clip730)\" d=\"M2206.88 134.384 L2200.54 151.583 L2213.24 151.583 L2206.88 134.384 M2204.24 129.778 L2209.54 129.778 L2222.71 164.338 L2217.85 164.338 L2214.7 155.472 L2199.12 155.472 L2195.98 164.338 L2191.04 164.338 L2204.24 129.778 Z\" fill=\"#000000\" fill-rule=\"nonzero\" fill-opacity=\"1\" /><path clip-path=\"url(#clip730)\" d=\"M2232.43 133.62 L2232.43 160.495 L2238.08 160.495 Q2245.23 160.495 2248.54 157.254 Q2251.88 154.014 2251.88 147.023 Q2251.88 140.078 2248.54 136.861 Q2245.23 133.62 2238.08 133.62 L2232.43 133.62 M2227.76 129.778 L2237.36 129.778 Q2247.41 129.778 2252.11 133.967 Q2256.81 138.134 2256.81 147.023 Q2256.81 155.958 2252.09 160.148 Q2247.36 164.338 2237.36 164.338 L2227.76 164.338 L2227.76 129.778 Z\" fill=\"#000000\" fill-rule=\"nonzero\" fill-opacity=\"1\" /><polyline clip-path=\"url(#clip730)\" style=\"stroke:#e26f46; stroke-linecap:round; stroke-linejoin:round; stroke-width:4; stroke-opacity:1; fill:none\" points=\"1851.54,198.898 1995.46,198.898 \"/>\n",
       "<path clip-path=\"url(#clip730)\" d=\"M2023.85 203.238 Q2023.85 207.937 2025.77 210.622 Q2027.71 213.284 2031.09 213.284 Q2034.47 213.284 2036.42 210.622 Q2038.36 207.937 2038.36 203.238 Q2038.36 198.539 2036.42 195.877 Q2034.47 193.192 2031.09 193.192 Q2027.71 193.192 2025.77 195.877 Q2023.85 198.539 2023.85 203.238 M2038.36 212.289 Q2037.02 214.603 2034.96 215.738 Q2032.92 216.849 2030.05 216.849 Q2025.35 216.849 2022.39 213.099 Q2019.45 209.349 2019.45 203.238 Q2019.45 197.127 2022.39 193.377 Q2025.35 189.627 2030.05 189.627 Q2032.92 189.627 2034.96 190.761 Q2037.02 191.872 2038.36 194.187 L2038.36 190.252 L2042.62 190.252 L2042.62 226.039 L2038.36 226.039 L2038.36 212.289 Z\" fill=\"#000000\" fill-rule=\"nonzero\" fill-opacity=\"1\" /><path clip-path=\"url(#clip730)\" d=\"M2082.99 191.016 L2082.99 195.043 Q2081.18 194.117 2079.24 193.655 Q2077.3 193.192 2075.21 193.192 Q2072.04 193.192 2070.44 194.164 Q2068.87 195.136 2068.87 197.08 Q2068.87 198.562 2070 199.418 Q2071.14 200.252 2074.56 201.016 L2076.02 201.34 Q2080.56 202.312 2082.46 204.094 Q2084.38 205.854 2084.38 209.025 Q2084.38 212.636 2081.51 214.742 Q2078.66 216.849 2073.66 216.849 Q2071.58 216.849 2069.31 216.432 Q2067.06 216.039 2064.56 215.228 L2064.56 210.83 Q2066.93 212.057 2069.22 212.682 Q2071.51 213.284 2073.75 213.284 Q2076.76 213.284 2078.38 212.266 Q2080 211.224 2080 209.349 Q2080 207.613 2078.82 206.687 Q2077.67 205.761 2073.71 204.904 L2072.23 204.557 Q2068.27 203.724 2066.51 202.011 Q2064.75 200.275 2064.75 197.266 Q2064.75 193.608 2067.34 191.618 Q2069.93 189.627 2074.7 189.627 Q2077.06 189.627 2079.15 189.974 Q2081.23 190.321 2082.99 191.016 Z\" fill=\"#000000\" fill-rule=\"nonzero\" fill-opacity=\"1\" /><path clip-path=\"url(#clip730)\" d=\"M2091.16 180.159 L2095.42 180.159 L2095.42 216.178 L2091.16 216.178 L2091.16 180.159 Z\" fill=\"#000000\" fill-rule=\"nonzero\" fill-opacity=\"1\" /><path clip-path=\"url(#clip730)\" d=\"M2114.38 193.238 Q2110.95 193.238 2108.96 195.923 Q2106.97 198.585 2106.97 203.238 Q2106.97 207.891 2108.94 210.576 Q2110.93 213.238 2114.38 213.238 Q2117.78 213.238 2119.77 210.553 Q2121.76 207.867 2121.76 203.238 Q2121.76 198.631 2119.77 195.946 Q2117.78 193.238 2114.38 193.238 M2114.38 189.627 Q2119.93 189.627 2123.11 193.238 Q2126.28 196.849 2126.28 203.238 Q2126.28 209.604 2123.11 213.238 Q2119.93 216.849 2114.38 216.849 Q2108.8 216.849 2105.63 213.238 Q2102.48 209.604 2102.48 203.238 Q2102.48 196.849 2105.63 193.238 Q2108.8 189.627 2114.38 189.627 Z\" fill=\"#000000\" fill-rule=\"nonzero\" fill-opacity=\"1\" /><path clip-path=\"url(#clip730)\" d=\"M2137.46 212.289 L2137.46 226.039 L2133.17 226.039 L2133.17 190.252 L2137.46 190.252 L2137.46 194.187 Q2138.8 191.872 2140.84 190.761 Q2142.9 189.627 2145.74 189.627 Q2150.47 189.627 2153.41 193.377 Q2156.37 197.127 2156.37 203.238 Q2156.37 209.349 2153.41 213.099 Q2150.47 216.849 2145.74 216.849 Q2142.9 216.849 2140.84 215.738 Q2138.8 214.603 2137.46 212.289 M2151.95 203.238 Q2151.95 198.539 2150 195.877 Q2148.08 193.192 2144.7 193.192 Q2141.32 193.192 2139.38 195.877 Q2137.46 198.539 2137.46 203.238 Q2137.46 207.937 2139.38 210.622 Q2141.32 213.284 2144.7 213.284 Q2148.08 213.284 2150 210.622 Q2151.95 207.937 2151.95 203.238 Z\" fill=\"#000000\" fill-rule=\"nonzero\" fill-opacity=\"1\" /><path clip-path=\"url(#clip730)\" d=\"M2185.61 202.15 L2185.61 204.233 L2166.02 204.233 Q2166.3 208.631 2168.66 210.946 Q2171.04 213.238 2175.28 213.238 Q2177.73 213.238 2180.03 212.636 Q2182.34 212.034 2184.61 210.83 L2184.61 214.858 Q2182.32 215.83 2179.91 216.34 Q2177.5 216.849 2175.03 216.849 Q2168.82 216.849 2165.19 213.238 Q2161.58 209.627 2161.58 203.469 Q2161.58 197.104 2165 193.377 Q2168.45 189.627 2174.29 189.627 Q2179.52 189.627 2182.55 193.006 Q2185.61 196.363 2185.61 202.15 M2181.35 200.9 Q2181.3 197.405 2179.38 195.321 Q2177.48 193.238 2174.33 193.238 Q2170.77 193.238 2168.61 195.252 Q2166.48 197.266 2166.16 200.923 L2181.35 200.9 Z\" fill=\"#000000\" fill-rule=\"nonzero\" fill-opacity=\"1\" /><path clip-path=\"url(#clip730)\" d=\"M2209.12 191.016 L2209.12 195.043 Q2207.32 194.117 2205.37 193.655 Q2203.43 193.192 2201.35 193.192 Q2198.17 193.192 2196.58 194.164 Q2195 195.136 2195 197.08 Q2195 198.562 2196.14 199.418 Q2197.27 200.252 2200.7 201.016 L2202.16 201.34 Q2206.69 202.312 2208.59 204.094 Q2210.51 205.854 2210.51 209.025 Q2210.51 212.636 2207.64 214.742 Q2204.79 216.849 2199.79 216.849 Q2197.71 216.849 2195.44 216.432 Q2193.2 216.039 2190.7 215.228 L2190.7 210.83 Q2193.06 212.057 2195.35 212.682 Q2197.64 213.284 2199.89 213.284 Q2202.9 213.284 2204.52 212.266 Q2206.14 211.224 2206.14 209.349 Q2206.14 207.613 2204.96 206.687 Q2203.8 205.761 2199.84 204.904 L2198.36 204.557 Q2194.4 203.724 2192.64 202.011 Q2190.88 200.275 2190.88 197.266 Q2190.88 193.608 2193.48 191.618 Q2196.07 189.627 2200.84 189.627 Q2203.2 189.627 2205.28 189.974 Q2207.36 190.321 2209.12 191.016 Z\" fill=\"#000000\" fill-rule=\"nonzero\" fill-opacity=\"1\" /></svg>\n"
      ]
     },
     "execution_count": 148,
     "metadata": {},
     "output_type": "execute_result"
    }
   ],
   "source": [
    "using Plots, ForwardDiff\n",
    "\n",
    "# operator to get the derivative of this function using auto-differentiation\n",
    "D(f) = x -> ForwardDiff.derivative(f,x)\n",
    "\n",
    "# compare slopes with auto-differentiation for sin(x)\n",
    "q(x) = sin(x)\n",
    "x = 0.0:0.1:4.0\n",
    "q_x = q.(x)\n",
    "q_slopes_x = slopes(q_x, x)\n",
    "D_q_x = D(q).(x)    # broadcasts auto-differentiation across vector\n",
    "\n",
    "plot(x[1:(end-1)], D_q_x[1:(end-1)], label = \"q' with AD\")\n",
    "plot!(x[1:(end-1)], q_slopes_x, label = \"q slopes\")"
   ]
  },
  {
   "cell_type": "markdown",
   "id": "e371f907-fdb3-40c9-aae6-33d946538f1e",
   "metadata": {},
   "source": [
    "Passing a function instead of an array"
   ]
  },
  {
   "cell_type": "code",
   "execution_count": 153,
   "id": "52678e3f-e7ec-405c-b7f2-d193ebbea35b",
   "metadata": {},
   "outputs": [
    {
     "name": "stdout",
     "output_type": "stream",
     "text": [
      "typeof(q) <: Function = true\n",
      "typeof(x) <: AbstractRange = true\n",
      "q_slopes_x[1] = 0.9983341664682815\n"
     ]
    }
   ],
   "source": [
    "slopes(f::Function, x::AbstractRange) = diff(f.(x)) / step(x)    # broadcast function\n",
    "\n",
    "@show typeof(q) <: Function\n",
    "@show typeof(x) <: AbstractRange\n",
    "q_slopes_x = slopes(q, x)    # use slopes(f::Function, x)\n",
    "@show q_slopes_x[1];"
   ]
  },
  {
   "cell_type": "markdown",
   "id": "a3e9a48d-3b63-4e91-a6ad-9f97df3091be",
   "metadata": {},
   "source": [
    "What about if `x` was an `AbstractArray` and not an `AbstractRange`"
   ]
  },
  {
   "cell_type": "code",
   "execution_count": 155,
   "id": "a6b29e4e-69f7-440b-ac14-de22b5886e5b",
   "metadata": {},
   "outputs": [
    {
     "name": "stdout",
     "output_type": "stream",
     "text": [
      "typeof(x_array) <: AbstractArray = true\n",
      "q_slopes_x[1] = 0.9983341664682815\n"
     ]
    }
   ],
   "source": [
    "# broadcasts over the diff\n",
    "slopes(f::Function, x::AbstractArray) = diff(f.(x)) ./ diff(x)\n",
    "\n",
    "x_array = Array(x)    # convert range to array\n",
    "@show typeof(x_array) <: AbstractArray\n",
    "q_slopes_x = slopes(q, x_array)\n",
    "@show q_slopes_x[1];"
   ]
  },
  {
   "cell_type": "markdown",
   "id": "ea561860-9be0-4ebc-a2ab-5db4318060f0",
   "metadata": {},
   "source": [
    "## Exercise 2 from Lesson 5\n",
    "\n",
    "1. Recursive average filter"
   ]
  },
  {
   "cell_type": "code",
   "execution_count": 17,
   "id": "8888a4d1-35f5-4152-abca-cdc585d6a2a0",
   "metadata": {},
   "outputs": [
    {
     "data": {
      "text/plain": [
       "f2 (generic function with 1 method)"
      ]
     },
     "execution_count": 17,
     "metadata": {},
     "output_type": "execute_result"
    }
   ],
   "source": [
    "function f(k::Int64)\n",
    "    Y = zeros(k)\n",
    "    μ = zeros(k)\n",
    "    α = 10\n",
    "    for i in 1:k\n",
    "        Y[i] = α + 4*rand()\n",
    "        μ[i] = sum(Y[1:i])/i\n",
    "    end\n",
    "    return μ\n",
    "end\n",
    "\n",
    "function f2(k::Int64)\n",
    "    Y = zeros(k)\n",
    "    μ = zeros(k)\n",
    "    α = 10\n",
    "    for i in 1:k\n",
    "        Y[i] = α + 4*rand()\n",
    "        if i == 1\n",
    "            μ[i] = Y[i]\n",
    "        else\n",
    "            μ[i] = (i-1)/i * μ[i-1] + 1/i * Y[i]\n",
    "        end\n",
    "    end\n",
    "    return μ\n",
    "end"
   ]
  },
  {
   "cell_type": "code",
   "execution_count": 26,
   "id": "21bcdbfa-691b-4eb2-99a9-6d097df74def",
   "metadata": {},
   "outputs": [
    {
     "data": {
      "image/png": "[encoded data removed]",
      "image/svg+xml": [
       "<?xml version=\"1.0\" encoding=\"utf-8\"?>\n",
       "<svg xmlns=\"http://www.w3.org/2000/svg\" xmlns:xlink=\"http://www.w3.org/1999/xlink\" width=\"600\" height=\"400\" viewBox=\"0 0 2400 1600\">\n",
       "<defs>\n",
       "  <clipPath id=\"clip490\">\n",
       "    <rect x=\"0\" y=\"0\" width=\"2400\" height=\"1600\"/>\n",
       "  </clipPath>\n",
       "</defs>\n",
       "<path clip-path=\"url(#clip490)\" d=\"M0 1600 L2400 1600 L2400 0 L0 0  Z\" fill=\"#ffffff\" fill-rule=\"evenodd\" fill-opacity=\"1\"/>\n",
       "<defs>\n",
       "  <clipPath id=\"clip491\">\n",
       "    <rect x=\"480\" y=\"0\" width=\"1681\" height=\"1600\"/>\n",
       "  </clipPath>\n",
       "</defs>\n",
       "<path clip-path=\"url(#clip490)\" d=\"M184.191 1486.45 L2352.76 1486.45 L2352.76 47.2441 L184.191 47.2441  Z\" fill=\"#ffffff\" fill-rule=\"evenodd\" fill-opacity=\"1\"/>\n",
       "<defs>\n",
       "  <clipPath id=\"clip492\">\n",
       "    <rect x=\"184\" y=\"47\" width=\"2170\" height=\"1440\"/>\n",
       "  </clipPath>\n",
       "</defs>\n",
       "<polyline clip-path=\"url(#clip492)\" style=\"stroke:#000000; stroke-linecap:round; stroke-linejoin:round; stroke-width:2; stroke-opacity:0.1; fill:none\" points=\"224.9,1486.45 224.9,47.2441 \"/>\n",
       "<polyline clip-path=\"url(#clip492)\" style=\"stroke:#000000; stroke-linecap:round; stroke-linejoin:round; stroke-width:2; stroke-opacity:0.1; fill:none\" points=\"741.521,1486.45 741.521,47.2441 \"/>\n",
       "<polyline clip-path=\"url(#clip492)\" style=\"stroke:#000000; stroke-linecap:round; stroke-linejoin:round; stroke-width:2; stroke-opacity:0.1; fill:none\" points=\"1258.14,1486.45 1258.14,47.2441 \"/>\n",
       "<polyline clip-path=\"url(#clip492)\" style=\"stroke:#000000; stroke-linecap:round; stroke-linejoin:round; stroke-width:2; stroke-opacity:0.1; fill:none\" points=\"1774.76,1486.45 1774.76,47.2441 \"/>\n",
       "<polyline clip-path=\"url(#clip492)\" style=\"stroke:#000000; stroke-linecap:round; stroke-linejoin:round; stroke-width:2; stroke-opacity:0.1; fill:none\" points=\"2291.38,1486.45 2291.38,47.2441 \"/>\n",
       "<polyline clip-path=\"url(#clip490)\" style=\"stroke:#000000; stroke-linecap:round; stroke-linejoin:round; stroke-width:4; stroke-opacity:1; fill:none\" points=\"184.191,1486.45 2352.76,1486.45 \"/>\n",
       "<polyline clip-path=\"url(#clip490)\" style=\"stroke:#000000; stroke-linecap:round; stroke-linejoin:round; stroke-width:4; stroke-opacity:1; fill:none\" points=\"224.9,1486.45 224.9,1467.55 \"/>\n",
       "<polyline clip-path=\"url(#clip490)\" style=\"stroke:#000000; stroke-linecap:round; stroke-linejoin:round; stroke-width:4; stroke-opacity:1; fill:none\" points=\"741.521,1486.45 741.521,1467.55 \"/>\n",
       "<polyline clip-path=\"url(#clip490)\" style=\"stroke:#000000; stroke-linecap:round; stroke-linejoin:round; stroke-width:4; stroke-opacity:1; fill:none\" points=\"1258.14,1486.45 1258.14,1467.55 \"/>\n",
       "<polyline clip-path=\"url(#clip490)\" style=\"stroke:#000000; stroke-linecap:round; stroke-linejoin:round; stroke-width:4; stroke-opacity:1; fill:none\" points=\"1774.76,1486.45 1774.76,1467.55 \"/>\n",
       "<polyline clip-path=\"url(#clip490)\" style=\"stroke:#000000; stroke-linecap:round; stroke-linejoin:round; stroke-width:4; stroke-opacity:1; fill:none\" points=\"2291.38,1486.45 2291.38,1467.55 \"/>\n",
       "<path clip-path=\"url(#clip490)\" d=\"M224.9 1517.37 Q221.289 1517.37 219.461 1520.93 Q217.655 1524.47 217.655 1531.6 Q217.655 1538.71 219.461 1542.27 Q221.289 1545.82 224.9 1545.82 Q228.535 1545.82 230.34 1542.27 Q232.169 1538.71 232.169 1531.6 Q232.169 1524.47 230.34 1520.93 Q228.535 1517.37 224.9 1517.37 M224.9 1513.66 Q230.711 1513.66 233.766 1518.27 Q236.845 1522.85 236.845 1531.6 Q236.845 1540.33 233.766 1544.94 Q230.711 1549.52 224.9 1549.52 Q219.09 1549.52 216.012 1544.94 Q212.956 1540.33 212.956 1531.6 Q212.956 1522.85 216.012 1518.27 Q219.09 1513.66 224.9 1513.66 Z\" fill=\"#000000\" fill-rule=\"nonzero\" fill-opacity=\"1\" /><path clip-path=\"url(#clip490)\" d=\"M720.792 1544.91 L737.111 1544.91 L737.111 1548.85 L715.167 1548.85 L715.167 1544.91 Q717.829 1542.16 722.412 1537.53 Q727.018 1532.88 728.199 1531.53 Q730.444 1529.01 731.324 1527.27 Q732.227 1525.51 732.227 1523.82 Q732.227 1521.07 730.282 1519.33 Q728.361 1517.6 725.259 1517.6 Q723.06 1517.6 720.606 1518.36 Q718.176 1519.13 715.398 1520.68 L715.398 1515.95 Q718.222 1514.82 720.676 1514.24 Q723.13 1513.66 725.167 1513.66 Q730.537 1513.66 733.731 1516.35 Q736.926 1519.03 736.926 1523.52 Q736.926 1525.65 736.116 1527.57 Q735.329 1529.47 733.222 1532.07 Q732.643 1532.74 729.542 1535.95 Q726.44 1539.15 720.792 1544.91 Z\" fill=\"#000000\" fill-rule=\"nonzero\" fill-opacity=\"1\" /><path clip-path=\"url(#clip490)\" d=\"M746.972 1514.29 L765.328 1514.29 L765.328 1518.22 L751.254 1518.22 L751.254 1526.7 Q752.273 1526.35 753.291 1526.19 Q754.31 1526 755.328 1526 Q761.115 1526 764.495 1529.17 Q767.875 1532.34 767.875 1537.76 Q767.875 1543.34 764.402 1546.44 Q760.93 1549.52 754.611 1549.52 Q752.435 1549.52 750.166 1549.15 Q747.921 1548.78 745.514 1548.04 L745.514 1543.34 Q747.597 1544.47 749.819 1545.03 Q752.041 1545.58 754.518 1545.58 Q758.523 1545.58 760.861 1543.48 Q763.199 1541.37 763.199 1537.76 Q763.199 1534.15 760.861 1532.04 Q758.523 1529.94 754.518 1529.94 Q752.643 1529.94 750.768 1530.35 Q748.916 1530.77 746.972 1531.65 L746.972 1514.29 Z\" fill=\"#000000\" fill-rule=\"nonzero\" fill-opacity=\"1\" /><path clip-path=\"url(#clip490)\" d=\"M1232.84 1514.29 L1251.2 1514.29 L1251.2 1518.22 L1237.12 1518.22 L1237.12 1526.7 Q1238.14 1526.35 1239.16 1526.19 Q1240.18 1526 1241.2 1526 Q1246.98 1526 1250.36 1529.17 Q1253.74 1532.34 1253.74 1537.76 Q1253.74 1543.34 1250.27 1546.44 Q1246.8 1549.52 1240.48 1549.52 Q1238.3 1549.52 1236.03 1549.15 Q1233.79 1548.78 1231.38 1548.04 L1231.38 1543.34 Q1233.47 1544.47 1235.69 1545.03 Q1237.91 1545.58 1240.39 1545.58 Q1244.39 1545.58 1246.73 1543.48 Q1249.07 1541.37 1249.07 1537.76 Q1249.07 1534.15 1246.73 1532.04 Q1244.39 1529.94 1240.39 1529.94 Q1238.51 1529.94 1236.64 1530.35 Q1234.78 1530.77 1232.84 1531.65 L1232.84 1514.29 Z\" fill=\"#000000\" fill-rule=\"nonzero\" fill-opacity=\"1\" /><path clip-path=\"url(#clip490)\" d=\"M1272.96 1517.37 Q1269.34 1517.37 1267.52 1520.93 Q1265.71 1524.47 1265.71 1531.6 Q1265.71 1538.71 1267.52 1542.27 Q1269.34 1545.82 1272.96 1545.82 Q1276.59 1545.82 1278.4 1542.27 Q1280.22 1538.71 1280.22 1531.6 Q1280.22 1524.47 1278.4 1520.93 Q1276.59 1517.37 1272.96 1517.37 M1272.96 1513.66 Q1278.77 1513.66 1281.82 1518.27 Q1284.9 1522.85 1284.9 1531.6 Q1284.9 1540.33 1281.82 1544.94 Q1278.77 1549.52 1272.96 1549.52 Q1267.15 1549.52 1264.07 1544.94 Q1261.01 1540.33 1261.01 1531.6 Q1261.01 1522.85 1264.07 1518.27 Q1267.15 1513.66 1272.96 1513.66 Z\" fill=\"#000000\" fill-rule=\"nonzero\" fill-opacity=\"1\" /><path clip-path=\"url(#clip490)\" d=\"M1748.62 1514.29 L1770.84 1514.29 L1770.84 1516.28 L1758.29 1548.85 L1753.41 1548.85 L1765.21 1518.22 L1748.62 1518.22 L1748.62 1514.29 Z\" fill=\"#000000\" fill-rule=\"nonzero\" fill-opacity=\"1\" /><path clip-path=\"url(#clip490)\" d=\"M1780 1514.29 L1798.36 1514.29 L1798.36 1518.22 L1784.29 1518.22 L1784.29 1526.7 Q1785.31 1526.35 1786.32 1526.19 Q1787.34 1526 1788.36 1526 Q1794.15 1526 1797.53 1529.17 Q1800.91 1532.34 1800.91 1537.76 Q1800.91 1543.34 1797.43 1546.44 Q1793.96 1549.52 1787.64 1549.52 Q1785.47 1549.52 1783.2 1549.15 Q1780.95 1548.78 1778.55 1548.04 L1778.55 1543.34 Q1780.63 1544.47 1782.85 1545.03 Q1785.07 1545.58 1787.55 1545.58 Q1791.56 1545.58 1793.89 1543.48 Q1796.23 1541.37 1796.23 1537.76 Q1796.23 1534.15 1793.89 1532.04 Q1791.56 1529.94 1787.55 1529.94 Q1785.68 1529.94 1783.8 1530.35 Q1781.95 1530.77 1780 1531.65 L1780 1514.29 Z\" fill=\"#000000\" fill-rule=\"nonzero\" fill-opacity=\"1\" /><path clip-path=\"url(#clip490)\" d=\"M2250.99 1544.91 L2258.63 1544.91 L2258.63 1518.55 L2250.32 1520.21 L2250.32 1515.95 L2258.58 1514.29 L2263.26 1514.29 L2263.26 1544.91 L2270.9 1544.91 L2270.9 1548.85 L2250.99 1548.85 L2250.99 1544.91 Z\" fill=\"#000000\" fill-rule=\"nonzero\" fill-opacity=\"1\" /><path clip-path=\"url(#clip490)\" d=\"M2290.34 1517.37 Q2286.73 1517.37 2284.9 1520.93 Q2283.09 1524.47 2283.09 1531.6 Q2283.09 1538.71 2284.9 1542.27 Q2286.73 1545.82 2290.34 1545.82 Q2293.97 1545.82 2295.78 1542.27 Q2297.61 1538.71 2297.61 1531.6 Q2297.61 1524.47 2295.78 1520.93 Q2293.97 1517.37 2290.34 1517.37 M2290.34 1513.66 Q2296.15 1513.66 2299.21 1518.27 Q2302.28 1522.85 2302.28 1531.6 Q2302.28 1540.33 2299.21 1544.94 Q2296.15 1549.52 2290.34 1549.52 Q2284.53 1549.52 2281.45 1544.94 Q2278.4 1540.33 2278.4 1531.6 Q2278.4 1522.85 2281.45 1518.27 Q2284.53 1513.66 2290.34 1513.66 Z\" fill=\"#000000\" fill-rule=\"nonzero\" fill-opacity=\"1\" /><path clip-path=\"url(#clip490)\" d=\"M2320.5 1517.37 Q2316.89 1517.37 2315.06 1520.93 Q2313.26 1524.47 2313.26 1531.6 Q2313.26 1538.71 2315.06 1542.27 Q2316.89 1545.82 2320.5 1545.82 Q2324.14 1545.82 2325.94 1542.27 Q2327.77 1538.71 2327.77 1531.6 Q2327.77 1524.47 2325.94 1520.93 Q2324.14 1517.37 2320.5 1517.37 M2320.5 1513.66 Q2326.31 1513.66 2329.37 1518.27 Q2332.45 1522.85 2332.45 1531.6 Q2332.45 1540.33 2329.37 1544.94 Q2326.31 1549.52 2320.5 1549.52 Q2314.69 1549.52 2311.61 1544.94 Q2308.56 1540.33 2308.56 1531.6 Q2308.56 1522.85 2311.61 1518.27 Q2314.69 1513.66 2320.5 1513.66 Z\" fill=\"#000000\" fill-rule=\"nonzero\" fill-opacity=\"1\" /><polyline clip-path=\"url(#clip492)\" style=\"stroke:#000000; stroke-linecap:round; stroke-linejoin:round; stroke-width:2; stroke-opacity:0.1; fill:none\" points=\"184.191,1237.71 2352.76,1237.71 \"/>\n",
       "<polyline clip-path=\"url(#clip492)\" style=\"stroke:#000000; stroke-linecap:round; stroke-linejoin:round; stroke-width:2; stroke-opacity:0.1; fill:none\" points=\"184.191,949.086 2352.76,949.086 \"/>\n",
       "<polyline clip-path=\"url(#clip492)\" style=\"stroke:#000000; stroke-linecap:round; stroke-linejoin:round; stroke-width:2; stroke-opacity:0.1; fill:none\" points=\"184.191,660.46 2352.76,660.46 \"/>\n",
       "<polyline clip-path=\"url(#clip492)\" style=\"stroke:#000000; stroke-linecap:round; stroke-linejoin:round; stroke-width:2; stroke-opacity:0.1; fill:none\" points=\"184.191,371.833 2352.76,371.833 \"/>\n",
       "<polyline clip-path=\"url(#clip492)\" style=\"stroke:#000000; stroke-linecap:round; stroke-linejoin:round; stroke-width:2; stroke-opacity:0.1; fill:none\" points=\"184.191,83.2067 2352.76,83.2067 \"/>\n",
       "<polyline clip-path=\"url(#clip490)\" style=\"stroke:#000000; stroke-linecap:round; stroke-linejoin:round; stroke-width:4; stroke-opacity:1; fill:none\" points=\"184.191,1486.45 184.191,47.2441 \"/>\n",
       "<polyline clip-path=\"url(#clip490)\" style=\"stroke:#000000; stroke-linecap:round; stroke-linejoin:round; stroke-width:4; stroke-opacity:1; fill:none\" points=\"184.191,1237.71 203.088,1237.71 \"/>\n",
       "<polyline clip-path=\"url(#clip490)\" style=\"stroke:#000000; stroke-linecap:round; stroke-linejoin:round; stroke-width:4; stroke-opacity:1; fill:none\" points=\"184.191,949.086 203.088,949.086 \"/>\n",
       "<polyline clip-path=\"url(#clip490)\" style=\"stroke:#000000; stroke-linecap:round; stroke-linejoin:round; stroke-width:4; stroke-opacity:1; fill:none\" points=\"184.191,660.46 203.088,660.46 \"/>\n",
       "<polyline clip-path=\"url(#clip490)\" style=\"stroke:#000000; stroke-linecap:round; stroke-linejoin:round; stroke-width:4; stroke-opacity:1; fill:none\" points=\"184.191,371.833 203.088,371.833 \"/>\n",
       "<polyline clip-path=\"url(#clip490)\" style=\"stroke:#000000; stroke-linecap:round; stroke-linejoin:round; stroke-width:4; stroke-opacity:1; fill:none\" points=\"184.191,83.2067 203.088,83.2067 \"/>\n",
       "<path clip-path=\"url(#clip490)\" d=\"M51.6634 1251.06 L59.3023 1251.06 L59.3023 1224.69 L50.9921 1226.36 L50.9921 1222.1 L59.256 1220.43 L63.9319 1220.43 L63.9319 1251.06 L71.5707 1251.06 L71.5707 1254.99 L51.6634 1254.99 L51.6634 1251.06 Z\" fill=\"#000000\" fill-rule=\"nonzero\" fill-opacity=\"1\" /><path clip-path=\"url(#clip490)\" d=\"M85.0429 1251.06 L101.362 1251.06 L101.362 1254.99 L79.4179 1254.99 L79.4179 1251.06 Q82.0799 1248.3 86.6632 1243.67 Q91.2697 1239.02 92.4502 1237.68 Q94.6956 1235.16 95.5752 1233.42 Q96.478 1231.66 96.478 1229.97 Q96.478 1227.22 94.5336 1225.48 Q92.6123 1223.74 89.5104 1223.74 Q87.3114 1223.74 84.8577 1224.51 Q82.4271 1225.27 79.6494 1226.82 L79.6494 1222.1 Q82.4734 1220.97 84.9271 1220.39 Q87.3808 1219.81 89.4178 1219.81 Q94.7882 1219.81 97.9826 1222.49 Q101.177 1225.18 101.177 1229.67 Q101.177 1231.8 100.367 1233.72 Q99.5798 1235.62 97.4734 1238.21 Q96.8947 1238.88 93.7928 1242.1 Q90.691 1245.29 85.0429 1251.06 Z\" fill=\"#000000\" fill-rule=\"nonzero\" fill-opacity=\"1\" /><path clip-path=\"url(#clip490)\" d=\"M111.177 1249.11 L116.061 1249.11 L116.061 1254.99 L111.177 1254.99 L111.177 1249.11 Z\" fill=\"#000000\" fill-rule=\"nonzero\" fill-opacity=\"1\" /><path clip-path=\"url(#clip490)\" d=\"M136.246 1223.51 Q132.635 1223.51 130.807 1227.08 Q129.001 1230.62 129.001 1237.75 Q129.001 1244.85 130.807 1248.42 Q132.635 1251.96 136.246 1251.96 Q139.881 1251.96 141.686 1248.42 Q143.515 1244.85 143.515 1237.75 Q143.515 1230.62 141.686 1227.08 Q139.881 1223.51 136.246 1223.51 M136.246 1219.81 Q142.056 1219.81 145.112 1224.41 Q148.191 1229 148.191 1237.75 Q148.191 1246.47 145.112 1251.08 Q142.056 1255.66 136.246 1255.66 Q130.436 1255.66 127.357 1251.08 Q124.302 1246.47 124.302 1237.75 Q124.302 1229 127.357 1224.41 Q130.436 1219.81 136.246 1219.81 Z\" fill=\"#000000\" fill-rule=\"nonzero\" fill-opacity=\"1\" /><path clip-path=\"url(#clip490)\" d=\"M52.6588 962.431 L60.2976 962.431 L60.2976 936.066 L51.9875 937.732 L51.9875 933.473 L60.2513 931.806 L64.9272 931.806 L64.9272 962.431 L72.5661 962.431 L72.5661 966.366 L52.6588 966.366 L52.6588 962.431 Z\" fill=\"#000000\" fill-rule=\"nonzero\" fill-opacity=\"1\" /><path clip-path=\"url(#clip490)\" d=\"M86.0382 962.431 L102.358 962.431 L102.358 966.366 L80.4133 966.366 L80.4133 962.431 Q83.0753 959.677 87.6586 955.047 Q92.2651 950.394 93.4456 949.052 Q95.691 946.529 96.5706 944.792 Q97.4734 943.033 97.4734 941.343 Q97.4734 938.589 95.5289 936.853 Q93.6076 935.117 90.5058 935.117 Q88.3067 935.117 85.8531 935.881 Q83.4225 936.644 80.6447 938.195 L80.6447 933.473 Q83.4688 932.339 85.9225 931.76 Q88.3762 931.181 90.4132 931.181 Q95.7836 931.181 98.978 933.867 Q102.172 936.552 102.172 941.043 Q102.172 943.172 101.362 945.093 Q100.575 946.992 98.4687 949.584 Q97.89 950.255 94.7882 953.473 Q91.6864 956.667 86.0382 962.431 Z\" fill=\"#000000\" fill-rule=\"nonzero\" fill-opacity=\"1\" /><path clip-path=\"url(#clip490)\" d=\"M112.172 960.487 L117.057 960.487 L117.057 966.366 L112.172 966.366 L112.172 960.487 Z\" fill=\"#000000\" fill-rule=\"nonzero\" fill-opacity=\"1\" /><path clip-path=\"url(#clip490)\" d=\"M127.288 931.806 L145.644 931.806 L145.644 935.742 L131.57 935.742 L131.57 944.214 Q132.589 943.867 133.607 943.705 Q134.626 943.519 135.644 943.519 Q141.431 943.519 144.811 946.691 Q148.191 949.862 148.191 955.279 Q148.191 960.857 144.718 963.959 Q141.246 967.038 134.927 967.038 Q132.751 967.038 130.482 966.667 Q128.237 966.297 125.83 965.556 L125.83 960.857 Q127.913 961.991 130.135 962.547 Q132.357 963.103 134.834 963.103 Q138.839 963.103 141.177 960.996 Q143.515 958.89 143.515 955.279 Q143.515 951.667 141.177 949.561 Q138.839 947.455 134.834 947.455 Q132.959 947.455 131.084 947.871 Q129.232 948.288 127.288 949.167 L127.288 931.806 Z\" fill=\"#000000\" fill-rule=\"nonzero\" fill-opacity=\"1\" /><path clip-path=\"url(#clip490)\" d=\"M51.6634 673.805 L59.3023 673.805 L59.3023 647.439 L50.9921 649.106 L50.9921 644.847 L59.256 643.18 L63.9319 643.18 L63.9319 673.805 L71.5707 673.805 L71.5707 677.74 L51.6634 677.74 L51.6634 673.805 Z\" fill=\"#000000\" fill-rule=\"nonzero\" fill-opacity=\"1\" /><path clip-path=\"url(#clip490)\" d=\"M95.1817 659.106 Q98.5382 659.823 100.413 662.092 Q102.311 664.36 102.311 667.694 Q102.311 672.809 98.7928 675.61 Q95.2743 678.411 88.7928 678.411 Q86.6169 678.411 84.3021 677.971 Q82.0105 677.555 79.5568 676.698 L79.5568 672.184 Q81.5012 673.319 83.816 673.897 Q86.1308 674.476 88.654 674.476 Q93.0521 674.476 95.3437 672.74 Q97.6585 671.004 97.6585 667.694 Q97.6585 664.638 95.5058 662.925 Q93.3762 661.189 89.5567 661.189 L85.529 661.189 L85.529 657.346 L89.7419 657.346 Q93.191 657.346 95.0197 655.981 Q96.8484 654.592 96.8484 651.999 Q96.8484 649.337 94.9502 647.925 Q93.0752 646.49 89.5567 646.49 Q87.6354 646.49 85.4364 646.907 Q83.2373 647.323 80.5984 648.203 L80.5984 644.036 Q83.2605 643.296 85.5753 642.925 Q87.9132 642.555 89.9734 642.555 Q95.2974 642.555 98.3993 644.985 Q101.501 647.393 101.501 651.513 Q101.501 654.384 99.8576 656.374 Q98.2141 658.342 95.1817 659.106 Z\" fill=\"#000000\" fill-rule=\"nonzero\" fill-opacity=\"1\" /><path clip-path=\"url(#clip490)\" d=\"M111.177 671.86 L116.061 671.86 L116.061 677.74 L111.177 677.74 L111.177 671.86 Z\" fill=\"#000000\" fill-rule=\"nonzero\" fill-opacity=\"1\" /><path clip-path=\"url(#clip490)\" d=\"M136.246 646.259 Q132.635 646.259 130.807 649.823 Q129.001 653.365 129.001 660.495 Q129.001 667.601 130.807 671.166 Q132.635 674.707 136.246 674.707 Q139.881 674.707 141.686 671.166 Q143.515 667.601 143.515 660.495 Q143.515 653.365 141.686 649.823 Q139.881 646.259 136.246 646.259 M136.246 642.555 Q142.056 642.555 145.112 647.161 Q148.191 651.745 148.191 660.495 Q148.191 669.221 145.112 673.828 Q142.056 678.411 136.246 678.411 Q130.436 678.411 127.357 673.828 Q124.302 669.221 124.302 660.495 Q124.302 651.745 127.357 647.161 Q130.436 642.555 136.246 642.555 Z\" fill=\"#000000\" fill-rule=\"nonzero\" fill-opacity=\"1\" /><path clip-path=\"url(#clip490)\" d=\"M52.6588 385.178 L60.2976 385.178 L60.2976 358.813 L51.9875 360.479 L51.9875 356.22 L60.2513 354.553 L64.9272 354.553 L64.9272 385.178 L72.5661 385.178 L72.5661 389.113 L52.6588 389.113 L52.6588 385.178 Z\" fill=\"#000000\" fill-rule=\"nonzero\" fill-opacity=\"1\" /><path clip-path=\"url(#clip490)\" d=\"M96.1771 370.479 Q99.5335 371.197 101.409 373.465 Q103.307 375.734 103.307 379.067 Q103.307 384.183 99.7882 386.984 Q96.2697 389.785 89.7882 389.785 Q87.6123 389.785 85.2975 389.345 Q83.0058 388.928 80.5522 388.072 L80.5522 383.558 Q82.4966 384.692 84.8114 385.271 Q87.1262 385.849 89.6493 385.849 Q94.0475 385.849 96.3391 384.113 Q98.6539 382.377 98.6539 379.067 Q98.6539 376.011 96.5011 374.299 Q94.3715 372.562 90.5521 372.562 L86.5243 372.562 L86.5243 368.72 L90.7373 368.72 Q94.1863 368.72 96.015 367.354 Q97.8437 365.965 97.8437 363.373 Q97.8437 360.711 95.9456 359.299 Q94.0706 357.863 90.5521 357.863 Q88.6308 357.863 86.4318 358.28 Q84.2327 358.697 81.5938 359.576 L81.5938 355.41 Q84.2558 354.669 86.5706 354.299 Q88.9086 353.928 90.9688 353.928 Q96.2928 353.928 99.3946 356.359 Q102.496 358.766 102.496 362.887 Q102.496 365.757 100.853 367.748 Q99.2095 369.715 96.1771 370.479 Z\" fill=\"#000000\" fill-rule=\"nonzero\" fill-opacity=\"1\" /><path clip-path=\"url(#clip490)\" d=\"M112.172 383.234 L117.057 383.234 L117.057 389.113 L112.172 389.113 L112.172 383.234 Z\" fill=\"#000000\" fill-rule=\"nonzero\" fill-opacity=\"1\" /><path clip-path=\"url(#clip490)\" d=\"M127.288 354.553 L145.644 354.553 L145.644 358.488 L131.57 358.488 L131.57 366.961 Q132.589 366.613 133.607 366.451 Q134.626 366.266 135.644 366.266 Q141.431 366.266 144.811 369.437 Q148.191 372.609 148.191 378.025 Q148.191 383.604 144.718 386.706 Q141.246 389.785 134.927 389.785 Q132.751 389.785 130.482 389.414 Q128.237 389.044 125.83 388.303 L125.83 383.604 Q127.913 384.738 130.135 385.294 Q132.357 385.849 134.834 385.849 Q138.839 385.849 141.177 383.743 Q143.515 381.636 143.515 378.025 Q143.515 374.414 141.177 372.308 Q138.839 370.201 134.834 370.201 Q132.959 370.201 131.084 370.618 Q129.232 371.035 127.288 371.914 L127.288 354.553 Z\" fill=\"#000000\" fill-rule=\"nonzero\" fill-opacity=\"1\" /><path clip-path=\"url(#clip490)\" d=\"M51.6634 96.5515 L59.3023 96.5515 L59.3023 70.1859 L50.9921 71.8526 L50.9921 67.5933 L59.256 65.9267 L63.9319 65.9267 L63.9319 96.5515 L71.5707 96.5515 L71.5707 100.487 L51.6634 100.487 L51.6634 96.5515 Z\" fill=\"#000000\" fill-rule=\"nonzero\" fill-opacity=\"1\" /><path clip-path=\"url(#clip490)\" d=\"M93.8623 70.0007 L82.0568 88.4497 L93.8623 88.4497 L93.8623 70.0007 M92.6354 65.9267 L98.515 65.9267 L98.515 88.4497 L103.446 88.4497 L103.446 92.3386 L98.515 92.3386 L98.515 100.487 L93.8623 100.487 L93.8623 92.3386 L78.2605 92.3386 L78.2605 87.8247 L92.6354 65.9267 Z\" fill=\"#000000\" fill-rule=\"nonzero\" fill-opacity=\"1\" /><path clip-path=\"url(#clip490)\" d=\"M111.177 94.6071 L116.061 94.6071 L116.061 100.487 L111.177 100.487 L111.177 94.6071 Z\" fill=\"#000000\" fill-rule=\"nonzero\" fill-opacity=\"1\" /><path clip-path=\"url(#clip490)\" d=\"M136.246 69.0054 Q132.635 69.0054 130.807 72.5702 Q129.001 76.1118 129.001 83.2414 Q129.001 90.3478 130.807 93.9126 Q132.635 97.4543 136.246 97.4543 Q139.881 97.4543 141.686 93.9126 Q143.515 90.3478 143.515 83.2414 Q143.515 76.1118 141.686 72.5702 Q139.881 69.0054 136.246 69.0054 M136.246 65.3017 Q142.056 65.3017 145.112 69.9081 Q148.191 74.4914 148.191 83.2414 Q148.191 91.9682 145.112 96.5747 Q142.056 101.158 136.246 101.158 Q130.436 101.158 127.357 96.5747 Q124.302 91.9682 124.302 83.2414 Q124.302 74.4914 127.357 69.9081 Q130.436 65.3017 136.246 65.3017 Z\" fill=\"#000000\" fill-rule=\"nonzero\" fill-opacity=\"1\" /><polyline clip-path=\"url(#clip492)\" style=\"stroke:#009af9; stroke-linecap:round; stroke-linejoin:round; stroke-width:4; stroke-opacity:1; fill:none\" points=\"245.565,229.981 266.23,767.133 286.895,949.017 307.56,858.406 328.224,843.311 348.889,753.396 369.554,822.521 390.219,914.368 410.884,1048.77 431.548,953.227 452.213,997.275 472.878,1033.89 493.543,1004.84 514.208,1086.56 534.873,1040.53 555.537,1102.66 576.202,1121.99 596.867,1078.85 617.532,1132.23 638.197,1188.72 658.861,1217.84 679.526,1217.41 700.191,1245.98 720.856,1242.12 741.521,1268.46 762.185,1233.85 782.85,1228.19 803.515,1210.89 824.18,1216.63 844.845,1238.33 865.509,1254.94 886.174,1288.69 906.839,1267.83 927.504,1284.86 948.169,1314.19 968.834,1289.26 989.498,1307.24 1010.16,1298.4 1030.83,1273.96 1051.49,1270.98 1072.16,1296.28 1092.82,1283.3 1113.49,1287.78 1134.15,1302.09 1154.82,1289.4 1175.48,1292.7 1196.15,1269.95 1216.81,1271.3 1237.48,1266.03 1258.14,1272.28 1278.81,1269.79 1299.47,1285.51 1320.14,1287.95 1340.8,1275.25 1361.46,1272.3 1382.13,1261.94 1402.79,1264.22 1423.46,1274.73 1444.12,1282.6 1464.79,1282.62 1485.45,1274.54 1506.12,1276.19 1526.78,1262.55 1547.45,1269.23 1568.11,1277.63 1588.78,1282.16 1609.44,1279.17 1630.11,1289.1 1650.77,1280.11 1671.44,1278.56 1692.1,1267.59 1712.77,1263.24 1733.43,1266.58 1754.1,1253.16 1774.76,1267.86 1795.43,1271.13 1816.09,1265.4 1836.76,1253.87 1857.42,1239.88 1878.09,1237.81 1898.75,1246.02 1919.41,1255.59 1940.08,1255.05 1960.74,1243.49 1981.41,1230.54 2002.07,1232.59 2022.74,1223.44 2043.4,1219.31 2064.07,1223.03 2084.73,1224.43 2105.4,1221.65 2126.06,1216.95 2146.73,1226.57 2167.39,1229.61 2188.06,1229.69 2208.72,1221.04 2229.39,1217.4 2250.05,1215.5 2270.72,1217.09 2291.38,1224.1 \"/>\n",
       "<polyline clip-path=\"url(#clip492)\" style=\"stroke:#e26f46; stroke-linecap:round; stroke-linejoin:round; stroke-width:4; stroke-opacity:1; fill:none\" points=\"245.565,87.9763 266.23,1045.47 286.895,1231.73 307.56,1093.36 328.224,1282.94 348.889,1445.72 369.554,1284.84 390.219,1372.17 410.884,1404.86 431.548,1415.61 452.213,1301.69 472.878,1251.76 493.543,1217.42 514.208,1249.86 534.873,1193.27 555.537,1249.34 576.202,1203.47 596.867,1222.63 617.532,1211.43 638.197,1238.06 658.861,1199.52 679.526,1224.79 700.191,1213.34 720.856,1175.49 741.521,1169.16 762.185,1143.41 782.85,1169.72 803.515,1153.29 824.18,1126.81 844.845,1100.94 865.509,1076.31 886.174,1049.56 906.839,1054.63 927.504,1063.2 948.169,1093.43 968.834,1106.97 989.498,1106.14 1010.16,1120.37 1030.83,1128.28 1051.49,1123.83 1072.16,1118.28 1092.82,1134.87 1113.49,1135.21 1134.15,1124.59 1154.82,1144.98 1175.48,1164.69 1196.15,1145.99 1216.81,1159.93 1237.48,1139.02 1258.14,1155.12 1278.81,1173.22 1299.47,1169.62 1320.14,1165.08 1340.8,1187.06 1361.46,1177.82 1382.13,1183.9 1402.79,1199.28 1423.46,1210.59 1444.12,1200.64 1464.79,1194.72 1485.45,1207.08 1506.12,1195.6 1526.78,1198.53 1547.45,1190.26 1568.11,1198.29 1588.78,1206.61 1609.44,1191.75 1630.11,1199.38 1650.77,1185.21 1671.44,1201.56 1692.1,1209.9 1712.77,1224.55 1733.43,1236.63 1754.1,1249.69 1774.76,1254.42 1795.43,1247.51 1816.09,1250.62 1836.76,1235.66 1857.42,1235.11 1878.09,1230.97 1898.75,1231.22 1919.41,1227 1940.08,1237.63 1960.74,1225.37 1981.41,1231.1 2002.07,1229.72 2022.74,1238.82 2043.4,1239.92 2064.07,1232.13 2084.73,1224.5 2105.4,1228.15 2126.06,1219.82 2146.73,1223.87 2167.39,1229.12 2188.06,1239.03 2208.72,1243.98 2229.39,1240.73 2250.05,1231.14 2270.72,1223.1 2291.38,1222.16 \"/>\n",
       "<path clip-path=\"url(#clip490)\" d=\"M2011.18 250.738 L2280.47 250.738 L2280.47 95.2176 L2011.18 95.2176  Z\" fill=\"#ffffff\" fill-rule=\"evenodd\" fill-opacity=\"1\"/>\n",
       "<polyline clip-path=\"url(#clip490)\" style=\"stroke:#000000; stroke-linecap:round; stroke-linejoin:round; stroke-width:4; stroke-opacity:1; fill:none\" points=\"2011.18,250.738 2280.47,250.738 2280.47,95.2176 2011.18,95.2176 2011.18,250.738 \"/>\n",
       "<polyline clip-path=\"url(#clip490)\" style=\"stroke:#009af9; stroke-linecap:round; stroke-linejoin:round; stroke-width:4; stroke-opacity:1; fill:none\" points=\"2035.28,147.058 2179.85,147.058 \"/>\n",
       "<path clip-path=\"url(#clip490)\" d=\"M2217.79 166.745 Q2215.98 171.375 2214.27 172.787 Q2212.56 174.199 2209.69 174.199 L2206.28 174.199 L2206.28 170.634 L2208.78 170.634 Q2210.54 170.634 2211.51 169.8 Q2212.49 168.967 2213.67 165.865 L2214.43 163.921 L2203.94 138.412 L2208.46 138.412 L2216.56 158.689 L2224.66 138.412 L2229.18 138.412 L2217.79 166.745 Z\" fill=\"#000000\" fill-rule=\"nonzero\" fill-opacity=\"1\" /><path clip-path=\"url(#clip490)\" d=\"M2236.47 160.402 L2244.11 160.402 L2244.11 134.037 L2235.8 135.703 L2235.8 131.444 L2244.06 129.778 L2248.74 129.778 L2248.74 160.402 L2256.38 160.402 L2256.38 164.338 L2236.47 164.338 L2236.47 160.402 Z\" fill=\"#000000\" fill-rule=\"nonzero\" fill-opacity=\"1\" /><polyline clip-path=\"url(#clip490)\" style=\"stroke:#e26f46; stroke-linecap:round; stroke-linejoin:round; stroke-width:4; stroke-opacity:1; fill:none\" points=\"2035.28,198.898 2179.85,198.898 \"/>\n",
       "<path clip-path=\"url(#clip490)\" d=\"M2217.79 218.585 Q2215.98 223.215 2214.27 224.627 Q2212.56 226.039 2209.69 226.039 L2206.28 226.039 L2206.28 222.474 L2208.78 222.474 Q2210.54 222.474 2211.51 221.64 Q2212.49 220.807 2213.67 217.705 L2214.43 215.761 L2203.94 190.252 L2208.46 190.252 L2216.56 210.529 L2224.66 190.252 L2229.18 190.252 L2217.79 218.585 Z\" fill=\"#000000\" fill-rule=\"nonzero\" fill-opacity=\"1\" /><path clip-path=\"url(#clip490)\" d=\"M2239.69 212.242 L2256 212.242 L2256 216.178 L2234.06 216.178 L2234.06 212.242 Q2236.72 209.488 2241.31 204.858 Q2245.91 200.205 2247.09 198.863 Q2249.34 196.34 2250.22 194.604 Q2251.12 192.844 2251.12 191.155 Q2251.12 188.4 2249.18 186.664 Q2247.25 184.928 2244.15 184.928 Q2241.95 184.928 2239.5 185.692 Q2237.07 186.455 2234.29 188.006 L2234.29 183.284 Q2237.12 182.15 2239.57 181.571 Q2242.02 180.993 2244.06 180.993 Q2249.43 180.993 2252.63 183.678 Q2255.82 186.363 2255.82 190.854 Q2255.82 192.983 2255.01 194.905 Q2254.22 196.803 2252.12 199.395 Q2251.54 200.067 2248.44 203.284 Q2245.33 206.479 2239.69 212.242 Z\" fill=\"#000000\" fill-rule=\"nonzero\" fill-opacity=\"1\" /></svg>\n"
      ],
      "text/html": [
       "<?xml version=\"1.0\" encoding=\"utf-8\"?>\n",
       "<svg xmlns=\"http://www.w3.org/2000/svg\" xmlns:xlink=\"http://www.w3.org/1999/xlink\" width=\"600\" height=\"400\" viewBox=\"0 0 2400 1600\">\n",
       "<defs>\n",
       "  <clipPath id=\"clip540\">\n",
       "    <rect x=\"0\" y=\"0\" width=\"2400\" height=\"1600\"/>\n",
       "  </clipPath>\n",
       "</defs>\n",
       "<path clip-path=\"url(#clip540)\" d=\"M0 1600 L2400 1600 L2400 0 L0 0  Z\" fill=\"#ffffff\" fill-rule=\"evenodd\" fill-opacity=\"1\"/>\n",
       "<defs>\n",
       "  <clipPath id=\"clip541\">\n",
       "    <rect x=\"480\" y=\"0\" width=\"1681\" height=\"1600\"/>\n",
       "  </clipPath>\n",
       "</defs>\n",
       "<path clip-path=\"url(#clip540)\" d=\"M184.191 1486.45 L2352.76 1486.45 L2352.76 47.2441 L184.191 47.2441  Z\" fill=\"#ffffff\" fill-rule=\"evenodd\" fill-opacity=\"1\"/>\n",
       "<defs>\n",
       "  <clipPath id=\"clip542\">\n",
       "    <rect x=\"184\" y=\"47\" width=\"2170\" height=\"1440\"/>\n",
       "  </clipPath>\n",
       "</defs>\n",
       "<polyline clip-path=\"url(#clip542)\" style=\"stroke:#000000; stroke-linecap:round; stroke-linejoin:round; stroke-width:2; stroke-opacity:0.1; fill:none\" points=\"224.9,1486.45 224.9,47.2441 \"/>\n",
       "<polyline clip-path=\"url(#clip542)\" style=\"stroke:#000000; stroke-linecap:round; stroke-linejoin:round; stroke-width:2; stroke-opacity:0.1; fill:none\" points=\"741.521,1486.45 741.521,47.2441 \"/>\n",
       "<polyline clip-path=\"url(#clip542)\" style=\"stroke:#000000; stroke-linecap:round; stroke-linejoin:round; stroke-width:2; stroke-opacity:0.1; fill:none\" points=\"1258.14,1486.45 1258.14,47.2441 \"/>\n",
       "<polyline clip-path=\"url(#clip542)\" style=\"stroke:#000000; stroke-linecap:round; stroke-linejoin:round; stroke-width:2; stroke-opacity:0.1; fill:none\" points=\"1774.76,1486.45 1774.76,47.2441 \"/>\n",
       "<polyline clip-path=\"url(#clip542)\" style=\"stroke:#000000; stroke-linecap:round; stroke-linejoin:round; stroke-width:2; stroke-opacity:0.1; fill:none\" points=\"2291.38,1486.45 2291.38,47.2441 \"/>\n",
       "<polyline clip-path=\"url(#clip540)\" style=\"stroke:#000000; stroke-linecap:round; stroke-linejoin:round; stroke-width:4; stroke-opacity:1; fill:none\" points=\"184.191,1486.45 2352.76,1486.45 \"/>\n",
       "<polyline clip-path=\"url(#clip540)\" style=\"stroke:#000000; stroke-linecap:round; stroke-linejoin:round; stroke-width:4; stroke-opacity:1; fill:none\" points=\"224.9,1486.45 224.9,1467.55 \"/>\n",
       "<polyline clip-path=\"url(#clip540)\" style=\"stroke:#000000; stroke-linecap:round; stroke-linejoin:round; stroke-width:4; stroke-opacity:1; fill:none\" points=\"741.521,1486.45 741.521,1467.55 \"/>\n",
       "<polyline clip-path=\"url(#clip540)\" style=\"stroke:#000000; stroke-linecap:round; stroke-linejoin:round; stroke-width:4; stroke-opacity:1; fill:none\" points=\"1258.14,1486.45 1258.14,1467.55 \"/>\n",
       "<polyline clip-path=\"url(#clip540)\" style=\"stroke:#000000; stroke-linecap:round; stroke-linejoin:round; stroke-width:4; stroke-opacity:1; fill:none\" points=\"1774.76,1486.45 1774.76,1467.55 \"/>\n",
       "<polyline clip-path=\"url(#clip540)\" style=\"stroke:#000000; stroke-linecap:round; stroke-linejoin:round; stroke-width:4; stroke-opacity:1; fill:none\" points=\"2291.38,1486.45 2291.38,1467.55 \"/>\n",
       "<path clip-path=\"url(#clip540)\" d=\"M224.9 1517.37 Q221.289 1517.37 219.461 1520.93 Q217.655 1524.47 217.655 1531.6 Q217.655 1538.71 219.461 1542.27 Q221.289 1545.82 224.9 1545.82 Q228.535 1545.82 230.34 1542.27 Q232.169 1538.71 232.169 1531.6 Q232.169 1524.47 230.34 1520.93 Q228.535 1517.37 224.9 1517.37 M224.9 1513.66 Q230.711 1513.66 233.766 1518.27 Q236.845 1522.85 236.845 1531.6 Q236.845 1540.33 233.766 1544.94 Q230.711 1549.52 224.9 1549.52 Q219.09 1549.52 216.012 1544.94 Q212.956 1540.33 212.956 1531.6 Q212.956 1522.85 216.012 1518.27 Q219.09 1513.66 224.9 1513.66 Z\" fill=\"#000000\" fill-rule=\"nonzero\" fill-opacity=\"1\" /><path clip-path=\"url(#clip540)\" d=\"M720.792 1544.91 L737.111 1544.91 L737.111 1548.85 L715.167 1548.85 L715.167 1544.91 Q717.829 1542.16 722.412 1537.53 Q727.018 1532.88 728.199 1531.53 Q730.444 1529.01 731.324 1527.27 Q732.227 1525.51 732.227 1523.82 Q732.227 1521.07 730.282 1519.33 Q728.361 1517.6 725.259 1517.6 Q723.06 1517.6 720.606 1518.36 Q718.176 1519.13 715.398 1520.68 L715.398 1515.95 Q718.222 1514.82 720.676 1514.24 Q723.13 1513.66 725.167 1513.66 Q730.537 1513.66 733.731 1516.35 Q736.926 1519.03 736.926 1523.52 Q736.926 1525.65 736.116 1527.57 Q735.329 1529.47 733.222 1532.07 Q732.643 1532.74 729.542 1535.95 Q726.44 1539.15 720.792 1544.91 Z\" fill=\"#000000\" fill-rule=\"nonzero\" fill-opacity=\"1\" /><path clip-path=\"url(#clip540)\" d=\"M746.972 1514.29 L765.328 1514.29 L765.328 1518.22 L751.254 1518.22 L751.254 1526.7 Q752.273 1526.35 753.291 1526.19 Q754.31 1526 755.328 1526 Q761.115 1526 764.495 1529.17 Q767.875 1532.34 767.875 1537.76 Q767.875 1543.34 764.402 1546.44 Q760.93 1549.52 754.611 1549.52 Q752.435 1549.52 750.166 1549.15 Q747.921 1548.78 745.514 1548.04 L745.514 1543.34 Q747.597 1544.47 749.819 1545.03 Q752.041 1545.58 754.518 1545.58 Q758.523 1545.58 760.861 1543.48 Q763.199 1541.37 763.199 1537.76 Q763.199 1534.15 760.861 1532.04 Q758.523 1529.94 754.518 1529.94 Q752.643 1529.94 750.768 1530.35 Q748.916 1530.77 746.972 1531.65 L746.972 1514.29 Z\" fill=\"#000000\" fill-rule=\"nonzero\" fill-opacity=\"1\" /><path clip-path=\"url(#clip540)\" d=\"M1232.84 1514.29 L1251.2 1514.29 L1251.2 1518.22 L1237.12 1518.22 L1237.12 1526.7 Q1238.14 1526.35 1239.16 1526.19 Q1240.18 1526 1241.2 1526 Q1246.98 1526 1250.36 1529.17 Q1253.74 1532.34 1253.74 1537.76 Q1253.74 1543.34 1250.27 1546.44 Q1246.8 1549.52 1240.48 1549.52 Q1238.3 1549.52 1236.03 1549.15 Q1233.79 1548.78 1231.38 1548.04 L1231.38 1543.34 Q1233.47 1544.47 1235.69 1545.03 Q1237.91 1545.58 1240.39 1545.58 Q1244.39 1545.58 1246.73 1543.48 Q1249.07 1541.37 1249.07 1537.76 Q1249.07 1534.15 1246.73 1532.04 Q1244.39 1529.94 1240.39 1529.94 Q1238.51 1529.94 1236.64 1530.35 Q1234.78 1530.77 1232.84 1531.65 L1232.84 1514.29 Z\" fill=\"#000000\" fill-rule=\"nonzero\" fill-opacity=\"1\" /><path clip-path=\"url(#clip540)\" d=\"M1272.96 1517.37 Q1269.34 1517.37 1267.52 1520.93 Q1265.71 1524.47 1265.71 1531.6 Q1265.71 1538.71 1267.52 1542.27 Q1269.34 1545.82 1272.96 1545.82 Q1276.59 1545.82 1278.4 1542.27 Q1280.22 1538.71 1280.22 1531.6 Q1280.22 1524.47 1278.4 1520.93 Q1276.59 1517.37 1272.96 1517.37 M1272.96 1513.66 Q1278.77 1513.66 1281.82 1518.27 Q1284.9 1522.85 1284.9 1531.6 Q1284.9 1540.33 1281.82 1544.94 Q1278.77 1549.52 1272.96 1549.52 Q1267.15 1549.52 1264.07 1544.94 Q1261.01 1540.33 1261.01 1531.6 Q1261.01 1522.85 1264.07 1518.27 Q1267.15 1513.66 1272.96 1513.66 Z\" fill=\"#000000\" fill-rule=\"nonzero\" fill-opacity=\"1\" /><path clip-path=\"url(#clip540)\" d=\"M1748.62 1514.29 L1770.84 1514.29 L1770.84 1516.28 L1758.29 1548.85 L1753.41 1548.85 L1765.21 1518.22 L1748.62 1518.22 L1748.62 1514.29 Z\" fill=\"#000000\" fill-rule=\"nonzero\" fill-opacity=\"1\" /><path clip-path=\"url(#clip540)\" d=\"M1780 1514.29 L1798.36 1514.29 L1798.36 1518.22 L1784.29 1518.22 L1784.29 1526.7 Q1785.31 1526.35 1786.32 1526.19 Q1787.34 1526 1788.36 1526 Q1794.15 1526 1797.53 1529.17 Q1800.91 1532.34 1800.91 1537.76 Q1800.91 1543.34 1797.43 1546.44 Q1793.96 1549.52 1787.64 1549.52 Q1785.47 1549.52 1783.2 1549.15 Q1780.95 1548.78 1778.55 1548.04 L1778.55 1543.34 Q1780.63 1544.47 1782.85 1545.03 Q1785.07 1545.58 1787.55 1545.58 Q1791.56 1545.58 1793.89 1543.48 Q1796.23 1541.37 1796.23 1537.76 Q1796.23 1534.15 1793.89 1532.04 Q1791.56 1529.94 1787.55 1529.94 Q1785.68 1529.94 1783.8 1530.35 Q1781.95 1530.77 1780 1531.65 L1780 1514.29 Z\" fill=\"#000000\" fill-rule=\"nonzero\" fill-opacity=\"1\" /><path clip-path=\"url(#clip540)\" d=\"M2250.99 1544.91 L2258.63 1544.91 L2258.63 1518.55 L2250.32 1520.21 L2250.32 1515.95 L2258.58 1514.29 L2263.26 1514.29 L2263.26 1544.91 L2270.9 1544.91 L2270.9 1548.85 L2250.99 1548.85 L2250.99 1544.91 Z\" fill=\"#000000\" fill-rule=\"nonzero\" fill-opacity=\"1\" /><path clip-path=\"url(#clip540)\" d=\"M2290.34 1517.37 Q2286.73 1517.37 2284.9 1520.93 Q2283.09 1524.47 2283.09 1531.6 Q2283.09 1538.71 2284.9 1542.27 Q2286.73 1545.82 2290.34 1545.82 Q2293.97 1545.82 2295.78 1542.27 Q2297.61 1538.71 2297.61 1531.6 Q2297.61 1524.47 2295.78 1520.93 Q2293.97 1517.37 2290.34 1517.37 M2290.34 1513.66 Q2296.15 1513.66 2299.21 1518.27 Q2302.28 1522.85 2302.28 1531.6 Q2302.28 1540.33 2299.21 1544.94 Q2296.15 1549.52 2290.34 1549.52 Q2284.53 1549.52 2281.45 1544.94 Q2278.4 1540.33 2278.4 1531.6 Q2278.4 1522.85 2281.45 1518.27 Q2284.53 1513.66 2290.34 1513.66 Z\" fill=\"#000000\" fill-rule=\"nonzero\" fill-opacity=\"1\" /><path clip-path=\"url(#clip540)\" d=\"M2320.5 1517.37 Q2316.89 1517.37 2315.06 1520.93 Q2313.26 1524.47 2313.26 1531.6 Q2313.26 1538.71 2315.06 1542.27 Q2316.89 1545.82 2320.5 1545.82 Q2324.14 1545.82 2325.94 1542.27 Q2327.77 1538.71 2327.77 1531.6 Q2327.77 1524.47 2325.94 1520.93 Q2324.14 1517.37 2320.5 1517.37 M2320.5 1513.66 Q2326.31 1513.66 2329.37 1518.27 Q2332.45 1522.85 2332.45 1531.6 Q2332.45 1540.33 2329.37 1544.94 Q2326.31 1549.52 2320.5 1549.52 Q2314.69 1549.52 2311.61 1544.94 Q2308.56 1540.33 2308.56 1531.6 Q2308.56 1522.85 2311.61 1518.27 Q2314.69 1513.66 2320.5 1513.66 Z\" fill=\"#000000\" fill-rule=\"nonzero\" fill-opacity=\"1\" /><polyline clip-path=\"url(#clip542)\" style=\"stroke:#000000; stroke-linecap:round; stroke-linejoin:round; stroke-width:2; stroke-opacity:0.1; fill:none\" points=\"184.191,1237.71 2352.76,1237.71 \"/>\n",
       "<polyline clip-path=\"url(#clip542)\" style=\"stroke:#000000; stroke-linecap:round; stroke-linejoin:round; stroke-width:2; stroke-opacity:0.1; fill:none\" points=\"184.191,949.086 2352.76,949.086 \"/>\n",
       "<polyline clip-path=\"url(#clip542)\" style=\"stroke:#000000; stroke-linecap:round; stroke-linejoin:round; stroke-width:2; stroke-opacity:0.1; fill:none\" points=\"184.191,660.46 2352.76,660.46 \"/>\n",
       "<polyline clip-path=\"url(#clip542)\" style=\"stroke:#000000; stroke-linecap:round; stroke-linejoin:round; stroke-width:2; stroke-opacity:0.1; fill:none\" points=\"184.191,371.833 2352.76,371.833 \"/>\n",
       "<polyline clip-path=\"url(#clip542)\" style=\"stroke:#000000; stroke-linecap:round; stroke-linejoin:round; stroke-width:2; stroke-opacity:0.1; fill:none\" points=\"184.191,83.2067 2352.76,83.2067 \"/>\n",
       "<polyline clip-path=\"url(#clip540)\" style=\"stroke:#000000; stroke-linecap:round; stroke-linejoin:round; stroke-width:4; stroke-opacity:1; fill:none\" points=\"184.191,1486.45 184.191,47.2441 \"/>\n",
       "<polyline clip-path=\"url(#clip540)\" style=\"stroke:#000000; stroke-linecap:round; stroke-linejoin:round; stroke-width:4; stroke-opacity:1; fill:none\" points=\"184.191,1237.71 203.088,1237.71 \"/>\n",
       "<polyline clip-path=\"url(#clip540)\" style=\"stroke:#000000; stroke-linecap:round; stroke-linejoin:round; stroke-width:4; stroke-opacity:1; fill:none\" points=\"184.191,949.086 203.088,949.086 \"/>\n",
       "<polyline clip-path=\"url(#clip540)\" style=\"stroke:#000000; stroke-linecap:round; stroke-linejoin:round; stroke-width:4; stroke-opacity:1; fill:none\" points=\"184.191,660.46 203.088,660.46 \"/>\n",
       "<polyline clip-path=\"url(#clip540)\" style=\"stroke:#000000; stroke-linecap:round; stroke-linejoin:round; stroke-width:4; stroke-opacity:1; fill:none\" points=\"184.191,371.833 203.088,371.833 \"/>\n",
       "<polyline clip-path=\"url(#clip540)\" style=\"stroke:#000000; stroke-linecap:round; stroke-linejoin:round; stroke-width:4; stroke-opacity:1; fill:none\" points=\"184.191,83.2067 203.088,83.2067 \"/>\n",
       "<path clip-path=\"url(#clip540)\" d=\"M51.6634 1251.06 L59.3023 1251.06 L59.3023 1224.69 L50.9921 1226.36 L50.9921 1222.1 L59.256 1220.43 L63.9319 1220.43 L63.9319 1251.06 L71.5707 1251.06 L71.5707 1254.99 L51.6634 1254.99 L51.6634 1251.06 Z\" fill=\"#000000\" fill-rule=\"nonzero\" fill-opacity=\"1\" /><path clip-path=\"url(#clip540)\" d=\"M85.0429 1251.06 L101.362 1251.06 L101.362 1254.99 L79.4179 1254.99 L79.4179 1251.06 Q82.0799 1248.3 86.6632 1243.67 Q91.2697 1239.02 92.4502 1237.68 Q94.6956 1235.16 95.5752 1233.42 Q96.478 1231.66 96.478 1229.97 Q96.478 1227.22 94.5336 1225.48 Q92.6123 1223.74 89.5104 1223.74 Q87.3114 1223.74 84.8577 1224.51 Q82.4271 1225.27 79.6494 1226.82 L79.6494 1222.1 Q82.4734 1220.97 84.9271 1220.39 Q87.3808 1219.81 89.4178 1219.81 Q94.7882 1219.81 97.9826 1222.49 Q101.177 1225.18 101.177 1229.67 Q101.177 1231.8 100.367 1233.72 Q99.5798 1235.62 97.4734 1238.21 Q96.8947 1238.88 93.7928 1242.1 Q90.691 1245.29 85.0429 1251.06 Z\" fill=\"#000000\" fill-rule=\"nonzero\" fill-opacity=\"1\" /><path clip-path=\"url(#clip540)\" d=\"M111.177 1249.11 L116.061 1249.11 L116.061 1254.99 L111.177 1254.99 L111.177 1249.11 Z\" fill=\"#000000\" fill-rule=\"nonzero\" fill-opacity=\"1\" /><path clip-path=\"url(#clip540)\" d=\"M136.246 1223.51 Q132.635 1223.51 130.807 1227.08 Q129.001 1230.62 129.001 1237.75 Q129.001 1244.85 130.807 1248.42 Q132.635 1251.96 136.246 1251.96 Q139.881 1251.96 141.686 1248.42 Q143.515 1244.85 143.515 1237.75 Q143.515 1230.62 141.686 1227.08 Q139.881 1223.51 136.246 1223.51 M136.246 1219.81 Q142.056 1219.81 145.112 1224.41 Q148.191 1229 148.191 1237.75 Q148.191 1246.47 145.112 1251.08 Q142.056 1255.66 136.246 1255.66 Q130.436 1255.66 127.357 1251.08 Q124.302 1246.47 124.302 1237.75 Q124.302 1229 127.357 1224.41 Q130.436 1219.81 136.246 1219.81 Z\" fill=\"#000000\" fill-rule=\"nonzero\" fill-opacity=\"1\" /><path clip-path=\"url(#clip540)\" d=\"M52.6588 962.431 L60.2976 962.431 L60.2976 936.066 L51.9875 937.732 L51.9875 933.473 L60.2513 931.806 L64.9272 931.806 L64.9272 962.431 L72.5661 962.431 L72.5661 966.366 L52.6588 966.366 L52.6588 962.431 Z\" fill=\"#000000\" fill-rule=\"nonzero\" fill-opacity=\"1\" /><path clip-path=\"url(#clip540)\" d=\"M86.0382 962.431 L102.358 962.431 L102.358 966.366 L80.4133 966.366 L80.4133 962.431 Q83.0753 959.677 87.6586 955.047 Q92.2651 950.394 93.4456 949.052 Q95.691 946.529 96.5706 944.792 Q97.4734 943.033 97.4734 941.343 Q97.4734 938.589 95.5289 936.853 Q93.6076 935.117 90.5058 935.117 Q88.3067 935.117 85.8531 935.881 Q83.4225 936.644 80.6447 938.195 L80.6447 933.473 Q83.4688 932.339 85.9225 931.76 Q88.3762 931.181 90.4132 931.181 Q95.7836 931.181 98.978 933.867 Q102.172 936.552 102.172 941.043 Q102.172 943.172 101.362 945.093 Q100.575 946.992 98.4687 949.584 Q97.89 950.255 94.7882 953.473 Q91.6864 956.667 86.0382 962.431 Z\" fill=\"#000000\" fill-rule=\"nonzero\" fill-opacity=\"1\" /><path clip-path=\"url(#clip540)\" d=\"M112.172 960.487 L117.057 960.487 L117.057 966.366 L112.172 966.366 L112.172 960.487 Z\" fill=\"#000000\" fill-rule=\"nonzero\" fill-opacity=\"1\" /><path clip-path=\"url(#clip540)\" d=\"M127.288 931.806 L145.644 931.806 L145.644 935.742 L131.57 935.742 L131.57 944.214 Q132.589 943.867 133.607 943.705 Q134.626 943.519 135.644 943.519 Q141.431 943.519 144.811 946.691 Q148.191 949.862 148.191 955.279 Q148.191 960.857 144.718 963.959 Q141.246 967.038 134.927 967.038 Q132.751 967.038 130.482 966.667 Q128.237 966.297 125.83 965.556 L125.83 960.857 Q127.913 961.991 130.135 962.547 Q132.357 963.103 134.834 963.103 Q138.839 963.103 141.177 960.996 Q143.515 958.89 143.515 955.279 Q143.515 951.667 141.177 949.561 Q138.839 947.455 134.834 947.455 Q132.959 947.455 131.084 947.871 Q129.232 948.288 127.288 949.167 L127.288 931.806 Z\" fill=\"#000000\" fill-rule=\"nonzero\" fill-opacity=\"1\" /><path clip-path=\"url(#clip540)\" d=\"M51.6634 673.805 L59.3023 673.805 L59.3023 647.439 L50.9921 649.106 L50.9921 644.847 L59.256 643.18 L63.9319 643.18 L63.9319 673.805 L71.5707 673.805 L71.5707 677.74 L51.6634 677.74 L51.6634 673.805 Z\" fill=\"#000000\" fill-rule=\"nonzero\" fill-opacity=\"1\" /><path clip-path=\"url(#clip540)\" d=\"M95.1817 659.106 Q98.5382 659.823 100.413 662.092 Q102.311 664.36 102.311 667.694 Q102.311 672.809 98.7928 675.61 Q95.2743 678.411 88.7928 678.411 Q86.6169 678.411 84.3021 677.971 Q82.0105 677.555 79.5568 676.698 L79.5568 672.184 Q81.5012 673.319 83.816 673.897 Q86.1308 674.476 88.654 674.476 Q93.0521 674.476 95.3437 672.74 Q97.6585 671.004 97.6585 667.694 Q97.6585 664.638 95.5058 662.925 Q93.3762 661.189 89.5567 661.189 L85.529 661.189 L85.529 657.346 L89.7419 657.346 Q93.191 657.346 95.0197 655.981 Q96.8484 654.592 96.8484 651.999 Q96.8484 649.337 94.9502 647.925 Q93.0752 646.49 89.5567 646.49 Q87.6354 646.49 85.4364 646.907 Q83.2373 647.323 80.5984 648.203 L80.5984 644.036 Q83.2605 643.296 85.5753 642.925 Q87.9132 642.555 89.9734 642.555 Q95.2974 642.555 98.3993 644.985 Q101.501 647.393 101.501 651.513 Q101.501 654.384 99.8576 656.374 Q98.2141 658.342 95.1817 659.106 Z\" fill=\"#000000\" fill-rule=\"nonzero\" fill-opacity=\"1\" /><path clip-path=\"url(#clip540)\" d=\"M111.177 671.86 L116.061 671.86 L116.061 677.74 L111.177 677.74 L111.177 671.86 Z\" fill=\"#000000\" fill-rule=\"nonzero\" fill-opacity=\"1\" /><path clip-path=\"url(#clip540)\" d=\"M136.246 646.259 Q132.635 646.259 130.807 649.823 Q129.001 653.365 129.001 660.495 Q129.001 667.601 130.807 671.166 Q132.635 674.707 136.246 674.707 Q139.881 674.707 141.686 671.166 Q143.515 667.601 143.515 660.495 Q143.515 653.365 141.686 649.823 Q139.881 646.259 136.246 646.259 M136.246 642.555 Q142.056 642.555 145.112 647.161 Q148.191 651.745 148.191 660.495 Q148.191 669.221 145.112 673.828 Q142.056 678.411 136.246 678.411 Q130.436 678.411 127.357 673.828 Q124.302 669.221 124.302 660.495 Q124.302 651.745 127.357 647.161 Q130.436 642.555 136.246 642.555 Z\" fill=\"#000000\" fill-rule=\"nonzero\" fill-opacity=\"1\" /><path clip-path=\"url(#clip540)\" d=\"M52.6588 385.178 L60.2976 385.178 L60.2976 358.813 L51.9875 360.479 L51.9875 356.22 L60.2513 354.553 L64.9272 354.553 L64.9272 385.178 L72.5661 385.178 L72.5661 389.113 L52.6588 389.113 L52.6588 385.178 Z\" fill=\"#000000\" fill-rule=\"nonzero\" fill-opacity=\"1\" /><path clip-path=\"url(#clip540)\" d=\"M96.1771 370.479 Q99.5335 371.197 101.409 373.465 Q103.307 375.734 103.307 379.067 Q103.307 384.183 99.7882 386.984 Q96.2697 389.785 89.7882 389.785 Q87.6123 389.785 85.2975 389.345 Q83.0058 388.928 80.5522 388.072 L80.5522 383.558 Q82.4966 384.692 84.8114 385.271 Q87.1262 385.849 89.6493 385.849 Q94.0475 385.849 96.3391 384.113 Q98.6539 382.377 98.6539 379.067 Q98.6539 376.011 96.5011 374.299 Q94.3715 372.562 90.5521 372.562 L86.5243 372.562 L86.5243 368.72 L90.7373 368.72 Q94.1863 368.72 96.015 367.354 Q97.8437 365.965 97.8437 363.373 Q97.8437 360.711 95.9456 359.299 Q94.0706 357.863 90.5521 357.863 Q88.6308 357.863 86.4318 358.28 Q84.2327 358.697 81.5938 359.576 L81.5938 355.41 Q84.2558 354.669 86.5706 354.299 Q88.9086 353.928 90.9688 353.928 Q96.2928 353.928 99.3946 356.359 Q102.496 358.766 102.496 362.887 Q102.496 365.757 100.853 367.748 Q99.2095 369.715 96.1771 370.479 Z\" fill=\"#000000\" fill-rule=\"nonzero\" fill-opacity=\"1\" /><path clip-path=\"url(#clip540)\" d=\"M112.172 383.234 L117.057 383.234 L117.057 389.113 L112.172 389.113 L112.172 383.234 Z\" fill=\"#000000\" fill-rule=\"nonzero\" fill-opacity=\"1\" /><path clip-path=\"url(#clip540)\" d=\"M127.288 354.553 L145.644 354.553 L145.644 358.488 L131.57 358.488 L131.57 366.961 Q132.589 366.613 133.607 366.451 Q134.626 366.266 135.644 366.266 Q141.431 366.266 144.811 369.437 Q148.191 372.609 148.191 378.025 Q148.191 383.604 144.718 386.706 Q141.246 389.785 134.927 389.785 Q132.751 389.785 130.482 389.414 Q128.237 389.044 125.83 388.303 L125.83 383.604 Q127.913 384.738 130.135 385.294 Q132.357 385.849 134.834 385.849 Q138.839 385.849 141.177 383.743 Q143.515 381.636 143.515 378.025 Q143.515 374.414 141.177 372.308 Q138.839 370.201 134.834 370.201 Q132.959 370.201 131.084 370.618 Q129.232 371.035 127.288 371.914 L127.288 354.553 Z\" fill=\"#000000\" fill-rule=\"nonzero\" fill-opacity=\"1\" /><path clip-path=\"url(#clip540)\" d=\"M51.6634 96.5515 L59.3023 96.5515 L59.3023 70.1859 L50.9921 71.8526 L50.9921 67.5933 L59.256 65.9267 L63.9319 65.9267 L63.9319 96.5515 L71.5707 96.5515 L71.5707 100.487 L51.6634 100.487 L51.6634 96.5515 Z\" fill=\"#000000\" fill-rule=\"nonzero\" fill-opacity=\"1\" /><path clip-path=\"url(#clip540)\" d=\"M93.8623 70.0007 L82.0568 88.4497 L93.8623 88.4497 L93.8623 70.0007 M92.6354 65.9267 L98.515 65.9267 L98.515 88.4497 L103.446 88.4497 L103.446 92.3386 L98.515 92.3386 L98.515 100.487 L93.8623 100.487 L93.8623 92.3386 L78.2605 92.3386 L78.2605 87.8247 L92.6354 65.9267 Z\" fill=\"#000000\" fill-rule=\"nonzero\" fill-opacity=\"1\" /><path clip-path=\"url(#clip540)\" d=\"M111.177 94.6071 L116.061 94.6071 L116.061 100.487 L111.177 100.487 L111.177 94.6071 Z\" fill=\"#000000\" fill-rule=\"nonzero\" fill-opacity=\"1\" /><path clip-path=\"url(#clip540)\" d=\"M136.246 69.0054 Q132.635 69.0054 130.807 72.5702 Q129.001 76.1118 129.001 83.2414 Q129.001 90.3478 130.807 93.9126 Q132.635 97.4543 136.246 97.4543 Q139.881 97.4543 141.686 93.9126 Q143.515 90.3478 143.515 83.2414 Q143.515 76.1118 141.686 72.5702 Q139.881 69.0054 136.246 69.0054 M136.246 65.3017 Q142.056 65.3017 145.112 69.9081 Q148.191 74.4914 148.191 83.2414 Q148.191 91.9682 145.112 96.5747 Q142.056 101.158 136.246 101.158 Q130.436 101.158 127.357 96.5747 Q124.302 91.9682 124.302 83.2414 Q124.302 74.4914 127.357 69.9081 Q130.436 65.3017 136.246 65.3017 Z\" fill=\"#000000\" fill-rule=\"nonzero\" fill-opacity=\"1\" /><polyline clip-path=\"url(#clip542)\" style=\"stroke:#009af9; stroke-linecap:round; stroke-linejoin:round; stroke-width:4; stroke-opacity:1; fill:none\" points=\"245.565,229.981 266.23,767.133 286.895,949.017 307.56,858.406 328.224,843.311 348.889,753.396 369.554,822.521 390.219,914.368 410.884,1048.77 431.548,953.227 452.213,997.275 472.878,1033.89 493.543,1004.84 514.208,1086.56 534.873,1040.53 555.537,1102.66 576.202,1121.99 596.867,1078.85 617.532,1132.23 638.197,1188.72 658.861,1217.84 679.526,1217.41 700.191,1245.98 720.856,1242.12 741.521,1268.46 762.185,1233.85 782.85,1228.19 803.515,1210.89 824.18,1216.63 844.845,1238.33 865.509,1254.94 886.174,1288.69 906.839,1267.83 927.504,1284.86 948.169,1314.19 968.834,1289.26 989.498,1307.24 1010.16,1298.4 1030.83,1273.96 1051.49,1270.98 1072.16,1296.28 1092.82,1283.3 1113.49,1287.78 1134.15,1302.09 1154.82,1289.4 1175.48,1292.7 1196.15,1269.95 1216.81,1271.3 1237.48,1266.03 1258.14,1272.28 1278.81,1269.79 1299.47,1285.51 1320.14,1287.95 1340.8,1275.25 1361.46,1272.3 1382.13,1261.94 1402.79,1264.22 1423.46,1274.73 1444.12,1282.6 1464.79,1282.62 1485.45,1274.54 1506.12,1276.19 1526.78,1262.55 1547.45,1269.23 1568.11,1277.63 1588.78,1282.16 1609.44,1279.17 1630.11,1289.1 1650.77,1280.11 1671.44,1278.56 1692.1,1267.59 1712.77,1263.24 1733.43,1266.58 1754.1,1253.16 1774.76,1267.86 1795.43,1271.13 1816.09,1265.4 1836.76,1253.87 1857.42,1239.88 1878.09,1237.81 1898.75,1246.02 1919.41,1255.59 1940.08,1255.05 1960.74,1243.49 1981.41,1230.54 2002.07,1232.59 2022.74,1223.44 2043.4,1219.31 2064.07,1223.03 2084.73,1224.43 2105.4,1221.65 2126.06,1216.95 2146.73,1226.57 2167.39,1229.61 2188.06,1229.69 2208.72,1221.04 2229.39,1217.4 2250.05,1215.5 2270.72,1217.09 2291.38,1224.1 \"/>\n",
       "<polyline clip-path=\"url(#clip542)\" style=\"stroke:#e26f46; stroke-linecap:round; stroke-linejoin:round; stroke-width:4; stroke-opacity:1; fill:none\" points=\"245.565,87.9763 266.23,1045.47 286.895,1231.73 307.56,1093.36 328.224,1282.94 348.889,1445.72 369.554,1284.84 390.219,1372.17 410.884,1404.86 431.548,1415.61 452.213,1301.69 472.878,1251.76 493.543,1217.42 514.208,1249.86 534.873,1193.27 555.537,1249.34 576.202,1203.47 596.867,1222.63 617.532,1211.43 638.197,1238.06 658.861,1199.52 679.526,1224.79 700.191,1213.34 720.856,1175.49 741.521,1169.16 762.185,1143.41 782.85,1169.72 803.515,1153.29 824.18,1126.81 844.845,1100.94 865.509,1076.31 886.174,1049.56 906.839,1054.63 927.504,1063.2 948.169,1093.43 968.834,1106.97 989.498,1106.14 1010.16,1120.37 1030.83,1128.28 1051.49,1123.83 1072.16,1118.28 1092.82,1134.87 1113.49,1135.21 1134.15,1124.59 1154.82,1144.98 1175.48,1164.69 1196.15,1145.99 1216.81,1159.93 1237.48,1139.02 1258.14,1155.12 1278.81,1173.22 1299.47,1169.62 1320.14,1165.08 1340.8,1187.06 1361.46,1177.82 1382.13,1183.9 1402.79,1199.28 1423.46,1210.59 1444.12,1200.64 1464.79,1194.72 1485.45,1207.08 1506.12,1195.6 1526.78,1198.53 1547.45,1190.26 1568.11,1198.29 1588.78,1206.61 1609.44,1191.75 1630.11,1199.38 1650.77,1185.21 1671.44,1201.56 1692.1,1209.9 1712.77,1224.55 1733.43,1236.63 1754.1,1249.69 1774.76,1254.42 1795.43,1247.51 1816.09,1250.62 1836.76,1235.66 1857.42,1235.11 1878.09,1230.97 1898.75,1231.22 1919.41,1227 1940.08,1237.63 1960.74,1225.37 1981.41,1231.1 2002.07,1229.72 2022.74,1238.82 2043.4,1239.92 2064.07,1232.13 2084.73,1224.5 2105.4,1228.15 2126.06,1219.82 2146.73,1223.87 2167.39,1229.12 2188.06,1239.03 2208.72,1243.98 2229.39,1240.73 2250.05,1231.14 2270.72,1223.1 2291.38,1222.16 \"/>\n",
       "<path clip-path=\"url(#clip540)\" d=\"M2011.18 250.738 L2280.47 250.738 L2280.47 95.2176 L2011.18 95.2176  Z\" fill=\"#ffffff\" fill-rule=\"evenodd\" fill-opacity=\"1\"/>\n",
       "<polyline clip-path=\"url(#clip540)\" style=\"stroke:#000000; stroke-linecap:round; stroke-linejoin:round; stroke-width:4; stroke-opacity:1; fill:none\" points=\"2011.18,250.738 2280.47,250.738 2280.47,95.2176 2011.18,95.2176 2011.18,250.738 \"/>\n",
       "<polyline clip-path=\"url(#clip540)\" style=\"stroke:#009af9; stroke-linecap:round; stroke-linejoin:round; stroke-width:4; stroke-opacity:1; fill:none\" points=\"2035.28,147.058 2179.85,147.058 \"/>\n",
       "<path clip-path=\"url(#clip540)\" d=\"M2217.79 166.745 Q2215.98 171.375 2214.27 172.787 Q2212.56 174.199 2209.69 174.199 L2206.28 174.199 L2206.28 170.634 L2208.78 170.634 Q2210.54 170.634 2211.51 169.8 Q2212.49 168.967 2213.67 165.865 L2214.43 163.921 L2203.94 138.412 L2208.46 138.412 L2216.56 158.689 L2224.66 138.412 L2229.18 138.412 L2217.79 166.745 Z\" fill=\"#000000\" fill-rule=\"nonzero\" fill-opacity=\"1\" /><path clip-path=\"url(#clip540)\" d=\"M2236.47 160.402 L2244.11 160.402 L2244.11 134.037 L2235.8 135.703 L2235.8 131.444 L2244.06 129.778 L2248.74 129.778 L2248.74 160.402 L2256.38 160.402 L2256.38 164.338 L2236.47 164.338 L2236.47 160.402 Z\" fill=\"#000000\" fill-rule=\"nonzero\" fill-opacity=\"1\" /><polyline clip-path=\"url(#clip540)\" style=\"stroke:#e26f46; stroke-linecap:round; stroke-linejoin:round; stroke-width:4; stroke-opacity:1; fill:none\" points=\"2035.28,198.898 2179.85,198.898 \"/>\n",
       "<path clip-path=\"url(#clip540)\" d=\"M2217.79 218.585 Q2215.98 223.215 2214.27 224.627 Q2212.56 226.039 2209.69 226.039 L2206.28 226.039 L2206.28 222.474 L2208.78 222.474 Q2210.54 222.474 2211.51 221.64 Q2212.49 220.807 2213.67 217.705 L2214.43 215.761 L2203.94 190.252 L2208.46 190.252 L2216.56 210.529 L2224.66 190.252 L2229.18 190.252 L2217.79 218.585 Z\" fill=\"#000000\" fill-rule=\"nonzero\" fill-opacity=\"1\" /><path clip-path=\"url(#clip540)\" d=\"M2239.69 212.242 L2256 212.242 L2256 216.178 L2234.06 216.178 L2234.06 212.242 Q2236.72 209.488 2241.31 204.858 Q2245.91 200.205 2247.09 198.863 Q2249.34 196.34 2250.22 194.604 Q2251.12 192.844 2251.12 191.155 Q2251.12 188.4 2249.18 186.664 Q2247.25 184.928 2244.15 184.928 Q2241.95 184.928 2239.5 185.692 Q2237.07 186.455 2234.29 188.006 L2234.29 183.284 Q2237.12 182.15 2239.57 181.571 Q2242.02 180.993 2244.06 180.993 Q2249.43 180.993 2252.63 183.678 Q2255.82 186.363 2255.82 190.854 Q2255.82 192.983 2255.01 194.905 Q2254.22 196.803 2252.12 199.395 Q2251.54 200.067 2248.44 203.284 Q2245.33 206.479 2239.69 212.242 Z\" fill=\"#000000\" fill-rule=\"nonzero\" fill-opacity=\"1\" /></svg>\n"
      ]
     },
     "execution_count": 26,
     "metadata": {},
     "output_type": "execute_result"
    }
   ],
   "source": [
    "using Plots\n",
    "plot(f(100))\n",
    "plot!(f2(100))"
   ]
  },
  {
   "cell_type": "markdown",
   "id": "45b49f67-80f5-48c7-9968-07e010eea090",
   "metadata": {},
   "source": [
    "2. Moving average filter"
   ]
  },
  {
   "cell_type": "code",
   "execution_count": 93,
   "id": "735a561a-af67-498b-8204-8281adb524e9",
   "metadata": {},
   "outputs": [
    {
     "data": {
      "text/plain": [
       "f1 (generic function with 2 methods)"
      ]
     },
     "execution_count": 93,
     "metadata": {},
     "output_type": "execute_result"
    }
   ],
   "source": [
    "function f1(k::Int64)\n",
    "    α = 1\n",
    "    β = 1\n",
    "    Y = zeros(k)\n",
    "    ϵ = 2*rand(k)\n",
    "    \n",
    "    for i in 1:k\n",
    "        if i == 1\n",
    "            Y[i] = α + ϵ[i]\n",
    "        else\n",
    "            Y[i] = α + Y[i-1] + ϵ[i]\n",
    "        end\n",
    "    end\n",
    "    return Y\n",
    "end"
   ]
  },
  {
   "cell_type": "code",
   "execution_count": 97,
   "id": "e9963edb-3660-4f29-90ac-f24c5de8073b",
   "metadata": {},
   "outputs": [
    {
     "data": {
      "text/plain": [
       "f2 (generic function with 2 methods)"
      ]
     },
     "execution_count": 97,
     "metadata": {},
     "output_type": "execute_result"
    }
   ],
   "source": [
    "function f2(n::Int64, k::Int64)\n",
    "    Y = f1(k)\n",
    "    MA = zeros(k)\n",
    "    \n",
    "    for i in 1:k\n",
    "        if n <= i\n",
    "            MA[i] = sum(Y[1:i])/n\n",
    "        else\n",
    "            MA[i] = sum(Y[(i-n):i])/n\n",
    "        end\n",
    "    end\n",
    "    return (; val = Y, avg = MA)\n",
    "end\n",
    "\n"
   ]
  },
  {
   "cell_type": "code",
   "execution_count": 98,
   "id": "57b5cd1b-66c7-494d-85d5-a7ee42c65c5c",
   "metadata": {},
   "outputs": [
    {
     "ename": "LoadError",
     "evalue": "BoundsError: attempt to access 10-element Vector{Float64} at index [-1:1]",
     "output_type": "error",
     "traceback": [
      "BoundsError: attempt to access 10-element Vector{Float64} at index [-1:1]",
      "",
      "Stacktrace:",
      " [1] throw_boundserror(A::Vector{Float64}, I::Tuple{UnitRange{Int64}})",
      "   @ Base .\\abstractarray.jl:737",
      " [2] checkbounds",
      "   @ .\\abstractarray.jl:702 [inlined]",
      " [3] getindex",
      "   @ .\\array.jl:973 [inlined]",
      " [4] f2(n::Int64, k::Int64)",
      "   @ Main .\\In[97]:9",
      " [5] top-level scope",
      "   @ In[98]:1"
     ]
    }
   ],
   "source": [
    "f2(2,10)"
   ]
  },
  {
   "cell_type": "code",
   "execution_count": null,
   "id": "e7fb9458-130b-4a5e-9dd8-65be17e0ec73",
   "metadata": {},
   "outputs": [],
   "source": []
  }
 ],
 "metadata": {
  "kernelspec": {
   "display_name": "Julia 1.10.4",
   "language": "julia",
   "name": "julia-1.10"
  },
  "language_info": {
   "file_extension": ".jl",
   "mimetype": "application/julia",
   "name": "julia",
   "version": "1.10.4"
  }
 },
 "nbformat": 4,
 "nbformat_minor": 5
}
