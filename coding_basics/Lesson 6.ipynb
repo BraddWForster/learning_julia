{
 "cells": [
  {
   "cell_type": "markdown",
   "id": "9b88b35e-6c90-41f0-8faf-3f4cc861adde",
   "metadata": {},
   "source": [
    "## Lesson 6"
   ]
  },
  {
   "cell_type": "code",
   "execution_count": 1,
   "id": "9574fa5d-d28a-444a-9844-8bdc1e6bda3d",
   "metadata": {},
   "outputs": [],
   "source": [
    "using LinearAlgebra, Statistics\n",
    "using Distributions, Plots, QuadGK, Polynomials, Interpolations"
   ]
  },
  {
   "cell_type": "markdown",
   "id": "efdf70b1-d272-4154-9957-2781e7dd2188",
   "metadata": {},
   "source": [
    "### Exploring type trees"
   ]
  },
  {
   "cell_type": "code",
   "execution_count": 3,
   "id": "beb49e5b-9034-41f9-94f0-369a94a466f8",
   "metadata": {},
   "outputs": [
    {
     "name": "stdout",
     "output_type": "stream",
     "text": [
      "(x, y, z) = (1, Normal{Float64}(μ=0.0, σ=1.0), \"foo\")\n",
      "(typeof(x), typeof(y), typeof(z)) = (Int64, Normal{Float64}, String)\n",
      "supertype(typeof(x)) = Signed\n"
     ]
    }
   ],
   "source": [
    "x = 1\n",
    "y = Normal()\n",
    "z = \"foo\"\n",
    "@show x, y, z\n",
    "@show typeof(x), typeof(y), typeof(z)\n",
    "@show supertype(typeof(x));"
   ]
  },
  {
   "cell_type": "markdown",
   "id": "3e9adab1-2ca2-4327-ab3b-85f2eb87ee35",
   "metadata": {},
   "source": [
    "The pipe operator, `|>`, is is equivalent"
   ]
  },
  {
   "cell_type": "code",
   "execution_count": 4,
   "id": "dd6305f6-64ca-4fe6-b5e2-97acabb9c3d8",
   "metadata": {},
   "outputs": [
    {
     "name": "stdout",
     "output_type": "stream",
     "text": [
      "typeof(x) |> supertype = Signed\n",
      "supertype(typeof(x)) = Signed\n",
      "supertype(typeof(y)) = Distribution{Univariate, Continuous}\n",
      "typeof(z) |> supertype = AbstractString\n",
      "typeof(x) <: Any = true\n"
     ]
    }
   ],
   "source": [
    "@show typeof(x) |> supertype\n",
    "@show supertype(typeof(x))    # same result as above\n",
    "@show supertype(typeof(y))\n",
    "@show typeof(z) |> supertype\n",
    "@show typeof(x) <: Any;    # shows is `Signed` is in the family of `Any`"
   ]
  },
  {
   "cell_type": "markdown",
   "id": "cc2490c5-b58f-46ec-ae5a-899596943feb",
   "metadata": {},
   "source": [
    "#### More `typeof` and `supertype` functions "
   ]
  },
  {
   "cell_type": "code",
   "execution_count": 5,
   "id": "ab132d28-c79a-4780-8117-218e660eac32",
   "metadata": {},
   "outputs": [
    {
     "name": "stdout",
     "output_type": "stream",
     "text": [
      "Int64 <: Signed <: Integer <: Real <: Number <: Any"
     ]
    }
   ],
   "source": [
    "using Base: show_supertypes\n",
    "\n",
    "show_supertypes(Int64)"
   ]
  },
  {
   "cell_type": "code",
   "execution_count": 6,
   "id": "c605d90b-ca53-4110-bdf1-8ea14533d5ac",
   "metadata": {},
   "outputs": [
    {
     "data": {
      "text/plain": [
       "3-element Vector{Any}:\n",
       " Bool\n",
       " Signed\n",
       " Unsigned"
      ]
     },
     "execution_count": 6,
     "metadata": {},
     "output_type": "execute_result"
    }
   ],
   "source": [
    "subtypes(Integer)"
   ]
  },
  {
   "cell_type": "markdown",
   "id": "c9a4ab87-f5c6-4f4a-a688-bbfa02f24187",
   "metadata": {},
   "source": [
    "You can use the `subtypes` function to write an algorithim that shows the full family tree below a specific type `t`."
   ]
  },
  {
   "cell_type": "code",
   "execution_count": 7,
   "id": "0486980b-7d8f-4ba5-985f-302035739b14",
   "metadata": {},
   "outputs": [
    {
     "data": {
      "text/plain": [
       "subtypetree (generic function with 3 methods)"
      ]
     },
     "execution_count": 7,
     "metadata": {},
     "output_type": "execute_result"
    }
   ],
   "source": [
    "function subtypetree(t, level = 1, indent = 4)\n",
    "    if level == 1\n",
    "        println(t)\n",
    "    end\n",
    "    for s in subtypes(t)\n",
    "        println(join(fill(\" \", level * indent)) * string(s))    # print type\n",
    "        subtypetree(s, level + 1, indent)    # recursively print the next type, indenting\n",
    "    end\n",
    "end"
   ]
  },
  {
   "cell_type": "code",
   "execution_count": 8,
   "id": "5406405d-e2d7-4ea7-9e54-08b935e7e0ec",
   "metadata": {},
   "outputs": [
    {
     "name": "stdout",
     "output_type": "stream",
     "text": [
      "Number\n",
      "    Base.MultiplicativeInverses.MultiplicativeInverse\n",
      "        Base.MultiplicativeInverses.SignedMultiplicativeInverse\n",
      "        Base.MultiplicativeInverses.UnsignedMultiplicativeInverse\n",
      "    Complex\n",
      "    DualNumbers.Dual\n",
      "    Plots.Measurement\n",
      "    Real\n",
      "        AbstractFloat\n",
      "            BigFloat\n",
      "            Float16\n",
      "            Float32\n",
      "            Float64\n",
      "        AbstractIrrational\n",
      "            Irrational\n",
      "            IrrationalConstants.IrrationalConstant\n",
      "                IrrationalConstants.Fourinvπ\n",
      "                IrrationalConstants.Fourπ\n",
      "                IrrationalConstants.Halfπ\n",
      "                IrrationalConstants.Inv2π\n",
      "                IrrationalConstants.Inv4π\n",
      "                IrrationalConstants.Invsqrt2\n",
      "                IrrationalConstants.Invsqrt2π\n",
      "                IrrationalConstants.Invsqrtπ\n",
      "                IrrationalConstants.Invπ\n",
      "                IrrationalConstants.Log2π\n",
      "                IrrationalConstants.Log4π\n",
      "                IrrationalConstants.Loghalf\n",
      "                IrrationalConstants.Logten\n",
      "                IrrationalConstants.Logtwo\n",
      "                IrrationalConstants.Logπ\n",
      "                IrrationalConstants.Quartπ\n",
      "                IrrationalConstants.Sqrt2\n",
      "                IrrationalConstants.Sqrt2π\n",
      "                IrrationalConstants.Sqrt3\n",
      "                IrrationalConstants.Sqrt4π\n",
      "                IrrationalConstants.Sqrthalfπ\n",
      "                IrrationalConstants.Sqrtπ\n",
      "                IrrationalConstants.Twoinvπ\n",
      "                IrrationalConstants.Twoπ\n",
      "        FixedPointNumbers.FixedPoint\n",
      "            FixedPointNumbers.Fixed\n",
      "            FixedPointNumbers.Normed\n",
      "        Integer\n",
      "            Bool\n",
      "            Signed\n",
      "                BigInt\n",
      "                Int128\n",
      "                Int16\n",
      "                Int32\n",
      "                Int64\n",
      "                Int8\n",
      "            Unsigned\n",
      "                UInt128\n",
      "                UInt16\n",
      "                UInt32\n",
      "                UInt64\n",
      "                UInt8\n",
      "        Rational\n",
      "        Ratios.SimpleRatio\n",
      "        StatsBase.PValue\n",
      "        StatsBase.TestStat\n"
     ]
    }
   ],
   "source": [
    "subtypetree(Number)"
   ]
  },
  {
   "cell_type": "markdown",
   "id": "27efbb25-ff95-4cb5-ac64-e622fe5bbf24",
   "metadata": {},
   "source": [
    "The root of all types is `Any` (you wouldn't want to use `subtypetree` on `Any`."
   ]
  },
  {
   "cell_type": "markdown",
   "id": "5ec748ec-97b1-484d-9544-228ed3a5d6a4",
   "metadata": {},
   "source": [
    "Making a custom type"
   ]
  },
  {
   "cell_type": "code",
   "execution_count": 9,
   "id": "ef246564-cabf-46a3-a80d-7b19c0245bb8",
   "metadata": {},
   "outputs": [
    {
     "name": "stdout",
     "output_type": "stream",
     "text": [
      "myval = MyType(2.0)\n",
      "typeof(myval) = MyType\n",
      "supertype(typeof(myval)) = Any\n",
      "typeof(myval) <: Any = true\n"
     ]
    }
   ],
   "source": [
    "struct MyType\n",
    "    a::Float64\n",
    "end\n",
    "\n",
    "myval = MyType(2.0)\n",
    "@show myval\n",
    "@show typeof(myval)\n",
    "@show supertype(typeof(myval))\n",
    "@show typeof(myval) <: Any;"
   ]
  },
  {
   "cell_type": "code",
   "execution_count": 10,
   "id": "92893006-b33b-409f-8a91-a4ba5aaa4266",
   "metadata": {},
   "outputs": [
    {
     "name": "stdout",
     "output_type": "stream",
     "text": [
      "[1, 2]"
     ]
    }
   ],
   "source": [
    "x = [1, 2]\n",
    "show(x)"
   ]
  },
  {
   "cell_type": "code",
   "execution_count": 11,
   "id": "0fe4916d-6fb4-4147-a281-fd0bf3c05d59",
   "metadata": {},
   "outputs": [
    {
     "data": {
      "text/plain": [
       "MyType(2.0)"
      ]
     },
     "execution_count": 11,
     "metadata": {},
     "output_type": "execute_result"
    }
   ],
   "source": [
    "myval = MyType(2.0)"
   ]
  },
  {
   "cell_type": "code",
   "execution_count": 12,
   "id": "e0136d85-4b0e-4380-bc3a-76471ca9017a",
   "metadata": {},
   "outputs": [
    {
     "name": "stdout",
     "output_type": "stream",
     "text": [
      "MyType(2.0)"
     ]
    }
   ],
   "source": [
    "show(myval)"
   ]
  },
  {
   "cell_type": "markdown",
   "id": "2c6f4068-461b-4789-87e8-2ea3e078476c",
   "metadata": {},
   "source": [
    "Fallback implementation"
   ]
  },
  {
   "cell_type": "code",
   "execution_count": 14,
   "id": "7a3fbcd2-3e49-4f66-99b1-c89ce5a9d4ad",
   "metadata": {},
   "outputs": [
    {
     "name": "stdout",
     "output_type": "stream",
     "text": [
      "(MyType.a = 2.0)"
     ]
    }
   ],
   "source": [
    "import Base.show\n",
    "\n",
    "function show(io::IO, x::MyType)\n",
    "    str = \"(MyType.a = $(x.a))\"    # custom display\n",
    "    print(io, str)\n",
    "end\n",
    "show(myval)"
   ]
  },
  {
   "cell_type": "markdown",
   "id": "4da4b6ec-8836-4377-b7ac-7612b031527c",
   "metadata": {},
   "source": [
    "## Distributions"
   ]
  },
  {
   "cell_type": "code",
   "execution_count": 16,
   "id": "3507d439-9c21-42a4-87e8-b04bb351d4b2",
   "metadata": {},
   "outputs": [
    {
     "name": "stdout",
     "output_type": "stream",
     "text": [
      "d1 = Normal{Float64}(μ=1.0, σ=2.0)\n",
      "Normal{Float64} <: Distribution{Univariate, Continuous} <: Sampleable{Univariate, Continuous} <: Any"
     ]
    }
   ],
   "source": [
    "using Distributions\n",
    "d1 = Normal(1.0, 2.0)    # an example type to explore\n",
    "@show d1\n",
    "show_supertypes(typeof(d1))"
   ]
  },
  {
   "cell_type": "code",
   "execution_count": 17,
   "id": "d4d9d236-f488-4747-b71f-0dbb027cbbae",
   "metadata": {},
   "outputs": [
    {
     "name": "stdout",
     "output_type": "stream",
     "text": [
      "rand(d1) = 1.1178132184729208\n"
     ]
    }
   ],
   "source": [
    "@show rand(d1);"
   ]
  },
  {
   "cell_type": "code",
   "execution_count": 18,
   "id": "220e0391-7c39-4da0-8ac6-6b0dcfc9b368",
   "metadata": {},
   "outputs": [
    {
     "name": "stdout",
     "output_type": "stream",
     "text": [
      "simulateprocess(0.0, d = Normal(0.2, 2.0)) = [0.0, 1.689889141037019, 0.5307315106420785, -3.6790641355169003, -2.2705120025666163, -2.2328914809131395]\n"
     ]
    }
   ],
   "source": [
    "function simulateprocess(x_0; a = 1.0, b = 1.0, N = 5, d::Sampleable{Univariate, Continuous})\n",
    "        x = zeros(typeof(x_0), N + 1)    # prelocate vector, careful on the type\n",
    "        x[1] = x_0\n",
    "        for t in 2:(N + 1)\n",
    "            x[t] = a * x[t - 1] + b * rand(d)    # draw\n",
    "        end\n",
    "        return x\n",
    "    end\n",
    "    @show simulateprocess(0.0, d = Normal(0.2, 2.0));\n",
    "    "
   ]
  },
  {
   "cell_type": "markdown",
   "id": "7e061863-2f10-4769-9c18-d07993603460",
   "metadata": {},
   "source": [
    "The `Distributions{Univariate, Continuous}` abstract type has other functions we can use for generic algorithims operating on distributions.\n",
    "\n",
    "For example,\n",
    "`pdf`, `cdf`, `quantile`, `support`, `minimum`, `maximum`"
   ]
  },
  {
   "cell_type": "code",
   "execution_count": 19,
   "id": "3df037df-c27c-4760-bbae-be45af049bc8",
   "metadata": {},
   "outputs": [
    {
     "name": "stdout",
     "output_type": "stream",
     "text": [
      "d1 = Normal{Float64}(μ=1.0, σ=2.0)\n",
      "d2 = Exponential{Float64}(θ=0.1)\n",
      "supertype(typeof(d1)) = Distribution{Univariate, Continuous}\n",
      "supertype(typeof(d2)) = Distribution{Univariate, Continuous}\n",
      "pdf(d1, 0.1) = 0.18026348123082397\n",
      "pdf(d2, 0.1) = 3.6787944117144233\n",
      "cdf(d1, 0.1) = 0.32635522028792\n",
      "cdf(d2, 0.1) = 0.6321205588285577\n",
      "support(d1) = RealInterval{Float64}(-Inf, Inf)\n",
      "support(d2) = RealInterval{Float64}(0.0, Inf)\n",
      "minimum(d1) = -Inf\n",
      "minimum(d2) = 0.0\n",
      "maximum(d1) = Inf\n",
      "maximum(d2) = Inf\n"
     ]
    }
   ],
   "source": [
    "d1 = Normal(1.0, 2.0)\n",
    "d2 = Exponential(0.1)\n",
    "\n",
    "@show d1\n",
    "@show d2\n",
    "@show supertype(typeof(d1))\n",
    "@show supertype(typeof(d2))\n",
    "@show pdf(d1, 0.1)\n",
    "@show pdf(d2, 0.1)\n",
    "@show cdf(d1, 0.1)\n",
    "@show cdf(d2, 0.1)\n",
    "@show support(d1)\n",
    "@show support(d2)\n",
    "@show minimum(d1)\n",
    "@show minimum(d2)\n",
    "@show maximum(d1)\n",
    "@show maximum(d2);"
   ]
  },
  {
   "cell_type": "code",
   "execution_count": 20,
   "id": "96cc44ce-7dc8-4646-a51c-df383e4dc911",
   "metadata": {},
   "outputs": [
    {
     "data": {
      "image/png": "[encoded data removed]",
      "image/svg+xml": [
       "<?xml version=\"1.0\" encoding=\"utf-8\"?>\n",
       "<svg xmlns=\"http://www.w3.org/2000/svg\" xmlns:xlink=\"http://www.w3.org/1999/xlink\" width=\"600\" height=\"400\" viewBox=\"0 0 2400 1600\">\n",
       "<defs>\n",
       "  <clipPath id=\"clip340\">\n",
       "    <rect x=\"0\" y=\"0\" width=\"2400\" height=\"1600\"/>\n",
       "  </clipPath>\n",
       "</defs>\n",
       "<path clip-path=\"url(#clip340)\" d=\"M0 1600 L2400 1600 L2400 0 L0 0  Z\" fill=\"#ffffff\" fill-rule=\"evenodd\" fill-opacity=\"1\"/>\n",
       "<defs>\n",
       "  <clipPath id=\"clip341\">\n",
       "    <rect x=\"480\" y=\"0\" width=\"1681\" height=\"1600\"/>\n",
       "  </clipPath>\n",
       "</defs>\n",
       "<path clip-path=\"url(#clip340)\" d=\"M156.598 1486.45 L2352.76 1486.45 L2352.76 47.2441 L156.598 47.2441  Z\" fill=\"#ffffff\" fill-rule=\"evenodd\" fill-opacity=\"1\"/>\n",
       "<defs>\n",
       "  <clipPath id=\"clip342\">\n",
       "    <rect x=\"156\" y=\"47\" width=\"2197\" height=\"1440\"/>\n",
       "  </clipPath>\n",
       "</defs>\n",
       "<polyline clip-path=\"url(#clip342)\" style=\"stroke:#000000; stroke-linecap:round; stroke-linejoin:round; stroke-width:2; stroke-opacity:0.1; fill:none\" points=\"419.034,1486.45 419.034,47.2441 \"/>\n",
       "<polyline clip-path=\"url(#clip342)\" style=\"stroke:#000000; stroke-linecap:round; stroke-linejoin:round; stroke-width:2; stroke-opacity:0.1; fill:none\" points=\"697.582,1486.45 697.582,47.2441 \"/>\n",
       "<polyline clip-path=\"url(#clip342)\" style=\"stroke:#000000; stroke-linecap:round; stroke-linejoin:round; stroke-width:2; stroke-opacity:0.1; fill:none\" points=\"976.129,1486.45 976.129,47.2441 \"/>\n",
       "<polyline clip-path=\"url(#clip342)\" style=\"stroke:#000000; stroke-linecap:round; stroke-linejoin:round; stroke-width:2; stroke-opacity:0.1; fill:none\" points=\"1254.68,1486.45 1254.68,47.2441 \"/>\n",
       "<polyline clip-path=\"url(#clip342)\" style=\"stroke:#000000; stroke-linecap:round; stroke-linejoin:round; stroke-width:2; stroke-opacity:0.1; fill:none\" points=\"1533.22,1486.45 1533.22,47.2441 \"/>\n",
       "<polyline clip-path=\"url(#clip342)\" style=\"stroke:#000000; stroke-linecap:round; stroke-linejoin:round; stroke-width:2; stroke-opacity:0.1; fill:none\" points=\"1811.77,1486.45 1811.77,47.2441 \"/>\n",
       "<polyline clip-path=\"url(#clip342)\" style=\"stroke:#000000; stroke-linecap:round; stroke-linejoin:round; stroke-width:2; stroke-opacity:0.1; fill:none\" points=\"2090.32,1486.45 2090.32,47.2441 \"/>\n",
       "<polyline clip-path=\"url(#clip340)\" style=\"stroke:#000000; stroke-linecap:round; stroke-linejoin:round; stroke-width:4; stroke-opacity:1; fill:none\" points=\"156.598,1486.45 2352.76,1486.45 \"/>\n",
       "<polyline clip-path=\"url(#clip340)\" style=\"stroke:#000000; stroke-linecap:round; stroke-linejoin:round; stroke-width:4; stroke-opacity:1; fill:none\" points=\"419.034,1486.45 419.034,1467.55 \"/>\n",
       "<polyline clip-path=\"url(#clip340)\" style=\"stroke:#000000; stroke-linecap:round; stroke-linejoin:round; stroke-width:4; stroke-opacity:1; fill:none\" points=\"697.582,1486.45 697.582,1467.55 \"/>\n",
       "<polyline clip-path=\"url(#clip340)\" style=\"stroke:#000000; stroke-linecap:round; stroke-linejoin:round; stroke-width:4; stroke-opacity:1; fill:none\" points=\"976.129,1486.45 976.129,1467.55 \"/>\n",
       "<polyline clip-path=\"url(#clip340)\" style=\"stroke:#000000; stroke-linecap:round; stroke-linejoin:round; stroke-width:4; stroke-opacity:1; fill:none\" points=\"1254.68,1486.45 1254.68,1467.55 \"/>\n",
       "<polyline clip-path=\"url(#clip340)\" style=\"stroke:#000000; stroke-linecap:round; stroke-linejoin:round; stroke-width:4; stroke-opacity:1; fill:none\" points=\"1533.22,1486.45 1533.22,1467.55 \"/>\n",
       "<polyline clip-path=\"url(#clip340)\" style=\"stroke:#000000; stroke-linecap:round; stroke-linejoin:round; stroke-width:4; stroke-opacity:1; fill:none\" points=\"1811.77,1486.45 1811.77,1467.55 \"/>\n",
       "<polyline clip-path=\"url(#clip340)\" style=\"stroke:#000000; stroke-linecap:round; stroke-linejoin:round; stroke-width:4; stroke-opacity:1; fill:none\" points=\"2090.32,1486.45 2090.32,1467.55 \"/>\n",
       "<path clip-path=\"url(#clip340)\" d=\"M388.791 1532.02 L418.467 1532.02 L418.467 1535.95 L388.791 1535.95 L388.791 1532.02 Z\" fill=\"#000000\" fill-rule=\"nonzero\" fill-opacity=\"1\" /><path clip-path=\"url(#clip340)\" d=\"M429.37 1544.91 L437.008 1544.91 L437.008 1518.55 L428.698 1520.21 L428.698 1515.95 L436.962 1514.29 L441.638 1514.29 L441.638 1544.91 L449.277 1544.91 L449.277 1548.85 L429.37 1548.85 L429.37 1544.91 Z\" fill=\"#000000\" fill-rule=\"nonzero\" fill-opacity=\"1\" /><path clip-path=\"url(#clip340)\" d=\"M697.582 1517.37 Q693.971 1517.37 692.142 1520.93 Q690.336 1524.47 690.336 1531.6 Q690.336 1538.71 692.142 1542.27 Q693.971 1545.82 697.582 1545.82 Q701.216 1545.82 703.021 1542.27 Q704.85 1538.71 704.85 1531.6 Q704.85 1524.47 703.021 1520.93 Q701.216 1517.37 697.582 1517.37 M697.582 1513.66 Q703.392 1513.66 706.447 1518.27 Q709.526 1522.85 709.526 1531.6 Q709.526 1540.33 706.447 1544.94 Q703.392 1549.52 697.582 1549.52 Q691.772 1549.52 688.693 1544.94 Q685.637 1540.33 685.637 1531.6 Q685.637 1522.85 688.693 1518.27 Q691.772 1513.66 697.582 1513.66 Z\" fill=\"#000000\" fill-rule=\"nonzero\" fill-opacity=\"1\" /><path clip-path=\"url(#clip340)\" d=\"M966.511 1544.91 L974.15 1544.91 L974.15 1518.55 L965.84 1520.21 L965.84 1515.95 L974.104 1514.29 L978.78 1514.29 L978.78 1544.91 L986.419 1544.91 L986.419 1548.85 L966.511 1548.85 L966.511 1544.91 Z\" fill=\"#000000\" fill-rule=\"nonzero\" fill-opacity=\"1\" /><path clip-path=\"url(#clip340)\" d=\"M1249.33 1544.91 L1265.65 1544.91 L1265.65 1548.85 L1243.7 1548.85 L1243.7 1544.91 Q1246.37 1542.16 1250.95 1537.53 Q1255.56 1532.88 1256.74 1531.53 Q1258.98 1529.01 1259.86 1527.27 Q1260.77 1525.51 1260.77 1523.82 Q1260.77 1521.07 1258.82 1519.33 Q1256.9 1517.6 1253.8 1517.6 Q1251.6 1517.6 1249.14 1518.36 Q1246.71 1519.13 1243.94 1520.68 L1243.94 1515.95 Q1246.76 1514.82 1249.21 1514.24 Q1251.67 1513.66 1253.7 1513.66 Q1259.08 1513.66 1262.27 1516.35 Q1265.46 1519.03 1265.46 1523.52 Q1265.46 1525.65 1264.65 1527.57 Q1263.87 1529.47 1261.76 1532.07 Q1261.18 1532.74 1258.08 1535.95 Q1254.98 1539.15 1249.33 1544.91 Z\" fill=\"#000000\" fill-rule=\"nonzero\" fill-opacity=\"1\" /><path clip-path=\"url(#clip340)\" d=\"M1537.47 1530.21 Q1540.83 1530.93 1542.7 1533.2 Q1544.6 1535.47 1544.6 1538.8 Q1544.6 1543.92 1541.08 1546.72 Q1537.57 1549.52 1531.08 1549.52 Q1528.91 1549.52 1526.59 1549.08 Q1524.3 1548.66 1521.85 1547.81 L1521.85 1543.29 Q1523.79 1544.43 1526.11 1545.01 Q1528.42 1545.58 1530.94 1545.58 Q1535.34 1545.58 1537.63 1543.85 Q1539.95 1542.11 1539.95 1538.8 Q1539.95 1535.75 1537.8 1534.03 Q1535.67 1532.3 1531.85 1532.3 L1527.82 1532.3 L1527.82 1528.45 L1532.03 1528.45 Q1535.48 1528.45 1537.31 1527.09 Q1539.14 1525.7 1539.14 1523.11 Q1539.14 1520.45 1537.24 1519.03 Q1535.37 1517.6 1531.85 1517.6 Q1529.93 1517.6 1527.73 1518.01 Q1525.53 1518.43 1522.89 1519.31 L1522.89 1515.14 Q1525.55 1514.4 1527.87 1514.03 Q1530.2 1513.66 1532.26 1513.66 Q1537.59 1513.66 1540.69 1516.09 Q1543.79 1518.5 1543.79 1522.62 Q1543.79 1525.49 1542.15 1527.48 Q1540.5 1529.45 1537.47 1530.21 Z\" fill=\"#000000\" fill-rule=\"nonzero\" fill-opacity=\"1\" /><path clip-path=\"url(#clip340)\" d=\"M1814.78 1518.36 L1802.98 1536.81 L1814.78 1536.81 L1814.78 1518.36 M1813.55 1514.29 L1819.43 1514.29 L1819.43 1536.81 L1824.36 1536.81 L1824.36 1540.7 L1819.43 1540.7 L1819.43 1548.85 L1814.78 1548.85 L1814.78 1540.7 L1799.18 1540.7 L1799.18 1536.19 L1813.55 1514.29 Z\" fill=\"#000000\" fill-rule=\"nonzero\" fill-opacity=\"1\" /><path clip-path=\"url(#clip340)\" d=\"M2080.6 1514.29 L2098.95 1514.29 L2098.95 1518.22 L2084.88 1518.22 L2084.88 1526.7 Q2085.9 1526.35 2086.92 1526.19 Q2087.94 1526 2088.95 1526 Q2094.74 1526 2098.12 1529.17 Q2101.5 1532.34 2101.5 1537.76 Q2101.5 1543.34 2098.03 1546.44 Q2094.56 1549.52 2088.24 1549.52 Q2086.06 1549.52 2083.79 1549.15 Q2081.55 1548.78 2079.14 1548.04 L2079.14 1543.34 Q2081.22 1544.47 2083.45 1545.03 Q2085.67 1545.58 2088.14 1545.58 Q2092.15 1545.58 2094.49 1543.48 Q2096.82 1541.37 2096.82 1537.76 Q2096.82 1534.15 2094.49 1532.04 Q2092.15 1529.94 2088.14 1529.94 Q2086.27 1529.94 2084.39 1530.35 Q2082.54 1530.77 2080.6 1531.65 L2080.6 1514.29 Z\" fill=\"#000000\" fill-rule=\"nonzero\" fill-opacity=\"1\" /><polyline clip-path=\"url(#clip342)\" style=\"stroke:#000000; stroke-linecap:round; stroke-linejoin:round; stroke-width:2; stroke-opacity:0.1; fill:none\" points=\"156.598,1447.06 2352.76,1447.06 \"/>\n",
       "<polyline clip-path=\"url(#clip342)\" style=\"stroke:#000000; stroke-linecap:round; stroke-linejoin:round; stroke-width:2; stroke-opacity:0.1; fill:none\" points=\"156.598,1106.35 2352.76,1106.35 \"/>\n",
       "<polyline clip-path=\"url(#clip342)\" style=\"stroke:#000000; stroke-linecap:round; stroke-linejoin:round; stroke-width:2; stroke-opacity:0.1; fill:none\" points=\"156.598,765.63 2352.76,765.63 \"/>\n",
       "<polyline clip-path=\"url(#clip342)\" style=\"stroke:#000000; stroke-linecap:round; stroke-linejoin:round; stroke-width:2; stroke-opacity:0.1; fill:none\" points=\"156.598,424.912 2352.76,424.912 \"/>\n",
       "<polyline clip-path=\"url(#clip342)\" style=\"stroke:#000000; stroke-linecap:round; stroke-linejoin:round; stroke-width:2; stroke-opacity:0.1; fill:none\" points=\"156.598,84.1949 2352.76,84.1949 \"/>\n",
       "<polyline clip-path=\"url(#clip340)\" style=\"stroke:#000000; stroke-linecap:round; stroke-linejoin:round; stroke-width:4; stroke-opacity:1; fill:none\" points=\"156.598,1486.45 156.598,47.2441 \"/>\n",
       "<polyline clip-path=\"url(#clip340)\" style=\"stroke:#000000; stroke-linecap:round; stroke-linejoin:round; stroke-width:4; stroke-opacity:1; fill:none\" points=\"156.598,1447.06 175.496,1447.06 \"/>\n",
       "<polyline clip-path=\"url(#clip340)\" style=\"stroke:#000000; stroke-linecap:round; stroke-linejoin:round; stroke-width:4; stroke-opacity:1; fill:none\" points=\"156.598,1106.35 175.496,1106.35 \"/>\n",
       "<polyline clip-path=\"url(#clip340)\" style=\"stroke:#000000; stroke-linecap:round; stroke-linejoin:round; stroke-width:4; stroke-opacity:1; fill:none\" points=\"156.598,765.63 175.496,765.63 \"/>\n",
       "<polyline clip-path=\"url(#clip340)\" style=\"stroke:#000000; stroke-linecap:round; stroke-linejoin:round; stroke-width:4; stroke-opacity:1; fill:none\" points=\"156.598,424.912 175.496,424.912 \"/>\n",
       "<polyline clip-path=\"url(#clip340)\" style=\"stroke:#000000; stroke-linecap:round; stroke-linejoin:round; stroke-width:4; stroke-opacity:1; fill:none\" points=\"156.598,84.1949 175.496,84.1949 \"/>\n",
       "<path clip-path=\"url(#clip340)\" d=\"M63.4226 1432.86 Q59.8115 1432.86 57.9828 1436.43 Q56.1773 1439.97 56.1773 1447.1 Q56.1773 1454.21 57.9828 1457.77 Q59.8115 1461.31 63.4226 1461.31 Q67.0569 1461.31 68.8624 1457.77 Q70.6911 1454.21 70.6911 1447.1 Q70.6911 1439.97 68.8624 1436.43 Q67.0569 1432.86 63.4226 1432.86 M63.4226 1429.16 Q69.2328 1429.16 72.2883 1433.77 Q75.367 1438.35 75.367 1447.1 Q75.367 1455.83 72.2883 1460.43 Q69.2328 1465.02 63.4226 1465.02 Q57.6125 1465.02 54.5338 1460.43 Q51.4782 1455.83 51.4782 1447.1 Q51.4782 1438.35 54.5338 1433.77 Q57.6125 1429.16 63.4226 1429.16 Z\" fill=\"#000000\" fill-rule=\"nonzero\" fill-opacity=\"1\" /><path clip-path=\"url(#clip340)\" d=\"M83.5845 1458.46 L88.4688 1458.46 L88.4688 1464.34 L83.5845 1464.34 L83.5845 1458.46 Z\" fill=\"#000000\" fill-rule=\"nonzero\" fill-opacity=\"1\" /><path clip-path=\"url(#clip340)\" d=\"M108.654 1432.86 Q105.043 1432.86 103.214 1436.43 Q101.409 1439.97 101.409 1447.1 Q101.409 1454.21 103.214 1457.77 Q105.043 1461.31 108.654 1461.31 Q112.288 1461.31 114.094 1457.77 Q115.922 1454.21 115.922 1447.1 Q115.922 1439.97 114.094 1436.43 Q112.288 1432.86 108.654 1432.86 M108.654 1429.16 Q114.464 1429.16 117.52 1433.77 Q120.598 1438.35 120.598 1447.1 Q120.598 1455.83 117.52 1460.43 Q114.464 1465.02 108.654 1465.02 Q102.844 1465.02 99.765 1460.43 Q96.7095 1455.83 96.7095 1447.1 Q96.7095 1438.35 99.765 1433.77 Q102.844 1429.16 108.654 1429.16 Z\" fill=\"#000000\" fill-rule=\"nonzero\" fill-opacity=\"1\" /><path clip-path=\"url(#clip340)\" d=\"M64.6495 1092.15 Q61.0384 1092.15 59.2097 1095.71 Q57.4041 1099.25 57.4041 1106.38 Q57.4041 1113.49 59.2097 1117.05 Q61.0384 1120.59 64.6495 1120.59 Q68.2837 1120.59 70.0892 1117.05 Q71.9179 1113.49 71.9179 1106.38 Q71.9179 1099.25 70.0892 1095.71 Q68.2837 1092.15 64.6495 1092.15 M64.6495 1088.44 Q70.4596 1088.44 73.5152 1093.05 Q76.5938 1097.63 76.5938 1106.38 Q76.5938 1115.11 73.5152 1119.72 Q70.4596 1124.3 64.6495 1124.3 Q58.8393 1124.3 55.7606 1119.72 Q52.7051 1115.11 52.7051 1106.38 Q52.7051 1097.63 55.7606 1093.05 Q58.8393 1088.44 64.6495 1088.44 Z\" fill=\"#000000\" fill-rule=\"nonzero\" fill-opacity=\"1\" /><path clip-path=\"url(#clip340)\" d=\"M84.8114 1117.75 L89.6956 1117.75 L89.6956 1123.63 L84.8114 1123.63 L84.8114 1117.75 Z\" fill=\"#000000\" fill-rule=\"nonzero\" fill-opacity=\"1\" /><path clip-path=\"url(#clip340)\" d=\"M100.691 1119.69 L108.33 1119.69 L108.33 1093.33 L100.02 1094.99 L100.02 1090.73 L108.283 1089.07 L112.959 1089.07 L112.959 1119.69 L120.598 1119.69 L120.598 1123.63 L100.691 1123.63 L100.691 1119.69 Z\" fill=\"#000000\" fill-rule=\"nonzero\" fill-opacity=\"1\" /><path clip-path=\"url(#clip340)\" d=\"M65.0198 751.428 Q61.4087 751.428 59.58 754.993 Q57.7745 758.535 57.7745 765.664 Q57.7745 772.771 59.58 776.336 Q61.4087 779.877 65.0198 779.877 Q68.6541 779.877 70.4596 776.336 Q72.2883 772.771 72.2883 765.664 Q72.2883 758.535 70.4596 754.993 Q68.6541 751.428 65.0198 751.428 M65.0198 747.725 Q70.83 747.725 73.8855 752.331 Q76.9642 756.914 76.9642 765.664 Q76.9642 774.391 73.8855 778.998 Q70.83 783.581 65.0198 783.581 Q59.2097 783.581 56.131 778.998 Q53.0754 774.391 53.0754 765.664 Q53.0754 756.914 56.131 752.331 Q59.2097 747.725 65.0198 747.725 Z\" fill=\"#000000\" fill-rule=\"nonzero\" fill-opacity=\"1\" /><path clip-path=\"url(#clip340)\" d=\"M85.1818 777.03 L90.066 777.03 L90.066 782.91 L85.1818 782.91 L85.1818 777.03 Z\" fill=\"#000000\" fill-rule=\"nonzero\" fill-opacity=\"1\" /><path clip-path=\"url(#clip340)\" d=\"M104.279 778.974 L120.598 778.974 L120.598 782.91 L98.6539 782.91 L98.6539 778.974 Q101.316 776.22 105.899 771.59 Q110.506 766.938 111.686 765.595 Q113.932 763.072 114.811 761.336 Q115.714 759.576 115.714 757.887 Q115.714 755.132 113.77 753.396 Q111.848 751.66 108.746 751.66 Q106.547 751.66 104.094 752.424 Q101.663 753.188 98.8854 754.739 L98.8854 750.016 Q101.709 748.882 104.163 748.303 Q106.617 747.725 108.654 747.725 Q114.024 747.725 117.219 750.41 Q120.413 753.095 120.413 757.586 Q120.413 759.715 119.603 761.637 Q118.816 763.535 116.709 766.127 Q116.131 766.799 113.029 770.016 Q109.927 773.211 104.279 778.974 Z\" fill=\"#000000\" fill-rule=\"nonzero\" fill-opacity=\"1\" /><path clip-path=\"url(#clip340)\" d=\"M64.0708 410.711 Q60.4597 410.711 58.631 414.276 Q56.8254 417.817 56.8254 424.947 Q56.8254 432.053 58.631 435.618 Q60.4597 439.16 64.0708 439.16 Q67.705 439.16 69.5105 435.618 Q71.3392 432.053 71.3392 424.947 Q71.3392 417.817 69.5105 414.276 Q67.705 410.711 64.0708 410.711 M64.0708 407.007 Q69.8809 407.007 72.9365 411.614 Q76.0151 416.197 76.0151 424.947 Q76.0151 433.674 72.9365 438.28 Q69.8809 442.864 64.0708 442.864 Q58.2606 442.864 55.1819 438.28 Q52.1264 433.674 52.1264 424.947 Q52.1264 416.197 55.1819 411.614 Q58.2606 407.007 64.0708 407.007 Z\" fill=\"#000000\" fill-rule=\"nonzero\" fill-opacity=\"1\" /><path clip-path=\"url(#clip340)\" d=\"M84.2327 436.313 L89.1169 436.313 L89.1169 442.192 L84.2327 442.192 L84.2327 436.313 Z\" fill=\"#000000\" fill-rule=\"nonzero\" fill-opacity=\"1\" /><path clip-path=\"url(#clip340)\" d=\"M113.469 423.558 Q116.825 424.276 118.7 426.544 Q120.598 428.813 120.598 432.146 Q120.598 437.262 117.08 440.063 Q113.561 442.864 107.08 442.864 Q104.904 442.864 102.589 442.424 Q100.297 442.007 97.8437 441.151 L97.8437 436.637 Q99.7882 437.771 102.103 438.35 Q104.418 438.928 106.941 438.928 Q111.339 438.928 113.631 437.192 Q115.945 435.456 115.945 432.146 Q115.945 429.09 113.793 427.378 Q111.663 425.641 107.844 425.641 L103.816 425.641 L103.816 421.799 L108.029 421.799 Q111.478 421.799 113.307 420.433 Q115.135 419.044 115.135 416.452 Q115.135 413.79 113.237 412.378 Q111.362 410.942 107.844 410.942 Q105.922 410.942 103.723 411.359 Q101.524 411.776 98.8854 412.655 L98.8854 408.489 Q101.547 407.748 103.862 407.378 Q106.2 407.007 108.26 407.007 Q113.584 407.007 116.686 409.438 Q119.788 411.845 119.788 415.966 Q119.788 418.836 118.145 420.827 Q116.501 422.794 113.469 423.558 Z\" fill=\"#000000\" fill-rule=\"nonzero\" fill-opacity=\"1\" /><path clip-path=\"url(#clip340)\" d=\"M62.9365 69.9936 Q59.3254 69.9936 57.4967 73.5584 Q55.6912 77.1 55.6912 84.2296 Q55.6912 91.3361 57.4967 94.9009 Q59.3254 98.4425 62.9365 98.4425 Q66.5707 98.4425 68.3763 94.9009 Q70.205 91.3361 70.205 84.2296 Q70.205 77.1 68.3763 73.5584 Q66.5707 69.9936 62.9365 69.9936 M62.9365 66.2899 Q68.7467 66.2899 71.8022 70.8964 Q74.8809 75.4797 74.8809 84.2296 Q74.8809 92.9564 71.8022 97.5629 Q68.7467 102.146 62.9365 102.146 Q57.1264 102.146 54.0477 97.5629 Q50.9921 92.9564 50.9921 84.2296 Q50.9921 75.4797 54.0477 70.8964 Q57.1264 66.2899 62.9365 66.2899 Z\" fill=\"#000000\" fill-rule=\"nonzero\" fill-opacity=\"1\" /><path clip-path=\"url(#clip340)\" d=\"M83.0984 95.5953 L87.9827 95.5953 L87.9827 101.475 L83.0984 101.475 L83.0984 95.5953 Z\" fill=\"#000000\" fill-rule=\"nonzero\" fill-opacity=\"1\" /><path clip-path=\"url(#clip340)\" d=\"M111.015 70.9889 L99.2095 89.4379 L111.015 89.4379 L111.015 70.9889 M109.788 66.9149 L115.668 66.9149 L115.668 89.4379 L120.598 89.4379 L120.598 93.3268 L115.668 93.3268 L115.668 101.475 L111.015 101.475 L111.015 93.3268 L95.4132 93.3268 L95.4132 88.8129 L109.788 66.9149 Z\" fill=\"#000000\" fill-rule=\"nonzero\" fill-opacity=\"1\" /><polyline clip-path=\"url(#clip342)\" style=\"stroke:#009af9; stroke-linecap:round; stroke-linejoin:round; stroke-width:4; stroke-opacity:1; fill:none\" points=\"218.754,1445.72 225.498,1445.59 232.242,1445.45 294.604,1443.49 356.966,1439.52 394.443,1435.52 431.92,1429.73 463.607,1422.97 495.293,1414 512.503,1408.01 529.713,1401.1 546.923,1393.19 564.133,1384.15 579.999,1374.73 595.866,1364.16 611.732,1352.36 627.598,1339.22 644.608,1323.56 661.618,1306.15 678.629,1286.88 695.639,1265.66 715.347,1238.51 735.055,1208.48 754.763,1175.5 774.471,1139.5 791.985,1104.97 809.499,1068.05 827.013,1028.82 844.528,987.337 859.886,949.213 875.244,909.564 890.603,868.52 905.961,826.231 939.45,730.584 972.94,632.068 1006.63,532.729 1040.32,436.176 1049.63,410.412 1058.94,385.178 1068.25,360.545 1077.56,336.582 1086.88,313.359 1096.19,290.942 1105.5,269.4 1114.81,248.795 1123.67,230.119 1132.53,212.402 1141.39,195.694 1150.25,180.041 1159.11,165.491 1167.97,152.084 1176.83,139.86 1185.69,128.855 1194.9,118.74 1204.11,110.01 1213.33,102.694 1222.54,96.8164 1231.75,92.3952 1240.96,89.4453 1250.17,87.9763 1259.39,87.993 1267.14,89.159 1274.9,91.3751 1282.65,94.6361 1290.41,98.9347 1298.16,104.261 1305.92,110.602 1313.67,117.944 1321.42,126.269 1330.89,137.74 1340.36,150.609 1349.83,164.834 1359.3,180.367 1368.76,197.157 1378.23,215.149 1387.7,234.283 1397.17,254.498 1414.51,294.127 1431.86,336.752 1440.53,359.053 1449.2,381.94 1457.88,405.355 1466.55,429.243 1498.59,520.66 1530.63,614.95 1563.09,710.683 1595.54,804.19 1613.73,854.821 1631.92,903.785 1650.1,950.822 1668.29,995.714 1684.77,1034.4 1701.25,1071.09 1717.73,1105.71 1734.21,1138.23 1753.08,1172.85 1771.95,1204.71 1790.82,1233.85 1809.69,1260.34 1827.16,1282.6 1844.63,1302.78 1862.1,1320.97 1879.57,1337.31 1896.8,1351.71 1914.02,1364.53 1931.25,1375.91 1948.47,1385.95 1965.19,1394.53 1981.92,1402.07 1998.64,1408.67 2015.36,1414.42 2049.65,1423.91 2083.94,1430.89 2121.5,1436.34 2159.07,1440.08 2213.64,1443.44 2268.21,1445.25 2279.41,1445.5 2290.6,1445.72 \"/>\n",
       "<path clip-path=\"url(#clip340)\" d=\"M2007.5 198.898 L2279.55 198.898 L2279.55 95.2176 L2007.5 95.2176  Z\" fill=\"#ffffff\" fill-rule=\"evenodd\" fill-opacity=\"1\"/>\n",
       "<polyline clip-path=\"url(#clip340)\" style=\"stroke:#000000; stroke-linecap:round; stroke-linejoin:round; stroke-width:4; stroke-opacity:1; fill:none\" points=\"2007.5,198.898 2279.55,198.898 2279.55,95.2176 2007.5,95.2176 2007.5,198.898 \"/>\n",
       "<polyline clip-path=\"url(#clip340)\" style=\"stroke:#009af9; stroke-linecap:round; stroke-linejoin:round; stroke-width:4; stroke-opacity:1; fill:none\" points=\"2031.91,147.058 2178.32,147.058 \"/>\n",
       "<path clip-path=\"url(#clip340)\" d=\"M2216.56 166.745 Q2214.76 171.375 2213.04 172.787 Q2211.33 174.199 2208.46 174.199 L2205.06 174.199 L2205.06 170.634 L2207.56 170.634 Q2209.32 170.634 2210.29 169.8 Q2211.26 168.967 2212.44 165.865 L2213.2 163.921 L2202.72 138.412 L2207.23 138.412 L2215.33 158.689 L2223.44 138.412 L2227.95 138.412 L2216.56 166.745 Z\" fill=\"#000000\" fill-rule=\"nonzero\" fill-opacity=\"1\" /><path clip-path=\"url(#clip340)\" d=\"M2235.24 160.402 L2242.88 160.402 L2242.88 134.037 L2234.57 135.703 L2234.57 131.444 L2242.83 129.778 L2247.51 129.778 L2247.51 160.402 L2255.15 160.402 L2255.15 164.338 L2235.24 164.338 L2235.24 160.402 Z\" fill=\"#000000\" fill-rule=\"nonzero\" fill-opacity=\"1\" /></svg>\n"
      ],
      "text/html": [
       "<?xml version=\"1.0\" encoding=\"utf-8\"?>\n",
       "<svg xmlns=\"http://www.w3.org/2000/svg\" xmlns:xlink=\"http://www.w3.org/1999/xlink\" width=\"600\" height=\"400\" viewBox=\"0 0 2400 1600\">\n",
       "<defs>\n",
       "  <clipPath id=\"clip390\">\n",
       "    <rect x=\"0\" y=\"0\" width=\"2400\" height=\"1600\"/>\n",
       "  </clipPath>\n",
       "</defs>\n",
       "<path clip-path=\"url(#clip390)\" d=\"M0 1600 L2400 1600 L2400 0 L0 0  Z\" fill=\"#ffffff\" fill-rule=\"evenodd\" fill-opacity=\"1\"/>\n",
       "<defs>\n",
       "  <clipPath id=\"clip391\">\n",
       "    <rect x=\"480\" y=\"0\" width=\"1681\" height=\"1600\"/>\n",
       "  </clipPath>\n",
       "</defs>\n",
       "<path clip-path=\"url(#clip390)\" d=\"M156.598 1486.45 L2352.76 1486.45 L2352.76 47.2441 L156.598 47.2441  Z\" fill=\"#ffffff\" fill-rule=\"evenodd\" fill-opacity=\"1\"/>\n",
       "<defs>\n",
       "  <clipPath id=\"clip392\">\n",
       "    <rect x=\"156\" y=\"47\" width=\"2197\" height=\"1440\"/>\n",
       "  </clipPath>\n",
       "</defs>\n",
       "<polyline clip-path=\"url(#clip392)\" style=\"stroke:#000000; stroke-linecap:round; stroke-linejoin:round; stroke-width:2; stroke-opacity:0.1; fill:none\" points=\"419.034,1486.45 419.034,47.2441 \"/>\n",
       "<polyline clip-path=\"url(#clip392)\" style=\"stroke:#000000; stroke-linecap:round; stroke-linejoin:round; stroke-width:2; stroke-opacity:0.1; fill:none\" points=\"697.582,1486.45 697.582,47.2441 \"/>\n",
       "<polyline clip-path=\"url(#clip392)\" style=\"stroke:#000000; stroke-linecap:round; stroke-linejoin:round; stroke-width:2; stroke-opacity:0.1; fill:none\" points=\"976.129,1486.45 976.129,47.2441 \"/>\n",
       "<polyline clip-path=\"url(#clip392)\" style=\"stroke:#000000; stroke-linecap:round; stroke-linejoin:round; stroke-width:2; stroke-opacity:0.1; fill:none\" points=\"1254.68,1486.45 1254.68,47.2441 \"/>\n",
       "<polyline clip-path=\"url(#clip392)\" style=\"stroke:#000000; stroke-linecap:round; stroke-linejoin:round; stroke-width:2; stroke-opacity:0.1; fill:none\" points=\"1533.22,1486.45 1533.22,47.2441 \"/>\n",
       "<polyline clip-path=\"url(#clip392)\" style=\"stroke:#000000; stroke-linecap:round; stroke-linejoin:round; stroke-width:2; stroke-opacity:0.1; fill:none\" points=\"1811.77,1486.45 1811.77,47.2441 \"/>\n",
       "<polyline clip-path=\"url(#clip392)\" style=\"stroke:#000000; stroke-linecap:round; stroke-linejoin:round; stroke-width:2; stroke-opacity:0.1; fill:none\" points=\"2090.32,1486.45 2090.32,47.2441 \"/>\n",
       "<polyline clip-path=\"url(#clip390)\" style=\"stroke:#000000; stroke-linecap:round; stroke-linejoin:round; stroke-width:4; stroke-opacity:1; fill:none\" points=\"156.598,1486.45 2352.76,1486.45 \"/>\n",
       "<polyline clip-path=\"url(#clip390)\" style=\"stroke:#000000; stroke-linecap:round; stroke-linejoin:round; stroke-width:4; stroke-opacity:1; fill:none\" points=\"419.034,1486.45 419.034,1467.55 \"/>\n",
       "<polyline clip-path=\"url(#clip390)\" style=\"stroke:#000000; stroke-linecap:round; stroke-linejoin:round; stroke-width:4; stroke-opacity:1; fill:none\" points=\"697.582,1486.45 697.582,1467.55 \"/>\n",
       "<polyline clip-path=\"url(#clip390)\" style=\"stroke:#000000; stroke-linecap:round; stroke-linejoin:round; stroke-width:4; stroke-opacity:1; fill:none\" points=\"976.129,1486.45 976.129,1467.55 \"/>\n",
       "<polyline clip-path=\"url(#clip390)\" style=\"stroke:#000000; stroke-linecap:round; stroke-linejoin:round; stroke-width:4; stroke-opacity:1; fill:none\" points=\"1254.68,1486.45 1254.68,1467.55 \"/>\n",
       "<polyline clip-path=\"url(#clip390)\" style=\"stroke:#000000; stroke-linecap:round; stroke-linejoin:round; stroke-width:4; stroke-opacity:1; fill:none\" points=\"1533.22,1486.45 1533.22,1467.55 \"/>\n",
       "<polyline clip-path=\"url(#clip390)\" style=\"stroke:#000000; stroke-linecap:round; stroke-linejoin:round; stroke-width:4; stroke-opacity:1; fill:none\" points=\"1811.77,1486.45 1811.77,1467.55 \"/>\n",
       "<polyline clip-path=\"url(#clip390)\" style=\"stroke:#000000; stroke-linecap:round; stroke-linejoin:round; stroke-width:4; stroke-opacity:1; fill:none\" points=\"2090.32,1486.45 2090.32,1467.55 \"/>\n",
       "<path clip-path=\"url(#clip390)\" d=\"M388.791 1532.02 L418.467 1532.02 L418.467 1535.95 L388.791 1535.95 L388.791 1532.02 Z\" fill=\"#000000\" fill-rule=\"nonzero\" fill-opacity=\"1\" /><path clip-path=\"url(#clip390)\" d=\"M429.37 1544.91 L437.008 1544.91 L437.008 1518.55 L428.698 1520.21 L428.698 1515.95 L436.962 1514.29 L441.638 1514.29 L441.638 1544.91 L449.277 1544.91 L449.277 1548.85 L429.37 1548.85 L429.37 1544.91 Z\" fill=\"#000000\" fill-rule=\"nonzero\" fill-opacity=\"1\" /><path clip-path=\"url(#clip390)\" d=\"M697.582 1517.37 Q693.971 1517.37 692.142 1520.93 Q690.336 1524.47 690.336 1531.6 Q690.336 1538.71 692.142 1542.27 Q693.971 1545.82 697.582 1545.82 Q701.216 1545.82 703.021 1542.27 Q704.85 1538.71 704.85 1531.6 Q704.85 1524.47 703.021 1520.93 Q701.216 1517.37 697.582 1517.37 M697.582 1513.66 Q703.392 1513.66 706.447 1518.27 Q709.526 1522.85 709.526 1531.6 Q709.526 1540.33 706.447 1544.94 Q703.392 1549.52 697.582 1549.52 Q691.772 1549.52 688.693 1544.94 Q685.637 1540.33 685.637 1531.6 Q685.637 1522.85 688.693 1518.27 Q691.772 1513.66 697.582 1513.66 Z\" fill=\"#000000\" fill-rule=\"nonzero\" fill-opacity=\"1\" /><path clip-path=\"url(#clip390)\" d=\"M966.511 1544.91 L974.15 1544.91 L974.15 1518.55 L965.84 1520.21 L965.84 1515.95 L974.104 1514.29 L978.78 1514.29 L978.78 1544.91 L986.419 1544.91 L986.419 1548.85 L966.511 1548.85 L966.511 1544.91 Z\" fill=\"#000000\" fill-rule=\"nonzero\" fill-opacity=\"1\" /><path clip-path=\"url(#clip390)\" d=\"M1249.33 1544.91 L1265.65 1544.91 L1265.65 1548.85 L1243.7 1548.85 L1243.7 1544.91 Q1246.37 1542.16 1250.95 1537.53 Q1255.56 1532.88 1256.74 1531.53 Q1258.98 1529.01 1259.86 1527.27 Q1260.77 1525.51 1260.77 1523.82 Q1260.77 1521.07 1258.82 1519.33 Q1256.9 1517.6 1253.8 1517.6 Q1251.6 1517.6 1249.14 1518.36 Q1246.71 1519.13 1243.94 1520.68 L1243.94 1515.95 Q1246.76 1514.82 1249.21 1514.24 Q1251.67 1513.66 1253.7 1513.66 Q1259.08 1513.66 1262.27 1516.35 Q1265.46 1519.03 1265.46 1523.52 Q1265.46 1525.65 1264.65 1527.57 Q1263.87 1529.47 1261.76 1532.07 Q1261.18 1532.74 1258.08 1535.95 Q1254.98 1539.15 1249.33 1544.91 Z\" fill=\"#000000\" fill-rule=\"nonzero\" fill-opacity=\"1\" /><path clip-path=\"url(#clip390)\" d=\"M1537.47 1530.21 Q1540.83 1530.93 1542.7 1533.2 Q1544.6 1535.47 1544.6 1538.8 Q1544.6 1543.92 1541.08 1546.72 Q1537.57 1549.52 1531.08 1549.52 Q1528.91 1549.52 1526.59 1549.08 Q1524.3 1548.66 1521.85 1547.81 L1521.85 1543.29 Q1523.79 1544.43 1526.11 1545.01 Q1528.42 1545.58 1530.94 1545.58 Q1535.34 1545.58 1537.63 1543.85 Q1539.95 1542.11 1539.95 1538.8 Q1539.95 1535.75 1537.8 1534.03 Q1535.67 1532.3 1531.85 1532.3 L1527.82 1532.3 L1527.82 1528.45 L1532.03 1528.45 Q1535.48 1528.45 1537.31 1527.09 Q1539.14 1525.7 1539.14 1523.11 Q1539.14 1520.45 1537.24 1519.03 Q1535.37 1517.6 1531.85 1517.6 Q1529.93 1517.6 1527.73 1518.01 Q1525.53 1518.43 1522.89 1519.31 L1522.89 1515.14 Q1525.55 1514.4 1527.87 1514.03 Q1530.2 1513.66 1532.26 1513.66 Q1537.59 1513.66 1540.69 1516.09 Q1543.79 1518.5 1543.79 1522.62 Q1543.79 1525.49 1542.15 1527.48 Q1540.5 1529.45 1537.47 1530.21 Z\" fill=\"#000000\" fill-rule=\"nonzero\" fill-opacity=\"1\" /><path clip-path=\"url(#clip390)\" d=\"M1814.78 1518.36 L1802.98 1536.81 L1814.78 1536.81 L1814.78 1518.36 M1813.55 1514.29 L1819.43 1514.29 L1819.43 1536.81 L1824.36 1536.81 L1824.36 1540.7 L1819.43 1540.7 L1819.43 1548.85 L1814.78 1548.85 L1814.78 1540.7 L1799.18 1540.7 L1799.18 1536.19 L1813.55 1514.29 Z\" fill=\"#000000\" fill-rule=\"nonzero\" fill-opacity=\"1\" /><path clip-path=\"url(#clip390)\" d=\"M2080.6 1514.29 L2098.95 1514.29 L2098.95 1518.22 L2084.88 1518.22 L2084.88 1526.7 Q2085.9 1526.35 2086.92 1526.19 Q2087.94 1526 2088.95 1526 Q2094.74 1526 2098.12 1529.17 Q2101.5 1532.34 2101.5 1537.76 Q2101.5 1543.34 2098.03 1546.44 Q2094.56 1549.52 2088.24 1549.52 Q2086.06 1549.52 2083.79 1549.15 Q2081.55 1548.78 2079.14 1548.04 L2079.14 1543.34 Q2081.22 1544.47 2083.45 1545.03 Q2085.67 1545.58 2088.14 1545.58 Q2092.15 1545.58 2094.49 1543.48 Q2096.82 1541.37 2096.82 1537.76 Q2096.82 1534.15 2094.49 1532.04 Q2092.15 1529.94 2088.14 1529.94 Q2086.27 1529.94 2084.39 1530.35 Q2082.54 1530.77 2080.6 1531.65 L2080.6 1514.29 Z\" fill=\"#000000\" fill-rule=\"nonzero\" fill-opacity=\"1\" /><polyline clip-path=\"url(#clip392)\" style=\"stroke:#000000; stroke-linecap:round; stroke-linejoin:round; stroke-width:2; stroke-opacity:0.1; fill:none\" points=\"156.598,1447.06 2352.76,1447.06 \"/>\n",
       "<polyline clip-path=\"url(#clip392)\" style=\"stroke:#000000; stroke-linecap:round; stroke-linejoin:round; stroke-width:2; stroke-opacity:0.1; fill:none\" points=\"156.598,1106.35 2352.76,1106.35 \"/>\n",
       "<polyline clip-path=\"url(#clip392)\" style=\"stroke:#000000; stroke-linecap:round; stroke-linejoin:round; stroke-width:2; stroke-opacity:0.1; fill:none\" points=\"156.598,765.63 2352.76,765.63 \"/>\n",
       "<polyline clip-path=\"url(#clip392)\" style=\"stroke:#000000; stroke-linecap:round; stroke-linejoin:round; stroke-width:2; stroke-opacity:0.1; fill:none\" points=\"156.598,424.912 2352.76,424.912 \"/>\n",
       "<polyline clip-path=\"url(#clip392)\" style=\"stroke:#000000; stroke-linecap:round; stroke-linejoin:round; stroke-width:2; stroke-opacity:0.1; fill:none\" points=\"156.598,84.1949 2352.76,84.1949 \"/>\n",
       "<polyline clip-path=\"url(#clip390)\" style=\"stroke:#000000; stroke-linecap:round; stroke-linejoin:round; stroke-width:4; stroke-opacity:1; fill:none\" points=\"156.598,1486.45 156.598,47.2441 \"/>\n",
       "<polyline clip-path=\"url(#clip390)\" style=\"stroke:#000000; stroke-linecap:round; stroke-linejoin:round; stroke-width:4; stroke-opacity:1; fill:none\" points=\"156.598,1447.06 175.496,1447.06 \"/>\n",
       "<polyline clip-path=\"url(#clip390)\" style=\"stroke:#000000; stroke-linecap:round; stroke-linejoin:round; stroke-width:4; stroke-opacity:1; fill:none\" points=\"156.598,1106.35 175.496,1106.35 \"/>\n",
       "<polyline clip-path=\"url(#clip390)\" style=\"stroke:#000000; stroke-linecap:round; stroke-linejoin:round; stroke-width:4; stroke-opacity:1; fill:none\" points=\"156.598,765.63 175.496,765.63 \"/>\n",
       "<polyline clip-path=\"url(#clip390)\" style=\"stroke:#000000; stroke-linecap:round; stroke-linejoin:round; stroke-width:4; stroke-opacity:1; fill:none\" points=\"156.598,424.912 175.496,424.912 \"/>\n",
       "<polyline clip-path=\"url(#clip390)\" style=\"stroke:#000000; stroke-linecap:round; stroke-linejoin:round; stroke-width:4; stroke-opacity:1; fill:none\" points=\"156.598,84.1949 175.496,84.1949 \"/>\n",
       "<path clip-path=\"url(#clip390)\" d=\"M63.4226 1432.86 Q59.8115 1432.86 57.9828 1436.43 Q56.1773 1439.97 56.1773 1447.1 Q56.1773 1454.21 57.9828 1457.77 Q59.8115 1461.31 63.4226 1461.31 Q67.0569 1461.31 68.8624 1457.77 Q70.6911 1454.21 70.6911 1447.1 Q70.6911 1439.97 68.8624 1436.43 Q67.0569 1432.86 63.4226 1432.86 M63.4226 1429.16 Q69.2328 1429.16 72.2883 1433.77 Q75.367 1438.35 75.367 1447.1 Q75.367 1455.83 72.2883 1460.43 Q69.2328 1465.02 63.4226 1465.02 Q57.6125 1465.02 54.5338 1460.43 Q51.4782 1455.83 51.4782 1447.1 Q51.4782 1438.35 54.5338 1433.77 Q57.6125 1429.16 63.4226 1429.16 Z\" fill=\"#000000\" fill-rule=\"nonzero\" fill-opacity=\"1\" /><path clip-path=\"url(#clip390)\" d=\"M83.5845 1458.46 L88.4688 1458.46 L88.4688 1464.34 L83.5845 1464.34 L83.5845 1458.46 Z\" fill=\"#000000\" fill-rule=\"nonzero\" fill-opacity=\"1\" /><path clip-path=\"url(#clip390)\" d=\"M108.654 1432.86 Q105.043 1432.86 103.214 1436.43 Q101.409 1439.97 101.409 1447.1 Q101.409 1454.21 103.214 1457.77 Q105.043 1461.31 108.654 1461.31 Q112.288 1461.31 114.094 1457.77 Q115.922 1454.21 115.922 1447.1 Q115.922 1439.97 114.094 1436.43 Q112.288 1432.86 108.654 1432.86 M108.654 1429.16 Q114.464 1429.16 117.52 1433.77 Q120.598 1438.35 120.598 1447.1 Q120.598 1455.83 117.52 1460.43 Q114.464 1465.02 108.654 1465.02 Q102.844 1465.02 99.765 1460.43 Q96.7095 1455.83 96.7095 1447.1 Q96.7095 1438.35 99.765 1433.77 Q102.844 1429.16 108.654 1429.16 Z\" fill=\"#000000\" fill-rule=\"nonzero\" fill-opacity=\"1\" /><path clip-path=\"url(#clip390)\" d=\"M64.6495 1092.15 Q61.0384 1092.15 59.2097 1095.71 Q57.4041 1099.25 57.4041 1106.38 Q57.4041 1113.49 59.2097 1117.05 Q61.0384 1120.59 64.6495 1120.59 Q68.2837 1120.59 70.0892 1117.05 Q71.9179 1113.49 71.9179 1106.38 Q71.9179 1099.25 70.0892 1095.71 Q68.2837 1092.15 64.6495 1092.15 M64.6495 1088.44 Q70.4596 1088.44 73.5152 1093.05 Q76.5938 1097.63 76.5938 1106.38 Q76.5938 1115.11 73.5152 1119.72 Q70.4596 1124.3 64.6495 1124.3 Q58.8393 1124.3 55.7606 1119.72 Q52.7051 1115.11 52.7051 1106.38 Q52.7051 1097.63 55.7606 1093.05 Q58.8393 1088.44 64.6495 1088.44 Z\" fill=\"#000000\" fill-rule=\"nonzero\" fill-opacity=\"1\" /><path clip-path=\"url(#clip390)\" d=\"M84.8114 1117.75 L89.6956 1117.75 L89.6956 1123.63 L84.8114 1123.63 L84.8114 1117.75 Z\" fill=\"#000000\" fill-rule=\"nonzero\" fill-opacity=\"1\" /><path clip-path=\"url(#clip390)\" d=\"M100.691 1119.69 L108.33 1119.69 L108.33 1093.33 L100.02 1094.99 L100.02 1090.73 L108.283 1089.07 L112.959 1089.07 L112.959 1119.69 L120.598 1119.69 L120.598 1123.63 L100.691 1123.63 L100.691 1119.69 Z\" fill=\"#000000\" fill-rule=\"nonzero\" fill-opacity=\"1\" /><path clip-path=\"url(#clip390)\" d=\"M65.0198 751.428 Q61.4087 751.428 59.58 754.993 Q57.7745 758.535 57.7745 765.664 Q57.7745 772.771 59.58 776.336 Q61.4087 779.877 65.0198 779.877 Q68.6541 779.877 70.4596 776.336 Q72.2883 772.771 72.2883 765.664 Q72.2883 758.535 70.4596 754.993 Q68.6541 751.428 65.0198 751.428 M65.0198 747.725 Q70.83 747.725 73.8855 752.331 Q76.9642 756.914 76.9642 765.664 Q76.9642 774.391 73.8855 778.998 Q70.83 783.581 65.0198 783.581 Q59.2097 783.581 56.131 778.998 Q53.0754 774.391 53.0754 765.664 Q53.0754 756.914 56.131 752.331 Q59.2097 747.725 65.0198 747.725 Z\" fill=\"#000000\" fill-rule=\"nonzero\" fill-opacity=\"1\" /><path clip-path=\"url(#clip390)\" d=\"M85.1818 777.03 L90.066 777.03 L90.066 782.91 L85.1818 782.91 L85.1818 777.03 Z\" fill=\"#000000\" fill-rule=\"nonzero\" fill-opacity=\"1\" /><path clip-path=\"url(#clip390)\" d=\"M104.279 778.974 L120.598 778.974 L120.598 782.91 L98.6539 782.91 L98.6539 778.974 Q101.316 776.22 105.899 771.59 Q110.506 766.938 111.686 765.595 Q113.932 763.072 114.811 761.336 Q115.714 759.576 115.714 757.887 Q115.714 755.132 113.77 753.396 Q111.848 751.66 108.746 751.66 Q106.547 751.66 104.094 752.424 Q101.663 753.188 98.8854 754.739 L98.8854 750.016 Q101.709 748.882 104.163 748.303 Q106.617 747.725 108.654 747.725 Q114.024 747.725 117.219 750.41 Q120.413 753.095 120.413 757.586 Q120.413 759.715 119.603 761.637 Q118.816 763.535 116.709 766.127 Q116.131 766.799 113.029 770.016 Q109.927 773.211 104.279 778.974 Z\" fill=\"#000000\" fill-rule=\"nonzero\" fill-opacity=\"1\" /><path clip-path=\"url(#clip390)\" d=\"M64.0708 410.711 Q60.4597 410.711 58.631 414.276 Q56.8254 417.817 56.8254 424.947 Q56.8254 432.053 58.631 435.618 Q60.4597 439.16 64.0708 439.16 Q67.705 439.16 69.5105 435.618 Q71.3392 432.053 71.3392 424.947 Q71.3392 417.817 69.5105 414.276 Q67.705 410.711 64.0708 410.711 M64.0708 407.007 Q69.8809 407.007 72.9365 411.614 Q76.0151 416.197 76.0151 424.947 Q76.0151 433.674 72.9365 438.28 Q69.8809 442.864 64.0708 442.864 Q58.2606 442.864 55.1819 438.28 Q52.1264 433.674 52.1264 424.947 Q52.1264 416.197 55.1819 411.614 Q58.2606 407.007 64.0708 407.007 Z\" fill=\"#000000\" fill-rule=\"nonzero\" fill-opacity=\"1\" /><path clip-path=\"url(#clip390)\" d=\"M84.2327 436.313 L89.1169 436.313 L89.1169 442.192 L84.2327 442.192 L84.2327 436.313 Z\" fill=\"#000000\" fill-rule=\"nonzero\" fill-opacity=\"1\" /><path clip-path=\"url(#clip390)\" d=\"M113.469 423.558 Q116.825 424.276 118.7 426.544 Q120.598 428.813 120.598 432.146 Q120.598 437.262 117.08 440.063 Q113.561 442.864 107.08 442.864 Q104.904 442.864 102.589 442.424 Q100.297 442.007 97.8437 441.151 L97.8437 436.637 Q99.7882 437.771 102.103 438.35 Q104.418 438.928 106.941 438.928 Q111.339 438.928 113.631 437.192 Q115.945 435.456 115.945 432.146 Q115.945 429.09 113.793 427.378 Q111.663 425.641 107.844 425.641 L103.816 425.641 L103.816 421.799 L108.029 421.799 Q111.478 421.799 113.307 420.433 Q115.135 419.044 115.135 416.452 Q115.135 413.79 113.237 412.378 Q111.362 410.942 107.844 410.942 Q105.922 410.942 103.723 411.359 Q101.524 411.776 98.8854 412.655 L98.8854 408.489 Q101.547 407.748 103.862 407.378 Q106.2 407.007 108.26 407.007 Q113.584 407.007 116.686 409.438 Q119.788 411.845 119.788 415.966 Q119.788 418.836 118.145 420.827 Q116.501 422.794 113.469 423.558 Z\" fill=\"#000000\" fill-rule=\"nonzero\" fill-opacity=\"1\" /><path clip-path=\"url(#clip390)\" d=\"M62.9365 69.9936 Q59.3254 69.9936 57.4967 73.5584 Q55.6912 77.1 55.6912 84.2296 Q55.6912 91.3361 57.4967 94.9009 Q59.3254 98.4425 62.9365 98.4425 Q66.5707 98.4425 68.3763 94.9009 Q70.205 91.3361 70.205 84.2296 Q70.205 77.1 68.3763 73.5584 Q66.5707 69.9936 62.9365 69.9936 M62.9365 66.2899 Q68.7467 66.2899 71.8022 70.8964 Q74.8809 75.4797 74.8809 84.2296 Q74.8809 92.9564 71.8022 97.5629 Q68.7467 102.146 62.9365 102.146 Q57.1264 102.146 54.0477 97.5629 Q50.9921 92.9564 50.9921 84.2296 Q50.9921 75.4797 54.0477 70.8964 Q57.1264 66.2899 62.9365 66.2899 Z\" fill=\"#000000\" fill-rule=\"nonzero\" fill-opacity=\"1\" /><path clip-path=\"url(#clip390)\" d=\"M83.0984 95.5953 L87.9827 95.5953 L87.9827 101.475 L83.0984 101.475 L83.0984 95.5953 Z\" fill=\"#000000\" fill-rule=\"nonzero\" fill-opacity=\"1\" /><path clip-path=\"url(#clip390)\" d=\"M111.015 70.9889 L99.2095 89.4379 L111.015 89.4379 L111.015 70.9889 M109.788 66.9149 L115.668 66.9149 L115.668 89.4379 L120.598 89.4379 L120.598 93.3268 L115.668 93.3268 L115.668 101.475 L111.015 101.475 L111.015 93.3268 L95.4132 93.3268 L95.4132 88.8129 L109.788 66.9149 Z\" fill=\"#000000\" fill-rule=\"nonzero\" fill-opacity=\"1\" /><polyline clip-path=\"url(#clip392)\" style=\"stroke:#009af9; stroke-linecap:round; stroke-linejoin:round; stroke-width:4; stroke-opacity:1; fill:none\" points=\"218.754,1445.72 225.498,1445.59 232.242,1445.45 294.604,1443.49 356.966,1439.52 394.443,1435.52 431.92,1429.73 463.607,1422.97 495.293,1414 512.503,1408.01 529.713,1401.1 546.923,1393.19 564.133,1384.15 579.999,1374.73 595.866,1364.16 611.732,1352.36 627.598,1339.22 644.608,1323.56 661.618,1306.15 678.629,1286.88 695.639,1265.66 715.347,1238.51 735.055,1208.48 754.763,1175.5 774.471,1139.5 791.985,1104.97 809.499,1068.05 827.013,1028.82 844.528,987.337 859.886,949.213 875.244,909.564 890.603,868.52 905.961,826.231 939.45,730.584 972.94,632.068 1006.63,532.729 1040.32,436.176 1049.63,410.412 1058.94,385.178 1068.25,360.545 1077.56,336.582 1086.88,313.359 1096.19,290.942 1105.5,269.4 1114.81,248.795 1123.67,230.119 1132.53,212.402 1141.39,195.694 1150.25,180.041 1159.11,165.491 1167.97,152.084 1176.83,139.86 1185.69,128.855 1194.9,118.74 1204.11,110.01 1213.33,102.694 1222.54,96.8164 1231.75,92.3952 1240.96,89.4453 1250.17,87.9763 1259.39,87.993 1267.14,89.159 1274.9,91.3751 1282.65,94.6361 1290.41,98.9347 1298.16,104.261 1305.92,110.602 1313.67,117.944 1321.42,126.269 1330.89,137.74 1340.36,150.609 1349.83,164.834 1359.3,180.367 1368.76,197.157 1378.23,215.149 1387.7,234.283 1397.17,254.498 1414.51,294.127 1431.86,336.752 1440.53,359.053 1449.2,381.94 1457.88,405.355 1466.55,429.243 1498.59,520.66 1530.63,614.95 1563.09,710.683 1595.54,804.19 1613.73,854.821 1631.92,903.785 1650.1,950.822 1668.29,995.714 1684.77,1034.4 1701.25,1071.09 1717.73,1105.71 1734.21,1138.23 1753.08,1172.85 1771.95,1204.71 1790.82,1233.85 1809.69,1260.34 1827.16,1282.6 1844.63,1302.78 1862.1,1320.97 1879.57,1337.31 1896.8,1351.71 1914.02,1364.53 1931.25,1375.91 1948.47,1385.95 1965.19,1394.53 1981.92,1402.07 1998.64,1408.67 2015.36,1414.42 2049.65,1423.91 2083.94,1430.89 2121.5,1436.34 2159.07,1440.08 2213.64,1443.44 2268.21,1445.25 2279.41,1445.5 2290.6,1445.72 \"/>\n",
       "<path clip-path=\"url(#clip390)\" d=\"M2007.5 198.898 L2279.55 198.898 L2279.55 95.2176 L2007.5 95.2176  Z\" fill=\"#ffffff\" fill-rule=\"evenodd\" fill-opacity=\"1\"/>\n",
       "<polyline clip-path=\"url(#clip390)\" style=\"stroke:#000000; stroke-linecap:round; stroke-linejoin:round; stroke-width:4; stroke-opacity:1; fill:none\" points=\"2007.5,198.898 2279.55,198.898 2279.55,95.2176 2007.5,95.2176 2007.5,198.898 \"/>\n",
       "<polyline clip-path=\"url(#clip390)\" style=\"stroke:#009af9; stroke-linecap:round; stroke-linejoin:round; stroke-width:4; stroke-opacity:1; fill:none\" points=\"2031.91,147.058 2178.32,147.058 \"/>\n",
       "<path clip-path=\"url(#clip390)\" d=\"M2216.56 166.745 Q2214.76 171.375 2213.04 172.787 Q2211.33 174.199 2208.46 174.199 L2205.06 174.199 L2205.06 170.634 L2207.56 170.634 Q2209.32 170.634 2210.29 169.8 Q2211.26 168.967 2212.44 165.865 L2213.2 163.921 L2202.72 138.412 L2207.23 138.412 L2215.33 158.689 L2223.44 138.412 L2227.95 138.412 L2216.56 166.745 Z\" fill=\"#000000\" fill-rule=\"nonzero\" fill-opacity=\"1\" /><path clip-path=\"url(#clip390)\" d=\"M2235.24 160.402 L2242.88 160.402 L2242.88 134.037 L2234.57 135.703 L2234.57 131.444 L2242.83 129.778 L2247.51 129.778 L2247.51 160.402 L2255.15 160.402 L2255.15 164.338 L2235.24 164.338 L2235.24 160.402 Z\" fill=\"#000000\" fill-rule=\"nonzero\" fill-opacity=\"1\" /></svg>\n"
      ]
     },
     "execution_count": 20,
     "metadata": {},
     "output_type": "execute_result"
    }
   ],
   "source": [
    "using StatsPlots\n",
    "d = Normal(2.0, 1.0)\n",
    "plot(d)    # no other arguments"
   ]
  },
  {
   "cell_type": "markdown",
   "id": "c330c731-efb6-425d-ac83-749c721271a0",
   "metadata": {},
   "source": [
    "Calling `plot` on any subtype of `Distribuytions{Univariate, Continuous}` displays the pdf and uses the `maximum` and the `minimum` to define the range."
   ]
  },
  {
   "cell_type": "code",
   "execution_count": 21,
   "id": "4172849b-f1e8-47bb-b79a-8972011c07f9",
   "metadata": {},
   "outputs": [],
   "source": [
    "struct OurTruncatedExponential <: Distribution{Univariate, Continuous}\n",
    "    alpha::Float64\n",
    "    xmax::Float64\n",
    "end\n",
    "\n",
    "function Distributions.pdf(d::OurTruncatedExponential, x::Real)\n",
    "    d.alpha * exp(-d.alpha * x) / exp(-d.alpha * d.xmax)\n",
    "end\n",
    "\n",
    "Distributions.minimum(d::OurTruncatedExponential) = 0\n",
    "Distributions.maximum(d::OurTruncatedExponential) = d.xmax\n"
   ]
  },
  {
   "cell_type": "code",
   "execution_count": 22,
   "id": "12eaf292-c272-46f0-89d4-fe0fd6d80026",
   "metadata": {},
   "outputs": [
    {
     "data": {
      "text/plain": [
       "OurTruncatedExponential(alpha=1.0, xmax=2.0)"
      ]
     },
     "execution_count": 22,
     "metadata": {},
     "output_type": "execute_result"
    }
   ],
   "source": [
    "d = OurTruncatedExponential(1.0, 2.0)"
   ]
  },
  {
   "cell_type": "code",
   "execution_count": 23,
   "id": "c12689f7-b4a9-430f-900d-d9e57d53061a",
   "metadata": {},
   "outputs": [
    {
     "name": "stdout",
     "output_type": "stream",
     "text": [
      "(minimum(d), maximum(d)) = (0, 2.0)\n"
     ]
    },
    {
     "data": {
      "text/plain": [
       "(0, 2.0)"
      ]
     },
     "execution_count": 23,
     "metadata": {},
     "output_type": "execute_result"
    }
   ],
   "source": [
    "@show minimum(d), maximum(d)"
   ]
  },
  {
   "cell_type": "code",
   "execution_count": 26,
   "id": "aeb5b87c-b638-429d-b8a2-c39a58b9557d",
   "metadata": {},
   "outputs": [
    {
     "name": "stdout",
     "output_type": "stream",
     "text": [
      "support(d) = RealInterval{Float64}(0.0, 2.0)\n"
     ]
    },
    {
     "data": {
      "text/plain": [
       "RealInterval{Float64}(0.0, 2.0)"
      ]
     },
     "execution_count": 26,
     "metadata": {},
     "output_type": "execute_result"
    }
   ],
   "source": [
    "@show support(d)"
   ]
  },
  {
   "cell_type": "code",
   "execution_count": 27,
   "id": "50eafe9e-7b91-4cce-8c15-3ad430b980a6",
   "metadata": {},
   "outputs": [],
   "source": [
    "Distributions.support(d::Distribution) = RealInterval(minimum(d), maximum(d))"
   ]
  },
  {
   "cell_type": "code",
   "execution_count": 28,
   "id": "a51d76ef-278f-4f99-a39e-b0cea0c21a3a",
   "metadata": {},
   "outputs": [
    {
     "data": {
      "image/png": "[encoded data removed]",
      "image/svg+xml": [
       "<?xml version=\"1.0\" encoding=\"utf-8\"?>\n",
       "<svg xmlns=\"http://www.w3.org/2000/svg\" xmlns:xlink=\"http://www.w3.org/1999/xlink\" width=\"600\" height=\"400\" viewBox=\"0 0 2400 1600\">\n",
       "<defs>\n",
       "  <clipPath id=\"clip430\">\n",
       "    <rect x=\"0\" y=\"0\" width=\"2400\" height=\"1600\"/>\n",
       "  </clipPath>\n",
       "</defs>\n",
       "<path clip-path=\"url(#clip430)\" d=\"M0 1600 L2400 1600 L2400 0 L0 0  Z\" fill=\"#ffffff\" fill-rule=\"evenodd\" fill-opacity=\"1\"/>\n",
       "<defs>\n",
       "  <clipPath id=\"clip431\">\n",
       "    <rect x=\"480\" y=\"0\" width=\"1681\" height=\"1600\"/>\n",
       "  </clipPath>\n",
       "</defs>\n",
       "<path clip-path=\"url(#clip430)\" d=\"M112.177 1486.45 L2352.76 1486.45 L2352.76 47.2441 L112.177 47.2441  Z\" fill=\"#ffffff\" fill-rule=\"evenodd\" fill-opacity=\"1\"/>\n",
       "<defs>\n",
       "  <clipPath id=\"clip432\">\n",
       "    <rect x=\"112\" y=\"47\" width=\"2242\" height=\"1440\"/>\n",
       "  </clipPath>\n",
       "</defs>\n",
       "<polyline clip-path=\"url(#clip432)\" style=\"stroke:#000000; stroke-linecap:round; stroke-linejoin:round; stroke-width:2; stroke-opacity:0.1; fill:none\" points=\"175.59,1486.45 175.59,47.2441 \"/>\n",
       "<polyline clip-path=\"url(#clip432)\" style=\"stroke:#000000; stroke-linecap:round; stroke-linejoin:round; stroke-width:2; stroke-opacity:0.1; fill:none\" points=\"704.028,1486.45 704.028,47.2441 \"/>\n",
       "<polyline clip-path=\"url(#clip432)\" style=\"stroke:#000000; stroke-linecap:round; stroke-linejoin:round; stroke-width:2; stroke-opacity:0.1; fill:none\" points=\"1232.47,1486.45 1232.47,47.2441 \"/>\n",
       "<polyline clip-path=\"url(#clip432)\" style=\"stroke:#000000; stroke-linecap:round; stroke-linejoin:round; stroke-width:2; stroke-opacity:0.1; fill:none\" points=\"1760.9,1486.45 1760.9,47.2441 \"/>\n",
       "<polyline clip-path=\"url(#clip432)\" style=\"stroke:#000000; stroke-linecap:round; stroke-linejoin:round; stroke-width:2; stroke-opacity:0.1; fill:none\" points=\"2289.34,1486.45 2289.34,47.2441 \"/>\n",
       "<polyline clip-path=\"url(#clip430)\" style=\"stroke:#000000; stroke-linecap:round; stroke-linejoin:round; stroke-width:4; stroke-opacity:1; fill:none\" points=\"112.177,1486.45 2352.76,1486.45 \"/>\n",
       "<polyline clip-path=\"url(#clip430)\" style=\"stroke:#000000; stroke-linecap:round; stroke-linejoin:round; stroke-width:4; stroke-opacity:1; fill:none\" points=\"175.59,1486.45 175.59,1467.55 \"/>\n",
       "<polyline clip-path=\"url(#clip430)\" style=\"stroke:#000000; stroke-linecap:round; stroke-linejoin:round; stroke-width:4; stroke-opacity:1; fill:none\" points=\"704.028,1486.45 704.028,1467.55 \"/>\n",
       "<polyline clip-path=\"url(#clip430)\" style=\"stroke:#000000; stroke-linecap:round; stroke-linejoin:round; stroke-width:4; stroke-opacity:1; fill:none\" points=\"1232.47,1486.45 1232.47,1467.55 \"/>\n",
       "<polyline clip-path=\"url(#clip430)\" style=\"stroke:#000000; stroke-linecap:round; stroke-linejoin:round; stroke-width:4; stroke-opacity:1; fill:none\" points=\"1760.9,1486.45 1760.9,1467.55 \"/>\n",
       "<polyline clip-path=\"url(#clip430)\" style=\"stroke:#000000; stroke-linecap:round; stroke-linejoin:round; stroke-width:4; stroke-opacity:1; fill:none\" points=\"2289.34,1486.45 2289.34,1467.55 \"/>\n",
       "<path clip-path=\"url(#clip430)\" d=\"M152.974 1517.37 Q149.363 1517.37 147.534 1520.93 Q145.729 1524.47 145.729 1531.6 Q145.729 1538.71 147.534 1542.27 Q149.363 1545.82 152.974 1545.82 Q156.608 1545.82 158.414 1542.27 Q160.243 1538.71 160.243 1531.6 Q160.243 1524.47 158.414 1520.93 Q156.608 1517.37 152.974 1517.37 M152.974 1513.66 Q158.784 1513.66 161.84 1518.27 Q164.919 1522.85 164.919 1531.6 Q164.919 1540.33 161.84 1544.94 Q158.784 1549.52 152.974 1549.52 Q147.164 1549.52 144.085 1544.94 Q141.03 1540.33 141.03 1531.6 Q141.03 1522.85 144.085 1518.27 Q147.164 1513.66 152.974 1513.66 Z\" fill=\"#000000\" fill-rule=\"nonzero\" fill-opacity=\"1\" /><path clip-path=\"url(#clip430)\" d=\"M173.136 1542.97 L178.02 1542.97 L178.02 1548.85 L173.136 1548.85 L173.136 1542.97 Z\" fill=\"#000000\" fill-rule=\"nonzero\" fill-opacity=\"1\" /><path clip-path=\"url(#clip430)\" d=\"M198.205 1517.37 Q194.594 1517.37 192.766 1520.93 Q190.96 1524.47 190.96 1531.6 Q190.96 1538.71 192.766 1542.27 Q194.594 1545.82 198.205 1545.82 Q201.84 1545.82 203.645 1542.27 Q205.474 1538.71 205.474 1531.6 Q205.474 1524.47 203.645 1520.93 Q201.84 1517.37 198.205 1517.37 M198.205 1513.66 Q204.016 1513.66 207.071 1518.27 Q210.15 1522.85 210.15 1531.6 Q210.15 1540.33 207.071 1544.94 Q204.016 1549.52 198.205 1549.52 Q192.395 1549.52 189.317 1544.94 Q186.261 1540.33 186.261 1531.6 Q186.261 1522.85 189.317 1518.27 Q192.395 1513.66 198.205 1513.66 Z\" fill=\"#000000\" fill-rule=\"nonzero\" fill-opacity=\"1\" /><path clip-path=\"url(#clip430)\" d=\"M681.91 1517.37 Q678.299 1517.37 676.47 1520.93 Q674.665 1524.47 674.665 1531.6 Q674.665 1538.71 676.47 1542.27 Q678.299 1545.82 681.91 1545.82 Q685.544 1545.82 687.35 1542.27 Q689.179 1538.71 689.179 1531.6 Q689.179 1524.47 687.35 1520.93 Q685.544 1517.37 681.91 1517.37 M681.91 1513.66 Q687.72 1513.66 690.776 1518.27 Q693.855 1522.85 693.855 1531.6 Q693.855 1540.33 690.776 1544.94 Q687.72 1549.52 681.91 1549.52 Q676.1 1549.52 673.021 1544.94 Q669.966 1540.33 669.966 1531.6 Q669.966 1522.85 673.021 1518.27 Q676.1 1513.66 681.91 1513.66 Z\" fill=\"#000000\" fill-rule=\"nonzero\" fill-opacity=\"1\" /><path clip-path=\"url(#clip430)\" d=\"M702.072 1542.97 L706.956 1542.97 L706.956 1548.85 L702.072 1548.85 L702.072 1542.97 Z\" fill=\"#000000\" fill-rule=\"nonzero\" fill-opacity=\"1\" /><path clip-path=\"url(#clip430)\" d=\"M717.188 1514.29 L735.544 1514.29 L735.544 1518.22 L721.47 1518.22 L721.47 1526.7 Q722.489 1526.35 723.507 1526.19 Q724.526 1526 725.544 1526 Q731.331 1526 734.711 1529.17 Q738.09 1532.34 738.09 1537.76 Q738.09 1543.34 734.618 1546.44 Q731.146 1549.52 724.827 1549.52 Q722.651 1549.52 720.382 1549.15 Q718.137 1548.78 715.729 1548.04 L715.729 1543.34 Q717.813 1544.47 720.035 1545.03 Q722.257 1545.58 724.734 1545.58 Q728.739 1545.58 731.077 1543.48 Q733.415 1541.37 733.415 1537.76 Q733.415 1534.15 731.077 1532.04 Q728.739 1529.94 724.734 1529.94 Q722.859 1529.94 720.984 1530.35 Q719.132 1530.77 717.188 1531.65 L717.188 1514.29 Z\" fill=\"#000000\" fill-rule=\"nonzero\" fill-opacity=\"1\" /><path clip-path=\"url(#clip430)\" d=\"M1199.62 1544.91 L1207.26 1544.91 L1207.26 1518.55 L1198.95 1520.21 L1198.95 1515.95 L1207.21 1514.29 L1211.89 1514.29 L1211.89 1544.91 L1219.53 1544.91 L1219.53 1548.85 L1199.62 1548.85 L1199.62 1544.91 Z\" fill=\"#000000\" fill-rule=\"nonzero\" fill-opacity=\"1\" /><path clip-path=\"url(#clip430)\" d=\"M1228.97 1542.97 L1233.86 1542.97 L1233.86 1548.85 L1228.97 1548.85 L1228.97 1542.97 Z\" fill=\"#000000\" fill-rule=\"nonzero\" fill-opacity=\"1\" /><path clip-path=\"url(#clip430)\" d=\"M1254.04 1517.37 Q1250.43 1517.37 1248.6 1520.93 Q1246.8 1524.47 1246.8 1531.6 Q1246.8 1538.71 1248.6 1542.27 Q1250.43 1545.82 1254.04 1545.82 Q1257.67 1545.82 1259.48 1542.27 Q1261.31 1538.71 1261.31 1531.6 Q1261.31 1524.47 1259.48 1520.93 Q1257.67 1517.37 1254.04 1517.37 M1254.04 1513.66 Q1259.85 1513.66 1262.91 1518.27 Q1265.98 1522.85 1265.98 1531.6 Q1265.98 1540.33 1262.91 1544.94 Q1259.85 1549.52 1254.04 1549.52 Q1248.23 1549.52 1245.15 1544.94 Q1242.1 1540.33 1242.1 1531.6 Q1242.1 1522.85 1245.15 1518.27 Q1248.23 1513.66 1254.04 1513.66 Z\" fill=\"#000000\" fill-rule=\"nonzero\" fill-opacity=\"1\" /><path clip-path=\"url(#clip430)\" d=\"M1728.56 1544.91 L1736.19 1544.91 L1736.19 1518.55 L1727.88 1520.21 L1727.88 1515.95 L1736.15 1514.29 L1740.82 1514.29 L1740.82 1544.91 L1748.46 1544.91 L1748.46 1548.85 L1728.56 1548.85 L1728.56 1544.91 Z\" fill=\"#000000\" fill-rule=\"nonzero\" fill-opacity=\"1\" /><path clip-path=\"url(#clip430)\" d=\"M1757.91 1542.97 L1762.79 1542.97 L1762.79 1548.85 L1757.91 1548.85 L1757.91 1542.97 Z\" fill=\"#000000\" fill-rule=\"nonzero\" fill-opacity=\"1\" /><path clip-path=\"url(#clip430)\" d=\"M1773.02 1514.29 L1791.38 1514.29 L1791.38 1518.22 L1777.31 1518.22 L1777.31 1526.7 Q1778.32 1526.35 1779.34 1526.19 Q1780.36 1526 1781.38 1526 Q1787.17 1526 1790.55 1529.17 Q1793.93 1532.34 1793.93 1537.76 Q1793.93 1543.34 1790.45 1546.44 Q1786.98 1549.52 1780.66 1549.52 Q1778.49 1549.52 1776.22 1549.15 Q1773.97 1548.78 1771.56 1548.04 L1771.56 1543.34 Q1773.65 1544.47 1775.87 1545.03 Q1778.09 1545.58 1780.57 1545.58 Q1784.57 1545.58 1786.91 1543.48 Q1789.25 1541.37 1789.25 1537.76 Q1789.25 1534.15 1786.91 1532.04 Q1784.57 1529.94 1780.57 1529.94 Q1778.69 1529.94 1776.82 1530.35 Q1774.97 1530.77 1773.02 1531.65 L1773.02 1514.29 Z\" fill=\"#000000\" fill-rule=\"nonzero\" fill-opacity=\"1\" /><path clip-path=\"url(#clip430)\" d=\"M2260.58 1544.91 L2276.9 1544.91 L2276.9 1548.85 L2254.96 1548.85 L2254.96 1544.91 Q2257.62 1542.16 2262.2 1537.53 Q2266.81 1532.88 2267.99 1531.53 Q2270.23 1529.01 2271.11 1527.27 Q2272.02 1525.51 2272.02 1523.82 Q2272.02 1521.07 2270.07 1519.33 Q2268.15 1517.6 2265.05 1517.6 Q2262.85 1517.6 2260.4 1518.36 Q2257.97 1519.13 2255.19 1520.68 L2255.19 1515.95 Q2258.01 1514.82 2260.47 1514.24 Q2262.92 1513.66 2264.96 1513.66 Q2270.33 1513.66 2273.52 1516.35 Q2276.72 1519.03 2276.72 1523.52 Q2276.72 1525.65 2275.91 1527.57 Q2275.12 1529.47 2273.01 1532.07 Q2272.43 1532.74 2269.33 1535.95 Q2266.23 1539.15 2260.58 1544.91 Z\" fill=\"#000000\" fill-rule=\"nonzero\" fill-opacity=\"1\" /><path clip-path=\"url(#clip430)\" d=\"M2286.72 1542.97 L2291.6 1542.97 L2291.6 1548.85 L2286.72 1548.85 L2286.72 1542.97 Z\" fill=\"#000000\" fill-rule=\"nonzero\" fill-opacity=\"1\" /><path clip-path=\"url(#clip430)\" d=\"M2311.79 1517.37 Q2308.17 1517.37 2306.35 1520.93 Q2304.54 1524.47 2304.54 1531.6 Q2304.54 1538.71 2306.35 1542.27 Q2308.17 1545.82 2311.79 1545.82 Q2315.42 1545.82 2317.23 1542.27 Q2319.05 1538.71 2319.05 1531.6 Q2319.05 1524.47 2317.23 1520.93 Q2315.42 1517.37 2311.79 1517.37 M2311.79 1513.66 Q2317.6 1513.66 2320.65 1518.27 Q2323.73 1522.85 2323.73 1531.6 Q2323.73 1540.33 2320.65 1544.94 Q2317.6 1549.52 2311.79 1549.52 Q2305.98 1549.52 2302.9 1544.94 Q2299.84 1540.33 2299.84 1531.6 Q2299.84 1522.85 2302.9 1518.27 Q2305.98 1513.66 2311.79 1513.66 Z\" fill=\"#000000\" fill-rule=\"nonzero\" fill-opacity=\"1\" /><polyline clip-path=\"url(#clip432)\" style=\"stroke:#000000; stroke-linecap:round; stroke-linejoin:round; stroke-width:2; stroke-opacity:0.1; fill:none\" points=\"112.177,1445.72 2352.76,1445.72 \"/>\n",
       "<polyline clip-path=\"url(#clip432)\" style=\"stroke:#000000; stroke-linecap:round; stroke-linejoin:round; stroke-width:2; stroke-opacity:0.1; fill:none\" points=\"112.177,1233.21 2352.76,1233.21 \"/>\n",
       "<polyline clip-path=\"url(#clip432)\" style=\"stroke:#000000; stroke-linecap:round; stroke-linejoin:round; stroke-width:2; stroke-opacity:0.1; fill:none\" points=\"112.177,1020.7 2352.76,1020.7 \"/>\n",
       "<polyline clip-path=\"url(#clip432)\" style=\"stroke:#000000; stroke-linecap:round; stroke-linejoin:round; stroke-width:2; stroke-opacity:0.1; fill:none\" points=\"112.177,808.185 2352.76,808.185 \"/>\n",
       "<polyline clip-path=\"url(#clip432)\" style=\"stroke:#000000; stroke-linecap:round; stroke-linejoin:round; stroke-width:2; stroke-opacity:0.1; fill:none\" points=\"112.177,595.675 2352.76,595.675 \"/>\n",
       "<polyline clip-path=\"url(#clip432)\" style=\"stroke:#000000; stroke-linecap:round; stroke-linejoin:round; stroke-width:2; stroke-opacity:0.1; fill:none\" points=\"112.177,383.165 2352.76,383.165 \"/>\n",
       "<polyline clip-path=\"url(#clip432)\" style=\"stroke:#000000; stroke-linecap:round; stroke-linejoin:round; stroke-width:2; stroke-opacity:0.1; fill:none\" points=\"112.177,170.655 2352.76,170.655 \"/>\n",
       "<polyline clip-path=\"url(#clip430)\" style=\"stroke:#000000; stroke-linecap:round; stroke-linejoin:round; stroke-width:4; stroke-opacity:1; fill:none\" points=\"112.177,1486.45 112.177,47.2441 \"/>\n",
       "<polyline clip-path=\"url(#clip430)\" style=\"stroke:#000000; stroke-linecap:round; stroke-linejoin:round; stroke-width:4; stroke-opacity:1; fill:none\" points=\"112.177,1445.72 131.075,1445.72 \"/>\n",
       "<polyline clip-path=\"url(#clip430)\" style=\"stroke:#000000; stroke-linecap:round; stroke-linejoin:round; stroke-width:4; stroke-opacity:1; fill:none\" points=\"112.177,1233.21 131.075,1233.21 \"/>\n",
       "<polyline clip-path=\"url(#clip430)\" style=\"stroke:#000000; stroke-linecap:round; stroke-linejoin:round; stroke-width:4; stroke-opacity:1; fill:none\" points=\"112.177,1020.7 131.075,1020.7 \"/>\n",
       "<polyline clip-path=\"url(#clip430)\" style=\"stroke:#000000; stroke-linecap:round; stroke-linejoin:round; stroke-width:4; stroke-opacity:1; fill:none\" points=\"112.177,808.185 131.075,808.185 \"/>\n",
       "<polyline clip-path=\"url(#clip430)\" style=\"stroke:#000000; stroke-linecap:round; stroke-linejoin:round; stroke-width:4; stroke-opacity:1; fill:none\" points=\"112.177,595.675 131.075,595.675 \"/>\n",
       "<polyline clip-path=\"url(#clip430)\" style=\"stroke:#000000; stroke-linecap:round; stroke-linejoin:round; stroke-width:4; stroke-opacity:1; fill:none\" points=\"112.177,383.165 131.075,383.165 \"/>\n",
       "<polyline clip-path=\"url(#clip430)\" style=\"stroke:#000000; stroke-linecap:round; stroke-linejoin:round; stroke-width:4; stroke-opacity:1; fill:none\" points=\"112.177,170.655 131.075,170.655 \"/>\n",
       "<path clip-path=\"url(#clip430)\" d=\"M56.2699 1459.06 L63.9087 1459.06 L63.9087 1432.69 L55.5986 1434.36 L55.5986 1430.1 L63.8624 1428.44 L68.5383 1428.44 L68.5383 1459.06 L76.1772 1459.06 L76.1772 1463 L56.2699 1463 L56.2699 1459.06 Z\" fill=\"#000000\" fill-rule=\"nonzero\" fill-opacity=\"1\" /><path clip-path=\"url(#clip430)\" d=\"M59.8578 1246.55 L76.1772 1246.55 L76.1772 1250.49 L54.2328 1250.49 L54.2328 1246.55 Q56.8949 1243.8 61.4782 1239.17 Q66.0846 1234.51 67.2652 1233.17 Q69.5105 1230.65 70.3902 1228.91 Q71.2929 1227.15 71.2929 1225.46 Q71.2929 1222.71 69.3485 1220.97 Q67.4272 1219.24 64.3254 1219.24 Q62.1263 1219.24 59.6726 1220 Q57.2421 1220.76 54.4643 1222.31 L54.4643 1217.59 Q57.2884 1216.46 59.7421 1215.88 Q62.1958 1215.3 64.2328 1215.3 Q69.6031 1215.3 72.7976 1217.99 Q75.992 1220.67 75.992 1225.16 Q75.992 1227.29 75.1818 1229.21 Q74.3948 1231.11 72.2883 1233.7 Q71.7096 1234.37 68.6078 1237.59 Q65.5059 1240.79 59.8578 1246.55 Z\" fill=\"#000000\" fill-rule=\"nonzero\" fill-opacity=\"1\" /><path clip-path=\"url(#clip430)\" d=\"M69.0476 1019.34 Q72.404 1020.06 74.279 1022.33 Q76.1772 1024.6 76.1772 1027.93 Q76.1772 1033.04 72.6587 1035.85 Q69.1402 1038.65 62.6587 1038.65 Q60.4828 1038.65 58.168 1038.21 Q55.8764 1037.79 53.4227 1036.93 L53.4227 1032.42 Q55.3671 1033.55 57.6819 1034.13 Q59.9967 1034.71 62.5198 1034.71 Q66.918 1034.71 69.2096 1032.98 Q71.5244 1031.24 71.5244 1027.93 Q71.5244 1024.87 69.3717 1023.16 Q67.242 1021.42 63.4226 1021.42 L59.3949 1021.42 L59.3949 1017.58 L63.6078 1017.58 Q67.0569 1017.58 68.8855 1016.22 Q70.7142 1014.83 70.7142 1012.23 Q70.7142 1009.57 68.8161 1008.16 Q66.9411 1006.73 63.4226 1006.73 Q61.5013 1006.73 59.3023 1007.14 Q57.1032 1007.56 54.4643 1008.44 L54.4643 1004.27 Q57.1264 1003.53 59.4412 1003.16 Q61.7791 1002.79 63.8393 1002.79 Q69.1633 1002.79 72.2652 1005.22 Q75.367 1007.63 75.367 1011.75 Q75.367 1014.62 73.7235 1016.61 Q72.08 1018.58 69.0476 1019.34 Z\" fill=\"#000000\" fill-rule=\"nonzero\" fill-opacity=\"1\" /><path clip-path=\"url(#clip430)\" d=\"M66.5939 794.979 L54.7884 813.428 L66.5939 813.428 L66.5939 794.979 M65.367 790.905 L71.2466 790.905 L71.2466 813.428 L76.1772 813.428 L76.1772 817.317 L71.2466 817.317 L71.2466 825.465 L66.5939 825.465 L66.5939 817.317 L50.9921 817.317 L50.9921 812.803 L65.367 790.905 Z\" fill=\"#000000\" fill-rule=\"nonzero\" fill-opacity=\"1\" /><path clip-path=\"url(#clip430)\" d=\"M55.2745 578.395 L73.6309 578.395 L73.6309 582.33 L59.5569 582.33 L59.5569 590.802 Q60.5754 590.455 61.5939 590.293 Q62.6124 590.108 63.6309 590.108 Q69.418 590.108 72.7976 593.279 Q76.1772 596.45 76.1772 601.867 Q76.1772 607.446 72.705 610.548 Q69.2328 613.626 62.9134 613.626 Q60.7374 613.626 58.4689 613.256 Q56.2236 612.886 53.8162 612.145 L53.8162 607.446 Q55.8995 608.58 58.1217 609.136 Q60.3439 609.691 62.8208 609.691 Q66.8254 609.691 69.1633 607.585 Q71.5013 605.478 71.5013 601.867 Q71.5013 598.256 69.1633 596.15 Q66.8254 594.043 62.8208 594.043 Q60.9458 594.043 59.0708 594.46 Q57.2189 594.876 55.2745 595.756 L55.2745 578.395 Z\" fill=\"#000000\" fill-rule=\"nonzero\" fill-opacity=\"1\" /><path clip-path=\"url(#clip430)\" d=\"M64.6495 381.301 Q61.5013 381.301 59.6495 383.454 Q57.8208 385.607 57.8208 389.357 Q57.8208 393.084 59.6495 395.26 Q61.5013 397.412 64.6495 397.412 Q67.7976 397.412 69.6263 395.26 Q71.4781 393.084 71.4781 389.357 Q71.4781 385.607 69.6263 383.454 Q67.7976 381.301 64.6495 381.301 M73.9318 366.649 L73.9318 370.908 Q72.1726 370.075 70.367 369.635 Q68.5846 369.195 66.8254 369.195 Q62.1958 369.195 59.7421 372.32 Q57.3115 375.445 56.9643 381.764 Q58.33 379.75 60.3902 378.686 Q62.4504 377.598 64.9272 377.598 Q70.1355 377.598 73.1448 380.769 Q76.1772 383.917 76.1772 389.357 Q76.1772 394.681 73.029 397.899 Q69.8809 401.116 64.6495 401.116 Q58.6541 401.116 55.4828 396.533 Q52.3116 391.926 52.3116 383.2 Q52.3116 375.005 56.2004 370.144 Q60.0893 365.26 66.6402 365.26 Q68.3994 365.26 70.1818 365.607 Q71.9874 365.954 73.9318 366.649 Z\" fill=\"#000000\" fill-rule=\"nonzero\" fill-opacity=\"1\" /><path clip-path=\"url(#clip430)\" d=\"M53.9551 153.375 L76.1772 153.375 L76.1772 155.365 L63.6309 187.935 L58.7467 187.935 L70.5522 157.31 L53.9551 157.31 L53.9551 153.375 Z\" fill=\"#000000\" fill-rule=\"nonzero\" fill-opacity=\"1\" /><polyline clip-path=\"url(#clip432)\" style=\"stroke:#009af9; stroke-linecap:round; stroke-linejoin:round; stroke-width:4; stroke-opacity:1; fill:none\" points=\"175.59,87.9763 179.03,93.0796 182.471,98.1663 185.911,103.236 189.351,108.29 221.163,154.248 252.975,198.842 284.786,242.115 316.598,284.104 354.833,332.928 393.068,380.017 425.395,418.522 457.722,455.867 492.839,495.161 527.955,533.171 560.329,567.111 592.704,600.027 627.412,634.215 662.121,667.298 702.334,704.294 742.547,739.908 778.284,770.441 814.021,799.958 845.359,825.033 876.697,849.376 945.031,900.018 1013.77,947.763 1089.77,997.059 1162.08,1040.78 1237.27,1083.18 1300.56,1116.61 1377.84,1154.8 1448.62,1187.41 1514,1215.65 1580.23,1242.53 1654.45,1270.72 1721.7,1294.62 1798.7,1320.17 1870,1342.22 1940.29,1362.55 2008.54,1381.04 2078.5,1398.8 2155.15,1416.95 2266.5,1441.07 2289.34,1445.72 \"/>\n",
       "<path clip-path=\"url(#clip430)\" d=\"M2001.58 198.898 L2278.07 198.898 L2278.07 95.2176 L2001.58 95.2176  Z\" fill=\"#ffffff\" fill-rule=\"evenodd\" fill-opacity=\"1\"/>\n",
       "<polyline clip-path=\"url(#clip430)\" style=\"stroke:#000000; stroke-linecap:round; stroke-linejoin:round; stroke-width:4; stroke-opacity:1; fill:none\" points=\"2001.58,198.898 2278.07,198.898 2278.07,95.2176 2001.58,95.2176 2001.58,198.898 \"/>\n",
       "<polyline clip-path=\"url(#clip430)\" style=\"stroke:#009af9; stroke-linecap:round; stroke-linejoin:round; stroke-width:4; stroke-opacity:1; fill:none\" points=\"2026.48,147.058 2175.85,147.058 \"/>\n",
       "<path clip-path=\"url(#clip430)\" d=\"M2214.59 166.745 Q2212.78 171.375 2211.07 172.787 Q2209.36 174.199 2206.49 174.199 L2203.08 174.199 L2203.08 170.634 L2205.58 170.634 Q2207.34 170.634 2208.31 169.8 Q2209.29 168.967 2210.47 165.865 L2211.23 163.921 L2200.74 138.412 L2205.26 138.412 L2213.36 158.689 L2221.46 138.412 L2225.98 138.412 L2214.59 166.745 Z\" fill=\"#000000\" fill-rule=\"nonzero\" fill-opacity=\"1\" /><path clip-path=\"url(#clip430)\" d=\"M2233.27 160.402 L2240.91 160.402 L2240.91 134.037 L2232.6 135.703 L2232.6 131.444 L2240.86 129.778 L2245.54 129.778 L2245.54 160.402 L2253.17 160.402 L2253.17 164.338 L2233.27 164.338 L2233.27 160.402 Z\" fill=\"#000000\" fill-rule=\"nonzero\" fill-opacity=\"1\" /></svg>\n"
      ],
      "text/html": [
       "<?xml version=\"1.0\" encoding=\"utf-8\"?>\n",
       "<svg xmlns=\"http://www.w3.org/2000/svg\" xmlns:xlink=\"http://www.w3.org/1999/xlink\" width=\"600\" height=\"400\" viewBox=\"0 0 2400 1600\">\n",
       "<defs>\n",
       "  <clipPath id=\"clip480\">\n",
       "    <rect x=\"0\" y=\"0\" width=\"2400\" height=\"1600\"/>\n",
       "  </clipPath>\n",
       "</defs>\n",
       "<path clip-path=\"url(#clip480)\" d=\"M0 1600 L2400 1600 L2400 0 L0 0  Z\" fill=\"#ffffff\" fill-rule=\"evenodd\" fill-opacity=\"1\"/>\n",
       "<defs>\n",
       "  <clipPath id=\"clip481\">\n",
       "    <rect x=\"480\" y=\"0\" width=\"1681\" height=\"1600\"/>\n",
       "  </clipPath>\n",
       "</defs>\n",
       "<path clip-path=\"url(#clip480)\" d=\"M112.177 1486.45 L2352.76 1486.45 L2352.76 47.2441 L112.177 47.2441  Z\" fill=\"#ffffff\" fill-rule=\"evenodd\" fill-opacity=\"1\"/>\n",
       "<defs>\n",
       "  <clipPath id=\"clip482\">\n",
       "    <rect x=\"112\" y=\"47\" width=\"2242\" height=\"1440\"/>\n",
       "  </clipPath>\n",
       "</defs>\n",
       "<polyline clip-path=\"url(#clip482)\" style=\"stroke:#000000; stroke-linecap:round; stroke-linejoin:round; stroke-width:2; stroke-opacity:0.1; fill:none\" points=\"175.59,1486.45 175.59,47.2441 \"/>\n",
       "<polyline clip-path=\"url(#clip482)\" style=\"stroke:#000000; stroke-linecap:round; stroke-linejoin:round; stroke-width:2; stroke-opacity:0.1; fill:none\" points=\"704.028,1486.45 704.028,47.2441 \"/>\n",
       "<polyline clip-path=\"url(#clip482)\" style=\"stroke:#000000; stroke-linecap:round; stroke-linejoin:round; stroke-width:2; stroke-opacity:0.1; fill:none\" points=\"1232.47,1486.45 1232.47,47.2441 \"/>\n",
       "<polyline clip-path=\"url(#clip482)\" style=\"stroke:#000000; stroke-linecap:round; stroke-linejoin:round; stroke-width:2; stroke-opacity:0.1; fill:none\" points=\"1760.9,1486.45 1760.9,47.2441 \"/>\n",
       "<polyline clip-path=\"url(#clip482)\" style=\"stroke:#000000; stroke-linecap:round; stroke-linejoin:round; stroke-width:2; stroke-opacity:0.1; fill:none\" points=\"2289.34,1486.45 2289.34,47.2441 \"/>\n",
       "<polyline clip-path=\"url(#clip480)\" style=\"stroke:#000000; stroke-linecap:round; stroke-linejoin:round; stroke-width:4; stroke-opacity:1; fill:none\" points=\"112.177,1486.45 2352.76,1486.45 \"/>\n",
       "<polyline clip-path=\"url(#clip480)\" style=\"stroke:#000000; stroke-linecap:round; stroke-linejoin:round; stroke-width:4; stroke-opacity:1; fill:none\" points=\"175.59,1486.45 175.59,1467.55 \"/>\n",
       "<polyline clip-path=\"url(#clip480)\" style=\"stroke:#000000; stroke-linecap:round; stroke-linejoin:round; stroke-width:4; stroke-opacity:1; fill:none\" points=\"704.028,1486.45 704.028,1467.55 \"/>\n",
       "<polyline clip-path=\"url(#clip480)\" style=\"stroke:#000000; stroke-linecap:round; stroke-linejoin:round; stroke-width:4; stroke-opacity:1; fill:none\" points=\"1232.47,1486.45 1232.47,1467.55 \"/>\n",
       "<polyline clip-path=\"url(#clip480)\" style=\"stroke:#000000; stroke-linecap:round; stroke-linejoin:round; stroke-width:4; stroke-opacity:1; fill:none\" points=\"1760.9,1486.45 1760.9,1467.55 \"/>\n",
       "<polyline clip-path=\"url(#clip480)\" style=\"stroke:#000000; stroke-linecap:round; stroke-linejoin:round; stroke-width:4; stroke-opacity:1; fill:none\" points=\"2289.34,1486.45 2289.34,1467.55 \"/>\n",
       "<path clip-path=\"url(#clip480)\" d=\"M152.974 1517.37 Q149.363 1517.37 147.534 1520.93 Q145.729 1524.47 145.729 1531.6 Q145.729 1538.71 147.534 1542.27 Q149.363 1545.82 152.974 1545.82 Q156.608 1545.82 158.414 1542.27 Q160.243 1538.71 160.243 1531.6 Q160.243 1524.47 158.414 1520.93 Q156.608 1517.37 152.974 1517.37 M152.974 1513.66 Q158.784 1513.66 161.84 1518.27 Q164.919 1522.85 164.919 1531.6 Q164.919 1540.33 161.84 1544.94 Q158.784 1549.52 152.974 1549.52 Q147.164 1549.52 144.085 1544.94 Q141.03 1540.33 141.03 1531.6 Q141.03 1522.85 144.085 1518.27 Q147.164 1513.66 152.974 1513.66 Z\" fill=\"#000000\" fill-rule=\"nonzero\" fill-opacity=\"1\" /><path clip-path=\"url(#clip480)\" d=\"M173.136 1542.97 L178.02 1542.97 L178.02 1548.85 L173.136 1548.85 L173.136 1542.97 Z\" fill=\"#000000\" fill-rule=\"nonzero\" fill-opacity=\"1\" /><path clip-path=\"url(#clip480)\" d=\"M198.205 1517.37 Q194.594 1517.37 192.766 1520.93 Q190.96 1524.47 190.96 1531.6 Q190.96 1538.71 192.766 1542.27 Q194.594 1545.82 198.205 1545.82 Q201.84 1545.82 203.645 1542.27 Q205.474 1538.71 205.474 1531.6 Q205.474 1524.47 203.645 1520.93 Q201.84 1517.37 198.205 1517.37 M198.205 1513.66 Q204.016 1513.66 207.071 1518.27 Q210.15 1522.85 210.15 1531.6 Q210.15 1540.33 207.071 1544.94 Q204.016 1549.52 198.205 1549.52 Q192.395 1549.52 189.317 1544.94 Q186.261 1540.33 186.261 1531.6 Q186.261 1522.85 189.317 1518.27 Q192.395 1513.66 198.205 1513.66 Z\" fill=\"#000000\" fill-rule=\"nonzero\" fill-opacity=\"1\" /><path clip-path=\"url(#clip480)\" d=\"M681.91 1517.37 Q678.299 1517.37 676.47 1520.93 Q674.665 1524.47 674.665 1531.6 Q674.665 1538.71 676.47 1542.27 Q678.299 1545.82 681.91 1545.82 Q685.544 1545.82 687.35 1542.27 Q689.179 1538.71 689.179 1531.6 Q689.179 1524.47 687.35 1520.93 Q685.544 1517.37 681.91 1517.37 M681.91 1513.66 Q687.72 1513.66 690.776 1518.27 Q693.855 1522.85 693.855 1531.6 Q693.855 1540.33 690.776 1544.94 Q687.72 1549.52 681.91 1549.52 Q676.1 1549.52 673.021 1544.94 Q669.966 1540.33 669.966 1531.6 Q669.966 1522.85 673.021 1518.27 Q676.1 1513.66 681.91 1513.66 Z\" fill=\"#000000\" fill-rule=\"nonzero\" fill-opacity=\"1\" /><path clip-path=\"url(#clip480)\" d=\"M702.072 1542.97 L706.956 1542.97 L706.956 1548.85 L702.072 1548.85 L702.072 1542.97 Z\" fill=\"#000000\" fill-rule=\"nonzero\" fill-opacity=\"1\" /><path clip-path=\"url(#clip480)\" d=\"M717.188 1514.29 L735.544 1514.29 L735.544 1518.22 L721.47 1518.22 L721.47 1526.7 Q722.489 1526.35 723.507 1526.19 Q724.526 1526 725.544 1526 Q731.331 1526 734.711 1529.17 Q738.09 1532.34 738.09 1537.76 Q738.09 1543.34 734.618 1546.44 Q731.146 1549.52 724.827 1549.52 Q722.651 1549.52 720.382 1549.15 Q718.137 1548.78 715.729 1548.04 L715.729 1543.34 Q717.813 1544.47 720.035 1545.03 Q722.257 1545.58 724.734 1545.58 Q728.739 1545.58 731.077 1543.48 Q733.415 1541.37 733.415 1537.76 Q733.415 1534.15 731.077 1532.04 Q728.739 1529.94 724.734 1529.94 Q722.859 1529.94 720.984 1530.35 Q719.132 1530.77 717.188 1531.65 L717.188 1514.29 Z\" fill=\"#000000\" fill-rule=\"nonzero\" fill-opacity=\"1\" /><path clip-path=\"url(#clip480)\" d=\"M1199.62 1544.91 L1207.26 1544.91 L1207.26 1518.55 L1198.95 1520.21 L1198.95 1515.95 L1207.21 1514.29 L1211.89 1514.29 L1211.89 1544.91 L1219.53 1544.91 L1219.53 1548.85 L1199.62 1548.85 L1199.62 1544.91 Z\" fill=\"#000000\" fill-rule=\"nonzero\" fill-opacity=\"1\" /><path clip-path=\"url(#clip480)\" d=\"M1228.97 1542.97 L1233.86 1542.97 L1233.86 1548.85 L1228.97 1548.85 L1228.97 1542.97 Z\" fill=\"#000000\" fill-rule=\"nonzero\" fill-opacity=\"1\" /><path clip-path=\"url(#clip480)\" d=\"M1254.04 1517.37 Q1250.43 1517.37 1248.6 1520.93 Q1246.8 1524.47 1246.8 1531.6 Q1246.8 1538.71 1248.6 1542.27 Q1250.43 1545.82 1254.04 1545.82 Q1257.67 1545.82 1259.48 1542.27 Q1261.31 1538.71 1261.31 1531.6 Q1261.31 1524.47 1259.48 1520.93 Q1257.67 1517.37 1254.04 1517.37 M1254.04 1513.66 Q1259.85 1513.66 1262.91 1518.27 Q1265.98 1522.85 1265.98 1531.6 Q1265.98 1540.33 1262.91 1544.94 Q1259.85 1549.52 1254.04 1549.52 Q1248.23 1549.52 1245.15 1544.94 Q1242.1 1540.33 1242.1 1531.6 Q1242.1 1522.85 1245.15 1518.27 Q1248.23 1513.66 1254.04 1513.66 Z\" fill=\"#000000\" fill-rule=\"nonzero\" fill-opacity=\"1\" /><path clip-path=\"url(#clip480)\" d=\"M1728.56 1544.91 L1736.19 1544.91 L1736.19 1518.55 L1727.88 1520.21 L1727.88 1515.95 L1736.15 1514.29 L1740.82 1514.29 L1740.82 1544.91 L1748.46 1544.91 L1748.46 1548.85 L1728.56 1548.85 L1728.56 1544.91 Z\" fill=\"#000000\" fill-rule=\"nonzero\" fill-opacity=\"1\" /><path clip-path=\"url(#clip480)\" d=\"M1757.91 1542.97 L1762.79 1542.97 L1762.79 1548.85 L1757.91 1548.85 L1757.91 1542.97 Z\" fill=\"#000000\" fill-rule=\"nonzero\" fill-opacity=\"1\" /><path clip-path=\"url(#clip480)\" d=\"M1773.02 1514.29 L1791.38 1514.29 L1791.38 1518.22 L1777.31 1518.22 L1777.31 1526.7 Q1778.32 1526.35 1779.34 1526.19 Q1780.36 1526 1781.38 1526 Q1787.17 1526 1790.55 1529.17 Q1793.93 1532.34 1793.93 1537.76 Q1793.93 1543.34 1790.45 1546.44 Q1786.98 1549.52 1780.66 1549.52 Q1778.49 1549.52 1776.22 1549.15 Q1773.97 1548.78 1771.56 1548.04 L1771.56 1543.34 Q1773.65 1544.47 1775.87 1545.03 Q1778.09 1545.58 1780.57 1545.58 Q1784.57 1545.58 1786.91 1543.48 Q1789.25 1541.37 1789.25 1537.76 Q1789.25 1534.15 1786.91 1532.04 Q1784.57 1529.94 1780.57 1529.94 Q1778.69 1529.94 1776.82 1530.35 Q1774.97 1530.77 1773.02 1531.65 L1773.02 1514.29 Z\" fill=\"#000000\" fill-rule=\"nonzero\" fill-opacity=\"1\" /><path clip-path=\"url(#clip480)\" d=\"M2260.58 1544.91 L2276.9 1544.91 L2276.9 1548.85 L2254.96 1548.85 L2254.96 1544.91 Q2257.62 1542.16 2262.2 1537.53 Q2266.81 1532.88 2267.99 1531.53 Q2270.23 1529.01 2271.11 1527.27 Q2272.02 1525.51 2272.02 1523.82 Q2272.02 1521.07 2270.07 1519.33 Q2268.15 1517.6 2265.05 1517.6 Q2262.85 1517.6 2260.4 1518.36 Q2257.97 1519.13 2255.19 1520.68 L2255.19 1515.95 Q2258.01 1514.82 2260.47 1514.24 Q2262.92 1513.66 2264.96 1513.66 Q2270.33 1513.66 2273.52 1516.35 Q2276.72 1519.03 2276.72 1523.52 Q2276.72 1525.65 2275.91 1527.57 Q2275.12 1529.47 2273.01 1532.07 Q2272.43 1532.74 2269.33 1535.95 Q2266.23 1539.15 2260.58 1544.91 Z\" fill=\"#000000\" fill-rule=\"nonzero\" fill-opacity=\"1\" /><path clip-path=\"url(#clip480)\" d=\"M2286.72 1542.97 L2291.6 1542.97 L2291.6 1548.85 L2286.72 1548.85 L2286.72 1542.97 Z\" fill=\"#000000\" fill-rule=\"nonzero\" fill-opacity=\"1\" /><path clip-path=\"url(#clip480)\" d=\"M2311.79 1517.37 Q2308.17 1517.37 2306.35 1520.93 Q2304.54 1524.47 2304.54 1531.6 Q2304.54 1538.71 2306.35 1542.27 Q2308.17 1545.82 2311.79 1545.82 Q2315.42 1545.82 2317.23 1542.27 Q2319.05 1538.71 2319.05 1531.6 Q2319.05 1524.47 2317.23 1520.93 Q2315.42 1517.37 2311.79 1517.37 M2311.79 1513.66 Q2317.6 1513.66 2320.65 1518.27 Q2323.73 1522.85 2323.73 1531.6 Q2323.73 1540.33 2320.65 1544.94 Q2317.6 1549.52 2311.79 1549.52 Q2305.98 1549.52 2302.9 1544.94 Q2299.84 1540.33 2299.84 1531.6 Q2299.84 1522.85 2302.9 1518.27 Q2305.98 1513.66 2311.79 1513.66 Z\" fill=\"#000000\" fill-rule=\"nonzero\" fill-opacity=\"1\" /><polyline clip-path=\"url(#clip482)\" style=\"stroke:#000000; stroke-linecap:round; stroke-linejoin:round; stroke-width:2; stroke-opacity:0.1; fill:none\" points=\"112.177,1445.72 2352.76,1445.72 \"/>\n",
       "<polyline clip-path=\"url(#clip482)\" style=\"stroke:#000000; stroke-linecap:round; stroke-linejoin:round; stroke-width:2; stroke-opacity:0.1; fill:none\" points=\"112.177,1233.21 2352.76,1233.21 \"/>\n",
       "<polyline clip-path=\"url(#clip482)\" style=\"stroke:#000000; stroke-linecap:round; stroke-linejoin:round; stroke-width:2; stroke-opacity:0.1; fill:none\" points=\"112.177,1020.7 2352.76,1020.7 \"/>\n",
       "<polyline clip-path=\"url(#clip482)\" style=\"stroke:#000000; stroke-linecap:round; stroke-linejoin:round; stroke-width:2; stroke-opacity:0.1; fill:none\" points=\"112.177,808.185 2352.76,808.185 \"/>\n",
       "<polyline clip-path=\"url(#clip482)\" style=\"stroke:#000000; stroke-linecap:round; stroke-linejoin:round; stroke-width:2; stroke-opacity:0.1; fill:none\" points=\"112.177,595.675 2352.76,595.675 \"/>\n",
       "<polyline clip-path=\"url(#clip482)\" style=\"stroke:#000000; stroke-linecap:round; stroke-linejoin:round; stroke-width:2; stroke-opacity:0.1; fill:none\" points=\"112.177,383.165 2352.76,383.165 \"/>\n",
       "<polyline clip-path=\"url(#clip482)\" style=\"stroke:#000000; stroke-linecap:round; stroke-linejoin:round; stroke-width:2; stroke-opacity:0.1; fill:none\" points=\"112.177,170.655 2352.76,170.655 \"/>\n",
       "<polyline clip-path=\"url(#clip480)\" style=\"stroke:#000000; stroke-linecap:round; stroke-linejoin:round; stroke-width:4; stroke-opacity:1; fill:none\" points=\"112.177,1486.45 112.177,47.2441 \"/>\n",
       "<polyline clip-path=\"url(#clip480)\" style=\"stroke:#000000; stroke-linecap:round; stroke-linejoin:round; stroke-width:4; stroke-opacity:1; fill:none\" points=\"112.177,1445.72 131.075,1445.72 \"/>\n",
       "<polyline clip-path=\"url(#clip480)\" style=\"stroke:#000000; stroke-linecap:round; stroke-linejoin:round; stroke-width:4; stroke-opacity:1; fill:none\" points=\"112.177,1233.21 131.075,1233.21 \"/>\n",
       "<polyline clip-path=\"url(#clip480)\" style=\"stroke:#000000; stroke-linecap:round; stroke-linejoin:round; stroke-width:4; stroke-opacity:1; fill:none\" points=\"112.177,1020.7 131.075,1020.7 \"/>\n",
       "<polyline clip-path=\"url(#clip480)\" style=\"stroke:#000000; stroke-linecap:round; stroke-linejoin:round; stroke-width:4; stroke-opacity:1; fill:none\" points=\"112.177,808.185 131.075,808.185 \"/>\n",
       "<polyline clip-path=\"url(#clip480)\" style=\"stroke:#000000; stroke-linecap:round; stroke-linejoin:round; stroke-width:4; stroke-opacity:1; fill:none\" points=\"112.177,595.675 131.075,595.675 \"/>\n",
       "<polyline clip-path=\"url(#clip480)\" style=\"stroke:#000000; stroke-linecap:round; stroke-linejoin:round; stroke-width:4; stroke-opacity:1; fill:none\" points=\"112.177,383.165 131.075,383.165 \"/>\n",
       "<polyline clip-path=\"url(#clip480)\" style=\"stroke:#000000; stroke-linecap:round; stroke-linejoin:round; stroke-width:4; stroke-opacity:1; fill:none\" points=\"112.177,170.655 131.075,170.655 \"/>\n",
       "<path clip-path=\"url(#clip480)\" d=\"M56.2699 1459.06 L63.9087 1459.06 L63.9087 1432.69 L55.5986 1434.36 L55.5986 1430.1 L63.8624 1428.44 L68.5383 1428.44 L68.5383 1459.06 L76.1772 1459.06 L76.1772 1463 L56.2699 1463 L56.2699 1459.06 Z\" fill=\"#000000\" fill-rule=\"nonzero\" fill-opacity=\"1\" /><path clip-path=\"url(#clip480)\" d=\"M59.8578 1246.55 L76.1772 1246.55 L76.1772 1250.49 L54.2328 1250.49 L54.2328 1246.55 Q56.8949 1243.8 61.4782 1239.17 Q66.0846 1234.51 67.2652 1233.17 Q69.5105 1230.65 70.3902 1228.91 Q71.2929 1227.15 71.2929 1225.46 Q71.2929 1222.71 69.3485 1220.97 Q67.4272 1219.24 64.3254 1219.24 Q62.1263 1219.24 59.6726 1220 Q57.2421 1220.76 54.4643 1222.31 L54.4643 1217.59 Q57.2884 1216.46 59.7421 1215.88 Q62.1958 1215.3 64.2328 1215.3 Q69.6031 1215.3 72.7976 1217.99 Q75.992 1220.67 75.992 1225.16 Q75.992 1227.29 75.1818 1229.21 Q74.3948 1231.11 72.2883 1233.7 Q71.7096 1234.37 68.6078 1237.59 Q65.5059 1240.79 59.8578 1246.55 Z\" fill=\"#000000\" fill-rule=\"nonzero\" fill-opacity=\"1\" /><path clip-path=\"url(#clip480)\" d=\"M69.0476 1019.34 Q72.404 1020.06 74.279 1022.33 Q76.1772 1024.6 76.1772 1027.93 Q76.1772 1033.04 72.6587 1035.85 Q69.1402 1038.65 62.6587 1038.65 Q60.4828 1038.65 58.168 1038.21 Q55.8764 1037.79 53.4227 1036.93 L53.4227 1032.42 Q55.3671 1033.55 57.6819 1034.13 Q59.9967 1034.71 62.5198 1034.71 Q66.918 1034.71 69.2096 1032.98 Q71.5244 1031.24 71.5244 1027.93 Q71.5244 1024.87 69.3717 1023.16 Q67.242 1021.42 63.4226 1021.42 L59.3949 1021.42 L59.3949 1017.58 L63.6078 1017.58 Q67.0569 1017.58 68.8855 1016.22 Q70.7142 1014.83 70.7142 1012.23 Q70.7142 1009.57 68.8161 1008.16 Q66.9411 1006.73 63.4226 1006.73 Q61.5013 1006.73 59.3023 1007.14 Q57.1032 1007.56 54.4643 1008.44 L54.4643 1004.27 Q57.1264 1003.53 59.4412 1003.16 Q61.7791 1002.79 63.8393 1002.79 Q69.1633 1002.79 72.2652 1005.22 Q75.367 1007.63 75.367 1011.75 Q75.367 1014.62 73.7235 1016.61 Q72.08 1018.58 69.0476 1019.34 Z\" fill=\"#000000\" fill-rule=\"nonzero\" fill-opacity=\"1\" /><path clip-path=\"url(#clip480)\" d=\"M66.5939 794.979 L54.7884 813.428 L66.5939 813.428 L66.5939 794.979 M65.367 790.905 L71.2466 790.905 L71.2466 813.428 L76.1772 813.428 L76.1772 817.317 L71.2466 817.317 L71.2466 825.465 L66.5939 825.465 L66.5939 817.317 L50.9921 817.317 L50.9921 812.803 L65.367 790.905 Z\" fill=\"#000000\" fill-rule=\"nonzero\" fill-opacity=\"1\" /><path clip-path=\"url(#clip480)\" d=\"M55.2745 578.395 L73.6309 578.395 L73.6309 582.33 L59.5569 582.33 L59.5569 590.802 Q60.5754 590.455 61.5939 590.293 Q62.6124 590.108 63.6309 590.108 Q69.418 590.108 72.7976 593.279 Q76.1772 596.45 76.1772 601.867 Q76.1772 607.446 72.705 610.548 Q69.2328 613.626 62.9134 613.626 Q60.7374 613.626 58.4689 613.256 Q56.2236 612.886 53.8162 612.145 L53.8162 607.446 Q55.8995 608.58 58.1217 609.136 Q60.3439 609.691 62.8208 609.691 Q66.8254 609.691 69.1633 607.585 Q71.5013 605.478 71.5013 601.867 Q71.5013 598.256 69.1633 596.15 Q66.8254 594.043 62.8208 594.043 Q60.9458 594.043 59.0708 594.46 Q57.2189 594.876 55.2745 595.756 L55.2745 578.395 Z\" fill=\"#000000\" fill-rule=\"nonzero\" fill-opacity=\"1\" /><path clip-path=\"url(#clip480)\" d=\"M64.6495 381.301 Q61.5013 381.301 59.6495 383.454 Q57.8208 385.607 57.8208 389.357 Q57.8208 393.084 59.6495 395.26 Q61.5013 397.412 64.6495 397.412 Q67.7976 397.412 69.6263 395.26 Q71.4781 393.084 71.4781 389.357 Q71.4781 385.607 69.6263 383.454 Q67.7976 381.301 64.6495 381.301 M73.9318 366.649 L73.9318 370.908 Q72.1726 370.075 70.367 369.635 Q68.5846 369.195 66.8254 369.195 Q62.1958 369.195 59.7421 372.32 Q57.3115 375.445 56.9643 381.764 Q58.33 379.75 60.3902 378.686 Q62.4504 377.598 64.9272 377.598 Q70.1355 377.598 73.1448 380.769 Q76.1772 383.917 76.1772 389.357 Q76.1772 394.681 73.029 397.899 Q69.8809 401.116 64.6495 401.116 Q58.6541 401.116 55.4828 396.533 Q52.3116 391.926 52.3116 383.2 Q52.3116 375.005 56.2004 370.144 Q60.0893 365.26 66.6402 365.26 Q68.3994 365.26 70.1818 365.607 Q71.9874 365.954 73.9318 366.649 Z\" fill=\"#000000\" fill-rule=\"nonzero\" fill-opacity=\"1\" /><path clip-path=\"url(#clip480)\" d=\"M53.9551 153.375 L76.1772 153.375 L76.1772 155.365 L63.6309 187.935 L58.7467 187.935 L70.5522 157.31 L53.9551 157.31 L53.9551 153.375 Z\" fill=\"#000000\" fill-rule=\"nonzero\" fill-opacity=\"1\" /><polyline clip-path=\"url(#clip482)\" style=\"stroke:#009af9; stroke-linecap:round; stroke-linejoin:round; stroke-width:4; stroke-opacity:1; fill:none\" points=\"175.59,87.9763 179.03,93.0796 182.471,98.1663 185.911,103.236 189.351,108.29 221.163,154.248 252.975,198.842 284.786,242.115 316.598,284.104 354.833,332.928 393.068,380.017 425.395,418.522 457.722,455.867 492.839,495.161 527.955,533.171 560.329,567.111 592.704,600.027 627.412,634.215 662.121,667.298 702.334,704.294 742.547,739.908 778.284,770.441 814.021,799.958 845.359,825.033 876.697,849.376 945.031,900.018 1013.77,947.763 1089.77,997.059 1162.08,1040.78 1237.27,1083.18 1300.56,1116.61 1377.84,1154.8 1448.62,1187.41 1514,1215.65 1580.23,1242.53 1654.45,1270.72 1721.7,1294.62 1798.7,1320.17 1870,1342.22 1940.29,1362.55 2008.54,1381.04 2078.5,1398.8 2155.15,1416.95 2266.5,1441.07 2289.34,1445.72 \"/>\n",
       "<path clip-path=\"url(#clip480)\" d=\"M2001.58 198.898 L2278.07 198.898 L2278.07 95.2176 L2001.58 95.2176  Z\" fill=\"#ffffff\" fill-rule=\"evenodd\" fill-opacity=\"1\"/>\n",
       "<polyline clip-path=\"url(#clip480)\" style=\"stroke:#000000; stroke-linecap:round; stroke-linejoin:round; stroke-width:4; stroke-opacity:1; fill:none\" points=\"2001.58,198.898 2278.07,198.898 2278.07,95.2176 2001.58,95.2176 2001.58,198.898 \"/>\n",
       "<polyline clip-path=\"url(#clip480)\" style=\"stroke:#009af9; stroke-linecap:round; stroke-linejoin:round; stroke-width:4; stroke-opacity:1; fill:none\" points=\"2026.48,147.058 2175.85,147.058 \"/>\n",
       "<path clip-path=\"url(#clip480)\" d=\"M2214.59 166.745 Q2212.78 171.375 2211.07 172.787 Q2209.36 174.199 2206.49 174.199 L2203.08 174.199 L2203.08 170.634 L2205.58 170.634 Q2207.34 170.634 2208.31 169.8 Q2209.29 168.967 2210.47 165.865 L2211.23 163.921 L2200.74 138.412 L2205.26 138.412 L2213.36 158.689 L2221.46 138.412 L2225.98 138.412 L2214.59 166.745 Z\" fill=\"#000000\" fill-rule=\"nonzero\" fill-opacity=\"1\" /><path clip-path=\"url(#clip480)\" d=\"M2233.27 160.402 L2240.91 160.402 L2240.91 134.037 L2232.6 135.703 L2232.6 131.444 L2240.86 129.778 L2245.54 129.778 L2245.54 160.402 L2253.17 160.402 L2253.17 164.338 L2233.27 164.338 L2233.27 160.402 Z\" fill=\"#000000\" fill-rule=\"nonzero\" fill-opacity=\"1\" /></svg>\n"
      ]
     },
     "execution_count": 28,
     "metadata": {},
     "output_type": "execute_result"
    }
   ],
   "source": [
    "plot(d)"
   ]
  },
  {
   "cell_type": "code",
   "execution_count": 30,
   "id": "4831fb38-e0eb-4a9b-9584-999bd2223b9c",
   "metadata": {},
   "outputs": [
    {
     "name": "stdout",
     "output_type": "stream",
     "text": [
      "typeof(d) = Truncated{Exponential{Float64}, Continuous, Float64, Float64, Float64}\n"
     ]
    },
    {
     "data": {
      "image/png": "[encoded data removed]",
      "image/svg+xml": [
       "<?xml version=\"1.0\" encoding=\"utf-8\"?>\n",
       "<svg xmlns=\"http://www.w3.org/2000/svg\" xmlns:xlink=\"http://www.w3.org/1999/xlink\" width=\"600\" height=\"400\" viewBox=\"0 0 2400 1600\">\n",
       "<defs>\n",
       "  <clipPath id=\"clip610\">\n",
       "    <rect x=\"0\" y=\"0\" width=\"2400\" height=\"1600\"/>\n",
       "  </clipPath>\n",
       "</defs>\n",
       "<path clip-path=\"url(#clip610)\" d=\"M0 1600 L2400 1600 L2400 0 L0 0  Z\" fill=\"#ffffff\" fill-rule=\"evenodd\" fill-opacity=\"1\"/>\n",
       "<defs>\n",
       "  <clipPath id=\"clip611\">\n",
       "    <rect x=\"480\" y=\"0\" width=\"1681\" height=\"1600\"/>\n",
       "  </clipPath>\n",
       "</defs>\n",
       "<path clip-path=\"url(#clip610)\" d=\"M156.598 1486.45 L2352.76 1486.45 L2352.76 47.2441 L156.598 47.2441  Z\" fill=\"#ffffff\" fill-rule=\"evenodd\" fill-opacity=\"1\"/>\n",
       "<defs>\n",
       "  <clipPath id=\"clip612\">\n",
       "    <rect x=\"156\" y=\"47\" width=\"2197\" height=\"1440\"/>\n",
       "  </clipPath>\n",
       "</defs>\n",
       "<polyline clip-path=\"url(#clip612)\" style=\"stroke:#000000; stroke-linecap:round; stroke-linejoin:round; stroke-width:2; stroke-opacity:0.1; fill:none\" points=\"218.754,1486.45 218.754,47.2441 \"/>\n",
       "<polyline clip-path=\"url(#clip612)\" style=\"stroke:#000000; stroke-linecap:round; stroke-linejoin:round; stroke-width:2; stroke-opacity:0.1; fill:none\" points=\"736.715,1486.45 736.715,47.2441 \"/>\n",
       "<polyline clip-path=\"url(#clip612)\" style=\"stroke:#000000; stroke-linecap:round; stroke-linejoin:round; stroke-width:2; stroke-opacity:0.1; fill:none\" points=\"1254.68,1486.45 1254.68,47.2441 \"/>\n",
       "<polyline clip-path=\"url(#clip612)\" style=\"stroke:#000000; stroke-linecap:round; stroke-linejoin:round; stroke-width:2; stroke-opacity:0.1; fill:none\" points=\"1772.64,1486.45 1772.64,47.2441 \"/>\n",
       "<polyline clip-path=\"url(#clip612)\" style=\"stroke:#000000; stroke-linecap:round; stroke-linejoin:round; stroke-width:2; stroke-opacity:0.1; fill:none\" points=\"2290.6,1486.45 2290.6,47.2441 \"/>\n",
       "<polyline clip-path=\"url(#clip610)\" style=\"stroke:#000000; stroke-linecap:round; stroke-linejoin:round; stroke-width:4; stroke-opacity:1; fill:none\" points=\"156.598,1486.45 2352.76,1486.45 \"/>\n",
       "<polyline clip-path=\"url(#clip610)\" style=\"stroke:#000000; stroke-linecap:round; stroke-linejoin:round; stroke-width:4; stroke-opacity:1; fill:none\" points=\"218.754,1486.45 218.754,1467.55 \"/>\n",
       "<polyline clip-path=\"url(#clip610)\" style=\"stroke:#000000; stroke-linecap:round; stroke-linejoin:round; stroke-width:4; stroke-opacity:1; fill:none\" points=\"736.715,1486.45 736.715,1467.55 \"/>\n",
       "<polyline clip-path=\"url(#clip610)\" style=\"stroke:#000000; stroke-linecap:round; stroke-linejoin:round; stroke-width:4; stroke-opacity:1; fill:none\" points=\"1254.68,1486.45 1254.68,1467.55 \"/>\n",
       "<polyline clip-path=\"url(#clip610)\" style=\"stroke:#000000; stroke-linecap:round; stroke-linejoin:round; stroke-width:4; stroke-opacity:1; fill:none\" points=\"1772.64,1486.45 1772.64,1467.55 \"/>\n",
       "<polyline clip-path=\"url(#clip610)\" style=\"stroke:#000000; stroke-linecap:round; stroke-linejoin:round; stroke-width:4; stroke-opacity:1; fill:none\" points=\"2290.6,1486.45 2290.6,1467.55 \"/>\n",
       "<path clip-path=\"url(#clip610)\" d=\"M196.138 1517.37 Q192.527 1517.37 190.698 1520.93 Q188.893 1524.47 188.893 1531.6 Q188.893 1538.71 190.698 1542.27 Q192.527 1545.82 196.138 1545.82 Q199.772 1545.82 201.578 1542.27 Q203.407 1538.71 203.407 1531.6 Q203.407 1524.47 201.578 1520.93 Q199.772 1517.37 196.138 1517.37 M196.138 1513.66 Q201.948 1513.66 205.004 1518.27 Q208.082 1522.85 208.082 1531.6 Q208.082 1540.33 205.004 1544.94 Q201.948 1549.52 196.138 1549.52 Q190.328 1549.52 187.249 1544.94 Q184.194 1540.33 184.194 1531.6 Q184.194 1522.85 187.249 1518.27 Q190.328 1513.66 196.138 1513.66 Z\" fill=\"#000000\" fill-rule=\"nonzero\" fill-opacity=\"1\" /><path clip-path=\"url(#clip610)\" d=\"M216.3 1542.97 L221.184 1542.97 L221.184 1548.85 L216.3 1548.85 L216.3 1542.97 Z\" fill=\"#000000\" fill-rule=\"nonzero\" fill-opacity=\"1\" /><path clip-path=\"url(#clip610)\" d=\"M241.369 1517.37 Q237.758 1517.37 235.929 1520.93 Q234.124 1524.47 234.124 1531.6 Q234.124 1538.71 235.929 1542.27 Q237.758 1545.82 241.369 1545.82 Q245.003 1545.82 246.809 1542.27 Q248.638 1538.71 248.638 1531.6 Q248.638 1524.47 246.809 1520.93 Q245.003 1517.37 241.369 1517.37 M241.369 1513.66 Q247.179 1513.66 250.235 1518.27 Q253.314 1522.85 253.314 1531.6 Q253.314 1540.33 250.235 1544.94 Q247.179 1549.52 241.369 1549.52 Q235.559 1549.52 232.48 1544.94 Q229.425 1540.33 229.425 1531.6 Q229.425 1522.85 232.48 1518.27 Q235.559 1513.66 241.369 1513.66 Z\" fill=\"#000000\" fill-rule=\"nonzero\" fill-opacity=\"1\" /><path clip-path=\"url(#clip610)\" d=\"M714.597 1517.37 Q710.986 1517.37 709.158 1520.93 Q707.352 1524.47 707.352 1531.6 Q707.352 1538.71 709.158 1542.27 Q710.986 1545.82 714.597 1545.82 Q718.232 1545.82 720.037 1542.27 Q721.866 1538.71 721.866 1531.6 Q721.866 1524.47 720.037 1520.93 Q718.232 1517.37 714.597 1517.37 M714.597 1513.66 Q720.408 1513.66 723.463 1518.27 Q726.542 1522.85 726.542 1531.6 Q726.542 1540.33 723.463 1544.94 Q720.408 1549.52 714.597 1549.52 Q708.787 1549.52 705.709 1544.94 Q702.653 1540.33 702.653 1531.6 Q702.653 1522.85 705.709 1518.27 Q708.787 1513.66 714.597 1513.66 Z\" fill=\"#000000\" fill-rule=\"nonzero\" fill-opacity=\"1\" /><path clip-path=\"url(#clip610)\" d=\"M734.759 1542.97 L739.644 1542.97 L739.644 1548.85 L734.759 1548.85 L734.759 1542.97 Z\" fill=\"#000000\" fill-rule=\"nonzero\" fill-opacity=\"1\" /><path clip-path=\"url(#clip610)\" d=\"M749.875 1514.29 L768.231 1514.29 L768.231 1518.22 L754.157 1518.22 L754.157 1526.7 Q755.176 1526.35 756.194 1526.19 Q757.213 1526 758.231 1526 Q764.018 1526 767.398 1529.17 Q770.778 1532.34 770.778 1537.76 Q770.778 1543.34 767.305 1546.44 Q763.833 1549.52 757.514 1549.52 Q755.338 1549.52 753.069 1549.15 Q750.824 1548.78 748.417 1548.04 L748.417 1543.34 Q750.5 1544.47 752.722 1545.03 Q754.944 1545.58 757.421 1545.58 Q761.426 1545.58 763.764 1543.48 Q766.102 1541.37 766.102 1537.76 Q766.102 1534.15 763.764 1532.04 Q761.426 1529.94 757.421 1529.94 Q755.546 1529.94 753.671 1530.35 Q751.819 1530.77 749.875 1531.65 L749.875 1514.29 Z\" fill=\"#000000\" fill-rule=\"nonzero\" fill-opacity=\"1\" /><path clip-path=\"url(#clip610)\" d=\"M1221.83 1544.91 L1229.47 1544.91 L1229.47 1518.55 L1221.16 1520.21 L1221.16 1515.95 L1229.42 1514.29 L1234.1 1514.29 L1234.1 1544.91 L1241.74 1544.91 L1241.74 1548.85 L1221.83 1548.85 L1221.83 1544.91 Z\" fill=\"#000000\" fill-rule=\"nonzero\" fill-opacity=\"1\" /><path clip-path=\"url(#clip610)\" d=\"M1251.18 1542.97 L1256.07 1542.97 L1256.07 1548.85 L1251.18 1548.85 L1251.18 1542.97 Z\" fill=\"#000000\" fill-rule=\"nonzero\" fill-opacity=\"1\" /><path clip-path=\"url(#clip610)\" d=\"M1276.25 1517.37 Q1272.64 1517.37 1270.81 1520.93 Q1269.01 1524.47 1269.01 1531.6 Q1269.01 1538.71 1270.81 1542.27 Q1272.64 1545.82 1276.25 1545.82 Q1279.89 1545.82 1281.69 1542.27 Q1283.52 1538.71 1283.52 1531.6 Q1283.52 1524.47 1281.69 1520.93 Q1279.89 1517.37 1276.25 1517.37 M1276.25 1513.66 Q1282.06 1513.66 1285.12 1518.27 Q1288.2 1522.85 1288.2 1531.6 Q1288.2 1540.33 1285.12 1544.94 Q1282.06 1549.52 1276.25 1549.52 Q1270.44 1549.52 1267.36 1544.94 Q1264.31 1540.33 1264.31 1531.6 Q1264.31 1522.85 1267.36 1518.27 Q1270.44 1513.66 1276.25 1513.66 Z\" fill=\"#000000\" fill-rule=\"nonzero\" fill-opacity=\"1\" /><path clip-path=\"url(#clip610)\" d=\"M1740.29 1544.91 L1747.93 1544.91 L1747.93 1518.55 L1739.62 1520.21 L1739.62 1515.95 L1747.88 1514.29 L1752.56 1514.29 L1752.56 1544.91 L1760.2 1544.91 L1760.2 1548.85 L1740.29 1548.85 L1740.29 1544.91 Z\" fill=\"#000000\" fill-rule=\"nonzero\" fill-opacity=\"1\" /><path clip-path=\"url(#clip610)\" d=\"M1769.64 1542.97 L1774.53 1542.97 L1774.53 1548.85 L1769.64 1548.85 L1769.64 1542.97 Z\" fill=\"#000000\" fill-rule=\"nonzero\" fill-opacity=\"1\" /><path clip-path=\"url(#clip610)\" d=\"M1784.76 1514.29 L1803.11 1514.29 L1803.11 1518.22 L1789.04 1518.22 L1789.04 1526.7 Q1790.06 1526.35 1791.08 1526.19 Q1792.09 1526 1793.11 1526 Q1798.9 1526 1802.28 1529.17 Q1805.66 1532.34 1805.66 1537.76 Q1805.66 1543.34 1802.19 1546.44 Q1798.72 1549.52 1792.4 1549.52 Q1790.22 1549.52 1787.95 1549.15 Q1785.71 1548.78 1783.3 1548.04 L1783.3 1543.34 Q1785.38 1544.47 1787.6 1545.03 Q1789.83 1545.58 1792.3 1545.58 Q1796.31 1545.58 1798.65 1543.48 Q1800.98 1541.37 1800.98 1537.76 Q1800.98 1534.15 1798.65 1532.04 Q1796.31 1529.94 1792.3 1529.94 Q1790.43 1529.94 1788.55 1530.35 Q1786.7 1530.77 1784.76 1531.65 L1784.76 1514.29 Z\" fill=\"#000000\" fill-rule=\"nonzero\" fill-opacity=\"1\" /><path clip-path=\"url(#clip610)\" d=\"M2261.84 1544.91 L2278.16 1544.91 L2278.16 1548.85 L2256.21 1548.85 L2256.21 1544.91 Q2258.88 1542.16 2263.46 1537.53 Q2268.07 1532.88 2269.25 1531.53 Q2271.49 1529.01 2272.37 1527.27 Q2273.27 1525.51 2273.27 1523.82 Q2273.27 1521.07 2271.33 1519.33 Q2269.41 1517.6 2266.31 1517.6 Q2264.11 1517.6 2261.65 1518.36 Q2259.22 1519.13 2256.45 1520.68 L2256.45 1515.95 Q2259.27 1514.82 2261.72 1514.24 Q2264.18 1513.66 2266.21 1513.66 Q2271.58 1513.66 2274.78 1516.35 Q2277.97 1519.03 2277.97 1523.52 Q2277.97 1525.65 2277.16 1527.57 Q2276.38 1529.47 2274.27 1532.07 Q2273.69 1532.74 2270.59 1535.95 Q2267.49 1539.15 2261.84 1544.91 Z\" fill=\"#000000\" fill-rule=\"nonzero\" fill-opacity=\"1\" /><path clip-path=\"url(#clip610)\" d=\"M2287.97 1542.97 L2292.86 1542.97 L2292.86 1548.85 L2287.97 1548.85 L2287.97 1542.97 Z\" fill=\"#000000\" fill-rule=\"nonzero\" fill-opacity=\"1\" /><path clip-path=\"url(#clip610)\" d=\"M2313.04 1517.37 Q2309.43 1517.37 2307.6 1520.93 Q2305.8 1524.47 2305.8 1531.6 Q2305.8 1538.71 2307.6 1542.27 Q2309.43 1545.82 2313.04 1545.82 Q2316.68 1545.82 2318.48 1542.27 Q2320.31 1538.71 2320.31 1531.6 Q2320.31 1524.47 2318.48 1520.93 Q2316.68 1517.37 2313.04 1517.37 M2313.04 1513.66 Q2318.85 1513.66 2321.91 1518.27 Q2324.99 1522.85 2324.99 1531.6 Q2324.99 1540.33 2321.91 1544.94 Q2318.85 1549.52 2313.04 1549.52 Q2307.23 1549.52 2304.15 1544.94 Q2301.1 1540.33 2301.1 1531.6 Q2301.1 1522.85 2304.15 1518.27 Q2307.23 1513.66 2313.04 1513.66 Z\" fill=\"#000000\" fill-rule=\"nonzero\" fill-opacity=\"1\" /><polyline clip-path=\"url(#clip612)\" style=\"stroke:#000000; stroke-linecap:round; stroke-linejoin:round; stroke-width:2; stroke-opacity:0.1; fill:none\" points=\"156.598,1386.68 2352.76,1386.68 \"/>\n",
       "<polyline clip-path=\"url(#clip612)\" style=\"stroke:#000000; stroke-linecap:round; stroke-linejoin:round; stroke-width:2; stroke-opacity:0.1; fill:none\" points=\"156.598,1115.13 2352.76,1115.13 \"/>\n",
       "<polyline clip-path=\"url(#clip612)\" style=\"stroke:#000000; stroke-linecap:round; stroke-linejoin:round; stroke-width:2; stroke-opacity:0.1; fill:none\" points=\"156.598,843.582 2352.76,843.582 \"/>\n",
       "<polyline clip-path=\"url(#clip612)\" style=\"stroke:#000000; stroke-linecap:round; stroke-linejoin:round; stroke-width:2; stroke-opacity:0.1; fill:none\" points=\"156.598,572.034 2352.76,572.034 \"/>\n",
       "<polyline clip-path=\"url(#clip612)\" style=\"stroke:#000000; stroke-linecap:round; stroke-linejoin:round; stroke-width:2; stroke-opacity:0.1; fill:none\" points=\"156.598,300.486 2352.76,300.486 \"/>\n",
       "<polyline clip-path=\"url(#clip610)\" style=\"stroke:#000000; stroke-linecap:round; stroke-linejoin:round; stroke-width:4; stroke-opacity:1; fill:none\" points=\"156.598,1486.45 156.598,47.2441 \"/>\n",
       "<polyline clip-path=\"url(#clip610)\" style=\"stroke:#000000; stroke-linecap:round; stroke-linejoin:round; stroke-width:4; stroke-opacity:1; fill:none\" points=\"156.598,1386.68 175.496,1386.68 \"/>\n",
       "<polyline clip-path=\"url(#clip610)\" style=\"stroke:#000000; stroke-linecap:round; stroke-linejoin:round; stroke-width:4; stroke-opacity:1; fill:none\" points=\"156.598,1115.13 175.496,1115.13 \"/>\n",
       "<polyline clip-path=\"url(#clip610)\" style=\"stroke:#000000; stroke-linecap:round; stroke-linejoin:round; stroke-width:4; stroke-opacity:1; fill:none\" points=\"156.598,843.582 175.496,843.582 \"/>\n",
       "<polyline clip-path=\"url(#clip610)\" style=\"stroke:#000000; stroke-linecap:round; stroke-linejoin:round; stroke-width:4; stroke-opacity:1; fill:none\" points=\"156.598,572.034 175.496,572.034 \"/>\n",
       "<polyline clip-path=\"url(#clip610)\" style=\"stroke:#000000; stroke-linecap:round; stroke-linejoin:round; stroke-width:4; stroke-opacity:1; fill:none\" points=\"156.598,300.486 175.496,300.486 \"/>\n",
       "<path clip-path=\"url(#clip610)\" d=\"M65.0198 1372.48 Q61.4087 1372.48 59.58 1376.04 Q57.7745 1379.58 57.7745 1386.71 Q57.7745 1393.82 59.58 1397.38 Q61.4087 1400.93 65.0198 1400.93 Q68.6541 1400.93 70.4596 1397.38 Q72.2883 1393.82 72.2883 1386.71 Q72.2883 1379.58 70.4596 1376.04 Q68.6541 1372.48 65.0198 1372.48 M65.0198 1368.77 Q70.83 1368.77 73.8855 1373.38 Q76.9642 1377.96 76.9642 1386.71 Q76.9642 1395.44 73.8855 1400.05 Q70.83 1404.63 65.0198 1404.63 Q59.2097 1404.63 56.131 1400.05 Q53.0754 1395.44 53.0754 1386.71 Q53.0754 1377.96 56.131 1373.38 Q59.2097 1368.77 65.0198 1368.77 Z\" fill=\"#000000\" fill-rule=\"nonzero\" fill-opacity=\"1\" /><path clip-path=\"url(#clip610)\" d=\"M85.1818 1398.08 L90.066 1398.08 L90.066 1403.96 L85.1818 1403.96 L85.1818 1398.08 Z\" fill=\"#000000\" fill-rule=\"nonzero\" fill-opacity=\"1\" /><path clip-path=\"url(#clip610)\" d=\"M104.279 1400.02 L120.598 1400.02 L120.598 1403.96 L98.6539 1403.96 L98.6539 1400.02 Q101.316 1397.27 105.899 1392.64 Q110.506 1387.99 111.686 1386.64 Q113.932 1384.12 114.811 1382.38 Q115.714 1380.62 115.714 1378.93 Q115.714 1376.18 113.77 1374.44 Q111.848 1372.71 108.746 1372.71 Q106.547 1372.71 104.094 1373.47 Q101.663 1374.24 98.8854 1375.79 L98.8854 1371.06 Q101.709 1369.93 104.163 1369.35 Q106.617 1368.77 108.654 1368.77 Q114.024 1368.77 117.219 1371.46 Q120.413 1374.14 120.413 1378.63 Q120.413 1380.76 119.603 1382.68 Q118.816 1384.58 116.709 1387.18 Q116.131 1387.85 113.029 1391.06 Q109.927 1394.26 104.279 1400.02 Z\" fill=\"#000000\" fill-rule=\"nonzero\" fill-opacity=\"1\" /><path clip-path=\"url(#clip610)\" d=\"M62.9365 1100.93 Q59.3254 1100.93 57.4967 1104.49 Q55.6912 1108.04 55.6912 1115.16 Q55.6912 1122.27 57.4967 1125.84 Q59.3254 1129.38 62.9365 1129.38 Q66.5707 1129.38 68.3763 1125.84 Q70.205 1122.27 70.205 1115.16 Q70.205 1108.04 68.3763 1104.49 Q66.5707 1100.93 62.9365 1100.93 M62.9365 1097.23 Q68.7467 1097.23 71.8022 1101.83 Q74.8809 1106.41 74.8809 1115.16 Q74.8809 1123.89 71.8022 1128.5 Q68.7467 1133.08 62.9365 1133.08 Q57.1264 1133.08 54.0477 1128.5 Q50.9921 1123.89 50.9921 1115.16 Q50.9921 1106.41 54.0477 1101.83 Q57.1264 1097.23 62.9365 1097.23 Z\" fill=\"#000000\" fill-rule=\"nonzero\" fill-opacity=\"1\" /><path clip-path=\"url(#clip610)\" d=\"M83.0984 1126.53 L87.9827 1126.53 L87.9827 1132.41 L83.0984 1132.41 L83.0984 1126.53 Z\" fill=\"#000000\" fill-rule=\"nonzero\" fill-opacity=\"1\" /><path clip-path=\"url(#clip610)\" d=\"M111.015 1101.92 L99.2095 1120.37 L111.015 1120.37 L111.015 1101.92 M109.788 1097.85 L115.668 1097.85 L115.668 1120.37 L120.598 1120.37 L120.598 1124.26 L115.668 1124.26 L115.668 1132.41 L111.015 1132.41 L111.015 1124.26 L95.4132 1124.26 L95.4132 1119.75 L109.788 1097.85 Z\" fill=\"#000000\" fill-rule=\"nonzero\" fill-opacity=\"1\" /><path clip-path=\"url(#clip610)\" d=\"M63.2606 829.381 Q59.6495 829.381 57.8208 832.946 Q56.0152 836.487 56.0152 843.617 Q56.0152 850.723 57.8208 854.288 Q59.6495 857.83 63.2606 857.83 Q66.8948 857.83 68.7004 854.288 Q70.5291 850.723 70.5291 843.617 Q70.5291 836.487 68.7004 832.946 Q66.8948 829.381 63.2606 829.381 M63.2606 825.677 Q69.0707 825.677 72.1263 830.284 Q75.205 834.867 75.205 843.617 Q75.205 852.344 72.1263 856.95 Q69.0707 861.534 63.2606 861.534 Q57.4504 861.534 54.3717 856.95 Q51.3162 852.344 51.3162 843.617 Q51.3162 834.867 54.3717 830.284 Q57.4504 825.677 63.2606 825.677 Z\" fill=\"#000000\" fill-rule=\"nonzero\" fill-opacity=\"1\" /><path clip-path=\"url(#clip610)\" d=\"M83.4225 854.983 L88.3067 854.983 L88.3067 860.862 L83.4225 860.862 L83.4225 854.983 Z\" fill=\"#000000\" fill-rule=\"nonzero\" fill-opacity=\"1\" /><path clip-path=\"url(#clip610)\" d=\"M109.071 841.719 Q105.922 841.719 104.071 843.872 Q102.242 846.024 102.242 849.774 Q102.242 853.501 104.071 855.677 Q105.922 857.83 109.071 857.83 Q112.219 857.83 114.047 855.677 Q115.899 853.501 115.899 849.774 Q115.899 846.024 114.047 843.872 Q112.219 841.719 109.071 841.719 M118.353 827.066 L118.353 831.325 Q116.594 830.492 114.788 830.052 Q113.006 829.612 111.246 829.612 Q106.617 829.612 104.163 832.737 Q101.733 835.862 101.385 842.182 Q102.751 840.168 104.811 839.103 Q106.871 838.015 109.348 838.015 Q114.557 838.015 117.566 841.186 Q120.598 844.335 120.598 849.774 Q120.598 855.098 117.45 858.316 Q114.302 861.534 109.071 861.534 Q103.075 861.534 99.9039 856.95 Q96.7326 852.344 96.7326 843.617 Q96.7326 835.423 100.621 830.561 Q104.51 825.677 111.061 825.677 Q112.82 825.677 114.603 826.024 Q116.408 826.372 118.353 827.066 Z\" fill=\"#000000\" fill-rule=\"nonzero\" fill-opacity=\"1\" /><path clip-path=\"url(#clip610)\" d=\"M63.5152 557.833 Q59.9041 557.833 58.0754 561.398 Q56.2699 564.939 56.2699 572.069 Q56.2699 579.175 58.0754 582.74 Q59.9041 586.282 63.5152 586.282 Q67.1494 586.282 68.955 582.74 Q70.7837 579.175 70.7837 572.069 Q70.7837 564.939 68.955 561.398 Q67.1494 557.833 63.5152 557.833 M63.5152 554.129 Q69.3254 554.129 72.3809 558.736 Q75.4596 563.319 75.4596 572.069 Q75.4596 580.796 72.3809 585.402 Q69.3254 589.986 63.5152 589.986 Q57.7051 589.986 54.6264 585.402 Q51.5708 580.796 51.5708 572.069 Q51.5708 563.319 54.6264 558.736 Q57.7051 554.129 63.5152 554.129 Z\" fill=\"#000000\" fill-rule=\"nonzero\" fill-opacity=\"1\" /><path clip-path=\"url(#clip610)\" d=\"M83.6771 583.435 L88.5614 583.435 L88.5614 589.314 L83.6771 589.314 L83.6771 583.435 Z\" fill=\"#000000\" fill-rule=\"nonzero\" fill-opacity=\"1\" /><path clip-path=\"url(#clip610)\" d=\"M108.746 572.902 Q105.413 572.902 103.492 574.685 Q101.594 576.467 101.594 579.592 Q101.594 582.717 103.492 584.5 Q105.413 586.282 108.746 586.282 Q112.08 586.282 114.001 584.5 Q115.922 582.694 115.922 579.592 Q115.922 576.467 114.001 574.685 Q112.103 572.902 108.746 572.902 M104.071 570.912 Q101.061 570.171 99.3715 568.111 Q97.7048 566.051 97.7048 563.088 Q97.7048 558.944 100.645 556.537 Q103.608 554.129 108.746 554.129 Q113.908 554.129 116.848 556.537 Q119.788 558.944 119.788 563.088 Q119.788 566.051 118.098 568.111 Q116.432 570.171 113.445 570.912 Q116.825 571.699 118.7 573.99 Q120.598 576.282 120.598 579.592 Q120.598 584.615 117.52 587.3 Q114.464 589.986 108.746 589.986 Q103.029 589.986 99.9502 587.3 Q96.8947 584.615 96.8947 579.592 Q96.8947 576.282 98.7928 573.99 Q100.691 571.699 104.071 570.912 M102.358 563.527 Q102.358 566.213 104.024 567.717 Q105.714 569.222 108.746 569.222 Q111.756 569.222 113.445 567.717 Q115.158 566.213 115.158 563.527 Q115.158 560.842 113.445 559.338 Q111.756 557.833 108.746 557.833 Q105.714 557.833 104.024 559.338 Q102.358 560.842 102.358 563.527 Z\" fill=\"#000000\" fill-rule=\"nonzero\" fill-opacity=\"1\" /><path clip-path=\"url(#clip610)\" d=\"M54.2328 313.831 L61.8717 313.831 L61.8717 287.466 L53.5616 289.132 L53.5616 284.873 L61.8254 283.206 L66.5013 283.206 L66.5013 313.831 L74.1402 313.831 L74.1402 317.766 L54.2328 317.766 L54.2328 313.831 Z\" fill=\"#000000\" fill-rule=\"nonzero\" fill-opacity=\"1\" /><path clip-path=\"url(#clip610)\" d=\"M83.5845 311.887 L88.4688 311.887 L88.4688 317.766 L83.5845 317.766 L83.5845 311.887 Z\" fill=\"#000000\" fill-rule=\"nonzero\" fill-opacity=\"1\" /><path clip-path=\"url(#clip610)\" d=\"M108.654 286.285 Q105.043 286.285 103.214 289.85 Q101.409 293.392 101.409 300.521 Q101.409 307.628 103.214 311.192 Q105.043 314.734 108.654 314.734 Q112.288 314.734 114.094 311.192 Q115.922 307.628 115.922 300.521 Q115.922 293.392 114.094 289.85 Q112.288 286.285 108.654 286.285 M108.654 282.581 Q114.464 282.581 117.52 287.188 Q120.598 291.771 120.598 300.521 Q120.598 309.248 117.52 313.854 Q114.464 318.438 108.654 318.438 Q102.844 318.438 99.765 313.854 Q96.7095 309.248 96.7095 300.521 Q96.7095 291.771 99.765 287.188 Q102.844 282.581 108.654 282.581 Z\" fill=\"#000000\" fill-rule=\"nonzero\" fill-opacity=\"1\" /><polyline clip-path=\"url(#clip612)\" style=\"stroke:#009af9; stroke-linecap:round; stroke-linejoin:round; stroke-width:4; stroke-opacity:1; fill:none\" points=\"218.754,87.9763 222.126,93.0796 225.498,98.1663 228.87,103.236 232.242,108.29 263.423,154.248 294.604,198.842 325.785,242.115 356.966,284.104 394.443,332.928 431.92,380.017 463.607,418.522 495.293,455.867 529.713,495.161 564.133,533.171 595.866,567.111 627.598,600.027 661.618,634.215 695.639,667.298 735.055,704.294 774.471,739.908 809.499,770.441 844.528,799.958 875.244,825.033 905.961,849.376 972.94,900.018 1040.32,947.763 1114.81,997.059 1185.69,1040.78 1259.39,1083.18 1321.42,1116.61 1397.17,1154.8 1466.55,1187.41 1530.63,1215.65 1595.54,1242.53 1668.29,1270.72 1734.21,1294.62 1809.69,1320.17 1879.57,1342.22 1948.47,1362.55 2015.36,1381.04 2083.94,1398.8 2159.07,1416.95 2268.21,1441.07 2290.6,1445.72 \"/>\n",
       "<path clip-path=\"url(#clip610)\" d=\"M2007.5 198.898 L2279.55 198.898 L2279.55 95.2176 L2007.5 95.2176  Z\" fill=\"#ffffff\" fill-rule=\"evenodd\" fill-opacity=\"1\"/>\n",
       "<polyline clip-path=\"url(#clip610)\" style=\"stroke:#000000; stroke-linecap:round; stroke-linejoin:round; stroke-width:4; stroke-opacity:1; fill:none\" points=\"2007.5,198.898 2279.55,198.898 2279.55,95.2176 2007.5,95.2176 2007.5,198.898 \"/>\n",
       "<polyline clip-path=\"url(#clip610)\" style=\"stroke:#009af9; stroke-linecap:round; stroke-linejoin:round; stroke-width:4; stroke-opacity:1; fill:none\" points=\"2031.91,147.058 2178.32,147.058 \"/>\n",
       "<path clip-path=\"url(#clip610)\" d=\"M2216.56 166.745 Q2214.76 171.375 2213.04 172.787 Q2211.33 174.199 2208.46 174.199 L2205.06 174.199 L2205.06 170.634 L2207.56 170.634 Q2209.32 170.634 2210.29 169.8 Q2211.26 168.967 2212.44 165.865 L2213.2 163.921 L2202.72 138.412 L2207.23 138.412 L2215.33 158.689 L2223.44 138.412 L2227.95 138.412 L2216.56 166.745 Z\" fill=\"#000000\" fill-rule=\"nonzero\" fill-opacity=\"1\" /><path clip-path=\"url(#clip610)\" d=\"M2235.24 160.402 L2242.88 160.402 L2242.88 134.037 L2234.57 135.703 L2234.57 131.444 L2242.83 129.778 L2247.51 129.778 L2247.51 160.402 L2255.15 160.402 L2255.15 164.338 L2235.24 164.338 L2235.24 160.402 Z\" fill=\"#000000\" fill-rule=\"nonzero\" fill-opacity=\"1\" /></svg>\n"
      ],
      "text/html": [
       "<?xml version=\"1.0\" encoding=\"utf-8\"?>\n",
       "<svg xmlns=\"http://www.w3.org/2000/svg\" xmlns:xlink=\"http://www.w3.org/1999/xlink\" width=\"600\" height=\"400\" viewBox=\"0 0 2400 1600\">\n",
       "<defs>\n",
       "  <clipPath id=\"clip660\">\n",
       "    <rect x=\"0\" y=\"0\" width=\"2400\" height=\"1600\"/>\n",
       "  </clipPath>\n",
       "</defs>\n",
       "<path clip-path=\"url(#clip660)\" d=\"M0 1600 L2400 1600 L2400 0 L0 0  Z\" fill=\"#ffffff\" fill-rule=\"evenodd\" fill-opacity=\"1\"/>\n",
       "<defs>\n",
       "  <clipPath id=\"clip661\">\n",
       "    <rect x=\"480\" y=\"0\" width=\"1681\" height=\"1600\"/>\n",
       "  </clipPath>\n",
       "</defs>\n",
       "<path clip-path=\"url(#clip660)\" d=\"M156.598 1486.45 L2352.76 1486.45 L2352.76 47.2441 L156.598 47.2441  Z\" fill=\"#ffffff\" fill-rule=\"evenodd\" fill-opacity=\"1\"/>\n",
       "<defs>\n",
       "  <clipPath id=\"clip662\">\n",
       "    <rect x=\"156\" y=\"47\" width=\"2197\" height=\"1440\"/>\n",
       "  </clipPath>\n",
       "</defs>\n",
       "<polyline clip-path=\"url(#clip662)\" style=\"stroke:#000000; stroke-linecap:round; stroke-linejoin:round; stroke-width:2; stroke-opacity:0.1; fill:none\" points=\"218.754,1486.45 218.754,47.2441 \"/>\n",
       "<polyline clip-path=\"url(#clip662)\" style=\"stroke:#000000; stroke-linecap:round; stroke-linejoin:round; stroke-width:2; stroke-opacity:0.1; fill:none\" points=\"736.715,1486.45 736.715,47.2441 \"/>\n",
       "<polyline clip-path=\"url(#clip662)\" style=\"stroke:#000000; stroke-linecap:round; stroke-linejoin:round; stroke-width:2; stroke-opacity:0.1; fill:none\" points=\"1254.68,1486.45 1254.68,47.2441 \"/>\n",
       "<polyline clip-path=\"url(#clip662)\" style=\"stroke:#000000; stroke-linecap:round; stroke-linejoin:round; stroke-width:2; stroke-opacity:0.1; fill:none\" points=\"1772.64,1486.45 1772.64,47.2441 \"/>\n",
       "<polyline clip-path=\"url(#clip662)\" style=\"stroke:#000000; stroke-linecap:round; stroke-linejoin:round; stroke-width:2; stroke-opacity:0.1; fill:none\" points=\"2290.6,1486.45 2290.6,47.2441 \"/>\n",
       "<polyline clip-path=\"url(#clip660)\" style=\"stroke:#000000; stroke-linecap:round; stroke-linejoin:round; stroke-width:4; stroke-opacity:1; fill:none\" points=\"156.598,1486.45 2352.76,1486.45 \"/>\n",
       "<polyline clip-path=\"url(#clip660)\" style=\"stroke:#000000; stroke-linecap:round; stroke-linejoin:round; stroke-width:4; stroke-opacity:1; fill:none\" points=\"218.754,1486.45 218.754,1467.55 \"/>\n",
       "<polyline clip-path=\"url(#clip660)\" style=\"stroke:#000000; stroke-linecap:round; stroke-linejoin:round; stroke-width:4; stroke-opacity:1; fill:none\" points=\"736.715,1486.45 736.715,1467.55 \"/>\n",
       "<polyline clip-path=\"url(#clip660)\" style=\"stroke:#000000; stroke-linecap:round; stroke-linejoin:round; stroke-width:4; stroke-opacity:1; fill:none\" points=\"1254.68,1486.45 1254.68,1467.55 \"/>\n",
       "<polyline clip-path=\"url(#clip660)\" style=\"stroke:#000000; stroke-linecap:round; stroke-linejoin:round; stroke-width:4; stroke-opacity:1; fill:none\" points=\"1772.64,1486.45 1772.64,1467.55 \"/>\n",
       "<polyline clip-path=\"url(#clip660)\" style=\"stroke:#000000; stroke-linecap:round; stroke-linejoin:round; stroke-width:4; stroke-opacity:1; fill:none\" points=\"2290.6,1486.45 2290.6,1467.55 \"/>\n",
       "<path clip-path=\"url(#clip660)\" d=\"M196.138 1517.37 Q192.527 1517.37 190.698 1520.93 Q188.893 1524.47 188.893 1531.6 Q188.893 1538.71 190.698 1542.27 Q192.527 1545.82 196.138 1545.82 Q199.772 1545.82 201.578 1542.27 Q203.407 1538.71 203.407 1531.6 Q203.407 1524.47 201.578 1520.93 Q199.772 1517.37 196.138 1517.37 M196.138 1513.66 Q201.948 1513.66 205.004 1518.27 Q208.082 1522.85 208.082 1531.6 Q208.082 1540.33 205.004 1544.94 Q201.948 1549.52 196.138 1549.52 Q190.328 1549.52 187.249 1544.94 Q184.194 1540.33 184.194 1531.6 Q184.194 1522.85 187.249 1518.27 Q190.328 1513.66 196.138 1513.66 Z\" fill=\"#000000\" fill-rule=\"nonzero\" fill-opacity=\"1\" /><path clip-path=\"url(#clip660)\" d=\"M216.3 1542.97 L221.184 1542.97 L221.184 1548.85 L216.3 1548.85 L216.3 1542.97 Z\" fill=\"#000000\" fill-rule=\"nonzero\" fill-opacity=\"1\" /><path clip-path=\"url(#clip660)\" d=\"M241.369 1517.37 Q237.758 1517.37 235.929 1520.93 Q234.124 1524.47 234.124 1531.6 Q234.124 1538.71 235.929 1542.27 Q237.758 1545.82 241.369 1545.82 Q245.003 1545.82 246.809 1542.27 Q248.638 1538.71 248.638 1531.6 Q248.638 1524.47 246.809 1520.93 Q245.003 1517.37 241.369 1517.37 M241.369 1513.66 Q247.179 1513.66 250.235 1518.27 Q253.314 1522.85 253.314 1531.6 Q253.314 1540.33 250.235 1544.94 Q247.179 1549.52 241.369 1549.52 Q235.559 1549.52 232.48 1544.94 Q229.425 1540.33 229.425 1531.6 Q229.425 1522.85 232.48 1518.27 Q235.559 1513.66 241.369 1513.66 Z\" fill=\"#000000\" fill-rule=\"nonzero\" fill-opacity=\"1\" /><path clip-path=\"url(#clip660)\" d=\"M714.597 1517.37 Q710.986 1517.37 709.158 1520.93 Q707.352 1524.47 707.352 1531.6 Q707.352 1538.71 709.158 1542.27 Q710.986 1545.82 714.597 1545.82 Q718.232 1545.82 720.037 1542.27 Q721.866 1538.71 721.866 1531.6 Q721.866 1524.47 720.037 1520.93 Q718.232 1517.37 714.597 1517.37 M714.597 1513.66 Q720.408 1513.66 723.463 1518.27 Q726.542 1522.85 726.542 1531.6 Q726.542 1540.33 723.463 1544.94 Q720.408 1549.52 714.597 1549.52 Q708.787 1549.52 705.709 1544.94 Q702.653 1540.33 702.653 1531.6 Q702.653 1522.85 705.709 1518.27 Q708.787 1513.66 714.597 1513.66 Z\" fill=\"#000000\" fill-rule=\"nonzero\" fill-opacity=\"1\" /><path clip-path=\"url(#clip660)\" d=\"M734.759 1542.97 L739.644 1542.97 L739.644 1548.85 L734.759 1548.85 L734.759 1542.97 Z\" fill=\"#000000\" fill-rule=\"nonzero\" fill-opacity=\"1\" /><path clip-path=\"url(#clip660)\" d=\"M749.875 1514.29 L768.231 1514.29 L768.231 1518.22 L754.157 1518.22 L754.157 1526.7 Q755.176 1526.35 756.194 1526.19 Q757.213 1526 758.231 1526 Q764.018 1526 767.398 1529.17 Q770.778 1532.34 770.778 1537.76 Q770.778 1543.34 767.305 1546.44 Q763.833 1549.52 757.514 1549.52 Q755.338 1549.52 753.069 1549.15 Q750.824 1548.78 748.417 1548.04 L748.417 1543.34 Q750.5 1544.47 752.722 1545.03 Q754.944 1545.58 757.421 1545.58 Q761.426 1545.58 763.764 1543.48 Q766.102 1541.37 766.102 1537.76 Q766.102 1534.15 763.764 1532.04 Q761.426 1529.94 757.421 1529.94 Q755.546 1529.94 753.671 1530.35 Q751.819 1530.77 749.875 1531.65 L749.875 1514.29 Z\" fill=\"#000000\" fill-rule=\"nonzero\" fill-opacity=\"1\" /><path clip-path=\"url(#clip660)\" d=\"M1221.83 1544.91 L1229.47 1544.91 L1229.47 1518.55 L1221.16 1520.21 L1221.16 1515.95 L1229.42 1514.29 L1234.1 1514.29 L1234.1 1544.91 L1241.74 1544.91 L1241.74 1548.85 L1221.83 1548.85 L1221.83 1544.91 Z\" fill=\"#000000\" fill-rule=\"nonzero\" fill-opacity=\"1\" /><path clip-path=\"url(#clip660)\" d=\"M1251.18 1542.97 L1256.07 1542.97 L1256.07 1548.85 L1251.18 1548.85 L1251.18 1542.97 Z\" fill=\"#000000\" fill-rule=\"nonzero\" fill-opacity=\"1\" /><path clip-path=\"url(#clip660)\" d=\"M1276.25 1517.37 Q1272.64 1517.37 1270.81 1520.93 Q1269.01 1524.47 1269.01 1531.6 Q1269.01 1538.71 1270.81 1542.27 Q1272.64 1545.82 1276.25 1545.82 Q1279.89 1545.82 1281.69 1542.27 Q1283.52 1538.71 1283.52 1531.6 Q1283.52 1524.47 1281.69 1520.93 Q1279.89 1517.37 1276.25 1517.37 M1276.25 1513.66 Q1282.06 1513.66 1285.12 1518.27 Q1288.2 1522.85 1288.2 1531.6 Q1288.2 1540.33 1285.12 1544.94 Q1282.06 1549.52 1276.25 1549.52 Q1270.44 1549.52 1267.36 1544.94 Q1264.31 1540.33 1264.31 1531.6 Q1264.31 1522.85 1267.36 1518.27 Q1270.44 1513.66 1276.25 1513.66 Z\" fill=\"#000000\" fill-rule=\"nonzero\" fill-opacity=\"1\" /><path clip-path=\"url(#clip660)\" d=\"M1740.29 1544.91 L1747.93 1544.91 L1747.93 1518.55 L1739.62 1520.21 L1739.62 1515.95 L1747.88 1514.29 L1752.56 1514.29 L1752.56 1544.91 L1760.2 1544.91 L1760.2 1548.85 L1740.29 1548.85 L1740.29 1544.91 Z\" fill=\"#000000\" fill-rule=\"nonzero\" fill-opacity=\"1\" /><path clip-path=\"url(#clip660)\" d=\"M1769.64 1542.97 L1774.53 1542.97 L1774.53 1548.85 L1769.64 1548.85 L1769.64 1542.97 Z\" fill=\"#000000\" fill-rule=\"nonzero\" fill-opacity=\"1\" /><path clip-path=\"url(#clip660)\" d=\"M1784.76 1514.29 L1803.11 1514.29 L1803.11 1518.22 L1789.04 1518.22 L1789.04 1526.7 Q1790.06 1526.35 1791.08 1526.19 Q1792.09 1526 1793.11 1526 Q1798.9 1526 1802.28 1529.17 Q1805.66 1532.34 1805.66 1537.76 Q1805.66 1543.34 1802.19 1546.44 Q1798.72 1549.52 1792.4 1549.52 Q1790.22 1549.52 1787.95 1549.15 Q1785.71 1548.78 1783.3 1548.04 L1783.3 1543.34 Q1785.38 1544.47 1787.6 1545.03 Q1789.83 1545.58 1792.3 1545.58 Q1796.31 1545.58 1798.65 1543.48 Q1800.98 1541.37 1800.98 1537.76 Q1800.98 1534.15 1798.65 1532.04 Q1796.31 1529.94 1792.3 1529.94 Q1790.43 1529.94 1788.55 1530.35 Q1786.7 1530.77 1784.76 1531.65 L1784.76 1514.29 Z\" fill=\"#000000\" fill-rule=\"nonzero\" fill-opacity=\"1\" /><path clip-path=\"url(#clip660)\" d=\"M2261.84 1544.91 L2278.16 1544.91 L2278.16 1548.85 L2256.21 1548.85 L2256.21 1544.91 Q2258.88 1542.16 2263.46 1537.53 Q2268.07 1532.88 2269.25 1531.53 Q2271.49 1529.01 2272.37 1527.27 Q2273.27 1525.51 2273.27 1523.82 Q2273.27 1521.07 2271.33 1519.33 Q2269.41 1517.6 2266.31 1517.6 Q2264.11 1517.6 2261.65 1518.36 Q2259.22 1519.13 2256.45 1520.68 L2256.45 1515.95 Q2259.27 1514.82 2261.72 1514.24 Q2264.18 1513.66 2266.21 1513.66 Q2271.58 1513.66 2274.78 1516.35 Q2277.97 1519.03 2277.97 1523.52 Q2277.97 1525.65 2277.16 1527.57 Q2276.38 1529.47 2274.27 1532.07 Q2273.69 1532.74 2270.59 1535.95 Q2267.49 1539.15 2261.84 1544.91 Z\" fill=\"#000000\" fill-rule=\"nonzero\" fill-opacity=\"1\" /><path clip-path=\"url(#clip660)\" d=\"M2287.97 1542.97 L2292.86 1542.97 L2292.86 1548.85 L2287.97 1548.85 L2287.97 1542.97 Z\" fill=\"#000000\" fill-rule=\"nonzero\" fill-opacity=\"1\" /><path clip-path=\"url(#clip660)\" d=\"M2313.04 1517.37 Q2309.43 1517.37 2307.6 1520.93 Q2305.8 1524.47 2305.8 1531.6 Q2305.8 1538.71 2307.6 1542.27 Q2309.43 1545.82 2313.04 1545.82 Q2316.68 1545.82 2318.48 1542.27 Q2320.31 1538.71 2320.31 1531.6 Q2320.31 1524.47 2318.48 1520.93 Q2316.68 1517.37 2313.04 1517.37 M2313.04 1513.66 Q2318.85 1513.66 2321.91 1518.27 Q2324.99 1522.85 2324.99 1531.6 Q2324.99 1540.33 2321.91 1544.94 Q2318.85 1549.52 2313.04 1549.52 Q2307.23 1549.52 2304.15 1544.94 Q2301.1 1540.33 2301.1 1531.6 Q2301.1 1522.85 2304.15 1518.27 Q2307.23 1513.66 2313.04 1513.66 Z\" fill=\"#000000\" fill-rule=\"nonzero\" fill-opacity=\"1\" /><polyline clip-path=\"url(#clip662)\" style=\"stroke:#000000; stroke-linecap:round; stroke-linejoin:round; stroke-width:2; stroke-opacity:0.1; fill:none\" points=\"156.598,1386.68 2352.76,1386.68 \"/>\n",
       "<polyline clip-path=\"url(#clip662)\" style=\"stroke:#000000; stroke-linecap:round; stroke-linejoin:round; stroke-width:2; stroke-opacity:0.1; fill:none\" points=\"156.598,1115.13 2352.76,1115.13 \"/>\n",
       "<polyline clip-path=\"url(#clip662)\" style=\"stroke:#000000; stroke-linecap:round; stroke-linejoin:round; stroke-width:2; stroke-opacity:0.1; fill:none\" points=\"156.598,843.582 2352.76,843.582 \"/>\n",
       "<polyline clip-path=\"url(#clip662)\" style=\"stroke:#000000; stroke-linecap:round; stroke-linejoin:round; stroke-width:2; stroke-opacity:0.1; fill:none\" points=\"156.598,572.034 2352.76,572.034 \"/>\n",
       "<polyline clip-path=\"url(#clip662)\" style=\"stroke:#000000; stroke-linecap:round; stroke-linejoin:round; stroke-width:2; stroke-opacity:0.1; fill:none\" points=\"156.598,300.486 2352.76,300.486 \"/>\n",
       "<polyline clip-path=\"url(#clip660)\" style=\"stroke:#000000; stroke-linecap:round; stroke-linejoin:round; stroke-width:4; stroke-opacity:1; fill:none\" points=\"156.598,1486.45 156.598,47.2441 \"/>\n",
       "<polyline clip-path=\"url(#clip660)\" style=\"stroke:#000000; stroke-linecap:round; stroke-linejoin:round; stroke-width:4; stroke-opacity:1; fill:none\" points=\"156.598,1386.68 175.496,1386.68 \"/>\n",
       "<polyline clip-path=\"url(#clip660)\" style=\"stroke:#000000; stroke-linecap:round; stroke-linejoin:round; stroke-width:4; stroke-opacity:1; fill:none\" points=\"156.598,1115.13 175.496,1115.13 \"/>\n",
       "<polyline clip-path=\"url(#clip660)\" style=\"stroke:#000000; stroke-linecap:round; stroke-linejoin:round; stroke-width:4; stroke-opacity:1; fill:none\" points=\"156.598,843.582 175.496,843.582 \"/>\n",
       "<polyline clip-path=\"url(#clip660)\" style=\"stroke:#000000; stroke-linecap:round; stroke-linejoin:round; stroke-width:4; stroke-opacity:1; fill:none\" points=\"156.598,572.034 175.496,572.034 \"/>\n",
       "<polyline clip-path=\"url(#clip660)\" style=\"stroke:#000000; stroke-linecap:round; stroke-linejoin:round; stroke-width:4; stroke-opacity:1; fill:none\" points=\"156.598,300.486 175.496,300.486 \"/>\n",
       "<path clip-path=\"url(#clip660)\" d=\"M65.0198 1372.48 Q61.4087 1372.48 59.58 1376.04 Q57.7745 1379.58 57.7745 1386.71 Q57.7745 1393.82 59.58 1397.38 Q61.4087 1400.93 65.0198 1400.93 Q68.6541 1400.93 70.4596 1397.38 Q72.2883 1393.82 72.2883 1386.71 Q72.2883 1379.58 70.4596 1376.04 Q68.6541 1372.48 65.0198 1372.48 M65.0198 1368.77 Q70.83 1368.77 73.8855 1373.38 Q76.9642 1377.96 76.9642 1386.71 Q76.9642 1395.44 73.8855 1400.05 Q70.83 1404.63 65.0198 1404.63 Q59.2097 1404.63 56.131 1400.05 Q53.0754 1395.44 53.0754 1386.71 Q53.0754 1377.96 56.131 1373.38 Q59.2097 1368.77 65.0198 1368.77 Z\" fill=\"#000000\" fill-rule=\"nonzero\" fill-opacity=\"1\" /><path clip-path=\"url(#clip660)\" d=\"M85.1818 1398.08 L90.066 1398.08 L90.066 1403.96 L85.1818 1403.96 L85.1818 1398.08 Z\" fill=\"#000000\" fill-rule=\"nonzero\" fill-opacity=\"1\" /><path clip-path=\"url(#clip660)\" d=\"M104.279 1400.02 L120.598 1400.02 L120.598 1403.96 L98.6539 1403.96 L98.6539 1400.02 Q101.316 1397.27 105.899 1392.64 Q110.506 1387.99 111.686 1386.64 Q113.932 1384.12 114.811 1382.38 Q115.714 1380.62 115.714 1378.93 Q115.714 1376.18 113.77 1374.44 Q111.848 1372.71 108.746 1372.71 Q106.547 1372.71 104.094 1373.47 Q101.663 1374.24 98.8854 1375.79 L98.8854 1371.06 Q101.709 1369.93 104.163 1369.35 Q106.617 1368.77 108.654 1368.77 Q114.024 1368.77 117.219 1371.46 Q120.413 1374.14 120.413 1378.63 Q120.413 1380.76 119.603 1382.68 Q118.816 1384.58 116.709 1387.18 Q116.131 1387.85 113.029 1391.06 Q109.927 1394.26 104.279 1400.02 Z\" fill=\"#000000\" fill-rule=\"nonzero\" fill-opacity=\"1\" /><path clip-path=\"url(#clip660)\" d=\"M62.9365 1100.93 Q59.3254 1100.93 57.4967 1104.49 Q55.6912 1108.04 55.6912 1115.16 Q55.6912 1122.27 57.4967 1125.84 Q59.3254 1129.38 62.9365 1129.38 Q66.5707 1129.38 68.3763 1125.84 Q70.205 1122.27 70.205 1115.16 Q70.205 1108.04 68.3763 1104.49 Q66.5707 1100.93 62.9365 1100.93 M62.9365 1097.23 Q68.7467 1097.23 71.8022 1101.83 Q74.8809 1106.41 74.8809 1115.16 Q74.8809 1123.89 71.8022 1128.5 Q68.7467 1133.08 62.9365 1133.08 Q57.1264 1133.08 54.0477 1128.5 Q50.9921 1123.89 50.9921 1115.16 Q50.9921 1106.41 54.0477 1101.83 Q57.1264 1097.23 62.9365 1097.23 Z\" fill=\"#000000\" fill-rule=\"nonzero\" fill-opacity=\"1\" /><path clip-path=\"url(#clip660)\" d=\"M83.0984 1126.53 L87.9827 1126.53 L87.9827 1132.41 L83.0984 1132.41 L83.0984 1126.53 Z\" fill=\"#000000\" fill-rule=\"nonzero\" fill-opacity=\"1\" /><path clip-path=\"url(#clip660)\" d=\"M111.015 1101.92 L99.2095 1120.37 L111.015 1120.37 L111.015 1101.92 M109.788 1097.85 L115.668 1097.85 L115.668 1120.37 L120.598 1120.37 L120.598 1124.26 L115.668 1124.26 L115.668 1132.41 L111.015 1132.41 L111.015 1124.26 L95.4132 1124.26 L95.4132 1119.75 L109.788 1097.85 Z\" fill=\"#000000\" fill-rule=\"nonzero\" fill-opacity=\"1\" /><path clip-path=\"url(#clip660)\" d=\"M63.2606 829.381 Q59.6495 829.381 57.8208 832.946 Q56.0152 836.487 56.0152 843.617 Q56.0152 850.723 57.8208 854.288 Q59.6495 857.83 63.2606 857.83 Q66.8948 857.83 68.7004 854.288 Q70.5291 850.723 70.5291 843.617 Q70.5291 836.487 68.7004 832.946 Q66.8948 829.381 63.2606 829.381 M63.2606 825.677 Q69.0707 825.677 72.1263 830.284 Q75.205 834.867 75.205 843.617 Q75.205 852.344 72.1263 856.95 Q69.0707 861.534 63.2606 861.534 Q57.4504 861.534 54.3717 856.95 Q51.3162 852.344 51.3162 843.617 Q51.3162 834.867 54.3717 830.284 Q57.4504 825.677 63.2606 825.677 Z\" fill=\"#000000\" fill-rule=\"nonzero\" fill-opacity=\"1\" /><path clip-path=\"url(#clip660)\" d=\"M83.4225 854.983 L88.3067 854.983 L88.3067 860.862 L83.4225 860.862 L83.4225 854.983 Z\" fill=\"#000000\" fill-rule=\"nonzero\" fill-opacity=\"1\" /><path clip-path=\"url(#clip660)\" d=\"M109.071 841.719 Q105.922 841.719 104.071 843.872 Q102.242 846.024 102.242 849.774 Q102.242 853.501 104.071 855.677 Q105.922 857.83 109.071 857.83 Q112.219 857.83 114.047 855.677 Q115.899 853.501 115.899 849.774 Q115.899 846.024 114.047 843.872 Q112.219 841.719 109.071 841.719 M118.353 827.066 L118.353 831.325 Q116.594 830.492 114.788 830.052 Q113.006 829.612 111.246 829.612 Q106.617 829.612 104.163 832.737 Q101.733 835.862 101.385 842.182 Q102.751 840.168 104.811 839.103 Q106.871 838.015 109.348 838.015 Q114.557 838.015 117.566 841.186 Q120.598 844.335 120.598 849.774 Q120.598 855.098 117.45 858.316 Q114.302 861.534 109.071 861.534 Q103.075 861.534 99.9039 856.95 Q96.7326 852.344 96.7326 843.617 Q96.7326 835.423 100.621 830.561 Q104.51 825.677 111.061 825.677 Q112.82 825.677 114.603 826.024 Q116.408 826.372 118.353 827.066 Z\" fill=\"#000000\" fill-rule=\"nonzero\" fill-opacity=\"1\" /><path clip-path=\"url(#clip660)\" d=\"M63.5152 557.833 Q59.9041 557.833 58.0754 561.398 Q56.2699 564.939 56.2699 572.069 Q56.2699 579.175 58.0754 582.74 Q59.9041 586.282 63.5152 586.282 Q67.1494 586.282 68.955 582.74 Q70.7837 579.175 70.7837 572.069 Q70.7837 564.939 68.955 561.398 Q67.1494 557.833 63.5152 557.833 M63.5152 554.129 Q69.3254 554.129 72.3809 558.736 Q75.4596 563.319 75.4596 572.069 Q75.4596 580.796 72.3809 585.402 Q69.3254 589.986 63.5152 589.986 Q57.7051 589.986 54.6264 585.402 Q51.5708 580.796 51.5708 572.069 Q51.5708 563.319 54.6264 558.736 Q57.7051 554.129 63.5152 554.129 Z\" fill=\"#000000\" fill-rule=\"nonzero\" fill-opacity=\"1\" /><path clip-path=\"url(#clip660)\" d=\"M83.6771 583.435 L88.5614 583.435 L88.5614 589.314 L83.6771 589.314 L83.6771 583.435 Z\" fill=\"#000000\" fill-rule=\"nonzero\" fill-opacity=\"1\" /><path clip-path=\"url(#clip660)\" d=\"M108.746 572.902 Q105.413 572.902 103.492 574.685 Q101.594 576.467 101.594 579.592 Q101.594 582.717 103.492 584.5 Q105.413 586.282 108.746 586.282 Q112.08 586.282 114.001 584.5 Q115.922 582.694 115.922 579.592 Q115.922 576.467 114.001 574.685 Q112.103 572.902 108.746 572.902 M104.071 570.912 Q101.061 570.171 99.3715 568.111 Q97.7048 566.051 97.7048 563.088 Q97.7048 558.944 100.645 556.537 Q103.608 554.129 108.746 554.129 Q113.908 554.129 116.848 556.537 Q119.788 558.944 119.788 563.088 Q119.788 566.051 118.098 568.111 Q116.432 570.171 113.445 570.912 Q116.825 571.699 118.7 573.99 Q120.598 576.282 120.598 579.592 Q120.598 584.615 117.52 587.3 Q114.464 589.986 108.746 589.986 Q103.029 589.986 99.9502 587.3 Q96.8947 584.615 96.8947 579.592 Q96.8947 576.282 98.7928 573.99 Q100.691 571.699 104.071 570.912 M102.358 563.527 Q102.358 566.213 104.024 567.717 Q105.714 569.222 108.746 569.222 Q111.756 569.222 113.445 567.717 Q115.158 566.213 115.158 563.527 Q115.158 560.842 113.445 559.338 Q111.756 557.833 108.746 557.833 Q105.714 557.833 104.024 559.338 Q102.358 560.842 102.358 563.527 Z\" fill=\"#000000\" fill-rule=\"nonzero\" fill-opacity=\"1\" /><path clip-path=\"url(#clip660)\" d=\"M54.2328 313.831 L61.8717 313.831 L61.8717 287.466 L53.5616 289.132 L53.5616 284.873 L61.8254 283.206 L66.5013 283.206 L66.5013 313.831 L74.1402 313.831 L74.1402 317.766 L54.2328 317.766 L54.2328 313.831 Z\" fill=\"#000000\" fill-rule=\"nonzero\" fill-opacity=\"1\" /><path clip-path=\"url(#clip660)\" d=\"M83.5845 311.887 L88.4688 311.887 L88.4688 317.766 L83.5845 317.766 L83.5845 311.887 Z\" fill=\"#000000\" fill-rule=\"nonzero\" fill-opacity=\"1\" /><path clip-path=\"url(#clip660)\" d=\"M108.654 286.285 Q105.043 286.285 103.214 289.85 Q101.409 293.392 101.409 300.521 Q101.409 307.628 103.214 311.192 Q105.043 314.734 108.654 314.734 Q112.288 314.734 114.094 311.192 Q115.922 307.628 115.922 300.521 Q115.922 293.392 114.094 289.85 Q112.288 286.285 108.654 286.285 M108.654 282.581 Q114.464 282.581 117.52 287.188 Q120.598 291.771 120.598 300.521 Q120.598 309.248 117.52 313.854 Q114.464 318.438 108.654 318.438 Q102.844 318.438 99.765 313.854 Q96.7095 309.248 96.7095 300.521 Q96.7095 291.771 99.765 287.188 Q102.844 282.581 108.654 282.581 Z\" fill=\"#000000\" fill-rule=\"nonzero\" fill-opacity=\"1\" /><polyline clip-path=\"url(#clip662)\" style=\"stroke:#009af9; stroke-linecap:round; stroke-linejoin:round; stroke-width:4; stroke-opacity:1; fill:none\" points=\"218.754,87.9763 222.126,93.0796 225.498,98.1663 228.87,103.236 232.242,108.29 263.423,154.248 294.604,198.842 325.785,242.115 356.966,284.104 394.443,332.928 431.92,380.017 463.607,418.522 495.293,455.867 529.713,495.161 564.133,533.171 595.866,567.111 627.598,600.027 661.618,634.215 695.639,667.298 735.055,704.294 774.471,739.908 809.499,770.441 844.528,799.958 875.244,825.033 905.961,849.376 972.94,900.018 1040.32,947.763 1114.81,997.059 1185.69,1040.78 1259.39,1083.18 1321.42,1116.61 1397.17,1154.8 1466.55,1187.41 1530.63,1215.65 1595.54,1242.53 1668.29,1270.72 1734.21,1294.62 1809.69,1320.17 1879.57,1342.22 1948.47,1362.55 2015.36,1381.04 2083.94,1398.8 2159.07,1416.95 2268.21,1441.07 2290.6,1445.72 \"/>\n",
       "<path clip-path=\"url(#clip660)\" d=\"M2007.5 198.898 L2279.55 198.898 L2279.55 95.2176 L2007.5 95.2176  Z\" fill=\"#ffffff\" fill-rule=\"evenodd\" fill-opacity=\"1\"/>\n",
       "<polyline clip-path=\"url(#clip660)\" style=\"stroke:#000000; stroke-linecap:round; stroke-linejoin:round; stroke-width:4; stroke-opacity:1; fill:none\" points=\"2007.5,198.898 2279.55,198.898 2279.55,95.2176 2007.5,95.2176 2007.5,198.898 \"/>\n",
       "<polyline clip-path=\"url(#clip660)\" style=\"stroke:#009af9; stroke-linecap:round; stroke-linejoin:round; stroke-width:4; stroke-opacity:1; fill:none\" points=\"2031.91,147.058 2178.32,147.058 \"/>\n",
       "<path clip-path=\"url(#clip660)\" d=\"M2216.56 166.745 Q2214.76 171.375 2213.04 172.787 Q2211.33 174.199 2208.46 174.199 L2205.06 174.199 L2205.06 170.634 L2207.56 170.634 Q2209.32 170.634 2210.29 169.8 Q2211.26 168.967 2212.44 165.865 L2213.2 163.921 L2202.72 138.412 L2207.23 138.412 L2215.33 158.689 L2223.44 138.412 L2227.95 138.412 L2216.56 166.745 Z\" fill=\"#000000\" fill-rule=\"nonzero\" fill-opacity=\"1\" /><path clip-path=\"url(#clip660)\" d=\"M2235.24 160.402 L2242.88 160.402 L2242.88 134.037 L2234.57 135.703 L2234.57 131.444 L2242.83 129.778 L2247.51 129.778 L2247.51 160.402 L2255.15 160.402 L2255.15 164.338 L2235.24 164.338 L2235.24 160.402 Z\" fill=\"#000000\" fill-rule=\"nonzero\" fill-opacity=\"1\" /></svg>\n"
      ]
     },
     "execution_count": 30,
     "metadata": {},
     "output_type": "execute_result"
    }
   ],
   "source": [
    "d = Truncated(Exponential(1.0), 0.0, 2.0)\n",
    "@show typeof(d)\n",
    "plot(d)"
   ]
  },
  {
   "cell_type": "markdown",
   "id": "9813b270-20b1-469e-a06c-c5466b3fdda8",
   "metadata": {},
   "source": [
    "## 6.4. Numbers and algrbraic structures"
   ]
  },
  {
   "cell_type": "code",
   "execution_count": 31,
   "id": "1e1f6fad-9c5a-4c7f-9cef-ba0857a7a6e6",
   "metadata": {},
   "outputs": [
    {
     "name": "stdout",
     "output_type": "stream",
     "text": [
      "typeof(a) = ComplexF64\n",
      "typeof(b) = ComplexF64\n",
      "a + b = 1.0 + 3.0im\n",
      "a * b = -2.0 + 2.0im\n",
      "-a = -1.0 - 1.0im\n",
      "a - b = 1.0 - 1.0im\n",
      "zero(a) = 0.0 + 0.0im\n",
      "one(a) = 1.0 + 0.0im\n"
     ]
    }
   ],
   "source": [
    "a = 1.0 + 1.0im\n",
    "b = 0.0 + 2.0im\n",
    "@show typeof(a)\n",
    "@show typeof(b)\n",
    "@show a + b\n",
    "@show a * b\n",
    "@show -a\n",
    "@show a - b\n",
    "@show zero(a)\n",
    "@show one(a);"
   ]
  },
  {
   "cell_type": "code",
   "execution_count": 32,
   "id": "f0605ab7-ca82-4ec0-8d73-2d54c255a33b",
   "metadata": {},
   "outputs": [
    {
     "name": "stdout",
     "output_type": "stream",
     "text": [
      "x = 1.0 = 1.0\n",
      "typeof(x) = Float64\n",
      "supertype(typeof(x)) = AbstractFloat\n",
      "Int64 <: Signed <: Integer <: Real <: Number <: Anyshow_supertypes(Int64) = nothing\n"
     ]
    }
   ],
   "source": [
    "## Just a little reminder\n",
    "@show x = 1.0\n",
    "@show typeof(x)\n",
    "@show supertype(typeof(x))\n",
    "@show show_supertypes(Int64)\n",
    ";"
   ]
  },
  {
   "cell_type": "code",
   "execution_count": 33,
   "id": "e8c88970-da4f-45ac-ab01-0f235f3a5b96",
   "metadata": {},
   "outputs": [
    {
     "name": "stdout",
     "output_type": "stream",
     "text": [
      "a = BigInt(10) = 10\n",
      "typeof(a) = BigInt\n",
      "typeof(a) <: Integer = true\n"
     ]
    }
   ],
   "source": [
    "@show a = BigInt(10)\n",
    "@show typeof(a)\n",
    "@show typeof(a) <: Integer\n",
    ";"
   ]
  },
  {
   "cell_type": "markdown",
   "id": "71860e9e-06a1-4633-bb9d-d6081ca73485",
   "metadata": {},
   "source": [
    "### 6.4.1 Complex numbers and compostition of generic functions"
   ]
  },
  {
   "cell_type": "code",
   "execution_count": 35,
   "id": "efa0a464-c731-4777-a321-a7859ac3f59e",
   "metadata": {},
   "outputs": [
    {
     "name": "stdout",
     "output_type": "stream",
     "text": [
      "(x, typeof(x)) = (4.0 + 1.0im, ComplexF64)\n",
      "(xbig, typeof(xbig)) = (4.0 + 1.0im, Complex{BigFloat})\n"
     ]
    }
   ],
   "source": [
    "x = 4.0 + 1.0im\n",
    "@show x, typeof(x)\n",
    "xbig = BigFloat(4.0) + 1.0im\n",
    "@show xbig, typeof(xbig)\n",
    ";"
   ]
  },
  {
   "cell_type": "code",
   "execution_count": 36,
   "id": "12669f19-73ca-437c-a9e4-3812ecb7a000",
   "metadata": {},
   "outputs": [
    {
     "data": {
      "text/html": [
       "+(z::<b>Complex</b>, w::<b>Complex</b>) in Base at <a href=\"https://github.com/JuliaLang/julia/tree/48d4fd48430af58502699fdf3504b90589df3852/base/complex.jl#L294\" target=\"_blank\">complex.jl:294</a>"
      ],
      "text/plain": [
       "+(\u001b[90mz\u001b[39m::\u001b[1mComplex\u001b[22m, \u001b[90mw\u001b[39m::\u001b[1mComplex\u001b[22m)\n",
       "\u001b[90m     @\u001b[39m \u001b[90mBase\u001b[39m \u001b[90m\u001b[4mcomplex.jl:294\u001b[24m\u001b[39m"
      ]
     },
     "execution_count": 36,
     "metadata": {},
     "output_type": "execute_result"
    }
   ],
   "source": [
    "@which +(x, x)"
   ]
  },
  {
   "cell_type": "code",
   "execution_count": 37,
   "id": "f724e32f-fd98-49af-b267-015ed1527909",
   "metadata": {},
   "outputs": [
    {
     "data": {
      "text/html": [
       "abs(z::<b>Complex</b>) in Base at <a href=\"https://github.com/JuliaLang/julia/tree/48d4fd48430af58502699fdf3504b90589df3852/base/complex.jl#L283\" target=\"_blank\">complex.jl:283</a>"
      ],
      "text/plain": [
       "abs(\u001b[90mz\u001b[39m::\u001b[1mComplex\u001b[22m)\n",
       "\u001b[90m     @\u001b[39m \u001b[90mBase\u001b[39m \u001b[90m\u001b[4mcomplex.jl:283\u001b[24m\u001b[39m"
      ]
     },
     "execution_count": 37,
     "metadata": {},
     "output_type": "execute_result"
    }
   ],
   "source": [
    "@which abs(x)"
   ]
  },
  {
   "cell_type": "code",
   "execution_count": 38,
   "id": "4f808f75-f2a4-41a6-bfe5-9c28ef9e4ebe",
   "metadata": {},
   "outputs": [
    {
     "data": {
      "text/plain": [
       "abs (generic function with 17 methods)"
      ]
     },
     "execution_count": 38,
     "metadata": {},
     "output_type": "execute_result"
    }
   ],
   "source": [
    "import Base.abs\n",
    "abs(z::Complex) = hypot(real(z), imag(z))"
   ]
  },
  {
   "cell_type": "code",
   "execution_count": 39,
   "id": "ae808332-7abb-439d-9031-49b07d44330d",
   "metadata": {},
   "outputs": [
    {
     "data": {
      "text/html": [
       "abs(x::<b>Union{Float16, Float32, Float64}</b>) in Base at <a href=\"https://github.com/JuliaLang/julia/tree/48d4fd48430af58502699fdf3504b90589df3852/base/float.jl#L610\" target=\"_blank\">float.jl:610</a>"
      ],
      "text/plain": [
       "abs(\u001b[90mx\u001b[39m::\u001b[1mUnion\u001b[22m\u001b[0m{Float16, Float32, Float64})\n",
       "\u001b[90m     @\u001b[39m \u001b[90mBase\u001b[39m \u001b[90m\u001b[4mfloat.jl:610\u001b[24m\u001b[39m"
      ]
     },
     "execution_count": 39,
     "metadata": {},
     "output_type": "execute_result"
    }
   ],
   "source": [
    "@which abs(1.0)"
   ]
  },
  {
   "cell_type": "code",
   "execution_count": 40,
   "id": "6eea7683-8e92-49fb-b5c9-20d1323ab777",
   "metadata": {},
   "outputs": [
    {
     "data": {
      "text/html": [
       "abs(x::<b>Real</b>) in Base at <a href=\"https://github.com/JuliaLang/julia/tree/48d4fd48430af58502699fdf3504b90589df3852/base/number.jl#L164\" target=\"_blank\">number.jl:164</a>"
      ],
      "text/plain": [
       "abs(\u001b[90mx\u001b[39m::\u001b[1mReal\u001b[22m)\n",
       "\u001b[90m     @\u001b[39m \u001b[90mBase\u001b[39m \u001b[90m\u001b[4mnumber.jl:164\u001b[24m\u001b[39m"
      ]
     },
     "execution_count": 40,
     "metadata": {},
     "output_type": "execute_result"
    }
   ],
   "source": [
    "@which abs(BigFloat(1.0))"
   ]
  },
  {
   "cell_type": "code",
   "execution_count": 41,
   "id": "48dbf663-81c6-4de1-bac4-8ac9c752736c",
   "metadata": {},
   "outputs": [
    {
     "data": {
      "text/plain": [
       "abs (generic function with 18 methods)"
      ]
     },
     "execution_count": 41,
     "metadata": {},
     "output_type": "execute_result"
    }
   ],
   "source": [
    "abs(x::Real) = ifelse(signbit(x), -x, x)\n",
    "abs(x::Float64) = abs_float(x)"
   ]
  },
  {
   "cell_type": "markdown",
   "id": "73117477-8a6e-4100-a06e-11fe56d48ee1",
   "metadata": {},
   "source": [
    "## 6.5 Reals and Algebraic Structures"
   ]
  },
  {
   "cell_type": "code",
   "execution_count": 42,
   "id": "a2e53e01-a076-45c7-9ff4-cb605f471bd2",
   "metadata": {},
   "outputs": [
    {
     "name": "stdout",
     "output_type": "stream",
     "text": [
      "typeof(a) = Rational{Int64}\n",
      "typeof(a) <: Number = true\n",
      "typeof(a) <: Real = true\n",
      "inv(a) = 10//1\n",
      "a / b = 3//20\n",
      "a < b = true\n"
     ]
    }
   ],
   "source": [
    "a = 1//10\n",
    "b = 4//6\n",
    "@show typeof(a)\n",
    "@show typeof(a) <: Number\n",
    "@show typeof(a) <: Real\n",
    "@show inv(a)\n",
    "@show a / b \n",
    "@show a < b;"
   ]
  },
  {
   "cell_type": "code",
   "execution_count": 43,
   "id": "c1fc837a-6db8-48bf-84d3-4eff0f933d1e",
   "metadata": {},
   "outputs": [
    {
     "name": "stdout",
     "output_type": "stream",
     "text": [
      "Float64 <: AbstractFloat = true\n",
      "BigFloat <: AbstractFloat = true\n",
      "eps(Float64) = 2.220446049250313e-16\n",
      "eps(BigFloat) = 1.727233711018888925077270372560079914223200072887256277004740694033718360632485e-77\n"
     ]
    }
   ],
   "source": [
    "@show Float64 <: AbstractFloat\n",
    "@show BigFloat <: AbstractFloat\n",
    "@show eps(Float64)\n",
    "@show eps(BigFloat);"
   ]
  },
  {
   "cell_type": "code",
   "execution_count": 101,
   "id": "1bcd8cc2-d3da-456e-a699-cf8f951ceee5",
   "metadata": {},
   "outputs": [
    {
     "data": {
      "text/html": [
       "isless(x::<b>Real</b>, y::<b>Real</b>) in Base at <a href=\"https://github.com/JuliaLang/julia/tree/48d4fd48430af58502699fdf3504b90589df3852/base/operators.jl#L430\" target=\"_blank\">operators.jl:430</a>"
      ],
      "text/plain": [
       "isless(\u001b[90mx\u001b[39m::\u001b[1mReal\u001b[22m, \u001b[90my\u001b[39m::\u001b[1mReal\u001b[22m)\n",
       "\u001b[90m     @\u001b[39m \u001b[90mBase\u001b[39m \u001b[90m\u001b[4moperators.jl:430\u001b[24m\u001b[39m"
      ]
     },
     "execution_count": 101,
     "metadata": {},
     "output_type": "execute_result"
    }
   ],
   "source": [
    "@which isless(1,2)"
   ]
  },
  {
   "cell_type": "markdown",
   "id": "a6fb6604-077d-4d29-bb8f-0f34ad759856",
   "metadata": {},
   "source": [
    "## 6.6. Functions and function-like type\n",
    "\n",
    "Another common example of the separation between data structures and algorithms is the use of functions."
   ]
  },
  {
   "cell_type": "code",
   "execution_count": 53,
   "id": "fd63d2d7-72a5-4646-b5bf-d9c0dd118eec",
   "metadata": {},
   "outputs": [
    {
     "data": {
      "text/plain": [
       "abs (generic function with 18 methods)"
      ]
     },
     "execution_count": 53,
     "metadata": {},
     "output_type": "execute_result"
    }
   ],
   "source": [
    "@which abs(x)\n",
    "abs(z::Complex)  = hypot(real(z), imag(z))\n",
    "@which abs(1.0)\n",
    "abs(x::Real) = ifelse(signbit(x), -x, x)\n",
    "abs(x::Float64) = abs_float(x)"
   ]
  }
 ],
 "metadata": {
  "kernelspec": {
   "display_name": "Julia 1.10.4",
   "language": "julia",
   "name": "julia-1.10"
  },
  "language_info": {
   "file_extension": ".jl",
   "mimetype": "application/julia",
   "name": "julia",
   "version": "1.10.4"
  }
 },
 "nbformat": 4,
 "nbformat_minor": 5
}
