{
 "cells": [
  {
   "cell_type": "markdown",
   "id": "9b88b35e-6c90-41f0-8faf-3f4cc861adde",
   "metadata": {},
   "source": [
    "## Lesson 6"
   ]
  },
  {
   "cell_type": "code",
   "execution_count": 4,
   "id": "9574fa5d-d28a-444a-9844-8bdc1e6bda3d",
   "metadata": {},
   "outputs": [],
   "source": [
    "using LinearAlgebra, Statistics\n",
    "using Distributions, Plots, QuadGK, Polynomials, Interpolations"
   ]
  },
  {
   "cell_type": "markdown",
   "id": "efdf70b1-d272-4154-9957-2781e7dd2188",
   "metadata": {},
   "source": [
    "### Exploring type trees"
   ]
  },
  {
   "cell_type": "code",
   "execution_count": 9,
   "id": "beb49e5b-9034-41f9-94f0-369a94a466f8",
   "metadata": {},
   "outputs": [
    {
     "name": "stdout",
     "output_type": "stream",
     "text": [
      "(x, y, z) = (1, Normal{Float64}(μ=0.0, σ=1.0), \"foo\")\n",
      "(typeof(x), typeof(y), typeof(z)) = (Int64, Normal{Float64}, String)\n",
      "supertype(typeof(x)) = Signed\n"
     ]
    }
   ],
   "source": [
    "x = 1\n",
    "y = Normal()\n",
    "z = \"foo\"\n",
    "@show x, y, z\n",
    "@show typeof(x), typeof(y), typeof(z)\n",
    "@show supertype(typeof(x));"
   ]
  },
  {
   "cell_type": "markdown",
   "id": "3e9adab1-2ca2-4327-ab3b-85f2eb87ee35",
   "metadata": {},
   "source": [
    "The pipe operator, `|>`, is is equivalent"
   ]
  },
  {
   "cell_type": "code",
   "execution_count": 15,
   "id": "dd6305f6-64ca-4fe6-b5e2-97acabb9c3d8",
   "metadata": {},
   "outputs": [
    {
     "name": "stdout",
     "output_type": "stream",
     "text": [
      "typeof(x) |> supertype = Signed\n",
      "supertype(typeof(x)) = Signed\n",
      "supertype(typeof(y)) = Distribution{Univariate, Continuous}\n",
      "typeof(z) |> supertype = AbstractString\n",
      "typeof(x) <: Any = true\n"
     ]
    }
   ],
   "source": [
    "@show typeof(x) |> supertype\n",
    "@show supertype(typeof(x))    # same result as above\n",
    "@show supertype(typeof(y))\n",
    "@show typeof(z) |> supertype\n",
    "@show typeof(x) <: Any;    # shows is `Signed` is in the family of `Any`"
   ]
  },
  {
   "cell_type": "markdown",
   "id": "cc2490c5-b58f-46ec-ae5a-899596943feb",
   "metadata": {},
   "source": [
    "#### More `typeof` and `supertype` functions "
   ]
  },
  {
   "cell_type": "code",
   "execution_count": 18,
   "id": "ab132d28-c79a-4780-8117-218e660eac32",
   "metadata": {},
   "outputs": [
    {
     "name": "stdout",
     "output_type": "stream",
     "text": [
      "Int64 <: Signed <: Integer <: Real <: Number <: Any"
     ]
    }
   ],
   "source": [
    "using Base: show_supertypes\n",
    "\n",
    "show_supertypes(Int64)"
   ]
  }
 ],
 "metadata": {
  "kernelspec": {
   "display_name": "Julia 1.10.4",
   "language": "julia",
   "name": "julia-1.10"
  },
  "language_info": {
   "file_extension": ".jl",
   "mimetype": "application/julia",
   "name": "julia",
   "version": "1.10.4"
  }
 },
 "nbformat": 4,
 "nbformat_minor": 5
}
