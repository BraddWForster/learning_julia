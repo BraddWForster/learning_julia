{
 "cells": [
  {
   "cell_type": "markdown",
   "id": "9b88b35e-6c90-41f0-8faf-3f4cc861adde",
   "metadata": {},
   "source": [
    "## Lesson 6"
   ]
  },
  {
   "cell_type": "code",
   "execution_count": 1,
   "id": "9574fa5d-d28a-444a-9844-8bdc1e6bda3d",
   "metadata": {},
   "outputs": [],
   "source": [
    "using LinearAlgebra, Statistics\n",
    "using Distributions, Plots, QuadGK, Polynomials, Interpolations"
   ]
  },
  {
   "cell_type": "markdown",
   "id": "efdf70b1-d272-4154-9957-2781e7dd2188",
   "metadata": {},
   "source": [
    "### Exploring type trees"
   ]
  },
  {
   "cell_type": "code",
   "execution_count": 2,
   "id": "beb49e5b-9034-41f9-94f0-369a94a466f8",
   "metadata": {},
   "outputs": [
    {
     "name": "stdout",
     "output_type": "stream",
     "text": [
      "(x, y, z) = (1, Normal{Float64}(μ=0.0, σ=1.0), \"foo\")\n",
      "(typeof(x), typeof(y), typeof(z)) = (Int64, Normal{Float64}, String)\n",
      "supertype(typeof(x)) = Signed\n"
     ]
    }
   ],
   "source": [
    "x = 1\n",
    "y = Normal()\n",
    "z = \"foo\"\n",
    "@show x, y, z\n",
    "@show typeof(x), typeof(y), typeof(z)\n",
    "@show supertype(typeof(x));"
   ]
  },
  {
   "cell_type": "markdown",
   "id": "3e9adab1-2ca2-4327-ab3b-85f2eb87ee35",
   "metadata": {},
   "source": [
    "The pipe operator, `|>`, is is equivalent"
   ]
  },
  {
   "cell_type": "code",
   "execution_count": 3,
   "id": "dd6305f6-64ca-4fe6-b5e2-97acabb9c3d8",
   "metadata": {},
   "outputs": [
    {
     "name": "stdout",
     "output_type": "stream",
     "text": [
      "typeof(x) |> supertype = Signed\n",
      "supertype(typeof(x)) = Signed\n",
      "supertype(typeof(y)) = Distribution{Univariate, Continuous}\n",
      "typeof(z) |> supertype = AbstractString\n",
      "typeof(x) <: Any = true\n"
     ]
    }
   ],
   "source": [
    "@show typeof(x) |> supertype\n",
    "@show supertype(typeof(x))    # same result as above\n",
    "@show supertype(typeof(y))\n",
    "@show typeof(z) |> supertype\n",
    "@show typeof(x) <: Any;    # shows is `Signed` is in the family of `Any`"
   ]
  },
  {
   "cell_type": "markdown",
   "id": "cc2490c5-b58f-46ec-ae5a-899596943feb",
   "metadata": {},
   "source": [
    "#### More `typeof` and `supertype` functions "
   ]
  },
  {
   "cell_type": "code",
   "execution_count": 4,
   "id": "ab132d28-c79a-4780-8117-218e660eac32",
   "metadata": {},
   "outputs": [
    {
     "name": "stdout",
     "output_type": "stream",
     "text": [
      "Int64 <: Signed <: Integer <: Real <: Number <: Any"
     ]
    }
   ],
   "source": [
    "using Base: show_supertypes\n",
    "\n",
    "show_supertypes(Int64)"
   ]
  },
  {
   "cell_type": "code",
   "execution_count": 6,
   "id": "c605d90b-ca53-4110-bdf1-8ea14533d5ac",
   "metadata": {},
   "outputs": [
    {
     "data": {
      "text/plain": [
       "3-element Vector{Any}:\n",
       " Bool\n",
       " Signed\n",
       " Unsigned"
      ]
     },
     "execution_count": 6,
     "metadata": {},
     "output_type": "execute_result"
    }
   ],
   "source": [
    "subtypes(Integer)"
   ]
  },
  {
   "cell_type": "markdown",
   "id": "c9a4ab87-f5c6-4f4a-a688-bbfa02f24187",
   "metadata": {},
   "source": [
    "You can use the `subtypes` function to write an algorithim that shows the full family tree below a specific type `t`."
   ]
  },
  {
   "cell_type": "code",
   "execution_count": 7,
   "id": "0486980b-7d8f-4ba5-985f-302035739b14",
   "metadata": {},
   "outputs": [
    {
     "data": {
      "text/plain": [
       "subtypetree (generic function with 3 methods)"
      ]
     },
     "execution_count": 7,
     "metadata": {},
     "output_type": "execute_result"
    }
   ],
   "source": [
    "function subtypetree(t, level = 1, indent = 4)\n",
    "    if level == 1\n",
    "        println(t)\n",
    "    end\n",
    "    for s in subtypes(t)\n",
    "        println(join(fill(\" \", level * indent)) * string(s))    # print type\n",
    "        subtypetree(s, level + 1, indent)    # recursively print the next type, indenting\n",
    "    end\n",
    "end"
   ]
  },
  {
   "cell_type": "code",
   "execution_count": 8,
   "id": "5406405d-e2d7-4ea7-9e54-08b935e7e0ec",
   "metadata": {},
   "outputs": [
    {
     "name": "stdout",
     "output_type": "stream",
     "text": [
      "Number\n",
      "    Base.MultiplicativeInverses.MultiplicativeInverse\n",
      "        Base.MultiplicativeInverses.SignedMultiplicativeInverse\n",
      "        Base.MultiplicativeInverses.UnsignedMultiplicativeInverse\n",
      "    Complex\n",
      "    DualNumbers.Dual\n",
      "    Plots.Measurement\n",
      "    Real\n",
      "        AbstractFloat\n",
      "            BigFloat\n",
      "            Float16\n",
      "            Float32\n",
      "            Float64\n",
      "        AbstractIrrational\n",
      "            Irrational\n",
      "            IrrationalConstants.IrrationalConstant\n",
      "                IrrationalConstants.Fourinvπ\n",
      "                IrrationalConstants.Fourπ\n",
      "                IrrationalConstants.Halfπ\n",
      "                IrrationalConstants.Inv2π\n",
      "                IrrationalConstants.Inv4π\n",
      "                IrrationalConstants.Invsqrt2\n",
      "                IrrationalConstants.Invsqrt2π\n",
      "                IrrationalConstants.Invsqrtπ\n",
      "                IrrationalConstants.Invπ\n",
      "                IrrationalConstants.Log2π\n",
      "                IrrationalConstants.Log4π\n",
      "                IrrationalConstants.Loghalf\n",
      "                IrrationalConstants.Logten\n",
      "                IrrationalConstants.Logtwo\n",
      "                IrrationalConstants.Logπ\n",
      "                IrrationalConstants.Quartπ\n",
      "                IrrationalConstants.Sqrt2\n",
      "                IrrationalConstants.Sqrt2π\n",
      "                IrrationalConstants.Sqrt3\n",
      "                IrrationalConstants.Sqrt4π\n",
      "                IrrationalConstants.Sqrthalfπ\n",
      "                IrrationalConstants.Sqrtπ\n",
      "                IrrationalConstants.Twoinvπ\n",
      "                IrrationalConstants.Twoπ\n",
      "        FixedPointNumbers.FixedPoint\n",
      "            FixedPointNumbers.Fixed\n",
      "            FixedPointNumbers.Normed\n",
      "        Integer\n",
      "            Bool\n",
      "            Signed\n",
      "                BigInt\n",
      "                Int128\n",
      "                Int16\n",
      "                Int32\n",
      "                Int64\n",
      "                Int8\n",
      "            Unsigned\n",
      "                UInt128\n",
      "                UInt16\n",
      "                UInt32\n",
      "                UInt64\n",
      "                UInt8\n",
      "        Rational\n",
      "        Ratios.SimpleRatio\n",
      "        StatsBase.PValue\n",
      "        StatsBase.TestStat\n"
     ]
    }
   ],
   "source": [
    "subtypetree(Number)"
   ]
  },
  {
   "cell_type": "markdown",
   "id": "27efbb25-ff95-4cb5-ac64-e622fe5bbf24",
   "metadata": {},
   "source": [
    "The root of all types is `Any` (you wouldn't want to use `subtypetree` on `Any`."
   ]
  },
  {
   "cell_type": "markdown",
   "id": "5ec748ec-97b1-484d-9544-228ed3a5d6a4",
   "metadata": {},
   "source": [
    "Making a custom type"
   ]
  },
  {
   "cell_type": "code",
   "execution_count": 13,
   "id": "ef246564-cabf-46a3-a80d-7b19c0245bb8",
   "metadata": {},
   "outputs": [
    {
     "name": "stdout",
     "output_type": "stream",
     "text": [
      "myval = MyType(2.0)\n",
      "typeof(myval) = MyType\n",
      "supertype(typeof(myval)) = Any\n",
      "typeof(myval) <: Any = true\n"
     ]
    }
   ],
   "source": [
    "struct MyType\n",
    "    a::Float64\n",
    "end\n",
    "\n",
    "myval = MyType(2.0)\n",
    "@show myval\n",
    "@show typeof(myval)\n",
    "@show supertype(typeof(myval))\n",
    "@show typeof(myval) <: Any;"
   ]
  },
  {
   "cell_type": "code",
   "execution_count": 14,
   "id": "92893006-b33b-409f-8a91-a4ba5aaa4266",
   "metadata": {},
   "outputs": [
    {
     "name": "stdout",
     "output_type": "stream",
     "text": [
      "[1, 2]"
     ]
    }
   ],
   "source": [
    "x = [1, 2]\n",
    "show(x)"
   ]
  },
  {
   "cell_type": "code",
   "execution_count": 15,
   "id": "0fe4916d-6fb4-4147-a281-fd0bf3c05d59",
   "metadata": {},
   "outputs": [
    {
     "data": {
      "text/plain": [
       "MyType(2.0)"
      ]
     },
     "execution_count": 15,
     "metadata": {},
     "output_type": "execute_result"
    }
   ],
   "source": [
    "myval = MyType(2.0)"
   ]
  },
  {
   "cell_type": "code",
   "execution_count": 16,
   "id": "e0136d85-4b0e-4380-bc3a-76471ca9017a",
   "metadata": {},
   "outputs": [
    {
     "name": "stdout",
     "output_type": "stream",
     "text": [
      "MyType(2.0)"
     ]
    }
   ],
   "source": [
    "show(myval)"
   ]
  },
  {
   "cell_type": "markdown",
   "id": "2c6f4068-461b-4789-87e8-2ea3e078476c",
   "metadata": {},
   "source": [
    "Fallback implementation"
   ]
  },
  {
   "cell_type": "code",
   "execution_count": 19,
   "id": "7a3fbcd2-3e49-4f66-99b1-c89ce5a9d4ad",
   "metadata": {},
   "outputs": [
    {
     "name": "stdout",
     "output_type": "stream",
     "text": [
      "(MyType.a = 2.0)"
     ]
    }
   ],
   "source": [
    "import Base.show\n",
    "\n",
    "function show(io::IO, x::MyType)\n",
    "    str = \"(MyType.a = $(x.a))\"    # custom display\n",
    "    print(io, str)\n",
    "end\n",
    "show(myval)"
   ]
  },
  {
   "cell_type": "markdown",
   "id": "4da4b6ec-8836-4377-b7ac-7612b031527c",
   "metadata": {},
   "source": [
    "## Distributions"
   ]
  },
  {
   "cell_type": "code",
   "execution_count": 22,
   "id": "3507d439-9c21-42a4-87e8-b04bb351d4b2",
   "metadata": {},
   "outputs": [
    {
     "name": "stdout",
     "output_type": "stream",
     "text": [
      "d1 = Normal{Float64}(μ=1.0, σ=2.0)\n",
      "Normal{Float64} <: Distribution{Univariate, Continuous} <: Sampleable{Univariate, Continuous} <: Any"
     ]
    }
   ],
   "source": [
    "using Distributions\n",
    "d1 = Normal(1.0, 2.0)    # an example type to explore\n",
    "@show d1\n",
    "show_supertypes(typeof(d1))"
   ]
  },
  {
   "cell_type": "code",
   "execution_count": 24,
   "id": "d4d9d236-f488-4747-b71f-0dbb027cbbae",
   "metadata": {},
   "outputs": [
    {
     "name": "stdout",
     "output_type": "stream",
     "text": [
      "rand(d1) = 1.072989158494287\n"
     ]
    }
   ],
   "source": [
    "@show rand(d1);"
   ]
  },
  {
   "cell_type": "code",
   "execution_count": 35,
   "id": "220e0391-7c39-4da0-8ac6-6b0dcfc9b368",
   "metadata": {},
   "outputs": [
    {
     "name": "stdout",
     "output_type": "stream",
     "text": [
      "simulateprocess(0.0, d = Normal(0.2, 2.0)) = [0.0, -1.671170345297252, -3.292589729170672, -0.4143379032708334, 0.4694041359414276, -1.51449105318896]\n"
     ]
    }
   ],
   "source": [
    "function simulateprocess(x_0; a = 1.0, b = 1.0, N = 5, d::Sampleable{Univariate, Continuous})\n",
    "        x = zeros(typeof(x_0), N + 1)    # prelocate vector, careful on the type\n",
    "        x[1] = x_0\n",
    "        for t in 2:(N + 1)\n",
    "            x[t] = a * x[t - 1] + b * rand(d)    # draw\n",
    "        end\n",
    "        return x\n",
    "    end\n",
    "    @show simulateprocess(0.0, d = Normal(0.2, 2.0));\n",
    "    "
   ]
  },
  {
   "cell_type": "markdown",
   "id": "7e061863-2f10-4769-9c18-d07993603460",
   "metadata": {},
   "source": [
    "The `Distributions{Univariate, Continuous}` abstract type has other functions we can use for generic algorithims operating on distributions.\n",
    "\n",
    "For example,\n",
    "`pdf`, `cdf`, `quantile`, `support`, `minimum`, `maximum`"
   ]
  },
  {
   "cell_type": "code",
   "execution_count": 43,
   "id": "3df037df-c27c-4760-bbae-be45af049bc8",
   "metadata": {},
   "outputs": [
    {
     "name": "stdout",
     "output_type": "stream",
     "text": [
      "d1 = Normal{Float64}(μ=1.0, σ=2.0)\n",
      "d2 = Exponential{Float64}(θ=0.1)\n",
      "supertype(typeof(d1)) = Distribution{Univariate, Continuous}\n",
      "supertype(typeof(d2)) = Distribution{Univariate, Continuous}\n",
      "pdf(d1, 0.1) = 0.18026348123082397\n",
      "pdf(d2, 0.1) = 3.6787944117144233\n",
      "cdf(d1, 0.1) = 0.32635522028792\n",
      "cdf(d2, 0.1) = 0.6321205588285577\n",
      "support(d1) = RealInterval{Float64}(-Inf, Inf)\n",
      "support(d2) = RealInterval{Float64}(0.0, Inf)\n",
      "minimum(d1) = -Inf\n",
      "minimum(d2) = 0.0\n",
      "maximum(d1) = Inf\n",
      "maximum(d2) = Inf\n"
     ]
    }
   ],
   "source": [
    "d1 = Normal(1.0, 2.0)\n",
    "d2 = Exponential(0.1)\n",
    "\n",
    "@show d1\n",
    "@show d2\n",
    "@show supertype(typeof(d1))\n",
    "@show supertype(typeof(d2))\n",
    "@show pdf(d1, 0.1)\n",
    "@show pdf(d2, 0.1)\n",
    "@show cdf(d1, 0.1)\n",
    "@show cdf(d2, 0.1)\n",
    "@show support(d1)\n",
    "@show support(d2)\n",
    "@show minimum(d1)\n",
    "@show minimum(d2)\n",
    "@show maximum(d1)\n",
    "@show maximum(d2);"
   ]
  },
  {
   "cell_type": "code",
   "execution_count": 44,
   "id": "96cc44ce-7dc8-4646-a51c-df383e4dc911",
   "metadata": {},
   "outputs": [
    {
     "data": {
      "image/png": "[encoded data removed]",
      "image/svg+xml": [
       "<?xml version=\"1.0\" encoding=\"utf-8\"?>\n",
       "<svg xmlns=\"http://www.w3.org/2000/svg\" xmlns:xlink=\"http://www.w3.org/1999/xlink\" width=\"600\" height=\"400\" viewBox=\"0 0 2400 1600\">\n",
       "<defs>\n",
       "  <clipPath id=\"clip000\">\n",
       "    <rect x=\"0\" y=\"0\" width=\"2400\" height=\"1600\"/>\n",
       "  </clipPath>\n",
       "</defs>\n",
       "<path clip-path=\"url(#clip000)\" d=\"M0 1600 L2400 1600 L2400 0 L0 0  Z\" fill=\"#ffffff\" fill-rule=\"evenodd\" fill-opacity=\"1\"/>\n",
       "<defs>\n",
       "  <clipPath id=\"clip001\">\n",
       "    <rect x=\"480\" y=\"0\" width=\"1681\" height=\"1600\"/>\n",
       "  </clipPath>\n",
       "</defs>\n",
       "<path clip-path=\"url(#clip000)\" d=\"M156.598 1486.45 L2352.76 1486.45 L2352.76 47.2441 L156.598 47.2441  Z\" fill=\"#ffffff\" fill-rule=\"evenodd\" fill-opacity=\"1\"/>\n",
       "<defs>\n",
       "  <clipPath id=\"clip002\">\n",
       "    <rect x=\"156\" y=\"47\" width=\"2197\" height=\"1440\"/>\n",
       "  </clipPath>\n",
       "</defs>\n",
       "<polyline clip-path=\"url(#clip002)\" style=\"stroke:#000000; stroke-linecap:round; stroke-linejoin:round; stroke-width:2; stroke-opacity:0.1; fill:none\" points=\"419.034,1486.45 419.034,47.2441 \"/>\n",
       "<polyline clip-path=\"url(#clip002)\" style=\"stroke:#000000; stroke-linecap:round; stroke-linejoin:round; stroke-width:2; stroke-opacity:0.1; fill:none\" points=\"697.582,1486.45 697.582,47.2441 \"/>\n",
       "<polyline clip-path=\"url(#clip002)\" style=\"stroke:#000000; stroke-linecap:round; stroke-linejoin:round; stroke-width:2; stroke-opacity:0.1; fill:none\" points=\"976.129,1486.45 976.129,47.2441 \"/>\n",
       "<polyline clip-path=\"url(#clip002)\" style=\"stroke:#000000; stroke-linecap:round; stroke-linejoin:round; stroke-width:2; stroke-opacity:0.1; fill:none\" points=\"1254.68,1486.45 1254.68,47.2441 \"/>\n",
       "<polyline clip-path=\"url(#clip002)\" style=\"stroke:#000000; stroke-linecap:round; stroke-linejoin:round; stroke-width:2; stroke-opacity:0.1; fill:none\" points=\"1533.22,1486.45 1533.22,47.2441 \"/>\n",
       "<polyline clip-path=\"url(#clip002)\" style=\"stroke:#000000; stroke-linecap:round; stroke-linejoin:round; stroke-width:2; stroke-opacity:0.1; fill:none\" points=\"1811.77,1486.45 1811.77,47.2441 \"/>\n",
       "<polyline clip-path=\"url(#clip002)\" style=\"stroke:#000000; stroke-linecap:round; stroke-linejoin:round; stroke-width:2; stroke-opacity:0.1; fill:none\" points=\"2090.32,1486.45 2090.32,47.2441 \"/>\n",
       "<polyline clip-path=\"url(#clip000)\" style=\"stroke:#000000; stroke-linecap:round; stroke-linejoin:round; stroke-width:4; stroke-opacity:1; fill:none\" points=\"156.598,1486.45 2352.76,1486.45 \"/>\n",
       "<polyline clip-path=\"url(#clip000)\" style=\"stroke:#000000; stroke-linecap:round; stroke-linejoin:round; stroke-width:4; stroke-opacity:1; fill:none\" points=\"419.034,1486.45 419.034,1467.55 \"/>\n",
       "<polyline clip-path=\"url(#clip000)\" style=\"stroke:#000000; stroke-linecap:round; stroke-linejoin:round; stroke-width:4; stroke-opacity:1; fill:none\" points=\"697.582,1486.45 697.582,1467.55 \"/>\n",
       "<polyline clip-path=\"url(#clip000)\" style=\"stroke:#000000; stroke-linecap:round; stroke-linejoin:round; stroke-width:4; stroke-opacity:1; fill:none\" points=\"976.129,1486.45 976.129,1467.55 \"/>\n",
       "<polyline clip-path=\"url(#clip000)\" style=\"stroke:#000000; stroke-linecap:round; stroke-linejoin:round; stroke-width:4; stroke-opacity:1; fill:none\" points=\"1254.68,1486.45 1254.68,1467.55 \"/>\n",
       "<polyline clip-path=\"url(#clip000)\" style=\"stroke:#000000; stroke-linecap:round; stroke-linejoin:round; stroke-width:4; stroke-opacity:1; fill:none\" points=\"1533.22,1486.45 1533.22,1467.55 \"/>\n",
       "<polyline clip-path=\"url(#clip000)\" style=\"stroke:#000000; stroke-linecap:round; stroke-linejoin:round; stroke-width:4; stroke-opacity:1; fill:none\" points=\"1811.77,1486.45 1811.77,1467.55 \"/>\n",
       "<polyline clip-path=\"url(#clip000)\" style=\"stroke:#000000; stroke-linecap:round; stroke-linejoin:round; stroke-width:4; stroke-opacity:1; fill:none\" points=\"2090.32,1486.45 2090.32,1467.55 \"/>\n",
       "<path clip-path=\"url(#clip000)\" d=\"M388.791 1532.02 L418.467 1532.02 L418.467 1535.95 L388.791 1535.95 L388.791 1532.02 Z\" fill=\"#000000\" fill-rule=\"nonzero\" fill-opacity=\"1\" /><path clip-path=\"url(#clip000)\" d=\"M429.37 1544.91 L437.008 1544.91 L437.008 1518.55 L428.698 1520.21 L428.698 1515.95 L436.962 1514.29 L441.638 1514.29 L441.638 1544.91 L449.277 1544.91 L449.277 1548.85 L429.37 1548.85 L429.37 1544.91 Z\" fill=\"#000000\" fill-rule=\"nonzero\" fill-opacity=\"1\" /><path clip-path=\"url(#clip000)\" d=\"M697.582 1517.37 Q693.971 1517.37 692.142 1520.93 Q690.336 1524.47 690.336 1531.6 Q690.336 1538.71 692.142 1542.27 Q693.971 1545.82 697.582 1545.82 Q701.216 1545.82 703.021 1542.27 Q704.85 1538.71 704.85 1531.6 Q704.85 1524.47 703.021 1520.93 Q701.216 1517.37 697.582 1517.37 M697.582 1513.66 Q703.392 1513.66 706.447 1518.27 Q709.526 1522.85 709.526 1531.6 Q709.526 1540.33 706.447 1544.94 Q703.392 1549.52 697.582 1549.52 Q691.772 1549.52 688.693 1544.94 Q685.637 1540.33 685.637 1531.6 Q685.637 1522.85 688.693 1518.27 Q691.772 1513.66 697.582 1513.66 Z\" fill=\"#000000\" fill-rule=\"nonzero\" fill-opacity=\"1\" /><path clip-path=\"url(#clip000)\" d=\"M966.511 1544.91 L974.15 1544.91 L974.15 1518.55 L965.84 1520.21 L965.84 1515.95 L974.104 1514.29 L978.78 1514.29 L978.78 1544.91 L986.419 1544.91 L986.419 1548.85 L966.511 1548.85 L966.511 1544.91 Z\" fill=\"#000000\" fill-rule=\"nonzero\" fill-opacity=\"1\" /><path clip-path=\"url(#clip000)\" d=\"M1249.33 1544.91 L1265.65 1544.91 L1265.65 1548.85 L1243.7 1548.85 L1243.7 1544.91 Q1246.37 1542.16 1250.95 1537.53 Q1255.56 1532.88 1256.74 1531.53 Q1258.98 1529.01 1259.86 1527.27 Q1260.77 1525.51 1260.77 1523.82 Q1260.77 1521.07 1258.82 1519.33 Q1256.9 1517.6 1253.8 1517.6 Q1251.6 1517.6 1249.14 1518.36 Q1246.71 1519.13 1243.94 1520.68 L1243.94 1515.95 Q1246.76 1514.82 1249.21 1514.24 Q1251.67 1513.66 1253.7 1513.66 Q1259.08 1513.66 1262.27 1516.35 Q1265.46 1519.03 1265.46 1523.52 Q1265.46 1525.65 1264.65 1527.57 Q1263.87 1529.47 1261.76 1532.07 Q1261.18 1532.74 1258.08 1535.95 Q1254.98 1539.15 1249.33 1544.91 Z\" fill=\"#000000\" fill-rule=\"nonzero\" fill-opacity=\"1\" /><path clip-path=\"url(#clip000)\" d=\"M1537.47 1530.21 Q1540.83 1530.93 1542.7 1533.2 Q1544.6 1535.47 1544.6 1538.8 Q1544.6 1543.92 1541.08 1546.72 Q1537.57 1549.52 1531.08 1549.52 Q1528.91 1549.52 1526.59 1549.08 Q1524.3 1548.66 1521.85 1547.81 L1521.85 1543.29 Q1523.79 1544.43 1526.11 1545.01 Q1528.42 1545.58 1530.94 1545.58 Q1535.34 1545.58 1537.63 1543.85 Q1539.95 1542.11 1539.95 1538.8 Q1539.95 1535.75 1537.8 1534.03 Q1535.67 1532.3 1531.85 1532.3 L1527.82 1532.3 L1527.82 1528.45 L1532.03 1528.45 Q1535.48 1528.45 1537.31 1527.09 Q1539.14 1525.7 1539.14 1523.11 Q1539.14 1520.45 1537.24 1519.03 Q1535.37 1517.6 1531.85 1517.6 Q1529.93 1517.6 1527.73 1518.01 Q1525.53 1518.43 1522.89 1519.31 L1522.89 1515.14 Q1525.55 1514.4 1527.87 1514.03 Q1530.2 1513.66 1532.26 1513.66 Q1537.59 1513.66 1540.69 1516.09 Q1543.79 1518.5 1543.79 1522.62 Q1543.79 1525.49 1542.15 1527.48 Q1540.5 1529.45 1537.47 1530.21 Z\" fill=\"#000000\" fill-rule=\"nonzero\" fill-opacity=\"1\" /><path clip-path=\"url(#clip000)\" d=\"M1814.78 1518.36 L1802.98 1536.81 L1814.78 1536.81 L1814.78 1518.36 M1813.55 1514.29 L1819.43 1514.29 L1819.43 1536.81 L1824.36 1536.81 L1824.36 1540.7 L1819.43 1540.7 L1819.43 1548.85 L1814.78 1548.85 L1814.78 1540.7 L1799.18 1540.7 L1799.18 1536.19 L1813.55 1514.29 Z\" fill=\"#000000\" fill-rule=\"nonzero\" fill-opacity=\"1\" /><path clip-path=\"url(#clip000)\" d=\"M2080.6 1514.29 L2098.95 1514.29 L2098.95 1518.22 L2084.88 1518.22 L2084.88 1526.7 Q2085.9 1526.35 2086.92 1526.19 Q2087.94 1526 2088.95 1526 Q2094.74 1526 2098.12 1529.17 Q2101.5 1532.34 2101.5 1537.76 Q2101.5 1543.34 2098.03 1546.44 Q2094.56 1549.52 2088.24 1549.52 Q2086.06 1549.52 2083.79 1549.15 Q2081.55 1548.78 2079.14 1548.04 L2079.14 1543.34 Q2081.22 1544.47 2083.45 1545.03 Q2085.67 1545.58 2088.14 1545.58 Q2092.15 1545.58 2094.49 1543.48 Q2096.82 1541.37 2096.82 1537.76 Q2096.82 1534.15 2094.49 1532.04 Q2092.15 1529.94 2088.14 1529.94 Q2086.27 1529.94 2084.39 1530.35 Q2082.54 1530.77 2080.6 1531.65 L2080.6 1514.29 Z\" fill=\"#000000\" fill-rule=\"nonzero\" fill-opacity=\"1\" /><polyline clip-path=\"url(#clip002)\" style=\"stroke:#000000; stroke-linecap:round; stroke-linejoin:round; stroke-width:2; stroke-opacity:0.1; fill:none\" points=\"156.598,1447.06 2352.76,1447.06 \"/>\n",
       "<polyline clip-path=\"url(#clip002)\" style=\"stroke:#000000; stroke-linecap:round; stroke-linejoin:round; stroke-width:2; stroke-opacity:0.1; fill:none\" points=\"156.598,1106.35 2352.76,1106.35 \"/>\n",
       "<polyline clip-path=\"url(#clip002)\" style=\"stroke:#000000; stroke-linecap:round; stroke-linejoin:round; stroke-width:2; stroke-opacity:0.1; fill:none\" points=\"156.598,765.63 2352.76,765.63 \"/>\n",
       "<polyline clip-path=\"url(#clip002)\" style=\"stroke:#000000; stroke-linecap:round; stroke-linejoin:round; stroke-width:2; stroke-opacity:0.1; fill:none\" points=\"156.598,424.912 2352.76,424.912 \"/>\n",
       "<polyline clip-path=\"url(#clip002)\" style=\"stroke:#000000; stroke-linecap:round; stroke-linejoin:round; stroke-width:2; stroke-opacity:0.1; fill:none\" points=\"156.598,84.1949 2352.76,84.1949 \"/>\n",
       "<polyline clip-path=\"url(#clip000)\" style=\"stroke:#000000; stroke-linecap:round; stroke-linejoin:round; stroke-width:4; stroke-opacity:1; fill:none\" points=\"156.598,1486.45 156.598,47.2441 \"/>\n",
       "<polyline clip-path=\"url(#clip000)\" style=\"stroke:#000000; stroke-linecap:round; stroke-linejoin:round; stroke-width:4; stroke-opacity:1; fill:none\" points=\"156.598,1447.06 175.496,1447.06 \"/>\n",
       "<polyline clip-path=\"url(#clip000)\" style=\"stroke:#000000; stroke-linecap:round; stroke-linejoin:round; stroke-width:4; stroke-opacity:1; fill:none\" points=\"156.598,1106.35 175.496,1106.35 \"/>\n",
       "<polyline clip-path=\"url(#clip000)\" style=\"stroke:#000000; stroke-linecap:round; stroke-linejoin:round; stroke-width:4; stroke-opacity:1; fill:none\" points=\"156.598,765.63 175.496,765.63 \"/>\n",
       "<polyline clip-path=\"url(#clip000)\" style=\"stroke:#000000; stroke-linecap:round; stroke-linejoin:round; stroke-width:4; stroke-opacity:1; fill:none\" points=\"156.598,424.912 175.496,424.912 \"/>\n",
       "<polyline clip-path=\"url(#clip000)\" style=\"stroke:#000000; stroke-linecap:round; stroke-linejoin:round; stroke-width:4; stroke-opacity:1; fill:none\" points=\"156.598,84.1949 175.496,84.1949 \"/>\n",
       "<path clip-path=\"url(#clip000)\" d=\"M63.4226 1432.86 Q59.8115 1432.86 57.9828 1436.43 Q56.1773 1439.97 56.1773 1447.1 Q56.1773 1454.21 57.9828 1457.77 Q59.8115 1461.31 63.4226 1461.31 Q67.0569 1461.31 68.8624 1457.77 Q70.6911 1454.21 70.6911 1447.1 Q70.6911 1439.97 68.8624 1436.43 Q67.0569 1432.86 63.4226 1432.86 M63.4226 1429.16 Q69.2328 1429.16 72.2883 1433.77 Q75.367 1438.35 75.367 1447.1 Q75.367 1455.83 72.2883 1460.43 Q69.2328 1465.02 63.4226 1465.02 Q57.6125 1465.02 54.5338 1460.43 Q51.4782 1455.83 51.4782 1447.1 Q51.4782 1438.35 54.5338 1433.77 Q57.6125 1429.16 63.4226 1429.16 Z\" fill=\"#000000\" fill-rule=\"nonzero\" fill-opacity=\"1\" /><path clip-path=\"url(#clip000)\" d=\"M83.5845 1458.46 L88.4688 1458.46 L88.4688 1464.34 L83.5845 1464.34 L83.5845 1458.46 Z\" fill=\"#000000\" fill-rule=\"nonzero\" fill-opacity=\"1\" /><path clip-path=\"url(#clip000)\" d=\"M108.654 1432.86 Q105.043 1432.86 103.214 1436.43 Q101.409 1439.97 101.409 1447.1 Q101.409 1454.21 103.214 1457.77 Q105.043 1461.31 108.654 1461.31 Q112.288 1461.31 114.094 1457.77 Q115.922 1454.21 115.922 1447.1 Q115.922 1439.97 114.094 1436.43 Q112.288 1432.86 108.654 1432.86 M108.654 1429.16 Q114.464 1429.16 117.52 1433.77 Q120.598 1438.35 120.598 1447.1 Q120.598 1455.83 117.52 1460.43 Q114.464 1465.02 108.654 1465.02 Q102.844 1465.02 99.765 1460.43 Q96.7095 1455.83 96.7095 1447.1 Q96.7095 1438.35 99.765 1433.77 Q102.844 1429.16 108.654 1429.16 Z\" fill=\"#000000\" fill-rule=\"nonzero\" fill-opacity=\"1\" /><path clip-path=\"url(#clip000)\" d=\"M64.6495 1092.15 Q61.0384 1092.15 59.2097 1095.71 Q57.4041 1099.25 57.4041 1106.38 Q57.4041 1113.49 59.2097 1117.05 Q61.0384 1120.59 64.6495 1120.59 Q68.2837 1120.59 70.0892 1117.05 Q71.9179 1113.49 71.9179 1106.38 Q71.9179 1099.25 70.0892 1095.71 Q68.2837 1092.15 64.6495 1092.15 M64.6495 1088.44 Q70.4596 1088.44 73.5152 1093.05 Q76.5938 1097.63 76.5938 1106.38 Q76.5938 1115.11 73.5152 1119.72 Q70.4596 1124.3 64.6495 1124.3 Q58.8393 1124.3 55.7606 1119.72 Q52.7051 1115.11 52.7051 1106.38 Q52.7051 1097.63 55.7606 1093.05 Q58.8393 1088.44 64.6495 1088.44 Z\" fill=\"#000000\" fill-rule=\"nonzero\" fill-opacity=\"1\" /><path clip-path=\"url(#clip000)\" d=\"M84.8114 1117.75 L89.6956 1117.75 L89.6956 1123.63 L84.8114 1123.63 L84.8114 1117.75 Z\" fill=\"#000000\" fill-rule=\"nonzero\" fill-opacity=\"1\" /><path clip-path=\"url(#clip000)\" d=\"M100.691 1119.69 L108.33 1119.69 L108.33 1093.33 L100.02 1094.99 L100.02 1090.73 L108.283 1089.07 L112.959 1089.07 L112.959 1119.69 L120.598 1119.69 L120.598 1123.63 L100.691 1123.63 L100.691 1119.69 Z\" fill=\"#000000\" fill-rule=\"nonzero\" fill-opacity=\"1\" /><path clip-path=\"url(#clip000)\" d=\"M65.0198 751.428 Q61.4087 751.428 59.58 754.993 Q57.7745 758.535 57.7745 765.664 Q57.7745 772.771 59.58 776.336 Q61.4087 779.877 65.0198 779.877 Q68.6541 779.877 70.4596 776.336 Q72.2883 772.771 72.2883 765.664 Q72.2883 758.535 70.4596 754.993 Q68.6541 751.428 65.0198 751.428 M65.0198 747.725 Q70.83 747.725 73.8855 752.331 Q76.9642 756.914 76.9642 765.664 Q76.9642 774.391 73.8855 778.998 Q70.83 783.581 65.0198 783.581 Q59.2097 783.581 56.131 778.998 Q53.0754 774.391 53.0754 765.664 Q53.0754 756.914 56.131 752.331 Q59.2097 747.725 65.0198 747.725 Z\" fill=\"#000000\" fill-rule=\"nonzero\" fill-opacity=\"1\" /><path clip-path=\"url(#clip000)\" d=\"M85.1818 777.03 L90.066 777.03 L90.066 782.91 L85.1818 782.91 L85.1818 777.03 Z\" fill=\"#000000\" fill-rule=\"nonzero\" fill-opacity=\"1\" /><path clip-path=\"url(#clip000)\" d=\"M104.279 778.974 L120.598 778.974 L120.598 782.91 L98.6539 782.91 L98.6539 778.974 Q101.316 776.22 105.899 771.59 Q110.506 766.938 111.686 765.595 Q113.932 763.072 114.811 761.336 Q115.714 759.576 115.714 757.887 Q115.714 755.132 113.77 753.396 Q111.848 751.66 108.746 751.66 Q106.547 751.66 104.094 752.424 Q101.663 753.188 98.8854 754.739 L98.8854 750.016 Q101.709 748.882 104.163 748.303 Q106.617 747.725 108.654 747.725 Q114.024 747.725 117.219 750.41 Q120.413 753.095 120.413 757.586 Q120.413 759.715 119.603 761.637 Q118.816 763.535 116.709 766.127 Q116.131 766.799 113.029 770.016 Q109.927 773.211 104.279 778.974 Z\" fill=\"#000000\" fill-rule=\"nonzero\" fill-opacity=\"1\" /><path clip-path=\"url(#clip000)\" d=\"M64.0708 410.711 Q60.4597 410.711 58.631 414.276 Q56.8254 417.817 56.8254 424.947 Q56.8254 432.053 58.631 435.618 Q60.4597 439.16 64.0708 439.16 Q67.705 439.16 69.5105 435.618 Q71.3392 432.053 71.3392 424.947 Q71.3392 417.817 69.5105 414.276 Q67.705 410.711 64.0708 410.711 M64.0708 407.007 Q69.8809 407.007 72.9365 411.614 Q76.0151 416.197 76.0151 424.947 Q76.0151 433.674 72.9365 438.28 Q69.8809 442.864 64.0708 442.864 Q58.2606 442.864 55.1819 438.28 Q52.1264 433.674 52.1264 424.947 Q52.1264 416.197 55.1819 411.614 Q58.2606 407.007 64.0708 407.007 Z\" fill=\"#000000\" fill-rule=\"nonzero\" fill-opacity=\"1\" /><path clip-path=\"url(#clip000)\" d=\"M84.2327 436.313 L89.1169 436.313 L89.1169 442.192 L84.2327 442.192 L84.2327 436.313 Z\" fill=\"#000000\" fill-rule=\"nonzero\" fill-opacity=\"1\" /><path clip-path=\"url(#clip000)\" d=\"M113.469 423.558 Q116.825 424.276 118.7 426.544 Q120.598 428.813 120.598 432.146 Q120.598 437.262 117.08 440.063 Q113.561 442.864 107.08 442.864 Q104.904 442.864 102.589 442.424 Q100.297 442.007 97.8437 441.151 L97.8437 436.637 Q99.7882 437.771 102.103 438.35 Q104.418 438.928 106.941 438.928 Q111.339 438.928 113.631 437.192 Q115.945 435.456 115.945 432.146 Q115.945 429.09 113.793 427.378 Q111.663 425.641 107.844 425.641 L103.816 425.641 L103.816 421.799 L108.029 421.799 Q111.478 421.799 113.307 420.433 Q115.135 419.044 115.135 416.452 Q115.135 413.79 113.237 412.378 Q111.362 410.942 107.844 410.942 Q105.922 410.942 103.723 411.359 Q101.524 411.776 98.8854 412.655 L98.8854 408.489 Q101.547 407.748 103.862 407.378 Q106.2 407.007 108.26 407.007 Q113.584 407.007 116.686 409.438 Q119.788 411.845 119.788 415.966 Q119.788 418.836 118.145 420.827 Q116.501 422.794 113.469 423.558 Z\" fill=\"#000000\" fill-rule=\"nonzero\" fill-opacity=\"1\" /><path clip-path=\"url(#clip000)\" d=\"M62.9365 69.9936 Q59.3254 69.9936 57.4967 73.5584 Q55.6912 77.1 55.6912 84.2296 Q55.6912 91.3361 57.4967 94.9009 Q59.3254 98.4425 62.9365 98.4425 Q66.5707 98.4425 68.3763 94.9009 Q70.205 91.3361 70.205 84.2296 Q70.205 77.1 68.3763 73.5584 Q66.5707 69.9936 62.9365 69.9936 M62.9365 66.2899 Q68.7467 66.2899 71.8022 70.8964 Q74.8809 75.4797 74.8809 84.2296 Q74.8809 92.9564 71.8022 97.5629 Q68.7467 102.146 62.9365 102.146 Q57.1264 102.146 54.0477 97.5629 Q50.9921 92.9564 50.9921 84.2296 Q50.9921 75.4797 54.0477 70.8964 Q57.1264 66.2899 62.9365 66.2899 Z\" fill=\"#000000\" fill-rule=\"nonzero\" fill-opacity=\"1\" /><path clip-path=\"url(#clip000)\" d=\"M83.0984 95.5953 L87.9827 95.5953 L87.9827 101.475 L83.0984 101.475 L83.0984 95.5953 Z\" fill=\"#000000\" fill-rule=\"nonzero\" fill-opacity=\"1\" /><path clip-path=\"url(#clip000)\" d=\"M111.015 70.9889 L99.2095 89.4379 L111.015 89.4379 L111.015 70.9889 M109.788 66.9149 L115.668 66.9149 L115.668 89.4379 L120.598 89.4379 L120.598 93.3268 L115.668 93.3268 L115.668 101.475 L111.015 101.475 L111.015 93.3268 L95.4132 93.3268 L95.4132 88.8129 L109.788 66.9149 Z\" fill=\"#000000\" fill-rule=\"nonzero\" fill-opacity=\"1\" /><polyline clip-path=\"url(#clip002)\" style=\"stroke:#009af9; stroke-linecap:round; stroke-linejoin:round; stroke-width:4; stroke-opacity:1; fill:none\" points=\"218.754,1445.72 225.498,1445.59 232.242,1445.45 294.604,1443.49 356.966,1439.52 394.443,1435.52 431.92,1429.73 463.607,1422.97 495.293,1414 512.503,1408.01 529.713,1401.1 546.923,1393.19 564.133,1384.15 579.999,1374.73 595.866,1364.16 611.732,1352.36 627.598,1339.22 644.608,1323.56 661.618,1306.15 678.629,1286.88 695.639,1265.66 715.347,1238.51 735.055,1208.48 754.763,1175.5 774.471,1139.5 791.985,1104.97 809.499,1068.05 827.013,1028.82 844.528,987.337 859.886,949.213 875.244,909.564 890.603,868.52 905.961,826.231 939.45,730.584 972.94,632.068 1006.63,532.729 1040.32,436.176 1049.63,410.412 1058.94,385.178 1068.25,360.545 1077.56,336.582 1086.88,313.359 1096.19,290.942 1105.5,269.4 1114.81,248.795 1123.67,230.119 1132.53,212.402 1141.39,195.694 1150.25,180.041 1159.11,165.491 1167.97,152.084 1176.83,139.86 1185.69,128.855 1194.9,118.74 1204.11,110.01 1213.33,102.694 1222.54,96.8164 1231.75,92.3952 1240.96,89.4453 1250.17,87.9763 1259.39,87.993 1267.14,89.159 1274.9,91.3751 1282.65,94.6361 1290.41,98.9347 1298.16,104.261 1305.92,110.602 1313.67,117.944 1321.42,126.269 1330.89,137.74 1340.36,150.609 1349.83,164.834 1359.3,180.367 1368.76,197.157 1378.23,215.149 1387.7,234.283 1397.17,254.498 1414.51,294.127 1431.86,336.752 1440.53,359.053 1449.2,381.94 1457.88,405.355 1466.55,429.243 1498.59,520.66 1530.63,614.95 1563.09,710.683 1595.54,804.19 1613.73,854.821 1631.92,903.785 1650.1,950.822 1668.29,995.714 1684.77,1034.4 1701.25,1071.09 1717.73,1105.71 1734.21,1138.23 1753.08,1172.85 1771.95,1204.71 1790.82,1233.85 1809.69,1260.34 1827.16,1282.6 1844.63,1302.78 1862.1,1320.97 1879.57,1337.31 1896.8,1351.71 1914.02,1364.53 1931.25,1375.91 1948.47,1385.95 1965.19,1394.53 1981.92,1402.07 1998.64,1408.67 2015.36,1414.42 2049.65,1423.91 2083.94,1430.89 2121.5,1436.34 2159.07,1440.08 2213.64,1443.44 2268.21,1445.25 2279.41,1445.5 2290.6,1445.72 \"/>\n",
       "<path clip-path=\"url(#clip000)\" d=\"M2007.5 198.898 L2279.55 198.898 L2279.55 95.2176 L2007.5 95.2176  Z\" fill=\"#ffffff\" fill-rule=\"evenodd\" fill-opacity=\"1\"/>\n",
       "<polyline clip-path=\"url(#clip000)\" style=\"stroke:#000000; stroke-linecap:round; stroke-linejoin:round; stroke-width:4; stroke-opacity:1; fill:none\" points=\"2007.5,198.898 2279.55,198.898 2279.55,95.2176 2007.5,95.2176 2007.5,198.898 \"/>\n",
       "<polyline clip-path=\"url(#clip000)\" style=\"stroke:#009af9; stroke-linecap:round; stroke-linejoin:round; stroke-width:4; stroke-opacity:1; fill:none\" points=\"2031.91,147.058 2178.32,147.058 \"/>\n",
       "<path clip-path=\"url(#clip000)\" d=\"M2216.56 166.745 Q2214.76 171.375 2213.04 172.787 Q2211.33 174.199 2208.46 174.199 L2205.06 174.199 L2205.06 170.634 L2207.56 170.634 Q2209.32 170.634 2210.29 169.8 Q2211.26 168.967 2212.44 165.865 L2213.2 163.921 L2202.72 138.412 L2207.23 138.412 L2215.33 158.689 L2223.44 138.412 L2227.95 138.412 L2216.56 166.745 Z\" fill=\"#000000\" fill-rule=\"nonzero\" fill-opacity=\"1\" /><path clip-path=\"url(#clip000)\" d=\"M2235.24 160.402 L2242.88 160.402 L2242.88 134.037 L2234.57 135.703 L2234.57 131.444 L2242.83 129.778 L2247.51 129.778 L2247.51 160.402 L2255.15 160.402 L2255.15 164.338 L2235.24 164.338 L2235.24 160.402 Z\" fill=\"#000000\" fill-rule=\"nonzero\" fill-opacity=\"1\" /></svg>\n"
      ],
      "text/html": [
       "<?xml version=\"1.0\" encoding=\"utf-8\"?>\n",
       "<svg xmlns=\"http://www.w3.org/2000/svg\" xmlns:xlink=\"http://www.w3.org/1999/xlink\" width=\"600\" height=\"400\" viewBox=\"0 0 2400 1600\">\n",
       "<defs>\n",
       "  <clipPath id=\"clip050\">\n",
       "    <rect x=\"0\" y=\"0\" width=\"2400\" height=\"1600\"/>\n",
       "  </clipPath>\n",
       "</defs>\n",
       "<path clip-path=\"url(#clip050)\" d=\"M0 1600 L2400 1600 L2400 0 L0 0  Z\" fill=\"#ffffff\" fill-rule=\"evenodd\" fill-opacity=\"1\"/>\n",
       "<defs>\n",
       "  <clipPath id=\"clip051\">\n",
       "    <rect x=\"480\" y=\"0\" width=\"1681\" height=\"1600\"/>\n",
       "  </clipPath>\n",
       "</defs>\n",
       "<path clip-path=\"url(#clip050)\" d=\"M156.598 1486.45 L2352.76 1486.45 L2352.76 47.2441 L156.598 47.2441  Z\" fill=\"#ffffff\" fill-rule=\"evenodd\" fill-opacity=\"1\"/>\n",
       "<defs>\n",
       "  <clipPath id=\"clip052\">\n",
       "    <rect x=\"156\" y=\"47\" width=\"2197\" height=\"1440\"/>\n",
       "  </clipPath>\n",
       "</defs>\n",
       "<polyline clip-path=\"url(#clip052)\" style=\"stroke:#000000; stroke-linecap:round; stroke-linejoin:round; stroke-width:2; stroke-opacity:0.1; fill:none\" points=\"419.034,1486.45 419.034,47.2441 \"/>\n",
       "<polyline clip-path=\"url(#clip052)\" style=\"stroke:#000000; stroke-linecap:round; stroke-linejoin:round; stroke-width:2; stroke-opacity:0.1; fill:none\" points=\"697.582,1486.45 697.582,47.2441 \"/>\n",
       "<polyline clip-path=\"url(#clip052)\" style=\"stroke:#000000; stroke-linecap:round; stroke-linejoin:round; stroke-width:2; stroke-opacity:0.1; fill:none\" points=\"976.129,1486.45 976.129,47.2441 \"/>\n",
       "<polyline clip-path=\"url(#clip052)\" style=\"stroke:#000000; stroke-linecap:round; stroke-linejoin:round; stroke-width:2; stroke-opacity:0.1; fill:none\" points=\"1254.68,1486.45 1254.68,47.2441 \"/>\n",
       "<polyline clip-path=\"url(#clip052)\" style=\"stroke:#000000; stroke-linecap:round; stroke-linejoin:round; stroke-width:2; stroke-opacity:0.1; fill:none\" points=\"1533.22,1486.45 1533.22,47.2441 \"/>\n",
       "<polyline clip-path=\"url(#clip052)\" style=\"stroke:#000000; stroke-linecap:round; stroke-linejoin:round; stroke-width:2; stroke-opacity:0.1; fill:none\" points=\"1811.77,1486.45 1811.77,47.2441 \"/>\n",
       "<polyline clip-path=\"url(#clip052)\" style=\"stroke:#000000; stroke-linecap:round; stroke-linejoin:round; stroke-width:2; stroke-opacity:0.1; fill:none\" points=\"2090.32,1486.45 2090.32,47.2441 \"/>\n",
       "<polyline clip-path=\"url(#clip050)\" style=\"stroke:#000000; stroke-linecap:round; stroke-linejoin:round; stroke-width:4; stroke-opacity:1; fill:none\" points=\"156.598,1486.45 2352.76,1486.45 \"/>\n",
       "<polyline clip-path=\"url(#clip050)\" style=\"stroke:#000000; stroke-linecap:round; stroke-linejoin:round; stroke-width:4; stroke-opacity:1; fill:none\" points=\"419.034,1486.45 419.034,1467.55 \"/>\n",
       "<polyline clip-path=\"url(#clip050)\" style=\"stroke:#000000; stroke-linecap:round; stroke-linejoin:round; stroke-width:4; stroke-opacity:1; fill:none\" points=\"697.582,1486.45 697.582,1467.55 \"/>\n",
       "<polyline clip-path=\"url(#clip050)\" style=\"stroke:#000000; stroke-linecap:round; stroke-linejoin:round; stroke-width:4; stroke-opacity:1; fill:none\" points=\"976.129,1486.45 976.129,1467.55 \"/>\n",
       "<polyline clip-path=\"url(#clip050)\" style=\"stroke:#000000; stroke-linecap:round; stroke-linejoin:round; stroke-width:4; stroke-opacity:1; fill:none\" points=\"1254.68,1486.45 1254.68,1467.55 \"/>\n",
       "<polyline clip-path=\"url(#clip050)\" style=\"stroke:#000000; stroke-linecap:round; stroke-linejoin:round; stroke-width:4; stroke-opacity:1; fill:none\" points=\"1533.22,1486.45 1533.22,1467.55 \"/>\n",
       "<polyline clip-path=\"url(#clip050)\" style=\"stroke:#000000; stroke-linecap:round; stroke-linejoin:round; stroke-width:4; stroke-opacity:1; fill:none\" points=\"1811.77,1486.45 1811.77,1467.55 \"/>\n",
       "<polyline clip-path=\"url(#clip050)\" style=\"stroke:#000000; stroke-linecap:round; stroke-linejoin:round; stroke-width:4; stroke-opacity:1; fill:none\" points=\"2090.32,1486.45 2090.32,1467.55 \"/>\n",
       "<path clip-path=\"url(#clip050)\" d=\"M388.791 1532.02 L418.467 1532.02 L418.467 1535.95 L388.791 1535.95 L388.791 1532.02 Z\" fill=\"#000000\" fill-rule=\"nonzero\" fill-opacity=\"1\" /><path clip-path=\"url(#clip050)\" d=\"M429.37 1544.91 L437.008 1544.91 L437.008 1518.55 L428.698 1520.21 L428.698 1515.95 L436.962 1514.29 L441.638 1514.29 L441.638 1544.91 L449.277 1544.91 L449.277 1548.85 L429.37 1548.85 L429.37 1544.91 Z\" fill=\"#000000\" fill-rule=\"nonzero\" fill-opacity=\"1\" /><path clip-path=\"url(#clip050)\" d=\"M697.582 1517.37 Q693.971 1517.37 692.142 1520.93 Q690.336 1524.47 690.336 1531.6 Q690.336 1538.71 692.142 1542.27 Q693.971 1545.82 697.582 1545.82 Q701.216 1545.82 703.021 1542.27 Q704.85 1538.71 704.85 1531.6 Q704.85 1524.47 703.021 1520.93 Q701.216 1517.37 697.582 1517.37 M697.582 1513.66 Q703.392 1513.66 706.447 1518.27 Q709.526 1522.85 709.526 1531.6 Q709.526 1540.33 706.447 1544.94 Q703.392 1549.52 697.582 1549.52 Q691.772 1549.52 688.693 1544.94 Q685.637 1540.33 685.637 1531.6 Q685.637 1522.85 688.693 1518.27 Q691.772 1513.66 697.582 1513.66 Z\" fill=\"#000000\" fill-rule=\"nonzero\" fill-opacity=\"1\" /><path clip-path=\"url(#clip050)\" d=\"M966.511 1544.91 L974.15 1544.91 L974.15 1518.55 L965.84 1520.21 L965.84 1515.95 L974.104 1514.29 L978.78 1514.29 L978.78 1544.91 L986.419 1544.91 L986.419 1548.85 L966.511 1548.85 L966.511 1544.91 Z\" fill=\"#000000\" fill-rule=\"nonzero\" fill-opacity=\"1\" /><path clip-path=\"url(#clip050)\" d=\"M1249.33 1544.91 L1265.65 1544.91 L1265.65 1548.85 L1243.7 1548.85 L1243.7 1544.91 Q1246.37 1542.16 1250.95 1537.53 Q1255.56 1532.88 1256.74 1531.53 Q1258.98 1529.01 1259.86 1527.27 Q1260.77 1525.51 1260.77 1523.82 Q1260.77 1521.07 1258.82 1519.33 Q1256.9 1517.6 1253.8 1517.6 Q1251.6 1517.6 1249.14 1518.36 Q1246.71 1519.13 1243.94 1520.68 L1243.94 1515.95 Q1246.76 1514.82 1249.21 1514.24 Q1251.67 1513.66 1253.7 1513.66 Q1259.08 1513.66 1262.27 1516.35 Q1265.46 1519.03 1265.46 1523.52 Q1265.46 1525.65 1264.65 1527.57 Q1263.87 1529.47 1261.76 1532.07 Q1261.18 1532.74 1258.08 1535.95 Q1254.98 1539.15 1249.33 1544.91 Z\" fill=\"#000000\" fill-rule=\"nonzero\" fill-opacity=\"1\" /><path clip-path=\"url(#clip050)\" d=\"M1537.47 1530.21 Q1540.83 1530.93 1542.7 1533.2 Q1544.6 1535.47 1544.6 1538.8 Q1544.6 1543.92 1541.08 1546.72 Q1537.57 1549.52 1531.08 1549.52 Q1528.91 1549.52 1526.59 1549.08 Q1524.3 1548.66 1521.85 1547.81 L1521.85 1543.29 Q1523.79 1544.43 1526.11 1545.01 Q1528.42 1545.58 1530.94 1545.58 Q1535.34 1545.58 1537.63 1543.85 Q1539.95 1542.11 1539.95 1538.8 Q1539.95 1535.75 1537.8 1534.03 Q1535.67 1532.3 1531.85 1532.3 L1527.82 1532.3 L1527.82 1528.45 L1532.03 1528.45 Q1535.48 1528.45 1537.31 1527.09 Q1539.14 1525.7 1539.14 1523.11 Q1539.14 1520.45 1537.24 1519.03 Q1535.37 1517.6 1531.85 1517.6 Q1529.93 1517.6 1527.73 1518.01 Q1525.53 1518.43 1522.89 1519.31 L1522.89 1515.14 Q1525.55 1514.4 1527.87 1514.03 Q1530.2 1513.66 1532.26 1513.66 Q1537.59 1513.66 1540.69 1516.09 Q1543.79 1518.5 1543.79 1522.62 Q1543.79 1525.49 1542.15 1527.48 Q1540.5 1529.45 1537.47 1530.21 Z\" fill=\"#000000\" fill-rule=\"nonzero\" fill-opacity=\"1\" /><path clip-path=\"url(#clip050)\" d=\"M1814.78 1518.36 L1802.98 1536.81 L1814.78 1536.81 L1814.78 1518.36 M1813.55 1514.29 L1819.43 1514.29 L1819.43 1536.81 L1824.36 1536.81 L1824.36 1540.7 L1819.43 1540.7 L1819.43 1548.85 L1814.78 1548.85 L1814.78 1540.7 L1799.18 1540.7 L1799.18 1536.19 L1813.55 1514.29 Z\" fill=\"#000000\" fill-rule=\"nonzero\" fill-opacity=\"1\" /><path clip-path=\"url(#clip050)\" d=\"M2080.6 1514.29 L2098.95 1514.29 L2098.95 1518.22 L2084.88 1518.22 L2084.88 1526.7 Q2085.9 1526.35 2086.92 1526.19 Q2087.94 1526 2088.95 1526 Q2094.74 1526 2098.12 1529.17 Q2101.5 1532.34 2101.5 1537.76 Q2101.5 1543.34 2098.03 1546.44 Q2094.56 1549.52 2088.24 1549.52 Q2086.06 1549.52 2083.79 1549.15 Q2081.55 1548.78 2079.14 1548.04 L2079.14 1543.34 Q2081.22 1544.47 2083.45 1545.03 Q2085.67 1545.58 2088.14 1545.58 Q2092.15 1545.58 2094.49 1543.48 Q2096.82 1541.37 2096.82 1537.76 Q2096.82 1534.15 2094.49 1532.04 Q2092.15 1529.94 2088.14 1529.94 Q2086.27 1529.94 2084.39 1530.35 Q2082.54 1530.77 2080.6 1531.65 L2080.6 1514.29 Z\" fill=\"#000000\" fill-rule=\"nonzero\" fill-opacity=\"1\" /><polyline clip-path=\"url(#clip052)\" style=\"stroke:#000000; stroke-linecap:round; stroke-linejoin:round; stroke-width:2; stroke-opacity:0.1; fill:none\" points=\"156.598,1447.06 2352.76,1447.06 \"/>\n",
       "<polyline clip-path=\"url(#clip052)\" style=\"stroke:#000000; stroke-linecap:round; stroke-linejoin:round; stroke-width:2; stroke-opacity:0.1; fill:none\" points=\"156.598,1106.35 2352.76,1106.35 \"/>\n",
       "<polyline clip-path=\"url(#clip052)\" style=\"stroke:#000000; stroke-linecap:round; stroke-linejoin:round; stroke-width:2; stroke-opacity:0.1; fill:none\" points=\"156.598,765.63 2352.76,765.63 \"/>\n",
       "<polyline clip-path=\"url(#clip052)\" style=\"stroke:#000000; stroke-linecap:round; stroke-linejoin:round; stroke-width:2; stroke-opacity:0.1; fill:none\" points=\"156.598,424.912 2352.76,424.912 \"/>\n",
       "<polyline clip-path=\"url(#clip052)\" style=\"stroke:#000000; stroke-linecap:round; stroke-linejoin:round; stroke-width:2; stroke-opacity:0.1; fill:none\" points=\"156.598,84.1949 2352.76,84.1949 \"/>\n",
       "<polyline clip-path=\"url(#clip050)\" style=\"stroke:#000000; stroke-linecap:round; stroke-linejoin:round; stroke-width:4; stroke-opacity:1; fill:none\" points=\"156.598,1486.45 156.598,47.2441 \"/>\n",
       "<polyline clip-path=\"url(#clip050)\" style=\"stroke:#000000; stroke-linecap:round; stroke-linejoin:round; stroke-width:4; stroke-opacity:1; fill:none\" points=\"156.598,1447.06 175.496,1447.06 \"/>\n",
       "<polyline clip-path=\"url(#clip050)\" style=\"stroke:#000000; stroke-linecap:round; stroke-linejoin:round; stroke-width:4; stroke-opacity:1; fill:none\" points=\"156.598,1106.35 175.496,1106.35 \"/>\n",
       "<polyline clip-path=\"url(#clip050)\" style=\"stroke:#000000; stroke-linecap:round; stroke-linejoin:round; stroke-width:4; stroke-opacity:1; fill:none\" points=\"156.598,765.63 175.496,765.63 \"/>\n",
       "<polyline clip-path=\"url(#clip050)\" style=\"stroke:#000000; stroke-linecap:round; stroke-linejoin:round; stroke-width:4; stroke-opacity:1; fill:none\" points=\"156.598,424.912 175.496,424.912 \"/>\n",
       "<polyline clip-path=\"url(#clip050)\" style=\"stroke:#000000; stroke-linecap:round; stroke-linejoin:round; stroke-width:4; stroke-opacity:1; fill:none\" points=\"156.598,84.1949 175.496,84.1949 \"/>\n",
       "<path clip-path=\"url(#clip050)\" d=\"M63.4226 1432.86 Q59.8115 1432.86 57.9828 1436.43 Q56.1773 1439.97 56.1773 1447.1 Q56.1773 1454.21 57.9828 1457.77 Q59.8115 1461.31 63.4226 1461.31 Q67.0569 1461.31 68.8624 1457.77 Q70.6911 1454.21 70.6911 1447.1 Q70.6911 1439.97 68.8624 1436.43 Q67.0569 1432.86 63.4226 1432.86 M63.4226 1429.16 Q69.2328 1429.16 72.2883 1433.77 Q75.367 1438.35 75.367 1447.1 Q75.367 1455.83 72.2883 1460.43 Q69.2328 1465.02 63.4226 1465.02 Q57.6125 1465.02 54.5338 1460.43 Q51.4782 1455.83 51.4782 1447.1 Q51.4782 1438.35 54.5338 1433.77 Q57.6125 1429.16 63.4226 1429.16 Z\" fill=\"#000000\" fill-rule=\"nonzero\" fill-opacity=\"1\" /><path clip-path=\"url(#clip050)\" d=\"M83.5845 1458.46 L88.4688 1458.46 L88.4688 1464.34 L83.5845 1464.34 L83.5845 1458.46 Z\" fill=\"#000000\" fill-rule=\"nonzero\" fill-opacity=\"1\" /><path clip-path=\"url(#clip050)\" d=\"M108.654 1432.86 Q105.043 1432.86 103.214 1436.43 Q101.409 1439.97 101.409 1447.1 Q101.409 1454.21 103.214 1457.77 Q105.043 1461.31 108.654 1461.31 Q112.288 1461.31 114.094 1457.77 Q115.922 1454.21 115.922 1447.1 Q115.922 1439.97 114.094 1436.43 Q112.288 1432.86 108.654 1432.86 M108.654 1429.16 Q114.464 1429.16 117.52 1433.77 Q120.598 1438.35 120.598 1447.1 Q120.598 1455.83 117.52 1460.43 Q114.464 1465.02 108.654 1465.02 Q102.844 1465.02 99.765 1460.43 Q96.7095 1455.83 96.7095 1447.1 Q96.7095 1438.35 99.765 1433.77 Q102.844 1429.16 108.654 1429.16 Z\" fill=\"#000000\" fill-rule=\"nonzero\" fill-opacity=\"1\" /><path clip-path=\"url(#clip050)\" d=\"M64.6495 1092.15 Q61.0384 1092.15 59.2097 1095.71 Q57.4041 1099.25 57.4041 1106.38 Q57.4041 1113.49 59.2097 1117.05 Q61.0384 1120.59 64.6495 1120.59 Q68.2837 1120.59 70.0892 1117.05 Q71.9179 1113.49 71.9179 1106.38 Q71.9179 1099.25 70.0892 1095.71 Q68.2837 1092.15 64.6495 1092.15 M64.6495 1088.44 Q70.4596 1088.44 73.5152 1093.05 Q76.5938 1097.63 76.5938 1106.38 Q76.5938 1115.11 73.5152 1119.72 Q70.4596 1124.3 64.6495 1124.3 Q58.8393 1124.3 55.7606 1119.72 Q52.7051 1115.11 52.7051 1106.38 Q52.7051 1097.63 55.7606 1093.05 Q58.8393 1088.44 64.6495 1088.44 Z\" fill=\"#000000\" fill-rule=\"nonzero\" fill-opacity=\"1\" /><path clip-path=\"url(#clip050)\" d=\"M84.8114 1117.75 L89.6956 1117.75 L89.6956 1123.63 L84.8114 1123.63 L84.8114 1117.75 Z\" fill=\"#000000\" fill-rule=\"nonzero\" fill-opacity=\"1\" /><path clip-path=\"url(#clip050)\" d=\"M100.691 1119.69 L108.33 1119.69 L108.33 1093.33 L100.02 1094.99 L100.02 1090.73 L108.283 1089.07 L112.959 1089.07 L112.959 1119.69 L120.598 1119.69 L120.598 1123.63 L100.691 1123.63 L100.691 1119.69 Z\" fill=\"#000000\" fill-rule=\"nonzero\" fill-opacity=\"1\" /><path clip-path=\"url(#clip050)\" d=\"M65.0198 751.428 Q61.4087 751.428 59.58 754.993 Q57.7745 758.535 57.7745 765.664 Q57.7745 772.771 59.58 776.336 Q61.4087 779.877 65.0198 779.877 Q68.6541 779.877 70.4596 776.336 Q72.2883 772.771 72.2883 765.664 Q72.2883 758.535 70.4596 754.993 Q68.6541 751.428 65.0198 751.428 M65.0198 747.725 Q70.83 747.725 73.8855 752.331 Q76.9642 756.914 76.9642 765.664 Q76.9642 774.391 73.8855 778.998 Q70.83 783.581 65.0198 783.581 Q59.2097 783.581 56.131 778.998 Q53.0754 774.391 53.0754 765.664 Q53.0754 756.914 56.131 752.331 Q59.2097 747.725 65.0198 747.725 Z\" fill=\"#000000\" fill-rule=\"nonzero\" fill-opacity=\"1\" /><path clip-path=\"url(#clip050)\" d=\"M85.1818 777.03 L90.066 777.03 L90.066 782.91 L85.1818 782.91 L85.1818 777.03 Z\" fill=\"#000000\" fill-rule=\"nonzero\" fill-opacity=\"1\" /><path clip-path=\"url(#clip050)\" d=\"M104.279 778.974 L120.598 778.974 L120.598 782.91 L98.6539 782.91 L98.6539 778.974 Q101.316 776.22 105.899 771.59 Q110.506 766.938 111.686 765.595 Q113.932 763.072 114.811 761.336 Q115.714 759.576 115.714 757.887 Q115.714 755.132 113.77 753.396 Q111.848 751.66 108.746 751.66 Q106.547 751.66 104.094 752.424 Q101.663 753.188 98.8854 754.739 L98.8854 750.016 Q101.709 748.882 104.163 748.303 Q106.617 747.725 108.654 747.725 Q114.024 747.725 117.219 750.41 Q120.413 753.095 120.413 757.586 Q120.413 759.715 119.603 761.637 Q118.816 763.535 116.709 766.127 Q116.131 766.799 113.029 770.016 Q109.927 773.211 104.279 778.974 Z\" fill=\"#000000\" fill-rule=\"nonzero\" fill-opacity=\"1\" /><path clip-path=\"url(#clip050)\" d=\"M64.0708 410.711 Q60.4597 410.711 58.631 414.276 Q56.8254 417.817 56.8254 424.947 Q56.8254 432.053 58.631 435.618 Q60.4597 439.16 64.0708 439.16 Q67.705 439.16 69.5105 435.618 Q71.3392 432.053 71.3392 424.947 Q71.3392 417.817 69.5105 414.276 Q67.705 410.711 64.0708 410.711 M64.0708 407.007 Q69.8809 407.007 72.9365 411.614 Q76.0151 416.197 76.0151 424.947 Q76.0151 433.674 72.9365 438.28 Q69.8809 442.864 64.0708 442.864 Q58.2606 442.864 55.1819 438.28 Q52.1264 433.674 52.1264 424.947 Q52.1264 416.197 55.1819 411.614 Q58.2606 407.007 64.0708 407.007 Z\" fill=\"#000000\" fill-rule=\"nonzero\" fill-opacity=\"1\" /><path clip-path=\"url(#clip050)\" d=\"M84.2327 436.313 L89.1169 436.313 L89.1169 442.192 L84.2327 442.192 L84.2327 436.313 Z\" fill=\"#000000\" fill-rule=\"nonzero\" fill-opacity=\"1\" /><path clip-path=\"url(#clip050)\" d=\"M113.469 423.558 Q116.825 424.276 118.7 426.544 Q120.598 428.813 120.598 432.146 Q120.598 437.262 117.08 440.063 Q113.561 442.864 107.08 442.864 Q104.904 442.864 102.589 442.424 Q100.297 442.007 97.8437 441.151 L97.8437 436.637 Q99.7882 437.771 102.103 438.35 Q104.418 438.928 106.941 438.928 Q111.339 438.928 113.631 437.192 Q115.945 435.456 115.945 432.146 Q115.945 429.09 113.793 427.378 Q111.663 425.641 107.844 425.641 L103.816 425.641 L103.816 421.799 L108.029 421.799 Q111.478 421.799 113.307 420.433 Q115.135 419.044 115.135 416.452 Q115.135 413.79 113.237 412.378 Q111.362 410.942 107.844 410.942 Q105.922 410.942 103.723 411.359 Q101.524 411.776 98.8854 412.655 L98.8854 408.489 Q101.547 407.748 103.862 407.378 Q106.2 407.007 108.26 407.007 Q113.584 407.007 116.686 409.438 Q119.788 411.845 119.788 415.966 Q119.788 418.836 118.145 420.827 Q116.501 422.794 113.469 423.558 Z\" fill=\"#000000\" fill-rule=\"nonzero\" fill-opacity=\"1\" /><path clip-path=\"url(#clip050)\" d=\"M62.9365 69.9936 Q59.3254 69.9936 57.4967 73.5584 Q55.6912 77.1 55.6912 84.2296 Q55.6912 91.3361 57.4967 94.9009 Q59.3254 98.4425 62.9365 98.4425 Q66.5707 98.4425 68.3763 94.9009 Q70.205 91.3361 70.205 84.2296 Q70.205 77.1 68.3763 73.5584 Q66.5707 69.9936 62.9365 69.9936 M62.9365 66.2899 Q68.7467 66.2899 71.8022 70.8964 Q74.8809 75.4797 74.8809 84.2296 Q74.8809 92.9564 71.8022 97.5629 Q68.7467 102.146 62.9365 102.146 Q57.1264 102.146 54.0477 97.5629 Q50.9921 92.9564 50.9921 84.2296 Q50.9921 75.4797 54.0477 70.8964 Q57.1264 66.2899 62.9365 66.2899 Z\" fill=\"#000000\" fill-rule=\"nonzero\" fill-opacity=\"1\" /><path clip-path=\"url(#clip050)\" d=\"M83.0984 95.5953 L87.9827 95.5953 L87.9827 101.475 L83.0984 101.475 L83.0984 95.5953 Z\" fill=\"#000000\" fill-rule=\"nonzero\" fill-opacity=\"1\" /><path clip-path=\"url(#clip050)\" d=\"M111.015 70.9889 L99.2095 89.4379 L111.015 89.4379 L111.015 70.9889 M109.788 66.9149 L115.668 66.9149 L115.668 89.4379 L120.598 89.4379 L120.598 93.3268 L115.668 93.3268 L115.668 101.475 L111.015 101.475 L111.015 93.3268 L95.4132 93.3268 L95.4132 88.8129 L109.788 66.9149 Z\" fill=\"#000000\" fill-rule=\"nonzero\" fill-opacity=\"1\" /><polyline clip-path=\"url(#clip052)\" style=\"stroke:#009af9; stroke-linecap:round; stroke-linejoin:round; stroke-width:4; stroke-opacity:1; fill:none\" points=\"218.754,1445.72 225.498,1445.59 232.242,1445.45 294.604,1443.49 356.966,1439.52 394.443,1435.52 431.92,1429.73 463.607,1422.97 495.293,1414 512.503,1408.01 529.713,1401.1 546.923,1393.19 564.133,1384.15 579.999,1374.73 595.866,1364.16 611.732,1352.36 627.598,1339.22 644.608,1323.56 661.618,1306.15 678.629,1286.88 695.639,1265.66 715.347,1238.51 735.055,1208.48 754.763,1175.5 774.471,1139.5 791.985,1104.97 809.499,1068.05 827.013,1028.82 844.528,987.337 859.886,949.213 875.244,909.564 890.603,868.52 905.961,826.231 939.45,730.584 972.94,632.068 1006.63,532.729 1040.32,436.176 1049.63,410.412 1058.94,385.178 1068.25,360.545 1077.56,336.582 1086.88,313.359 1096.19,290.942 1105.5,269.4 1114.81,248.795 1123.67,230.119 1132.53,212.402 1141.39,195.694 1150.25,180.041 1159.11,165.491 1167.97,152.084 1176.83,139.86 1185.69,128.855 1194.9,118.74 1204.11,110.01 1213.33,102.694 1222.54,96.8164 1231.75,92.3952 1240.96,89.4453 1250.17,87.9763 1259.39,87.993 1267.14,89.159 1274.9,91.3751 1282.65,94.6361 1290.41,98.9347 1298.16,104.261 1305.92,110.602 1313.67,117.944 1321.42,126.269 1330.89,137.74 1340.36,150.609 1349.83,164.834 1359.3,180.367 1368.76,197.157 1378.23,215.149 1387.7,234.283 1397.17,254.498 1414.51,294.127 1431.86,336.752 1440.53,359.053 1449.2,381.94 1457.88,405.355 1466.55,429.243 1498.59,520.66 1530.63,614.95 1563.09,710.683 1595.54,804.19 1613.73,854.821 1631.92,903.785 1650.1,950.822 1668.29,995.714 1684.77,1034.4 1701.25,1071.09 1717.73,1105.71 1734.21,1138.23 1753.08,1172.85 1771.95,1204.71 1790.82,1233.85 1809.69,1260.34 1827.16,1282.6 1844.63,1302.78 1862.1,1320.97 1879.57,1337.31 1896.8,1351.71 1914.02,1364.53 1931.25,1375.91 1948.47,1385.95 1965.19,1394.53 1981.92,1402.07 1998.64,1408.67 2015.36,1414.42 2049.65,1423.91 2083.94,1430.89 2121.5,1436.34 2159.07,1440.08 2213.64,1443.44 2268.21,1445.25 2279.41,1445.5 2290.6,1445.72 \"/>\n",
       "<path clip-path=\"url(#clip050)\" d=\"M2007.5 198.898 L2279.55 198.898 L2279.55 95.2176 L2007.5 95.2176  Z\" fill=\"#ffffff\" fill-rule=\"evenodd\" fill-opacity=\"1\"/>\n",
       "<polyline clip-path=\"url(#clip050)\" style=\"stroke:#000000; stroke-linecap:round; stroke-linejoin:round; stroke-width:4; stroke-opacity:1; fill:none\" points=\"2007.5,198.898 2279.55,198.898 2279.55,95.2176 2007.5,95.2176 2007.5,198.898 \"/>\n",
       "<polyline clip-path=\"url(#clip050)\" style=\"stroke:#009af9; stroke-linecap:round; stroke-linejoin:round; stroke-width:4; stroke-opacity:1; fill:none\" points=\"2031.91,147.058 2178.32,147.058 \"/>\n",
       "<path clip-path=\"url(#clip050)\" d=\"M2216.56 166.745 Q2214.76 171.375 2213.04 172.787 Q2211.33 174.199 2208.46 174.199 L2205.06 174.199 L2205.06 170.634 L2207.56 170.634 Q2209.32 170.634 2210.29 169.8 Q2211.26 168.967 2212.44 165.865 L2213.2 163.921 L2202.72 138.412 L2207.23 138.412 L2215.33 158.689 L2223.44 138.412 L2227.95 138.412 L2216.56 166.745 Z\" fill=\"#000000\" fill-rule=\"nonzero\" fill-opacity=\"1\" /><path clip-path=\"url(#clip050)\" d=\"M2235.24 160.402 L2242.88 160.402 L2242.88 134.037 L2234.57 135.703 L2234.57 131.444 L2242.83 129.778 L2247.51 129.778 L2247.51 160.402 L2255.15 160.402 L2255.15 164.338 L2235.24 164.338 L2235.24 160.402 Z\" fill=\"#000000\" fill-rule=\"nonzero\" fill-opacity=\"1\" /></svg>\n"
      ]
     },
     "execution_count": 44,
     "metadata": {},
     "output_type": "execute_result"
    }
   ],
   "source": [
    "using StatsPlots\n",
    "d = Normal(2.0, 1.0)\n",
    "plot(d)    # no other arguments"
   ]
  },
  {
   "cell_type": "markdown",
   "id": "c330c731-efb6-425d-ac83-749c721271a0",
   "metadata": {},
   "source": [
    "Calling `plot` on any subtype of `Distribuytions{Univariate, Continuous}` displays the pdf and uses the `maximum` and the `minimum` to define the range."
   ]
  },
  {
   "cell_type": "code",
   "execution_count": 47,
   "id": "4172849b-f1e8-47bb-b79a-8972011c07f9",
   "metadata": {},
   "outputs": [],
   "source": [
    "struct OurTruncatedExponential <: Distribution{Univariate, Continuous}\n",
    "    alpha::Float64\n",
    "    xmax::Float64\n",
    "end\n",
    "\n",
    "function Distributions.pdf(d::OurTruncatedExponential, x::Real)\n",
    "    d.alpha * exp(-d.alpha * x) / exp(-d.alpha * d.xmax)\n",
    "end\n",
    "\n",
    "Distributions.minimum(d::OurTruncatedExponential) = 0\n",
    "Distributions.maximum(d::OurTruncatedExponential) = d.xmax\n"
   ]
  },
  {
   "cell_type": "code",
   "execution_count": 48,
   "id": "12eaf292-c272-46f0-89d4-fe0fd6d80026",
   "metadata": {},
   "outputs": [
    {
     "data": {
      "text/plain": [
       "OurTruncatedExponential(alpha=1.0, xmax=2.0)"
      ]
     },
     "execution_count": 48,
     "metadata": {},
     "output_type": "execute_result"
    }
   ],
   "source": [
    "d = OurTruncatedExponential(1.0, 2.0)"
   ]
  },
  {
   "cell_type": "code",
   "execution_count": 49,
   "id": "c12689f7-b4a9-430f-900d-d9e57d53061a",
   "metadata": {},
   "outputs": [
    {
     "name": "stdout",
     "output_type": "stream",
     "text": [
      "(minimum(d), maximum(d)) = (0, 2.0)\n"
     ]
    },
    {
     "data": {
      "text/plain": [
       "(0, 2.0)"
      ]
     },
     "execution_count": 49,
     "metadata": {},
     "output_type": "execute_result"
    }
   ],
   "source": [
    "@show minimum(d), maximum(d)"
   ]
  },
  {
   "cell_type": "code",
   "execution_count": 50,
   "id": "aeb5b87c-b638-429d-b8a2-c39a58b9557d",
   "metadata": {},
   "outputs": [
    {
     "name": "stdout",
     "output_type": "stream",
     "text": [
      "support(d) = RealInterval{Float64}(0.0, 2.0)\n"
     ]
    },
    {
     "data": {
      "text/plain": [
       "RealInterval{Float64}(0.0, 2.0)"
      ]
     },
     "execution_count": 50,
     "metadata": {},
     "output_type": "execute_result"
    }
   ],
   "source": [
    "@show support(d)"
   ]
  },
  {
   "cell_type": "code",
   "execution_count": null,
   "id": "50eafe9e-7b91-4cce-8c15-3ad430b980a6",
   "metadata": {},
   "outputs": [],
   "source": []
  }
 ],
 "metadata": {
  "kernelspec": {
   "display_name": "Julia 1.10.4",
   "language": "julia",
   "name": "julia-1.10"
  },
  "language_info": {
   "file_extension": ".jl",
   "mimetype": "application/julia",
   "name": "julia",
   "version": "1.10.4"
  }
 },
 "nbformat": 4,
 "nbformat_minor": 5
}
