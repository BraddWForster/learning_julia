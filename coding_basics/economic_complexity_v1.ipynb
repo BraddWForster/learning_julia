{
 "cells": [
  {
   "cell_type": "code",
   "execution_count": 1,
   "id": "7ee64b9c-022c-4f17-b80d-75d9f520566b",
   "metadata": {},
   "outputs": [],
   "source": [
    "using CSV, Plots, DataFrames, Statistics, Plots  # packages"
   ]
  },
  {
   "cell_type": "code",
   "execution_count": 2,
   "id": "64869f0a-9a26-4f7d-9a81-c2999d4b514a",
   "metadata": {},
   "outputs": [],
   "source": [
    "path = \"C:/Users/bradd/Downloads\"  # making the path\n",
    "cd(path)  # setting the path\n",
    "df = CSV.read(\"specialisation_index_r_v4.csv\", DataFrame);  # read in data"
   ]
  },
  {
   "cell_type": "code",
   "execution_count": 8,
   "id": "6046792d-f88e-4aa9-a71d-65e878bab132",
   "metadata": {},
   "outputs": [
    {
     "data": {
      "text/plain": [
       "Matrix{Int64}\u001b[90m (alias for \u001b[39m\u001b[90mArray{Int64, 2}\u001b[39m\u001b[90m)\u001b[39m"
      ]
     },
     "execution_count": 8,
     "metadata": {},
     "output_type": "execute_result"
    }
   ],
   "source": [
    "data = Matrix(select(df, Not(1:3)))  # make the data a matrix\n",
    "typeof(data)  # check the type "
   ]
  },
  {
   "cell_type": "code",
   "execution_count": 10,
   "id": "943884ec-5420-4301-a04c-c1e15a006657",
   "metadata": {},
   "outputs": [
    {
     "data": {
      "text/plain": [
       "492-element Vector{Int64}:\n",
       " 0\n",
       " 1\n",
       " 0\n",
       " 1\n",
       " 1\n",
       " 0\n",
       " 1\n",
       " 1\n",
       " 0\n",
       " 1\n",
       " 0\n",
       " 0\n",
       " 0\n",
       " ⋮\n",
       " 0\n",
       " 0\n",
       " 1\n",
       " 0\n",
       " 0\n",
       " 0\n",
       " 1\n",
       " 0\n",
       " 0\n",
       " 0\n",
       " 0\n",
       " 0"
      ]
     },
     "execution_count": 10,
     "metadata": {},
     "output_type": "execute_result"
    }
   ],
   "source": [
    "data[1,:]"
   ]
  },
  {
   "cell_type": "code",
   "execution_count": null,
   "id": "9c4965b5-ac38-4f54-8887-ebdc59543f30",
   "metadata": {},
   "outputs": [],
   "source": []
  }
 ],
 "metadata": {
  "kernelspec": {
   "display_name": "Julia 1.11.6",
   "language": "julia",
   "name": "julia-1.11"
  },
  "language_info": {
   "file_extension": ".jl",
   "mimetype": "application/julia",
   "name": "julia",
   "version": "1.11.6"
  }
 },
 "nbformat": 4,
 "nbformat_minor": 5
}
